{
 "cells": [
  {
   "cell_type": "code",
   "execution_count": 1,
   "metadata": {},
   "outputs": [],
   "source": [
    "import numpy as np\n",
    "import pandas as pd\n",
    "import seaborn as sns\n",
    "import matplotlib.pyplot as plt\n",
    "%matplotlib inline"
   ]
  },
  {
   "cell_type": "code",
   "execution_count": 2,
   "metadata": {},
   "outputs": [],
   "source": [
    "df = pd.read_excel('preprocessed data.xlsx')"
   ]
  },
  {
   "cell_type": "code",
   "execution_count": 3,
   "metadata": {},
   "outputs": [
    {
     "data": {
      "text/html": [
       "<div>\n",
       "<style scoped>\n",
       "    .dataframe tbody tr th:only-of-type {\n",
       "        vertical-align: middle;\n",
       "    }\n",
       "\n",
       "    .dataframe tbody tr th {\n",
       "        vertical-align: top;\n",
       "    }\n",
       "\n",
       "    .dataframe thead th {\n",
       "        text-align: right;\n",
       "    }\n",
       "</style>\n",
       "<table border=\"1\" class=\"dataframe\">\n",
       "  <thead>\n",
       "    <tr style=\"text-align: right;\">\n",
       "      <th></th>\n",
       "      <th>target</th>\n",
       "      <th>tumor size</th>\n",
       "      <th>node status of the tumor</th>\n",
       "      <th>Age of the patient</th>\n",
       "      <th>tumor grade</th>\n",
       "    </tr>\n",
       "  </thead>\n",
       "  <tbody>\n",
       "    <tr>\n",
       "      <th>0</th>\n",
       "      <td>0</td>\n",
       "      <td>2</td>\n",
       "      <td>1</td>\n",
       "      <td>60</td>\n",
       "      <td>3</td>\n",
       "    </tr>\n",
       "    <tr>\n",
       "      <th>1</th>\n",
       "      <td>0</td>\n",
       "      <td>1</td>\n",
       "      <td>1</td>\n",
       "      <td>55</td>\n",
       "      <td>2</td>\n",
       "    </tr>\n",
       "    <tr>\n",
       "      <th>2</th>\n",
       "      <td>0</td>\n",
       "      <td>1</td>\n",
       "      <td>1</td>\n",
       "      <td>33</td>\n",
       "      <td>3</td>\n",
       "    </tr>\n",
       "    <tr>\n",
       "      <th>3</th>\n",
       "      <td>0</td>\n",
       "      <td>1</td>\n",
       "      <td>1</td>\n",
       "      <td>67</td>\n",
       "      <td>2</td>\n",
       "    </tr>\n",
       "    <tr>\n",
       "      <th>4</th>\n",
       "      <td>0</td>\n",
       "      <td>1</td>\n",
       "      <td>1</td>\n",
       "      <td>47</td>\n",
       "      <td>2</td>\n",
       "    </tr>\n",
       "  </tbody>\n",
       "</table>\n",
       "</div>"
      ],
      "text/plain": [
       "   target  tumor size  node status of the tumor  Age of the patient  \\\n",
       "0       0           2                         1                  60   \n",
       "1       0           1                         1                  55   \n",
       "2       0           1                         1                  33   \n",
       "3       0           1                         1                  67   \n",
       "4       0           1                         1                  47   \n",
       "\n",
       "   tumor grade  \n",
       "0            3  \n",
       "1            2  \n",
       "2            3  \n",
       "3            2  \n",
       "4            2  "
      ]
     },
     "execution_count": 3,
     "metadata": {},
     "output_type": "execute_result"
    }
   ],
   "source": [
    "df.head()"
   ]
  },
  {
   "cell_type": "code",
   "execution_count": 4,
   "metadata": {},
   "outputs": [
    {
     "data": {
      "text/html": [
       "<div>\n",
       "<style scoped>\n",
       "    .dataframe tbody tr th:only-of-type {\n",
       "        vertical-align: middle;\n",
       "    }\n",
       "\n",
       "    .dataframe tbody tr th {\n",
       "        vertical-align: top;\n",
       "    }\n",
       "\n",
       "    .dataframe thead th {\n",
       "        text-align: right;\n",
       "    }\n",
       "</style>\n",
       "<table border=\"1\" class=\"dataframe\">\n",
       "  <thead>\n",
       "    <tr style=\"text-align: right;\">\n",
       "      <th></th>\n",
       "      <th>target</th>\n",
       "      <th>tumor size</th>\n",
       "      <th>node status of the tumor</th>\n",
       "      <th>Age of the patient</th>\n",
       "      <th>tumor grade</th>\n",
       "    </tr>\n",
       "  </thead>\n",
       "  <tbody>\n",
       "    <tr>\n",
       "      <th>count</th>\n",
       "      <td>234.000000</td>\n",
       "      <td>234.000000</td>\n",
       "      <td>234.000000</td>\n",
       "      <td>234.000000</td>\n",
       "      <td>234.000000</td>\n",
       "    </tr>\n",
       "    <tr>\n",
       "      <th>mean</th>\n",
       "      <td>0.183761</td>\n",
       "      <td>1.944444</td>\n",
       "      <td>0.705128</td>\n",
       "      <td>48.974359</td>\n",
       "      <td>2.598291</td>\n",
       "    </tr>\n",
       "    <tr>\n",
       "      <th>std</th>\n",
       "      <td>0.388119</td>\n",
       "      <td>0.525234</td>\n",
       "      <td>0.670193</td>\n",
       "      <td>10.551294</td>\n",
       "      <td>0.533188</td>\n",
       "    </tr>\n",
       "    <tr>\n",
       "      <th>min</th>\n",
       "      <td>0.000000</td>\n",
       "      <td>1.000000</td>\n",
       "      <td>0.000000</td>\n",
       "      <td>25.000000</td>\n",
       "      <td>1.000000</td>\n",
       "    </tr>\n",
       "    <tr>\n",
       "      <th>25%</th>\n",
       "      <td>0.000000</td>\n",
       "      <td>2.000000</td>\n",
       "      <td>0.000000</td>\n",
       "      <td>41.000000</td>\n",
       "      <td>2.000000</td>\n",
       "    </tr>\n",
       "    <tr>\n",
       "      <th>50%</th>\n",
       "      <td>0.000000</td>\n",
       "      <td>2.000000</td>\n",
       "      <td>1.000000</td>\n",
       "      <td>49.000000</td>\n",
       "      <td>3.000000</td>\n",
       "    </tr>\n",
       "    <tr>\n",
       "      <th>75%</th>\n",
       "      <td>0.000000</td>\n",
       "      <td>2.000000</td>\n",
       "      <td>1.000000</td>\n",
       "      <td>56.750000</td>\n",
       "      <td>3.000000</td>\n",
       "    </tr>\n",
       "    <tr>\n",
       "      <th>max</th>\n",
       "      <td>1.000000</td>\n",
       "      <td>3.000000</td>\n",
       "      <td>3.000000</td>\n",
       "      <td>75.000000</td>\n",
       "      <td>3.000000</td>\n",
       "    </tr>\n",
       "  </tbody>\n",
       "</table>\n",
       "</div>"
      ],
      "text/plain": [
       "           target  tumor size  node status of the tumor  Age of the patient  \\\n",
       "count  234.000000  234.000000                234.000000          234.000000   \n",
       "mean     0.183761    1.944444                  0.705128           48.974359   \n",
       "std      0.388119    0.525234                  0.670193           10.551294   \n",
       "min      0.000000    1.000000                  0.000000           25.000000   \n",
       "25%      0.000000    2.000000                  0.000000           41.000000   \n",
       "50%      0.000000    2.000000                  1.000000           49.000000   \n",
       "75%      0.000000    2.000000                  1.000000           56.750000   \n",
       "max      1.000000    3.000000                  3.000000           75.000000   \n",
       "\n",
       "       tumor grade  \n",
       "count   234.000000  \n",
       "mean      2.598291  \n",
       "std       0.533188  \n",
       "min       1.000000  \n",
       "25%       2.000000  \n",
       "50%       3.000000  \n",
       "75%       3.000000  \n",
       "max       3.000000  "
      ]
     },
     "execution_count": 4,
     "metadata": {},
     "output_type": "execute_result"
    }
   ],
   "source": [
    "df.describe()"
   ]
  },
  {
   "cell_type": "code",
   "execution_count": 5,
   "metadata": {},
   "outputs": [],
   "source": [
    "from sklearn.model_selection import train_test_split"
   ]
  },
  {
   "cell_type": "code",
   "execution_count": 6,
   "metadata": {},
   "outputs": [],
   "source": [
    "X_res = df.iloc[:,1:].values\n",
    "y_res = df.iloc[:,0].values"
   ]
  },
  {
   "cell_type": "code",
   "execution_count": 7,
   "metadata": {},
   "outputs": [
    {
     "data": {
      "text/plain": [
       "array([[ 2,  1, 60,  3],\n",
       "       [ 1,  1, 55,  2],\n",
       "       [ 1,  1, 33,  3],\n",
       "       [ 1,  1, 67,  2],\n",
       "       [ 1,  1, 47,  2],\n",
       "       [ 1,  1, 40,  3],\n",
       "       [ 1,  1, 45,  2],\n",
       "       [ 1,  1, 26,  2],\n",
       "       [ 1,  1, 65,  3],\n",
       "       [ 1,  1, 58,  2],\n",
       "       [ 1,  1, 61,  2],\n",
       "       [ 1,  1, 35,  3],\n",
       "       [ 1,  1, 48,  3],\n",
       "       [ 1,  1, 60,  3],\n",
       "       [ 1,  1, 47,  3],\n",
       "       [ 1,  1, 56,  3],\n",
       "       [ 2,  1, 56,  2],\n",
       "       [ 2,  1, 46,  3],\n",
       "       [ 2,  1, 33,  2],\n",
       "       [ 2,  1, 38,  2],\n",
       "       [ 2,  1, 69,  3],\n",
       "       [ 2,  1, 45,  3],\n",
       "       [ 2,  1, 53,  3],\n",
       "       [ 2,  0, 55,  2],\n",
       "       [ 2,  0, 54,  2],\n",
       "       [ 2,  0, 30,  2],\n",
       "       [ 2,  0, 50,  3],\n",
       "       [ 2,  0, 38,  3],\n",
       "       [ 2,  0, 43,  3],\n",
       "       [ 2,  0, 40,  3],\n",
       "       [ 2,  0, 60,  3],\n",
       "       [ 2,  0, 48,  3],\n",
       "       [ 2,  0, 41,  3],\n",
       "       [ 2,  0, 53,  2],\n",
       "       [ 2,  0, 50,  2],\n",
       "       [ 2,  0, 45,  3],\n",
       "       [ 2,  0, 58,  2],\n",
       "       [ 2,  0, 60,  3],\n",
       "       [ 2,  0, 34,  2],\n",
       "       [ 2,  0, 55,  3],\n",
       "       [ 2,  0, 49,  3],\n",
       "       [ 2,  0, 43,  3],\n",
       "       [ 2,  0, 57,  3],\n",
       "       [ 2,  0, 44,  2],\n",
       "       [ 2,  0, 55,  3],\n",
       "       [ 2,  0, 48,  2],\n",
       "       [ 2,  0, 54,  3],\n",
       "       [ 2,  0, 51,  2],\n",
       "       [ 2,  0, 41,  3],\n",
       "       [ 2,  0, 33,  3],\n",
       "       [ 2,  0, 41,  3],\n",
       "       [ 2,  0, 54,  2],\n",
       "       [ 2,  0, 57,  2],\n",
       "       [ 2,  0, 46,  2],\n",
       "       [ 2,  0, 31,  3],\n",
       "       [ 2,  0, 61,  3],\n",
       "       [ 2,  0, 45,  3],\n",
       "       [ 2,  0, 48,  3],\n",
       "       [ 2,  0, 40,  3],\n",
       "       [ 2,  0, 67,  3],\n",
       "       [ 2,  0, 36,  3],\n",
       "       [ 2,  0, 40,  3],\n",
       "       [ 2,  0, 49,  3],\n",
       "       [ 2,  0, 60,  3],\n",
       "       [ 2,  0, 49,  2],\n",
       "       [ 2,  0, 42,  3],\n",
       "       [ 2,  0, 57,  3],\n",
       "       [ 2,  0, 56,  2],\n",
       "       [ 2,  0, 55,  1],\n",
       "       [ 2,  0, 50,  3],\n",
       "       [ 2,  0, 52,  1],\n",
       "       [ 2,  0, 25,  3],\n",
       "       [ 2,  0, 56,  2],\n",
       "       [ 2,  0, 62,  3],\n",
       "       [ 2,  0, 51,  3],\n",
       "       [ 1,  1, 49,  3],\n",
       "       [ 1,  1, 72,  2],\n",
       "       [ 1,  1, 55,  3],\n",
       "       [ 1,  1, 37,  3],\n",
       "       [ 1,  1, 40,  2],\n",
       "       [ 1,  1, 60,  2],\n",
       "       [ 1,  1, 50,  3],\n",
       "       [ 1,  1, 44,  3],\n",
       "       [ 1,  1, 66,  3],\n",
       "       [ 3,  0, 46,  2],\n",
       "       [ 3,  0, 55,  2],\n",
       "       [ 3,  0, 37,  3],\n",
       "       [ 3,  0, 48,  2],\n",
       "       [ 3,  0, 45,  3],\n",
       "       [ 3,  0, 62,  3],\n",
       "       [ 3,  0, 55,  3],\n",
       "       [ 3,  0, 55,  3],\n",
       "       [ 3,  0, 35,  2],\n",
       "       [ 3,  0, 56,  2],\n",
       "       [ 2,  1, 54,  3],\n",
       "       [ 2,  1, 56,  3],\n",
       "       [ 2,  1, 51,  2],\n",
       "       [ 2,  1, 64,  2],\n",
       "       [ 2,  1, 62,  3],\n",
       "       [ 2,  1, 57,  3],\n",
       "       [ 2,  1, 55,  3],\n",
       "       [ 2,  1, 45,  3],\n",
       "       [ 2,  1, 65,  3],\n",
       "       [ 2,  1, 67,  2],\n",
       "       [ 2,  1, 46,  2],\n",
       "       [ 2,  1, 68,  3],\n",
       "       [ 2,  1, 60,  3],\n",
       "       [ 2,  1, 51,  2],\n",
       "       [ 2,  1, 55,  3],\n",
       "       [ 2,  1, 67,  3],\n",
       "       [ 2,  1, 26,  3],\n",
       "       [ 2,  1, 35,  2],\n",
       "       [ 2,  1, 26,  3],\n",
       "       [ 2,  1, 35,  3],\n",
       "       [ 2,  1, 47,  3],\n",
       "       [ 2,  1, 37,  3],\n",
       "       [ 2,  1, 52,  3],\n",
       "       [ 2,  1, 29,  3],\n",
       "       [ 2,  1, 44,  3],\n",
       "       [ 2,  1, 38,  3],\n",
       "       [ 2,  1, 40,  2],\n",
       "       [ 2,  1, 54,  2],\n",
       "       [ 2,  1, 37,  3],\n",
       "       [ 2,  0, 40,  2],\n",
       "       [ 2,  0, 40,  3],\n",
       "       [ 2,  0, 39,  3],\n",
       "       [ 2,  0, 48,  2],\n",
       "       [ 2,  0, 45,  2],\n",
       "       [ 2,  0, 39,  2],\n",
       "       [ 2,  0, 57,  3],\n",
       "       [ 2,  0, 38,  3],\n",
       "       [ 2,  0, 43,  3],\n",
       "       [ 2,  0, 46,  2],\n",
       "       [ 2,  0, 45,  3],\n",
       "       [ 2,  0, 38,  3],\n",
       "       [ 2,  0, 45,  3],\n",
       "       [ 2,  0, 59,  3],\n",
       "       [ 2,  0, 63,  1],\n",
       "       [ 2,  0, 51,  3],\n",
       "       [ 2,  0, 61,  3],\n",
       "       [ 2,  0, 53,  3],\n",
       "       [ 2,  0, 34,  2],\n",
       "       [ 2,  0, 47,  2],\n",
       "       [ 2,  0, 35,  2],\n",
       "       [ 2,  0, 44,  2],\n",
       "       [ 2,  0, 51,  3],\n",
       "       [ 2,  1, 45,  2],\n",
       "       [ 2,  1, 25,  3],\n",
       "       [ 2,  1, 57,  3],\n",
       "       [ 2,  1, 28,  3],\n",
       "       [ 2,  1, 37,  3],\n",
       "       [ 2,  1, 58,  3],\n",
       "       [ 2,  1, 63,  2],\n",
       "       [ 2,  1, 47,  3],\n",
       "       [ 2,  1, 35,  3],\n",
       "       [ 2,  1, 38,  3],\n",
       "       [ 2,  1, 39,  2],\n",
       "       [ 2,  1, 43,  3],\n",
       "       [ 2,  1, 45,  2],\n",
       "       [ 2,  1, 44,  2],\n",
       "       [ 2,  1, 52,  3],\n",
       "       [ 2,  1, 48,  3],\n",
       "       [ 2,  1, 32,  3],\n",
       "       [ 3,  1, 40,  2],\n",
       "       [ 2,  2, 49,  2],\n",
       "       [ 2,  2, 43,  3],\n",
       "       [ 2,  2, 52,  3],\n",
       "       [ 2,  2, 59,  3],\n",
       "       [ 2,  2, 50,  3],\n",
       "       [ 2,  2, 52,  3],\n",
       "       [ 2,  2, 53,  3],\n",
       "       [ 2,  2, 30,  2],\n",
       "       [ 2,  2, 38,  3],\n",
       "       [ 2,  2, 36,  3],\n",
       "       [ 3,  1, 70,  3],\n",
       "       [ 3,  1, 65,  3],\n",
       "       [ 3,  1, 38,  3],\n",
       "       [ 3,  1, 59,  2],\n",
       "       [ 3,  1, 42,  3],\n",
       "       [ 3,  1, 52,  3],\n",
       "       [ 3,  1, 62,  2],\n",
       "       [ 3,  1, 48,  2],\n",
       "       [ 3,  1, 43,  3],\n",
       "       [ 3,  2, 40,  3],\n",
       "       [ 3,  2, 45,  2],\n",
       "       [ 2,  2, 39,  3],\n",
       "       [ 2,  2, 44,  2],\n",
       "       [ 2,  2, 38,  3],\n",
       "       [ 2,  2, 35,  2],\n",
       "       [ 2,  2, 35,  3],\n",
       "       [ 2,  3, 73,  3],\n",
       "       [ 2,  0, 33,  3],\n",
       "       [ 2,  0, 68,  3],\n",
       "       [ 2,  0, 56,  3],\n",
       "       [ 2,  0, 53,  3],\n",
       "       [ 2,  0, 62,  2],\n",
       "       [ 2,  0, 55,  2],\n",
       "       [ 2,  0, 41,  3],\n",
       "       [ 2,  0, 61,  3],\n",
       "       [ 2,  0, 41,  2],\n",
       "       [ 2,  0, 62,  3],\n",
       "       [ 3,  0, 43,  3],\n",
       "       [ 2,  1, 66,  3],\n",
       "       [ 2,  1, 63,  3],\n",
       "       [ 2,  1, 38,  3],\n",
       "       [ 2,  1, 60,  3],\n",
       "       [ 2,  1, 45,  2],\n",
       "       [ 2,  1, 57,  2],\n",
       "       [ 2,  1, 58,  3],\n",
       "       [ 2,  1, 36,  2],\n",
       "       [ 2,  1, 62,  2],\n",
       "       [ 2,  1, 57,  2],\n",
       "       [ 1,  1, 47,  2],\n",
       "       [ 1,  1, 48,  2],\n",
       "       [ 1,  1, 43,  3],\n",
       "       [ 1,  1, 50,  2],\n",
       "       [ 1,  1, 47,  3],\n",
       "       [ 1,  1, 53,  3],\n",
       "       [ 1,  1, 41,  3],\n",
       "       [ 1,  1, 68,  2],\n",
       "       [ 1,  1, 45,  2],\n",
       "       [ 1,  1, 63,  1],\n",
       "       [ 1,  1, 52,  2],\n",
       "       [ 1,  1, 52,  3],\n",
       "       [ 1,  1, 65,  2],\n",
       "       [ 1,  2, 64,  1],\n",
       "       [ 2,  2, 54,  3],\n",
       "       [ 2,  2, 50,  3],\n",
       "       [ 2,  2, 75,  3],\n",
       "       [ 2,  2, 55,  2],\n",
       "       [ 3,  2, 45,  2],\n",
       "       [ 3,  2, 37,  3],\n",
       "       [ 3,  2, 58,  2],\n",
       "       [ 1,  1, 52,  2]])"
      ]
     },
     "execution_count": 7,
     "metadata": {},
     "output_type": "execute_result"
    }
   ],
   "source": [
    "X_res"
   ]
  },
  {
   "cell_type": "code",
   "execution_count": 8,
   "metadata": {},
   "outputs": [
    {
     "data": {
      "text/plain": [
       "array([0, 0, 0, 0, 0, 0, 0, 0, 0, 0, 0, 0, 0, 0, 0, 0, 0, 0, 0, 0, 0, 0,\n",
       "       0, 0, 0, 0, 0, 0, 0, 0, 0, 0, 0, 0, 0, 0, 0, 0, 0, 0, 0, 0, 0, 0,\n",
       "       0, 0, 0, 0, 0, 0, 0, 0, 0, 0, 0, 0, 0, 0, 0, 0, 0, 0, 0, 0, 0, 0,\n",
       "       0, 0, 0, 0, 0, 0, 0, 0, 0, 0, 0, 0, 0, 0, 0, 0, 0, 0, 0, 0, 0, 0,\n",
       "       0, 0, 0, 0, 0, 0, 0, 0, 0, 0, 0, 0, 0, 0, 0, 0, 0, 0, 0, 0, 0, 0,\n",
       "       0, 0, 0, 0, 0, 0, 0, 0, 0, 0, 0, 0, 0, 0, 0, 0, 0, 0, 0, 0, 0, 0,\n",
       "       0, 0, 0, 0, 0, 0, 0, 0, 0, 0, 0, 0, 0, 0, 0, 0, 0, 0, 0, 0, 0, 0,\n",
       "       0, 0, 0, 0, 0, 0, 0, 0, 0, 0, 0, 0, 0, 0, 0, 0, 0, 0, 0, 0, 0, 0,\n",
       "       0, 0, 0, 0, 0, 0, 0, 0, 0, 0, 0, 0, 0, 0, 0, 1, 1, 1, 1, 1, 1, 1,\n",
       "       1, 1, 1, 1, 1, 1, 1, 1, 1, 1, 1, 1, 1, 1, 1, 1, 1, 1, 1, 1, 1, 1,\n",
       "       1, 1, 1, 1, 1, 1, 1, 1, 1, 1, 1, 1, 1, 1])"
      ]
     },
     "execution_count": 8,
     "metadata": {},
     "output_type": "execute_result"
    }
   ],
   "source": [
    "y_res"
   ]
  },
  {
   "cell_type": "code",
   "execution_count": 9,
   "metadata": {},
   "outputs": [
    {
     "name": "stderr",
     "output_type": "stream",
     "text": [
      "Using TensorFlow backend.\n"
     ]
    }
   ],
   "source": [
    "from imblearn.over_sampling import RandomOverSampler"
   ]
  },
  {
   "cell_type": "code",
   "execution_count": 10,
   "metadata": {},
   "outputs": [],
   "source": [
    "os = RandomOverSampler()\n",
    "X_res,y_res = os.fit_sample(X_res,y_res)"
   ]
  },
  {
   "cell_type": "code",
   "execution_count": 11,
   "metadata": {},
   "outputs": [
    {
     "data": {
      "text/plain": [
       "(382, 4)"
      ]
     },
     "execution_count": 11,
     "metadata": {},
     "output_type": "execute_result"
    }
   ],
   "source": [
    "X_res.shape"
   ]
  },
  {
   "cell_type": "code",
   "execution_count": 12,
   "metadata": {},
   "outputs": [
    {
     "data": {
      "text/plain": [
       "(382,)"
      ]
     },
     "execution_count": 12,
     "metadata": {},
     "output_type": "execute_result"
    }
   ],
   "source": [
    "y_res.shape"
   ]
  },
  {
   "cell_type": "code",
   "execution_count": 13,
   "metadata": {},
   "outputs": [],
   "source": [
    "X_train, X_test, y_train, y_test = train_test_split(X_res,y_res, test_size=0.2, random_state=42)"
   ]
  },
  {
   "cell_type": "code",
   "execution_count": 14,
   "metadata": {},
   "outputs": [],
   "source": [
    "from sklearn.preprocessing import Normalizer"
   ]
  },
  {
   "cell_type": "code",
   "execution_count": 15,
   "metadata": {},
   "outputs": [],
   "source": [
    "scaler = Normalizer().fit(X_train)\n",
    "standarized_x = scaler.transform(X_train)\n",
    "standarized_x_test = scaler.transform(X_test)"
   ]
  },
  {
   "cell_type": "code",
   "execution_count": 16,
   "metadata": {},
   "outputs": [],
   "source": [
    "from sklearn.svm import SVC\n",
    "from sklearn.metrics import accuracy_score,confusion_matrix,classification_report"
   ]
  },
  {
   "cell_type": "code",
   "execution_count": 17,
   "metadata": {},
   "outputs": [],
   "source": [
    "model = SVC()"
   ]
  },
  {
   "cell_type": "code",
   "execution_count": 18,
   "metadata": {},
   "outputs": [
    {
     "name": "stdout",
     "output_type": "stream",
     "text": [
      "0.38961038961038963\n",
      "[[ 0 47]\n",
      " [ 0 30]]\n",
      "              precision    recall  f1-score   support\n",
      "\n",
      "           0       0.00      0.00      0.00        47\n",
      "           1       0.39      1.00      0.56        30\n",
      "\n",
      "    accuracy                           0.39        77\n",
      "   macro avg       0.19      0.50      0.28        77\n",
      "weighted avg       0.15      0.39      0.22        77\n",
      "\n"
     ]
    },
    {
     "name": "stderr",
     "output_type": "stream",
     "text": [
      "/home/nitin/anaconda3/lib/python3.7/site-packages/sklearn/metrics/_classification.py:1268: UndefinedMetricWarning: Precision and F-score are ill-defined and being set to 0.0 in labels with no predicted samples. Use `zero_division` parameter to control this behavior.\n",
      "  _warn_prf(average, modifier, msg_start, len(result))\n"
     ]
    }
   ],
   "source": [
    "model.fit(standarized_x,y_train)\n",
    "y_pred = model.predict(standarized_x_test)\n",
    "print(accuracy_score(y_test,y_pred))\n",
    "print(confusion_matrix(y_test,y_pred))\n",
    "print(classification_report(y_test,y_pred))"
   ]
  },
  {
   "cell_type": "code",
   "execution_count": 19,
   "metadata": {},
   "outputs": [
    {
     "data": {
      "text/plain": [
       "SVC(C=1.0, break_ties=False, cache_size=200, class_weight=None, coef0=0.0,\n",
       "    decision_function_shape='ovr', degree=3, gamma='scale', kernel='linear',\n",
       "    max_iter=-1, probability=False, random_state=0, shrinking=True, tol=0.001,\n",
       "    verbose=False)"
      ]
     },
     "execution_count": 19,
     "metadata": {},
     "output_type": "execute_result"
    }
   ],
   "source": [
    "from sklearn.svm import SVC\n",
    "classifier = SVC(kernel = 'linear', random_state = 0)\n",
    "classifier.fit(standarized_x,y_train)"
   ]
  },
  {
   "cell_type": "code",
   "execution_count": 20,
   "metadata": {},
   "outputs": [],
   "source": [
    "y_pred = classifier.predict(standarized_x_test)"
   ]
  },
  {
   "cell_type": "code",
   "execution_count": 21,
   "metadata": {},
   "outputs": [],
   "source": [
    "from sklearn.metrics import confusion_matrix\n",
    "cm = confusion_matrix(y_test, y_pred)"
   ]
  },
  {
   "cell_type": "code",
   "execution_count": 22,
   "metadata": {},
   "outputs": [],
   "source": [
    "from sklearn.metrics import accuracy_score\n",
    "accuracy=accuracy_score(y_test,y_pred)"
   ]
  },
  {
   "cell_type": "code",
   "execution_count": 23,
   "metadata": {},
   "outputs": [
    {
     "data": {
      "text/plain": [
       "0.38961038961038963"
      ]
     },
     "execution_count": 23,
     "metadata": {},
     "output_type": "execute_result"
    }
   ],
   "source": [
    "accuracy"
   ]
  },
  {
   "cell_type": "code",
   "execution_count": 24,
   "metadata": {},
   "outputs": [],
   "source": [
    "# Applying Grid Search to find the best model and the best parameters\n",
    "from sklearn.model_selection import GridSearchCV\n",
    "parameters = [{'C': [1, 10, 100, 1000,10000,100000], 'kernel': ['linear']},\n",
    "              {'C': [1, 10, 100, 1000,10000,100000], 'kernel': ['rbf'], 'gamma': [0.1, 0.2, 0.3, 0.4, 0.5, 0.6, 0.7, 0.8, 0.9]}]\n",
    "grid_search = GridSearchCV(estimator = classifier,\n",
    "                           param_grid = parameters,\n",
    "                           scoring = 'accuracy',\n",
    "                           cv = 10,\n",
    "                           n_jobs = -1)\n",
    "grid_search = grid_search.fit(standarized_x,y_train)"
   ]
  },
  {
   "cell_type": "code",
   "execution_count": 25,
   "metadata": {},
   "outputs": [],
   "source": [
    "accuracy = grid_search.best_score_"
   ]
  },
  {
   "cell_type": "code",
   "execution_count": 26,
   "metadata": {},
   "outputs": [
    {
     "data": {
      "text/plain": [
       "0.6720430107526882"
      ]
     },
     "execution_count": 26,
     "metadata": {},
     "output_type": "execute_result"
    }
   ],
   "source": [
    "accuracy"
   ]
  },
  {
   "cell_type": "code",
   "execution_count": 27,
   "metadata": {},
   "outputs": [
    {
     "data": {
      "text/plain": [
       "{'C': 100000, 'gamma': 0.4, 'kernel': 'rbf'}"
      ]
     },
     "execution_count": 27,
     "metadata": {},
     "output_type": "execute_result"
    }
   ],
   "source": [
    "grid_search.best_params_"
   ]
  },
  {
   "cell_type": "code",
   "execution_count": 33,
   "metadata": {},
   "outputs": [
    {
     "data": {
      "text/plain": [
       "SVC(C=10000, break_ties=False, cache_size=200, class_weight=None, coef0=0.0,\n",
       "    decision_function_shape='ovr', degree=3, gamma=0.4, kernel='rbf',\n",
       "    max_iter=-1, probability=False, random_state=None, shrinking=True,\n",
       "    tol=0.001, verbose=False)"
      ]
     },
     "execution_count": 33,
     "metadata": {},
     "output_type": "execute_result"
    }
   ],
   "source": [
    "classifier = SVC(C=10000 ,kernel = 'rbf', gamma=0.4)\n",
    "classifier.fit(standarized_x,y_train)"
   ]
  },
  {
   "cell_type": "code",
   "execution_count": 34,
   "metadata": {},
   "outputs": [],
   "source": [
    "y_pred = classifier.predict(standarized_x_test)"
   ]
  },
  {
   "cell_type": "code",
   "execution_count": 35,
   "metadata": {},
   "outputs": [],
   "source": [
    "from sklearn.metrics import confusion_matrix\n",
    "cm = confusion_matrix(y_test, y_pred)"
   ]
  },
  {
   "cell_type": "code",
   "execution_count": 36,
   "metadata": {},
   "outputs": [],
   "source": [
    "from sklearn.metrics import accuracy_score\n",
    "accuracy=accuracy_score(y_test,y_pred)"
   ]
  },
  {
   "cell_type": "code",
   "execution_count": 37,
   "metadata": {},
   "outputs": [
    {
     "data": {
      "text/plain": [
       "0.6233766233766234"
      ]
     },
     "execution_count": 37,
     "metadata": {},
     "output_type": "execute_result"
    }
   ],
   "source": [
    "accuracy"
   ]
  },
  {
   "cell_type": "code",
   "execution_count": null,
   "metadata": {},
   "outputs": [],
   "source": []
  },
  {
   "cell_type": "code",
   "execution_count": null,
   "metadata": {},
   "outputs": [],
   "source": []
  }
 ],
 "metadata": {
  "kernelspec": {
   "display_name": "Python 3",
   "language": "python",
   "name": "python3"
  },
  "language_info": {
   "codemirror_mode": {
    "name": "ipython",
    "version": 3
   },
   "file_extension": ".py",
   "mimetype": "text/x-python",
   "name": "python",
   "nbconvert_exporter": "python",
   "pygments_lexer": "ipython3",
   "version": "3.7.5"
  }
 },
 "nbformat": 4,
 "nbformat_minor": 2
}
