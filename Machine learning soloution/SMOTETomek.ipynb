{
 "cells": [
  {
   "cell_type": "code",
   "execution_count": 1,
   "metadata": {},
   "outputs": [],
   "source": [
    "import numpy as np\n",
    "import pandas as pd\n",
    "import seaborn as sns\n",
    "import matplotlib.pyplot as plt\n",
    "%matplotlib inline"
   ]
  },
  {
   "cell_type": "code",
   "execution_count": 2,
   "metadata": {},
   "outputs": [],
   "source": [
    "df = pd.read_excel('preprocessed data.xlsx')"
   ]
  },
  {
   "cell_type": "code",
   "execution_count": 3,
   "metadata": {},
   "outputs": [
    {
     "data": {
      "text/html": [
       "<div>\n",
       "<style scoped>\n",
       "    .dataframe tbody tr th:only-of-type {\n",
       "        vertical-align: middle;\n",
       "    }\n",
       "\n",
       "    .dataframe tbody tr th {\n",
       "        vertical-align: top;\n",
       "    }\n",
       "\n",
       "    .dataframe thead th {\n",
       "        text-align: right;\n",
       "    }\n",
       "</style>\n",
       "<table border=\"1\" class=\"dataframe\">\n",
       "  <thead>\n",
       "    <tr style=\"text-align: right;\">\n",
       "      <th></th>\n",
       "      <th>Unnamed: 0</th>\n",
       "      <th>sl.no.</th>\n",
       "      <th>0- Good Outcome/no recurrence\\n1- Bad Outcome/recurrence</th>\n",
       "      <th>tumor size</th>\n",
       "      <th>node status of the tumor</th>\n",
       "      <th>Age of the patient</th>\n",
       "      <th>tumor grade</th>\n",
       "      <th>A%-M</th>\n",
       "      <th>AI-M</th>\n",
       "      <th>A%-C</th>\n",
       "      <th>...</th>\n",
       "      <th>R%-C</th>\n",
       "      <th>U%-C</th>\n",
       "      <th>V%-C</th>\n",
       "      <th>W%-M</th>\n",
       "      <th>W%-C</th>\n",
       "      <th>ZA1%-M</th>\n",
       "      <th>ZA1%-C</th>\n",
       "      <th>ZB%-C</th>\n",
       "      <th>ZC%-C</th>\n",
       "      <th>ZD%-C</th>\n",
       "    </tr>\n",
       "  </thead>\n",
       "  <tbody>\n",
       "    <tr>\n",
       "      <th>0</th>\n",
       "      <td>0</td>\n",
       "      <td>1</td>\n",
       "      <td>0</td>\n",
       "      <td>2</td>\n",
       "      <td>1</td>\n",
       "      <td>60</td>\n",
       "      <td>3</td>\n",
       "      <td>0</td>\n",
       "      <td>2.5</td>\n",
       "      <td>70</td>\n",
       "      <td>...</td>\n",
       "      <td>70</td>\n",
       "      <td>80</td>\n",
       "      <td>75</td>\n",
       "      <td>70</td>\n",
       "      <td>60</td>\n",
       "      <td>85</td>\n",
       "      <td>60</td>\n",
       "      <td>80</td>\n",
       "      <td>85</td>\n",
       "      <td>70</td>\n",
       "    </tr>\n",
       "    <tr>\n",
       "      <th>1</th>\n",
       "      <td>1</td>\n",
       "      <td>2</td>\n",
       "      <td>0</td>\n",
       "      <td>1</td>\n",
       "      <td>1</td>\n",
       "      <td>55</td>\n",
       "      <td>2</td>\n",
       "      <td>15</td>\n",
       "      <td>2.0</td>\n",
       "      <td>20</td>\n",
       "      <td>...</td>\n",
       "      <td>75</td>\n",
       "      <td>80</td>\n",
       "      <td>75</td>\n",
       "      <td>80</td>\n",
       "      <td>60</td>\n",
       "      <td>85</td>\n",
       "      <td>60</td>\n",
       "      <td>80</td>\n",
       "      <td>80</td>\n",
       "      <td>80</td>\n",
       "    </tr>\n",
       "    <tr>\n",
       "      <th>2</th>\n",
       "      <td>2</td>\n",
       "      <td>3</td>\n",
       "      <td>0</td>\n",
       "      <td>1</td>\n",
       "      <td>1</td>\n",
       "      <td>33</td>\n",
       "      <td>3</td>\n",
       "      <td>0</td>\n",
       "      <td>2.5</td>\n",
       "      <td>70</td>\n",
       "      <td>...</td>\n",
       "      <td>60</td>\n",
       "      <td>75</td>\n",
       "      <td>70</td>\n",
       "      <td>70</td>\n",
       "      <td>70</td>\n",
       "      <td>55</td>\n",
       "      <td>70</td>\n",
       "      <td>75</td>\n",
       "      <td>80</td>\n",
       "      <td>75</td>\n",
       "    </tr>\n",
       "    <tr>\n",
       "      <th>3</th>\n",
       "      <td>3</td>\n",
       "      <td>4</td>\n",
       "      <td>0</td>\n",
       "      <td>1</td>\n",
       "      <td>1</td>\n",
       "      <td>67</td>\n",
       "      <td>2</td>\n",
       "      <td>0</td>\n",
       "      <td>2.0</td>\n",
       "      <td>45</td>\n",
       "      <td>...</td>\n",
       "      <td>70</td>\n",
       "      <td>75</td>\n",
       "      <td>60</td>\n",
       "      <td>45</td>\n",
       "      <td>70</td>\n",
       "      <td>60</td>\n",
       "      <td>70</td>\n",
       "      <td>75</td>\n",
       "      <td>80</td>\n",
       "      <td>80</td>\n",
       "    </tr>\n",
       "    <tr>\n",
       "      <th>4</th>\n",
       "      <td>4</td>\n",
       "      <td>5</td>\n",
       "      <td>0</td>\n",
       "      <td>1</td>\n",
       "      <td>1</td>\n",
       "      <td>47</td>\n",
       "      <td>2</td>\n",
       "      <td>0</td>\n",
       "      <td>0.0</td>\n",
       "      <td>0</td>\n",
       "      <td>...</td>\n",
       "      <td>75</td>\n",
       "      <td>75</td>\n",
       "      <td>80</td>\n",
       "      <td>70</td>\n",
       "      <td>75</td>\n",
       "      <td>85</td>\n",
       "      <td>75</td>\n",
       "      <td>80</td>\n",
       "      <td>80</td>\n",
       "      <td>80</td>\n",
       "    </tr>\n",
       "  </tbody>\n",
       "</table>\n",
       "<p>5 rows × 87 columns</p>\n",
       "</div>"
      ],
      "text/plain": [
       "   Unnamed: 0  sl.no.  \\\n",
       "0           0       1   \n",
       "1           1       2   \n",
       "2           2       3   \n",
       "3           3       4   \n",
       "4           4       5   \n",
       "\n",
       "   0- Good Outcome/no recurrence\\n1- Bad Outcome/recurrence  tumor size  \\\n",
       "0                                                  0                  2   \n",
       "1                                                  0                  1   \n",
       "2                                                  0                  1   \n",
       "3                                                  0                  1   \n",
       "4                                                  0                  1   \n",
       "\n",
       "   node status of the tumor  Age of the patient  tumor grade  A%-M  AI-M  \\\n",
       "0                         1                  60            3     0   2.5   \n",
       "1                         1                  55            2    15   2.0   \n",
       "2                         1                  33            3     0   2.5   \n",
       "3                         1                  67            2     0   2.0   \n",
       "4                         1                  47            2     0   0.0   \n",
       "\n",
       "   A%-C  ...  R%-C  U%-C  V%-C  W%-M  W%-C  ZA1%-M  ZA1%-C  ZB%-C  ZC%-C  \\\n",
       "0    70  ...    70    80    75    70    60      85      60     80     85   \n",
       "1    20  ...    75    80    75    80    60      85      60     80     80   \n",
       "2    70  ...    60    75    70    70    70      55      70     75     80   \n",
       "3    45  ...    70    75    60    45    70      60      70     75     80   \n",
       "4     0  ...    75    75    80    70    75      85      75     80     80   \n",
       "\n",
       "   ZD%-C  \n",
       "0     70  \n",
       "1     80  \n",
       "2     75  \n",
       "3     80  \n",
       "4     80  \n",
       "\n",
       "[5 rows x 87 columns]"
      ]
     },
     "execution_count": 3,
     "metadata": {},
     "output_type": "execute_result"
    }
   ],
   "source": [
    "df.head()"
   ]
  },
  {
   "cell_type": "code",
   "execution_count": 4,
   "metadata": {},
   "outputs": [
    {
     "data": {
      "text/html": [
       "<div>\n",
       "<style scoped>\n",
       "    .dataframe tbody tr th:only-of-type {\n",
       "        vertical-align: middle;\n",
       "    }\n",
       "\n",
       "    .dataframe tbody tr th {\n",
       "        vertical-align: top;\n",
       "    }\n",
       "\n",
       "    .dataframe thead th {\n",
       "        text-align: right;\n",
       "    }\n",
       "</style>\n",
       "<table border=\"1\" class=\"dataframe\">\n",
       "  <thead>\n",
       "    <tr style=\"text-align: right;\">\n",
       "      <th></th>\n",
       "      <th>Unnamed: 0</th>\n",
       "      <th>sl.no.</th>\n",
       "      <th>0- Good Outcome/no recurrence\\n1- Bad Outcome/recurrence</th>\n",
       "      <th>tumor size</th>\n",
       "      <th>node status of the tumor</th>\n",
       "      <th>Age of the patient</th>\n",
       "      <th>tumor grade</th>\n",
       "      <th>A%-M</th>\n",
       "      <th>AI-M</th>\n",
       "      <th>A%-C</th>\n",
       "      <th>...</th>\n",
       "      <th>R%-C</th>\n",
       "      <th>U%-C</th>\n",
       "      <th>V%-C</th>\n",
       "      <th>W%-M</th>\n",
       "      <th>W%-C</th>\n",
       "      <th>ZA1%-M</th>\n",
       "      <th>ZA1%-C</th>\n",
       "      <th>ZB%-C</th>\n",
       "      <th>ZC%-C</th>\n",
       "      <th>ZD%-C</th>\n",
       "    </tr>\n",
       "  </thead>\n",
       "  <tbody>\n",
       "    <tr>\n",
       "      <th>count</th>\n",
       "      <td>234.000000</td>\n",
       "      <td>234.000000</td>\n",
       "      <td>234.000000</td>\n",
       "      <td>234.000000</td>\n",
       "      <td>234.000000</td>\n",
       "      <td>234.000000</td>\n",
       "      <td>234.000000</td>\n",
       "      <td>234.000000</td>\n",
       "      <td>234.000000</td>\n",
       "      <td>234.000000</td>\n",
       "      <td>...</td>\n",
       "      <td>234.000000</td>\n",
       "      <td>234.000000</td>\n",
       "      <td>234.000000</td>\n",
       "      <td>234.000000</td>\n",
       "      <td>234.000000</td>\n",
       "      <td>234.000000</td>\n",
       "      <td>234.000000</td>\n",
       "      <td>234.000000</td>\n",
       "      <td>234.000000</td>\n",
       "      <td>234.000000</td>\n",
       "    </tr>\n",
       "    <tr>\n",
       "      <th>mean</th>\n",
       "      <td>116.500000</td>\n",
       "      <td>117.500000</td>\n",
       "      <td>0.183761</td>\n",
       "      <td>1.944444</td>\n",
       "      <td>0.705128</td>\n",
       "      <td>48.974359</td>\n",
       "      <td>2.598291</td>\n",
       "      <td>6.581197</td>\n",
       "      <td>1.737179</td>\n",
       "      <td>29.102564</td>\n",
       "      <td>...</td>\n",
       "      <td>73.846154</td>\n",
       "      <td>75.320513</td>\n",
       "      <td>71.559829</td>\n",
       "      <td>69.401709</td>\n",
       "      <td>70.170940</td>\n",
       "      <td>74.615385</td>\n",
       "      <td>70.170940</td>\n",
       "      <td>72.264957</td>\n",
       "      <td>76.303419</td>\n",
       "      <td>74.914530</td>\n",
       "    </tr>\n",
       "    <tr>\n",
       "      <th>std</th>\n",
       "      <td>67.694165</td>\n",
       "      <td>67.694165</td>\n",
       "      <td>0.388119</td>\n",
       "      <td>0.525234</td>\n",
       "      <td>0.670193</td>\n",
       "      <td>10.551294</td>\n",
       "      <td>0.533188</td>\n",
       "      <td>17.617168</td>\n",
       "      <td>0.849354</td>\n",
       "      <td>30.409335</td>\n",
       "      <td>...</td>\n",
       "      <td>6.804587</td>\n",
       "      <td>6.232602</td>\n",
       "      <td>7.427955</td>\n",
       "      <td>10.454528</td>\n",
       "      <td>8.957018</td>\n",
       "      <td>6.457316</td>\n",
       "      <td>8.957018</td>\n",
       "      <td>8.491241</td>\n",
       "      <td>5.851326</td>\n",
       "      <td>5.913646</td>\n",
       "    </tr>\n",
       "    <tr>\n",
       "      <th>min</th>\n",
       "      <td>0.000000</td>\n",
       "      <td>1.000000</td>\n",
       "      <td>0.000000</td>\n",
       "      <td>1.000000</td>\n",
       "      <td>0.000000</td>\n",
       "      <td>25.000000</td>\n",
       "      <td>1.000000</td>\n",
       "      <td>0.000000</td>\n",
       "      <td>0.000000</td>\n",
       "      <td>0.000000</td>\n",
       "      <td>...</td>\n",
       "      <td>60.000000</td>\n",
       "      <td>55.000000</td>\n",
       "      <td>50.000000</td>\n",
       "      <td>40.000000</td>\n",
       "      <td>40.000000</td>\n",
       "      <td>55.000000</td>\n",
       "      <td>40.000000</td>\n",
       "      <td>50.000000</td>\n",
       "      <td>55.000000</td>\n",
       "      <td>55.000000</td>\n",
       "    </tr>\n",
       "    <tr>\n",
       "      <th>25%</th>\n",
       "      <td>58.250000</td>\n",
       "      <td>59.250000</td>\n",
       "      <td>0.000000</td>\n",
       "      <td>2.000000</td>\n",
       "      <td>0.000000</td>\n",
       "      <td>41.000000</td>\n",
       "      <td>2.000000</td>\n",
       "      <td>0.000000</td>\n",
       "      <td>1.500000</td>\n",
       "      <td>0.000000</td>\n",
       "      <td>...</td>\n",
       "      <td>70.000000</td>\n",
       "      <td>70.000000</td>\n",
       "      <td>70.000000</td>\n",
       "      <td>65.000000</td>\n",
       "      <td>65.000000</td>\n",
       "      <td>70.000000</td>\n",
       "      <td>65.000000</td>\n",
       "      <td>70.000000</td>\n",
       "      <td>71.250000</td>\n",
       "      <td>70.000000</td>\n",
       "    </tr>\n",
       "    <tr>\n",
       "      <th>50%</th>\n",
       "      <td>116.500000</td>\n",
       "      <td>117.500000</td>\n",
       "      <td>0.000000</td>\n",
       "      <td>2.000000</td>\n",
       "      <td>1.000000</td>\n",
       "      <td>49.000000</td>\n",
       "      <td>3.000000</td>\n",
       "      <td>0.000000</td>\n",
       "      <td>2.000000</td>\n",
       "      <td>20.000000</td>\n",
       "      <td>...</td>\n",
       "      <td>75.000000</td>\n",
       "      <td>75.000000</td>\n",
       "      <td>70.000000</td>\n",
       "      <td>70.000000</td>\n",
       "      <td>70.000000</td>\n",
       "      <td>75.000000</td>\n",
       "      <td>70.000000</td>\n",
       "      <td>70.000000</td>\n",
       "      <td>80.000000</td>\n",
       "      <td>75.000000</td>\n",
       "    </tr>\n",
       "    <tr>\n",
       "      <th>75%</th>\n",
       "      <td>174.750000</td>\n",
       "      <td>175.750000</td>\n",
       "      <td>0.000000</td>\n",
       "      <td>2.000000</td>\n",
       "      <td>1.000000</td>\n",
       "      <td>56.750000</td>\n",
       "      <td>3.000000</td>\n",
       "      <td>0.000000</td>\n",
       "      <td>2.000000</td>\n",
       "      <td>60.000000</td>\n",
       "      <td>...</td>\n",
       "      <td>80.000000</td>\n",
       "      <td>80.000000</td>\n",
       "      <td>75.000000</td>\n",
       "      <td>75.000000</td>\n",
       "      <td>78.750000</td>\n",
       "      <td>80.000000</td>\n",
       "      <td>78.750000</td>\n",
       "      <td>80.000000</td>\n",
       "      <td>80.000000</td>\n",
       "      <td>80.000000</td>\n",
       "    </tr>\n",
       "    <tr>\n",
       "      <th>max</th>\n",
       "      <td>233.000000</td>\n",
       "      <td>234.000000</td>\n",
       "      <td>1.000000</td>\n",
       "      <td>3.000000</td>\n",
       "      <td>3.000000</td>\n",
       "      <td>75.000000</td>\n",
       "      <td>3.000000</td>\n",
       "      <td>80.000000</td>\n",
       "      <td>3.000000</td>\n",
       "      <td>80.000000</td>\n",
       "      <td>...</td>\n",
       "      <td>90.000000</td>\n",
       "      <td>90.000000</td>\n",
       "      <td>90.000000</td>\n",
       "      <td>95.000000</td>\n",
       "      <td>85.000000</td>\n",
       "      <td>90.000000</td>\n",
       "      <td>85.000000</td>\n",
       "      <td>85.000000</td>\n",
       "      <td>90.000000</td>\n",
       "      <td>85.000000</td>\n",
       "    </tr>\n",
       "  </tbody>\n",
       "</table>\n",
       "<p>8 rows × 87 columns</p>\n",
       "</div>"
      ],
      "text/plain": [
       "       Unnamed: 0      sl.no.  \\\n",
       "count  234.000000  234.000000   \n",
       "mean   116.500000  117.500000   \n",
       "std     67.694165   67.694165   \n",
       "min      0.000000    1.000000   \n",
       "25%     58.250000   59.250000   \n",
       "50%    116.500000  117.500000   \n",
       "75%    174.750000  175.750000   \n",
       "max    233.000000  234.000000   \n",
       "\n",
       "       0- Good Outcome/no recurrence\\n1- Bad Outcome/recurrence  tumor size  \\\n",
       "count                                         234.000000         234.000000   \n",
       "mean                                            0.183761           1.944444   \n",
       "std                                             0.388119           0.525234   \n",
       "min                                             0.000000           1.000000   \n",
       "25%                                             0.000000           2.000000   \n",
       "50%                                             0.000000           2.000000   \n",
       "75%                                             0.000000           2.000000   \n",
       "max                                             1.000000           3.000000   \n",
       "\n",
       "       node status of the tumor  Age of the patient  tumor grade        A%-M  \\\n",
       "count                234.000000          234.000000   234.000000  234.000000   \n",
       "mean                   0.705128           48.974359     2.598291    6.581197   \n",
       "std                    0.670193           10.551294     0.533188   17.617168   \n",
       "min                    0.000000           25.000000     1.000000    0.000000   \n",
       "25%                    0.000000           41.000000     2.000000    0.000000   \n",
       "50%                    1.000000           49.000000     3.000000    0.000000   \n",
       "75%                    1.000000           56.750000     3.000000    0.000000   \n",
       "max                    3.000000           75.000000     3.000000   80.000000   \n",
       "\n",
       "             AI-M        A%-C  ...        R%-C        U%-C        V%-C  \\\n",
       "count  234.000000  234.000000  ...  234.000000  234.000000  234.000000   \n",
       "mean     1.737179   29.102564  ...   73.846154   75.320513   71.559829   \n",
       "std      0.849354   30.409335  ...    6.804587    6.232602    7.427955   \n",
       "min      0.000000    0.000000  ...   60.000000   55.000000   50.000000   \n",
       "25%      1.500000    0.000000  ...   70.000000   70.000000   70.000000   \n",
       "50%      2.000000   20.000000  ...   75.000000   75.000000   70.000000   \n",
       "75%      2.000000   60.000000  ...   80.000000   80.000000   75.000000   \n",
       "max      3.000000   80.000000  ...   90.000000   90.000000   90.000000   \n",
       "\n",
       "             W%-M        W%-C      ZA1%-M      ZA1%-C       ZB%-C       ZC%-C  \\\n",
       "count  234.000000  234.000000  234.000000  234.000000  234.000000  234.000000   \n",
       "mean    69.401709   70.170940   74.615385   70.170940   72.264957   76.303419   \n",
       "std     10.454528    8.957018    6.457316    8.957018    8.491241    5.851326   \n",
       "min     40.000000   40.000000   55.000000   40.000000   50.000000   55.000000   \n",
       "25%     65.000000   65.000000   70.000000   65.000000   70.000000   71.250000   \n",
       "50%     70.000000   70.000000   75.000000   70.000000   70.000000   80.000000   \n",
       "75%     75.000000   78.750000   80.000000   78.750000   80.000000   80.000000   \n",
       "max     95.000000   85.000000   90.000000   85.000000   85.000000   90.000000   \n",
       "\n",
       "            ZD%-C  \n",
       "count  234.000000  \n",
       "mean    74.914530  \n",
       "std      5.913646  \n",
       "min     55.000000  \n",
       "25%     70.000000  \n",
       "50%     75.000000  \n",
       "75%     80.000000  \n",
       "max     85.000000  \n",
       "\n",
       "[8 rows x 87 columns]"
      ]
     },
     "execution_count": 4,
     "metadata": {},
     "output_type": "execute_result"
    }
   ],
   "source": [
    "df.describe()"
   ]
  },
  {
   "cell_type": "code",
   "execution_count": 5,
   "metadata": {},
   "outputs": [],
   "source": [
    "from sklearn.model_selection import train_test_split"
   ]
  },
  {
   "cell_type": "code",
   "execution_count": 6,
   "metadata": {},
   "outputs": [],
   "source": [
    "X_res = df.iloc[:,3:].values\n",
    "y_res = df.iloc[:,2].values"
   ]
  },
  {
   "cell_type": "code",
   "execution_count": 7,
   "metadata": {},
   "outputs": [
    {
     "name": "stderr",
     "output_type": "stream",
     "text": [
      "Using TensorFlow backend.\n"
     ]
    }
   ],
   "source": [
    "from imblearn.under_sampling import NearMiss\n",
    "from imblearn.combine import SMOTETomek"
   ]
  },
  {
   "cell_type": "code",
   "execution_count": 8,
   "metadata": {},
   "outputs": [],
   "source": [
    "os = SMOTETomek()\n",
    "X_res,y_res = os.fit_sample(X_res,y_res)"
   ]
  },
  {
   "cell_type": "code",
   "execution_count": 9,
   "metadata": {},
   "outputs": [
    {
     "data": {
      "text/plain": [
       "(382, 84)"
      ]
     },
     "execution_count": 9,
     "metadata": {},
     "output_type": "execute_result"
    }
   ],
   "source": [
    "X_res.shape"
   ]
  },
  {
   "cell_type": "code",
   "execution_count": 10,
   "metadata": {},
   "outputs": [
    {
     "data": {
      "text/plain": [
       "(382,)"
      ]
     },
     "execution_count": 10,
     "metadata": {},
     "output_type": "execute_result"
    }
   ],
   "source": [
    "y_res.shape"
   ]
  },
  {
   "cell_type": "code",
   "execution_count": 11,
   "metadata": {},
   "outputs": [],
   "source": [
    "X_train, X_test, y_train, y_test = train_test_split(X_res,y_res, test_size=0.2, random_state=42)"
   ]
  },
  {
   "cell_type": "code",
   "execution_count": 12,
   "metadata": {},
   "outputs": [],
   "source": [
    "from sklearn.preprocessing import Normalizer"
   ]
  },
  {
   "cell_type": "code",
   "execution_count": 13,
   "metadata": {},
   "outputs": [],
   "source": [
    "scaler = Normalizer().fit(X_train)\n",
    "standarized_x = scaler.transform(X_train)\n",
    "standarized_x_test = scaler.transform(X_test)"
   ]
  },
  {
   "cell_type": "code",
   "execution_count": 14,
   "metadata": {},
   "outputs": [],
   "source": [
    "from sklearn.ensemble import RandomForestClassifier\n",
    "from sklearn.metrics import accuracy_score,confusion_matrix,classification_report"
   ]
  },
  {
   "cell_type": "code",
   "execution_count": 15,
   "metadata": {},
   "outputs": [],
   "source": [
    "model = RandomForestClassifier()"
   ]
  },
  {
   "cell_type": "code",
   "execution_count": 16,
   "metadata": {},
   "outputs": [
    {
     "name": "stdout",
     "output_type": "stream",
     "text": [
      "0.961038961038961\n",
      "[[46  1]\n",
      " [ 2 28]]\n",
      "              precision    recall  f1-score   support\n",
      "\n",
      "           0       0.96      0.98      0.97        47\n",
      "           1       0.97      0.93      0.95        30\n",
      "\n",
      "    accuracy                           0.96        77\n",
      "   macro avg       0.96      0.96      0.96        77\n",
      "weighted avg       0.96      0.96      0.96        77\n",
      "\n"
     ]
    }
   ],
   "source": [
    "model.fit(standarized_x,y_train)\n",
    "y_pred = model.predict(standarized_x_test)\n",
    "print(accuracy_score(y_test,y_pred))\n",
    "print(confusion_matrix(y_test,y_pred))\n",
    "print(classification_report(y_test,y_pred))"
   ]
  },
  {
   "cell_type": "code",
   "execution_count": 17,
   "metadata": {},
   "outputs": [],
   "source": [
    "from sklearn.naive_bayes import GaussianNB\n",
    "from sklearn.metrics import accuracy_score,confusion_matrix,classification_report"
   ]
  },
  {
   "cell_type": "code",
   "execution_count": 18,
   "metadata": {},
   "outputs": [],
   "source": [
    "model = GaussianNB()"
   ]
  },
  {
   "cell_type": "code",
   "execution_count": 19,
   "metadata": {},
   "outputs": [
    {
     "name": "stdout",
     "output_type": "stream",
     "text": [
      "0.6363636363636364\n",
      "[[46  1]\n",
      " [27  3]]\n",
      "              precision    recall  f1-score   support\n",
      "\n",
      "           0       0.63      0.98      0.77        47\n",
      "           1       0.75      0.10      0.18        30\n",
      "\n",
      "    accuracy                           0.64        77\n",
      "   macro avg       0.69      0.54      0.47        77\n",
      "weighted avg       0.68      0.64      0.54        77\n",
      "\n"
     ]
    }
   ],
   "source": [
    "model.fit(standarized_x,y_train)\n",
    "y_pred = model.predict(standarized_x_test)\n",
    "print(accuracy_score(y_test,y_pred))\n",
    "print(confusion_matrix(y_test,y_pred))\n",
    "print(classification_report(y_test,y_pred))"
   ]
  },
  {
   "cell_type": "code",
   "execution_count": 20,
   "metadata": {},
   "outputs": [],
   "source": [
    "from sklearn.svm import SVC\n",
    "from sklearn.metrics import accuracy_score,confusion_matrix,classification_report"
   ]
  },
  {
   "cell_type": "code",
   "execution_count": 21,
   "metadata": {},
   "outputs": [],
   "source": [
    "model = SVC()"
   ]
  },
  {
   "cell_type": "code",
   "execution_count": 22,
   "metadata": {},
   "outputs": [
    {
     "name": "stdout",
     "output_type": "stream",
     "text": [
      "0.7012987012987013\n",
      "[[30 17]\n",
      " [ 6 24]]\n",
      "              precision    recall  f1-score   support\n",
      "\n",
      "           0       0.83      0.64      0.72        47\n",
      "           1       0.59      0.80      0.68        30\n",
      "\n",
      "    accuracy                           0.70        77\n",
      "   macro avg       0.71      0.72      0.70        77\n",
      "weighted avg       0.74      0.70      0.70        77\n",
      "\n"
     ]
    }
   ],
   "source": [
    "model.fit(standarized_x,y_train)\n",
    "y_pred = model.predict(standarized_x_test)\n",
    "print(accuracy_score(y_test,y_pred))\n",
    "print(confusion_matrix(y_test,y_pred))\n",
    "print(classification_report(y_test,y_pred))"
   ]
  },
  {
   "cell_type": "code",
   "execution_count": 23,
   "metadata": {},
   "outputs": [],
   "source": [
    "from sklearn import neighbors\n",
    "from sklearn.metrics import accuracy_score,confusion_matrix,classification_report"
   ]
  },
  {
   "cell_type": "code",
   "execution_count": 24,
   "metadata": {},
   "outputs": [],
   "source": [
    "model = neighbors.KNeighborsClassifier(3)"
   ]
  },
  {
   "cell_type": "code",
   "execution_count": 25,
   "metadata": {},
   "outputs": [
    {
     "name": "stdout",
     "output_type": "stream",
     "text": [
      "0.7012987012987013\n",
      "[[25 22]\n",
      " [ 1 29]]\n",
      "              precision    recall  f1-score   support\n",
      "\n",
      "           0       0.96      0.53      0.68        47\n",
      "           1       0.57      0.97      0.72        30\n",
      "\n",
      "    accuracy                           0.70        77\n",
      "   macro avg       0.77      0.75      0.70        77\n",
      "weighted avg       0.81      0.70      0.70        77\n",
      "\n"
     ]
    }
   ],
   "source": [
    "model.fit(standarized_x,y_train)\n",
    "y_pred = model.predict(standarized_x_test)\n",
    "print(accuracy_score(y_test,y_pred))\n",
    "print(confusion_matrix(y_test,y_pred))\n",
    "print(classification_report(y_test,y_pred))"
   ]
  },
  {
   "cell_type": "code",
   "execution_count": 26,
   "metadata": {},
   "outputs": [],
   "source": [
    "from sklearn.linear_model import LogisticRegression"
   ]
  },
  {
   "cell_type": "code",
   "execution_count": 27,
   "metadata": {},
   "outputs": [],
   "source": [
    "model = LogisticRegression()"
   ]
  },
  {
   "cell_type": "code",
   "execution_count": 28,
   "metadata": {},
   "outputs": [
    {
     "name": "stdout",
     "output_type": "stream",
     "text": [
      "0.6103896103896104\n",
      "[[21 26]\n",
      " [ 4 26]]\n",
      "              precision    recall  f1-score   support\n",
      "\n",
      "           0       0.84      0.45      0.58        47\n",
      "           1       0.50      0.87      0.63        30\n",
      "\n",
      "    accuracy                           0.61        77\n",
      "   macro avg       0.67      0.66      0.61        77\n",
      "weighted avg       0.71      0.61      0.60        77\n",
      "\n"
     ]
    }
   ],
   "source": [
    "model.fit(standarized_x,y_train)\n",
    "y_pred = model.predict(standarized_x_test)\n",
    "print(accuracy_score(y_test,y_pred))\n",
    "print(confusion_matrix(y_test,y_pred))\n",
    "print(classification_report(y_test,y_pred))"
   ]
  },
  {
   "cell_type": "code",
   "execution_count": 29,
   "metadata": {},
   "outputs": [],
   "source": [
    "import xgboost as xgb"
   ]
  },
  {
   "cell_type": "code",
   "execution_count": 30,
   "metadata": {},
   "outputs": [],
   "source": [
    "xgb_model = xgb.XGBClassifier(objective='binary:logistic')"
   ]
  },
  {
   "cell_type": "code",
   "execution_count": 31,
   "metadata": {},
   "outputs": [
    {
     "data": {
      "text/plain": [
       "XGBClassifier(base_score=0.5, booster=None, colsample_bylevel=1,\n",
       "              colsample_bynode=1, colsample_bytree=1, gamma=0, gpu_id=-1,\n",
       "              importance_type='gain', interaction_constraints=None,\n",
       "              learning_rate=0.300000012, max_delta_step=0, max_depth=6,\n",
       "              min_child_weight=1, missing=nan, monotone_constraints=None,\n",
       "              n_estimators=100, n_jobs=0, num_parallel_tree=1,\n",
       "              objective='binary:logistic', random_state=0, reg_alpha=0,\n",
       "              reg_lambda=1, scale_pos_weight=1, subsample=1, tree_method=None,\n",
       "              validate_parameters=False, verbosity=None)"
      ]
     },
     "execution_count": 31,
     "metadata": {},
     "output_type": "execute_result"
    }
   ],
   "source": [
    "xgb_model.fit(standarized_x,y_train)"
   ]
  },
  {
   "cell_type": "code",
   "execution_count": 32,
   "metadata": {},
   "outputs": [
    {
     "name": "stdout",
     "output_type": "stream",
     "text": [
      "0.9090909090909091\n",
      "[[42  5]\n",
      " [ 2 28]]\n",
      "              precision    recall  f1-score   support\n",
      "\n",
      "           0       0.95      0.89      0.92        47\n",
      "           1       0.85      0.93      0.89        30\n",
      "\n",
      "    accuracy                           0.91        77\n",
      "   macro avg       0.90      0.91      0.91        77\n",
      "weighted avg       0.91      0.91      0.91        77\n",
      "\n"
     ]
    }
   ],
   "source": [
    "y_pred = xgb_model.predict(standarized_x_test)\n",
    "print(accuracy_score(y_test,y_pred))\n",
    "print(confusion_matrix(y_test,y_pred))\n",
    "print(classification_report(y_test,y_pred))"
   ]
  },
  {
   "cell_type": "code",
   "execution_count": null,
   "metadata": {},
   "outputs": [],
   "source": []
  }
 ],
 "metadata": {
  "kernelspec": {
   "display_name": "Python 3",
   "language": "python",
   "name": "python3"
  },
  "language_info": {
   "codemirror_mode": {
    "name": "ipython",
    "version": 3
   },
   "file_extension": ".py",
   "mimetype": "text/x-python",
   "name": "python",
   "nbconvert_exporter": "python",
   "pygments_lexer": "ipython3",
   "version": "3.7.5"
  }
 },
 "nbformat": 4,
 "nbformat_minor": 2
}
