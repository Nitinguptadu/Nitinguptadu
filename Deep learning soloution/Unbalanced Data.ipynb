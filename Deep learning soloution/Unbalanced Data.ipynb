{
 "cells": [
  {
   "cell_type": "code",
   "execution_count": 1,
   "metadata": {},
   "outputs": [],
   "source": [
    "import numpy as np\n",
    "import matplotlib.pyplot as plt\n",
    "import pandas as pd\n",
    "\n",
    "df = pd.read_excel(\"preprocessed data.xlsx\")"
   ]
  },
  {
   "cell_type": "code",
   "execution_count": 2,
   "metadata": {},
   "outputs": [],
   "source": [
    "def dataSetAnalysis(df):\n",
    "    #view starting values of data set\n",
    "    print(\"Dataset Head\")\n",
    "    print(df.head(3))\n",
    "    print(\"=\" * 100)\n",
    "    \n",
    "    # View features in data set\n",
    "    print(\"Dataset Features\")\n",
    "    print(df.columns.values)\n",
    "    print(\"=\" * 100)\n",
    "    \n",
    "    # View How many samples and how many missing values for each feature\n",
    "    print(\"Dataset Features Details\")\n",
    "    print(df.info())\n",
    "    print(\"=\" * 100)\n",
    "    \n",
    "    # view distribution of numerical features across the data set\n",
    "    print(\"Dataset Numerical Features\")\n",
    "    print(df.describe())\n",
    "    print(\"=\" * 100)\n",
    "    \n",
    "    "
   ]
  },
  {
   "cell_type": "code",
   "execution_count": 3,
   "metadata": {},
   "outputs": [
    {
     "name": "stdout",
     "output_type": "stream",
     "text": [
      "Dataset Head\n",
      "   Unnamed: 0  sl.no.  \\\n",
      "0           0       1   \n",
      "1           1       2   \n",
      "2           2       3   \n",
      "\n",
      "   0- Good Outcome/no recurrence\\n1- Bad Outcome/recurrence  tumor size  \\\n",
      "0                                                  0                  2   \n",
      "1                                                  0                  1   \n",
      "2                                                  0                  1   \n",
      "\n",
      "   node status of the tumor  Age of the patient  tumor grade  A%-M  AI-M  \\\n",
      "0                         1                  60            3     0   2.5   \n",
      "1                         1                  55            2    15   2.0   \n",
      "2                         1                  33            3     0   2.5   \n",
      "\n",
      "   A%-C  ...  R%-C  U%-C  V%-C  W%-M  W%-C  ZA1%-M  ZA1%-C  ZB%-C  ZC%-C  \\\n",
      "0    70  ...    70    80    75    70    60      85      60     80     85   \n",
      "1    20  ...    75    80    75    80    60      85      60     80     80   \n",
      "2    70  ...    60    75    70    70    70      55      70     75     80   \n",
      "\n",
      "   ZD%-C  \n",
      "0     70  \n",
      "1     80  \n",
      "2     75  \n",
      "\n",
      "[3 rows x 87 columns]\n",
      "====================================================================================================\n",
      "Dataset Features\n",
      "['Unnamed: 0' 'sl.no.'\n",
      " '0- Good Outcome/no recurrence\\n1- Bad Outcome/recurrence' 'tumor size'\n",
      " 'node status of the tumor' 'Age of the patient' 'tumor grade' 'A%-M'\n",
      " 'AI-M' 'A%-C' 'AI-C' 'A%-N' 'CI-M' 'C%-C' 'CI-C' 'C%-N' 'CI-N' 'F%-M'\n",
      " 'FI-M' 'F%-C' 'FI-C' 'K%-M' 'KI-M' 'K%-C' 'KI-C' 'KI-N' 'M%-M' 'MI-M'\n",
      " 'MI-C' 'M%-N' 'MI-N' 'O%-M' 'OI-M' 'OI-C' 'O%-N' 'OI-N' 'P%-N' 'PI-N'\n",
      " 'R%-M' 'RI-M' 'RI-C' 'U%-M' 'UI-M' 'UI-C' 'U%-N' 'UI-N' 'V%-M' 'VI-M'\n",
      " 'VI-C' 'WI-M' 'WI-C' 'ZA1I-M' 'ZA1I-C' 'ZB%-M' 'ZBI-M' 'ZBI-C' 'ZB%-N'\n",
      " 'ZBI-N' 'ZC%-M' 'ZCI-M' 'ZCI-C' 'ZC%-N' 'ZCI-N' ' ZD%-M' 'ZDI-M' 'ZDI-C'\n",
      " 'ZD%-N' 'ZDI-N' 'ZF2%-C' 'ZF2I-C' 'ZF2%-N' 'ZF2I-N' 'AI-N' 'C%-M' 'K%-N'\n",
      " 'M%-C' 'O%-C' 'R%-C' 'U%-C' 'V%-C' 'W%-M' 'W%-C' 'ZA1%-M' 'ZA1%-C'\n",
      " 'ZB%-C' 'ZC%-C' 'ZD%-C']\n",
      "====================================================================================================\n",
      "Dataset Features Details\n",
      "<class 'pandas.core.frame.DataFrame'>\n",
      "RangeIndex: 234 entries, 0 to 233\n",
      "Data columns (total 87 columns):\n",
      "Unnamed: 0                                                 234 non-null int64\n",
      "sl.no.                                                     234 non-null int64\n",
      "0- Good Outcome/no recurrence\n",
      "1- Bad Outcome/recurrence    234 non-null int64\n",
      "tumor size                                                 234 non-null int64\n",
      "node status of the tumor                                   234 non-null int64\n",
      "Age of the patient                                         234 non-null int64\n",
      "tumor grade                                                234 non-null int64\n",
      "A%-M                                                       234 non-null int64\n",
      "AI-M                                                       234 non-null float64\n",
      "A%-C                                                       234 non-null int64\n",
      "AI-C                                                       234 non-null float64\n",
      "A%-N                                                       234 non-null int64\n",
      "CI-M                                                       234 non-null float64\n",
      "C%-C                                                       234 non-null int64\n",
      "CI-C                                                       234 non-null int64\n",
      "C%-N                                                       234 non-null int64\n",
      "CI-N                                                       234 non-null float64\n",
      "F%-M                                                       234 non-null int64\n",
      "FI-M                                                       234 non-null float64\n",
      "F%-C                                                       234 non-null int64\n",
      "FI-C                                                       234 non-null float64\n",
      "K%-M                                                       234 non-null int64\n",
      "KI-M                                                       234 non-null float64\n",
      "K%-C                                                       234 non-null int64\n",
      "KI-C                                                       234 non-null int64\n",
      "KI-N                                                       234 non-null float64\n",
      "M%-M                                                       234 non-null int64\n",
      "MI-M                                                       234 non-null float64\n",
      "MI-C                                                       234 non-null float64\n",
      "M%-N                                                       234 non-null int64\n",
      "MI-N                                                       234 non-null float64\n",
      "O%-M                                                       234 non-null int64\n",
      "OI-M                                                       234 non-null float64\n",
      "OI-C                                                       234 non-null float64\n",
      "O%-N                                                       234 non-null int64\n",
      "OI-N                                                       234 non-null float64\n",
      "P%-N                                                       234 non-null int64\n",
      "PI-N                                                       234 non-null float64\n",
      "R%-M                                                       234 non-null int64\n",
      "RI-M                                                       234 non-null float64\n",
      "RI-C                                                       234 non-null float64\n",
      "U%-M                                                       234 non-null int64\n",
      "UI-M                                                       234 non-null float64\n",
      "UI-C                                                       234 non-null float64\n",
      "U%-N                                                       234 non-null int64\n",
      "UI-N                                                       234 non-null float64\n",
      "V%-M                                                       234 non-null int64\n",
      "VI-M                                                       234 non-null float64\n",
      "VI-C                                                       234 non-null float64\n",
      "WI-M                                                       234 non-null float64\n",
      "WI-C                                                       234 non-null float64\n",
      "ZA1I-M                                                     234 non-null float64\n",
      "ZA1I-C                                                     234 non-null float64\n",
      "ZB%-M                                                      234 non-null int64\n",
      "ZBI-M                                                      234 non-null float64\n",
      "ZBI-C                                                      234 non-null float64\n",
      "ZB%-N                                                      234 non-null int64\n",
      "ZBI-N                                                      234 non-null float64\n",
      "ZC%-M                                                      234 non-null int64\n",
      "ZCI-M                                                      234 non-null int64\n",
      "ZCI-C                                                      234 non-null float64\n",
      "ZC%-N                                                      234 non-null int64\n",
      "ZCI-N                                                      234 non-null float64\n",
      " ZD%-M                                                     234 non-null int64\n",
      "ZDI-M                                                      234 non-null float64\n",
      "ZDI-C                                                      234 non-null float64\n",
      "ZD%-N                                                      234 non-null int64\n",
      "ZDI-N                                                      234 non-null float64\n",
      "ZF2%-C                                                     234 non-null int64\n",
      "ZF2I-C                                                     234 non-null float64\n",
      "ZF2%-N                                                     234 non-null int64\n",
      "ZF2I-N                                                     234 non-null float64\n",
      "AI-N                                                       234 non-null int64\n",
      "C%-M                                                       234 non-null int64\n",
      "K%-N                                                       234 non-null int64\n",
      "M%-C                                                       234 non-null int64\n",
      "O%-C                                                       234 non-null int64\n",
      "R%-C                                                       234 non-null int64\n",
      "U%-C                                                       234 non-null int64\n",
      "V%-C                                                       234 non-null int64\n",
      "W%-M                                                       234 non-null int64\n",
      "W%-C                                                       234 non-null int64\n",
      "ZA1%-M                                                     234 non-null int64\n",
      "ZA1%-C                                                     234 non-null int64\n",
      "ZB%-C                                                      234 non-null int64\n",
      "ZC%-C                                                      234 non-null int64\n",
      "ZD%-C                                                      234 non-null int64\n",
      "dtypes: float64(36), int64(51)\n",
      "memory usage: 159.2 KB\n",
      "None\n",
      "====================================================================================================\n",
      "Dataset Numerical Features\n",
      "       Unnamed: 0      sl.no.  \\\n",
      "count  234.000000  234.000000   \n",
      "mean   116.500000  117.500000   \n",
      "std     67.694165   67.694165   \n",
      "min      0.000000    1.000000   \n",
      "25%     58.250000   59.250000   \n",
      "50%    116.500000  117.500000   \n",
      "75%    174.750000  175.750000   \n",
      "max    233.000000  234.000000   \n",
      "\n",
      "       0- Good Outcome/no recurrence\\n1- Bad Outcome/recurrence  tumor size  \\\n",
      "count                                         234.000000         234.000000   \n",
      "mean                                            0.183761           1.944444   \n",
      "std                                             0.388119           0.525234   \n",
      "min                                             0.000000           1.000000   \n",
      "25%                                             0.000000           2.000000   \n",
      "50%                                             0.000000           2.000000   \n",
      "75%                                             0.000000           2.000000   \n",
      "max                                             1.000000           3.000000   \n",
      "\n",
      "       node status of the tumor  Age of the patient  tumor grade        A%-M  \\\n",
      "count                234.000000          234.000000   234.000000  234.000000   \n",
      "mean                   0.705128           48.974359     2.598291    6.581197   \n",
      "std                    0.670193           10.551294     0.533188   17.617168   \n",
      "min                    0.000000           25.000000     1.000000    0.000000   \n",
      "25%                    0.000000           41.000000     2.000000    0.000000   \n",
      "50%                    1.000000           49.000000     3.000000    0.000000   \n",
      "75%                    1.000000           56.750000     3.000000    0.000000   \n",
      "max                    3.000000           75.000000     3.000000   80.000000   \n",
      "\n",
      "             AI-M        A%-C  ...        R%-C        U%-C        V%-C  \\\n",
      "count  234.000000  234.000000  ...  234.000000  234.000000  234.000000   \n",
      "mean     1.737179   29.102564  ...   73.846154   75.320513   71.559829   \n",
      "std      0.849354   30.409335  ...    6.804587    6.232602    7.427955   \n",
      "min      0.000000    0.000000  ...   60.000000   55.000000   50.000000   \n",
      "25%      1.500000    0.000000  ...   70.000000   70.000000   70.000000   \n",
      "50%      2.000000   20.000000  ...   75.000000   75.000000   70.000000   \n",
      "75%      2.000000   60.000000  ...   80.000000   80.000000   75.000000   \n",
      "max      3.000000   80.000000  ...   90.000000   90.000000   90.000000   \n",
      "\n",
      "             W%-M        W%-C      ZA1%-M      ZA1%-C       ZB%-C       ZC%-C  \\\n",
      "count  234.000000  234.000000  234.000000  234.000000  234.000000  234.000000   \n",
      "mean    69.401709   70.170940   74.615385   70.170940   72.264957   76.303419   \n",
      "std     10.454528    8.957018    6.457316    8.957018    8.491241    5.851326   \n",
      "min     40.000000   40.000000   55.000000   40.000000   50.000000   55.000000   \n",
      "25%     65.000000   65.000000   70.000000   65.000000   70.000000   71.250000   \n",
      "50%     70.000000   70.000000   75.000000   70.000000   70.000000   80.000000   \n",
      "75%     75.000000   78.750000   80.000000   78.750000   80.000000   80.000000   \n",
      "max     95.000000   85.000000   90.000000   85.000000   85.000000   90.000000   \n",
      "\n",
      "            ZD%-C  \n",
      "count  234.000000  \n",
      "mean    74.914530  \n",
      "std      5.913646  \n",
      "min     55.000000  \n",
      "25%     70.000000  \n",
      "50%     75.000000  \n",
      "75%     80.000000  \n",
      "max     85.000000  \n",
      "\n",
      "[8 rows x 87 columns]\n",
      "====================================================================================================\n"
     ]
    }
   ],
   "source": [
    "dataSetAnalysis(df)"
   ]
  },
  {
   "cell_type": "code",
   "execution_count": 4,
   "metadata": {},
   "outputs": [],
   "source": [
    "X = df.iloc[:,3:].values\n",
    "y = df.iloc[:,2].values\n"
   ]
  },
  {
   "cell_type": "code",
   "execution_count": 5,
   "metadata": {},
   "outputs": [
    {
     "data": {
      "text/plain": [
       "array([[ 2.,  1., 60., ..., 80., 85., 70.],\n",
       "       [ 1.,  1., 55., ..., 80., 80., 80.],\n",
       "       [ 1.,  1., 33., ..., 75., 80., 75.],\n",
       "       ...,\n",
       "       [ 3.,  2., 37., ..., 75., 75., 70.],\n",
       "       [ 3.,  2., 58., ..., 70., 75., 70.],\n",
       "       [ 1.,  1., 52., ..., 70., 80., 70.]])"
      ]
     },
     "execution_count": 5,
     "metadata": {},
     "output_type": "execute_result"
    }
   ],
   "source": [
    "X"
   ]
  },
  {
   "cell_type": "code",
   "execution_count": 6,
   "metadata": {},
   "outputs": [
    {
     "data": {
      "text/plain": [
       "array([0, 0, 0, 0, 0, 0, 0, 0, 0, 0, 0, 0, 0, 0, 0, 0, 0, 0, 0, 0, 0, 0,\n",
       "       0, 0, 0, 0, 0, 0, 0, 0, 0, 0, 0, 0, 0, 0, 0, 0, 0, 0, 0, 0, 0, 0,\n",
       "       0, 0, 0, 0, 0, 0, 0, 0, 0, 0, 0, 0, 0, 0, 0, 0, 0, 0, 0, 0, 0, 0,\n",
       "       0, 0, 0, 0, 0, 0, 0, 0, 0, 0, 0, 0, 0, 0, 0, 0, 0, 0, 0, 0, 0, 0,\n",
       "       0, 0, 0, 0, 0, 0, 0, 0, 0, 0, 0, 0, 0, 0, 0, 0, 0, 0, 0, 0, 0, 0,\n",
       "       0, 0, 0, 0, 0, 0, 0, 0, 0, 0, 0, 0, 0, 0, 0, 0, 0, 0, 0, 0, 0, 0,\n",
       "       0, 0, 0, 0, 0, 0, 0, 0, 0, 0, 0, 0, 0, 0, 0, 0, 0, 0, 0, 0, 0, 0,\n",
       "       0, 0, 0, 0, 0, 0, 0, 0, 0, 0, 0, 0, 0, 0, 0, 0, 0, 0, 0, 0, 0, 0,\n",
       "       0, 0, 0, 0, 0, 0, 0, 0, 0, 0, 0, 0, 0, 0, 0, 1, 1, 1, 1, 1, 1, 1,\n",
       "       1, 1, 1, 1, 1, 1, 1, 1, 1, 1, 1, 1, 1, 1, 1, 1, 1, 1, 1, 1, 1, 1,\n",
       "       1, 1, 1, 1, 1, 1, 1, 1, 1, 1, 1, 1, 1, 1])"
      ]
     },
     "execution_count": 6,
     "metadata": {},
     "output_type": "execute_result"
    }
   ],
   "source": [
    "y"
   ]
  },
  {
   "cell_type": "code",
   "execution_count": 7,
   "metadata": {},
   "outputs": [],
   "source": [
    "from sklearn.model_selection import train_test_split\n",
    "\n",
    "X_train, X_test, y_train, y_test = train_test_split(X, y, test_size = 0.2, random_state = 0)\n"
   ]
  },
  {
   "cell_type": "code",
   "execution_count": 8,
   "metadata": {},
   "outputs": [],
   "source": [
    "from sklearn.preprocessing import StandardScaler\n",
    "\n",
    "sc = StandardScaler()\n",
    "X_train = sc.fit_transform(X_train)\n",
    "X_test = sc.transform(X_test)"
   ]
  },
  {
   "cell_type": "code",
   "execution_count": 9,
   "metadata": {},
   "outputs": [
    {
     "name": "stderr",
     "output_type": "stream",
     "text": [
      "Using TensorFlow backend.\n"
     ]
    }
   ],
   "source": [
    "from keras.models import Sequential\n",
    "from keras.layers import Dense\n",
    "\n",
    "classifier = Sequential() # Initialising the ANN\n",
    "\n",
    "classifier.add(Dense(units = 32, kernel_initializer = 'uniform', activation = 'relu', input_dim = 84))\n",
    "classifier.add(Dense(units = 16, kernel_initializer = 'uniform', activation = 'relu'))\n",
    "classifier.add(Dense(units = 8, kernel_initializer = 'uniform', activation = 'relu'))\n",
    "classifier.add(Dense(units = 4, kernel_initializer = 'uniform', activation = 'relu'))\n",
    "classifier.add(Dense(units = 2, kernel_initializer = 'uniform', activation = 'relu'))\n",
    "classifier.add(Dense(units = 1, kernel_initializer = 'uniform', activation = 'sigmoid'))"
   ]
  },
  {
   "cell_type": "code",
   "execution_count": 10,
   "metadata": {},
   "outputs": [],
   "source": [
    "classifier.compile(optimizer = 'SGD', loss = 'binary_crossentropy', metrics = ['accuracy'])"
   ]
  },
  {
   "cell_type": "code",
   "execution_count": 11,
   "metadata": {},
   "outputs": [
    {
     "name": "stdout",
     "output_type": "stream",
     "text": [
      "Epoch 1/50\n",
      " - 0s - loss: 0.6921 - accuracy: 0.8075\n",
      "Epoch 2/50\n",
      " - 0s - loss: 0.6887 - accuracy: 0.8075\n",
      "Epoch 3/50\n",
      " - 0s - loss: 0.6849 - accuracy: 0.8075\n",
      "Epoch 4/50\n",
      " - 0s - loss: 0.6812 - accuracy: 0.8075\n",
      "Epoch 5/50\n",
      " - 0s - loss: 0.6771 - accuracy: 0.8075\n",
      "Epoch 6/50\n",
      " - 0s - loss: 0.6736 - accuracy: 0.8075\n",
      "Epoch 7/50\n",
      " - 0s - loss: 0.6708 - accuracy: 0.8075\n",
      "Epoch 8/50\n",
      " - 0s - loss: 0.6678 - accuracy: 0.8075\n",
      "Epoch 9/50\n",
      " - 0s - loss: 0.6644 - accuracy: 0.8075\n",
      "Epoch 10/50\n",
      " - 0s - loss: 0.6611 - accuracy: 0.8075\n",
      "Epoch 11/50\n",
      " - 0s - loss: 0.6582 - accuracy: 0.8075\n",
      "Epoch 12/50\n",
      " - 0s - loss: 0.6550 - accuracy: 0.8075\n",
      "Epoch 13/50\n",
      " - 0s - loss: 0.6519 - accuracy: 0.8075\n",
      "Epoch 14/50\n",
      " - 0s - loss: 0.6485 - accuracy: 0.8075\n",
      "Epoch 15/50\n",
      " - 0s - loss: 0.6459 - accuracy: 0.8075\n",
      "Epoch 16/50\n",
      " - 0s - loss: 0.6432 - accuracy: 0.8075\n",
      "Epoch 17/50\n",
      " - 0s - loss: 0.6401 - accuracy: 0.8075\n",
      "Epoch 18/50\n",
      " - 0s - loss: 0.6382 - accuracy: 0.8075\n",
      "Epoch 19/50\n",
      " - 0s - loss: 0.6355 - accuracy: 0.8075\n",
      "Epoch 20/50\n",
      " - 0s - loss: 0.6327 - accuracy: 0.8075\n",
      "Epoch 21/50\n",
      " - 0s - loss: 0.6304 - accuracy: 0.8075\n",
      "Epoch 22/50\n",
      " - 0s - loss: 0.6278 - accuracy: 0.8075\n",
      "Epoch 23/50\n",
      " - 0s - loss: 0.6255 - accuracy: 0.8075\n",
      "Epoch 24/50\n",
      " - 0s - loss: 0.6230 - accuracy: 0.8075\n",
      "Epoch 25/50\n",
      " - 0s - loss: 0.6205 - accuracy: 0.8075\n",
      "Epoch 26/50\n",
      " - 0s - loss: 0.6184 - accuracy: 0.8075\n",
      "Epoch 27/50\n",
      " - 0s - loss: 0.6169 - accuracy: 0.8075\n",
      "Epoch 28/50\n",
      " - 0s - loss: 0.6146 - accuracy: 0.8075\n",
      "Epoch 29/50\n",
      " - 0s - loss: 0.6128 - accuracy: 0.8075\n",
      "Epoch 30/50\n",
      " - 0s - loss: 0.6103 - accuracy: 0.8075\n",
      "Epoch 31/50\n",
      " - 0s - loss: 0.6086 - accuracy: 0.8075\n",
      "Epoch 32/50\n",
      " - 0s - loss: 0.6067 - accuracy: 0.8075\n",
      "Epoch 33/50\n",
      " - 0s - loss: 0.6049 - accuracy: 0.8075\n",
      "Epoch 34/50\n",
      " - 0s - loss: 0.6025 - accuracy: 0.8075\n",
      "Epoch 35/50\n",
      " - 0s - loss: 0.6004 - accuracy: 0.8075\n",
      "Epoch 36/50\n",
      " - 0s - loss: 0.5984 - accuracy: 0.8075\n",
      "Epoch 37/50\n",
      " - 0s - loss: 0.5970 - accuracy: 0.8075\n",
      "Epoch 38/50\n",
      " - 0s - loss: 0.5953 - accuracy: 0.8075\n",
      "Epoch 39/50\n",
      " - 0s - loss: 0.5934 - accuracy: 0.8075\n",
      "Epoch 40/50\n",
      " - 0s - loss: 0.5917 - accuracy: 0.8075\n",
      "Epoch 41/50\n",
      " - 0s - loss: 0.5899 - accuracy: 0.8075\n",
      "Epoch 42/50\n",
      " - 0s - loss: 0.5883 - accuracy: 0.8075\n",
      "Epoch 43/50\n",
      " - 0s - loss: 0.5863 - accuracy: 0.8075\n",
      "Epoch 44/50\n",
      " - 0s - loss: 0.5845 - accuracy: 0.8075\n",
      "Epoch 45/50\n",
      " - 0s - loss: 0.5826 - accuracy: 0.8075\n",
      "Epoch 46/50\n",
      " - 0s - loss: 0.5811 - accuracy: 0.8075\n",
      "Epoch 47/50\n",
      " - 0s - loss: 0.5800 - accuracy: 0.8075\n",
      "Epoch 48/50\n",
      " - 0s - loss: 0.5784 - accuracy: 0.8075\n",
      "Epoch 49/50\n",
      " - 0s - loss: 0.5770 - accuracy: 0.8075\n",
      "Epoch 50/50\n",
      " - 0s - loss: 0.5757 - accuracy: 0.8075\n"
     ]
    },
    {
     "data": {
      "text/plain": [
       "<keras.callbacks.callbacks.History at 0x7f4ba8345f50>"
      ]
     },
     "execution_count": 11,
     "metadata": {},
     "output_type": "execute_result"
    }
   ],
   "source": [
    "classifier.fit(X_train, y_train, batch_size = 60, epochs = 50, verbose = 2)"
   ]
  },
  {
   "cell_type": "code",
   "execution_count": 12,
   "metadata": {},
   "outputs": [],
   "source": [
    "from keras.models import load_model\n",
    "\n",
    "classifier.save('breast_cancer_model.h5') #Save trained ANN\n",
    "#classifier = load_model('breast_cancer_model.h5')  #Load trained ANN"
   ]
  },
  {
   "cell_type": "code",
   "execution_count": 13,
   "metadata": {},
   "outputs": [],
   "source": [
    "y_pred = classifier.predict(X_test)\n",
    "y_pred = [ 1 if y>=0.5 else 0 for y in y_pred ]"
   ]
  },
  {
   "cell_type": "code",
   "execution_count": 14,
   "metadata": {},
   "outputs": [
    {
     "name": "stdout",
     "output_type": "stream",
     "text": [
      "[[40  0]\n",
      " [ 7  0]]\n",
      "Accuracy: 85.1063829787234%\n"
     ]
    }
   ],
   "source": [
    "from sklearn.metrics import confusion_matrix\n",
    "cm = confusion_matrix(y_test, y_pred)\n",
    "print(cm)\n",
    "\n",
    "accuracy = (cm[0][0]+cm[1][1])/(cm[0][0]+cm[0][1]+cm[1][0]+cm[1][1])\n",
    "print(\"Accuracy: \"+ str(accuracy*100)+\"%\")"
   ]
  },
  {
   "cell_type": "code",
   "execution_count": 15,
   "metadata": {},
   "outputs": [],
   "source": [
    "import sklearn\n",
    "from sklearn.metrics import accuracy_score,confusion_matrix,classification_report"
   ]
  },
  {
   "cell_type": "code",
   "execution_count": 16,
   "metadata": {},
   "outputs": [
    {
     "name": "stdout",
     "output_type": "stream",
     "text": [
      "0.851063829787234\n",
      "[[40  0]\n",
      " [ 7  0]]\n",
      "              precision    recall  f1-score   support\n",
      "\n",
      "           0       0.85      1.00      0.92        40\n",
      "           1       0.00      0.00      0.00         7\n",
      "\n",
      "    accuracy                           0.85        47\n",
      "   macro avg       0.43      0.50      0.46        47\n",
      "weighted avg       0.72      0.85      0.78        47\n",
      "\n"
     ]
    },
    {
     "name": "stderr",
     "output_type": "stream",
     "text": [
      "/home/nitin/anaconda3/lib/python3.7/site-packages/sklearn/metrics/_classification.py:1268: UndefinedMetricWarning: Precision and F-score are ill-defined and being set to 0.0 in labels with no predicted samples. Use `zero_division` parameter to control this behavior.\n",
      "  _warn_prf(average, modifier, msg_start, len(result))\n"
     ]
    }
   ],
   "source": [
    "print(accuracy_score(y_test,y_pred))\n",
    "print(confusion_matrix(y_test,y_pred))\n",
    "print(classification_report(y_test,y_pred))"
   ]
  }
 ],
 "metadata": {
  "kernelspec": {
   "display_name": "Python 3",
   "language": "python",
   "name": "python3"
  },
  "language_info": {
   "codemirror_mode": {
    "name": "ipython",
    "version": 3
   },
   "file_extension": ".py",
   "mimetype": "text/x-python",
   "name": "python",
   "nbconvert_exporter": "python",
   "pygments_lexer": "ipython3",
   "version": "3.7.5"
  }
 },
 "nbformat": 4,
 "nbformat_minor": 2
}
