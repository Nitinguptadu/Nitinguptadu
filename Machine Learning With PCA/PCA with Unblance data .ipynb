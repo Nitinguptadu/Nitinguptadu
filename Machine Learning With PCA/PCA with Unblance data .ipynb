{
 "cells": [
  {
   "cell_type": "code",
   "execution_count": 1,
   "metadata": {},
   "outputs": [],
   "source": [
    "import numpy as np\n",
    "import pandas as pd\n",
    "import seaborn as sns\n",
    "import matplotlib.pyplot as plt\n",
    "%matplotlib inline\n"
   ]
  },
  {
   "cell_type": "code",
   "execution_count": 2,
   "metadata": {},
   "outputs": [],
   "source": [
    "df = pd.read_excel('preprocessed data.xlsx')"
   ]
  },
  {
   "cell_type": "code",
   "execution_count": 3,
   "metadata": {},
   "outputs": [
    {
     "data": {
      "text/html": [
       "<div>\n",
       "<style scoped>\n",
       "    .dataframe tbody tr th:only-of-type {\n",
       "        vertical-align: middle;\n",
       "    }\n",
       "\n",
       "    .dataframe tbody tr th {\n",
       "        vertical-align: top;\n",
       "    }\n",
       "\n",
       "    .dataframe thead th {\n",
       "        text-align: right;\n",
       "    }\n",
       "</style>\n",
       "<table border=\"1\" class=\"dataframe\">\n",
       "  <thead>\n",
       "    <tr style=\"text-align: right;\">\n",
       "      <th></th>\n",
       "      <th>Unnamed: 0</th>\n",
       "      <th>sl.no.</th>\n",
       "      <th>0- Good Outcome/no recurrence\\n1- Bad Outcome/recurrence</th>\n",
       "      <th>tumor size</th>\n",
       "      <th>node status of the tumor</th>\n",
       "      <th>Age of the patient</th>\n",
       "      <th>tumor grade</th>\n",
       "      <th>A%-M</th>\n",
       "      <th>AI-M</th>\n",
       "      <th>A%-C</th>\n",
       "      <th>...</th>\n",
       "      <th>R%-C</th>\n",
       "      <th>U%-C</th>\n",
       "      <th>V%-C</th>\n",
       "      <th>W%-M</th>\n",
       "      <th>W%-C</th>\n",
       "      <th>ZA1%-M</th>\n",
       "      <th>ZA1%-C</th>\n",
       "      <th>ZB%-C</th>\n",
       "      <th>ZC%-C</th>\n",
       "      <th>ZD%-C</th>\n",
       "    </tr>\n",
       "  </thead>\n",
       "  <tbody>\n",
       "    <tr>\n",
       "      <th>0</th>\n",
       "      <td>0</td>\n",
       "      <td>1</td>\n",
       "      <td>0</td>\n",
       "      <td>2</td>\n",
       "      <td>1</td>\n",
       "      <td>60</td>\n",
       "      <td>3</td>\n",
       "      <td>0</td>\n",
       "      <td>2.5</td>\n",
       "      <td>70</td>\n",
       "      <td>...</td>\n",
       "      <td>70</td>\n",
       "      <td>80</td>\n",
       "      <td>75</td>\n",
       "      <td>70</td>\n",
       "      <td>60</td>\n",
       "      <td>85</td>\n",
       "      <td>60</td>\n",
       "      <td>80</td>\n",
       "      <td>85</td>\n",
       "      <td>70</td>\n",
       "    </tr>\n",
       "    <tr>\n",
       "      <th>1</th>\n",
       "      <td>1</td>\n",
       "      <td>2</td>\n",
       "      <td>0</td>\n",
       "      <td>1</td>\n",
       "      <td>1</td>\n",
       "      <td>55</td>\n",
       "      <td>2</td>\n",
       "      <td>15</td>\n",
       "      <td>2.0</td>\n",
       "      <td>20</td>\n",
       "      <td>...</td>\n",
       "      <td>75</td>\n",
       "      <td>80</td>\n",
       "      <td>75</td>\n",
       "      <td>80</td>\n",
       "      <td>60</td>\n",
       "      <td>85</td>\n",
       "      <td>60</td>\n",
       "      <td>80</td>\n",
       "      <td>80</td>\n",
       "      <td>80</td>\n",
       "    </tr>\n",
       "    <tr>\n",
       "      <th>2</th>\n",
       "      <td>2</td>\n",
       "      <td>3</td>\n",
       "      <td>0</td>\n",
       "      <td>1</td>\n",
       "      <td>1</td>\n",
       "      <td>33</td>\n",
       "      <td>3</td>\n",
       "      <td>0</td>\n",
       "      <td>2.5</td>\n",
       "      <td>70</td>\n",
       "      <td>...</td>\n",
       "      <td>60</td>\n",
       "      <td>75</td>\n",
       "      <td>70</td>\n",
       "      <td>70</td>\n",
       "      <td>70</td>\n",
       "      <td>55</td>\n",
       "      <td>70</td>\n",
       "      <td>75</td>\n",
       "      <td>80</td>\n",
       "      <td>75</td>\n",
       "    </tr>\n",
       "    <tr>\n",
       "      <th>3</th>\n",
       "      <td>3</td>\n",
       "      <td>4</td>\n",
       "      <td>0</td>\n",
       "      <td>1</td>\n",
       "      <td>1</td>\n",
       "      <td>67</td>\n",
       "      <td>2</td>\n",
       "      <td>0</td>\n",
       "      <td>2.0</td>\n",
       "      <td>45</td>\n",
       "      <td>...</td>\n",
       "      <td>70</td>\n",
       "      <td>75</td>\n",
       "      <td>60</td>\n",
       "      <td>45</td>\n",
       "      <td>70</td>\n",
       "      <td>60</td>\n",
       "      <td>70</td>\n",
       "      <td>75</td>\n",
       "      <td>80</td>\n",
       "      <td>80</td>\n",
       "    </tr>\n",
       "    <tr>\n",
       "      <th>4</th>\n",
       "      <td>4</td>\n",
       "      <td>5</td>\n",
       "      <td>0</td>\n",
       "      <td>1</td>\n",
       "      <td>1</td>\n",
       "      <td>47</td>\n",
       "      <td>2</td>\n",
       "      <td>0</td>\n",
       "      <td>0.0</td>\n",
       "      <td>0</td>\n",
       "      <td>...</td>\n",
       "      <td>75</td>\n",
       "      <td>75</td>\n",
       "      <td>80</td>\n",
       "      <td>70</td>\n",
       "      <td>75</td>\n",
       "      <td>85</td>\n",
       "      <td>75</td>\n",
       "      <td>80</td>\n",
       "      <td>80</td>\n",
       "      <td>80</td>\n",
       "    </tr>\n",
       "  </tbody>\n",
       "</table>\n",
       "<p>5 rows × 87 columns</p>\n",
       "</div>"
      ],
      "text/plain": [
       "   Unnamed: 0  sl.no.  \\\n",
       "0           0       1   \n",
       "1           1       2   \n",
       "2           2       3   \n",
       "3           3       4   \n",
       "4           4       5   \n",
       "\n",
       "   0- Good Outcome/no recurrence\\n1- Bad Outcome/recurrence  tumor size  \\\n",
       "0                                                  0                  2   \n",
       "1                                                  0                  1   \n",
       "2                                                  0                  1   \n",
       "3                                                  0                  1   \n",
       "4                                                  0                  1   \n",
       "\n",
       "   node status of the tumor  Age of the patient  tumor grade  A%-M  AI-M  \\\n",
       "0                         1                  60            3     0   2.5   \n",
       "1                         1                  55            2    15   2.0   \n",
       "2                         1                  33            3     0   2.5   \n",
       "3                         1                  67            2     0   2.0   \n",
       "4                         1                  47            2     0   0.0   \n",
       "\n",
       "   A%-C  ...  R%-C  U%-C  V%-C  W%-M  W%-C  ZA1%-M  ZA1%-C  ZB%-C  ZC%-C  \\\n",
       "0    70  ...    70    80    75    70    60      85      60     80     85   \n",
       "1    20  ...    75    80    75    80    60      85      60     80     80   \n",
       "2    70  ...    60    75    70    70    70      55      70     75     80   \n",
       "3    45  ...    70    75    60    45    70      60      70     75     80   \n",
       "4     0  ...    75    75    80    70    75      85      75     80     80   \n",
       "\n",
       "   ZD%-C  \n",
       "0     70  \n",
       "1     80  \n",
       "2     75  \n",
       "3     80  \n",
       "4     80  \n",
       "\n",
       "[5 rows x 87 columns]"
      ]
     },
     "execution_count": 3,
     "metadata": {},
     "output_type": "execute_result"
    }
   ],
   "source": [
    "df.head()"
   ]
  },
  {
   "cell_type": "code",
   "execution_count": 4,
   "metadata": {},
   "outputs": [
    {
     "data": {
      "text/html": [
       "<div>\n",
       "<style scoped>\n",
       "    .dataframe tbody tr th:only-of-type {\n",
       "        vertical-align: middle;\n",
       "    }\n",
       "\n",
       "    .dataframe tbody tr th {\n",
       "        vertical-align: top;\n",
       "    }\n",
       "\n",
       "    .dataframe thead th {\n",
       "        text-align: right;\n",
       "    }\n",
       "</style>\n",
       "<table border=\"1\" class=\"dataframe\">\n",
       "  <thead>\n",
       "    <tr style=\"text-align: right;\">\n",
       "      <th></th>\n",
       "      <th>Unnamed: 0</th>\n",
       "      <th>sl.no.</th>\n",
       "      <th>0- Good Outcome/no recurrence\\n1- Bad Outcome/recurrence</th>\n",
       "      <th>tumor size</th>\n",
       "      <th>node status of the tumor</th>\n",
       "      <th>Age of the patient</th>\n",
       "      <th>tumor grade</th>\n",
       "      <th>A%-M</th>\n",
       "      <th>AI-M</th>\n",
       "      <th>A%-C</th>\n",
       "      <th>...</th>\n",
       "      <th>R%-C</th>\n",
       "      <th>U%-C</th>\n",
       "      <th>V%-C</th>\n",
       "      <th>W%-M</th>\n",
       "      <th>W%-C</th>\n",
       "      <th>ZA1%-M</th>\n",
       "      <th>ZA1%-C</th>\n",
       "      <th>ZB%-C</th>\n",
       "      <th>ZC%-C</th>\n",
       "      <th>ZD%-C</th>\n",
       "    </tr>\n",
       "  </thead>\n",
       "  <tbody>\n",
       "    <tr>\n",
       "      <th>count</th>\n",
       "      <td>234.000000</td>\n",
       "      <td>234.000000</td>\n",
       "      <td>234.000000</td>\n",
       "      <td>234.000000</td>\n",
       "      <td>234.000000</td>\n",
       "      <td>234.000000</td>\n",
       "      <td>234.000000</td>\n",
       "      <td>234.000000</td>\n",
       "      <td>234.000000</td>\n",
       "      <td>234.000000</td>\n",
       "      <td>...</td>\n",
       "      <td>234.000000</td>\n",
       "      <td>234.000000</td>\n",
       "      <td>234.000000</td>\n",
       "      <td>234.000000</td>\n",
       "      <td>234.000000</td>\n",
       "      <td>234.000000</td>\n",
       "      <td>234.000000</td>\n",
       "      <td>234.000000</td>\n",
       "      <td>234.000000</td>\n",
       "      <td>234.000000</td>\n",
       "    </tr>\n",
       "    <tr>\n",
       "      <th>mean</th>\n",
       "      <td>116.500000</td>\n",
       "      <td>117.500000</td>\n",
       "      <td>0.183761</td>\n",
       "      <td>1.944444</td>\n",
       "      <td>0.705128</td>\n",
       "      <td>48.974359</td>\n",
       "      <td>2.598291</td>\n",
       "      <td>6.581197</td>\n",
       "      <td>1.737179</td>\n",
       "      <td>29.102564</td>\n",
       "      <td>...</td>\n",
       "      <td>73.846154</td>\n",
       "      <td>75.320513</td>\n",
       "      <td>71.559829</td>\n",
       "      <td>69.401709</td>\n",
       "      <td>70.170940</td>\n",
       "      <td>74.615385</td>\n",
       "      <td>70.170940</td>\n",
       "      <td>72.264957</td>\n",
       "      <td>76.303419</td>\n",
       "      <td>74.914530</td>\n",
       "    </tr>\n",
       "    <tr>\n",
       "      <th>std</th>\n",
       "      <td>67.694165</td>\n",
       "      <td>67.694165</td>\n",
       "      <td>0.388119</td>\n",
       "      <td>0.525234</td>\n",
       "      <td>0.670193</td>\n",
       "      <td>10.551294</td>\n",
       "      <td>0.533188</td>\n",
       "      <td>17.617168</td>\n",
       "      <td>0.849354</td>\n",
       "      <td>30.409335</td>\n",
       "      <td>...</td>\n",
       "      <td>6.804587</td>\n",
       "      <td>6.232602</td>\n",
       "      <td>7.427955</td>\n",
       "      <td>10.454528</td>\n",
       "      <td>8.957018</td>\n",
       "      <td>6.457316</td>\n",
       "      <td>8.957018</td>\n",
       "      <td>8.491241</td>\n",
       "      <td>5.851326</td>\n",
       "      <td>5.913646</td>\n",
       "    </tr>\n",
       "    <tr>\n",
       "      <th>min</th>\n",
       "      <td>0.000000</td>\n",
       "      <td>1.000000</td>\n",
       "      <td>0.000000</td>\n",
       "      <td>1.000000</td>\n",
       "      <td>0.000000</td>\n",
       "      <td>25.000000</td>\n",
       "      <td>1.000000</td>\n",
       "      <td>0.000000</td>\n",
       "      <td>0.000000</td>\n",
       "      <td>0.000000</td>\n",
       "      <td>...</td>\n",
       "      <td>60.000000</td>\n",
       "      <td>55.000000</td>\n",
       "      <td>50.000000</td>\n",
       "      <td>40.000000</td>\n",
       "      <td>40.000000</td>\n",
       "      <td>55.000000</td>\n",
       "      <td>40.000000</td>\n",
       "      <td>50.000000</td>\n",
       "      <td>55.000000</td>\n",
       "      <td>55.000000</td>\n",
       "    </tr>\n",
       "    <tr>\n",
       "      <th>25%</th>\n",
       "      <td>58.250000</td>\n",
       "      <td>59.250000</td>\n",
       "      <td>0.000000</td>\n",
       "      <td>2.000000</td>\n",
       "      <td>0.000000</td>\n",
       "      <td>41.000000</td>\n",
       "      <td>2.000000</td>\n",
       "      <td>0.000000</td>\n",
       "      <td>1.500000</td>\n",
       "      <td>0.000000</td>\n",
       "      <td>...</td>\n",
       "      <td>70.000000</td>\n",
       "      <td>70.000000</td>\n",
       "      <td>70.000000</td>\n",
       "      <td>65.000000</td>\n",
       "      <td>65.000000</td>\n",
       "      <td>70.000000</td>\n",
       "      <td>65.000000</td>\n",
       "      <td>70.000000</td>\n",
       "      <td>71.250000</td>\n",
       "      <td>70.000000</td>\n",
       "    </tr>\n",
       "    <tr>\n",
       "      <th>50%</th>\n",
       "      <td>116.500000</td>\n",
       "      <td>117.500000</td>\n",
       "      <td>0.000000</td>\n",
       "      <td>2.000000</td>\n",
       "      <td>1.000000</td>\n",
       "      <td>49.000000</td>\n",
       "      <td>3.000000</td>\n",
       "      <td>0.000000</td>\n",
       "      <td>2.000000</td>\n",
       "      <td>20.000000</td>\n",
       "      <td>...</td>\n",
       "      <td>75.000000</td>\n",
       "      <td>75.000000</td>\n",
       "      <td>70.000000</td>\n",
       "      <td>70.000000</td>\n",
       "      <td>70.000000</td>\n",
       "      <td>75.000000</td>\n",
       "      <td>70.000000</td>\n",
       "      <td>70.000000</td>\n",
       "      <td>80.000000</td>\n",
       "      <td>75.000000</td>\n",
       "    </tr>\n",
       "    <tr>\n",
       "      <th>75%</th>\n",
       "      <td>174.750000</td>\n",
       "      <td>175.750000</td>\n",
       "      <td>0.000000</td>\n",
       "      <td>2.000000</td>\n",
       "      <td>1.000000</td>\n",
       "      <td>56.750000</td>\n",
       "      <td>3.000000</td>\n",
       "      <td>0.000000</td>\n",
       "      <td>2.000000</td>\n",
       "      <td>60.000000</td>\n",
       "      <td>...</td>\n",
       "      <td>80.000000</td>\n",
       "      <td>80.000000</td>\n",
       "      <td>75.000000</td>\n",
       "      <td>75.000000</td>\n",
       "      <td>78.750000</td>\n",
       "      <td>80.000000</td>\n",
       "      <td>78.750000</td>\n",
       "      <td>80.000000</td>\n",
       "      <td>80.000000</td>\n",
       "      <td>80.000000</td>\n",
       "    </tr>\n",
       "    <tr>\n",
       "      <th>max</th>\n",
       "      <td>233.000000</td>\n",
       "      <td>234.000000</td>\n",
       "      <td>1.000000</td>\n",
       "      <td>3.000000</td>\n",
       "      <td>3.000000</td>\n",
       "      <td>75.000000</td>\n",
       "      <td>3.000000</td>\n",
       "      <td>80.000000</td>\n",
       "      <td>3.000000</td>\n",
       "      <td>80.000000</td>\n",
       "      <td>...</td>\n",
       "      <td>90.000000</td>\n",
       "      <td>90.000000</td>\n",
       "      <td>90.000000</td>\n",
       "      <td>95.000000</td>\n",
       "      <td>85.000000</td>\n",
       "      <td>90.000000</td>\n",
       "      <td>85.000000</td>\n",
       "      <td>85.000000</td>\n",
       "      <td>90.000000</td>\n",
       "      <td>85.000000</td>\n",
       "    </tr>\n",
       "  </tbody>\n",
       "</table>\n",
       "<p>8 rows × 87 columns</p>\n",
       "</div>"
      ],
      "text/plain": [
       "       Unnamed: 0      sl.no.  \\\n",
       "count  234.000000  234.000000   \n",
       "mean   116.500000  117.500000   \n",
       "std     67.694165   67.694165   \n",
       "min      0.000000    1.000000   \n",
       "25%     58.250000   59.250000   \n",
       "50%    116.500000  117.500000   \n",
       "75%    174.750000  175.750000   \n",
       "max    233.000000  234.000000   \n",
       "\n",
       "       0- Good Outcome/no recurrence\\n1- Bad Outcome/recurrence  tumor size  \\\n",
       "count                                         234.000000         234.000000   \n",
       "mean                                            0.183761           1.944444   \n",
       "std                                             0.388119           0.525234   \n",
       "min                                             0.000000           1.000000   \n",
       "25%                                             0.000000           2.000000   \n",
       "50%                                             0.000000           2.000000   \n",
       "75%                                             0.000000           2.000000   \n",
       "max                                             1.000000           3.000000   \n",
       "\n",
       "       node status of the tumor  Age of the patient  tumor grade        A%-M  \\\n",
       "count                234.000000          234.000000   234.000000  234.000000   \n",
       "mean                   0.705128           48.974359     2.598291    6.581197   \n",
       "std                    0.670193           10.551294     0.533188   17.617168   \n",
       "min                    0.000000           25.000000     1.000000    0.000000   \n",
       "25%                    0.000000           41.000000     2.000000    0.000000   \n",
       "50%                    1.000000           49.000000     3.000000    0.000000   \n",
       "75%                    1.000000           56.750000     3.000000    0.000000   \n",
       "max                    3.000000           75.000000     3.000000   80.000000   \n",
       "\n",
       "             AI-M        A%-C  ...        R%-C        U%-C        V%-C  \\\n",
       "count  234.000000  234.000000  ...  234.000000  234.000000  234.000000   \n",
       "mean     1.737179   29.102564  ...   73.846154   75.320513   71.559829   \n",
       "std      0.849354   30.409335  ...    6.804587    6.232602    7.427955   \n",
       "min      0.000000    0.000000  ...   60.000000   55.000000   50.000000   \n",
       "25%      1.500000    0.000000  ...   70.000000   70.000000   70.000000   \n",
       "50%      2.000000   20.000000  ...   75.000000   75.000000   70.000000   \n",
       "75%      2.000000   60.000000  ...   80.000000   80.000000   75.000000   \n",
       "max      3.000000   80.000000  ...   90.000000   90.000000   90.000000   \n",
       "\n",
       "             W%-M        W%-C      ZA1%-M      ZA1%-C       ZB%-C       ZC%-C  \\\n",
       "count  234.000000  234.000000  234.000000  234.000000  234.000000  234.000000   \n",
       "mean    69.401709   70.170940   74.615385   70.170940   72.264957   76.303419   \n",
       "std     10.454528    8.957018    6.457316    8.957018    8.491241    5.851326   \n",
       "min     40.000000   40.000000   55.000000   40.000000   50.000000   55.000000   \n",
       "25%     65.000000   65.000000   70.000000   65.000000   70.000000   71.250000   \n",
       "50%     70.000000   70.000000   75.000000   70.000000   70.000000   80.000000   \n",
       "75%     75.000000   78.750000   80.000000   78.750000   80.000000   80.000000   \n",
       "max     95.000000   85.000000   90.000000   85.000000   85.000000   90.000000   \n",
       "\n",
       "            ZD%-C  \n",
       "count  234.000000  \n",
       "mean    74.914530  \n",
       "std      5.913646  \n",
       "min     55.000000  \n",
       "25%     70.000000  \n",
       "50%     75.000000  \n",
       "75%     80.000000  \n",
       "max     85.000000  \n",
       "\n",
       "[8 rows x 87 columns]"
      ]
     },
     "execution_count": 4,
     "metadata": {},
     "output_type": "execute_result"
    }
   ],
   "source": [
    "df.describe()"
   ]
  },
  {
   "cell_type": "code",
   "execution_count": 5,
   "metadata": {},
   "outputs": [],
   "source": [
    "from sklearn.model_selection import train_test_split"
   ]
  },
  {
   "cell_type": "code",
   "execution_count": 6,
   "metadata": {},
   "outputs": [],
   "source": [
    "X_res = df.iloc[:,3:].values\n",
    "y_res = df.iloc[:,2].values"
   ]
  },
  {
   "cell_type": "code",
   "execution_count": 7,
   "metadata": {},
   "outputs": [
    {
     "name": "stderr",
     "output_type": "stream",
     "text": [
      "Using TensorFlow backend.\n"
     ]
    }
   ],
   "source": [
    "from imblearn.under_sampling import NearMiss\n",
    "from imblearn.combine import SMOTETomek\n",
    "from imblearn.over_sampling import RandomOverSampler"
   ]
  },
  {
   "cell_type": "code",
   "execution_count": 8,
   "metadata": {},
   "outputs": [
    {
     "data": {
      "text/plain": [
       "(234, 84)"
      ]
     },
     "execution_count": 8,
     "metadata": {},
     "output_type": "execute_result"
    }
   ],
   "source": [
    "X_res.shape"
   ]
  },
  {
   "cell_type": "code",
   "execution_count": 9,
   "metadata": {},
   "outputs": [
    {
     "data": {
      "text/plain": [
       "(234,)"
      ]
     },
     "execution_count": 9,
     "metadata": {},
     "output_type": "execute_result"
    }
   ],
   "source": [
    "y_res.shape"
   ]
  },
  {
   "cell_type": "code",
   "execution_count": 10,
   "metadata": {},
   "outputs": [],
   "source": [
    "X_train, X_test, y_train, y_test = train_test_split(X_res,y_res, test_size=0.2, random_state=42)"
   ]
  },
  {
   "cell_type": "code",
   "execution_count": 11,
   "metadata": {},
   "outputs": [],
   "source": [
    "from sklearn.preprocessing import Normalizer"
   ]
  },
  {
   "cell_type": "code",
   "execution_count": 12,
   "metadata": {},
   "outputs": [],
   "source": [
    "scaler = Normalizer().fit(X_train)\n",
    "standarized_x = scaler.transform(X_train)\n",
    "standarized_x_test = scaler.transform(X_test)"
   ]
  },
  {
   "cell_type": "code",
   "execution_count": 13,
   "metadata": {},
   "outputs": [],
   "source": [
    "from sklearn.decomposition import PCA\n",
    "pca = PCA(n_components=2)\n",
    "pca.fit(X_res)\n",
    "y = pca.transform(X_res)\n",
    "df4 = pd.DataFrame(y,columns=['PC1','PC2'])"
   ]
  },
  {
   "cell_type": "code",
   "execution_count": 14,
   "metadata": {},
   "outputs": [],
   "source": [
    "df4['target'] = y_res"
   ]
  },
  {
   "cell_type": "code",
   "execution_count": 15,
   "metadata": {},
   "outputs": [
    {
     "data": {
      "text/html": [
       "<div>\n",
       "<style scoped>\n",
       "    .dataframe tbody tr th:only-of-type {\n",
       "        vertical-align: middle;\n",
       "    }\n",
       "\n",
       "    .dataframe tbody tr th {\n",
       "        vertical-align: top;\n",
       "    }\n",
       "\n",
       "    .dataframe thead th {\n",
       "        text-align: right;\n",
       "    }\n",
       "</style>\n",
       "<table border=\"1\" class=\"dataframe\">\n",
       "  <thead>\n",
       "    <tr style=\"text-align: right;\">\n",
       "      <th></th>\n",
       "      <th>PC1</th>\n",
       "      <th>PC2</th>\n",
       "      <th>target</th>\n",
       "    </tr>\n",
       "  </thead>\n",
       "  <tbody>\n",
       "    <tr>\n",
       "      <th>0</th>\n",
       "      <td>101.666535</td>\n",
       "      <td>-46.455263</td>\n",
       "      <td>0</td>\n",
       "    </tr>\n",
       "    <tr>\n",
       "      <th>1</th>\n",
       "      <td>-36.020765</td>\n",
       "      <td>2.915423</td>\n",
       "      <td>0</td>\n",
       "    </tr>\n",
       "    <tr>\n",
       "      <th>2</th>\n",
       "      <td>17.172778</td>\n",
       "      <td>-30.342317</td>\n",
       "      <td>0</td>\n",
       "    </tr>\n",
       "    <tr>\n",
       "      <th>3</th>\n",
       "      <td>81.549276</td>\n",
       "      <td>-17.967118</td>\n",
       "      <td>0</td>\n",
       "    </tr>\n",
       "    <tr>\n",
       "      <th>4</th>\n",
       "      <td>13.806879</td>\n",
       "      <td>25.281219</td>\n",
       "      <td>0</td>\n",
       "    </tr>\n",
       "  </tbody>\n",
       "</table>\n",
       "</div>"
      ],
      "text/plain": [
       "          PC1        PC2  target\n",
       "0  101.666535 -46.455263       0\n",
       "1  -36.020765   2.915423       0\n",
       "2   17.172778 -30.342317       0\n",
       "3   81.549276 -17.967118       0\n",
       "4   13.806879  25.281219       0"
      ]
     },
     "execution_count": 15,
     "metadata": {},
     "output_type": "execute_result"
    }
   ],
   "source": [
    "df4.head()"
   ]
  },
  {
   "cell_type": "code",
   "execution_count": 16,
   "metadata": {},
   "outputs": [
    {
     "data": {
      "text/plain": [
       "<seaborn.axisgrid.FacetGrid at 0x7f880eda7510>"
      ]
     },
     "execution_count": 16,
     "metadata": {},
     "output_type": "execute_result"
    },
    {
     "data": {
      "image/png": "[encoded data removed]",
      "text/plain": [
       "<Figure size 406.6x360 with 1 Axes>"
      ]
     },
     "metadata": {},
     "output_type": "display_data"
    }
   ],
   "source": [
    "sns.set(color_codes=True)\n",
    "sns.lmplot(data=df4, x='PC1', y='PC2', hue='target',\n",
    "                   fit_reg=False, legend=True, legend_out=True,markers=['*',\"d\"])"
   ]
  },
  {
   "cell_type": "code",
   "execution_count": 17,
   "metadata": {},
   "outputs": [],
   "source": [
    "X_train, X_test, y_train, y_test = train_test_split(df4.drop('target',axis=1),df4.target, test_size=0.2, random_state=42)"
   ]
  },
  {
   "cell_type": "code",
   "execution_count": 18,
   "metadata": {},
   "outputs": [],
   "source": [
    "from sklearn.naive_bayes import GaussianNB\n",
    "from sklearn.metrics import accuracy_score,confusion_matrix,classification_report"
   ]
  },
  {
   "cell_type": "code",
   "execution_count": 19,
   "metadata": {},
   "outputs": [],
   "source": [
    "model = GaussianNB()"
   ]
  },
  {
   "cell_type": "code",
   "execution_count": 20,
   "metadata": {},
   "outputs": [
    {
     "name": "stdout",
     "output_type": "stream",
     "text": [
      "0.7446808510638298\n",
      "[[35  0]\n",
      " [12  0]]\n",
      "              precision    recall  f1-score   support\n",
      "\n",
      "           0       0.74      1.00      0.85        35\n",
      "           1       0.00      0.00      0.00        12\n",
      "\n",
      "    accuracy                           0.74        47\n",
      "   macro avg       0.37      0.50      0.43        47\n",
      "weighted avg       0.55      0.74      0.64        47\n",
      "\n"
     ]
    },
    {
     "name": "stderr",
     "output_type": "stream",
     "text": [
      "/home/nitin/anaconda3/lib/python3.7/site-packages/sklearn/metrics/_classification.py:1268: UndefinedMetricWarning: Precision and F-score are ill-defined and being set to 0.0 in labels with no predicted samples. Use `zero_division` parameter to control this behavior.\n",
      "  _warn_prf(average, modifier, msg_start, len(result))\n"
     ]
    }
   ],
   "source": [
    "model.fit(X_train,y_train)\n",
    "y_pred = model.predict(X_test)\n",
    "print(accuracy_score(y_test,y_pred))\n",
    "print(confusion_matrix(y_test,y_pred))\n",
    "print(classification_report(y_test,y_pred))"
   ]
  },
  {
   "cell_type": "code",
   "execution_count": 21,
   "metadata": {},
   "outputs": [],
   "source": [
    "from sklearn.svm import SVC\n",
    "from sklearn.metrics import accuracy_score,confusion_matrix,classification_report"
   ]
  },
  {
   "cell_type": "code",
   "execution_count": 22,
   "metadata": {},
   "outputs": [],
   "source": [
    "model = SVC()"
   ]
  },
  {
   "cell_type": "code",
   "execution_count": 23,
   "metadata": {},
   "outputs": [
    {
     "name": "stdout",
     "output_type": "stream",
     "text": [
      "0.7446808510638298\n",
      "[[35  0]\n",
      " [12  0]]\n",
      "              precision    recall  f1-score   support\n",
      "\n",
      "           0       0.74      1.00      0.85        35\n",
      "           1       0.00      0.00      0.00        12\n",
      "\n",
      "    accuracy                           0.74        47\n",
      "   macro avg       0.37      0.50      0.43        47\n",
      "weighted avg       0.55      0.74      0.64        47\n",
      "\n"
     ]
    },
    {
     "name": "stderr",
     "output_type": "stream",
     "text": [
      "/home/nitin/anaconda3/lib/python3.7/site-packages/sklearn/metrics/_classification.py:1268: UndefinedMetricWarning: Precision and F-score are ill-defined and being set to 0.0 in labels with no predicted samples. Use `zero_division` parameter to control this behavior.\n",
      "  _warn_prf(average, modifier, msg_start, len(result))\n"
     ]
    }
   ],
   "source": [
    "model.fit(X_train,y_train)\n",
    "y_pred = model.predict(X_test)\n",
    "print(accuracy_score(y_test,y_pred))\n",
    "print(confusion_matrix(y_test,y_pred))\n",
    "print(classification_report(y_test,y_pred))"
   ]
  },
  {
   "cell_type": "code",
   "execution_count": 24,
   "metadata": {},
   "outputs": [],
   "source": [
    "from sklearn import neighbors\n",
    "from sklearn.metrics import accuracy_score,confusion_matrix,classification_report"
   ]
  },
  {
   "cell_type": "code",
   "execution_count": 25,
   "metadata": {},
   "outputs": [],
   "source": [
    "model = neighbors.KNeighborsClassifier(3)"
   ]
  },
  {
   "cell_type": "code",
   "execution_count": 26,
   "metadata": {},
   "outputs": [
    {
     "name": "stdout",
     "output_type": "stream",
     "text": [
      "0.723404255319149\n",
      "[[34  1]\n",
      " [12  0]]\n",
      "              precision    recall  f1-score   support\n",
      "\n",
      "           0       0.74      0.97      0.84        35\n",
      "           1       0.00      0.00      0.00        12\n",
      "\n",
      "    accuracy                           0.72        47\n",
      "   macro avg       0.37      0.49      0.42        47\n",
      "weighted avg       0.55      0.72      0.63        47\n",
      "\n"
     ]
    }
   ],
   "source": [
    "model.fit(X_train,y_train)\n",
    "y_pred = model.predict(X_test)\n",
    "print(accuracy_score(y_test,y_pred))\n",
    "print(confusion_matrix(y_test,y_pred))\n",
    "print(classification_report(y_test,y_pred))"
   ]
  },
  {
   "cell_type": "code",
   "execution_count": 27,
   "metadata": {},
   "outputs": [],
   "source": [
    "from sklearn.linear_model import LogisticRegression"
   ]
  },
  {
   "cell_type": "code",
   "execution_count": 28,
   "metadata": {},
   "outputs": [],
   "source": [
    "model = LogisticRegression()"
   ]
  },
  {
   "cell_type": "code",
   "execution_count": 29,
   "metadata": {},
   "outputs": [
    {
     "name": "stdout",
     "output_type": "stream",
     "text": [
      "0.7446808510638298\n",
      "[[35  0]\n",
      " [12  0]]\n",
      "              precision    recall  f1-score   support\n",
      "\n",
      "           0       0.74      1.00      0.85        35\n",
      "           1       0.00      0.00      0.00        12\n",
      "\n",
      "    accuracy                           0.74        47\n",
      "   macro avg       0.37      0.50      0.43        47\n",
      "weighted avg       0.55      0.74      0.64        47\n",
      "\n"
     ]
    },
    {
     "name": "stderr",
     "output_type": "stream",
     "text": [
      "/home/nitin/anaconda3/lib/python3.7/site-packages/sklearn/metrics/_classification.py:1268: UndefinedMetricWarning: Precision and F-score are ill-defined and being set to 0.0 in labels with no predicted samples. Use `zero_division` parameter to control this behavior.\n",
      "  _warn_prf(average, modifier, msg_start, len(result))\n"
     ]
    }
   ],
   "source": [
    "model.fit(X_train,y_train)\n",
    "y_pred = model.predict(X_test)\n",
    "print(accuracy_score(y_test,y_pred))\n",
    "print(confusion_matrix(y_test,y_pred))\n",
    "print(classification_report(y_test,y_pred))"
   ]
  },
  {
   "cell_type": "code",
   "execution_count": 30,
   "metadata": {},
   "outputs": [
    {
     "data": {
      "application/javascript": [
       "\n",
       "        if (window._pyforest_update_imports_cell) { window._pyforest_update_imports_cell('from sklearn.ensemble import RandomForestClassifier'); }\n",
       "    "
      ],
      "text/plain": [
       "<IPython.core.display.Javascript object>"
      ]
     },
     "metadata": {},
     "output_type": "display_data"
    }
   ],
   "source": [
    "model = RandomForestClassifier()"
   ]
  },
  {
   "cell_type": "code",
   "execution_count": 31,
   "metadata": {},
   "outputs": [
    {
     "name": "stdout",
     "output_type": "stream",
     "text": [
      "0.7021276595744681\n",
      "[[32  3]\n",
      " [11  1]]\n",
      "              precision    recall  f1-score   support\n",
      "\n",
      "           0       0.74      0.91      0.82        35\n",
      "           1       0.25      0.08      0.12        12\n",
      "\n",
      "    accuracy                           0.70        47\n",
      "   macro avg       0.50      0.50      0.47        47\n",
      "weighted avg       0.62      0.70      0.64        47\n",
      "\n"
     ]
    }
   ],
   "source": [
    "model.fit(X_train,y_train)\n",
    "y_pred = model.predict(X_test)\n",
    "print(accuracy_score(y_test,y_pred))\n",
    "print(confusion_matrix(y_test,y_pred))\n",
    "print(classification_report(y_test,y_pred))"
   ]
  },
  {
   "cell_type": "code",
   "execution_count": 32,
   "metadata": {},
   "outputs": [],
   "source": [
    "import xgboost as xgb"
   ]
  },
  {
   "cell_type": "code",
   "execution_count": 33,
   "metadata": {},
   "outputs": [],
   "source": [
    "model = xgb.XGBClassifier(objective='binary:logistic')"
   ]
  },
  {
   "cell_type": "code",
   "execution_count": 34,
   "metadata": {},
   "outputs": [
    {
     "name": "stdout",
     "output_type": "stream",
     "text": [
      "0.7446808510638298\n",
      "[[33  2]\n",
      " [10  2]]\n",
      "              precision    recall  f1-score   support\n",
      "\n",
      "           0       0.77      0.94      0.85        35\n",
      "           1       0.50      0.17      0.25        12\n",
      "\n",
      "    accuracy                           0.74        47\n",
      "   macro avg       0.63      0.55      0.55        47\n",
      "weighted avg       0.70      0.74      0.69        47\n",
      "\n"
     ]
    }
   ],
   "source": [
    "model.fit(X_train,y_train)\n",
    "y_pred = model.predict(X_test)\n",
    "print(accuracy_score(y_test,y_pred))\n",
    "print(confusion_matrix(y_test,y_pred))\n",
    "print(classification_report(y_test,y_pred))"
   ]
  },
  {
   "cell_type": "code",
   "execution_count": null,
   "metadata": {},
   "outputs": [],
   "source": []
  }
 ],
 "metadata": {
  "kernelspec": {
   "display_name": "Python 3",
   "language": "python",
   "name": "python3"
  },
  "language_info": {
   "codemirror_mode": {
    "name": "ipython",
    "version": 3
   },
   "file_extension": ".py",
   "mimetype": "text/x-python",
   "name": "python",
   "nbconvert_exporter": "python",
   "pygments_lexer": "ipython3",
   "version": "3.7.5"
  }
 },
 "nbformat": 4,
 "nbformat_minor": 2
}
