{
 "cells": [
  {
   "cell_type": "code",
   "execution_count": 1,
   "metadata": {},
   "outputs": [],
   "source": [
    "import pandas as pd\n",
    "import numpy as np"
   ]
  },
  {
   "cell_type": "code",
   "execution_count": 3,
   "metadata": {},
   "outputs": [],
   "source": [
    "df = pd.read_excel(\"preprocessed data.xlsx\")"
   ]
  },
  {
   "cell_type": "code",
   "execution_count": 4,
   "metadata": {},
   "outputs": [
    {
     "data": {
      "text/html": [
       "<div>\n",
       "<style scoped>\n",
       "    .dataframe tbody tr th:only-of-type {\n",
       "        vertical-align: middle;\n",
       "    }\n",
       "\n",
       "    .dataframe tbody tr th {\n",
       "        vertical-align: top;\n",
       "    }\n",
       "\n",
       "    .dataframe thead th {\n",
       "        text-align: right;\n",
       "    }\n",
       "</style>\n",
       "<table border=\"1\" class=\"dataframe\">\n",
       "  <thead>\n",
       "    <tr style=\"text-align: right;\">\n",
       "      <th></th>\n",
       "      <th>target</th>\n",
       "      <th>tumor size</th>\n",
       "      <th>node status of the tumor</th>\n",
       "      <th>Age of the patient</th>\n",
       "      <th>tumor grade</th>\n",
       "    </tr>\n",
       "  </thead>\n",
       "  <tbody>\n",
       "    <tr>\n",
       "      <th>0</th>\n",
       "      <td>0</td>\n",
       "      <td>2</td>\n",
       "      <td>1</td>\n",
       "      <td>60</td>\n",
       "      <td>3</td>\n",
       "    </tr>\n",
       "    <tr>\n",
       "      <th>1</th>\n",
       "      <td>0</td>\n",
       "      <td>1</td>\n",
       "      <td>1</td>\n",
       "      <td>55</td>\n",
       "      <td>2</td>\n",
       "    </tr>\n",
       "    <tr>\n",
       "      <th>2</th>\n",
       "      <td>0</td>\n",
       "      <td>1</td>\n",
       "      <td>1</td>\n",
       "      <td>33</td>\n",
       "      <td>3</td>\n",
       "    </tr>\n",
       "    <tr>\n",
       "      <th>3</th>\n",
       "      <td>0</td>\n",
       "      <td>1</td>\n",
       "      <td>1</td>\n",
       "      <td>67</td>\n",
       "      <td>2</td>\n",
       "    </tr>\n",
       "    <tr>\n",
       "      <th>4</th>\n",
       "      <td>0</td>\n",
       "      <td>1</td>\n",
       "      <td>1</td>\n",
       "      <td>47</td>\n",
       "      <td>2</td>\n",
       "    </tr>\n",
       "    <tr>\n",
       "      <th>...</th>\n",
       "      <td>...</td>\n",
       "      <td>...</td>\n",
       "      <td>...</td>\n",
       "      <td>...</td>\n",
       "      <td>...</td>\n",
       "    </tr>\n",
       "    <tr>\n",
       "      <th>229</th>\n",
       "      <td>1</td>\n",
       "      <td>2</td>\n",
       "      <td>2</td>\n",
       "      <td>55</td>\n",
       "      <td>2</td>\n",
       "    </tr>\n",
       "    <tr>\n",
       "      <th>230</th>\n",
       "      <td>1</td>\n",
       "      <td>3</td>\n",
       "      <td>2</td>\n",
       "      <td>45</td>\n",
       "      <td>2</td>\n",
       "    </tr>\n",
       "    <tr>\n",
       "      <th>231</th>\n",
       "      <td>1</td>\n",
       "      <td>3</td>\n",
       "      <td>2</td>\n",
       "      <td>37</td>\n",
       "      <td>3</td>\n",
       "    </tr>\n",
       "    <tr>\n",
       "      <th>232</th>\n",
       "      <td>1</td>\n",
       "      <td>3</td>\n",
       "      <td>2</td>\n",
       "      <td>58</td>\n",
       "      <td>2</td>\n",
       "    </tr>\n",
       "    <tr>\n",
       "      <th>233</th>\n",
       "      <td>1</td>\n",
       "      <td>1</td>\n",
       "      <td>1</td>\n",
       "      <td>52</td>\n",
       "      <td>2</td>\n",
       "    </tr>\n",
       "  </tbody>\n",
       "</table>\n",
       "<p>234 rows × 5 columns</p>\n",
       "</div>"
      ],
      "text/plain": [
       "     target  tumor size  node status of the tumor  Age of the patient  \\\n",
       "0         0           2                         1                  60   \n",
       "1         0           1                         1                  55   \n",
       "2         0           1                         1                  33   \n",
       "3         0           1                         1                  67   \n",
       "4         0           1                         1                  47   \n",
       "..      ...         ...                       ...                 ...   \n",
       "229       1           2                         2                  55   \n",
       "230       1           3                         2                  45   \n",
       "231       1           3                         2                  37   \n",
       "232       1           3                         2                  58   \n",
       "233       1           1                         1                  52   \n",
       "\n",
       "     tumor grade  \n",
       "0              3  \n",
       "1              2  \n",
       "2              3  \n",
       "3              2  \n",
       "4              2  \n",
       "..           ...  \n",
       "229            2  \n",
       "230            2  \n",
       "231            3  \n",
       "232            2  \n",
       "233            2  \n",
       "\n",
       "[234 rows x 5 columns]"
      ]
     },
     "execution_count": 4,
     "metadata": {},
     "output_type": "execute_result"
    }
   ],
   "source": [
    "df"
   ]
  },
  {
   "cell_type": "code",
   "execution_count": 6,
   "metadata": {},
   "outputs": [
    {
     "name": "stdout",
     "output_type": "stream",
     "text": [
      "\n",
      "Setup Succesfully Completed!\n"
     ]
    },
    {
     "data": {
      "text/html": [
       "<style  type=\"text/css\" >\n",
       "</style><table id=\"T_e4101c08_9434_11ea_9550_11ceec1dde6c\" ><thead>    <tr>        <th class=\"blank level0\" ></th>        <th class=\"col_heading level0 col0\" >Description</th>        <th class=\"col_heading level0 col1\" >Value</th>    </tr></thead><tbody>\n",
       "                <tr>\n",
       "                        <th id=\"T_e4101c08_9434_11ea_9550_11ceec1dde6clevel0_row0\" class=\"row_heading level0 row0\" >0</th>\n",
       "                        <td id=\"T_e4101c08_9434_11ea_9550_11ceec1dde6crow0_col0\" class=\"data row0 col0\" >session_id </td>\n",
       "                        <td id=\"T_e4101c08_9434_11ea_9550_11ceec1dde6crow0_col1\" class=\"data row0 col1\" >2616</td>\n",
       "            </tr>\n",
       "            <tr>\n",
       "                        <th id=\"T_e4101c08_9434_11ea_9550_11ceec1dde6clevel0_row1\" class=\"row_heading level0 row1\" >1</th>\n",
       "                        <td id=\"T_e4101c08_9434_11ea_9550_11ceec1dde6crow1_col0\" class=\"data row1 col0\" >Original Data </td>\n",
       "                        <td id=\"T_e4101c08_9434_11ea_9550_11ceec1dde6crow1_col1\" class=\"data row1 col1\" >(234, 5)</td>\n",
       "            </tr>\n",
       "            <tr>\n",
       "                        <th id=\"T_e4101c08_9434_11ea_9550_11ceec1dde6clevel0_row2\" class=\"row_heading level0 row2\" >2</th>\n",
       "                        <td id=\"T_e4101c08_9434_11ea_9550_11ceec1dde6crow2_col0\" class=\"data row2 col0\" >Missing Values </td>\n",
       "                        <td id=\"T_e4101c08_9434_11ea_9550_11ceec1dde6crow2_col1\" class=\"data row2 col1\" >False</td>\n",
       "            </tr>\n",
       "            <tr>\n",
       "                        <th id=\"T_e4101c08_9434_11ea_9550_11ceec1dde6clevel0_row3\" class=\"row_heading level0 row3\" >3</th>\n",
       "                        <td id=\"T_e4101c08_9434_11ea_9550_11ceec1dde6crow3_col0\" class=\"data row3 col0\" >Numeric Features </td>\n",
       "                        <td id=\"T_e4101c08_9434_11ea_9550_11ceec1dde6crow3_col1\" class=\"data row3 col1\" >1</td>\n",
       "            </tr>\n",
       "            <tr>\n",
       "                        <th id=\"T_e4101c08_9434_11ea_9550_11ceec1dde6clevel0_row4\" class=\"row_heading level0 row4\" >4</th>\n",
       "                        <td id=\"T_e4101c08_9434_11ea_9550_11ceec1dde6crow4_col0\" class=\"data row4 col0\" >Categorical Features </td>\n",
       "                        <td id=\"T_e4101c08_9434_11ea_9550_11ceec1dde6crow4_col1\" class=\"data row4 col1\" >4</td>\n",
       "            </tr>\n",
       "            <tr>\n",
       "                        <th id=\"T_e4101c08_9434_11ea_9550_11ceec1dde6clevel0_row5\" class=\"row_heading level0 row5\" >5</th>\n",
       "                        <td id=\"T_e4101c08_9434_11ea_9550_11ceec1dde6crow5_col0\" class=\"data row5 col0\" >Ordinal Features </td>\n",
       "                        <td id=\"T_e4101c08_9434_11ea_9550_11ceec1dde6crow5_col1\" class=\"data row5 col1\" >False</td>\n",
       "            </tr>\n",
       "            <tr>\n",
       "                        <th id=\"T_e4101c08_9434_11ea_9550_11ceec1dde6clevel0_row6\" class=\"row_heading level0 row6\" >6</th>\n",
       "                        <td id=\"T_e4101c08_9434_11ea_9550_11ceec1dde6crow6_col0\" class=\"data row6 col0\" >High Cardinality Features </td>\n",
       "                        <td id=\"T_e4101c08_9434_11ea_9550_11ceec1dde6crow6_col1\" class=\"data row6 col1\" >False</td>\n",
       "            </tr>\n",
       "            <tr>\n",
       "                        <th id=\"T_e4101c08_9434_11ea_9550_11ceec1dde6clevel0_row7\" class=\"row_heading level0 row7\" >7</th>\n",
       "                        <td id=\"T_e4101c08_9434_11ea_9550_11ceec1dde6crow7_col0\" class=\"data row7 col0\" >Transformed Data </td>\n",
       "                        <td id=\"T_e4101c08_9434_11ea_9550_11ceec1dde6crow7_col1\" class=\"data row7 col1\" >(234, 13)</td>\n",
       "            </tr>\n",
       "            <tr>\n",
       "                        <th id=\"T_e4101c08_9434_11ea_9550_11ceec1dde6clevel0_row8\" class=\"row_heading level0 row8\" >8</th>\n",
       "                        <td id=\"T_e4101c08_9434_11ea_9550_11ceec1dde6crow8_col0\" class=\"data row8 col0\" >Numeric Imputer </td>\n",
       "                        <td id=\"T_e4101c08_9434_11ea_9550_11ceec1dde6crow8_col1\" class=\"data row8 col1\" >mean</td>\n",
       "            </tr>\n",
       "            <tr>\n",
       "                        <th id=\"T_e4101c08_9434_11ea_9550_11ceec1dde6clevel0_row9\" class=\"row_heading level0 row9\" >9</th>\n",
       "                        <td id=\"T_e4101c08_9434_11ea_9550_11ceec1dde6crow9_col0\" class=\"data row9 col0\" >Categorical Imputer </td>\n",
       "                        <td id=\"T_e4101c08_9434_11ea_9550_11ceec1dde6crow9_col1\" class=\"data row9 col1\" >constant</td>\n",
       "            </tr>\n",
       "            <tr>\n",
       "                        <th id=\"T_e4101c08_9434_11ea_9550_11ceec1dde6clevel0_row10\" class=\"row_heading level0 row10\" >10</th>\n",
       "                        <td id=\"T_e4101c08_9434_11ea_9550_11ceec1dde6crow10_col0\" class=\"data row10 col0\" >Normalize </td>\n",
       "                        <td id=\"T_e4101c08_9434_11ea_9550_11ceec1dde6crow10_col1\" class=\"data row10 col1\" >False</td>\n",
       "            </tr>\n",
       "            <tr>\n",
       "                        <th id=\"T_e4101c08_9434_11ea_9550_11ceec1dde6clevel0_row11\" class=\"row_heading level0 row11\" >11</th>\n",
       "                        <td id=\"T_e4101c08_9434_11ea_9550_11ceec1dde6crow11_col0\" class=\"data row11 col0\" >Normalize Method </td>\n",
       "                        <td id=\"T_e4101c08_9434_11ea_9550_11ceec1dde6crow11_col1\" class=\"data row11 col1\" >None</td>\n",
       "            </tr>\n",
       "            <tr>\n",
       "                        <th id=\"T_e4101c08_9434_11ea_9550_11ceec1dde6clevel0_row12\" class=\"row_heading level0 row12\" >12</th>\n",
       "                        <td id=\"T_e4101c08_9434_11ea_9550_11ceec1dde6crow12_col0\" class=\"data row12 col0\" >Transformation </td>\n",
       "                        <td id=\"T_e4101c08_9434_11ea_9550_11ceec1dde6crow12_col1\" class=\"data row12 col1\" >False</td>\n",
       "            </tr>\n",
       "            <tr>\n",
       "                        <th id=\"T_e4101c08_9434_11ea_9550_11ceec1dde6clevel0_row13\" class=\"row_heading level0 row13\" >13</th>\n",
       "                        <td id=\"T_e4101c08_9434_11ea_9550_11ceec1dde6crow13_col0\" class=\"data row13 col0\" >Transformation Method </td>\n",
       "                        <td id=\"T_e4101c08_9434_11ea_9550_11ceec1dde6crow13_col1\" class=\"data row13 col1\" >None</td>\n",
       "            </tr>\n",
       "            <tr>\n",
       "                        <th id=\"T_e4101c08_9434_11ea_9550_11ceec1dde6clevel0_row14\" class=\"row_heading level0 row14\" >14</th>\n",
       "                        <td id=\"T_e4101c08_9434_11ea_9550_11ceec1dde6crow14_col0\" class=\"data row14 col0\" >PCA </td>\n",
       "                        <td id=\"T_e4101c08_9434_11ea_9550_11ceec1dde6crow14_col1\" class=\"data row14 col1\" >False</td>\n",
       "            </tr>\n",
       "            <tr>\n",
       "                        <th id=\"T_e4101c08_9434_11ea_9550_11ceec1dde6clevel0_row15\" class=\"row_heading level0 row15\" >15</th>\n",
       "                        <td id=\"T_e4101c08_9434_11ea_9550_11ceec1dde6crow15_col0\" class=\"data row15 col0\" >PCA Method </td>\n",
       "                        <td id=\"T_e4101c08_9434_11ea_9550_11ceec1dde6crow15_col1\" class=\"data row15 col1\" >None</td>\n",
       "            </tr>\n",
       "            <tr>\n",
       "                        <th id=\"T_e4101c08_9434_11ea_9550_11ceec1dde6clevel0_row16\" class=\"row_heading level0 row16\" >16</th>\n",
       "                        <td id=\"T_e4101c08_9434_11ea_9550_11ceec1dde6crow16_col0\" class=\"data row16 col0\" >PCA components </td>\n",
       "                        <td id=\"T_e4101c08_9434_11ea_9550_11ceec1dde6crow16_col1\" class=\"data row16 col1\" >None</td>\n",
       "            </tr>\n",
       "            <tr>\n",
       "                        <th id=\"T_e4101c08_9434_11ea_9550_11ceec1dde6clevel0_row17\" class=\"row_heading level0 row17\" >17</th>\n",
       "                        <td id=\"T_e4101c08_9434_11ea_9550_11ceec1dde6crow17_col0\" class=\"data row17 col0\" >Ignore Low Variance </td>\n",
       "                        <td id=\"T_e4101c08_9434_11ea_9550_11ceec1dde6crow17_col1\" class=\"data row17 col1\" >False</td>\n",
       "            </tr>\n",
       "            <tr>\n",
       "                        <th id=\"T_e4101c08_9434_11ea_9550_11ceec1dde6clevel0_row18\" class=\"row_heading level0 row18\" >18</th>\n",
       "                        <td id=\"T_e4101c08_9434_11ea_9550_11ceec1dde6crow18_col0\" class=\"data row18 col0\" >Combine Rare Levels </td>\n",
       "                        <td id=\"T_e4101c08_9434_11ea_9550_11ceec1dde6crow18_col1\" class=\"data row18 col1\" >False</td>\n",
       "            </tr>\n",
       "            <tr>\n",
       "                        <th id=\"T_e4101c08_9434_11ea_9550_11ceec1dde6clevel0_row19\" class=\"row_heading level0 row19\" >19</th>\n",
       "                        <td id=\"T_e4101c08_9434_11ea_9550_11ceec1dde6crow19_col0\" class=\"data row19 col0\" >Rare Level Threshold </td>\n",
       "                        <td id=\"T_e4101c08_9434_11ea_9550_11ceec1dde6crow19_col1\" class=\"data row19 col1\" >None</td>\n",
       "            </tr>\n",
       "            <tr>\n",
       "                        <th id=\"T_e4101c08_9434_11ea_9550_11ceec1dde6clevel0_row20\" class=\"row_heading level0 row20\" >20</th>\n",
       "                        <td id=\"T_e4101c08_9434_11ea_9550_11ceec1dde6crow20_col0\" class=\"data row20 col0\" >Numeric Binning </td>\n",
       "                        <td id=\"T_e4101c08_9434_11ea_9550_11ceec1dde6crow20_col1\" class=\"data row20 col1\" >False</td>\n",
       "            </tr>\n",
       "            <tr>\n",
       "                        <th id=\"T_e4101c08_9434_11ea_9550_11ceec1dde6clevel0_row21\" class=\"row_heading level0 row21\" >21</th>\n",
       "                        <td id=\"T_e4101c08_9434_11ea_9550_11ceec1dde6crow21_col0\" class=\"data row21 col0\" >Remove Multicollinearity </td>\n",
       "                        <td id=\"T_e4101c08_9434_11ea_9550_11ceec1dde6crow21_col1\" class=\"data row21 col1\" >False</td>\n",
       "            </tr>\n",
       "            <tr>\n",
       "                        <th id=\"T_e4101c08_9434_11ea_9550_11ceec1dde6clevel0_row22\" class=\"row_heading level0 row22\" >22</th>\n",
       "                        <td id=\"T_e4101c08_9434_11ea_9550_11ceec1dde6crow22_col0\" class=\"data row22 col0\" >Multicollinearity Threshold </td>\n",
       "                        <td id=\"T_e4101c08_9434_11ea_9550_11ceec1dde6crow22_col1\" class=\"data row22 col1\" >None</td>\n",
       "            </tr>\n",
       "            <tr>\n",
       "                        <th id=\"T_e4101c08_9434_11ea_9550_11ceec1dde6clevel0_row23\" class=\"row_heading level0 row23\" >23</th>\n",
       "                        <td id=\"T_e4101c08_9434_11ea_9550_11ceec1dde6crow23_col0\" class=\"data row23 col0\" >Group Features </td>\n",
       "                        <td id=\"T_e4101c08_9434_11ea_9550_11ceec1dde6crow23_col1\" class=\"data row23 col1\" >False</td>\n",
       "            </tr>\n",
       "    </tbody></table>"
      ],
      "text/plain": [
       "<pandas.io.formats.style.Styler at 0x7f42b8a6de50>"
      ]
     },
     "metadata": {},
     "output_type": "display_data"
    }
   ],
   "source": [
    "from pycaret.anomaly import *\n",
    "#intialize the setup\n",
    "exp_ano = setup(df)"
   ]
  },
  {
   "cell_type": "code",
   "execution_count": 7,
   "metadata": {},
   "outputs": [],
   "source": [
    "knn = create_model('knn')"
   ]
  },
  {
   "cell_type": "code",
   "execution_count": 9,
   "metadata": {},
   "outputs": [
    {
     "data": {
      "text/html": [
       "<div>\n",
       "<style scoped>\n",
       "    .dataframe tbody tr th:only-of-type {\n",
       "        vertical-align: middle;\n",
       "    }\n",
       "\n",
       "    .dataframe tbody tr th {\n",
       "        vertical-align: top;\n",
       "    }\n",
       "\n",
       "    .dataframe thead th {\n",
       "        text-align: right;\n",
       "    }\n",
       "</style>\n",
       "<table border=\"1\" class=\"dataframe\">\n",
       "  <thead>\n",
       "    <tr style=\"text-align: right;\">\n",
       "      <th></th>\n",
       "      <th>target</th>\n",
       "      <th>tumor size</th>\n",
       "      <th>node status of the tumor</th>\n",
       "      <th>Age of the patient</th>\n",
       "      <th>tumor grade</th>\n",
       "      <th>Label</th>\n",
       "      <th>Score</th>\n",
       "    </tr>\n",
       "  </thead>\n",
       "  <tbody>\n",
       "    <tr>\n",
       "      <th>0</th>\n",
       "      <td>0</td>\n",
       "      <td>2</td>\n",
       "      <td>1</td>\n",
       "      <td>60</td>\n",
       "      <td>3</td>\n",
       "      <td>0</td>\n",
       "      <td>1.414214</td>\n",
       "    </tr>\n",
       "    <tr>\n",
       "      <th>1</th>\n",
       "      <td>0</td>\n",
       "      <td>1</td>\n",
       "      <td>1</td>\n",
       "      <td>55</td>\n",
       "      <td>2</td>\n",
       "      <td>0</td>\n",
       "      <td>2.000000</td>\n",
       "    </tr>\n",
       "    <tr>\n",
       "      <th>2</th>\n",
       "      <td>0</td>\n",
       "      <td>1</td>\n",
       "      <td>1</td>\n",
       "      <td>33</td>\n",
       "      <td>3</td>\n",
       "      <td>0</td>\n",
       "      <td>2.449490</td>\n",
       "    </tr>\n",
       "    <tr>\n",
       "      <th>3</th>\n",
       "      <td>0</td>\n",
       "      <td>1</td>\n",
       "      <td>1</td>\n",
       "      <td>67</td>\n",
       "      <td>2</td>\n",
       "      <td>0</td>\n",
       "      <td>2.236068</td>\n",
       "    </tr>\n",
       "    <tr>\n",
       "      <th>4</th>\n",
       "      <td>0</td>\n",
       "      <td>1</td>\n",
       "      <td>1</td>\n",
       "      <td>47</td>\n",
       "      <td>2</td>\n",
       "      <td>0</td>\n",
       "      <td>1.732051</td>\n",
       "    </tr>\n",
       "    <tr>\n",
       "      <th>...</th>\n",
       "      <td>...</td>\n",
       "      <td>...</td>\n",
       "      <td>...</td>\n",
       "      <td>...</td>\n",
       "      <td>...</td>\n",
       "      <td>...</td>\n",
       "      <td>...</td>\n",
       "    </tr>\n",
       "    <tr>\n",
       "      <th>229</th>\n",
       "      <td>1</td>\n",
       "      <td>2</td>\n",
       "      <td>2</td>\n",
       "      <td>55</td>\n",
       "      <td>2</td>\n",
       "      <td>0</td>\n",
       "      <td>2.236068</td>\n",
       "    </tr>\n",
       "    <tr>\n",
       "      <th>230</th>\n",
       "      <td>1</td>\n",
       "      <td>3</td>\n",
       "      <td>2</td>\n",
       "      <td>45</td>\n",
       "      <td>2</td>\n",
       "      <td>0</td>\n",
       "      <td>2.236068</td>\n",
       "    </tr>\n",
       "    <tr>\n",
       "      <th>231</th>\n",
       "      <td>1</td>\n",
       "      <td>3</td>\n",
       "      <td>2</td>\n",
       "      <td>37</td>\n",
       "      <td>3</td>\n",
       "      <td>0</td>\n",
       "      <td>2.236068</td>\n",
       "    </tr>\n",
       "    <tr>\n",
       "      <th>232</th>\n",
       "      <td>1</td>\n",
       "      <td>3</td>\n",
       "      <td>2</td>\n",
       "      <td>58</td>\n",
       "      <td>2</td>\n",
       "      <td>0</td>\n",
       "      <td>2.449490</td>\n",
       "    </tr>\n",
       "    <tr>\n",
       "      <th>233</th>\n",
       "      <td>1</td>\n",
       "      <td>1</td>\n",
       "      <td>1</td>\n",
       "      <td>52</td>\n",
       "      <td>2</td>\n",
       "      <td>0</td>\n",
       "      <td>2.236068</td>\n",
       "    </tr>\n",
       "  </tbody>\n",
       "</table>\n",
       "<p>234 rows × 7 columns</p>\n",
       "</div>"
      ],
      "text/plain": [
       "     target  tumor size  node status of the tumor  Age of the patient  \\\n",
       "0         0           2                         1                  60   \n",
       "1         0           1                         1                  55   \n",
       "2         0           1                         1                  33   \n",
       "3         0           1                         1                  67   \n",
       "4         0           1                         1                  47   \n",
       "..      ...         ...                       ...                 ...   \n",
       "229       1           2                         2                  55   \n",
       "230       1           3                         2                  45   \n",
       "231       1           3                         2                  37   \n",
       "232       1           3                         2                  58   \n",
       "233       1           1                         1                  52   \n",
       "\n",
       "     tumor grade  Label     Score  \n",
       "0              3      0  1.414214  \n",
       "1              2      0  2.000000  \n",
       "2              3      0  2.449490  \n",
       "3              2      0  2.236068  \n",
       "4              2      0  1.732051  \n",
       "..           ...    ...       ...  \n",
       "229            2      0  2.236068  \n",
       "230            2      0  2.236068  \n",
       "231            3      0  2.236068  \n",
       "232            2      0  2.449490  \n",
       "233            2      0  2.236068  \n",
       "\n",
       "[234 rows x 7 columns]"
      ]
     },
     "execution_count": 9,
     "metadata": {},
     "output_type": "execute_result"
    }
   ],
   "source": [
    "knn_df = assign_model(knn)\n",
    "knn_df"
   ]
  },
  {
   "cell_type": "code",
   "execution_count": 10,
   "metadata": {},
   "outputs": [
    {
     "data": {
      "text/html": [
       "        <script type=\"text/javascript\">\n",
       "        window.PlotlyConfig = {MathJaxConfig: 'local'};\n",
       "        if (window.MathJax) {MathJax.Hub.Config({SVG: {font: \"STIX-Web\"}});}\n",
       "        if (typeof require !== 'undefined') {\n",
       "        require.undef(\"plotly\");\n",
       "        requirejs.config({\n",
       "            paths: {\n",
       "                'plotly': ['https://cdn.plot.ly/plotly-latest.min']\n",
       "            }\n",
       "        });\n",
       "        require(['plotly'], function(Plotly) {\n",
       "            window._Plotly = Plotly;\n",
       "        });\n",
       "        }\n",
       "        </script>\n",
       "        "
      ]
     },
     "metadata": {},
     "output_type": "display_data"
    },
    {
     "data": {
      "application/vnd.plotly.v1+json": {
       "config": {
        "plotlyServerURL": "https://plot.ly"
       },
       "data": [
        {
         "customdata": [
          [
           0
          ],
          [
           0
          ],
          [
           0
          ],
          [
           0
          ],
          [
           0
          ],
          [
           0
          ],
          [
           0
          ],
          [
           0
          ],
          [
           0
          ],
          [
           0
          ],
          [
           0
          ],
          [
           0
          ],
          [
           0
          ],
          [
           0
          ],
          [
           0
          ],
          [
           0
          ],
          [
           0
          ],
          [
           0
          ],
          [
           0
          ],
          [
           0
          ],
          [
           0
          ],
          [
           0
          ],
          [
           0
          ],
          [
           0
          ],
          [
           0
          ],
          [
           0
          ],
          [
           0
          ],
          [
           0
          ],
          [
           0
          ],
          [
           0
          ],
          [
           0
          ],
          [
           0
          ],
          [
           0
          ],
          [
           0
          ],
          [
           0
          ],
          [
           0
          ],
          [
           0
          ],
          [
           0
          ],
          [
           0
          ],
          [
           0
          ],
          [
           0
          ],
          [
           0
          ],
          [
           0
          ],
          [
           0
          ],
          [
           0
          ],
          [
           0
          ],
          [
           0
          ],
          [
           0
          ],
          [
           0
          ],
          [
           0
          ],
          [
           0
          ],
          [
           0
          ],
          [
           0
          ],
          [
           0
          ],
          [
           0
          ],
          [
           0
          ],
          [
           0
          ],
          [
           0
          ],
          [
           0
          ],
          [
           0
          ],
          [
           0
          ],
          [
           0
          ],
          [
           0
          ],
          [
           0
          ],
          [
           0
          ],
          [
           0
          ],
          [
           0
          ],
          [
           0
          ],
          [
           0
          ],
          [
           0
          ],
          [
           0
          ],
          [
           0
          ],
          [
           0
          ],
          [
           0
          ],
          [
           0
          ],
          [
           0
          ],
          [
           0
          ],
          [
           0
          ],
          [
           0
          ],
          [
           0
          ],
          [
           0
          ],
          [
           0
          ],
          [
           0
          ],
          [
           0
          ],
          [
           0
          ],
          [
           0
          ],
          [
           0
          ],
          [
           0
          ],
          [
           0
          ],
          [
           0
          ],
          [
           0
          ],
          [
           0
          ],
          [
           0
          ],
          [
           0
          ],
          [
           0
          ],
          [
           0
          ],
          [
           0
          ],
          [
           0
          ],
          [
           0
          ],
          [
           0
          ],
          [
           0
          ],
          [
           0
          ],
          [
           0
          ],
          [
           0
          ],
          [
           0
          ],
          [
           0
          ],
          [
           0
          ],
          [
           0
          ],
          [
           0
          ],
          [
           0
          ],
          [
           0
          ],
          [
           0
          ],
          [
           0
          ],
          [
           0
          ],
          [
           0
          ],
          [
           0
          ],
          [
           0
          ],
          [
           0
          ],
          [
           0
          ],
          [
           0
          ],
          [
           0
          ],
          [
           0
          ],
          [
           0
          ],
          [
           0
          ],
          [
           0
          ],
          [
           0
          ],
          [
           0
          ],
          [
           0
          ],
          [
           0
          ],
          [
           0
          ],
          [
           0
          ],
          [
           0
          ],
          [
           0
          ],
          [
           0
          ],
          [
           0
          ],
          [
           0
          ],
          [
           0
          ],
          [
           0
          ],
          [
           0
          ],
          [
           0
          ],
          [
           0
          ],
          [
           0
          ],
          [
           0
          ],
          [
           0
          ],
          [
           0
          ],
          [
           0
          ],
          [
           0
          ],
          [
           0
          ],
          [
           0
          ],
          [
           0
          ],
          [
           0
          ],
          [
           0
          ],
          [
           0
          ],
          [
           0
          ],
          [
           0
          ],
          [
           0
          ],
          [
           0
          ],
          [
           0
          ],
          [
           0
          ],
          [
           0
          ],
          [
           0
          ],
          [
           0
          ],
          [
           0
          ],
          [
           0
          ],
          [
           0
          ],
          [
           0
          ],
          [
           0
          ],
          [
           0
          ],
          [
           0
          ],
          [
           0
          ],
          [
           0
          ],
          [
           0
          ],
          [
           0
          ],
          [
           0
          ],
          [
           0
          ],
          [
           0
          ],
          [
           0
          ],
          [
           0
          ],
          [
           0
          ],
          [
           0
          ],
          [
           0
          ],
          [
           0
          ],
          [
           0
          ],
          [
           0
          ],
          [
           0
          ],
          [
           0
          ],
          [
           0
          ],
          [
           0
          ],
          [
           0
          ],
          [
           0
          ],
          [
           0
          ],
          [
           1
          ],
          [
           1
          ],
          [
           1
          ],
          [
           1
          ],
          [
           1
          ],
          [
           1
          ],
          [
           1
          ],
          [
           1
          ],
          [
           1
          ],
          [
           1
          ],
          [
           1
          ],
          [
           1
          ],
          [
           1
          ],
          [
           1
          ],
          [
           1
          ],
          [
           1
          ],
          [
           1
          ],
          [
           1
          ],
          [
           1
          ],
          [
           1
          ],
          [
           1
          ],
          [
           1
          ],
          [
           1
          ],
          [
           1
          ],
          [
           1
          ],
          [
           1
          ],
          [
           1
          ],
          [
           1
          ],
          [
           1
          ],
          [
           1
          ],
          [
           1
          ],
          [
           1
          ],
          [
           1
          ],
          [
           1
          ],
          [
           1
          ],
          [
           1
          ],
          [
           1
          ],
          [
           1
          ],
          [
           1
          ],
          [
           1
          ],
          [
           1
          ],
          [
           1
          ],
          [
           1
          ]
         ],
         "hoverlabel": {
          "namelength": 0
         },
         "hovertemplate": "0=%{x}<br>1=%{y}<br>2=%{z}<br>Feature=%{customdata[0]}<br>Label=%{marker.color}",
         "legendgroup": "",
         "marker": {
          "color": [
           0,
           0,
           0,
           0,
           0,
           0,
           0,
           1,
           0,
           0,
           0,
           0,
           0,
           0,
           0,
           0,
           0,
           0,
           0,
           0,
           0,
           0,
           0,
           0,
           0,
           1,
           0,
           0,
           0,
           0,
           0,
           0,
           0,
           0,
           0,
           0,
           0,
           0,
           0,
           0,
           0,
           0,
           0,
           0,
           0,
           0,
           0,
           0,
           0,
           0,
           0,
           0,
           0,
           0,
           0,
           0,
           0,
           0,
           0,
           0,
           0,
           0,
           0,
           0,
           0,
           0,
           0,
           0,
           0,
           0,
           0,
           1,
           0,
           0,
           0,
           0,
           1,
           0,
           0,
           0,
           0,
           0,
           0,
           0,
           0,
           0,
           0,
           0,
           0,
           0,
           0,
           0,
           0,
           0,
           0,
           0,
           0,
           0,
           0,
           0,
           0,
           0,
           0,
           0,
           0,
           0,
           0,
           0,
           0,
           0,
           0,
           0,
           0,
           0,
           0,
           0,
           0,
           1,
           0,
           0,
           0,
           0,
           0,
           0,
           0,
           0,
           0,
           0,
           0,
           0,
           0,
           0,
           0,
           0,
           0,
           0,
           0,
           0,
           0,
           0,
           0,
           0,
           0,
           0,
           0,
           0,
           0,
           1,
           0,
           1,
           0,
           0,
           0,
           0,
           0,
           0,
           0,
           0,
           0,
           0,
           0,
           0,
           0,
           0,
           0,
           0,
           0,
           0,
           0,
           0,
           0,
           1,
           0,
           0,
           1,
           0,
           0,
           0,
           0,
           0,
           0,
           0,
           0,
           0,
           0,
           0,
           0,
           0,
           0,
           0,
           1,
           0,
           0,
           0,
           0,
           0,
           0,
           0,
           0,
           0,
           0,
           0,
           0,
           0,
           0,
           0,
           0,
           0,
           0,
           0,
           0,
           0,
           0,
           0,
           0,
           0,
           0,
           0,
           0,
           0,
           0,
           0,
           0,
           0,
           0,
           0,
           0,
           0,
           1,
           0,
           0,
           0,
           0,
           0
          ],
          "coloraxis": "coloraxis",
          "opacity": 0.7,
          "symbol": "circle"
         },
         "mode": "markers",
         "name": "",
         "scene": "scene",
         "showlegend": false,
         "type": "scatter3d",
         "x": [
          -71.07797241210938,
          -43.15918731689453,
          105.97745513916016,
          -50.198177337646484,
          29.21571159362793,
          112.98652648925781,
          3.2897391319274902,
          24.00128936767578,
          -77.1688232421875,
          14.610452651977539,
          -24.096925735473633,
          116.46753692626953,
          1.0818883180618286,
          -8.634623527526855,
          33.73107147216797,
          -20.4979248046875,
          -21.87940788269043,
          8.974102020263672,
          56.29441833496094,
          11.566444396972656,
          -91.13488006591797,
          22.88182258605957,
          -7.610347270965576,
          -62.24594497680664,
          -46.10948944091797,
          52.65776824951172,
          -51.427181243896484,
          90.50997924804688,
          41.56132888793945,
          102.3271484375,
          -15.881818771362305,
          -31.512588500976562,
          85.249755859375,
          -63.396331787109375,
          -39.78704833984375,
          48.06891632080078,
          131.28456115722656,
          -29.516263961791992,
          48.281341552734375,
          -75.1241455078125,
          -25.395505905151367,
          16.030887603759766,
          -77.50496673583984,
          -36.44170379638672,
          -77.18714904785156,
          99.34857940673828,
          -47.31471633911133,
          -28.111425399780273,
          4.888912677764893,
          151.20132446289062,
          76.6303939819336,
          -63.24064254760742,
          -149.47970581054688,
          51.70732879638672,
          84.38961791992188,
          -50.281768798828125,
          -55.73627853393555,
          36.89507293701172,
          99.99957275390625,
          -115.48030853271484,
          -82.31136322021484,
          80.00225067138672,
          -85.2703628540039,
          -40.13652420043945,
          44.7700080871582,
          35.665855407714844,
          -80.51139068603516,
          -96.37208557128906,
          -74.30657196044922,
          8.030143737792969,
          -13.865357398986816,
          23.492021560668945,
          -99.06159973144531,
          -41.12431716918945,
          -21.15654754638672,
          3.054591178894043,
          104.91481018066406,
          33.125282287597656,
          118.1983871459961,
          -34.516204833984375,
          -0.25005531311035156,
          -28.255752563476562,
          28.83963394165039,
          -73.88526153564453,
          44.52056884765625,
          -99.02884674072266,
          141.52947998046875,
          71.91155242919922,
          -64.20976257324219,
          -89.34556579589844,
          -110.95465087890625,
          -98.37329864501953,
          98.091064453125,
          -125.29034423828125,
          -35.30824661254883,
          -82.9822769165039,
          -3.41322922706604,
          -102.8816146850586,
          -71.71189880371094,
          -64.99134063720703,
          49.699459075927734,
          33.54932403564453,
          77.2684097290039,
          105.74688720703125,
          17.941526412963867,
          -20.67542839050293,
          14.25029468536377,
          28.718259811401367,
          -108.7142105102539,
          -74.45764923095703,
          48.2342414855957,
          57.620914459228516,
          16.710256576538086,
          90.48700714111328,
          42.52927780151367,
          136.94680786132812,
          54.31277847290039,
          90.18644714355469,
          -107.79239654541016,
          104.52644348144531,
          71.31183624267578,
          80.41410827636719,
          -63.44102478027344,
          83.91741180419922,
          77.8923568725586,
          83.11611938476562,
          -59.078372955322266,
          18.416656494140625,
          114.08118438720703,
          -107.70889282226562,
          98.50444793701172,
          34.28265380859375,
          -29.20379638671875,
          -84.64946746826172,
          -40.53664016723633,
          -104.60314178466797,
          -110.28937530517578,
          -91.28314971923828,
          36.14117431640625,
          -67.2918930053711,
          -97.91617584228516,
          79.9903335571289,
          66.82071685791016,
          97.46733093261719,
          -8.958274841308594,
          6.952572345733643,
          -9.420515060424805,
          -0.9177813529968262,
          -111.08708190917969,
          25.230178833007812,
          -136.4617919921875,
          0.3539629578590393,
          65.7142562866211,
          14.615703582763672,
          67.94673919677734,
          125.67511749267578,
          -40.280391693115234,
          0.8219348192214966,
          0.050857044756412506,
          -21.965164184570312,
          8.962637901306152,
          14.84199333190918,
          71.70716857910156,
          -27.42156219482422,
          -69.2953872680664,
          11.881682395935059,
          -11.401252746582031,
          11.353239059448242,
          -42.49879837036133,
          3.999469041824341,
          -14.70200252532959,
          44.095924377441406,
          82.72026824951172,
          63.644508361816406,
          113.39158630371094,
          -119.21002197265625,
          124.7968978881836,
          19.95476531982422,
          -29.478759765625,
          16.606107711791992,
          -66.48017883300781,
          -30.321182250976562,
          -41.07595443725586,
          64.92761993408203,
          -36.35062026977539,
          100.5049819946289,
          -11.859622955322266,
          -21.4342041015625,
          75.11556243896484,
          -71.46263885498047,
          -48.85931396484375,
          74.63563537597656,
          -96.24353790283203,
          -134.25015258789062,
          -40.829742431640625,
          -53.030174255371094,
          -104.56782531738281,
          90.24866485595703,
          -31.1956787109375,
          118.78738403320312,
          -64.28367614746094,
          33.07126998901367,
          -92.79635620117188,
          -96.1676254272461,
          127.49293518066406,
          -35.660133361816406,
          64.23406219482422,
          40.221824645996094,
          4.501923561096191,
          43.609867095947266,
          -33.93950271606445,
          10.095518112182617,
          11.253748893737793,
          2.772552251815796,
          1.4157694578170776,
          -7.808408260345459,
          19.57615852355957,
          21.66034507751465,
          120.60087585449219,
          -86.13097381591797,
          -21.0831241607666,
          -113.52836608886719,
          38.08620834350586,
          42.368675231933594,
          -138.2039337158203,
          -88.51254272460938,
          -12.449594497680664,
          -64.3249282836914,
          -42.79592514038086,
          -96.7417221069336,
          -40.6203498840332,
          159.4990692138672,
          30.302202224731445,
          27.864837646484375
         ],
         "y": [
          52.121421813964844,
          -20.10768699645996,
          -25.040937423706055,
          -44.66349792480469,
          99.26341247558594,
          33.82743835449219,
          55.24549865722656,
          -6.857156753540039,
          -69.66239166259766,
          -71.34233856201172,
          -62.43886184692383,
          -47.58191680908203,
          125.1691665649414,
          -80.98577880859375,
          126.49117279052734,
          -8.121891975402832,
          -103.03164672851562,
          -48.92707443237305,
          -67.47477722167969,
          -71.55659484863281,
          7.919297218322754,
          31.506362915039062,
          25.15437889099121,
          -21.93035316467285,
          19.692279815673828,
          5.580765724182129,
          72.88679504394531,
          -58.99279022216797,
          5.558689594268799,
          -36.48680114746094,
          -118.7235336303711,
          114.28584289550781,
          -8.885682106018066,
          39.60261535644531,
          93.6651840209961,
          67.97913360595703,
          86.26637268066406,
          -123.21119689941406,
          -45.08711624145508,
          25.03325653076172,
          89.34251403808594,
          -16.777708053588867,
          -52.89864730834961,
          18.15867805480957,
          -4.290168285369873,
          -116.99893951416016,
          5.877305030822754,
          61.54621887207031,
          65.77338409423828,
          33.51728820800781,
          45.46772766113281,
          4.533226490020752,
          -4.919318675994873,
          82.34652709960938,
          9.830320358276367,
          -120.02022552490234,
          23.597179412841797,
          89.27955627441406,
          53.22602462768555,
          -21.233081817626953,
          7.918432712554932,
          29.593143463134766,
          -113.48837280273438,
          -92.5609130859375,
          95.64968872070312,
          -10.442489624023438,
          -69.07213592529297,
          65.61363220214844,
          9.846351623535156,
          63.55186462402344,
          -30.549701690673828,
          -44.86353302001953,
          -24.968791961669922,
          23.319976806640625,
          53.51596450805664,
          96.5515365600586,
          -5.1427903175354,
          -5.318181991577148,
          -21.489994049072266,
          1.3089083433151245,
          -81.63442993164062,
          114.6471176147461,
          39.9620475769043,
          -122.11510467529297,
          60.842010498046875,
          -23.7902774810791,
          3.845540761947632,
          105.50588989257812,
          -8.395465850830078,
          -113.68840789794922,
          4.267506122589111,
          8.371516227722168,
          -75.1583251953125,
          -30.104061126708984,
          24.16108512878418,
          -39.034423828125,
          47.85576629638672,
          -52.669349670410156,
          -81.50375366210938,
          6.251832485198975,
          11.743342399597168,
          45.75886535644531,
          78.14930725097656,
          87.30536651611328,
          81.03575134277344,
          104.32113647460938,
          47.600040435791016,
          -58.13478469848633,
          9.480287551879883,
          -20.802898406982422,
          -27.217313766479492,
          -95.26303100585938,
          -8.39027214050293,
          -62.7736930847168,
          129.5076904296875,
          -34.49259948730469,
          -45.340782165527344,
          -15.4292631149292,
          -40.301334381103516,
          -27.02996253967285,
          23.27690315246582,
          150.4253692626953,
          -64.87125396728516,
          -10.336372375488281,
          -57.32732009887695,
          0.04709838330745697,
          -78.78228759765625,
          88.54627227783203,
          -5.380031585693359,
          -61.54710388183594,
          22.913646697998047,
          66.06797790527344,
          -45.393035888671875,
          31.0540714263916,
          156.6708984375,
          96.0111312866211,
          42.577598571777344,
          -84.70191955566406,
          -24.422487258911133,
          -109.12158966064453,
          32.0743293762207,
          -46.80518341064453,
          92.80857849121094,
          -3.3663833141326904,
          2.4410312175750732,
          -24.444477081298828,
          74.43772888183594,
          -30.394559860229492,
          -22.187183380126953,
          -44.73698043823242,
          33.43816375732422,
          -99.90731048583984,
          116.16981506347656,
          121.83892822265625,
          -81.89067077636719,
          -47.64085388183594,
          47.14292907714844,
          21.310274124145508,
          55.23592758178711,
          15.9579496383667,
          -1.0566070079803467,
          147.2835235595703,
          -9.043614387512207,
          -27.63472557067871,
          87.00511932373047,
          14.607858657836914,
          -4.179410934448242,
          -115.38114929199219,
          71.17401123046875,
          27.252452850341797,
          -1.4787328243255615,
          -20.438007354736328,
          -6.897304058074951,
          -44.4375,
          32.01091003417969,
          -64.4304428100586,
          -0.9941403269767761,
          -103.29003143310547,
          14.945472717285156,
          15.697632789611816,
          -51.69191360473633,
          -63.33643341064453,
          -168.35765075683594,
          -32.964027404785156,
          -15.505515098571777,
          -39.682159423828125,
          33.333213806152344,
          158.93136596679688,
          -26.843908309936523,
          -30.366323471069336,
          -0.5493864417076111,
          -40.68003463745117,
          -48.96096420288086,
          31.04030990600586,
          -23.78935432434082,
          -77.11528778076172,
          45.523590087890625,
          22.915653228759766,
          -105.81578826904297,
          2.2644190788269043,
          -108.90784454345703,
          0.4533233344554901,
          -41.56924057006836,
          -19.84705352783203,
          -70.8277359008789,
          -86.26554107666016,
          57.919593811035156,
          -52.532962799072266,
          -54.013248443603516,
          -73.69734954833984,
          59.879669189453125,
          -18.589794158935547,
          112.38381958007812,
          116.72307586669922,
          -13.849454879760742,
          88.22654724121094,
          143.3506622314453,
          -10.07185173034668,
          42.842552185058594,
          -19.70919418334961,
          72.35562133789062,
          -78.67182922363281,
          21.751216888427734,
          -2.9178972244262695,
          -53.200347900390625,
          133.41952514648438,
          -35.75906753540039,
          93.92100524902344,
          -32.40995788574219,
          49.27842330932617,
          55.437469482421875,
          -19.810462951660156,
          -93.56708526611328,
          -30.27499008178711
         ],
         "z": [
          100.92205810546875,
          75.95445251464844,
          -123.5008544921875,
          127.87627410888672,
          -2.072153091430664,
          0.36073487997055054,
          -68.9959716796875,
          -177.88511657714844,
          120.32975769042969,
          88.32880401611328,
          71.72604370117188,
          -93.1050033569336,
          14.491605758666992,
          27.461172103881836,
          17.327346801757812,
          103.26493072509766,
          -49.41746520996094,
          -34.836875915527344,
          -122.97262573242188,
          -85.5087890625,
          138.87550354003906,
          -23.842111587524414,
          47.496036529541016,
          -6.25053071975708,
          65.78402709960938,
          -148.99722290039062,
          20.56781578063965,
          -31.690752029418945,
          -56.84342956542969,
          33.28696060180664,
          50.43140411376953,
          -47.3602409362793,
          54.702571868896484,
          51.18287658691406,
          47.718223571777344,
          -70.19581604003906,
          -11.606575012207031,
          20.851499557495117,
          -96.27397155761719,
          14.327153205871582,
          12.152398109436035,
          -57.731204986572266,
          14.555654525756836,
          -33.1412467956543,
          16.37595558166504,
          -28.93881607055664,
          10.264729499816895,
          52.31778335571289,
          -116.55372619628906,
          -37.495941162109375,
          73.06275939941406,
          46.869361877441406,
          23.970808029174805,
          -34.64368438720703,
          -140.12326049804688,
          51.61134338378906,
          -66.84014892578125,
          33.21474838256836,
          -30.43471908569336,
          127.8688735961914,
          -117.08133697509766,
          -21.17037582397461,
          125.97496032714844,
          15.345641136169434,
          67.62337493896484,
          -29.014070510864258,
          -11.624166488647461,
          45.8150749206543,
          -15.344287872314453,
          41.14118957519531,
          0.9686914086341858,
          -178.6372528076172,
          -2.6423799991607666,
          125.56300354003906,
          15.472525596618652,
          22.676279067993164,
          104.0969467163086,
          107.1369857788086,
          -67.32035064697266,
          -143.17782592773438,
          59.180850982666016,
          -8.345962524414062,
          -88.84452819824219,
          -16.136655807495117,
          -6.90934419631958,
          36.7999382019043,
          -68.30125427246094,
          33.968685150146484,
          -73.87045288085938,
          57.13224411010742,
          16.380128860473633,
          40.08308792114258,
          -112.73281860351562,
          19.22135353088379,
          31.779558181762695,
          -33.86888885498047,
          78.4013900756836,
          76.51433563232422,
          50.920501708984375,
          95.72415924072266,
          80.64342498779297,
          -48.17882537841797,
          -109.67338562011719,
          -77.72332000732422,
          -28.53750228881836,
          115.4699935913086,
          -153.57882690429688,
          33.556026458740234,
          -18.700777053833008,
          127.206298828125,
          -166.5522003173828,
          -42.139774322509766,
          -145.59544372558594,
          -73.8529052734375,
          -17.775104522705078,
          -16.81123924255371,
          52.28816223144531,
          -163.1519012451172,
          -80.65264892578125,
          -34.55611038208008,
          120.96473693847656,
          9.247072219848633,
          -101.42135620117188,
          19.267045974731445,
          15.527989387512207,
          -12.629706382751465,
          -55.65032196044922,
          -62.58366012573242,
          3.892099618911743,
          2.2660248279571533,
          -59.994781494140625,
          104.29666137695312,
          -71.03544616699219,
          -67.26628112792969,
          8.061330795288086,
          4.342073917388916,
          104.42041778564453,
          83.92100524902344,
          69.72663116455078,
          27.17108917236328,
          63.176177978515625,
          -106.34186553955078,
          -4.6025390625,
          -93.77745819091797,
          -33.03617858886719,
          76.85420227050781,
          -45.97046661376953,
          -162.6720428466797,
          -40.72214126586914,
          -142.82582092285156,
          -53.09129333496094,
          -6.585041046142578,
          -85.97355651855469,
          -27.712177276611328,
          -86.10865783691406,
          -47.11748123168945,
          -133.6834716796875,
          -94.3156967163086,
          -25.215328216552734,
          -67.73959350585938,
          5.91213321685791,
          -5.790523052215576,
          -117.4828109741211,
          -121.24187469482422,
          -48.68949890136719,
          -62.58559799194336,
          57.48835372924805,
          26.79677391052246,
          -14.360343933105469,
          18.116044998168945,
          27.174423217773438,
          -128.93988037109375,
          -47.473628997802734,
          -56.05991744995117,
          93.24617004394531,
          110.32643127441406,
          -35.81512451171875,
          74.64397430419922,
          -106.31363677978516,
          66.99331665039062,
          66.17698669433594,
          -26.45952033996582,
          54.73566436767578,
          -10.714762687683105,
          -49.99931335449219,
          -3.56937837600708,
          -44.519615173339844,
          -38.365970611572266,
          -81.59031677246094,
          -126.6579360961914,
          159.7842254638672,
          -138.8903350830078,
          147.2532196044922,
          7.034777641296387,
          31.589725494384766,
          88.81649780273438,
          18.84303855895996,
          36.88275909423828,
          81.5657958984375,
          42.97806930541992,
          83.02742767333984,
          -90.55249786376953,
          110.0377197265625,
          81.63433837890625,
          -22.79629898071289,
          49.18356704711914,
          27.39739990234375,
          118.26946258544922,
          123.20450592041016,
          -58.40681076049805,
          121.01399993896484,
          135.17538452148438,
          -95.17152404785156,
          54.17851638793945,
          -93.06877899169922,
          72.7933120727539,
          42.71688461303711,
          39.470760345458984,
          32.39013671875,
          162.39248657226562,
          -82.83277130126953,
          53.3282470703125,
          37.61084747314453,
          20.471162796020508,
          77.87531280517578,
          -28.252729415893555,
          38.08073043823242,
          -9.972841262817383,
          168.19627380371094,
          -11.423547744750977,
          -58.5224723815918,
          -43.07396697998047,
          112.02413940429688,
          13.79559326171875
         ]
        }
       ],
       "layout": {
        "coloraxis": {
         "colorbar": {
          "title": {
           "text": "Label"
          }
         },
         "colorscale": [
          [
           0,
           "#0d0887"
          ],
          [
           0.1111111111111111,
           "#46039f"
          ],
          [
           0.2222222222222222,
           "#7201a8"
          ],
          [
           0.3333333333333333,
           "#9c179e"
          ],
          [
           0.4444444444444444,
           "#bd3786"
          ],
          [
           0.5555555555555556,
           "#d8576b"
          ],
          [
           0.6666666666666666,
           "#ed7953"
          ],
          [
           0.7777777777777778,
           "#fb9f3a"
          ],
          [
           0.8888888888888888,
           "#fdca26"
          ],
          [
           1,
           "#f0f921"
          ]
         ]
        },
        "height": 800,
        "legend": {
         "tracegroupgap": 0
        },
        "scene": {
         "domain": {
          "x": [
           0,
           1
          ],
          "y": [
           0,
           1
          ]
         },
         "xaxis": {
          "title": {
           "text": "0"
          }
         },
         "yaxis": {
          "title": {
           "text": "1"
          }
         },
         "zaxis": {
          "title": {
           "text": "2"
          }
         }
        },
        "template": {
         "data": {
          "bar": [
           {
            "error_x": {
             "color": "#2a3f5f"
            },
            "error_y": {
             "color": "#2a3f5f"
            },
            "marker": {
             "line": {
              "color": "#E5ECF6",
              "width": 0.5
             }
            },
            "type": "bar"
           }
          ],
          "barpolar": [
           {
            "marker": {
             "line": {
              "color": "#E5ECF6",
              "width": 0.5
             }
            },
            "type": "barpolar"
           }
          ],
          "carpet": [
           {
            "aaxis": {
             "endlinecolor": "#2a3f5f",
             "gridcolor": "white",
             "linecolor": "white",
             "minorgridcolor": "white",
             "startlinecolor": "#2a3f5f"
            },
            "baxis": {
             "endlinecolor": "#2a3f5f",
             "gridcolor": "white",
             "linecolor": "white",
             "minorgridcolor": "white",
             "startlinecolor": "#2a3f5f"
            },
            "type": "carpet"
           }
          ],
          "choropleth": [
           {
            "colorbar": {
             "outlinewidth": 0,
             "ticks": ""
            },
            "type": "choropleth"
           }
          ],
          "contour": [
           {
            "colorbar": {
             "outlinewidth": 0,
             "ticks": ""
            },
            "colorscale": [
             [
              0,
              "#0d0887"
             ],
             [
              0.1111111111111111,
              "#46039f"
             ],
             [
              0.2222222222222222,
              "#7201a8"
             ],
             [
              0.3333333333333333,
              "#9c179e"
             ],
             [
              0.4444444444444444,
              "#bd3786"
             ],
             [
              0.5555555555555556,
              "#d8576b"
             ],
             [
              0.6666666666666666,
              "#ed7953"
             ],
             [
              0.7777777777777778,
              "#fb9f3a"
             ],
             [
              0.8888888888888888,
              "#fdca26"
             ],
             [
              1,
              "#f0f921"
             ]
            ],
            "type": "contour"
           }
          ],
          "contourcarpet": [
           {
            "colorbar": {
             "outlinewidth": 0,
             "ticks": ""
            },
            "type": "contourcarpet"
           }
          ],
          "heatmap": [
           {
            "colorbar": {
             "outlinewidth": 0,
             "ticks": ""
            },
            "colorscale": [
             [
              0,
              "#0d0887"
             ],
             [
              0.1111111111111111,
              "#46039f"
             ],
             [
              0.2222222222222222,
              "#7201a8"
             ],
             [
              0.3333333333333333,
              "#9c179e"
             ],
             [
              0.4444444444444444,
              "#bd3786"
             ],
             [
              0.5555555555555556,
              "#d8576b"
             ],
             [
              0.6666666666666666,
              "#ed7953"
             ],
             [
              0.7777777777777778,
              "#fb9f3a"
             ],
             [
              0.8888888888888888,
              "#fdca26"
             ],
             [
              1,
              "#f0f921"
             ]
            ],
            "type": "heatmap"
           }
          ],
          "heatmapgl": [
           {
            "colorbar": {
             "outlinewidth": 0,
             "ticks": ""
            },
            "colorscale": [
             [
              0,
              "#0d0887"
             ],
             [
              0.1111111111111111,
              "#46039f"
             ],
             [
              0.2222222222222222,
              "#7201a8"
             ],
             [
              0.3333333333333333,
              "#9c179e"
             ],
             [
              0.4444444444444444,
              "#bd3786"
             ],
             [
              0.5555555555555556,
              "#d8576b"
             ],
             [
              0.6666666666666666,
              "#ed7953"
             ],
             [
              0.7777777777777778,
              "#fb9f3a"
             ],
             [
              0.8888888888888888,
              "#fdca26"
             ],
             [
              1,
              "#f0f921"
             ]
            ],
            "type": "heatmapgl"
           }
          ],
          "histogram": [
           {
            "marker": {
             "colorbar": {
              "outlinewidth": 0,
              "ticks": ""
             }
            },
            "type": "histogram"
           }
          ],
          "histogram2d": [
           {
            "colorbar": {
             "outlinewidth": 0,
             "ticks": ""
            },
            "colorscale": [
             [
              0,
              "#0d0887"
             ],
             [
              0.1111111111111111,
              "#46039f"
             ],
             [
              0.2222222222222222,
              "#7201a8"
             ],
             [
              0.3333333333333333,
              "#9c179e"
             ],
             [
              0.4444444444444444,
              "#bd3786"
             ],
             [
              0.5555555555555556,
              "#d8576b"
             ],
             [
              0.6666666666666666,
              "#ed7953"
             ],
             [
              0.7777777777777778,
              "#fb9f3a"
             ],
             [
              0.8888888888888888,
              "#fdca26"
             ],
             [
              1,
              "#f0f921"
             ]
            ],
            "type": "histogram2d"
           }
          ],
          "histogram2dcontour": [
           {
            "colorbar": {
             "outlinewidth": 0,
             "ticks": ""
            },
            "colorscale": [
             [
              0,
              "#0d0887"
             ],
             [
              0.1111111111111111,
              "#46039f"
             ],
             [
              0.2222222222222222,
              "#7201a8"
             ],
             [
              0.3333333333333333,
              "#9c179e"
             ],
             [
              0.4444444444444444,
              "#bd3786"
             ],
             [
              0.5555555555555556,
              "#d8576b"
             ],
             [
              0.6666666666666666,
              "#ed7953"
             ],
             [
              0.7777777777777778,
              "#fb9f3a"
             ],
             [
              0.8888888888888888,
              "#fdca26"
             ],
             [
              1,
              "#f0f921"
             ]
            ],
            "type": "histogram2dcontour"
           }
          ],
          "mesh3d": [
           {
            "colorbar": {
             "outlinewidth": 0,
             "ticks": ""
            },
            "type": "mesh3d"
           }
          ],
          "parcoords": [
           {
            "line": {
             "colorbar": {
              "outlinewidth": 0,
              "ticks": ""
             }
            },
            "type": "parcoords"
           }
          ],
          "pie": [
           {
            "automargin": true,
            "type": "pie"
           }
          ],
          "scatter": [
           {
            "marker": {
             "colorbar": {
              "outlinewidth": 0,
              "ticks": ""
             }
            },
            "type": "scatter"
           }
          ],
          "scatter3d": [
           {
            "line": {
             "colorbar": {
              "outlinewidth": 0,
              "ticks": ""
             }
            },
            "marker": {
             "colorbar": {
              "outlinewidth": 0,
              "ticks": ""
             }
            },
            "type": "scatter3d"
           }
          ],
          "scattercarpet": [
           {
            "marker": {
             "colorbar": {
              "outlinewidth": 0,
              "ticks": ""
             }
            },
            "type": "scattercarpet"
           }
          ],
          "scattergeo": [
           {
            "marker": {
             "colorbar": {
              "outlinewidth": 0,
              "ticks": ""
             }
            },
            "type": "scattergeo"
           }
          ],
          "scattergl": [
           {
            "marker": {
             "colorbar": {
              "outlinewidth": 0,
              "ticks": ""
             }
            },
            "type": "scattergl"
           }
          ],
          "scattermapbox": [
           {
            "marker": {
             "colorbar": {
              "outlinewidth": 0,
              "ticks": ""
             }
            },
            "type": "scattermapbox"
           }
          ],
          "scatterpolar": [
           {
            "marker": {
             "colorbar": {
              "outlinewidth": 0,
              "ticks": ""
             }
            },
            "type": "scatterpolar"
           }
          ],
          "scatterpolargl": [
           {
            "marker": {
             "colorbar": {
              "outlinewidth": 0,
              "ticks": ""
             }
            },
            "type": "scatterpolargl"
           }
          ],
          "scatterternary": [
           {
            "marker": {
             "colorbar": {
              "outlinewidth": 0,
              "ticks": ""
             }
            },
            "type": "scatterternary"
           }
          ],
          "surface": [
           {
            "colorbar": {
             "outlinewidth": 0,
             "ticks": ""
            },
            "colorscale": [
             [
              0,
              "#0d0887"
             ],
             [
              0.1111111111111111,
              "#46039f"
             ],
             [
              0.2222222222222222,
              "#7201a8"
             ],
             [
              0.3333333333333333,
              "#9c179e"
             ],
             [
              0.4444444444444444,
              "#bd3786"
             ],
             [
              0.5555555555555556,
              "#d8576b"
             ],
             [
              0.6666666666666666,
              "#ed7953"
             ],
             [
              0.7777777777777778,
              "#fb9f3a"
             ],
             [
              0.8888888888888888,
              "#fdca26"
             ],
             [
              1,
              "#f0f921"
             ]
            ],
            "type": "surface"
           }
          ],
          "table": [
           {
            "cells": {
             "fill": {
              "color": "#EBF0F8"
             },
             "line": {
              "color": "white"
             }
            },
            "header": {
             "fill": {
              "color": "#C8D4E3"
             },
             "line": {
              "color": "white"
             }
            },
            "type": "table"
           }
          ]
         },
         "layout": {
          "annotationdefaults": {
           "arrowcolor": "#2a3f5f",
           "arrowhead": 0,
           "arrowwidth": 1
          },
          "coloraxis": {
           "colorbar": {
            "outlinewidth": 0,
            "ticks": ""
           }
          },
          "colorscale": {
           "diverging": [
            [
             0,
             "#8e0152"
            ],
            [
             0.1,
             "#c51b7d"
            ],
            [
             0.2,
             "#de77ae"
            ],
            [
             0.3,
             "#f1b6da"
            ],
            [
             0.4,
             "#fde0ef"
            ],
            [
             0.5,
             "#f7f7f7"
            ],
            [
             0.6,
             "#e6f5d0"
            ],
            [
             0.7,
             "#b8e186"
            ],
            [
             0.8,
             "#7fbc41"
            ],
            [
             0.9,
             "#4d9221"
            ],
            [
             1,
             "#276419"
            ]
           ],
           "sequential": [
            [
             0,
             "#0d0887"
            ],
            [
             0.1111111111111111,
             "#46039f"
            ],
            [
             0.2222222222222222,
             "#7201a8"
            ],
            [
             0.3333333333333333,
             "#9c179e"
            ],
            [
             0.4444444444444444,
             "#bd3786"
            ],
            [
             0.5555555555555556,
             "#d8576b"
            ],
            [
             0.6666666666666666,
             "#ed7953"
            ],
            [
             0.7777777777777778,
             "#fb9f3a"
            ],
            [
             0.8888888888888888,
             "#fdca26"
            ],
            [
             1,
             "#f0f921"
            ]
           ],
           "sequentialminus": [
            [
             0,
             "#0d0887"
            ],
            [
             0.1111111111111111,
             "#46039f"
            ],
            [
             0.2222222222222222,
             "#7201a8"
            ],
            [
             0.3333333333333333,
             "#9c179e"
            ],
            [
             0.4444444444444444,
             "#bd3786"
            ],
            [
             0.5555555555555556,
             "#d8576b"
            ],
            [
             0.6666666666666666,
             "#ed7953"
            ],
            [
             0.7777777777777778,
             "#fb9f3a"
            ],
            [
             0.8888888888888888,
             "#fdca26"
            ],
            [
             1,
             "#f0f921"
            ]
           ]
          },
          "colorway": [
           "#636efa",
           "#EF553B",
           "#00cc96",
           "#ab63fa",
           "#FFA15A",
           "#19d3f3",
           "#FF6692",
           "#B6E880",
           "#FF97FF",
           "#FECB52"
          ],
          "font": {
           "color": "#2a3f5f"
          },
          "geo": {
           "bgcolor": "white",
           "lakecolor": "white",
           "landcolor": "#E5ECF6",
           "showlakes": true,
           "showland": true,
           "subunitcolor": "white"
          },
          "hoverlabel": {
           "align": "left"
          },
          "hovermode": "closest",
          "mapbox": {
           "style": "light"
          },
          "paper_bgcolor": "white",
          "plot_bgcolor": "#E5ECF6",
          "polar": {
           "angularaxis": {
            "gridcolor": "white",
            "linecolor": "white",
            "ticks": ""
           },
           "bgcolor": "#E5ECF6",
           "radialaxis": {
            "gridcolor": "white",
            "linecolor": "white",
            "ticks": ""
           }
          },
          "scene": {
           "xaxis": {
            "backgroundcolor": "#E5ECF6",
            "gridcolor": "white",
            "gridwidth": 2,
            "linecolor": "white",
            "showbackground": true,
            "ticks": "",
            "zerolinecolor": "white"
           },
           "yaxis": {
            "backgroundcolor": "#E5ECF6",
            "gridcolor": "white",
            "gridwidth": 2,
            "linecolor": "white",
            "showbackground": true,
            "ticks": "",
            "zerolinecolor": "white"
           },
           "zaxis": {
            "backgroundcolor": "#E5ECF6",
            "gridcolor": "white",
            "gridwidth": 2,
            "linecolor": "white",
            "showbackground": true,
            "ticks": "",
            "zerolinecolor": "white"
           }
          },
          "shapedefaults": {
           "line": {
            "color": "#2a3f5f"
           }
          },
          "ternary": {
           "aaxis": {
            "gridcolor": "white",
            "linecolor": "white",
            "ticks": ""
           },
           "baxis": {
            "gridcolor": "white",
            "linecolor": "white",
            "ticks": ""
           },
           "bgcolor": "#E5ECF6",
           "caxis": {
            "gridcolor": "white",
            "linecolor": "white",
            "ticks": ""
           }
          },
          "title": {
           "x": 0.05
          },
          "xaxis": {
           "automargin": true,
           "gridcolor": "white",
           "linecolor": "white",
           "ticks": "",
           "title": {
            "standoff": 15
           },
           "zerolinecolor": "white",
           "zerolinewidth": 2
          },
          "yaxis": {
           "automargin": true,
           "gridcolor": "white",
           "linecolor": "white",
           "ticks": "",
           "title": {
            "standoff": 15
           },
           "zerolinecolor": "white",
           "zerolinewidth": 2
          }
         }
        },
        "title": {
         "text": "3d TSNE Plot for Outliers"
        },
        "width": 900
       }
      },
      "text/html": [
       "<div>\n",
       "        \n",
       "        \n",
       "            <div id=\"f368ffa9-15fc-4aca-aaf4-a5172fa2e57d\" class=\"plotly-graph-div\" style=\"height:800px; width:900px;\"></div>\n",
       "            <script type=\"text/javascript\">\n",
       "                require([\"plotly\"], function(Plotly) {\n",
       "                    window.PLOTLYENV=window.PLOTLYENV || {};\n",
       "                    \n",
       "                if (document.getElementById(\"f368ffa9-15fc-4aca-aaf4-a5172fa2e57d\")) {\n",
       "                    Plotly.newPlot(\n",
       "                        'f368ffa9-15fc-4aca-aaf4-a5172fa2e57d',\n",
       "                        [{\"customdata\": [[0], [0], [0], [0], [0], [0], [0], [0], [0], [0], [0], [0], [0], [0], [0], [0], [0], [0], [0], [0], [0], [0], [0], [0], [0], [0], [0], [0], [0], [0], [0], [0], [0], [0], [0], [0], [0], [0], [0], [0], [0], [0], [0], [0], [0], [0], [0], [0], [0], [0], [0], [0], [0], [0], [0], [0], [0], [0], [0], [0], [0], [0], [0], [0], [0], [0], [0], [0], [0], [0], [0], [0], [0], [0], [0], [0], [0], [0], [0], [0], [0], [0], [0], [0], [0], [0], [0], [0], [0], [0], [0], [0], [0], [0], [0], [0], [0], [0], [0], [0], [0], [0], [0], [0], [0], [0], [0], [0], [0], [0], [0], [0], [0], [0], [0], [0], [0], [0], [0], [0], [0], [0], [0], [0], [0], [0], [0], [0], [0], [0], [0], [0], [0], [0], [0], [0], [0], [0], [0], [0], [0], [0], [0], [0], [0], [0], [0], [0], [0], [0], [0], [0], [0], [0], [0], [0], [0], [0], [0], [0], [0], [0], [0], [0], [0], [0], [0], [0], [0], [0], [0], [0], [0], [0], [0], [0], [0], [0], [0], [0], [0], [0], [0], [0], [0], [0], [0], [0], [0], [0], [0], [1], [1], [1], [1], [1], [1], [1], [1], [1], [1], [1], [1], [1], [1], [1], [1], [1], [1], [1], [1], [1], [1], [1], [1], [1], [1], [1], [1], [1], [1], [1], [1], [1], [1], [1], [1], [1], [1], [1], [1], [1], [1], [1]], \"hoverlabel\": {\"namelength\": 0}, \"hovertemplate\": \"0=%{x}<br>1=%{y}<br>2=%{z}<br>Feature=%{customdata[0]}<br>Label=%{marker.color}\", \"legendgroup\": \"\", \"marker\": {\"color\": [0, 0, 0, 0, 0, 0, 0, 1, 0, 0, 0, 0, 0, 0, 0, 0, 0, 0, 0, 0, 0, 0, 0, 0, 0, 1, 0, 0, 0, 0, 0, 0, 0, 0, 0, 0, 0, 0, 0, 0, 0, 0, 0, 0, 0, 0, 0, 0, 0, 0, 0, 0, 0, 0, 0, 0, 0, 0, 0, 0, 0, 0, 0, 0, 0, 0, 0, 0, 0, 0, 0, 1, 0, 0, 0, 0, 1, 0, 0, 0, 0, 0, 0, 0, 0, 0, 0, 0, 0, 0, 0, 0, 0, 0, 0, 0, 0, 0, 0, 0, 0, 0, 0, 0, 0, 0, 0, 0, 0, 0, 0, 0, 0, 0, 0, 0, 0, 1, 0, 0, 0, 0, 0, 0, 0, 0, 0, 0, 0, 0, 0, 0, 0, 0, 0, 0, 0, 0, 0, 0, 0, 0, 0, 0, 0, 0, 0, 1, 0, 1, 0, 0, 0, 0, 0, 0, 0, 0, 0, 0, 0, 0, 0, 0, 0, 0, 0, 0, 0, 0, 0, 1, 0, 0, 1, 0, 0, 0, 0, 0, 0, 0, 0, 0, 0, 0, 0, 0, 0, 0, 1, 0, 0, 0, 0, 0, 0, 0, 0, 0, 0, 0, 0, 0, 0, 0, 0, 0, 0, 0, 0, 0, 0, 0, 0, 0, 0, 0, 0, 0, 0, 0, 0, 0, 0, 0, 0, 0, 1, 0, 0, 0, 0, 0], \"coloraxis\": \"coloraxis\", \"opacity\": 0.7, \"symbol\": \"circle\"}, \"mode\": \"markers\", \"name\": \"\", \"scene\": \"scene\", \"showlegend\": false, \"type\": \"scatter3d\", \"x\": [-71.07797241210938, -43.15918731689453, 105.97745513916016, -50.198177337646484, 29.21571159362793, 112.98652648925781, 3.2897391319274902, 24.00128936767578, -77.1688232421875, 14.610452651977539, -24.096925735473633, 116.46753692626953, 1.0818883180618286, -8.634623527526855, 33.73107147216797, -20.4979248046875, -21.87940788269043, 8.974102020263672, 56.29441833496094, 11.566444396972656, -91.13488006591797, 22.88182258605957, -7.610347270965576, -62.24594497680664, -46.10948944091797, 52.65776824951172, -51.427181243896484, 90.50997924804688, 41.56132888793945, 102.3271484375, -15.881818771362305, -31.512588500976562, 85.249755859375, -63.396331787109375, -39.78704833984375, 48.06891632080078, 131.28456115722656, -29.516263961791992, 48.281341552734375, -75.1241455078125, -25.395505905151367, 16.030887603759766, -77.50496673583984, -36.44170379638672, -77.18714904785156, 99.34857940673828, -47.31471633911133, -28.111425399780273, 4.888912677764893, 151.20132446289062, 76.6303939819336, -63.24064254760742, -149.47970581054688, 51.70732879638672, 84.38961791992188, -50.281768798828125, -55.73627853393555, 36.89507293701172, 99.99957275390625, -115.48030853271484, -82.31136322021484, 80.00225067138672, -85.2703628540039, -40.13652420043945, 44.7700080871582, 35.665855407714844, -80.51139068603516, -96.37208557128906, -74.30657196044922, 8.030143737792969, -13.865357398986816, 23.492021560668945, -99.06159973144531, -41.12431716918945, -21.15654754638672, 3.054591178894043, 104.91481018066406, 33.125282287597656, 118.1983871459961, -34.516204833984375, -0.25005531311035156, -28.255752563476562, 28.83963394165039, -73.88526153564453, 44.52056884765625, -99.02884674072266, 141.52947998046875, 71.91155242919922, -64.20976257324219, -89.34556579589844, -110.95465087890625, -98.37329864501953, 98.091064453125, -125.29034423828125, -35.30824661254883, -82.9822769165039, -3.41322922706604, -102.8816146850586, -71.71189880371094, -64.99134063720703, 49.699459075927734, 33.54932403564453, 77.2684097290039, 105.74688720703125, 17.941526412963867, -20.67542839050293, 14.25029468536377, 28.718259811401367, -108.7142105102539, -74.45764923095703, 48.2342414855957, 57.620914459228516, 16.710256576538086, 90.48700714111328, 42.52927780151367, 136.94680786132812, 54.31277847290039, 90.18644714355469, -107.79239654541016, 104.52644348144531, 71.31183624267578, 80.41410827636719, -63.44102478027344, 83.91741180419922, 77.8923568725586, 83.11611938476562, -59.078372955322266, 18.416656494140625, 114.08118438720703, -107.70889282226562, 98.50444793701172, 34.28265380859375, -29.20379638671875, -84.64946746826172, -40.53664016723633, -104.60314178466797, -110.28937530517578, -91.28314971923828, 36.14117431640625, -67.2918930053711, -97.91617584228516, 79.9903335571289, 66.82071685791016, 97.46733093261719, -8.958274841308594, 6.952572345733643, -9.420515060424805, -0.9177813529968262, -111.08708190917969, 25.230178833007812, -136.4617919921875, 0.3539629578590393, 65.7142562866211, 14.615703582763672, 67.94673919677734, 125.67511749267578, -40.280391693115234, 0.8219348192214966, 0.050857044756412506, -21.965164184570312, 8.962637901306152, 14.84199333190918, 71.70716857910156, -27.42156219482422, -69.2953872680664, 11.881682395935059, -11.401252746582031, 11.353239059448242, -42.49879837036133, 3.999469041824341, -14.70200252532959, 44.095924377441406, 82.72026824951172, 63.644508361816406, 113.39158630371094, -119.21002197265625, 124.7968978881836, 19.95476531982422, -29.478759765625, 16.606107711791992, -66.48017883300781, -30.321182250976562, -41.07595443725586, 64.92761993408203, -36.35062026977539, 100.5049819946289, -11.859622955322266, -21.4342041015625, 75.11556243896484, -71.46263885498047, -48.85931396484375, 74.63563537597656, -96.24353790283203, -134.25015258789062, -40.829742431640625, -53.030174255371094, -104.56782531738281, 90.24866485595703, -31.1956787109375, 118.78738403320312, -64.28367614746094, 33.07126998901367, -92.79635620117188, -96.1676254272461, 127.49293518066406, -35.660133361816406, 64.23406219482422, 40.221824645996094, 4.501923561096191, 43.609867095947266, -33.93950271606445, 10.095518112182617, 11.253748893737793, 2.772552251815796, 1.4157694578170776, -7.808408260345459, 19.57615852355957, 21.66034507751465, 120.60087585449219, -86.13097381591797, -21.0831241607666, -113.52836608886719, 38.08620834350586, 42.368675231933594, -138.2039337158203, -88.51254272460938, -12.449594497680664, -64.3249282836914, -42.79592514038086, -96.7417221069336, -40.6203498840332, 159.4990692138672, 30.302202224731445, 27.864837646484375], \"y\": [52.121421813964844, -20.10768699645996, -25.040937423706055, -44.66349792480469, 99.26341247558594, 33.82743835449219, 55.24549865722656, -6.857156753540039, -69.66239166259766, -71.34233856201172, -62.43886184692383, -47.58191680908203, 125.1691665649414, -80.98577880859375, 126.49117279052734, -8.121891975402832, -103.03164672851562, -48.92707443237305, -67.47477722167969, -71.55659484863281, 7.919297218322754, 31.506362915039062, 25.15437889099121, -21.93035316467285, 19.692279815673828, 5.580765724182129, 72.88679504394531, -58.99279022216797, 5.558689594268799, -36.48680114746094, -118.7235336303711, 114.28584289550781, -8.885682106018066, 39.60261535644531, 93.6651840209961, 67.97913360595703, 86.26637268066406, -123.21119689941406, -45.08711624145508, 25.03325653076172, 89.34251403808594, -16.777708053588867, -52.89864730834961, 18.15867805480957, -4.290168285369873, -116.99893951416016, 5.877305030822754, 61.54621887207031, 65.77338409423828, 33.51728820800781, 45.46772766113281, 4.533226490020752, -4.919318675994873, 82.34652709960938, 9.830320358276367, -120.02022552490234, 23.597179412841797, 89.27955627441406, 53.22602462768555, -21.233081817626953, 7.918432712554932, 29.593143463134766, -113.48837280273438, -92.5609130859375, 95.64968872070312, -10.442489624023438, -69.07213592529297, 65.61363220214844, 9.846351623535156, 63.55186462402344, -30.549701690673828, -44.86353302001953, -24.968791961669922, 23.319976806640625, 53.51596450805664, 96.5515365600586, -5.1427903175354, -5.318181991577148, -21.489994049072266, 1.3089083433151245, -81.63442993164062, 114.6471176147461, 39.9620475769043, -122.11510467529297, 60.842010498046875, -23.7902774810791, 3.845540761947632, 105.50588989257812, -8.395465850830078, -113.68840789794922, 4.267506122589111, 8.371516227722168, -75.1583251953125, -30.104061126708984, 24.16108512878418, -39.034423828125, 47.85576629638672, -52.669349670410156, -81.50375366210938, 6.251832485198975, 11.743342399597168, 45.75886535644531, 78.14930725097656, 87.30536651611328, 81.03575134277344, 104.32113647460938, 47.600040435791016, -58.13478469848633, 9.480287551879883, -20.802898406982422, -27.217313766479492, -95.26303100585938, -8.39027214050293, -62.7736930847168, 129.5076904296875, -34.49259948730469, -45.340782165527344, -15.4292631149292, -40.301334381103516, -27.02996253967285, 23.27690315246582, 150.4253692626953, -64.87125396728516, -10.336372375488281, -57.32732009887695, 0.04709838330745697, -78.78228759765625, 88.54627227783203, -5.380031585693359, -61.54710388183594, 22.913646697998047, 66.06797790527344, -45.393035888671875, 31.0540714263916, 156.6708984375, 96.0111312866211, 42.577598571777344, -84.70191955566406, -24.422487258911133, -109.12158966064453, 32.0743293762207, -46.80518341064453, 92.80857849121094, -3.3663833141326904, 2.4410312175750732, -24.444477081298828, 74.43772888183594, -30.394559860229492, -22.187183380126953, -44.73698043823242, 33.43816375732422, -99.90731048583984, 116.16981506347656, 121.83892822265625, -81.89067077636719, -47.64085388183594, 47.14292907714844, 21.310274124145508, 55.23592758178711, 15.9579496383667, -1.0566070079803467, 147.2835235595703, -9.043614387512207, -27.63472557067871, 87.00511932373047, 14.607858657836914, -4.179410934448242, -115.38114929199219, 71.17401123046875, 27.252452850341797, -1.4787328243255615, -20.438007354736328, -6.897304058074951, -44.4375, 32.01091003417969, -64.4304428100586, -0.9941403269767761, -103.29003143310547, 14.945472717285156, 15.697632789611816, -51.69191360473633, -63.33643341064453, -168.35765075683594, -32.964027404785156, -15.505515098571777, -39.682159423828125, 33.333213806152344, 158.93136596679688, -26.843908309936523, -30.366323471069336, -0.5493864417076111, -40.68003463745117, -48.96096420288086, 31.04030990600586, -23.78935432434082, -77.11528778076172, 45.523590087890625, 22.915653228759766, -105.81578826904297, 2.2644190788269043, -108.90784454345703, 0.4533233344554901, -41.56924057006836, -19.84705352783203, -70.8277359008789, -86.26554107666016, 57.919593811035156, -52.532962799072266, -54.013248443603516, -73.69734954833984, 59.879669189453125, -18.589794158935547, 112.38381958007812, 116.72307586669922, -13.849454879760742, 88.22654724121094, 143.3506622314453, -10.07185173034668, 42.842552185058594, -19.70919418334961, 72.35562133789062, -78.67182922363281, 21.751216888427734, -2.9178972244262695, -53.200347900390625, 133.41952514648438, -35.75906753540039, 93.92100524902344, -32.40995788574219, 49.27842330932617, 55.437469482421875, -19.810462951660156, -93.56708526611328, -30.27499008178711], \"z\": [100.92205810546875, 75.95445251464844, -123.5008544921875, 127.87627410888672, -2.072153091430664, 0.36073487997055054, -68.9959716796875, -177.88511657714844, 120.32975769042969, 88.32880401611328, 71.72604370117188, -93.1050033569336, 14.491605758666992, 27.461172103881836, 17.327346801757812, 103.26493072509766, -49.41746520996094, -34.836875915527344, -122.97262573242188, -85.5087890625, 138.87550354003906, -23.842111587524414, 47.496036529541016, -6.25053071975708, 65.78402709960938, -148.99722290039062, 20.56781578063965, -31.690752029418945, -56.84342956542969, 33.28696060180664, 50.43140411376953, -47.3602409362793, 54.702571868896484, 51.18287658691406, 47.718223571777344, -70.19581604003906, -11.606575012207031, 20.851499557495117, -96.27397155761719, 14.327153205871582, 12.152398109436035, -57.731204986572266, 14.555654525756836, -33.1412467956543, 16.37595558166504, -28.93881607055664, 10.264729499816895, 52.31778335571289, -116.55372619628906, -37.495941162109375, 73.06275939941406, 46.869361877441406, 23.970808029174805, -34.64368438720703, -140.12326049804688, 51.61134338378906, -66.84014892578125, 33.21474838256836, -30.43471908569336, 127.8688735961914, -117.08133697509766, -21.17037582397461, 125.97496032714844, 15.345641136169434, 67.62337493896484, -29.014070510864258, -11.624166488647461, 45.8150749206543, -15.344287872314453, 41.14118957519531, 0.9686914086341858, -178.6372528076172, -2.6423799991607666, 125.56300354003906, 15.472525596618652, 22.676279067993164, 104.0969467163086, 107.1369857788086, -67.32035064697266, -143.17782592773438, 59.180850982666016, -8.345962524414062, -88.84452819824219, -16.136655807495117, -6.90934419631958, 36.7999382019043, -68.30125427246094, 33.968685150146484, -73.87045288085938, 57.13224411010742, 16.380128860473633, 40.08308792114258, -112.73281860351562, 19.22135353088379, 31.779558181762695, -33.86888885498047, 78.4013900756836, 76.51433563232422, 50.920501708984375, 95.72415924072266, 80.64342498779297, -48.17882537841797, -109.67338562011719, -77.72332000732422, -28.53750228881836, 115.4699935913086, -153.57882690429688, 33.556026458740234, -18.700777053833008, 127.206298828125, -166.5522003173828, -42.139774322509766, -145.59544372558594, -73.8529052734375, -17.775104522705078, -16.81123924255371, 52.28816223144531, -163.1519012451172, -80.65264892578125, -34.55611038208008, 120.96473693847656, 9.247072219848633, -101.42135620117188, 19.267045974731445, 15.527989387512207, -12.629706382751465, -55.65032196044922, -62.58366012573242, 3.892099618911743, 2.2660248279571533, -59.994781494140625, 104.29666137695312, -71.03544616699219, -67.26628112792969, 8.061330795288086, 4.342073917388916, 104.42041778564453, 83.92100524902344, 69.72663116455078, 27.17108917236328, 63.176177978515625, -106.34186553955078, -4.6025390625, -93.77745819091797, -33.03617858886719, 76.85420227050781, -45.97046661376953, -162.6720428466797, -40.72214126586914, -142.82582092285156, -53.09129333496094, -6.585041046142578, -85.97355651855469, -27.712177276611328, -86.10865783691406, -47.11748123168945, -133.6834716796875, -94.3156967163086, -25.215328216552734, -67.73959350585938, 5.91213321685791, -5.790523052215576, -117.4828109741211, -121.24187469482422, -48.68949890136719, -62.58559799194336, 57.48835372924805, 26.79677391052246, -14.360343933105469, 18.116044998168945, 27.174423217773438, -128.93988037109375, -47.473628997802734, -56.05991744995117, 93.24617004394531, 110.32643127441406, -35.81512451171875, 74.64397430419922, -106.31363677978516, 66.99331665039062, 66.17698669433594, -26.45952033996582, 54.73566436767578, -10.714762687683105, -49.99931335449219, -3.56937837600708, -44.519615173339844, -38.365970611572266, -81.59031677246094, -126.6579360961914, 159.7842254638672, -138.8903350830078, 147.2532196044922, 7.034777641296387, 31.589725494384766, 88.81649780273438, 18.84303855895996, 36.88275909423828, 81.5657958984375, 42.97806930541992, 83.02742767333984, -90.55249786376953, 110.0377197265625, 81.63433837890625, -22.79629898071289, 49.18356704711914, 27.39739990234375, 118.26946258544922, 123.20450592041016, -58.40681076049805, 121.01399993896484, 135.17538452148438, -95.17152404785156, 54.17851638793945, -93.06877899169922, 72.7933120727539, 42.71688461303711, 39.470760345458984, 32.39013671875, 162.39248657226562, -82.83277130126953, 53.3282470703125, 37.61084747314453, 20.471162796020508, 77.87531280517578, -28.252729415893555, 38.08073043823242, -9.972841262817383, 168.19627380371094, -11.423547744750977, -58.5224723815918, -43.07396697998047, 112.02413940429688, 13.79559326171875]}],\n",
       "                        {\"coloraxis\": {\"colorbar\": {\"title\": {\"text\": \"Label\"}}, \"colorscale\": [[0.0, \"#0d0887\"], [0.1111111111111111, \"#46039f\"], [0.2222222222222222, \"#7201a8\"], [0.3333333333333333, \"#9c179e\"], [0.4444444444444444, \"#bd3786\"], [0.5555555555555556, \"#d8576b\"], [0.6666666666666666, \"#ed7953\"], [0.7777777777777778, \"#fb9f3a\"], [0.8888888888888888, \"#fdca26\"], [1.0, \"#f0f921\"]]}, \"height\": 800, \"legend\": {\"tracegroupgap\": 0}, \"scene\": {\"domain\": {\"x\": [0.0, 1.0], \"y\": [0.0, 1.0]}, \"xaxis\": {\"title\": {\"text\": \"0\"}}, \"yaxis\": {\"title\": {\"text\": \"1\"}}, \"zaxis\": {\"title\": {\"text\": \"2\"}}}, \"template\": {\"data\": {\"bar\": [{\"error_x\": {\"color\": \"#2a3f5f\"}, \"error_y\": {\"color\": \"#2a3f5f\"}, \"marker\": {\"line\": {\"color\": \"#E5ECF6\", \"width\": 0.5}}, \"type\": \"bar\"}], \"barpolar\": [{\"marker\": {\"line\": {\"color\": \"#E5ECF6\", \"width\": 0.5}}, \"type\": \"barpolar\"}], \"carpet\": [{\"aaxis\": {\"endlinecolor\": \"#2a3f5f\", \"gridcolor\": \"white\", \"linecolor\": \"white\", \"minorgridcolor\": \"white\", \"startlinecolor\": \"#2a3f5f\"}, \"baxis\": {\"endlinecolor\": \"#2a3f5f\", \"gridcolor\": \"white\", \"linecolor\": \"white\", \"minorgridcolor\": \"white\", \"startlinecolor\": \"#2a3f5f\"}, \"type\": \"carpet\"}], \"choropleth\": [{\"colorbar\": {\"outlinewidth\": 0, \"ticks\": \"\"}, \"type\": \"choropleth\"}], \"contour\": [{\"colorbar\": {\"outlinewidth\": 0, \"ticks\": \"\"}, \"colorscale\": [[0.0, \"#0d0887\"], [0.1111111111111111, \"#46039f\"], [0.2222222222222222, \"#7201a8\"], [0.3333333333333333, \"#9c179e\"], [0.4444444444444444, \"#bd3786\"], [0.5555555555555556, \"#d8576b\"], [0.6666666666666666, \"#ed7953\"], [0.7777777777777778, \"#fb9f3a\"], [0.8888888888888888, \"#fdca26\"], [1.0, \"#f0f921\"]], \"type\": \"contour\"}], \"contourcarpet\": [{\"colorbar\": {\"outlinewidth\": 0, \"ticks\": \"\"}, \"type\": \"contourcarpet\"}], \"heatmap\": [{\"colorbar\": {\"outlinewidth\": 0, \"ticks\": \"\"}, \"colorscale\": [[0.0, \"#0d0887\"], [0.1111111111111111, \"#46039f\"], [0.2222222222222222, \"#7201a8\"], [0.3333333333333333, \"#9c179e\"], [0.4444444444444444, \"#bd3786\"], [0.5555555555555556, \"#d8576b\"], [0.6666666666666666, \"#ed7953\"], [0.7777777777777778, \"#fb9f3a\"], [0.8888888888888888, \"#fdca26\"], [1.0, \"#f0f921\"]], \"type\": \"heatmap\"}], \"heatmapgl\": [{\"colorbar\": {\"outlinewidth\": 0, \"ticks\": \"\"}, \"colorscale\": [[0.0, \"#0d0887\"], [0.1111111111111111, \"#46039f\"], [0.2222222222222222, \"#7201a8\"], [0.3333333333333333, \"#9c179e\"], [0.4444444444444444, \"#bd3786\"], [0.5555555555555556, \"#d8576b\"], [0.6666666666666666, \"#ed7953\"], [0.7777777777777778, \"#fb9f3a\"], [0.8888888888888888, \"#fdca26\"], [1.0, \"#f0f921\"]], \"type\": \"heatmapgl\"}], \"histogram\": [{\"marker\": {\"colorbar\": {\"outlinewidth\": 0, \"ticks\": \"\"}}, \"type\": \"histogram\"}], \"histogram2d\": [{\"colorbar\": {\"outlinewidth\": 0, \"ticks\": \"\"}, \"colorscale\": [[0.0, \"#0d0887\"], [0.1111111111111111, \"#46039f\"], [0.2222222222222222, \"#7201a8\"], [0.3333333333333333, \"#9c179e\"], [0.4444444444444444, \"#bd3786\"], [0.5555555555555556, \"#d8576b\"], [0.6666666666666666, \"#ed7953\"], [0.7777777777777778, \"#fb9f3a\"], [0.8888888888888888, \"#fdca26\"], [1.0, \"#f0f921\"]], \"type\": \"histogram2d\"}], \"histogram2dcontour\": [{\"colorbar\": {\"outlinewidth\": 0, \"ticks\": \"\"}, \"colorscale\": [[0.0, \"#0d0887\"], [0.1111111111111111, \"#46039f\"], [0.2222222222222222, \"#7201a8\"], [0.3333333333333333, \"#9c179e\"], [0.4444444444444444, \"#bd3786\"], [0.5555555555555556, \"#d8576b\"], [0.6666666666666666, \"#ed7953\"], [0.7777777777777778, \"#fb9f3a\"], [0.8888888888888888, \"#fdca26\"], [1.0, \"#f0f921\"]], \"type\": \"histogram2dcontour\"}], \"mesh3d\": [{\"colorbar\": {\"outlinewidth\": 0, \"ticks\": \"\"}, \"type\": \"mesh3d\"}], \"parcoords\": [{\"line\": {\"colorbar\": {\"outlinewidth\": 0, \"ticks\": \"\"}}, \"type\": \"parcoords\"}], \"pie\": [{\"automargin\": true, \"type\": \"pie\"}], \"scatter\": [{\"marker\": {\"colorbar\": {\"outlinewidth\": 0, \"ticks\": \"\"}}, \"type\": \"scatter\"}], \"scatter3d\": [{\"line\": {\"colorbar\": {\"outlinewidth\": 0, \"ticks\": \"\"}}, \"marker\": {\"colorbar\": {\"outlinewidth\": 0, \"ticks\": \"\"}}, \"type\": \"scatter3d\"}], \"scattercarpet\": [{\"marker\": {\"colorbar\": {\"outlinewidth\": 0, \"ticks\": \"\"}}, \"type\": \"scattercarpet\"}], \"scattergeo\": [{\"marker\": {\"colorbar\": {\"outlinewidth\": 0, \"ticks\": \"\"}}, \"type\": \"scattergeo\"}], \"scattergl\": [{\"marker\": {\"colorbar\": {\"outlinewidth\": 0, \"ticks\": \"\"}}, \"type\": \"scattergl\"}], \"scattermapbox\": [{\"marker\": {\"colorbar\": {\"outlinewidth\": 0, \"ticks\": \"\"}}, \"type\": \"scattermapbox\"}], \"scatterpolar\": [{\"marker\": {\"colorbar\": {\"outlinewidth\": 0, \"ticks\": \"\"}}, \"type\": \"scatterpolar\"}], \"scatterpolargl\": [{\"marker\": {\"colorbar\": {\"outlinewidth\": 0, \"ticks\": \"\"}}, \"type\": \"scatterpolargl\"}], \"scatterternary\": [{\"marker\": {\"colorbar\": {\"outlinewidth\": 0, \"ticks\": \"\"}}, \"type\": \"scatterternary\"}], \"surface\": [{\"colorbar\": {\"outlinewidth\": 0, \"ticks\": \"\"}, \"colorscale\": [[0.0, \"#0d0887\"], [0.1111111111111111, \"#46039f\"], [0.2222222222222222, \"#7201a8\"], [0.3333333333333333, \"#9c179e\"], [0.4444444444444444, \"#bd3786\"], [0.5555555555555556, \"#d8576b\"], [0.6666666666666666, \"#ed7953\"], [0.7777777777777778, \"#fb9f3a\"], [0.8888888888888888, \"#fdca26\"], [1.0, \"#f0f921\"]], \"type\": \"surface\"}], \"table\": [{\"cells\": {\"fill\": {\"color\": \"#EBF0F8\"}, \"line\": {\"color\": \"white\"}}, \"header\": {\"fill\": {\"color\": \"#C8D4E3\"}, \"line\": {\"color\": \"white\"}}, \"type\": \"table\"}]}, \"layout\": {\"annotationdefaults\": {\"arrowcolor\": \"#2a3f5f\", \"arrowhead\": 0, \"arrowwidth\": 1}, \"coloraxis\": {\"colorbar\": {\"outlinewidth\": 0, \"ticks\": \"\"}}, \"colorscale\": {\"diverging\": [[0, \"#8e0152\"], [0.1, \"#c51b7d\"], [0.2, \"#de77ae\"], [0.3, \"#f1b6da\"], [0.4, \"#fde0ef\"], [0.5, \"#f7f7f7\"], [0.6, \"#e6f5d0\"], [0.7, \"#b8e186\"], [0.8, \"#7fbc41\"], [0.9, \"#4d9221\"], [1, \"#276419\"]], \"sequential\": [[0.0, \"#0d0887\"], [0.1111111111111111, \"#46039f\"], [0.2222222222222222, \"#7201a8\"], [0.3333333333333333, \"#9c179e\"], [0.4444444444444444, \"#bd3786\"], [0.5555555555555556, \"#d8576b\"], [0.6666666666666666, \"#ed7953\"], [0.7777777777777778, \"#fb9f3a\"], [0.8888888888888888, \"#fdca26\"], [1.0, \"#f0f921\"]], \"sequentialminus\": [[0.0, \"#0d0887\"], [0.1111111111111111, \"#46039f\"], [0.2222222222222222, \"#7201a8\"], [0.3333333333333333, \"#9c179e\"], [0.4444444444444444, \"#bd3786\"], [0.5555555555555556, \"#d8576b\"], [0.6666666666666666, \"#ed7953\"], [0.7777777777777778, \"#fb9f3a\"], [0.8888888888888888, \"#fdca26\"], [1.0, \"#f0f921\"]]}, \"colorway\": [\"#636efa\", \"#EF553B\", \"#00cc96\", \"#ab63fa\", \"#FFA15A\", \"#19d3f3\", \"#FF6692\", \"#B6E880\", \"#FF97FF\", \"#FECB52\"], \"font\": {\"color\": \"#2a3f5f\"}, \"geo\": {\"bgcolor\": \"white\", \"lakecolor\": \"white\", \"landcolor\": \"#E5ECF6\", \"showlakes\": true, \"showland\": true, \"subunitcolor\": \"white\"}, \"hoverlabel\": {\"align\": \"left\"}, \"hovermode\": \"closest\", \"mapbox\": {\"style\": \"light\"}, \"paper_bgcolor\": \"white\", \"plot_bgcolor\": \"#E5ECF6\", \"polar\": {\"angularaxis\": {\"gridcolor\": \"white\", \"linecolor\": \"white\", \"ticks\": \"\"}, \"bgcolor\": \"#E5ECF6\", \"radialaxis\": {\"gridcolor\": \"white\", \"linecolor\": \"white\", \"ticks\": \"\"}}, \"scene\": {\"xaxis\": {\"backgroundcolor\": \"#E5ECF6\", \"gridcolor\": \"white\", \"gridwidth\": 2, \"linecolor\": \"white\", \"showbackground\": true, \"ticks\": \"\", \"zerolinecolor\": \"white\"}, \"yaxis\": {\"backgroundcolor\": \"#E5ECF6\", \"gridcolor\": \"white\", \"gridwidth\": 2, \"linecolor\": \"white\", \"showbackground\": true, \"ticks\": \"\", \"zerolinecolor\": \"white\"}, \"zaxis\": {\"backgroundcolor\": \"#E5ECF6\", \"gridcolor\": \"white\", \"gridwidth\": 2, \"linecolor\": \"white\", \"showbackground\": true, \"ticks\": \"\", \"zerolinecolor\": \"white\"}}, \"shapedefaults\": {\"line\": {\"color\": \"#2a3f5f\"}}, \"ternary\": {\"aaxis\": {\"gridcolor\": \"white\", \"linecolor\": \"white\", \"ticks\": \"\"}, \"baxis\": {\"gridcolor\": \"white\", \"linecolor\": \"white\", \"ticks\": \"\"}, \"bgcolor\": \"#E5ECF6\", \"caxis\": {\"gridcolor\": \"white\", \"linecolor\": \"white\", \"ticks\": \"\"}}, \"title\": {\"x\": 0.05}, \"xaxis\": {\"automargin\": true, \"gridcolor\": \"white\", \"linecolor\": \"white\", \"ticks\": \"\", \"title\": {\"standoff\": 15}, \"zerolinecolor\": \"white\", \"zerolinewidth\": 2}, \"yaxis\": {\"automargin\": true, \"gridcolor\": \"white\", \"linecolor\": \"white\", \"ticks\": \"\", \"title\": {\"standoff\": 15}, \"zerolinecolor\": \"white\", \"zerolinewidth\": 2}}}, \"title\": {\"text\": \"3d TSNE Plot for Outliers\"}, \"width\": 900},\n",
       "                        {\"responsive\": true}\n",
       "                    ).then(function(){\n",
       "                            \n",
       "var gd = document.getElementById('f368ffa9-15fc-4aca-aaf4-a5172fa2e57d');\n",
       "var x = new MutationObserver(function (mutations, observer) {{\n",
       "        var display = window.getComputedStyle(gd).display;\n",
       "        if (!display || display === 'none') {{\n",
       "            console.log([gd, 'removed!']);\n",
       "            Plotly.purge(gd);\n",
       "            observer.disconnect();\n",
       "        }}\n",
       "}});\n",
       "\n",
       "// Listen for the removal of the full notebook cells\n",
       "var notebookContainer = gd.closest('#notebook-container');\n",
       "if (notebookContainer) {{\n",
       "    x.observe(notebookContainer, {childList: true});\n",
       "}}\n",
       "\n",
       "// Listen for the clearing of the current output cell\n",
       "var outputEl = gd.closest('.output');\n",
       "if (outputEl) {{\n",
       "    x.observe(outputEl, {childList: true});\n",
       "}}\n",
       "\n",
       "                        })\n",
       "                };\n",
       "                });\n",
       "            </script>\n",
       "        </div>"
      ]
     },
     "metadata": {},
     "output_type": "display_data"
    }
   ],
   "source": [
    "plot_model(knn)"
   ]
  },
  {
   "cell_type": "code",
   "execution_count": 12,
   "metadata": {},
   "outputs": [
    {
     "data": {
      "text/plain": [
       "<matplotlib.axes._subplots.AxesSubplot at 0x7f42af359750>"
      ]
     },
     "execution_count": 12,
     "metadata": {},
     "output_type": "execute_result"
    },
    {
     "data": {
      "image/png": "[encoded data removed]",
      "text/plain": [
       "<Figure size 432x288 with 1 Axes>"
      ]
     },
     "metadata": {
      "needs_background": "light"
     },
     "output_type": "display_data"
    }
   ],
   "source": [
    "knn_df['Label'].value_counts().plot.bar()"
   ]
  },
  {
   "cell_type": "code",
   "execution_count": 13,
   "metadata": {},
   "outputs": [
    {
     "data": {
      "text/plain": [
       "0    223\n",
       "1     11\n",
       "Name: Label, dtype: int64"
      ]
     },
     "execution_count": 13,
     "metadata": {},
     "output_type": "execute_result"
    }
   ],
   "source": [
    "knn_df['Label'].value_counts()"
   ]
  },
  {
   "cell_type": "code",
   "execution_count": 15,
   "metadata": {},
   "outputs": [],
   "source": [
    "df = knn_df.loc[knn_df['Label'] == 0] "
   ]
  },
  {
   "cell_type": "code",
   "execution_count": 16,
   "metadata": {},
   "outputs": [
    {
     "data": {
      "text/html": [
       "<div>\n",
       "<style scoped>\n",
       "    .dataframe tbody tr th:only-of-type {\n",
       "        vertical-align: middle;\n",
       "    }\n",
       "\n",
       "    .dataframe tbody tr th {\n",
       "        vertical-align: top;\n",
       "    }\n",
       "\n",
       "    .dataframe thead th {\n",
       "        text-align: right;\n",
       "    }\n",
       "</style>\n",
       "<table border=\"1\" class=\"dataframe\">\n",
       "  <thead>\n",
       "    <tr style=\"text-align: right;\">\n",
       "      <th></th>\n",
       "      <th>target</th>\n",
       "      <th>tumor size</th>\n",
       "      <th>node status of the tumor</th>\n",
       "      <th>Age of the patient</th>\n",
       "      <th>tumor grade</th>\n",
       "      <th>Label</th>\n",
       "      <th>Score</th>\n",
       "    </tr>\n",
       "  </thead>\n",
       "  <tbody>\n",
       "    <tr>\n",
       "      <th>0</th>\n",
       "      <td>0</td>\n",
       "      <td>2</td>\n",
       "      <td>1</td>\n",
       "      <td>60</td>\n",
       "      <td>3</td>\n",
       "      <td>0</td>\n",
       "      <td>1.414214</td>\n",
       "    </tr>\n",
       "    <tr>\n",
       "      <th>1</th>\n",
       "      <td>0</td>\n",
       "      <td>1</td>\n",
       "      <td>1</td>\n",
       "      <td>55</td>\n",
       "      <td>2</td>\n",
       "      <td>0</td>\n",
       "      <td>2.000000</td>\n",
       "    </tr>\n",
       "    <tr>\n",
       "      <th>2</th>\n",
       "      <td>0</td>\n",
       "      <td>1</td>\n",
       "      <td>1</td>\n",
       "      <td>33</td>\n",
       "      <td>3</td>\n",
       "      <td>0</td>\n",
       "      <td>2.449490</td>\n",
       "    </tr>\n",
       "    <tr>\n",
       "      <th>3</th>\n",
       "      <td>0</td>\n",
       "      <td>1</td>\n",
       "      <td>1</td>\n",
       "      <td>67</td>\n",
       "      <td>2</td>\n",
       "      <td>0</td>\n",
       "      <td>2.236068</td>\n",
       "    </tr>\n",
       "    <tr>\n",
       "      <th>4</th>\n",
       "      <td>0</td>\n",
       "      <td>1</td>\n",
       "      <td>1</td>\n",
       "      <td>47</td>\n",
       "      <td>2</td>\n",
       "      <td>0</td>\n",
       "      <td>1.732051</td>\n",
       "    </tr>\n",
       "    <tr>\n",
       "      <th>...</th>\n",
       "      <td>...</td>\n",
       "      <td>...</td>\n",
       "      <td>...</td>\n",
       "      <td>...</td>\n",
       "      <td>...</td>\n",
       "      <td>...</td>\n",
       "      <td>...</td>\n",
       "    </tr>\n",
       "    <tr>\n",
       "      <th>229</th>\n",
       "      <td>1</td>\n",
       "      <td>2</td>\n",
       "      <td>2</td>\n",
       "      <td>55</td>\n",
       "      <td>2</td>\n",
       "      <td>0</td>\n",
       "      <td>2.236068</td>\n",
       "    </tr>\n",
       "    <tr>\n",
       "      <th>230</th>\n",
       "      <td>1</td>\n",
       "      <td>3</td>\n",
       "      <td>2</td>\n",
       "      <td>45</td>\n",
       "      <td>2</td>\n",
       "      <td>0</td>\n",
       "      <td>2.236068</td>\n",
       "    </tr>\n",
       "    <tr>\n",
       "      <th>231</th>\n",
       "      <td>1</td>\n",
       "      <td>3</td>\n",
       "      <td>2</td>\n",
       "      <td>37</td>\n",
       "      <td>3</td>\n",
       "      <td>0</td>\n",
       "      <td>2.236068</td>\n",
       "    </tr>\n",
       "    <tr>\n",
       "      <th>232</th>\n",
       "      <td>1</td>\n",
       "      <td>3</td>\n",
       "      <td>2</td>\n",
       "      <td>58</td>\n",
       "      <td>2</td>\n",
       "      <td>0</td>\n",
       "      <td>2.449490</td>\n",
       "    </tr>\n",
       "    <tr>\n",
       "      <th>233</th>\n",
       "      <td>1</td>\n",
       "      <td>1</td>\n",
       "      <td>1</td>\n",
       "      <td>52</td>\n",
       "      <td>2</td>\n",
       "      <td>0</td>\n",
       "      <td>2.236068</td>\n",
       "    </tr>\n",
       "  </tbody>\n",
       "</table>\n",
       "<p>223 rows × 7 columns</p>\n",
       "</div>"
      ],
      "text/plain": [
       "     target  tumor size  node status of the tumor  Age of the patient  \\\n",
       "0         0           2                         1                  60   \n",
       "1         0           1                         1                  55   \n",
       "2         0           1                         1                  33   \n",
       "3         0           1                         1                  67   \n",
       "4         0           1                         1                  47   \n",
       "..      ...         ...                       ...                 ...   \n",
       "229       1           2                         2                  55   \n",
       "230       1           3                         2                  45   \n",
       "231       1           3                         2                  37   \n",
       "232       1           3                         2                  58   \n",
       "233       1           1                         1                  52   \n",
       "\n",
       "     tumor grade  Label     Score  \n",
       "0              3      0  1.414214  \n",
       "1              2      0  2.000000  \n",
       "2              3      0  2.449490  \n",
       "3              2      0  2.236068  \n",
       "4              2      0  1.732051  \n",
       "..           ...    ...       ...  \n",
       "229            2      0  2.236068  \n",
       "230            2      0  2.236068  \n",
       "231            3      0  2.236068  \n",
       "232            2      0  2.449490  \n",
       "233            2      0  2.236068  \n",
       "\n",
       "[223 rows x 7 columns]"
      ]
     },
     "execution_count": 16,
     "metadata": {},
     "output_type": "execute_result"
    }
   ],
   "source": [
    "df"
   ]
  },
  {
   "cell_type": "code",
   "execution_count": 17,
   "metadata": {},
   "outputs": [],
   "source": [
    "raw = knn_df.loc[knn_df['Label'] == 1] "
   ]
  },
  {
   "cell_type": "code",
   "execution_count": 18,
   "metadata": {},
   "outputs": [
    {
     "data": {
      "text/html": [
       "<div>\n",
       "<style scoped>\n",
       "    .dataframe tbody tr th:only-of-type {\n",
       "        vertical-align: middle;\n",
       "    }\n",
       "\n",
       "    .dataframe tbody tr th {\n",
       "        vertical-align: top;\n",
       "    }\n",
       "\n",
       "    .dataframe thead th {\n",
       "        text-align: right;\n",
       "    }\n",
       "</style>\n",
       "<table border=\"1\" class=\"dataframe\">\n",
       "  <thead>\n",
       "    <tr style=\"text-align: right;\">\n",
       "      <th></th>\n",
       "      <th>target</th>\n",
       "      <th>tumor size</th>\n",
       "      <th>node status of the tumor</th>\n",
       "      <th>Age of the patient</th>\n",
       "      <th>tumor grade</th>\n",
       "      <th>Label</th>\n",
       "      <th>Score</th>\n",
       "    </tr>\n",
       "  </thead>\n",
       "  <tbody>\n",
       "    <tr>\n",
       "      <th>7</th>\n",
       "      <td>0</td>\n",
       "      <td>1</td>\n",
       "      <td>1</td>\n",
       "      <td>26</td>\n",
       "      <td>2</td>\n",
       "      <td>1</td>\n",
       "      <td>2.828427</td>\n",
       "    </tr>\n",
       "    <tr>\n",
       "      <th>25</th>\n",
       "      <td>0</td>\n",
       "      <td>2</td>\n",
       "      <td>0</td>\n",
       "      <td>30</td>\n",
       "      <td>2</td>\n",
       "      <td>1</td>\n",
       "      <td>2.828427</td>\n",
       "    </tr>\n",
       "    <tr>\n",
       "      <th>71</th>\n",
       "      <td>0</td>\n",
       "      <td>2</td>\n",
       "      <td>0</td>\n",
       "      <td>25</td>\n",
       "      <td>3</td>\n",
       "      <td>1</td>\n",
       "      <td>3.316625</td>\n",
       "    </tr>\n",
       "    <tr>\n",
       "      <th>76</th>\n",
       "      <td>0</td>\n",
       "      <td>1</td>\n",
       "      <td>1</td>\n",
       "      <td>72</td>\n",
       "      <td>2</td>\n",
       "      <td>1</td>\n",
       "      <td>4.242641</td>\n",
       "    </tr>\n",
       "    <tr>\n",
       "      <th>117</th>\n",
       "      <td>0</td>\n",
       "      <td>2</td>\n",
       "      <td>1</td>\n",
       "      <td>29</td>\n",
       "      <td>3</td>\n",
       "      <td>1</td>\n",
       "      <td>3.000000</td>\n",
       "    </tr>\n",
       "    <tr>\n",
       "      <th>147</th>\n",
       "      <td>0</td>\n",
       "      <td>2</td>\n",
       "      <td>1</td>\n",
       "      <td>25</td>\n",
       "      <td>3</td>\n",
       "      <td>1</td>\n",
       "      <td>3.000000</td>\n",
       "    </tr>\n",
       "    <tr>\n",
       "      <th>149</th>\n",
       "      <td>0</td>\n",
       "      <td>2</td>\n",
       "      <td>1</td>\n",
       "      <td>28</td>\n",
       "      <td>3</td>\n",
       "      <td>1</td>\n",
       "      <td>2.828427</td>\n",
       "    </tr>\n",
       "    <tr>\n",
       "      <th>171</th>\n",
       "      <td>0</td>\n",
       "      <td>2</td>\n",
       "      <td>2</td>\n",
       "      <td>30</td>\n",
       "      <td>2</td>\n",
       "      <td>1</td>\n",
       "      <td>2.828427</td>\n",
       "    </tr>\n",
       "    <tr>\n",
       "      <th>174</th>\n",
       "      <td>0</td>\n",
       "      <td>3</td>\n",
       "      <td>1</td>\n",
       "      <td>70</td>\n",
       "      <td>3</td>\n",
       "      <td>1</td>\n",
       "      <td>3.162278</td>\n",
       "    </tr>\n",
       "    <tr>\n",
       "      <th>190</th>\n",
       "      <td>0</td>\n",
       "      <td>2</td>\n",
       "      <td>3</td>\n",
       "      <td>73</td>\n",
       "      <td>3</td>\n",
       "      <td>1</td>\n",
       "      <td>5.196152</td>\n",
       "    </tr>\n",
       "    <tr>\n",
       "      <th>228</th>\n",
       "      <td>1</td>\n",
       "      <td>2</td>\n",
       "      <td>2</td>\n",
       "      <td>75</td>\n",
       "      <td>3</td>\n",
       "      <td>1</td>\n",
       "      <td>7.141428</td>\n",
       "    </tr>\n",
       "  </tbody>\n",
       "</table>\n",
       "</div>"
      ],
      "text/plain": [
       "     target  tumor size  node status of the tumor  Age of the patient  \\\n",
       "7         0           1                         1                  26   \n",
       "25        0           2                         0                  30   \n",
       "71        0           2                         0                  25   \n",
       "76        0           1                         1                  72   \n",
       "117       0           2                         1                  29   \n",
       "147       0           2                         1                  25   \n",
       "149       0           2                         1                  28   \n",
       "171       0           2                         2                  30   \n",
       "174       0           3                         1                  70   \n",
       "190       0           2                         3                  73   \n",
       "228       1           2                         2                  75   \n",
       "\n",
       "     tumor grade  Label     Score  \n",
       "7              2      1  2.828427  \n",
       "25             2      1  2.828427  \n",
       "71             3      1  3.316625  \n",
       "76             2      1  4.242641  \n",
       "117            3      1  3.000000  \n",
       "147            3      1  3.000000  \n",
       "149            3      1  2.828427  \n",
       "171            2      1  2.828427  \n",
       "174            3      1  3.162278  \n",
       "190            3      1  5.196152  \n",
       "228            3      1  7.141428  "
      ]
     },
     "execution_count": 18,
     "metadata": {},
     "output_type": "execute_result"
    }
   ],
   "source": [
    "raw"
   ]
  },
  {
   "cell_type": "code",
   "execution_count": 19,
   "metadata": {},
   "outputs": [],
   "source": [
    "df = df.drop([\"Label\"],axis=1)"
   ]
  },
  {
   "cell_type": "code",
   "execution_count": 20,
   "metadata": {},
   "outputs": [
    {
     "data": {
      "text/html": [
       "<div>\n",
       "<style scoped>\n",
       "    .dataframe tbody tr th:only-of-type {\n",
       "        vertical-align: middle;\n",
       "    }\n",
       "\n",
       "    .dataframe tbody tr th {\n",
       "        vertical-align: top;\n",
       "    }\n",
       "\n",
       "    .dataframe thead th {\n",
       "        text-align: right;\n",
       "    }\n",
       "</style>\n",
       "<table border=\"1\" class=\"dataframe\">\n",
       "  <thead>\n",
       "    <tr style=\"text-align: right;\">\n",
       "      <th></th>\n",
       "      <th>target</th>\n",
       "      <th>tumor size</th>\n",
       "      <th>node status of the tumor</th>\n",
       "      <th>Age of the patient</th>\n",
       "      <th>tumor grade</th>\n",
       "      <th>Score</th>\n",
       "    </tr>\n",
       "  </thead>\n",
       "  <tbody>\n",
       "    <tr>\n",
       "      <th>0</th>\n",
       "      <td>0</td>\n",
       "      <td>2</td>\n",
       "      <td>1</td>\n",
       "      <td>60</td>\n",
       "      <td>3</td>\n",
       "      <td>1.414214</td>\n",
       "    </tr>\n",
       "    <tr>\n",
       "      <th>1</th>\n",
       "      <td>0</td>\n",
       "      <td>1</td>\n",
       "      <td>1</td>\n",
       "      <td>55</td>\n",
       "      <td>2</td>\n",
       "      <td>2.000000</td>\n",
       "    </tr>\n",
       "    <tr>\n",
       "      <th>2</th>\n",
       "      <td>0</td>\n",
       "      <td>1</td>\n",
       "      <td>1</td>\n",
       "      <td>33</td>\n",
       "      <td>3</td>\n",
       "      <td>2.449490</td>\n",
       "    </tr>\n",
       "    <tr>\n",
       "      <th>3</th>\n",
       "      <td>0</td>\n",
       "      <td>1</td>\n",
       "      <td>1</td>\n",
       "      <td>67</td>\n",
       "      <td>2</td>\n",
       "      <td>2.236068</td>\n",
       "    </tr>\n",
       "    <tr>\n",
       "      <th>4</th>\n",
       "      <td>0</td>\n",
       "      <td>1</td>\n",
       "      <td>1</td>\n",
       "      <td>47</td>\n",
       "      <td>2</td>\n",
       "      <td>1.732051</td>\n",
       "    </tr>\n",
       "    <tr>\n",
       "      <th>...</th>\n",
       "      <td>...</td>\n",
       "      <td>...</td>\n",
       "      <td>...</td>\n",
       "      <td>...</td>\n",
       "      <td>...</td>\n",
       "      <td>...</td>\n",
       "    </tr>\n",
       "    <tr>\n",
       "      <th>229</th>\n",
       "      <td>1</td>\n",
       "      <td>2</td>\n",
       "      <td>2</td>\n",
       "      <td>55</td>\n",
       "      <td>2</td>\n",
       "      <td>2.236068</td>\n",
       "    </tr>\n",
       "    <tr>\n",
       "      <th>230</th>\n",
       "      <td>1</td>\n",
       "      <td>3</td>\n",
       "      <td>2</td>\n",
       "      <td>45</td>\n",
       "      <td>2</td>\n",
       "      <td>2.236068</td>\n",
       "    </tr>\n",
       "    <tr>\n",
       "      <th>231</th>\n",
       "      <td>1</td>\n",
       "      <td>3</td>\n",
       "      <td>2</td>\n",
       "      <td>37</td>\n",
       "      <td>3</td>\n",
       "      <td>2.236068</td>\n",
       "    </tr>\n",
       "    <tr>\n",
       "      <th>232</th>\n",
       "      <td>1</td>\n",
       "      <td>3</td>\n",
       "      <td>2</td>\n",
       "      <td>58</td>\n",
       "      <td>2</td>\n",
       "      <td>2.449490</td>\n",
       "    </tr>\n",
       "    <tr>\n",
       "      <th>233</th>\n",
       "      <td>1</td>\n",
       "      <td>1</td>\n",
       "      <td>1</td>\n",
       "      <td>52</td>\n",
       "      <td>2</td>\n",
       "      <td>2.236068</td>\n",
       "    </tr>\n",
       "  </tbody>\n",
       "</table>\n",
       "<p>223 rows × 6 columns</p>\n",
       "</div>"
      ],
      "text/plain": [
       "     target  tumor size  node status of the tumor  Age of the patient  \\\n",
       "0         0           2                         1                  60   \n",
       "1         0           1                         1                  55   \n",
       "2         0           1                         1                  33   \n",
       "3         0           1                         1                  67   \n",
       "4         0           1                         1                  47   \n",
       "..      ...         ...                       ...                 ...   \n",
       "229       1           2                         2                  55   \n",
       "230       1           3                         2                  45   \n",
       "231       1           3                         2                  37   \n",
       "232       1           3                         2                  58   \n",
       "233       1           1                         1                  52   \n",
       "\n",
       "     tumor grade     Score  \n",
       "0              3  1.414214  \n",
       "1              2  2.000000  \n",
       "2              3  2.449490  \n",
       "3              2  2.236068  \n",
       "4              2  1.732051  \n",
       "..           ...       ...  \n",
       "229            2  2.236068  \n",
       "230            2  2.236068  \n",
       "231            3  2.236068  \n",
       "232            2  2.449490  \n",
       "233            2  2.236068  \n",
       "\n",
       "[223 rows x 6 columns]"
      ]
     },
     "execution_count": 20,
     "metadata": {},
     "output_type": "execute_result"
    }
   ],
   "source": [
    "df"
   ]
  },
  {
   "cell_type": "code",
   "execution_count": 22,
   "metadata": {},
   "outputs": [
    {
     "data": {
      "text/plain": [
       "0    223\n",
       "1     11\n",
       "Name: Label, dtype: int64"
      ]
     },
     "execution_count": 22,
     "metadata": {},
     "output_type": "execute_result"
    },
    {
     "data": {
      "image/png": "[encoded data removed]",
      "text/plain": [
       "<Figure size 432x288 with 1 Axes>"
      ]
     },
     "metadata": {
      "needs_background": "light"
     },
     "output_type": "display_data"
    }
   ],
   "source": [
    "df['target'].value_counts().plot.bar()\n",
    "knn_df['Label'].value_counts()\n"
   ]
  },
  {
   "cell_type": "code",
   "execution_count": 23,
   "metadata": {},
   "outputs": [],
   "source": [
    "from sklearn.model_selection import train_test_split"
   ]
  },
  {
   "cell_type": "code",
   "execution_count": 24,
   "metadata": {},
   "outputs": [],
   "source": [
    "X_res = df.iloc[:,1:].values\n",
    "y_res = df.iloc[:,0].values"
   ]
  },
  {
   "cell_type": "code",
   "execution_count": 25,
   "metadata": {},
   "outputs": [
    {
     "name": "stderr",
     "output_type": "stream",
     "text": [
      "Using TensorFlow backend.\n"
     ]
    }
   ],
   "source": [
    "from imblearn.over_sampling import RandomOverSampler"
   ]
  },
  {
   "cell_type": "code",
   "execution_count": 26,
   "metadata": {},
   "outputs": [],
   "source": [
    "os = RandomOverSampler()\n",
    "X_res,y_res = os.fit_sample(X_res,y_res)"
   ]
  },
  {
   "cell_type": "code",
   "execution_count": 27,
   "metadata": {},
   "outputs": [
    {
     "data": {
      "text/plain": [
       "(362, 5)"
      ]
     },
     "execution_count": 27,
     "metadata": {},
     "output_type": "execute_result"
    }
   ],
   "source": [
    "X_res.shape"
   ]
  },
  {
   "cell_type": "code",
   "execution_count": 28,
   "metadata": {},
   "outputs": [
    {
     "data": {
      "text/plain": [
       "(362,)"
      ]
     },
     "execution_count": 28,
     "metadata": {},
     "output_type": "execute_result"
    }
   ],
   "source": [
    "y_res.shape"
   ]
  },
  {
   "cell_type": "code",
   "execution_count": 29,
   "metadata": {},
   "outputs": [],
   "source": [
    "X_train, X_test, y_train, y_test = train_test_split(X_res,y_res, test_size=0.2, random_state=42)"
   ]
  },
  {
   "cell_type": "code",
   "execution_count": 30,
   "metadata": {},
   "outputs": [],
   "source": [
    "from sklearn.preprocessing import Normalizer"
   ]
  },
  {
   "cell_type": "code",
   "execution_count": 32,
   "metadata": {},
   "outputs": [],
   "source": [
    "scaler = Normalizer().fit(X_train)\n",
    "standarized_x = scaler.transform(X_train)\n",
    "standarized_x_test = scaler.transform(X_test)"
   ]
  },
  {
   "cell_type": "code",
   "execution_count": 33,
   "metadata": {},
   "outputs": [],
   "source": [
    "from sklearn.ensemble import RandomForestClassifier\n",
    "from sklearn.metrics import accuracy_score,confusion_matrix,classification_report"
   ]
  },
  {
   "cell_type": "code",
   "execution_count": 34,
   "metadata": {},
   "outputs": [],
   "source": [
    "model = RandomForestClassifier(n_estimators=100,\n",
    "    criterion='gini',\n",
    "    max_depth=50,\n",
    "    min_samples_split=7,\n",
    "    min_samples_leaf=1,\n",
    "    min_weight_fraction_leaf=0.0,\n",
    "    max_features='sqrt',\n",
    "    max_leaf_nodes=None,\n",
    "    min_impurity_decrease=0.0,\n",
    "    min_impurity_split=None,\n",
    "    bootstrap=False,\n",
    "    oob_score=False,\n",
    "    n_jobs=None,\n",
    "    random_state=4818,\n",
    "    verbose=0,\n",
    "    warm_start=False,\n",
    "    class_weight=None,\n",
    "    ccp_alpha=0.0,\n",
    "    max_samples=None,)"
   ]
  },
  {
   "cell_type": "code",
   "execution_count": 36,
   "metadata": {},
   "outputs": [
    {
     "name": "stdout",
     "output_type": "stream",
     "text": [
      "0.8493150684931506\n",
      "[[29 11]\n",
      " [ 0 33]]\n",
      "              precision    recall  f1-score   support\n",
      "\n",
      "           0       1.00      0.72      0.84        40\n",
      "           1       0.75      1.00      0.86        33\n",
      "\n",
      "    accuracy                           0.85        73\n",
      "   macro avg       0.88      0.86      0.85        73\n",
      "weighted avg       0.89      0.85      0.85        73\n",
      "\n"
     ]
    }
   ],
   "source": [
    "model.fit(standarized_x,y_train)\n",
    "y_pred = model.predict(standarized_x_test)\n",
    "print(accuracy_score(y_test,y_pred))\n",
    "print(confusion_matrix(y_test,y_pred))\n",
    "print(classification_report(y_test,y_pred))"
   ]
  },
  {
   "cell_type": "code",
   "execution_count": 37,
   "metadata": {},
   "outputs": [],
   "source": [
    "import xgboost as xgb\n",
    "xgb_model = xgb.XGBClassifier(base_score=0.5, booster='gbtree', colsample_bylevel=1,\n",
    "              colsample_bynode=1, colsample_bytree=1, gamma=0,\n",
    "              learning_rate=0.6, max_delta_step=0, max_depth=50,\n",
    "              min_child_weight=2, missing=None, n_estimators=400, n_jobs=-1,\n",
    "              nthread=None, objective='binary:logistic', random_state=2837,\n",
    "              reg_alpha=0, reg_lambda=1, scale_pos_weight=1, seed=None,\n",
    "              silent=None, subsample=0.7, verbosity=0)\n"
   ]
  },
  {
   "cell_type": "code",
   "execution_count": 38,
   "metadata": {},
   "outputs": [
    {
     "data": {
      "text/plain": [
       "XGBClassifier(base_score=0.5, booster='gbtree', colsample_bylevel=1,\n",
       "              colsample_bynode=1, colsample_bytree=1, gamma=0,\n",
       "              learning_rate=0.6, max_delta_step=0, max_depth=50,\n",
       "              min_child_weight=2, missing=None, n_estimators=400, n_jobs=-1,\n",
       "              nthread=None, objective='binary:logistic', random_state=2837,\n",
       "              reg_alpha=0, reg_lambda=1, scale_pos_weight=1, seed=None,\n",
       "              silent=None, subsample=0.7, verbosity=0)"
      ]
     },
     "execution_count": 38,
     "metadata": {},
     "output_type": "execute_result"
    }
   ],
   "source": [
    "xgb_model.fit(standarized_x,y_train)"
   ]
  },
  {
   "cell_type": "code",
   "execution_count": 39,
   "metadata": {},
   "outputs": [
    {
     "name": "stdout",
     "output_type": "stream",
     "text": [
      "0.9041095890410958\n",
      "[[33  7]\n",
      " [ 0 33]]\n",
      "              precision    recall  f1-score   support\n",
      "\n",
      "           0       1.00      0.82      0.90        40\n",
      "           1       0.82      1.00      0.90        33\n",
      "\n",
      "    accuracy                           0.90        73\n",
      "   macro avg       0.91      0.91      0.90        73\n",
      "weighted avg       0.92      0.90      0.90        73\n",
      "\n"
     ]
    }
   ],
   "source": [
    "y_pred = xgb_model.predict(standarized_x_test)\n",
    "print(accuracy_score(y_test,y_pred))\n",
    "print(confusion_matrix(y_test,y_pred))\n",
    "print(classification_report(y_test,y_pred))"
   ]
  }
 ],
 "metadata": {
  "kernelspec": {
   "display_name": "Python 3",
   "language": "python",
   "name": "python3"
  },
  "language_info": {
   "codemirror_mode": {
    "name": "ipython",
    "version": 3
   },
   "file_extension": ".py",
   "mimetype": "text/x-python",
   "name": "python",
   "nbconvert_exporter": "python",
   "pygments_lexer": "ipython3",
   "version": "3.7.5"
  }
 },
 "nbformat": 4,
 "nbformat_minor": 2
}
