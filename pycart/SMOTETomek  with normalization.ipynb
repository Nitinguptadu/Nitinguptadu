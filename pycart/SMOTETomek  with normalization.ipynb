{
 "cells": [
  {
   "cell_type": "code",
   "execution_count": 1,
   "metadata": {},
   "outputs": [],
   "source": [
    "import pandas as pd\n",
    "import numpy as np"
   ]
  },
  {
   "cell_type": "code",
   "execution_count": 2,
   "metadata": {},
   "outputs": [],
   "source": [
    "df = pd.read_excel(\"preprocessed data.xlsx\")"
   ]
  },
  {
   "cell_type": "code",
   "execution_count": 3,
   "metadata": {},
   "outputs": [
    {
     "data": {
      "text/html": [
       "<div>\n",
       "<style scoped>\n",
       "    .dataframe tbody tr th:only-of-type {\n",
       "        vertical-align: middle;\n",
       "    }\n",
       "\n",
       "    .dataframe tbody tr th {\n",
       "        vertical-align: top;\n",
       "    }\n",
       "\n",
       "    .dataframe thead th {\n",
       "        text-align: right;\n",
       "    }\n",
       "</style>\n",
       "<table border=\"1\" class=\"dataframe\">\n",
       "  <thead>\n",
       "    <tr style=\"text-align: right;\">\n",
       "      <th></th>\n",
       "      <th>target</th>\n",
       "      <th>tumor size</th>\n",
       "      <th>node status of the tumor</th>\n",
       "      <th>Age of the patient</th>\n",
       "      <th>tumor grade</th>\n",
       "    </tr>\n",
       "  </thead>\n",
       "  <tbody>\n",
       "    <tr>\n",
       "      <th>0</th>\n",
       "      <td>0</td>\n",
       "      <td>2</td>\n",
       "      <td>1</td>\n",
       "      <td>60</td>\n",
       "      <td>3</td>\n",
       "    </tr>\n",
       "    <tr>\n",
       "      <th>1</th>\n",
       "      <td>0</td>\n",
       "      <td>1</td>\n",
       "      <td>1</td>\n",
       "      <td>55</td>\n",
       "      <td>2</td>\n",
       "    </tr>\n",
       "    <tr>\n",
       "      <th>2</th>\n",
       "      <td>0</td>\n",
       "      <td>1</td>\n",
       "      <td>1</td>\n",
       "      <td>33</td>\n",
       "      <td>3</td>\n",
       "    </tr>\n",
       "    <tr>\n",
       "      <th>3</th>\n",
       "      <td>0</td>\n",
       "      <td>1</td>\n",
       "      <td>1</td>\n",
       "      <td>67</td>\n",
       "      <td>2</td>\n",
       "    </tr>\n",
       "    <tr>\n",
       "      <th>4</th>\n",
       "      <td>0</td>\n",
       "      <td>1</td>\n",
       "      <td>1</td>\n",
       "      <td>47</td>\n",
       "      <td>2</td>\n",
       "    </tr>\n",
       "    <tr>\n",
       "      <th>...</th>\n",
       "      <td>...</td>\n",
       "      <td>...</td>\n",
       "      <td>...</td>\n",
       "      <td>...</td>\n",
       "      <td>...</td>\n",
       "    </tr>\n",
       "    <tr>\n",
       "      <th>229</th>\n",
       "      <td>1</td>\n",
       "      <td>2</td>\n",
       "      <td>2</td>\n",
       "      <td>55</td>\n",
       "      <td>2</td>\n",
       "    </tr>\n",
       "    <tr>\n",
       "      <th>230</th>\n",
       "      <td>1</td>\n",
       "      <td>3</td>\n",
       "      <td>2</td>\n",
       "      <td>45</td>\n",
       "      <td>2</td>\n",
       "    </tr>\n",
       "    <tr>\n",
       "      <th>231</th>\n",
       "      <td>1</td>\n",
       "      <td>3</td>\n",
       "      <td>2</td>\n",
       "      <td>37</td>\n",
       "      <td>3</td>\n",
       "    </tr>\n",
       "    <tr>\n",
       "      <th>232</th>\n",
       "      <td>1</td>\n",
       "      <td>3</td>\n",
       "      <td>2</td>\n",
       "      <td>58</td>\n",
       "      <td>2</td>\n",
       "    </tr>\n",
       "    <tr>\n",
       "      <th>233</th>\n",
       "      <td>1</td>\n",
       "      <td>1</td>\n",
       "      <td>1</td>\n",
       "      <td>52</td>\n",
       "      <td>2</td>\n",
       "    </tr>\n",
       "  </tbody>\n",
       "</table>\n",
       "<p>234 rows × 5 columns</p>\n",
       "</div>"
      ],
      "text/plain": [
       "     target  tumor size  node status of the tumor  Age of the patient  \\\n",
       "0         0           2                         1                  60   \n",
       "1         0           1                         1                  55   \n",
       "2         0           1                         1                  33   \n",
       "3         0           1                         1                  67   \n",
       "4         0           1                         1                  47   \n",
       "..      ...         ...                       ...                 ...   \n",
       "229       1           2                         2                  55   \n",
       "230       1           3                         2                  45   \n",
       "231       1           3                         2                  37   \n",
       "232       1           3                         2                  58   \n",
       "233       1           1                         1                  52   \n",
       "\n",
       "     tumor grade  \n",
       "0              3  \n",
       "1              2  \n",
       "2              3  \n",
       "3              2  \n",
       "4              2  \n",
       "..           ...  \n",
       "229            2  \n",
       "230            2  \n",
       "231            3  \n",
       "232            2  \n",
       "233            2  \n",
       "\n",
       "[234 rows x 5 columns]"
      ]
     },
     "execution_count": 3,
     "metadata": {},
     "output_type": "execute_result"
    }
   ],
   "source": [
    "df"
   ]
  },
  {
   "cell_type": "code",
   "execution_count": 4,
   "metadata": {},
   "outputs": [
    {
     "name": "stdout",
     "output_type": "stream",
     "text": [
      "\n",
      "Setup Succesfully Completed!\n"
     ]
    },
    {
     "data": {
      "text/html": [
       "<style  type=\"text/css\" >\n",
       "</style><table id=\"T_24906174_944a_11ea_873b_29ad7c49a9cd\" ><thead>    <tr>        <th class=\"blank level0\" ></th>        <th class=\"col_heading level0 col0\" >Description</th>        <th class=\"col_heading level0 col1\" >Value</th>    </tr></thead><tbody>\n",
       "                <tr>\n",
       "                        <th id=\"T_24906174_944a_11ea_873b_29ad7c49a9cdlevel0_row0\" class=\"row_heading level0 row0\" >0</th>\n",
       "                        <td id=\"T_24906174_944a_11ea_873b_29ad7c49a9cdrow0_col0\" class=\"data row0 col0\" >session_id </td>\n",
       "                        <td id=\"T_24906174_944a_11ea_873b_29ad7c49a9cdrow0_col1\" class=\"data row0 col1\" >8319</td>\n",
       "            </tr>\n",
       "            <tr>\n",
       "                        <th id=\"T_24906174_944a_11ea_873b_29ad7c49a9cdlevel0_row1\" class=\"row_heading level0 row1\" >1</th>\n",
       "                        <td id=\"T_24906174_944a_11ea_873b_29ad7c49a9cdrow1_col0\" class=\"data row1 col0\" >Original Data </td>\n",
       "                        <td id=\"T_24906174_944a_11ea_873b_29ad7c49a9cdrow1_col1\" class=\"data row1 col1\" >(234, 5)</td>\n",
       "            </tr>\n",
       "            <tr>\n",
       "                        <th id=\"T_24906174_944a_11ea_873b_29ad7c49a9cdlevel0_row2\" class=\"row_heading level0 row2\" >2</th>\n",
       "                        <td id=\"T_24906174_944a_11ea_873b_29ad7c49a9cdrow2_col0\" class=\"data row2 col0\" >Missing Values </td>\n",
       "                        <td id=\"T_24906174_944a_11ea_873b_29ad7c49a9cdrow2_col1\" class=\"data row2 col1\" >False</td>\n",
       "            </tr>\n",
       "            <tr>\n",
       "                        <th id=\"T_24906174_944a_11ea_873b_29ad7c49a9cdlevel0_row3\" class=\"row_heading level0 row3\" >3</th>\n",
       "                        <td id=\"T_24906174_944a_11ea_873b_29ad7c49a9cdrow3_col0\" class=\"data row3 col0\" >Numeric Features </td>\n",
       "                        <td id=\"T_24906174_944a_11ea_873b_29ad7c49a9cdrow3_col1\" class=\"data row3 col1\" >1</td>\n",
       "            </tr>\n",
       "            <tr>\n",
       "                        <th id=\"T_24906174_944a_11ea_873b_29ad7c49a9cdlevel0_row4\" class=\"row_heading level0 row4\" >4</th>\n",
       "                        <td id=\"T_24906174_944a_11ea_873b_29ad7c49a9cdrow4_col0\" class=\"data row4 col0\" >Categorical Features </td>\n",
       "                        <td id=\"T_24906174_944a_11ea_873b_29ad7c49a9cdrow4_col1\" class=\"data row4 col1\" >4</td>\n",
       "            </tr>\n",
       "            <tr>\n",
       "                        <th id=\"T_24906174_944a_11ea_873b_29ad7c49a9cdlevel0_row5\" class=\"row_heading level0 row5\" >5</th>\n",
       "                        <td id=\"T_24906174_944a_11ea_873b_29ad7c49a9cdrow5_col0\" class=\"data row5 col0\" >Ordinal Features </td>\n",
       "                        <td id=\"T_24906174_944a_11ea_873b_29ad7c49a9cdrow5_col1\" class=\"data row5 col1\" >False</td>\n",
       "            </tr>\n",
       "            <tr>\n",
       "                        <th id=\"T_24906174_944a_11ea_873b_29ad7c49a9cdlevel0_row6\" class=\"row_heading level0 row6\" >6</th>\n",
       "                        <td id=\"T_24906174_944a_11ea_873b_29ad7c49a9cdrow6_col0\" class=\"data row6 col0\" >High Cardinality Features </td>\n",
       "                        <td id=\"T_24906174_944a_11ea_873b_29ad7c49a9cdrow6_col1\" class=\"data row6 col1\" >False</td>\n",
       "            </tr>\n",
       "            <tr>\n",
       "                        <th id=\"T_24906174_944a_11ea_873b_29ad7c49a9cdlevel0_row7\" class=\"row_heading level0 row7\" >7</th>\n",
       "                        <td id=\"T_24906174_944a_11ea_873b_29ad7c49a9cdrow7_col0\" class=\"data row7 col0\" >Transformed Data </td>\n",
       "                        <td id=\"T_24906174_944a_11ea_873b_29ad7c49a9cdrow7_col1\" class=\"data row7 col1\" >(234, 13)</td>\n",
       "            </tr>\n",
       "            <tr>\n",
       "                        <th id=\"T_24906174_944a_11ea_873b_29ad7c49a9cdlevel0_row8\" class=\"row_heading level0 row8\" >8</th>\n",
       "                        <td id=\"T_24906174_944a_11ea_873b_29ad7c49a9cdrow8_col0\" class=\"data row8 col0\" >Numeric Imputer </td>\n",
       "                        <td id=\"T_24906174_944a_11ea_873b_29ad7c49a9cdrow8_col1\" class=\"data row8 col1\" >mean</td>\n",
       "            </tr>\n",
       "            <tr>\n",
       "                        <th id=\"T_24906174_944a_11ea_873b_29ad7c49a9cdlevel0_row9\" class=\"row_heading level0 row9\" >9</th>\n",
       "                        <td id=\"T_24906174_944a_11ea_873b_29ad7c49a9cdrow9_col0\" class=\"data row9 col0\" >Categorical Imputer </td>\n",
       "                        <td id=\"T_24906174_944a_11ea_873b_29ad7c49a9cdrow9_col1\" class=\"data row9 col1\" >constant</td>\n",
       "            </tr>\n",
       "            <tr>\n",
       "                        <th id=\"T_24906174_944a_11ea_873b_29ad7c49a9cdlevel0_row10\" class=\"row_heading level0 row10\" >10</th>\n",
       "                        <td id=\"T_24906174_944a_11ea_873b_29ad7c49a9cdrow10_col0\" class=\"data row10 col0\" >Normalize </td>\n",
       "                        <td id=\"T_24906174_944a_11ea_873b_29ad7c49a9cdrow10_col1\" class=\"data row10 col1\" >False</td>\n",
       "            </tr>\n",
       "            <tr>\n",
       "                        <th id=\"T_24906174_944a_11ea_873b_29ad7c49a9cdlevel0_row11\" class=\"row_heading level0 row11\" >11</th>\n",
       "                        <td id=\"T_24906174_944a_11ea_873b_29ad7c49a9cdrow11_col0\" class=\"data row11 col0\" >Normalize Method </td>\n",
       "                        <td id=\"T_24906174_944a_11ea_873b_29ad7c49a9cdrow11_col1\" class=\"data row11 col1\" >None</td>\n",
       "            </tr>\n",
       "            <tr>\n",
       "                        <th id=\"T_24906174_944a_11ea_873b_29ad7c49a9cdlevel0_row12\" class=\"row_heading level0 row12\" >12</th>\n",
       "                        <td id=\"T_24906174_944a_11ea_873b_29ad7c49a9cdrow12_col0\" class=\"data row12 col0\" >Transformation </td>\n",
       "                        <td id=\"T_24906174_944a_11ea_873b_29ad7c49a9cdrow12_col1\" class=\"data row12 col1\" >False</td>\n",
       "            </tr>\n",
       "            <tr>\n",
       "                        <th id=\"T_24906174_944a_11ea_873b_29ad7c49a9cdlevel0_row13\" class=\"row_heading level0 row13\" >13</th>\n",
       "                        <td id=\"T_24906174_944a_11ea_873b_29ad7c49a9cdrow13_col0\" class=\"data row13 col0\" >Transformation Method </td>\n",
       "                        <td id=\"T_24906174_944a_11ea_873b_29ad7c49a9cdrow13_col1\" class=\"data row13 col1\" >None</td>\n",
       "            </tr>\n",
       "            <tr>\n",
       "                        <th id=\"T_24906174_944a_11ea_873b_29ad7c49a9cdlevel0_row14\" class=\"row_heading level0 row14\" >14</th>\n",
       "                        <td id=\"T_24906174_944a_11ea_873b_29ad7c49a9cdrow14_col0\" class=\"data row14 col0\" >PCA </td>\n",
       "                        <td id=\"T_24906174_944a_11ea_873b_29ad7c49a9cdrow14_col1\" class=\"data row14 col1\" >False</td>\n",
       "            </tr>\n",
       "            <tr>\n",
       "                        <th id=\"T_24906174_944a_11ea_873b_29ad7c49a9cdlevel0_row15\" class=\"row_heading level0 row15\" >15</th>\n",
       "                        <td id=\"T_24906174_944a_11ea_873b_29ad7c49a9cdrow15_col0\" class=\"data row15 col0\" >PCA Method </td>\n",
       "                        <td id=\"T_24906174_944a_11ea_873b_29ad7c49a9cdrow15_col1\" class=\"data row15 col1\" >None</td>\n",
       "            </tr>\n",
       "            <tr>\n",
       "                        <th id=\"T_24906174_944a_11ea_873b_29ad7c49a9cdlevel0_row16\" class=\"row_heading level0 row16\" >16</th>\n",
       "                        <td id=\"T_24906174_944a_11ea_873b_29ad7c49a9cdrow16_col0\" class=\"data row16 col0\" >PCA components </td>\n",
       "                        <td id=\"T_24906174_944a_11ea_873b_29ad7c49a9cdrow16_col1\" class=\"data row16 col1\" >None</td>\n",
       "            </tr>\n",
       "            <tr>\n",
       "                        <th id=\"T_24906174_944a_11ea_873b_29ad7c49a9cdlevel0_row17\" class=\"row_heading level0 row17\" >17</th>\n",
       "                        <td id=\"T_24906174_944a_11ea_873b_29ad7c49a9cdrow17_col0\" class=\"data row17 col0\" >Ignore Low Variance </td>\n",
       "                        <td id=\"T_24906174_944a_11ea_873b_29ad7c49a9cdrow17_col1\" class=\"data row17 col1\" >False</td>\n",
       "            </tr>\n",
       "            <tr>\n",
       "                        <th id=\"T_24906174_944a_11ea_873b_29ad7c49a9cdlevel0_row18\" class=\"row_heading level0 row18\" >18</th>\n",
       "                        <td id=\"T_24906174_944a_11ea_873b_29ad7c49a9cdrow18_col0\" class=\"data row18 col0\" >Combine Rare Levels </td>\n",
       "                        <td id=\"T_24906174_944a_11ea_873b_29ad7c49a9cdrow18_col1\" class=\"data row18 col1\" >False</td>\n",
       "            </tr>\n",
       "            <tr>\n",
       "                        <th id=\"T_24906174_944a_11ea_873b_29ad7c49a9cdlevel0_row19\" class=\"row_heading level0 row19\" >19</th>\n",
       "                        <td id=\"T_24906174_944a_11ea_873b_29ad7c49a9cdrow19_col0\" class=\"data row19 col0\" >Rare Level Threshold </td>\n",
       "                        <td id=\"T_24906174_944a_11ea_873b_29ad7c49a9cdrow19_col1\" class=\"data row19 col1\" >None</td>\n",
       "            </tr>\n",
       "            <tr>\n",
       "                        <th id=\"T_24906174_944a_11ea_873b_29ad7c49a9cdlevel0_row20\" class=\"row_heading level0 row20\" >20</th>\n",
       "                        <td id=\"T_24906174_944a_11ea_873b_29ad7c49a9cdrow20_col0\" class=\"data row20 col0\" >Numeric Binning </td>\n",
       "                        <td id=\"T_24906174_944a_11ea_873b_29ad7c49a9cdrow20_col1\" class=\"data row20 col1\" >False</td>\n",
       "            </tr>\n",
       "            <tr>\n",
       "                        <th id=\"T_24906174_944a_11ea_873b_29ad7c49a9cdlevel0_row21\" class=\"row_heading level0 row21\" >21</th>\n",
       "                        <td id=\"T_24906174_944a_11ea_873b_29ad7c49a9cdrow21_col0\" class=\"data row21 col0\" >Remove Multicollinearity </td>\n",
       "                        <td id=\"T_24906174_944a_11ea_873b_29ad7c49a9cdrow21_col1\" class=\"data row21 col1\" >False</td>\n",
       "            </tr>\n",
       "            <tr>\n",
       "                        <th id=\"T_24906174_944a_11ea_873b_29ad7c49a9cdlevel0_row22\" class=\"row_heading level0 row22\" >22</th>\n",
       "                        <td id=\"T_24906174_944a_11ea_873b_29ad7c49a9cdrow22_col0\" class=\"data row22 col0\" >Multicollinearity Threshold </td>\n",
       "                        <td id=\"T_24906174_944a_11ea_873b_29ad7c49a9cdrow22_col1\" class=\"data row22 col1\" >None</td>\n",
       "            </tr>\n",
       "            <tr>\n",
       "                        <th id=\"T_24906174_944a_11ea_873b_29ad7c49a9cdlevel0_row23\" class=\"row_heading level0 row23\" >23</th>\n",
       "                        <td id=\"T_24906174_944a_11ea_873b_29ad7c49a9cdrow23_col0\" class=\"data row23 col0\" >Group Features </td>\n",
       "                        <td id=\"T_24906174_944a_11ea_873b_29ad7c49a9cdrow23_col1\" class=\"data row23 col1\" >False</td>\n",
       "            </tr>\n",
       "    </tbody></table>"
      ],
      "text/plain": [
       "<pandas.io.formats.style.Styler at 0x7fc5210f9cd0>"
      ]
     },
     "metadata": {},
     "output_type": "display_data"
    }
   ],
   "source": [
    "from pycaret.anomaly import *\n",
    "#intialize the setup\n",
    "exp_ano = setup(df)"
   ]
  },
  {
   "cell_type": "code",
   "execution_count": 5,
   "metadata": {},
   "outputs": [],
   "source": [
    "knn = create_model('knn')"
   ]
  },
  {
   "cell_type": "code",
   "execution_count": 6,
   "metadata": {},
   "outputs": [
    {
     "data": {
      "text/html": [
       "<div>\n",
       "<style scoped>\n",
       "    .dataframe tbody tr th:only-of-type {\n",
       "        vertical-align: middle;\n",
       "    }\n",
       "\n",
       "    .dataframe tbody tr th {\n",
       "        vertical-align: top;\n",
       "    }\n",
       "\n",
       "    .dataframe thead th {\n",
       "        text-align: right;\n",
       "    }\n",
       "</style>\n",
       "<table border=\"1\" class=\"dataframe\">\n",
       "  <thead>\n",
       "    <tr style=\"text-align: right;\">\n",
       "      <th></th>\n",
       "      <th>target</th>\n",
       "      <th>tumor size</th>\n",
       "      <th>node status of the tumor</th>\n",
       "      <th>Age of the patient</th>\n",
       "      <th>tumor grade</th>\n",
       "      <th>Label</th>\n",
       "      <th>Score</th>\n",
       "    </tr>\n",
       "  </thead>\n",
       "  <tbody>\n",
       "    <tr>\n",
       "      <th>0</th>\n",
       "      <td>0</td>\n",
       "      <td>2</td>\n",
       "      <td>1</td>\n",
       "      <td>60</td>\n",
       "      <td>3</td>\n",
       "      <td>0</td>\n",
       "      <td>1.414214</td>\n",
       "    </tr>\n",
       "    <tr>\n",
       "      <th>1</th>\n",
       "      <td>0</td>\n",
       "      <td>1</td>\n",
       "      <td>1</td>\n",
       "      <td>55</td>\n",
       "      <td>2</td>\n",
       "      <td>0</td>\n",
       "      <td>2.000000</td>\n",
       "    </tr>\n",
       "    <tr>\n",
       "      <th>2</th>\n",
       "      <td>0</td>\n",
       "      <td>1</td>\n",
       "      <td>1</td>\n",
       "      <td>33</td>\n",
       "      <td>3</td>\n",
       "      <td>0</td>\n",
       "      <td>2.449490</td>\n",
       "    </tr>\n",
       "    <tr>\n",
       "      <th>3</th>\n",
       "      <td>0</td>\n",
       "      <td>1</td>\n",
       "      <td>1</td>\n",
       "      <td>67</td>\n",
       "      <td>2</td>\n",
       "      <td>0</td>\n",
       "      <td>2.236068</td>\n",
       "    </tr>\n",
       "    <tr>\n",
       "      <th>4</th>\n",
       "      <td>0</td>\n",
       "      <td>1</td>\n",
       "      <td>1</td>\n",
       "      <td>47</td>\n",
       "      <td>2</td>\n",
       "      <td>0</td>\n",
       "      <td>1.732051</td>\n",
       "    </tr>\n",
       "    <tr>\n",
       "      <th>...</th>\n",
       "      <td>...</td>\n",
       "      <td>...</td>\n",
       "      <td>...</td>\n",
       "      <td>...</td>\n",
       "      <td>...</td>\n",
       "      <td>...</td>\n",
       "      <td>...</td>\n",
       "    </tr>\n",
       "    <tr>\n",
       "      <th>229</th>\n",
       "      <td>1</td>\n",
       "      <td>2</td>\n",
       "      <td>2</td>\n",
       "      <td>55</td>\n",
       "      <td>2</td>\n",
       "      <td>0</td>\n",
       "      <td>2.236068</td>\n",
       "    </tr>\n",
       "    <tr>\n",
       "      <th>230</th>\n",
       "      <td>1</td>\n",
       "      <td>3</td>\n",
       "      <td>2</td>\n",
       "      <td>45</td>\n",
       "      <td>2</td>\n",
       "      <td>0</td>\n",
       "      <td>2.236068</td>\n",
       "    </tr>\n",
       "    <tr>\n",
       "      <th>231</th>\n",
       "      <td>1</td>\n",
       "      <td>3</td>\n",
       "      <td>2</td>\n",
       "      <td>37</td>\n",
       "      <td>3</td>\n",
       "      <td>0</td>\n",
       "      <td>2.236068</td>\n",
       "    </tr>\n",
       "    <tr>\n",
       "      <th>232</th>\n",
       "      <td>1</td>\n",
       "      <td>3</td>\n",
       "      <td>2</td>\n",
       "      <td>58</td>\n",
       "      <td>2</td>\n",
       "      <td>0</td>\n",
       "      <td>2.449490</td>\n",
       "    </tr>\n",
       "    <tr>\n",
       "      <th>233</th>\n",
       "      <td>1</td>\n",
       "      <td>1</td>\n",
       "      <td>1</td>\n",
       "      <td>52</td>\n",
       "      <td>2</td>\n",
       "      <td>0</td>\n",
       "      <td>2.236068</td>\n",
       "    </tr>\n",
       "  </tbody>\n",
       "</table>\n",
       "<p>234 rows × 7 columns</p>\n",
       "</div>"
      ],
      "text/plain": [
       "     target  tumor size  node status of the tumor  Age of the patient  \\\n",
       "0         0           2                         1                  60   \n",
       "1         0           1                         1                  55   \n",
       "2         0           1                         1                  33   \n",
       "3         0           1                         1                  67   \n",
       "4         0           1                         1                  47   \n",
       "..      ...         ...                       ...                 ...   \n",
       "229       1           2                         2                  55   \n",
       "230       1           3                         2                  45   \n",
       "231       1           3                         2                  37   \n",
       "232       1           3                         2                  58   \n",
       "233       1           1                         1                  52   \n",
       "\n",
       "     tumor grade  Label     Score  \n",
       "0              3      0  1.414214  \n",
       "1              2      0  2.000000  \n",
       "2              3      0  2.449490  \n",
       "3              2      0  2.236068  \n",
       "4              2      0  1.732051  \n",
       "..           ...    ...       ...  \n",
       "229            2      0  2.236068  \n",
       "230            2      0  2.236068  \n",
       "231            3      0  2.236068  \n",
       "232            2      0  2.449490  \n",
       "233            2      0  2.236068  \n",
       "\n",
       "[234 rows x 7 columns]"
      ]
     },
     "execution_count": 6,
     "metadata": {},
     "output_type": "execute_result"
    }
   ],
   "source": [
    "knn_df = assign_model(knn)\n",
    "knn_df"
   ]
  },
  {
   "cell_type": "code",
   "execution_count": 7,
   "metadata": {},
   "outputs": [
    {
     "data": {
      "text/html": [
       "        <script type=\"text/javascript\">\n",
       "        window.PlotlyConfig = {MathJaxConfig: 'local'};\n",
       "        if (window.MathJax) {MathJax.Hub.Config({SVG: {font: \"STIX-Web\"}});}\n",
       "        if (typeof require !== 'undefined') {\n",
       "        require.undef(\"plotly\");\n",
       "        requirejs.config({\n",
       "            paths: {\n",
       "                'plotly': ['https://cdn.plot.ly/plotly-latest.min']\n",
       "            }\n",
       "        });\n",
       "        require(['plotly'], function(Plotly) {\n",
       "            window._Plotly = Plotly;\n",
       "        });\n",
       "        }\n",
       "        </script>\n",
       "        "
      ]
     },
     "metadata": {},
     "output_type": "display_data"
    },
    {
     "data": {
      "application/vnd.plotly.v1+json": {
       "config": {
        "plotlyServerURL": "https://plot.ly"
       },
       "data": [
        {
         "customdata": [
          [
           0
          ],
          [
           0
          ],
          [
           0
          ],
          [
           0
          ],
          [
           0
          ],
          [
           0
          ],
          [
           0
          ],
          [
           0
          ],
          [
           0
          ],
          [
           0
          ],
          [
           0
          ],
          [
           0
          ],
          [
           0
          ],
          [
           0
          ],
          [
           0
          ],
          [
           0
          ],
          [
           0
          ],
          [
           0
          ],
          [
           0
          ],
          [
           0
          ],
          [
           0
          ],
          [
           0
          ],
          [
           0
          ],
          [
           0
          ],
          [
           0
          ],
          [
           0
          ],
          [
           0
          ],
          [
           0
          ],
          [
           0
          ],
          [
           0
          ],
          [
           0
          ],
          [
           0
          ],
          [
           0
          ],
          [
           0
          ],
          [
           0
          ],
          [
           0
          ],
          [
           0
          ],
          [
           0
          ],
          [
           0
          ],
          [
           0
          ],
          [
           0
          ],
          [
           0
          ],
          [
           0
          ],
          [
           0
          ],
          [
           0
          ],
          [
           0
          ],
          [
           0
          ],
          [
           0
          ],
          [
           0
          ],
          [
           0
          ],
          [
           0
          ],
          [
           0
          ],
          [
           0
          ],
          [
           0
          ],
          [
           0
          ],
          [
           0
          ],
          [
           0
          ],
          [
           0
          ],
          [
           0
          ],
          [
           0
          ],
          [
           0
          ],
          [
           0
          ],
          [
           0
          ],
          [
           0
          ],
          [
           0
          ],
          [
           0
          ],
          [
           0
          ],
          [
           0
          ],
          [
           0
          ],
          [
           0
          ],
          [
           0
          ],
          [
           0
          ],
          [
           0
          ],
          [
           0
          ],
          [
           0
          ],
          [
           0
          ],
          [
           0
          ],
          [
           0
          ],
          [
           0
          ],
          [
           0
          ],
          [
           0
          ],
          [
           0
          ],
          [
           0
          ],
          [
           0
          ],
          [
           0
          ],
          [
           0
          ],
          [
           0
          ],
          [
           0
          ],
          [
           0
          ],
          [
           0
          ],
          [
           0
          ],
          [
           0
          ],
          [
           0
          ],
          [
           0
          ],
          [
           0
          ],
          [
           0
          ],
          [
           0
          ],
          [
           0
          ],
          [
           0
          ],
          [
           0
          ],
          [
           0
          ],
          [
           0
          ],
          [
           0
          ],
          [
           0
          ],
          [
           0
          ],
          [
           0
          ],
          [
           0
          ],
          [
           0
          ],
          [
           0
          ],
          [
           0
          ],
          [
           0
          ],
          [
           0
          ],
          [
           0
          ],
          [
           0
          ],
          [
           0
          ],
          [
           0
          ],
          [
           0
          ],
          [
           0
          ],
          [
           0
          ],
          [
           0
          ],
          [
           0
          ],
          [
           0
          ],
          [
           0
          ],
          [
           0
          ],
          [
           0
          ],
          [
           0
          ],
          [
           0
          ],
          [
           0
          ],
          [
           0
          ],
          [
           0
          ],
          [
           0
          ],
          [
           0
          ],
          [
           0
          ],
          [
           0
          ],
          [
           0
          ],
          [
           0
          ],
          [
           0
          ],
          [
           0
          ],
          [
           0
          ],
          [
           0
          ],
          [
           0
          ],
          [
           0
          ],
          [
           0
          ],
          [
           0
          ],
          [
           0
          ],
          [
           0
          ],
          [
           0
          ],
          [
           0
          ],
          [
           0
          ],
          [
           0
          ],
          [
           0
          ],
          [
           0
          ],
          [
           0
          ],
          [
           0
          ],
          [
           0
          ],
          [
           0
          ],
          [
           0
          ],
          [
           0
          ],
          [
           0
          ],
          [
           0
          ],
          [
           0
          ],
          [
           0
          ],
          [
           0
          ],
          [
           0
          ],
          [
           0
          ],
          [
           0
          ],
          [
           0
          ],
          [
           0
          ],
          [
           0
          ],
          [
           0
          ],
          [
           0
          ],
          [
           0
          ],
          [
           0
          ],
          [
           0
          ],
          [
           0
          ],
          [
           0
          ],
          [
           0
          ],
          [
           0
          ],
          [
           0
          ],
          [
           0
          ],
          [
           0
          ],
          [
           0
          ],
          [
           0
          ],
          [
           0
          ],
          [
           0
          ],
          [
           0
          ],
          [
           0
          ],
          [
           0
          ],
          [
           0
          ],
          [
           0
          ],
          [
           0
          ],
          [
           1
          ],
          [
           1
          ],
          [
           1
          ],
          [
           1
          ],
          [
           1
          ],
          [
           1
          ],
          [
           1
          ],
          [
           1
          ],
          [
           1
          ],
          [
           1
          ],
          [
           1
          ],
          [
           1
          ],
          [
           1
          ],
          [
           1
          ],
          [
           1
          ],
          [
           1
          ],
          [
           1
          ],
          [
           1
          ],
          [
           1
          ],
          [
           1
          ],
          [
           1
          ],
          [
           1
          ],
          [
           1
          ],
          [
           1
          ],
          [
           1
          ],
          [
           1
          ],
          [
           1
          ],
          [
           1
          ],
          [
           1
          ],
          [
           1
          ],
          [
           1
          ],
          [
           1
          ],
          [
           1
          ],
          [
           1
          ],
          [
           1
          ],
          [
           1
          ],
          [
           1
          ],
          [
           1
          ],
          [
           1
          ],
          [
           1
          ],
          [
           1
          ],
          [
           1
          ],
          [
           1
          ]
         ],
         "hoverlabel": {
          "namelength": 0
         },
         "hovertemplate": "0=%{x}<br>1=%{y}<br>2=%{z}<br>Feature=%{customdata[0]}<br>Label=%{marker.color}",
         "legendgroup": "",
         "marker": {
          "color": [
           0,
           0,
           0,
           0,
           0,
           0,
           0,
           1,
           0,
           0,
           0,
           0,
           0,
           0,
           0,
           0,
           0,
           0,
           0,
           0,
           0,
           0,
           0,
           0,
           0,
           1,
           0,
           0,
           0,
           0,
           0,
           0,
           0,
           0,
           0,
           0,
           0,
           0,
           0,
           0,
           0,
           0,
           0,
           0,
           0,
           0,
           0,
           0,
           0,
           0,
           0,
           0,
           0,
           0,
           0,
           0,
           0,
           0,
           0,
           0,
           0,
           0,
           0,
           0,
           0,
           0,
           0,
           0,
           0,
           0,
           0,
           1,
           0,
           0,
           0,
           0,
           1,
           0,
           0,
           0,
           0,
           0,
           0,
           0,
           0,
           0,
           0,
           0,
           0,
           0,
           0,
           0,
           0,
           0,
           0,
           0,
           0,
           0,
           0,
           0,
           0,
           0,
           0,
           0,
           0,
           0,
           0,
           0,
           0,
           0,
           0,
           0,
           0,
           0,
           0,
           0,
           0,
           1,
           0,
           0,
           0,
           0,
           0,
           0,
           0,
           0,
           0,
           0,
           0,
           0,
           0,
           0,
           0,
           0,
           0,
           0,
           0,
           0,
           0,
           0,
           0,
           0,
           0,
           0,
           0,
           0,
           0,
           1,
           0,
           1,
           0,
           0,
           0,
           0,
           0,
           0,
           0,
           0,
           0,
           0,
           0,
           0,
           0,
           0,
           0,
           0,
           0,
           0,
           0,
           0,
           0,
           1,
           0,
           0,
           1,
           0,
           0,
           0,
           0,
           0,
           0,
           0,
           0,
           0,
           0,
           0,
           0,
           0,
           0,
           0,
           1,
           0,
           0,
           0,
           0,
           0,
           0,
           0,
           0,
           0,
           0,
           0,
           0,
           0,
           0,
           0,
           0,
           0,
           0,
           0,
           0,
           0,
           0,
           0,
           0,
           0,
           0,
           0,
           0,
           0,
           0,
           0,
           0,
           0,
           0,
           0,
           0,
           0,
           1,
           0,
           0,
           0,
           0,
           0
          ],
          "coloraxis": "coloraxis",
          "opacity": 0.7,
          "symbol": "circle"
         },
         "mode": "markers",
         "name": "",
         "scene": "scene",
         "showlegend": false,
         "type": "scatter3d",
         "x": [
          -47.88222122192383,
          46.67827606201172,
          11.17581844329834,
          -0.1245642900466919,
          101.02783966064453,
          63.894935607910156,
          -124.2467269897461,
          82.3759765625,
          -5.2786173820495605,
          -41.50682067871094,
          -15.126031875610352,
          -40.05217361450195,
          13.397723197937012,
          -24.836265563964844,
          110.9562759399414,
          30.042768478393555,
          33.522953033447266,
          80.93079376220703,
          -15.47925853729248,
          51.122406005859375,
          -73.99261474609375,
          -24.059188842773438,
          -20.823593139648438,
          -17.57501220703125,
          4.326773643493652,
          60.60846710205078,
          83.14250946044922,
          25.69801902770996,
          49.2232551574707,
          121.55773162841797,
          -56.42515563964844,
          -60.826072692871094,
          119.22101593017578,
          33.88113784790039,
          73.49626922607422,
          -21.554832458496094,
          -94.62931823730469,
          -79.7998275756836,
          20.46790885925293,
          -100.54135131835938,
          -90.8577651977539,
          -149.33203125,
          -78.91975402832031,
          -2.962489366531372,
          -78.34309387207031,
          -61.27734375,
          70.35804748535156,
          -58.971214294433594,
          37.156837463378906,
          11.15112590789795,
          118.724609375,
          76.51580047607422,
          -77.4920425415039,
          29.772485733032227,
          41.25010299682617,
          4.484633445739746,
          47.63069152832031,
          99.27507781982422,
          63.690895080566406,
          -50.645694732666016,
          17.520252227783203,
          94.2584457397461,
          -41.6180419921875,
          -52.678077697753906,
          -91.16262817382812,
          122.16173553466797,
          -96.20492553710938,
          -106.23250579833984,
          54.16469192504883,
          -83.58840942382812,
          -64.41864013671875,
          62.88506317138672,
          -83.81619262695312,
          13.483226776123047,
          -76.39144134521484,
          -1.3303232192993164,
          -20.69258689880371,
          38.89805221557617,
          -30.249065399169922,
          62.153709411621094,
          -39.96511459350586,
          -78.40782928466797,
          -15.605722427368164,
          -17.768518447875977,
          -6.039424896240234,
          0.1418571174144745,
          4.195420265197754,
          -102.03353118896484,
          24.25447654724121,
          -70.0283203125,
          107.70440673828125,
          -45.846527099609375,
          21.722496032714844,
          27.66544532775879,
          7.996979236602783,
          59.773582458496094,
          -76.68185424804688,
          -20.020933151245117,
          -41.696510314941406,
          -63.0931510925293,
          19.057069778442383,
          98.64860534667969,
          -13.1838960647583,
          -69.20777893066406,
          -41.02207565307617,
          -54.1579475402832,
          -3.9853484630584717,
          41.68942642211914,
          12.222399711608887,
          -50.02313995361328,
          39.86261749267578,
          88.87223815917969,
          67.68619537353516,
          -7.6392436027526855,
          -1.5817897319793701,
          -9.12063217163086,
          -42.97331619262695,
          30.71710968017578,
          13.552963256835938,
          17.539875030517578,
          62.078975677490234,
          27.286197662353516,
          -15.076955795288086,
          90.57172393798828,
          92.17689514160156,
          102.44539642333984,
          114.65060424804688,
          30.48726463317871,
          45.39082717895508,
          -124.28965759277344,
          56.82937240600586,
          -135.3036651611328,
          31.735342025756836,
          4.843418598175049,
          114.93914794921875,
          49.118377685546875,
          -78.72618865966797,
          -84.04307556152344,
          -50.1211051940918,
          -26.114046096801758,
          65.65950775146484,
          -6.374794960021973,
          -70.56450653076172,
          -25.77499008178711,
          24.26795196533203,
          -65.82688903808594,
          76.2938232421875,
          48.073768615722656,
          -47.537506103515625,
          -87.79632568359375,
          -38.3982048034668,
          -61.247257232666016,
          -25.45421028137207,
          -46.914249420166016,
          0.27712708711624146,
          95.57347869873047,
          50.62101745605469,
          22.631868362426758,
          77.65511322021484,
          19.69799041748047,
          -21.46726417541504,
          -19.03118133544922,
          26.458757400512695,
          82.23627471923828,
          145.3737030029297,
          3.1469151973724365,
          42.11317443847656,
          6.58851957321167,
          -41.89227294921875,
          -31.882095336914062,
          -15.361811637878418,
          48.28730773925781,
          -1.9134166240692139,
          -35.57969665527344,
          -43.055023193359375,
          154.48117065429688,
          11.440345764160156,
          -62.62255096435547,
          55.1676025390625,
          -102.81175994873047,
          -10.075225830078125,
          -124.89400482177734,
          -120.08941650390625,
          87.99626922607422,
          -84.65303039550781,
          64.56246948242188,
          -14.513160705566406,
          26.20106315612793,
          -44.8560905456543,
          -17.66077423095703,
          -6.464395523071289,
          -3.3244376182556152,
          -31.384090423583984,
          -58.22752380371094,
          -124.1694107055664,
          -11.98864459991455,
          -33.08924102783203,
          87.87020874023438,
          -87.90444946289062,
          92.60420989990234,
          -0.7423359751701355,
          38.43770980834961,
          -37.92808532714844,
          -26.911331176757812,
          -7.346685409545898,
          -36.27145004272461,
          48.26420974731445,
          5.432186603546143,
          -33.93450927734375,
          35.15312194824219,
          -37.18193817138672,
          -15.23948860168457,
          114.30448150634766,
          35.24243927001953,
          5.31298828125,
          -23.503475189208984,
          43.07990646362305,
          18.43319320678711,
          59.73777389526367,
          -68.37789916992188,
          66.98603820800781,
          -55.2933349609375,
          7.315113067626953,
          -48.34431457519531,
          -40.335609436035156,
          16.87844467163086,
          -20.41762351989746,
          -14.305973052978516,
          -31.432435989379883,
          -17.763093948364258,
          75.21208953857422,
          -27.58502769470215,
          -15.231852531433105,
          -18.53485870361328
         ],
         "y": [
          -109.53511810302734,
          -0.24212676286697388,
          169.6720428466797,
          -35.55078125,
          1.0644283294677734,
          -44.61111068725586,
          -1.6176834106445312,
          100.4205322265625,
          -57.46438980102539,
          -72.42272186279297,
          -128.776611328125,
          112.97579956054688,
          -62.07768249511719,
          -100.43094635009766,
          31.196582794189453,
          -26.473552703857422,
          26.64714813232422,
          43.30953598022461,
          155.4657745361328,
          58.07091522216797,
          -42.90721130371094,
          -5.308468818664551,
          21.018049240112305,
          7.933272838592529,
          51.57566833496094,
          129.67515563964844,
          -78.7084732055664,
          44.779998779296875,
          37.71453857421875,
          -22.178632736206055,
          23.296167373657227,
          31.6278018951416,
          4.581798553466797,
          65.69170379638672,
          -98.05677032470703,
          10.866010665893555,
          -72.17403411865234,
          -99.31706237792969,
          149.66122436523438,
          -108.83931732177734,
          17.315574645996094,
          -22.765825271606445,
          -17.454683303833008,
          16.92900276184082,
          -91.3857650756836,
          33.11849594116211,
          -23.760948181152344,
          -26.928760528564453,
          -18.295974731445312,
          134.89183044433594,
          6.316617012023926,
          -17.692089080810547,
          -46.24784851074219,
          -30.264080047607422,
          153.08840942382812,
          12.468534469604492,
          54.714900970458984,
          78.55487823486328,
          -12.931904792785645,
          -25.582378387451172,
          91.51154327392578,
          -33.82530212402344,
          -70.68721771240234,
          55.707252502441406,
          25.123144149780273,
          33.35069274902344,
          -41.09230422973633,
          -69.7070541381836,
          5.1400346755981445,
          -9.3820219039917,
          -8.099080085754395,
          102.97026062011719,
          -60.138145446777344,
          -108.15621948242188,
          -38.324562072753906,
          -83.18196868896484,
          -34.2562370300293,
          -27.083377838134766,
          76.24918365478516,
          -29.19791603088379,
          -111.29564666748047,
          -7.127429962158203,
          67.70670318603516,
          -29.17560386657715,
          -27.33774757385254,
          60.290443420410156,
          77.813720703125,
          58.25872039794922,
          -120.30583953857422,
          -117.33464813232422,
          -40.1447639465332,
          84.2470474243164,
          113.67607879638672,
          65.79472351074219,
          14.796964645385742,
          30.8422908782959,
          17.72490692138672,
          -87.03141021728516,
          -98.29505920410156,
          -42.56310272216797,
          -8.619468688964844,
          12.732782363891602,
          -70.90101623535156,
          67.005126953125,
          -9.371273040771484,
          -32.293582916259766,
          -123.6584701538086,
          -56.24260711669922,
          2.176302909851074,
          -151.1320343017578,
          -144.41307067871094,
          -56.52012252807617,
          130.66734313964844,
          111.50794219970703,
          -35.8126220703125,
          74.12865447998047,
          -76.81233215332031,
          134.79185485839844,
          52.42097091674805,
          52.91305923461914,
          2.731186866760254,
          28.271846771240234,
          47.965789794921875,
          0.36755332350730896,
          -11.829607963562012,
          -40.332157135009766,
          10.367082595825195,
          6.2029852867126465,
          17.533512115478516,
          -24.591690063476562,
          -94.35356903076172,
          4.807073593139648,
          -57.969215393066406,
          -8.593323707580566,
          61.319976806640625,
          76.9176254272461,
          -120.85600280761719,
          -15.910475730895996,
          -87.62106323242188,
          30.02390480041504,
          -51.93878936767578,
          133.19338989257812,
          64.19493103027344,
          110.23445892333984,
          13.692953109741211,
          -60.88488006591797,
          -11.866191864013672,
          104.21277618408203,
          -35.57536315917969,
          101.76615905761719,
          60.53854751586914,
          -65.7701644897461,
          97.9612045288086,
          -34.198368072509766,
          97.09782409667969,
          -97.45204162597656,
          29.281047821044922,
          51.521297454833984,
          51.31189727783203,
          20.904247283935547,
          -97.15680694580078,
          -52.9875373840332,
          130.30564880371094,
          30.616044998168945,
          29.592483520507812,
          75.40216064453125,
          -73.01856231689453,
          -93.7012710571289,
          -38.7881965637207,
          -1.1592304706573486,
          -11.274599075317383,
          155.39892578125,
          45.538753509521484,
          93.1807861328125,
          6.801188945770264,
          8.579346656799316,
          22.0162410736084,
          -92.53837585449219,
          -38.46672439575195,
          -23.66759490966797,
          -84.63587951660156,
          39.821136474609375,
          48.307621002197266,
          16.684118270874023,
          68.88410186767578,
          43.668243408203125,
          42.05889892578125,
          54.70415496826172,
          130.17547607421875,
          120.15773010253906,
          -3.8030879497528076,
          148.651123046875,
          -17.232187271118164,
          8.482820510864258,
          -67.36174774169922,
          -117.44454956054688,
          41.45527267456055,
          16.85643768310547,
          29.097145080566406,
          -17.673423767089844,
          -140.78933715820312,
          105.40731811523438,
          -52.65971755981445,
          -118.5038070678711,
          27.51645278930664,
          -139.27117919921875,
          -2.1305785179138184,
          -56.318538665771484,
          -66.51812744140625,
          91.25006103515625,
          -136.47943115234375,
          -40.55266189575195,
          -24.68782615661621,
          -87.27117919921875,
          94.14458465576172,
          -21.622215270996094,
          -75.60975646972656,
          -22.621952056884766,
          -4.518242359161377,
          -7.169704914093018,
          18.779735565185547,
          -90.9142074584961,
          -34.61565017700195,
          46.655914306640625,
          -60.308109283447266,
          -81.46259307861328,
          -2.7014358043670654,
          -51.936981201171875,
          -5.178404808044434,
          22.39532470703125,
          68.91724395751953,
          64.50206756591797,
          -63.74541091918945,
          -38.07377243041992
         ],
         "z": [
          -53.05509948730469,
          -89.7378921508789,
          54.28018569946289,
          -143.59327697753906,
          -8.436930656433105,
          91.18824768066406,
          -65.479248046875,
          111.86124420166016,
          -116.05616760253906,
          -12.173968315124512,
          -9.969200134277344,
          86.75955200195312,
          69.61102294921875,
          -35.43693923950195,
          -16.42310905456543,
          -102.45418548583984,
          -106.51774597167969,
          -40.54336166381836,
          38.088706970214844,
          82.80198669433594,
          -137.83474731445312,
          77.2865219116211,
          -33.25864028930664,
          153.652099609375,
          -64.7462387084961,
          59.73836898803711,
          46.1573600769043,
          120.3222427368164,
          23.997194290161133,
          69.15105438232422,
          -109.23723602294922,
          7.860946178436279,
          89.10163879394531,
          -67.75265502929688,
          -38.76564407348633,
          47.44762420654297,
          -32.02995300292969,
          -63.00944137573242,
          16.7280216217041,
          34.47214889526367,
          12.245701789855957,
          -4.373942852020264,
          -44.14543151855469,
          19.292810440063477,
          24.448972702026367,
          42.32115173339844,
          -37.6399040222168,
          22.185773849487305,
          85.60770416259766,
          45.71643829345703,
          50.62974548339844,
          -72.12138366699219,
          -21.950782775878906,
          33.29489517211914,
          48.462501525878906,
          -132.87335205078125,
          -24.610029220581055,
          -49.69992446899414,
          108.43710327148438,
          -116.23123168945312,
          78.82937622070312,
          75.15428924560547,
          32.51694869995117,
          -120.00025939941406,
          46.172462463378906,
          69.18435668945312,
          -52.311187744140625,
          51.58709716796875,
          -48.221439361572266,
          36.57314682006836,
          -5.5670485496521,
          84.83897399902344,
          6.210832118988037,
          -99.18222045898438,
          50.40376663208008,
          50.76929473876953,
          -177.69607543945312,
          -74.03974151611328,
          103.8997573852539,
          63.094486236572266,
          -9.299843788146973,
          72.07605743408203,
          -24.22052001953125,
          -112.18415832519531,
          129.50518798828125,
          -99.39707946777344,
          113.31928253173828,
          35.533531188964844,
          49.80716323852539,
          -97.19829559326172,
          -56.952945709228516,
          -42.07375717163086,
          18.973447799682617,
          -114.92578887939453,
          -45.809349060058594,
          -82.96253204345703,
          98.68412017822266,
          -122.51359558105469,
          -87.67398071289062,
          -68.91740417480469,
          -59.80071258544922,
          -96.88671875,
          -151.10250854492188,
          -78.52517700195312,
          116.2510986328125,
          -163.41151428222656,
          -43.63039016723633,
          -14.669776916503906,
          -85.1591796875,
          14.808823585510254,
          4.414007663726807,
          -1.9081130027770996,
          103.9878158569336,
          84.91488647460938,
          92.5091552734375,
          75.21794128417969,
          101.5934829711914,
          105.97318267822266,
          -20.12970542907715,
          89.460693359375,
          75.96035766601562,
          -66.84400177001953,
          89.03128051757812,
          69.269287109375,
          98.64605712890625,
          107.69505310058594,
          -53.93511962890625,
          144.0352020263672,
          100.71697998046875,
          37.220279693603516,
          13.691316604614258,
          -15.37014389038086,
          22.484811782836914,
          48.693138122558594,
          35.2130126953125,
          -1.6403189897537231,
          -35.342166900634766,
          -99.68303680419922,
          63.00835418701172,
          -126.71643829345703,
          -49.979061126708984,
          13.72347354888916,
          18.972570419311523,
          22.07904624938965,
          27.210948944091797,
          66.14860534667969,
          -122.28789520263672,
          117.0392837524414,
          -44.19015121459961,
          -25.328187942504883,
          74.47810363769531,
          -46.43873596191406,
          -87.08358001708984,
          92.56800079345703,
          47.589168548583984,
          9.50107192993164,
          68.98082733154297,
          10.361480712890625,
          -1.8079087734222412,
          -6.18459415435791,
          89.6803207397461,
          74.9604263305664,
          71.66671752929688,
          83.17405700683594,
          -42.8051872253418,
          6.304408550262451,
          -63.51142501831055,
          -21.521137237548828,
          49.70266342163086,
          -7.723257064819336,
          -32.73477554321289,
          82.32545471191406,
          56.17747497558594,
          56.82689666748047,
          -161.93045043945312,
          3.8104307651519775,
          81.22089385986328,
          -20.86817741394043,
          137.55226135253906,
          0.23419301211833954,
          -85.23725128173828,
          51.79224395751953,
          -11.871447563171387,
          118.09199523925781,
          79.90892791748047,
          116.36629486083984,
          4.613589286804199,
          57.40789794921875,
          46.00105285644531,
          56.307369232177734,
          -171.13229370117188,
          76.47871398925781,
          -141.66989135742188,
          -58.65665054321289,
          16.002399444580078,
          -77.4610366821289,
          -66.06556701660156,
          38.73823547363281,
          -92.28813934326172,
          39.246009826660156,
          -96.51634979248047,
          -33.24821853637695,
          -139.57626342773438,
          -115.52449798583984,
          112.15232849121094,
          -44.719783782958984,
          0.23508965969085693,
          -55.50510787963867,
          -59.28791427612305,
          45.99710464477539,
          -86.35774993896484,
          -65.00244903564453,
          2.648369312286377,
          88.48672485351562,
          -30.526073455810547,
          23.43057632446289,
          57.38148880004883,
          -24.944690704345703,
          40.290496826171875,
          -141.9927215576172,
          -10.037421226501465,
          -123.07980346679688,
          1.7339919805526733,
          140.18954467773438,
          -107.33888244628906,
          -128.76263427734375,
          -65.29804992675781,
          35.70475387573242,
          -192.76473999023438,
          -84.29998779296875,
          34.44245910644531,
          39.051734924316406,
          -30.997943878173828,
          -3.7941107749938965
         ]
        }
       ],
       "layout": {
        "coloraxis": {
         "colorbar": {
          "title": {
           "text": "Label"
          }
         },
         "colorscale": [
          [
           0,
           "#0d0887"
          ],
          [
           0.1111111111111111,
           "#46039f"
          ],
          [
           0.2222222222222222,
           "#7201a8"
          ],
          [
           0.3333333333333333,
           "#9c179e"
          ],
          [
           0.4444444444444444,
           "#bd3786"
          ],
          [
           0.5555555555555556,
           "#d8576b"
          ],
          [
           0.6666666666666666,
           "#ed7953"
          ],
          [
           0.7777777777777778,
           "#fb9f3a"
          ],
          [
           0.8888888888888888,
           "#fdca26"
          ],
          [
           1,
           "#f0f921"
          ]
         ]
        },
        "height": 800,
        "legend": {
         "tracegroupgap": 0
        },
        "scene": {
         "domain": {
          "x": [
           0,
           1
          ],
          "y": [
           0,
           1
          ]
         },
         "xaxis": {
          "title": {
           "text": "0"
          }
         },
         "yaxis": {
          "title": {
           "text": "1"
          }
         },
         "zaxis": {
          "title": {
           "text": "2"
          }
         }
        },
        "template": {
         "data": {
          "bar": [
           {
            "error_x": {
             "color": "#2a3f5f"
            },
            "error_y": {
             "color": "#2a3f5f"
            },
            "marker": {
             "line": {
              "color": "#E5ECF6",
              "width": 0.5
             }
            },
            "type": "bar"
           }
          ],
          "barpolar": [
           {
            "marker": {
             "line": {
              "color": "#E5ECF6",
              "width": 0.5
             }
            },
            "type": "barpolar"
           }
          ],
          "carpet": [
           {
            "aaxis": {
             "endlinecolor": "#2a3f5f",
             "gridcolor": "white",
             "linecolor": "white",
             "minorgridcolor": "white",
             "startlinecolor": "#2a3f5f"
            },
            "baxis": {
             "endlinecolor": "#2a3f5f",
             "gridcolor": "white",
             "linecolor": "white",
             "minorgridcolor": "white",
             "startlinecolor": "#2a3f5f"
            },
            "type": "carpet"
           }
          ],
          "choropleth": [
           {
            "colorbar": {
             "outlinewidth": 0,
             "ticks": ""
            },
            "type": "choropleth"
           }
          ],
          "contour": [
           {
            "colorbar": {
             "outlinewidth": 0,
             "ticks": ""
            },
            "colorscale": [
             [
              0,
              "#0d0887"
             ],
             [
              0.1111111111111111,
              "#46039f"
             ],
             [
              0.2222222222222222,
              "#7201a8"
             ],
             [
              0.3333333333333333,
              "#9c179e"
             ],
             [
              0.4444444444444444,
              "#bd3786"
             ],
             [
              0.5555555555555556,
              "#d8576b"
             ],
             [
              0.6666666666666666,
              "#ed7953"
             ],
             [
              0.7777777777777778,
              "#fb9f3a"
             ],
             [
              0.8888888888888888,
              "#fdca26"
             ],
             [
              1,
              "#f0f921"
             ]
            ],
            "type": "contour"
           }
          ],
          "contourcarpet": [
           {
            "colorbar": {
             "outlinewidth": 0,
             "ticks": ""
            },
            "type": "contourcarpet"
           }
          ],
          "heatmap": [
           {
            "colorbar": {
             "outlinewidth": 0,
             "ticks": ""
            },
            "colorscale": [
             [
              0,
              "#0d0887"
             ],
             [
              0.1111111111111111,
              "#46039f"
             ],
             [
              0.2222222222222222,
              "#7201a8"
             ],
             [
              0.3333333333333333,
              "#9c179e"
             ],
             [
              0.4444444444444444,
              "#bd3786"
             ],
             [
              0.5555555555555556,
              "#d8576b"
             ],
             [
              0.6666666666666666,
              "#ed7953"
             ],
             [
              0.7777777777777778,
              "#fb9f3a"
             ],
             [
              0.8888888888888888,
              "#fdca26"
             ],
             [
              1,
              "#f0f921"
             ]
            ],
            "type": "heatmap"
           }
          ],
          "heatmapgl": [
           {
            "colorbar": {
             "outlinewidth": 0,
             "ticks": ""
            },
            "colorscale": [
             [
              0,
              "#0d0887"
             ],
             [
              0.1111111111111111,
              "#46039f"
             ],
             [
              0.2222222222222222,
              "#7201a8"
             ],
             [
              0.3333333333333333,
              "#9c179e"
             ],
             [
              0.4444444444444444,
              "#bd3786"
             ],
             [
              0.5555555555555556,
              "#d8576b"
             ],
             [
              0.6666666666666666,
              "#ed7953"
             ],
             [
              0.7777777777777778,
              "#fb9f3a"
             ],
             [
              0.8888888888888888,
              "#fdca26"
             ],
             [
              1,
              "#f0f921"
             ]
            ],
            "type": "heatmapgl"
           }
          ],
          "histogram": [
           {
            "marker": {
             "colorbar": {
              "outlinewidth": 0,
              "ticks": ""
             }
            },
            "type": "histogram"
           }
          ],
          "histogram2d": [
           {
            "colorbar": {
             "outlinewidth": 0,
             "ticks": ""
            },
            "colorscale": [
             [
              0,
              "#0d0887"
             ],
             [
              0.1111111111111111,
              "#46039f"
             ],
             [
              0.2222222222222222,
              "#7201a8"
             ],
             [
              0.3333333333333333,
              "#9c179e"
             ],
             [
              0.4444444444444444,
              "#bd3786"
             ],
             [
              0.5555555555555556,
              "#d8576b"
             ],
             [
              0.6666666666666666,
              "#ed7953"
             ],
             [
              0.7777777777777778,
              "#fb9f3a"
             ],
             [
              0.8888888888888888,
              "#fdca26"
             ],
             [
              1,
              "#f0f921"
             ]
            ],
            "type": "histogram2d"
           }
          ],
          "histogram2dcontour": [
           {
            "colorbar": {
             "outlinewidth": 0,
             "ticks": ""
            },
            "colorscale": [
             [
              0,
              "#0d0887"
             ],
             [
              0.1111111111111111,
              "#46039f"
             ],
             [
              0.2222222222222222,
              "#7201a8"
             ],
             [
              0.3333333333333333,
              "#9c179e"
             ],
             [
              0.4444444444444444,
              "#bd3786"
             ],
             [
              0.5555555555555556,
              "#d8576b"
             ],
             [
              0.6666666666666666,
              "#ed7953"
             ],
             [
              0.7777777777777778,
              "#fb9f3a"
             ],
             [
              0.8888888888888888,
              "#fdca26"
             ],
             [
              1,
              "#f0f921"
             ]
            ],
            "type": "histogram2dcontour"
           }
          ],
          "mesh3d": [
           {
            "colorbar": {
             "outlinewidth": 0,
             "ticks": ""
            },
            "type": "mesh3d"
           }
          ],
          "parcoords": [
           {
            "line": {
             "colorbar": {
              "outlinewidth": 0,
              "ticks": ""
             }
            },
            "type": "parcoords"
           }
          ],
          "pie": [
           {
            "automargin": true,
            "type": "pie"
           }
          ],
          "scatter": [
           {
            "marker": {
             "colorbar": {
              "outlinewidth": 0,
              "ticks": ""
             }
            },
            "type": "scatter"
           }
          ],
          "scatter3d": [
           {
            "line": {
             "colorbar": {
              "outlinewidth": 0,
              "ticks": ""
             }
            },
            "marker": {
             "colorbar": {
              "outlinewidth": 0,
              "ticks": ""
             }
            },
            "type": "scatter3d"
           }
          ],
          "scattercarpet": [
           {
            "marker": {
             "colorbar": {
              "outlinewidth": 0,
              "ticks": ""
             }
            },
            "type": "scattercarpet"
           }
          ],
          "scattergeo": [
           {
            "marker": {
             "colorbar": {
              "outlinewidth": 0,
              "ticks": ""
             }
            },
            "type": "scattergeo"
           }
          ],
          "scattergl": [
           {
            "marker": {
             "colorbar": {
              "outlinewidth": 0,
              "ticks": ""
             }
            },
            "type": "scattergl"
           }
          ],
          "scattermapbox": [
           {
            "marker": {
             "colorbar": {
              "outlinewidth": 0,
              "ticks": ""
             }
            },
            "type": "scattermapbox"
           }
          ],
          "scatterpolar": [
           {
            "marker": {
             "colorbar": {
              "outlinewidth": 0,
              "ticks": ""
             }
            },
            "type": "scatterpolar"
           }
          ],
          "scatterpolargl": [
           {
            "marker": {
             "colorbar": {
              "outlinewidth": 0,
              "ticks": ""
             }
            },
            "type": "scatterpolargl"
           }
          ],
          "scatterternary": [
           {
            "marker": {
             "colorbar": {
              "outlinewidth": 0,
              "ticks": ""
             }
            },
            "type": "scatterternary"
           }
          ],
          "surface": [
           {
            "colorbar": {
             "outlinewidth": 0,
             "ticks": ""
            },
            "colorscale": [
             [
              0,
              "#0d0887"
             ],
             [
              0.1111111111111111,
              "#46039f"
             ],
             [
              0.2222222222222222,
              "#7201a8"
             ],
             [
              0.3333333333333333,
              "#9c179e"
             ],
             [
              0.4444444444444444,
              "#bd3786"
             ],
             [
              0.5555555555555556,
              "#d8576b"
             ],
             [
              0.6666666666666666,
              "#ed7953"
             ],
             [
              0.7777777777777778,
              "#fb9f3a"
             ],
             [
              0.8888888888888888,
              "#fdca26"
             ],
             [
              1,
              "#f0f921"
             ]
            ],
            "type": "surface"
           }
          ],
          "table": [
           {
            "cells": {
             "fill": {
              "color": "#EBF0F8"
             },
             "line": {
              "color": "white"
             }
            },
            "header": {
             "fill": {
              "color": "#C8D4E3"
             },
             "line": {
              "color": "white"
             }
            },
            "type": "table"
           }
          ]
         },
         "layout": {
          "annotationdefaults": {
           "arrowcolor": "#2a3f5f",
           "arrowhead": 0,
           "arrowwidth": 1
          },
          "coloraxis": {
           "colorbar": {
            "outlinewidth": 0,
            "ticks": ""
           }
          },
          "colorscale": {
           "diverging": [
            [
             0,
             "#8e0152"
            ],
            [
             0.1,
             "#c51b7d"
            ],
            [
             0.2,
             "#de77ae"
            ],
            [
             0.3,
             "#f1b6da"
            ],
            [
             0.4,
             "#fde0ef"
            ],
            [
             0.5,
             "#f7f7f7"
            ],
            [
             0.6,
             "#e6f5d0"
            ],
            [
             0.7,
             "#b8e186"
            ],
            [
             0.8,
             "#7fbc41"
            ],
            [
             0.9,
             "#4d9221"
            ],
            [
             1,
             "#276419"
            ]
           ],
           "sequential": [
            [
             0,
             "#0d0887"
            ],
            [
             0.1111111111111111,
             "#46039f"
            ],
            [
             0.2222222222222222,
             "#7201a8"
            ],
            [
             0.3333333333333333,
             "#9c179e"
            ],
            [
             0.4444444444444444,
             "#bd3786"
            ],
            [
             0.5555555555555556,
             "#d8576b"
            ],
            [
             0.6666666666666666,
             "#ed7953"
            ],
            [
             0.7777777777777778,
             "#fb9f3a"
            ],
            [
             0.8888888888888888,
             "#fdca26"
            ],
            [
             1,
             "#f0f921"
            ]
           ],
           "sequentialminus": [
            [
             0,
             "#0d0887"
            ],
            [
             0.1111111111111111,
             "#46039f"
            ],
            [
             0.2222222222222222,
             "#7201a8"
            ],
            [
             0.3333333333333333,
             "#9c179e"
            ],
            [
             0.4444444444444444,
             "#bd3786"
            ],
            [
             0.5555555555555556,
             "#d8576b"
            ],
            [
             0.6666666666666666,
             "#ed7953"
            ],
            [
             0.7777777777777778,
             "#fb9f3a"
            ],
            [
             0.8888888888888888,
             "#fdca26"
            ],
            [
             1,
             "#f0f921"
            ]
           ]
          },
          "colorway": [
           "#636efa",
           "#EF553B",
           "#00cc96",
           "#ab63fa",
           "#FFA15A",
           "#19d3f3",
           "#FF6692",
           "#B6E880",
           "#FF97FF",
           "#FECB52"
          ],
          "font": {
           "color": "#2a3f5f"
          },
          "geo": {
           "bgcolor": "white",
           "lakecolor": "white",
           "landcolor": "#E5ECF6",
           "showlakes": true,
           "showland": true,
           "subunitcolor": "white"
          },
          "hoverlabel": {
           "align": "left"
          },
          "hovermode": "closest",
          "mapbox": {
           "style": "light"
          },
          "paper_bgcolor": "white",
          "plot_bgcolor": "#E5ECF6",
          "polar": {
           "angularaxis": {
            "gridcolor": "white",
            "linecolor": "white",
            "ticks": ""
           },
           "bgcolor": "#E5ECF6",
           "radialaxis": {
            "gridcolor": "white",
            "linecolor": "white",
            "ticks": ""
           }
          },
          "scene": {
           "xaxis": {
            "backgroundcolor": "#E5ECF6",
            "gridcolor": "white",
            "gridwidth": 2,
            "linecolor": "white",
            "showbackground": true,
            "ticks": "",
            "zerolinecolor": "white"
           },
           "yaxis": {
            "backgroundcolor": "#E5ECF6",
            "gridcolor": "white",
            "gridwidth": 2,
            "linecolor": "white",
            "showbackground": true,
            "ticks": "",
            "zerolinecolor": "white"
           },
           "zaxis": {
            "backgroundcolor": "#E5ECF6",
            "gridcolor": "white",
            "gridwidth": 2,
            "linecolor": "white",
            "showbackground": true,
            "ticks": "",
            "zerolinecolor": "white"
           }
          },
          "shapedefaults": {
           "line": {
            "color": "#2a3f5f"
           }
          },
          "ternary": {
           "aaxis": {
            "gridcolor": "white",
            "linecolor": "white",
            "ticks": ""
           },
           "baxis": {
            "gridcolor": "white",
            "linecolor": "white",
            "ticks": ""
           },
           "bgcolor": "#E5ECF6",
           "caxis": {
            "gridcolor": "white",
            "linecolor": "white",
            "ticks": ""
           }
          },
          "title": {
           "x": 0.05
          },
          "xaxis": {
           "automargin": true,
           "gridcolor": "white",
           "linecolor": "white",
           "ticks": "",
           "title": {
            "standoff": 15
           },
           "zerolinecolor": "white",
           "zerolinewidth": 2
          },
          "yaxis": {
           "automargin": true,
           "gridcolor": "white",
           "linecolor": "white",
           "ticks": "",
           "title": {
            "standoff": 15
           },
           "zerolinecolor": "white",
           "zerolinewidth": 2
          }
         }
        },
        "title": {
         "text": "3d TSNE Plot for Outliers"
        },
        "width": 900
       }
      },
      "text/html": [
       "<div>\n",
       "        \n",
       "        \n",
       "            <div id=\"c976ffff-ba1b-4b6b-b67a-b87b578e5898\" class=\"plotly-graph-div\" style=\"height:800px; width:900px;\"></div>\n",
       "            <script type=\"text/javascript\">\n",
       "                require([\"plotly\"], function(Plotly) {\n",
       "                    window.PLOTLYENV=window.PLOTLYENV || {};\n",
       "                    \n",
       "                if (document.getElementById(\"c976ffff-ba1b-4b6b-b67a-b87b578e5898\")) {\n",
       "                    Plotly.newPlot(\n",
       "                        'c976ffff-ba1b-4b6b-b67a-b87b578e5898',\n",
       "                        [{\"customdata\": [[0], [0], [0], [0], [0], [0], [0], [0], [0], [0], [0], [0], [0], [0], [0], [0], [0], [0], [0], [0], [0], [0], [0], [0], [0], [0], [0], [0], [0], [0], [0], [0], [0], [0], [0], [0], [0], [0], [0], [0], [0], [0], [0], [0], [0], [0], [0], [0], [0], [0], [0], [0], [0], [0], [0], [0], [0], [0], [0], [0], [0], [0], [0], [0], [0], [0], [0], [0], [0], [0], [0], [0], [0], [0], [0], [0], [0], [0], [0], [0], [0], [0], [0], [0], [0], [0], [0], [0], [0], [0], [0], [0], [0], [0], [0], [0], [0], [0], [0], [0], [0], [0], [0], [0], [0], [0], [0], [0], [0], [0], [0], [0], [0], [0], [0], [0], [0], [0], [0], [0], [0], [0], [0], [0], [0], [0], [0], [0], [0], [0], [0], [0], [0], [0], [0], [0], [0], [0], [0], [0], [0], [0], [0], [0], [0], [0], [0], [0], [0], [0], [0], [0], [0], [0], [0], [0], [0], [0], [0], [0], [0], [0], [0], [0], [0], [0], [0], [0], [0], [0], [0], [0], [0], [0], [0], [0], [0], [0], [0], [0], [0], [0], [0], [0], [0], [0], [0], [0], [0], [0], [0], [1], [1], [1], [1], [1], [1], [1], [1], [1], [1], [1], [1], [1], [1], [1], [1], [1], [1], [1], [1], [1], [1], [1], [1], [1], [1], [1], [1], [1], [1], [1], [1], [1], [1], [1], [1], [1], [1], [1], [1], [1], [1], [1]], \"hoverlabel\": {\"namelength\": 0}, \"hovertemplate\": \"0=%{x}<br>1=%{y}<br>2=%{z}<br>Feature=%{customdata[0]}<br>Label=%{marker.color}\", \"legendgroup\": \"\", \"marker\": {\"color\": [0, 0, 0, 0, 0, 0, 0, 1, 0, 0, 0, 0, 0, 0, 0, 0, 0, 0, 0, 0, 0, 0, 0, 0, 0, 1, 0, 0, 0, 0, 0, 0, 0, 0, 0, 0, 0, 0, 0, 0, 0, 0, 0, 0, 0, 0, 0, 0, 0, 0, 0, 0, 0, 0, 0, 0, 0, 0, 0, 0, 0, 0, 0, 0, 0, 0, 0, 0, 0, 0, 0, 1, 0, 0, 0, 0, 1, 0, 0, 0, 0, 0, 0, 0, 0, 0, 0, 0, 0, 0, 0, 0, 0, 0, 0, 0, 0, 0, 0, 0, 0, 0, 0, 0, 0, 0, 0, 0, 0, 0, 0, 0, 0, 0, 0, 0, 0, 1, 0, 0, 0, 0, 0, 0, 0, 0, 0, 0, 0, 0, 0, 0, 0, 0, 0, 0, 0, 0, 0, 0, 0, 0, 0, 0, 0, 0, 0, 1, 0, 1, 0, 0, 0, 0, 0, 0, 0, 0, 0, 0, 0, 0, 0, 0, 0, 0, 0, 0, 0, 0, 0, 1, 0, 0, 1, 0, 0, 0, 0, 0, 0, 0, 0, 0, 0, 0, 0, 0, 0, 0, 1, 0, 0, 0, 0, 0, 0, 0, 0, 0, 0, 0, 0, 0, 0, 0, 0, 0, 0, 0, 0, 0, 0, 0, 0, 0, 0, 0, 0, 0, 0, 0, 0, 0, 0, 0, 0, 0, 1, 0, 0, 0, 0, 0], \"coloraxis\": \"coloraxis\", \"opacity\": 0.7, \"symbol\": \"circle\"}, \"mode\": \"markers\", \"name\": \"\", \"scene\": \"scene\", \"showlegend\": false, \"type\": \"scatter3d\", \"x\": [-47.88222122192383, 46.67827606201172, 11.17581844329834, -0.1245642900466919, 101.02783966064453, 63.894935607910156, -124.2467269897461, 82.3759765625, -5.2786173820495605, -41.50682067871094, -15.126031875610352, -40.05217361450195, 13.397723197937012, -24.836265563964844, 110.9562759399414, 30.042768478393555, 33.522953033447266, 80.93079376220703, -15.47925853729248, 51.122406005859375, -73.99261474609375, -24.059188842773438, -20.823593139648438, -17.57501220703125, 4.326773643493652, 60.60846710205078, 83.14250946044922, 25.69801902770996, 49.2232551574707, 121.55773162841797, -56.42515563964844, -60.826072692871094, 119.22101593017578, 33.88113784790039, 73.49626922607422, -21.554832458496094, -94.62931823730469, -79.7998275756836, 20.46790885925293, -100.54135131835938, -90.8577651977539, -149.33203125, -78.91975402832031, -2.962489366531372, -78.34309387207031, -61.27734375, 70.35804748535156, -58.971214294433594, 37.156837463378906, 11.15112590789795, 118.724609375, 76.51580047607422, -77.4920425415039, 29.772485733032227, 41.25010299682617, 4.484633445739746, 47.63069152832031, 99.27507781982422, 63.690895080566406, -50.645694732666016, 17.520252227783203, 94.2584457397461, -41.6180419921875, -52.678077697753906, -91.16262817382812, 122.16173553466797, -96.20492553710938, -106.23250579833984, 54.16469192504883, -83.58840942382812, -64.41864013671875, 62.88506317138672, -83.81619262695312, 13.483226776123047, -76.39144134521484, -1.3303232192993164, -20.69258689880371, 38.89805221557617, -30.249065399169922, 62.153709411621094, -39.96511459350586, -78.40782928466797, -15.605722427368164, -17.768518447875977, -6.039424896240234, 0.1418571174144745, 4.195420265197754, -102.03353118896484, 24.25447654724121, -70.0283203125, 107.70440673828125, -45.846527099609375, 21.722496032714844, 27.66544532775879, 7.996979236602783, 59.773582458496094, -76.68185424804688, -20.020933151245117, -41.696510314941406, -63.0931510925293, 19.057069778442383, 98.64860534667969, -13.1838960647583, -69.20777893066406, -41.02207565307617, -54.1579475402832, -3.9853484630584717, 41.68942642211914, 12.222399711608887, -50.02313995361328, 39.86261749267578, 88.87223815917969, 67.68619537353516, -7.6392436027526855, -1.5817897319793701, -9.12063217163086, -42.97331619262695, 30.71710968017578, 13.552963256835938, 17.539875030517578, 62.078975677490234, 27.286197662353516, -15.076955795288086, 90.57172393798828, 92.17689514160156, 102.44539642333984, 114.65060424804688, 30.48726463317871, 45.39082717895508, -124.28965759277344, 56.82937240600586, -135.3036651611328, 31.735342025756836, 4.843418598175049, 114.93914794921875, 49.118377685546875, -78.72618865966797, -84.04307556152344, -50.1211051940918, -26.114046096801758, 65.65950775146484, -6.374794960021973, -70.56450653076172, -25.77499008178711, 24.26795196533203, -65.82688903808594, 76.2938232421875, 48.073768615722656, -47.537506103515625, -87.79632568359375, -38.3982048034668, -61.247257232666016, -25.45421028137207, -46.914249420166016, 0.27712708711624146, 95.57347869873047, 50.62101745605469, 22.631868362426758, 77.65511322021484, 19.69799041748047, -21.46726417541504, -19.03118133544922, 26.458757400512695, 82.23627471923828, 145.3737030029297, 3.1469151973724365, 42.11317443847656, 6.58851957321167, -41.89227294921875, -31.882095336914062, -15.361811637878418, 48.28730773925781, -1.9134166240692139, -35.57969665527344, -43.055023193359375, 154.48117065429688, 11.440345764160156, -62.62255096435547, 55.1676025390625, -102.81175994873047, -10.075225830078125, -124.89400482177734, -120.08941650390625, 87.99626922607422, -84.65303039550781, 64.56246948242188, -14.513160705566406, 26.20106315612793, -44.8560905456543, -17.66077423095703, -6.464395523071289, -3.3244376182556152, -31.384090423583984, -58.22752380371094, -124.1694107055664, -11.98864459991455, -33.08924102783203, 87.87020874023438, -87.90444946289062, 92.60420989990234, -0.7423359751701355, 38.43770980834961, -37.92808532714844, -26.911331176757812, -7.346685409545898, -36.27145004272461, 48.26420974731445, 5.432186603546143, -33.93450927734375, 35.15312194824219, -37.18193817138672, -15.23948860168457, 114.30448150634766, 35.24243927001953, 5.31298828125, -23.503475189208984, 43.07990646362305, 18.43319320678711, 59.73777389526367, -68.37789916992188, 66.98603820800781, -55.2933349609375, 7.315113067626953, -48.34431457519531, -40.335609436035156, 16.87844467163086, -20.41762351989746, -14.305973052978516, -31.432435989379883, -17.763093948364258, 75.21208953857422, -27.58502769470215, -15.231852531433105, -18.53485870361328], \"y\": [-109.53511810302734, -0.24212676286697388, 169.6720428466797, -35.55078125, 1.0644283294677734, -44.61111068725586, -1.6176834106445312, 100.4205322265625, -57.46438980102539, -72.42272186279297, -128.776611328125, 112.97579956054688, -62.07768249511719, -100.43094635009766, 31.196582794189453, -26.473552703857422, 26.64714813232422, 43.30953598022461, 155.4657745361328, 58.07091522216797, -42.90721130371094, -5.308468818664551, 21.018049240112305, 7.933272838592529, 51.57566833496094, 129.67515563964844, -78.7084732055664, 44.779998779296875, 37.71453857421875, -22.178632736206055, 23.296167373657227, 31.6278018951416, 4.581798553466797, 65.69170379638672, -98.05677032470703, 10.866010665893555, -72.17403411865234, -99.31706237792969, 149.66122436523438, -108.83931732177734, 17.315574645996094, -22.765825271606445, -17.454683303833008, 16.92900276184082, -91.3857650756836, 33.11849594116211, -23.760948181152344, -26.928760528564453, -18.295974731445312, 134.89183044433594, 6.316617012023926, -17.692089080810547, -46.24784851074219, -30.264080047607422, 153.08840942382812, 12.468534469604492, 54.714900970458984, 78.55487823486328, -12.931904792785645, -25.582378387451172, 91.51154327392578, -33.82530212402344, -70.68721771240234, 55.707252502441406, 25.123144149780273, 33.35069274902344, -41.09230422973633, -69.7070541381836, 5.1400346755981445, -9.3820219039917, -8.099080085754395, 102.97026062011719, -60.138145446777344, -108.15621948242188, -38.324562072753906, -83.18196868896484, -34.2562370300293, -27.083377838134766, 76.24918365478516, -29.19791603088379, -111.29564666748047, -7.127429962158203, 67.70670318603516, -29.17560386657715, -27.33774757385254, 60.290443420410156, 77.813720703125, 58.25872039794922, -120.30583953857422, -117.33464813232422, -40.1447639465332, 84.2470474243164, 113.67607879638672, 65.79472351074219, 14.796964645385742, 30.8422908782959, 17.72490692138672, -87.03141021728516, -98.29505920410156, -42.56310272216797, -8.619468688964844, 12.732782363891602, -70.90101623535156, 67.005126953125, -9.371273040771484, -32.293582916259766, -123.6584701538086, -56.24260711669922, 2.176302909851074, -151.1320343017578, -144.41307067871094, -56.52012252807617, 130.66734313964844, 111.50794219970703, -35.8126220703125, 74.12865447998047, -76.81233215332031, 134.79185485839844, 52.42097091674805, 52.91305923461914, 2.731186866760254, 28.271846771240234, 47.965789794921875, 0.36755332350730896, -11.829607963562012, -40.332157135009766, 10.367082595825195, 6.2029852867126465, 17.533512115478516, -24.591690063476562, -94.35356903076172, 4.807073593139648, -57.969215393066406, -8.593323707580566, 61.319976806640625, 76.9176254272461, -120.85600280761719, -15.910475730895996, -87.62106323242188, 30.02390480041504, -51.93878936767578, 133.19338989257812, 64.19493103027344, 110.23445892333984, 13.692953109741211, -60.88488006591797, -11.866191864013672, 104.21277618408203, -35.57536315917969, 101.76615905761719, 60.53854751586914, -65.7701644897461, 97.9612045288086, -34.198368072509766, 97.09782409667969, -97.45204162597656, 29.281047821044922, 51.521297454833984, 51.31189727783203, 20.904247283935547, -97.15680694580078, -52.9875373840332, 130.30564880371094, 30.616044998168945, 29.592483520507812, 75.40216064453125, -73.01856231689453, -93.7012710571289, -38.7881965637207, -1.1592304706573486, -11.274599075317383, 155.39892578125, 45.538753509521484, 93.1807861328125, 6.801188945770264, 8.579346656799316, 22.0162410736084, -92.53837585449219, -38.46672439575195, -23.66759490966797, -84.63587951660156, 39.821136474609375, 48.307621002197266, 16.684118270874023, 68.88410186767578, 43.668243408203125, 42.05889892578125, 54.70415496826172, 130.17547607421875, 120.15773010253906, -3.8030879497528076, 148.651123046875, -17.232187271118164, 8.482820510864258, -67.36174774169922, -117.44454956054688, 41.45527267456055, 16.85643768310547, 29.097145080566406, -17.673423767089844, -140.78933715820312, 105.40731811523438, -52.65971755981445, -118.5038070678711, 27.51645278930664, -139.27117919921875, -2.1305785179138184, -56.318538665771484, -66.51812744140625, 91.25006103515625, -136.47943115234375, -40.55266189575195, -24.68782615661621, -87.27117919921875, 94.14458465576172, -21.622215270996094, -75.60975646972656, -22.621952056884766, -4.518242359161377, -7.169704914093018, 18.779735565185547, -90.9142074584961, -34.61565017700195, 46.655914306640625, -60.308109283447266, -81.46259307861328, -2.7014358043670654, -51.936981201171875, -5.178404808044434, 22.39532470703125, 68.91724395751953, 64.50206756591797, -63.74541091918945, -38.07377243041992], \"z\": [-53.05509948730469, -89.7378921508789, 54.28018569946289, -143.59327697753906, -8.436930656433105, 91.18824768066406, -65.479248046875, 111.86124420166016, -116.05616760253906, -12.173968315124512, -9.969200134277344, 86.75955200195312, 69.61102294921875, -35.43693923950195, -16.42310905456543, -102.45418548583984, -106.51774597167969, -40.54336166381836, 38.088706970214844, 82.80198669433594, -137.83474731445312, 77.2865219116211, -33.25864028930664, 153.652099609375, -64.7462387084961, 59.73836898803711, 46.1573600769043, 120.3222427368164, 23.997194290161133, 69.15105438232422, -109.23723602294922, 7.860946178436279, 89.10163879394531, -67.75265502929688, -38.76564407348633, 47.44762420654297, -32.02995300292969, -63.00944137573242, 16.7280216217041, 34.47214889526367, 12.245701789855957, -4.373942852020264, -44.14543151855469, 19.292810440063477, 24.448972702026367, 42.32115173339844, -37.6399040222168, 22.185773849487305, 85.60770416259766, 45.71643829345703, 50.62974548339844, -72.12138366699219, -21.950782775878906, 33.29489517211914, 48.462501525878906, -132.87335205078125, -24.610029220581055, -49.69992446899414, 108.43710327148438, -116.23123168945312, 78.82937622070312, 75.15428924560547, 32.51694869995117, -120.00025939941406, 46.172462463378906, 69.18435668945312, -52.311187744140625, 51.58709716796875, -48.221439361572266, 36.57314682006836, -5.5670485496521, 84.83897399902344, 6.210832118988037, -99.18222045898438, 50.40376663208008, 50.76929473876953, -177.69607543945312, -74.03974151611328, 103.8997573852539, 63.094486236572266, -9.299843788146973, 72.07605743408203, -24.22052001953125, -112.18415832519531, 129.50518798828125, -99.39707946777344, 113.31928253173828, 35.533531188964844, 49.80716323852539, -97.19829559326172, -56.952945709228516, -42.07375717163086, 18.973447799682617, -114.92578887939453, -45.809349060058594, -82.96253204345703, 98.68412017822266, -122.51359558105469, -87.67398071289062, -68.91740417480469, -59.80071258544922, -96.88671875, -151.10250854492188, -78.52517700195312, 116.2510986328125, -163.41151428222656, -43.63039016723633, -14.669776916503906, -85.1591796875, 14.808823585510254, 4.414007663726807, -1.9081130027770996, 103.9878158569336, 84.91488647460938, 92.5091552734375, 75.21794128417969, 101.5934829711914, 105.97318267822266, -20.12970542907715, 89.460693359375, 75.96035766601562, -66.84400177001953, 89.03128051757812, 69.269287109375, 98.64605712890625, 107.69505310058594, -53.93511962890625, 144.0352020263672, 100.71697998046875, 37.220279693603516, 13.691316604614258, -15.37014389038086, 22.484811782836914, 48.693138122558594, 35.2130126953125, -1.6403189897537231, -35.342166900634766, -99.68303680419922, 63.00835418701172, -126.71643829345703, -49.979061126708984, 13.72347354888916, 18.972570419311523, 22.07904624938965, 27.210948944091797, 66.14860534667969, -122.28789520263672, 117.0392837524414, -44.19015121459961, -25.328187942504883, 74.47810363769531, -46.43873596191406, -87.08358001708984, 92.56800079345703, 47.589168548583984, 9.50107192993164, 68.98082733154297, 10.361480712890625, -1.8079087734222412, -6.18459415435791, 89.6803207397461, 74.9604263305664, 71.66671752929688, 83.17405700683594, -42.8051872253418, 6.304408550262451, -63.51142501831055, -21.521137237548828, 49.70266342163086, -7.723257064819336, -32.73477554321289, 82.32545471191406, 56.17747497558594, 56.82689666748047, -161.93045043945312, 3.8104307651519775, 81.22089385986328, -20.86817741394043, 137.55226135253906, 0.23419301211833954, -85.23725128173828, 51.79224395751953, -11.871447563171387, 118.09199523925781, 79.90892791748047, 116.36629486083984, 4.613589286804199, 57.40789794921875, 46.00105285644531, 56.307369232177734, -171.13229370117188, 76.47871398925781, -141.66989135742188, -58.65665054321289, 16.002399444580078, -77.4610366821289, -66.06556701660156, 38.73823547363281, -92.28813934326172, 39.246009826660156, -96.51634979248047, -33.24821853637695, -139.57626342773438, -115.52449798583984, 112.15232849121094, -44.719783782958984, 0.23508965969085693, -55.50510787963867, -59.28791427612305, 45.99710464477539, -86.35774993896484, -65.00244903564453, 2.648369312286377, 88.48672485351562, -30.526073455810547, 23.43057632446289, 57.38148880004883, -24.944690704345703, 40.290496826171875, -141.9927215576172, -10.037421226501465, -123.07980346679688, 1.7339919805526733, 140.18954467773438, -107.33888244628906, -128.76263427734375, -65.29804992675781, 35.70475387573242, -192.76473999023438, -84.29998779296875, 34.44245910644531, 39.051734924316406, -30.997943878173828, -3.7941107749938965]}],\n",
       "                        {\"coloraxis\": {\"colorbar\": {\"title\": {\"text\": \"Label\"}}, \"colorscale\": [[0.0, \"#0d0887\"], [0.1111111111111111, \"#46039f\"], [0.2222222222222222, \"#7201a8\"], [0.3333333333333333, \"#9c179e\"], [0.4444444444444444, \"#bd3786\"], [0.5555555555555556, \"#d8576b\"], [0.6666666666666666, \"#ed7953\"], [0.7777777777777778, \"#fb9f3a\"], [0.8888888888888888, \"#fdca26\"], [1.0, \"#f0f921\"]]}, \"height\": 800, \"legend\": {\"tracegroupgap\": 0}, \"scene\": {\"domain\": {\"x\": [0.0, 1.0], \"y\": [0.0, 1.0]}, \"xaxis\": {\"title\": {\"text\": \"0\"}}, \"yaxis\": {\"title\": {\"text\": \"1\"}}, \"zaxis\": {\"title\": {\"text\": \"2\"}}}, \"template\": {\"data\": {\"bar\": [{\"error_x\": {\"color\": \"#2a3f5f\"}, \"error_y\": {\"color\": \"#2a3f5f\"}, \"marker\": {\"line\": {\"color\": \"#E5ECF6\", \"width\": 0.5}}, \"type\": \"bar\"}], \"barpolar\": [{\"marker\": {\"line\": {\"color\": \"#E5ECF6\", \"width\": 0.5}}, \"type\": \"barpolar\"}], \"carpet\": [{\"aaxis\": {\"endlinecolor\": \"#2a3f5f\", \"gridcolor\": \"white\", \"linecolor\": \"white\", \"minorgridcolor\": \"white\", \"startlinecolor\": \"#2a3f5f\"}, \"baxis\": {\"endlinecolor\": \"#2a3f5f\", \"gridcolor\": \"white\", \"linecolor\": \"white\", \"minorgridcolor\": \"white\", \"startlinecolor\": \"#2a3f5f\"}, \"type\": \"carpet\"}], \"choropleth\": [{\"colorbar\": {\"outlinewidth\": 0, \"ticks\": \"\"}, \"type\": \"choropleth\"}], \"contour\": [{\"colorbar\": {\"outlinewidth\": 0, \"ticks\": \"\"}, \"colorscale\": [[0.0, \"#0d0887\"], [0.1111111111111111, \"#46039f\"], [0.2222222222222222, \"#7201a8\"], [0.3333333333333333, \"#9c179e\"], [0.4444444444444444, \"#bd3786\"], [0.5555555555555556, \"#d8576b\"], [0.6666666666666666, \"#ed7953\"], [0.7777777777777778, \"#fb9f3a\"], [0.8888888888888888, \"#fdca26\"], [1.0, \"#f0f921\"]], \"type\": \"contour\"}], \"contourcarpet\": [{\"colorbar\": {\"outlinewidth\": 0, \"ticks\": \"\"}, \"type\": \"contourcarpet\"}], \"heatmap\": [{\"colorbar\": {\"outlinewidth\": 0, \"ticks\": \"\"}, \"colorscale\": [[0.0, \"#0d0887\"], [0.1111111111111111, \"#46039f\"], [0.2222222222222222, \"#7201a8\"], [0.3333333333333333, \"#9c179e\"], [0.4444444444444444, \"#bd3786\"], [0.5555555555555556, \"#d8576b\"], [0.6666666666666666, \"#ed7953\"], [0.7777777777777778, \"#fb9f3a\"], [0.8888888888888888, \"#fdca26\"], [1.0, \"#f0f921\"]], \"type\": \"heatmap\"}], \"heatmapgl\": [{\"colorbar\": {\"outlinewidth\": 0, \"ticks\": \"\"}, \"colorscale\": [[0.0, \"#0d0887\"], [0.1111111111111111, \"#46039f\"], [0.2222222222222222, \"#7201a8\"], [0.3333333333333333, \"#9c179e\"], [0.4444444444444444, \"#bd3786\"], [0.5555555555555556, \"#d8576b\"], [0.6666666666666666, \"#ed7953\"], [0.7777777777777778, \"#fb9f3a\"], [0.8888888888888888, \"#fdca26\"], [1.0, \"#f0f921\"]], \"type\": \"heatmapgl\"}], \"histogram\": [{\"marker\": {\"colorbar\": {\"outlinewidth\": 0, \"ticks\": \"\"}}, \"type\": \"histogram\"}], \"histogram2d\": [{\"colorbar\": {\"outlinewidth\": 0, \"ticks\": \"\"}, \"colorscale\": [[0.0, \"#0d0887\"], [0.1111111111111111, \"#46039f\"], [0.2222222222222222, \"#7201a8\"], [0.3333333333333333, \"#9c179e\"], [0.4444444444444444, \"#bd3786\"], [0.5555555555555556, \"#d8576b\"], [0.6666666666666666, \"#ed7953\"], [0.7777777777777778, \"#fb9f3a\"], [0.8888888888888888, \"#fdca26\"], [1.0, \"#f0f921\"]], \"type\": \"histogram2d\"}], \"histogram2dcontour\": [{\"colorbar\": {\"outlinewidth\": 0, \"ticks\": \"\"}, \"colorscale\": [[0.0, \"#0d0887\"], [0.1111111111111111, \"#46039f\"], [0.2222222222222222, \"#7201a8\"], [0.3333333333333333, \"#9c179e\"], [0.4444444444444444, \"#bd3786\"], [0.5555555555555556, \"#d8576b\"], [0.6666666666666666, \"#ed7953\"], [0.7777777777777778, \"#fb9f3a\"], [0.8888888888888888, \"#fdca26\"], [1.0, \"#f0f921\"]], \"type\": \"histogram2dcontour\"}], \"mesh3d\": [{\"colorbar\": {\"outlinewidth\": 0, \"ticks\": \"\"}, \"type\": \"mesh3d\"}], \"parcoords\": [{\"line\": {\"colorbar\": {\"outlinewidth\": 0, \"ticks\": \"\"}}, \"type\": \"parcoords\"}], \"pie\": [{\"automargin\": true, \"type\": \"pie\"}], \"scatter\": [{\"marker\": {\"colorbar\": {\"outlinewidth\": 0, \"ticks\": \"\"}}, \"type\": \"scatter\"}], \"scatter3d\": [{\"line\": {\"colorbar\": {\"outlinewidth\": 0, \"ticks\": \"\"}}, \"marker\": {\"colorbar\": {\"outlinewidth\": 0, \"ticks\": \"\"}}, \"type\": \"scatter3d\"}], \"scattercarpet\": [{\"marker\": {\"colorbar\": {\"outlinewidth\": 0, \"ticks\": \"\"}}, \"type\": \"scattercarpet\"}], \"scattergeo\": [{\"marker\": {\"colorbar\": {\"outlinewidth\": 0, \"ticks\": \"\"}}, \"type\": \"scattergeo\"}], \"scattergl\": [{\"marker\": {\"colorbar\": {\"outlinewidth\": 0, \"ticks\": \"\"}}, \"type\": \"scattergl\"}], \"scattermapbox\": [{\"marker\": {\"colorbar\": {\"outlinewidth\": 0, \"ticks\": \"\"}}, \"type\": \"scattermapbox\"}], \"scatterpolar\": [{\"marker\": {\"colorbar\": {\"outlinewidth\": 0, \"ticks\": \"\"}}, \"type\": \"scatterpolar\"}], \"scatterpolargl\": [{\"marker\": {\"colorbar\": {\"outlinewidth\": 0, \"ticks\": \"\"}}, \"type\": \"scatterpolargl\"}], \"scatterternary\": [{\"marker\": {\"colorbar\": {\"outlinewidth\": 0, \"ticks\": \"\"}}, \"type\": \"scatterternary\"}], \"surface\": [{\"colorbar\": {\"outlinewidth\": 0, \"ticks\": \"\"}, \"colorscale\": [[0.0, \"#0d0887\"], [0.1111111111111111, \"#46039f\"], [0.2222222222222222, \"#7201a8\"], [0.3333333333333333, \"#9c179e\"], [0.4444444444444444, \"#bd3786\"], [0.5555555555555556, \"#d8576b\"], [0.6666666666666666, \"#ed7953\"], [0.7777777777777778, \"#fb9f3a\"], [0.8888888888888888, \"#fdca26\"], [1.0, \"#f0f921\"]], \"type\": \"surface\"}], \"table\": [{\"cells\": {\"fill\": {\"color\": \"#EBF0F8\"}, \"line\": {\"color\": \"white\"}}, \"header\": {\"fill\": {\"color\": \"#C8D4E3\"}, \"line\": {\"color\": \"white\"}}, \"type\": \"table\"}]}, \"layout\": {\"annotationdefaults\": {\"arrowcolor\": \"#2a3f5f\", \"arrowhead\": 0, \"arrowwidth\": 1}, \"coloraxis\": {\"colorbar\": {\"outlinewidth\": 0, \"ticks\": \"\"}}, \"colorscale\": {\"diverging\": [[0, \"#8e0152\"], [0.1, \"#c51b7d\"], [0.2, \"#de77ae\"], [0.3, \"#f1b6da\"], [0.4, \"#fde0ef\"], [0.5, \"#f7f7f7\"], [0.6, \"#e6f5d0\"], [0.7, \"#b8e186\"], [0.8, \"#7fbc41\"], [0.9, \"#4d9221\"], [1, \"#276419\"]], \"sequential\": [[0.0, \"#0d0887\"], [0.1111111111111111, \"#46039f\"], [0.2222222222222222, \"#7201a8\"], [0.3333333333333333, \"#9c179e\"], [0.4444444444444444, \"#bd3786\"], [0.5555555555555556, \"#d8576b\"], [0.6666666666666666, \"#ed7953\"], [0.7777777777777778, \"#fb9f3a\"], [0.8888888888888888, \"#fdca26\"], [1.0, \"#f0f921\"]], \"sequentialminus\": [[0.0, \"#0d0887\"], [0.1111111111111111, \"#46039f\"], [0.2222222222222222, \"#7201a8\"], [0.3333333333333333, \"#9c179e\"], [0.4444444444444444, \"#bd3786\"], [0.5555555555555556, \"#d8576b\"], [0.6666666666666666, \"#ed7953\"], [0.7777777777777778, \"#fb9f3a\"], [0.8888888888888888, \"#fdca26\"], [1.0, \"#f0f921\"]]}, \"colorway\": [\"#636efa\", \"#EF553B\", \"#00cc96\", \"#ab63fa\", \"#FFA15A\", \"#19d3f3\", \"#FF6692\", \"#B6E880\", \"#FF97FF\", \"#FECB52\"], \"font\": {\"color\": \"#2a3f5f\"}, \"geo\": {\"bgcolor\": \"white\", \"lakecolor\": \"white\", \"landcolor\": \"#E5ECF6\", \"showlakes\": true, \"showland\": true, \"subunitcolor\": \"white\"}, \"hoverlabel\": {\"align\": \"left\"}, \"hovermode\": \"closest\", \"mapbox\": {\"style\": \"light\"}, \"paper_bgcolor\": \"white\", \"plot_bgcolor\": \"#E5ECF6\", \"polar\": {\"angularaxis\": {\"gridcolor\": \"white\", \"linecolor\": \"white\", \"ticks\": \"\"}, \"bgcolor\": \"#E5ECF6\", \"radialaxis\": {\"gridcolor\": \"white\", \"linecolor\": \"white\", \"ticks\": \"\"}}, \"scene\": {\"xaxis\": {\"backgroundcolor\": \"#E5ECF6\", \"gridcolor\": \"white\", \"gridwidth\": 2, \"linecolor\": \"white\", \"showbackground\": true, \"ticks\": \"\", \"zerolinecolor\": \"white\"}, \"yaxis\": {\"backgroundcolor\": \"#E5ECF6\", \"gridcolor\": \"white\", \"gridwidth\": 2, \"linecolor\": \"white\", \"showbackground\": true, \"ticks\": \"\", \"zerolinecolor\": \"white\"}, \"zaxis\": {\"backgroundcolor\": \"#E5ECF6\", \"gridcolor\": \"white\", \"gridwidth\": 2, \"linecolor\": \"white\", \"showbackground\": true, \"ticks\": \"\", \"zerolinecolor\": \"white\"}}, \"shapedefaults\": {\"line\": {\"color\": \"#2a3f5f\"}}, \"ternary\": {\"aaxis\": {\"gridcolor\": \"white\", \"linecolor\": \"white\", \"ticks\": \"\"}, \"baxis\": {\"gridcolor\": \"white\", \"linecolor\": \"white\", \"ticks\": \"\"}, \"bgcolor\": \"#E5ECF6\", \"caxis\": {\"gridcolor\": \"white\", \"linecolor\": \"white\", \"ticks\": \"\"}}, \"title\": {\"x\": 0.05}, \"xaxis\": {\"automargin\": true, \"gridcolor\": \"white\", \"linecolor\": \"white\", \"ticks\": \"\", \"title\": {\"standoff\": 15}, \"zerolinecolor\": \"white\", \"zerolinewidth\": 2}, \"yaxis\": {\"automargin\": true, \"gridcolor\": \"white\", \"linecolor\": \"white\", \"ticks\": \"\", \"title\": {\"standoff\": 15}, \"zerolinecolor\": \"white\", \"zerolinewidth\": 2}}}, \"title\": {\"text\": \"3d TSNE Plot for Outliers\"}, \"width\": 900},\n",
       "                        {\"responsive\": true}\n",
       "                    ).then(function(){\n",
       "                            \n",
       "var gd = document.getElementById('c976ffff-ba1b-4b6b-b67a-b87b578e5898');\n",
       "var x = new MutationObserver(function (mutations, observer) {{\n",
       "        var display = window.getComputedStyle(gd).display;\n",
       "        if (!display || display === 'none') {{\n",
       "            console.log([gd, 'removed!']);\n",
       "            Plotly.purge(gd);\n",
       "            observer.disconnect();\n",
       "        }}\n",
       "}});\n",
       "\n",
       "// Listen for the removal of the full notebook cells\n",
       "var notebookContainer = gd.closest('#notebook-container');\n",
       "if (notebookContainer) {{\n",
       "    x.observe(notebookContainer, {childList: true});\n",
       "}}\n",
       "\n",
       "// Listen for the clearing of the current output cell\n",
       "var outputEl = gd.closest('.output');\n",
       "if (outputEl) {{\n",
       "    x.observe(outputEl, {childList: true});\n",
       "}}\n",
       "\n",
       "                        })\n",
       "                };\n",
       "                });\n",
       "            </script>\n",
       "        </div>"
      ]
     },
     "metadata": {},
     "output_type": "display_data"
    }
   ],
   "source": [
    "plot_model(knn)"
   ]
  },
  {
   "cell_type": "code",
   "execution_count": 8,
   "metadata": {},
   "outputs": [
    {
     "data": {
      "text/plain": [
       "<matplotlib.axes._subplots.AxesSubplot at 0x7fc51c7cb310>"
      ]
     },
     "execution_count": 8,
     "metadata": {},
     "output_type": "execute_result"
    },
    {
     "data": {
      "image/png": "[encoded data removed]",
      "text/plain": [
       "<Figure size 432x288 with 1 Axes>"
      ]
     },
     "metadata": {
      "needs_background": "light"
     },
     "output_type": "display_data"
    }
   ],
   "source": [
    "knn_df['Label'].value_counts().plot.bar()"
   ]
  },
  {
   "cell_type": "code",
   "execution_count": 9,
   "metadata": {},
   "outputs": [
    {
     "data": {
      "text/plain": [
       "0    223\n",
       "1     11\n",
       "Name: Label, dtype: int64"
      ]
     },
     "execution_count": 9,
     "metadata": {},
     "output_type": "execute_result"
    }
   ],
   "source": [
    "knn_df['Label'].value_counts()"
   ]
  },
  {
   "cell_type": "code",
   "execution_count": 10,
   "metadata": {},
   "outputs": [],
   "source": [
    "df = knn_df.loc[knn_df['Label'] == 0] "
   ]
  },
  {
   "cell_type": "code",
   "execution_count": 11,
   "metadata": {},
   "outputs": [
    {
     "data": {
      "text/html": [
       "<div>\n",
       "<style scoped>\n",
       "    .dataframe tbody tr th:only-of-type {\n",
       "        vertical-align: middle;\n",
       "    }\n",
       "\n",
       "    .dataframe tbody tr th {\n",
       "        vertical-align: top;\n",
       "    }\n",
       "\n",
       "    .dataframe thead th {\n",
       "        text-align: right;\n",
       "    }\n",
       "</style>\n",
       "<table border=\"1\" class=\"dataframe\">\n",
       "  <thead>\n",
       "    <tr style=\"text-align: right;\">\n",
       "      <th></th>\n",
       "      <th>target</th>\n",
       "      <th>tumor size</th>\n",
       "      <th>node status of the tumor</th>\n",
       "      <th>Age of the patient</th>\n",
       "      <th>tumor grade</th>\n",
       "      <th>Label</th>\n",
       "      <th>Score</th>\n",
       "    </tr>\n",
       "  </thead>\n",
       "  <tbody>\n",
       "    <tr>\n",
       "      <th>0</th>\n",
       "      <td>0</td>\n",
       "      <td>2</td>\n",
       "      <td>1</td>\n",
       "      <td>60</td>\n",
       "      <td>3</td>\n",
       "      <td>0</td>\n",
       "      <td>1.414214</td>\n",
       "    </tr>\n",
       "    <tr>\n",
       "      <th>1</th>\n",
       "      <td>0</td>\n",
       "      <td>1</td>\n",
       "      <td>1</td>\n",
       "      <td>55</td>\n",
       "      <td>2</td>\n",
       "      <td>0</td>\n",
       "      <td>2.000000</td>\n",
       "    </tr>\n",
       "    <tr>\n",
       "      <th>2</th>\n",
       "      <td>0</td>\n",
       "      <td>1</td>\n",
       "      <td>1</td>\n",
       "      <td>33</td>\n",
       "      <td>3</td>\n",
       "      <td>0</td>\n",
       "      <td>2.449490</td>\n",
       "    </tr>\n",
       "    <tr>\n",
       "      <th>3</th>\n",
       "      <td>0</td>\n",
       "      <td>1</td>\n",
       "      <td>1</td>\n",
       "      <td>67</td>\n",
       "      <td>2</td>\n",
       "      <td>0</td>\n",
       "      <td>2.236068</td>\n",
       "    </tr>\n",
       "    <tr>\n",
       "      <th>4</th>\n",
       "      <td>0</td>\n",
       "      <td>1</td>\n",
       "      <td>1</td>\n",
       "      <td>47</td>\n",
       "      <td>2</td>\n",
       "      <td>0</td>\n",
       "      <td>1.732051</td>\n",
       "    </tr>\n",
       "    <tr>\n",
       "      <th>...</th>\n",
       "      <td>...</td>\n",
       "      <td>...</td>\n",
       "      <td>...</td>\n",
       "      <td>...</td>\n",
       "      <td>...</td>\n",
       "      <td>...</td>\n",
       "      <td>...</td>\n",
       "    </tr>\n",
       "    <tr>\n",
       "      <th>229</th>\n",
       "      <td>1</td>\n",
       "      <td>2</td>\n",
       "      <td>2</td>\n",
       "      <td>55</td>\n",
       "      <td>2</td>\n",
       "      <td>0</td>\n",
       "      <td>2.236068</td>\n",
       "    </tr>\n",
       "    <tr>\n",
       "      <th>230</th>\n",
       "      <td>1</td>\n",
       "      <td>3</td>\n",
       "      <td>2</td>\n",
       "      <td>45</td>\n",
       "      <td>2</td>\n",
       "      <td>0</td>\n",
       "      <td>2.236068</td>\n",
       "    </tr>\n",
       "    <tr>\n",
       "      <th>231</th>\n",
       "      <td>1</td>\n",
       "      <td>3</td>\n",
       "      <td>2</td>\n",
       "      <td>37</td>\n",
       "      <td>3</td>\n",
       "      <td>0</td>\n",
       "      <td>2.236068</td>\n",
       "    </tr>\n",
       "    <tr>\n",
       "      <th>232</th>\n",
       "      <td>1</td>\n",
       "      <td>3</td>\n",
       "      <td>2</td>\n",
       "      <td>58</td>\n",
       "      <td>2</td>\n",
       "      <td>0</td>\n",
       "      <td>2.449490</td>\n",
       "    </tr>\n",
       "    <tr>\n",
       "      <th>233</th>\n",
       "      <td>1</td>\n",
       "      <td>1</td>\n",
       "      <td>1</td>\n",
       "      <td>52</td>\n",
       "      <td>2</td>\n",
       "      <td>0</td>\n",
       "      <td>2.236068</td>\n",
       "    </tr>\n",
       "  </tbody>\n",
       "</table>\n",
       "<p>223 rows × 7 columns</p>\n",
       "</div>"
      ],
      "text/plain": [
       "     target  tumor size  node status of the tumor  Age of the patient  \\\n",
       "0         0           2                         1                  60   \n",
       "1         0           1                         1                  55   \n",
       "2         0           1                         1                  33   \n",
       "3         0           1                         1                  67   \n",
       "4         0           1                         1                  47   \n",
       "..      ...         ...                       ...                 ...   \n",
       "229       1           2                         2                  55   \n",
       "230       1           3                         2                  45   \n",
       "231       1           3                         2                  37   \n",
       "232       1           3                         2                  58   \n",
       "233       1           1                         1                  52   \n",
       "\n",
       "     tumor grade  Label     Score  \n",
       "0              3      0  1.414214  \n",
       "1              2      0  2.000000  \n",
       "2              3      0  2.449490  \n",
       "3              2      0  2.236068  \n",
       "4              2      0  1.732051  \n",
       "..           ...    ...       ...  \n",
       "229            2      0  2.236068  \n",
       "230            2      0  2.236068  \n",
       "231            3      0  2.236068  \n",
       "232            2      0  2.449490  \n",
       "233            2      0  2.236068  \n",
       "\n",
       "[223 rows x 7 columns]"
      ]
     },
     "execution_count": 11,
     "metadata": {},
     "output_type": "execute_result"
    }
   ],
   "source": [
    "df"
   ]
  },
  {
   "cell_type": "code",
   "execution_count": 12,
   "metadata": {},
   "outputs": [],
   "source": [
    "raw = knn_df.loc[knn_df['Label'] == 1] "
   ]
  },
  {
   "cell_type": "code",
   "execution_count": 13,
   "metadata": {},
   "outputs": [
    {
     "data": {
      "text/html": [
       "<div>\n",
       "<style scoped>\n",
       "    .dataframe tbody tr th:only-of-type {\n",
       "        vertical-align: middle;\n",
       "    }\n",
       "\n",
       "    .dataframe tbody tr th {\n",
       "        vertical-align: top;\n",
       "    }\n",
       "\n",
       "    .dataframe thead th {\n",
       "        text-align: right;\n",
       "    }\n",
       "</style>\n",
       "<table border=\"1\" class=\"dataframe\">\n",
       "  <thead>\n",
       "    <tr style=\"text-align: right;\">\n",
       "      <th></th>\n",
       "      <th>target</th>\n",
       "      <th>tumor size</th>\n",
       "      <th>node status of the tumor</th>\n",
       "      <th>Age of the patient</th>\n",
       "      <th>tumor grade</th>\n",
       "      <th>Label</th>\n",
       "      <th>Score</th>\n",
       "    </tr>\n",
       "  </thead>\n",
       "  <tbody>\n",
       "    <tr>\n",
       "      <th>7</th>\n",
       "      <td>0</td>\n",
       "      <td>1</td>\n",
       "      <td>1</td>\n",
       "      <td>26</td>\n",
       "      <td>2</td>\n",
       "      <td>1</td>\n",
       "      <td>2.828427</td>\n",
       "    </tr>\n",
       "    <tr>\n",
       "      <th>25</th>\n",
       "      <td>0</td>\n",
       "      <td>2</td>\n",
       "      <td>0</td>\n",
       "      <td>30</td>\n",
       "      <td>2</td>\n",
       "      <td>1</td>\n",
       "      <td>2.828427</td>\n",
       "    </tr>\n",
       "    <tr>\n",
       "      <th>71</th>\n",
       "      <td>0</td>\n",
       "      <td>2</td>\n",
       "      <td>0</td>\n",
       "      <td>25</td>\n",
       "      <td>3</td>\n",
       "      <td>1</td>\n",
       "      <td>3.316625</td>\n",
       "    </tr>\n",
       "    <tr>\n",
       "      <th>76</th>\n",
       "      <td>0</td>\n",
       "      <td>1</td>\n",
       "      <td>1</td>\n",
       "      <td>72</td>\n",
       "      <td>2</td>\n",
       "      <td>1</td>\n",
       "      <td>4.242641</td>\n",
       "    </tr>\n",
       "    <tr>\n",
       "      <th>117</th>\n",
       "      <td>0</td>\n",
       "      <td>2</td>\n",
       "      <td>1</td>\n",
       "      <td>29</td>\n",
       "      <td>3</td>\n",
       "      <td>1</td>\n",
       "      <td>3.000000</td>\n",
       "    </tr>\n",
       "    <tr>\n",
       "      <th>147</th>\n",
       "      <td>0</td>\n",
       "      <td>2</td>\n",
       "      <td>1</td>\n",
       "      <td>25</td>\n",
       "      <td>3</td>\n",
       "      <td>1</td>\n",
       "      <td>3.000000</td>\n",
       "    </tr>\n",
       "    <tr>\n",
       "      <th>149</th>\n",
       "      <td>0</td>\n",
       "      <td>2</td>\n",
       "      <td>1</td>\n",
       "      <td>28</td>\n",
       "      <td>3</td>\n",
       "      <td>1</td>\n",
       "      <td>2.828427</td>\n",
       "    </tr>\n",
       "    <tr>\n",
       "      <th>171</th>\n",
       "      <td>0</td>\n",
       "      <td>2</td>\n",
       "      <td>2</td>\n",
       "      <td>30</td>\n",
       "      <td>2</td>\n",
       "      <td>1</td>\n",
       "      <td>2.828427</td>\n",
       "    </tr>\n",
       "    <tr>\n",
       "      <th>174</th>\n",
       "      <td>0</td>\n",
       "      <td>3</td>\n",
       "      <td>1</td>\n",
       "      <td>70</td>\n",
       "      <td>3</td>\n",
       "      <td>1</td>\n",
       "      <td>3.162278</td>\n",
       "    </tr>\n",
       "    <tr>\n",
       "      <th>190</th>\n",
       "      <td>0</td>\n",
       "      <td>2</td>\n",
       "      <td>3</td>\n",
       "      <td>73</td>\n",
       "      <td>3</td>\n",
       "      <td>1</td>\n",
       "      <td>5.196152</td>\n",
       "    </tr>\n",
       "    <tr>\n",
       "      <th>228</th>\n",
       "      <td>1</td>\n",
       "      <td>2</td>\n",
       "      <td>2</td>\n",
       "      <td>75</td>\n",
       "      <td>3</td>\n",
       "      <td>1</td>\n",
       "      <td>7.141428</td>\n",
       "    </tr>\n",
       "  </tbody>\n",
       "</table>\n",
       "</div>"
      ],
      "text/plain": [
       "     target  tumor size  node status of the tumor  Age of the patient  \\\n",
       "7         0           1                         1                  26   \n",
       "25        0           2                         0                  30   \n",
       "71        0           2                         0                  25   \n",
       "76        0           1                         1                  72   \n",
       "117       0           2                         1                  29   \n",
       "147       0           2                         1                  25   \n",
       "149       0           2                         1                  28   \n",
       "171       0           2                         2                  30   \n",
       "174       0           3                         1                  70   \n",
       "190       0           2                         3                  73   \n",
       "228       1           2                         2                  75   \n",
       "\n",
       "     tumor grade  Label     Score  \n",
       "7              2      1  2.828427  \n",
       "25             2      1  2.828427  \n",
       "71             3      1  3.316625  \n",
       "76             2      1  4.242641  \n",
       "117            3      1  3.000000  \n",
       "147            3      1  3.000000  \n",
       "149            3      1  2.828427  \n",
       "171            2      1  2.828427  \n",
       "174            3      1  3.162278  \n",
       "190            3      1  5.196152  \n",
       "228            3      1  7.141428  "
      ]
     },
     "execution_count": 13,
     "metadata": {},
     "output_type": "execute_result"
    }
   ],
   "source": [
    "raw"
   ]
  },
  {
   "cell_type": "code",
   "execution_count": 14,
   "metadata": {},
   "outputs": [],
   "source": [
    "df = df.drop([\"Label\"],axis=1)"
   ]
  },
  {
   "cell_type": "code",
   "execution_count": 15,
   "metadata": {},
   "outputs": [
    {
     "data": {
      "text/html": [
       "<div>\n",
       "<style scoped>\n",
       "    .dataframe tbody tr th:only-of-type {\n",
       "        vertical-align: middle;\n",
       "    }\n",
       "\n",
       "    .dataframe tbody tr th {\n",
       "        vertical-align: top;\n",
       "    }\n",
       "\n",
       "    .dataframe thead th {\n",
       "        text-align: right;\n",
       "    }\n",
       "</style>\n",
       "<table border=\"1\" class=\"dataframe\">\n",
       "  <thead>\n",
       "    <tr style=\"text-align: right;\">\n",
       "      <th></th>\n",
       "      <th>target</th>\n",
       "      <th>tumor size</th>\n",
       "      <th>node status of the tumor</th>\n",
       "      <th>Age of the patient</th>\n",
       "      <th>tumor grade</th>\n",
       "      <th>Score</th>\n",
       "    </tr>\n",
       "  </thead>\n",
       "  <tbody>\n",
       "    <tr>\n",
       "      <th>0</th>\n",
       "      <td>0</td>\n",
       "      <td>2</td>\n",
       "      <td>1</td>\n",
       "      <td>60</td>\n",
       "      <td>3</td>\n",
       "      <td>1.414214</td>\n",
       "    </tr>\n",
       "    <tr>\n",
       "      <th>1</th>\n",
       "      <td>0</td>\n",
       "      <td>1</td>\n",
       "      <td>1</td>\n",
       "      <td>55</td>\n",
       "      <td>2</td>\n",
       "      <td>2.000000</td>\n",
       "    </tr>\n",
       "    <tr>\n",
       "      <th>2</th>\n",
       "      <td>0</td>\n",
       "      <td>1</td>\n",
       "      <td>1</td>\n",
       "      <td>33</td>\n",
       "      <td>3</td>\n",
       "      <td>2.449490</td>\n",
       "    </tr>\n",
       "    <tr>\n",
       "      <th>3</th>\n",
       "      <td>0</td>\n",
       "      <td>1</td>\n",
       "      <td>1</td>\n",
       "      <td>67</td>\n",
       "      <td>2</td>\n",
       "      <td>2.236068</td>\n",
       "    </tr>\n",
       "    <tr>\n",
       "      <th>4</th>\n",
       "      <td>0</td>\n",
       "      <td>1</td>\n",
       "      <td>1</td>\n",
       "      <td>47</td>\n",
       "      <td>2</td>\n",
       "      <td>1.732051</td>\n",
       "    </tr>\n",
       "    <tr>\n",
       "      <th>...</th>\n",
       "      <td>...</td>\n",
       "      <td>...</td>\n",
       "      <td>...</td>\n",
       "      <td>...</td>\n",
       "      <td>...</td>\n",
       "      <td>...</td>\n",
       "    </tr>\n",
       "    <tr>\n",
       "      <th>229</th>\n",
       "      <td>1</td>\n",
       "      <td>2</td>\n",
       "      <td>2</td>\n",
       "      <td>55</td>\n",
       "      <td>2</td>\n",
       "      <td>2.236068</td>\n",
       "    </tr>\n",
       "    <tr>\n",
       "      <th>230</th>\n",
       "      <td>1</td>\n",
       "      <td>3</td>\n",
       "      <td>2</td>\n",
       "      <td>45</td>\n",
       "      <td>2</td>\n",
       "      <td>2.236068</td>\n",
       "    </tr>\n",
       "    <tr>\n",
       "      <th>231</th>\n",
       "      <td>1</td>\n",
       "      <td>3</td>\n",
       "      <td>2</td>\n",
       "      <td>37</td>\n",
       "      <td>3</td>\n",
       "      <td>2.236068</td>\n",
       "    </tr>\n",
       "    <tr>\n",
       "      <th>232</th>\n",
       "      <td>1</td>\n",
       "      <td>3</td>\n",
       "      <td>2</td>\n",
       "      <td>58</td>\n",
       "      <td>2</td>\n",
       "      <td>2.449490</td>\n",
       "    </tr>\n",
       "    <tr>\n",
       "      <th>233</th>\n",
       "      <td>1</td>\n",
       "      <td>1</td>\n",
       "      <td>1</td>\n",
       "      <td>52</td>\n",
       "      <td>2</td>\n",
       "      <td>2.236068</td>\n",
       "    </tr>\n",
       "  </tbody>\n",
       "</table>\n",
       "<p>223 rows × 6 columns</p>\n",
       "</div>"
      ],
      "text/plain": [
       "     target  tumor size  node status of the tumor  Age of the patient  \\\n",
       "0         0           2                         1                  60   \n",
       "1         0           1                         1                  55   \n",
       "2         0           1                         1                  33   \n",
       "3         0           1                         1                  67   \n",
       "4         0           1                         1                  47   \n",
       "..      ...         ...                       ...                 ...   \n",
       "229       1           2                         2                  55   \n",
       "230       1           3                         2                  45   \n",
       "231       1           3                         2                  37   \n",
       "232       1           3                         2                  58   \n",
       "233       1           1                         1                  52   \n",
       "\n",
       "     tumor grade     Score  \n",
       "0              3  1.414214  \n",
       "1              2  2.000000  \n",
       "2              3  2.449490  \n",
       "3              2  2.236068  \n",
       "4              2  1.732051  \n",
       "..           ...       ...  \n",
       "229            2  2.236068  \n",
       "230            2  2.236068  \n",
       "231            3  2.236068  \n",
       "232            2  2.449490  \n",
       "233            2  2.236068  \n",
       "\n",
       "[223 rows x 6 columns]"
      ]
     },
     "execution_count": 15,
     "metadata": {},
     "output_type": "execute_result"
    }
   ],
   "source": [
    "df"
   ]
  },
  {
   "cell_type": "code",
   "execution_count": 16,
   "metadata": {},
   "outputs": [
    {
     "data": {
      "text/plain": [
       "0    223\n",
       "1     11\n",
       "Name: Label, dtype: int64"
      ]
     },
     "execution_count": 16,
     "metadata": {},
     "output_type": "execute_result"
    },
    {
     "data": {
      "image/png": "[encoded data removed]",
      "text/plain": [
       "<Figure size 432x288 with 1 Axes>"
      ]
     },
     "metadata": {
      "needs_background": "light"
     },
     "output_type": "display_data"
    }
   ],
   "source": [
    "df['target'].value_counts().plot.bar()\n",
    "knn_df['Label'].value_counts()\n"
   ]
  },
  {
   "cell_type": "code",
   "execution_count": 17,
   "metadata": {},
   "outputs": [],
   "source": [
    "from sklearn.model_selection import train_test_split"
   ]
  },
  {
   "cell_type": "code",
   "execution_count": 18,
   "metadata": {},
   "outputs": [],
   "source": [
    "X_res = df.iloc[:,1:].values\n",
    "y_res = df.iloc[:,0].values"
   ]
  },
  {
   "cell_type": "code",
   "execution_count": 19,
   "metadata": {},
   "outputs": [
    {
     "name": "stderr",
     "output_type": "stream",
     "text": [
      "Using TensorFlow backend.\n"
     ]
    }
   ],
   "source": [
    "from imblearn.under_sampling import NearMiss\n",
    "from imblearn.combine import SMOTETomek"
   ]
  },
  {
   "cell_type": "code",
   "execution_count": 20,
   "metadata": {},
   "outputs": [],
   "source": [
    "os = SMOTETomek()\n",
    "X_res,y_res = os.fit_sample(X_res,y_res)"
   ]
  },
  {
   "cell_type": "code",
   "execution_count": 21,
   "metadata": {},
   "outputs": [
    {
     "data": {
      "text/plain": [
       "(344, 5)"
      ]
     },
     "execution_count": 21,
     "metadata": {},
     "output_type": "execute_result"
    }
   ],
   "source": [
    "X_res.shape"
   ]
  },
  {
   "cell_type": "code",
   "execution_count": 22,
   "metadata": {},
   "outputs": [
    {
     "data": {
      "text/plain": [
       "(344,)"
      ]
     },
     "execution_count": 22,
     "metadata": {},
     "output_type": "execute_result"
    }
   ],
   "source": [
    "y_res.shape"
   ]
  },
  {
   "cell_type": "code",
   "execution_count": 23,
   "metadata": {},
   "outputs": [],
   "source": [
    "X_train, X_test, y_train, y_test = train_test_split(X_res,y_res, test_size=0.2, random_state=42)"
   ]
  },
  {
   "cell_type": "code",
   "execution_count": 24,
   "metadata": {},
   "outputs": [],
   "source": [
    "from sklearn.preprocessing import Normalizer"
   ]
  },
  {
   "cell_type": "code",
   "execution_count": 25,
   "metadata": {},
   "outputs": [],
   "source": [
    "scaler = Normalizer().fit(X_train)\n",
    "standarized_x = scaler.transform(X_train)\n",
    "standarized_x_test = scaler.transform(X_test)"
   ]
  },
  {
   "cell_type": "code",
   "execution_count": 26,
   "metadata": {},
   "outputs": [],
   "source": [
    "from sklearn.ensemble import RandomForestClassifier\n",
    "from sklearn.metrics import accuracy_score,confusion_matrix,classification_report"
   ]
  },
  {
   "cell_type": "code",
   "execution_count": 27,
   "metadata": {},
   "outputs": [],
   "source": [
    "model = RandomForestClassifier(n_estimators=100,\n",
    "    criterion='gini',\n",
    "    max_depth=50,\n",
    "    min_samples_split=7,\n",
    "    min_samples_leaf=1,\n",
    "    min_weight_fraction_leaf=0.0,\n",
    "    max_features='sqrt',\n",
    "    max_leaf_nodes=None,\n",
    "    min_impurity_decrease=0.0,\n",
    "    min_impurity_split=None,\n",
    "    bootstrap=False,\n",
    "    oob_score=False,\n",
    "    n_jobs=None,\n",
    "    random_state=4818,\n",
    "    verbose=0,\n",
    "    warm_start=False,\n",
    "    class_weight=None,\n",
    "    ccp_alpha=0.0,\n",
    "    max_samples=None,)"
   ]
  },
  {
   "cell_type": "code",
   "execution_count": 28,
   "metadata": {},
   "outputs": [
    {
     "name": "stdout",
     "output_type": "stream",
     "text": [
      "0.8115942028985508\n",
      "[[26 10]\n",
      " [ 3 30]]\n",
      "              precision    recall  f1-score   support\n",
      "\n",
      "           0       0.90      0.72      0.80        36\n",
      "           1       0.75      0.91      0.82        33\n",
      "\n",
      "    accuracy                           0.81        69\n",
      "   macro avg       0.82      0.82      0.81        69\n",
      "weighted avg       0.83      0.81      0.81        69\n",
      "\n"
     ]
    }
   ],
   "source": [
    "model.fit(standarized_x,y_train)\n",
    "y_pred = model.predict(standarized_x_test)\n",
    "print(accuracy_score(y_test,y_pred))\n",
    "print(confusion_matrix(y_test,y_pred))\n",
    "print(classification_report(y_test,y_pred))"
   ]
  },
  {
   "cell_type": "code",
   "execution_count": 29,
   "metadata": {},
   "outputs": [],
   "source": [
    "import xgboost as xgb\n",
    "xgb_model = xgb.XGBClassifier(base_score=0.5, booster='gbtree', colsample_bylevel=1,\n",
    "              colsample_bynode=1, colsample_bytree=1, gamma=0,\n",
    "              learning_rate=0.6, max_delta_step=0, max_depth=50,\n",
    "              min_child_weight=2, missing=None, n_estimators=400, n_jobs=-1,\n",
    "              nthread=None, objective='binary:logistic', random_state=2837,\n",
    "              reg_alpha=0, reg_lambda=1, scale_pos_weight=1, seed=None,\n",
    "              silent=None, subsample=0.7, verbosity=0)\n"
   ]
  },
  {
   "cell_type": "code",
   "execution_count": 30,
   "metadata": {},
   "outputs": [
    {
     "data": {
      "text/plain": [
       "XGBClassifier(base_score=0.5, booster='gbtree', colsample_bylevel=1,\n",
       "              colsample_bynode=1, colsample_bytree=1, gamma=0,\n",
       "              learning_rate=0.6, max_delta_step=0, max_depth=50,\n",
       "              min_child_weight=2, missing=None, n_estimators=400, n_jobs=-1,\n",
       "              nthread=None, objective='binary:logistic', random_state=2837,\n",
       "              reg_alpha=0, reg_lambda=1, scale_pos_weight=1, seed=None,\n",
       "              silent=None, subsample=0.7, verbosity=0)"
      ]
     },
     "execution_count": 30,
     "metadata": {},
     "output_type": "execute_result"
    }
   ],
   "source": [
    "xgb_model.fit(standarized_x,y_train)"
   ]
  },
  {
   "cell_type": "code",
   "execution_count": 31,
   "metadata": {},
   "outputs": [
    {
     "name": "stdout",
     "output_type": "stream",
     "text": [
      "0.7681159420289855\n",
      "[[25 11]\n",
      " [ 5 28]]\n",
      "              precision    recall  f1-score   support\n",
      "\n",
      "           0       0.83      0.69      0.76        36\n",
      "           1       0.72      0.85      0.78        33\n",
      "\n",
      "    accuracy                           0.77        69\n",
      "   macro avg       0.78      0.77      0.77        69\n",
      "weighted avg       0.78      0.77      0.77        69\n",
      "\n"
     ]
    }
   ],
   "source": [
    "y_pred = xgb_model.predict(standarized_x_test)\n",
    "print(accuracy_score(y_test,y_pred))\n",
    "print(confusion_matrix(y_test,y_pred))\n",
    "print(classification_report(y_test,y_pred))"
   ]
  }
 ],
 "metadata": {
  "kernelspec": {
   "display_name": "Python 3",
   "language": "python",
   "name": "python3"
  },
  "language_info": {
   "codemirror_mode": {
    "name": "ipython",
    "version": 3
   },
   "file_extension": ".py",
   "mimetype": "text/x-python",
   "name": "python",
   "nbconvert_exporter": "python",
   "pygments_lexer": "ipython3",
   "version": "3.7.5"
  }
 },
 "nbformat": 4,
 "nbformat_minor": 2
}
