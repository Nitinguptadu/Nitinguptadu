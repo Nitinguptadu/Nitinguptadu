{
 "cells": [
  {
   "cell_type": "code",
   "execution_count": 1,
   "metadata": {},
   "outputs": [],
   "source": [
    "import pandas as pd\n",
    "import numpy as np"
   ]
  },
  {
   "cell_type": "markdown",
   "metadata": {},
   "source": [
    "# Reading Excel File"
   ]
  },
  {
   "cell_type": "code",
   "execution_count": 2,
   "metadata": {},
   "outputs": [],
   "source": [
    "df = pd.read_excel(\"preprocessed data.xlsx\")"
   ]
  },
  {
   "cell_type": "code",
   "execution_count": 3,
   "metadata": {},
   "outputs": [
    {
     "data": {
      "text/html": [
       "<div>\n",
       "<style scoped>\n",
       "    .dataframe tbody tr th:only-of-type {\n",
       "        vertical-align: middle;\n",
       "    }\n",
       "\n",
       "    .dataframe tbody tr th {\n",
       "        vertical-align: top;\n",
       "    }\n",
       "\n",
       "    .dataframe thead th {\n",
       "        text-align: right;\n",
       "    }\n",
       "</style>\n",
       "<table border=\"1\" class=\"dataframe\">\n",
       "  <thead>\n",
       "    <tr style=\"text-align: right;\">\n",
       "      <th></th>\n",
       "      <th>target</th>\n",
       "      <th>tumor size</th>\n",
       "      <th>node status of the tumor</th>\n",
       "      <th>Age of the patient</th>\n",
       "      <th>tumor grade</th>\n",
       "    </tr>\n",
       "  </thead>\n",
       "  <tbody>\n",
       "    <tr>\n",
       "      <th>0</th>\n",
       "      <td>0</td>\n",
       "      <td>2</td>\n",
       "      <td>1</td>\n",
       "      <td>60</td>\n",
       "      <td>3</td>\n",
       "    </tr>\n",
       "    <tr>\n",
       "      <th>1</th>\n",
       "      <td>0</td>\n",
       "      <td>1</td>\n",
       "      <td>1</td>\n",
       "      <td>55</td>\n",
       "      <td>2</td>\n",
       "    </tr>\n",
       "    <tr>\n",
       "      <th>2</th>\n",
       "      <td>0</td>\n",
       "      <td>1</td>\n",
       "      <td>1</td>\n",
       "      <td>33</td>\n",
       "      <td>3</td>\n",
       "    </tr>\n",
       "    <tr>\n",
       "      <th>3</th>\n",
       "      <td>0</td>\n",
       "      <td>1</td>\n",
       "      <td>1</td>\n",
       "      <td>67</td>\n",
       "      <td>2</td>\n",
       "    </tr>\n",
       "    <tr>\n",
       "      <th>4</th>\n",
       "      <td>0</td>\n",
       "      <td>1</td>\n",
       "      <td>1</td>\n",
       "      <td>47</td>\n",
       "      <td>2</td>\n",
       "    </tr>\n",
       "    <tr>\n",
       "      <th>...</th>\n",
       "      <td>...</td>\n",
       "      <td>...</td>\n",
       "      <td>...</td>\n",
       "      <td>...</td>\n",
       "      <td>...</td>\n",
       "    </tr>\n",
       "    <tr>\n",
       "      <th>229</th>\n",
       "      <td>1</td>\n",
       "      <td>2</td>\n",
       "      <td>2</td>\n",
       "      <td>55</td>\n",
       "      <td>2</td>\n",
       "    </tr>\n",
       "    <tr>\n",
       "      <th>230</th>\n",
       "      <td>1</td>\n",
       "      <td>3</td>\n",
       "      <td>2</td>\n",
       "      <td>45</td>\n",
       "      <td>2</td>\n",
       "    </tr>\n",
       "    <tr>\n",
       "      <th>231</th>\n",
       "      <td>1</td>\n",
       "      <td>3</td>\n",
       "      <td>2</td>\n",
       "      <td>37</td>\n",
       "      <td>3</td>\n",
       "    </tr>\n",
       "    <tr>\n",
       "      <th>232</th>\n",
       "      <td>1</td>\n",
       "      <td>3</td>\n",
       "      <td>2</td>\n",
       "      <td>58</td>\n",
       "      <td>2</td>\n",
       "    </tr>\n",
       "    <tr>\n",
       "      <th>233</th>\n",
       "      <td>1</td>\n",
       "      <td>1</td>\n",
       "      <td>1</td>\n",
       "      <td>52</td>\n",
       "      <td>2</td>\n",
       "    </tr>\n",
       "  </tbody>\n",
       "</table>\n",
       "<p>234 rows × 5 columns</p>\n",
       "</div>"
      ],
      "text/plain": [
       "     target  tumor size  node status of the tumor  Age of the patient  \\\n",
       "0         0           2                         1                  60   \n",
       "1         0           1                         1                  55   \n",
       "2         0           1                         1                  33   \n",
       "3         0           1                         1                  67   \n",
       "4         0           1                         1                  47   \n",
       "..      ...         ...                       ...                 ...   \n",
       "229       1           2                         2                  55   \n",
       "230       1           3                         2                  45   \n",
       "231       1           3                         2                  37   \n",
       "232       1           3                         2                  58   \n",
       "233       1           1                         1                  52   \n",
       "\n",
       "     tumor grade  \n",
       "0              3  \n",
       "1              2  \n",
       "2              3  \n",
       "3              2  \n",
       "4              2  \n",
       "..           ...  \n",
       "229            2  \n",
       "230            2  \n",
       "231            3  \n",
       "232            2  \n",
       "233            2  \n",
       "\n",
       "[234 rows x 5 columns]"
      ]
     },
     "execution_count": 3,
     "metadata": {},
     "output_type": "execute_result"
    }
   ],
   "source": [
    "df"
   ]
  },
  {
   "cell_type": "markdown",
   "metadata": {},
   "source": [
    "# Anomaly Detection"
   ]
  },
  {
   "cell_type": "code",
   "execution_count": 4,
   "metadata": {},
   "outputs": [
    {
     "name": "stdout",
     "output_type": "stream",
     "text": [
      "\n",
      "Setup Succesfully Completed!\n"
     ]
    },
    {
     "data": {
      "text/html": [
       "<style  type=\"text/css\" >\n",
       "</style><table id=\"T_132c0a2e_9444_11ea_9c69_75821ec809df\" ><thead>    <tr>        <th class=\"blank level0\" ></th>        <th class=\"col_heading level0 col0\" >Description</th>        <th class=\"col_heading level0 col1\" >Value</th>    </tr></thead><tbody>\n",
       "                <tr>\n",
       "                        <th id=\"T_132c0a2e_9444_11ea_9c69_75821ec809dflevel0_row0\" class=\"row_heading level0 row0\" >0</th>\n",
       "                        <td id=\"T_132c0a2e_9444_11ea_9c69_75821ec809dfrow0_col0\" class=\"data row0 col0\" >session_id </td>\n",
       "                        <td id=\"T_132c0a2e_9444_11ea_9c69_75821ec809dfrow0_col1\" class=\"data row0 col1\" >5378</td>\n",
       "            </tr>\n",
       "            <tr>\n",
       "                        <th id=\"T_132c0a2e_9444_11ea_9c69_75821ec809dflevel0_row1\" class=\"row_heading level0 row1\" >1</th>\n",
       "                        <td id=\"T_132c0a2e_9444_11ea_9c69_75821ec809dfrow1_col0\" class=\"data row1 col0\" >Original Data </td>\n",
       "                        <td id=\"T_132c0a2e_9444_11ea_9c69_75821ec809dfrow1_col1\" class=\"data row1 col1\" >(234, 5)</td>\n",
       "            </tr>\n",
       "            <tr>\n",
       "                        <th id=\"T_132c0a2e_9444_11ea_9c69_75821ec809dflevel0_row2\" class=\"row_heading level0 row2\" >2</th>\n",
       "                        <td id=\"T_132c0a2e_9444_11ea_9c69_75821ec809dfrow2_col0\" class=\"data row2 col0\" >Missing Values </td>\n",
       "                        <td id=\"T_132c0a2e_9444_11ea_9c69_75821ec809dfrow2_col1\" class=\"data row2 col1\" >False</td>\n",
       "            </tr>\n",
       "            <tr>\n",
       "                        <th id=\"T_132c0a2e_9444_11ea_9c69_75821ec809dflevel0_row3\" class=\"row_heading level0 row3\" >3</th>\n",
       "                        <td id=\"T_132c0a2e_9444_11ea_9c69_75821ec809dfrow3_col0\" class=\"data row3 col0\" >Numeric Features </td>\n",
       "                        <td id=\"T_132c0a2e_9444_11ea_9c69_75821ec809dfrow3_col1\" class=\"data row3 col1\" >1</td>\n",
       "            </tr>\n",
       "            <tr>\n",
       "                        <th id=\"T_132c0a2e_9444_11ea_9c69_75821ec809dflevel0_row4\" class=\"row_heading level0 row4\" >4</th>\n",
       "                        <td id=\"T_132c0a2e_9444_11ea_9c69_75821ec809dfrow4_col0\" class=\"data row4 col0\" >Categorical Features </td>\n",
       "                        <td id=\"T_132c0a2e_9444_11ea_9c69_75821ec809dfrow4_col1\" class=\"data row4 col1\" >4</td>\n",
       "            </tr>\n",
       "            <tr>\n",
       "                        <th id=\"T_132c0a2e_9444_11ea_9c69_75821ec809dflevel0_row5\" class=\"row_heading level0 row5\" >5</th>\n",
       "                        <td id=\"T_132c0a2e_9444_11ea_9c69_75821ec809dfrow5_col0\" class=\"data row5 col0\" >Ordinal Features </td>\n",
       "                        <td id=\"T_132c0a2e_9444_11ea_9c69_75821ec809dfrow5_col1\" class=\"data row5 col1\" >False</td>\n",
       "            </tr>\n",
       "            <tr>\n",
       "                        <th id=\"T_132c0a2e_9444_11ea_9c69_75821ec809dflevel0_row6\" class=\"row_heading level0 row6\" >6</th>\n",
       "                        <td id=\"T_132c0a2e_9444_11ea_9c69_75821ec809dfrow6_col0\" class=\"data row6 col0\" >High Cardinality Features </td>\n",
       "                        <td id=\"T_132c0a2e_9444_11ea_9c69_75821ec809dfrow6_col1\" class=\"data row6 col1\" >False</td>\n",
       "            </tr>\n",
       "            <tr>\n",
       "                        <th id=\"T_132c0a2e_9444_11ea_9c69_75821ec809dflevel0_row7\" class=\"row_heading level0 row7\" >7</th>\n",
       "                        <td id=\"T_132c0a2e_9444_11ea_9c69_75821ec809dfrow7_col0\" class=\"data row7 col0\" >Transformed Data </td>\n",
       "                        <td id=\"T_132c0a2e_9444_11ea_9c69_75821ec809dfrow7_col1\" class=\"data row7 col1\" >(234, 13)</td>\n",
       "            </tr>\n",
       "            <tr>\n",
       "                        <th id=\"T_132c0a2e_9444_11ea_9c69_75821ec809dflevel0_row8\" class=\"row_heading level0 row8\" >8</th>\n",
       "                        <td id=\"T_132c0a2e_9444_11ea_9c69_75821ec809dfrow8_col0\" class=\"data row8 col0\" >Numeric Imputer </td>\n",
       "                        <td id=\"T_132c0a2e_9444_11ea_9c69_75821ec809dfrow8_col1\" class=\"data row8 col1\" >mean</td>\n",
       "            </tr>\n",
       "            <tr>\n",
       "                        <th id=\"T_132c0a2e_9444_11ea_9c69_75821ec809dflevel0_row9\" class=\"row_heading level0 row9\" >9</th>\n",
       "                        <td id=\"T_132c0a2e_9444_11ea_9c69_75821ec809dfrow9_col0\" class=\"data row9 col0\" >Categorical Imputer </td>\n",
       "                        <td id=\"T_132c0a2e_9444_11ea_9c69_75821ec809dfrow9_col1\" class=\"data row9 col1\" >constant</td>\n",
       "            </tr>\n",
       "            <tr>\n",
       "                        <th id=\"T_132c0a2e_9444_11ea_9c69_75821ec809dflevel0_row10\" class=\"row_heading level0 row10\" >10</th>\n",
       "                        <td id=\"T_132c0a2e_9444_11ea_9c69_75821ec809dfrow10_col0\" class=\"data row10 col0\" >Normalize </td>\n",
       "                        <td id=\"T_132c0a2e_9444_11ea_9c69_75821ec809dfrow10_col1\" class=\"data row10 col1\" >False</td>\n",
       "            </tr>\n",
       "            <tr>\n",
       "                        <th id=\"T_132c0a2e_9444_11ea_9c69_75821ec809dflevel0_row11\" class=\"row_heading level0 row11\" >11</th>\n",
       "                        <td id=\"T_132c0a2e_9444_11ea_9c69_75821ec809dfrow11_col0\" class=\"data row11 col0\" >Normalize Method </td>\n",
       "                        <td id=\"T_132c0a2e_9444_11ea_9c69_75821ec809dfrow11_col1\" class=\"data row11 col1\" >None</td>\n",
       "            </tr>\n",
       "            <tr>\n",
       "                        <th id=\"T_132c0a2e_9444_11ea_9c69_75821ec809dflevel0_row12\" class=\"row_heading level0 row12\" >12</th>\n",
       "                        <td id=\"T_132c0a2e_9444_11ea_9c69_75821ec809dfrow12_col0\" class=\"data row12 col0\" >Transformation </td>\n",
       "                        <td id=\"T_132c0a2e_9444_11ea_9c69_75821ec809dfrow12_col1\" class=\"data row12 col1\" >False</td>\n",
       "            </tr>\n",
       "            <tr>\n",
       "                        <th id=\"T_132c0a2e_9444_11ea_9c69_75821ec809dflevel0_row13\" class=\"row_heading level0 row13\" >13</th>\n",
       "                        <td id=\"T_132c0a2e_9444_11ea_9c69_75821ec809dfrow13_col0\" class=\"data row13 col0\" >Transformation Method </td>\n",
       "                        <td id=\"T_132c0a2e_9444_11ea_9c69_75821ec809dfrow13_col1\" class=\"data row13 col1\" >None</td>\n",
       "            </tr>\n",
       "            <tr>\n",
       "                        <th id=\"T_132c0a2e_9444_11ea_9c69_75821ec809dflevel0_row14\" class=\"row_heading level0 row14\" >14</th>\n",
       "                        <td id=\"T_132c0a2e_9444_11ea_9c69_75821ec809dfrow14_col0\" class=\"data row14 col0\" >PCA </td>\n",
       "                        <td id=\"T_132c0a2e_9444_11ea_9c69_75821ec809dfrow14_col1\" class=\"data row14 col1\" >False</td>\n",
       "            </tr>\n",
       "            <tr>\n",
       "                        <th id=\"T_132c0a2e_9444_11ea_9c69_75821ec809dflevel0_row15\" class=\"row_heading level0 row15\" >15</th>\n",
       "                        <td id=\"T_132c0a2e_9444_11ea_9c69_75821ec809dfrow15_col0\" class=\"data row15 col0\" >PCA Method </td>\n",
       "                        <td id=\"T_132c0a2e_9444_11ea_9c69_75821ec809dfrow15_col1\" class=\"data row15 col1\" >None</td>\n",
       "            </tr>\n",
       "            <tr>\n",
       "                        <th id=\"T_132c0a2e_9444_11ea_9c69_75821ec809dflevel0_row16\" class=\"row_heading level0 row16\" >16</th>\n",
       "                        <td id=\"T_132c0a2e_9444_11ea_9c69_75821ec809dfrow16_col0\" class=\"data row16 col0\" >PCA components </td>\n",
       "                        <td id=\"T_132c0a2e_9444_11ea_9c69_75821ec809dfrow16_col1\" class=\"data row16 col1\" >None</td>\n",
       "            </tr>\n",
       "            <tr>\n",
       "                        <th id=\"T_132c0a2e_9444_11ea_9c69_75821ec809dflevel0_row17\" class=\"row_heading level0 row17\" >17</th>\n",
       "                        <td id=\"T_132c0a2e_9444_11ea_9c69_75821ec809dfrow17_col0\" class=\"data row17 col0\" >Ignore Low Variance </td>\n",
       "                        <td id=\"T_132c0a2e_9444_11ea_9c69_75821ec809dfrow17_col1\" class=\"data row17 col1\" >False</td>\n",
       "            </tr>\n",
       "            <tr>\n",
       "                        <th id=\"T_132c0a2e_9444_11ea_9c69_75821ec809dflevel0_row18\" class=\"row_heading level0 row18\" >18</th>\n",
       "                        <td id=\"T_132c0a2e_9444_11ea_9c69_75821ec809dfrow18_col0\" class=\"data row18 col0\" >Combine Rare Levels </td>\n",
       "                        <td id=\"T_132c0a2e_9444_11ea_9c69_75821ec809dfrow18_col1\" class=\"data row18 col1\" >False</td>\n",
       "            </tr>\n",
       "            <tr>\n",
       "                        <th id=\"T_132c0a2e_9444_11ea_9c69_75821ec809dflevel0_row19\" class=\"row_heading level0 row19\" >19</th>\n",
       "                        <td id=\"T_132c0a2e_9444_11ea_9c69_75821ec809dfrow19_col0\" class=\"data row19 col0\" >Rare Level Threshold </td>\n",
       "                        <td id=\"T_132c0a2e_9444_11ea_9c69_75821ec809dfrow19_col1\" class=\"data row19 col1\" >None</td>\n",
       "            </tr>\n",
       "            <tr>\n",
       "                        <th id=\"T_132c0a2e_9444_11ea_9c69_75821ec809dflevel0_row20\" class=\"row_heading level0 row20\" >20</th>\n",
       "                        <td id=\"T_132c0a2e_9444_11ea_9c69_75821ec809dfrow20_col0\" class=\"data row20 col0\" >Numeric Binning </td>\n",
       "                        <td id=\"T_132c0a2e_9444_11ea_9c69_75821ec809dfrow20_col1\" class=\"data row20 col1\" >False</td>\n",
       "            </tr>\n",
       "            <tr>\n",
       "                        <th id=\"T_132c0a2e_9444_11ea_9c69_75821ec809dflevel0_row21\" class=\"row_heading level0 row21\" >21</th>\n",
       "                        <td id=\"T_132c0a2e_9444_11ea_9c69_75821ec809dfrow21_col0\" class=\"data row21 col0\" >Remove Multicollinearity </td>\n",
       "                        <td id=\"T_132c0a2e_9444_11ea_9c69_75821ec809dfrow21_col1\" class=\"data row21 col1\" >False</td>\n",
       "            </tr>\n",
       "            <tr>\n",
       "                        <th id=\"T_132c0a2e_9444_11ea_9c69_75821ec809dflevel0_row22\" class=\"row_heading level0 row22\" >22</th>\n",
       "                        <td id=\"T_132c0a2e_9444_11ea_9c69_75821ec809dfrow22_col0\" class=\"data row22 col0\" >Multicollinearity Threshold </td>\n",
       "                        <td id=\"T_132c0a2e_9444_11ea_9c69_75821ec809dfrow22_col1\" class=\"data row22 col1\" >None</td>\n",
       "            </tr>\n",
       "            <tr>\n",
       "                        <th id=\"T_132c0a2e_9444_11ea_9c69_75821ec809dflevel0_row23\" class=\"row_heading level0 row23\" >23</th>\n",
       "                        <td id=\"T_132c0a2e_9444_11ea_9c69_75821ec809dfrow23_col0\" class=\"data row23 col0\" >Group Features </td>\n",
       "                        <td id=\"T_132c0a2e_9444_11ea_9c69_75821ec809dfrow23_col1\" class=\"data row23 col1\" >False</td>\n",
       "            </tr>\n",
       "    </tbody></table>"
      ],
      "text/plain": [
       "<pandas.io.formats.style.Styler at 0x7f0840b4dc10>"
      ]
     },
     "metadata": {},
     "output_type": "display_data"
    }
   ],
   "source": [
    "from pycaret.anomaly import *\n",
    "#intialize the setup\n",
    "exp_ano = setup(df)"
   ]
  },
  {
   "cell_type": "code",
   "execution_count": 5,
   "metadata": {},
   "outputs": [],
   "source": [
    "knn = create_model('knn')"
   ]
  },
  {
   "cell_type": "code",
   "execution_count": 6,
   "metadata": {},
   "outputs": [
    {
     "data": {
      "text/html": [
       "<div>\n",
       "<style scoped>\n",
       "    .dataframe tbody tr th:only-of-type {\n",
       "        vertical-align: middle;\n",
       "    }\n",
       "\n",
       "    .dataframe tbody tr th {\n",
       "        vertical-align: top;\n",
       "    }\n",
       "\n",
       "    .dataframe thead th {\n",
       "        text-align: right;\n",
       "    }\n",
       "</style>\n",
       "<table border=\"1\" class=\"dataframe\">\n",
       "  <thead>\n",
       "    <tr style=\"text-align: right;\">\n",
       "      <th></th>\n",
       "      <th>target</th>\n",
       "      <th>tumor size</th>\n",
       "      <th>node status of the tumor</th>\n",
       "      <th>Age of the patient</th>\n",
       "      <th>tumor grade</th>\n",
       "      <th>Label</th>\n",
       "      <th>Score</th>\n",
       "    </tr>\n",
       "  </thead>\n",
       "  <tbody>\n",
       "    <tr>\n",
       "      <th>0</th>\n",
       "      <td>0</td>\n",
       "      <td>2</td>\n",
       "      <td>1</td>\n",
       "      <td>60</td>\n",
       "      <td>3</td>\n",
       "      <td>0</td>\n",
       "      <td>1.414214</td>\n",
       "    </tr>\n",
       "    <tr>\n",
       "      <th>1</th>\n",
       "      <td>0</td>\n",
       "      <td>1</td>\n",
       "      <td>1</td>\n",
       "      <td>55</td>\n",
       "      <td>2</td>\n",
       "      <td>0</td>\n",
       "      <td>2.000000</td>\n",
       "    </tr>\n",
       "    <tr>\n",
       "      <th>2</th>\n",
       "      <td>0</td>\n",
       "      <td>1</td>\n",
       "      <td>1</td>\n",
       "      <td>33</td>\n",
       "      <td>3</td>\n",
       "      <td>0</td>\n",
       "      <td>2.449490</td>\n",
       "    </tr>\n",
       "    <tr>\n",
       "      <th>3</th>\n",
       "      <td>0</td>\n",
       "      <td>1</td>\n",
       "      <td>1</td>\n",
       "      <td>67</td>\n",
       "      <td>2</td>\n",
       "      <td>0</td>\n",
       "      <td>2.236068</td>\n",
       "    </tr>\n",
       "    <tr>\n",
       "      <th>4</th>\n",
       "      <td>0</td>\n",
       "      <td>1</td>\n",
       "      <td>1</td>\n",
       "      <td>47</td>\n",
       "      <td>2</td>\n",
       "      <td>0</td>\n",
       "      <td>1.732051</td>\n",
       "    </tr>\n",
       "    <tr>\n",
       "      <th>...</th>\n",
       "      <td>...</td>\n",
       "      <td>...</td>\n",
       "      <td>...</td>\n",
       "      <td>...</td>\n",
       "      <td>...</td>\n",
       "      <td>...</td>\n",
       "      <td>...</td>\n",
       "    </tr>\n",
       "    <tr>\n",
       "      <th>229</th>\n",
       "      <td>1</td>\n",
       "      <td>2</td>\n",
       "      <td>2</td>\n",
       "      <td>55</td>\n",
       "      <td>2</td>\n",
       "      <td>0</td>\n",
       "      <td>2.236068</td>\n",
       "    </tr>\n",
       "    <tr>\n",
       "      <th>230</th>\n",
       "      <td>1</td>\n",
       "      <td>3</td>\n",
       "      <td>2</td>\n",
       "      <td>45</td>\n",
       "      <td>2</td>\n",
       "      <td>0</td>\n",
       "      <td>2.236068</td>\n",
       "    </tr>\n",
       "    <tr>\n",
       "      <th>231</th>\n",
       "      <td>1</td>\n",
       "      <td>3</td>\n",
       "      <td>2</td>\n",
       "      <td>37</td>\n",
       "      <td>3</td>\n",
       "      <td>0</td>\n",
       "      <td>2.236068</td>\n",
       "    </tr>\n",
       "    <tr>\n",
       "      <th>232</th>\n",
       "      <td>1</td>\n",
       "      <td>3</td>\n",
       "      <td>2</td>\n",
       "      <td>58</td>\n",
       "      <td>2</td>\n",
       "      <td>0</td>\n",
       "      <td>2.449490</td>\n",
       "    </tr>\n",
       "    <tr>\n",
       "      <th>233</th>\n",
       "      <td>1</td>\n",
       "      <td>1</td>\n",
       "      <td>1</td>\n",
       "      <td>52</td>\n",
       "      <td>2</td>\n",
       "      <td>0</td>\n",
       "      <td>2.236068</td>\n",
       "    </tr>\n",
       "  </tbody>\n",
       "</table>\n",
       "<p>234 rows × 7 columns</p>\n",
       "</div>"
      ],
      "text/plain": [
       "     target  tumor size  node status of the tumor  Age of the patient  \\\n",
       "0         0           2                         1                  60   \n",
       "1         0           1                         1                  55   \n",
       "2         0           1                         1                  33   \n",
       "3         0           1                         1                  67   \n",
       "4         0           1                         1                  47   \n",
       "..      ...         ...                       ...                 ...   \n",
       "229       1           2                         2                  55   \n",
       "230       1           3                         2                  45   \n",
       "231       1           3                         2                  37   \n",
       "232       1           3                         2                  58   \n",
       "233       1           1                         1                  52   \n",
       "\n",
       "     tumor grade  Label     Score  \n",
       "0              3      0  1.414214  \n",
       "1              2      0  2.000000  \n",
       "2              3      0  2.449490  \n",
       "3              2      0  2.236068  \n",
       "4              2      0  1.732051  \n",
       "..           ...    ...       ...  \n",
       "229            2      0  2.236068  \n",
       "230            2      0  2.236068  \n",
       "231            3      0  2.236068  \n",
       "232            2      0  2.449490  \n",
       "233            2      0  2.236068  \n",
       "\n",
       "[234 rows x 7 columns]"
      ]
     },
     "execution_count": 6,
     "metadata": {},
     "output_type": "execute_result"
    }
   ],
   "source": [
    "knn_df = assign_model(knn)\n",
    "knn_df"
   ]
  },
  {
   "cell_type": "code",
   "execution_count": 7,
   "metadata": {},
   "outputs": [
    {
     "data": {
      "text/html": [
       "        <script type=\"text/javascript\">\n",
       "        window.PlotlyConfig = {MathJaxConfig: 'local'};\n",
       "        if (window.MathJax) {MathJax.Hub.Config({SVG: {font: \"STIX-Web\"}});}\n",
       "        if (typeof require !== 'undefined') {\n",
       "        require.undef(\"plotly\");\n",
       "        requirejs.config({\n",
       "            paths: {\n",
       "                'plotly': ['https://cdn.plot.ly/plotly-latest.min']\n",
       "            }\n",
       "        });\n",
       "        require(['plotly'], function(Plotly) {\n",
       "            window._Plotly = Plotly;\n",
       "        });\n",
       "        }\n",
       "        </script>\n",
       "        "
      ]
     },
     "metadata": {},
     "output_type": "display_data"
    },
    {
     "data": {
      "application/vnd.plotly.v1+json": {
       "config": {
        "plotlyServerURL": "https://plot.ly"
       },
       "data": [
        {
         "customdata": [
          [
           0
          ],
          [
           0
          ],
          [
           0
          ],
          [
           0
          ],
          [
           0
          ],
          [
           0
          ],
          [
           0
          ],
          [
           0
          ],
          [
           0
          ],
          [
           0
          ],
          [
           0
          ],
          [
           0
          ],
          [
           0
          ],
          [
           0
          ],
          [
           0
          ],
          [
           0
          ],
          [
           0
          ],
          [
           0
          ],
          [
           0
          ],
          [
           0
          ],
          [
           0
          ],
          [
           0
          ],
          [
           0
          ],
          [
           0
          ],
          [
           0
          ],
          [
           0
          ],
          [
           0
          ],
          [
           0
          ],
          [
           0
          ],
          [
           0
          ],
          [
           0
          ],
          [
           0
          ],
          [
           0
          ],
          [
           0
          ],
          [
           0
          ],
          [
           0
          ],
          [
           0
          ],
          [
           0
          ],
          [
           0
          ],
          [
           0
          ],
          [
           0
          ],
          [
           0
          ],
          [
           0
          ],
          [
           0
          ],
          [
           0
          ],
          [
           0
          ],
          [
           0
          ],
          [
           0
          ],
          [
           0
          ],
          [
           0
          ],
          [
           0
          ],
          [
           0
          ],
          [
           0
          ],
          [
           0
          ],
          [
           0
          ],
          [
           0
          ],
          [
           0
          ],
          [
           0
          ],
          [
           0
          ],
          [
           0
          ],
          [
           0
          ],
          [
           0
          ],
          [
           0
          ],
          [
           0
          ],
          [
           0
          ],
          [
           0
          ],
          [
           0
          ],
          [
           0
          ],
          [
           0
          ],
          [
           0
          ],
          [
           0
          ],
          [
           0
          ],
          [
           0
          ],
          [
           0
          ],
          [
           0
          ],
          [
           0
          ],
          [
           0
          ],
          [
           0
          ],
          [
           0
          ],
          [
           0
          ],
          [
           0
          ],
          [
           0
          ],
          [
           0
          ],
          [
           0
          ],
          [
           0
          ],
          [
           0
          ],
          [
           0
          ],
          [
           0
          ],
          [
           0
          ],
          [
           0
          ],
          [
           0
          ],
          [
           0
          ],
          [
           0
          ],
          [
           0
          ],
          [
           0
          ],
          [
           0
          ],
          [
           0
          ],
          [
           0
          ],
          [
           0
          ],
          [
           0
          ],
          [
           0
          ],
          [
           0
          ],
          [
           0
          ],
          [
           0
          ],
          [
           0
          ],
          [
           0
          ],
          [
           0
          ],
          [
           0
          ],
          [
           0
          ],
          [
           0
          ],
          [
           0
          ],
          [
           0
          ],
          [
           0
          ],
          [
           0
          ],
          [
           0
          ],
          [
           0
          ],
          [
           0
          ],
          [
           0
          ],
          [
           0
          ],
          [
           0
          ],
          [
           0
          ],
          [
           0
          ],
          [
           0
          ],
          [
           0
          ],
          [
           0
          ],
          [
           0
          ],
          [
           0
          ],
          [
           0
          ],
          [
           0
          ],
          [
           0
          ],
          [
           0
          ],
          [
           0
          ],
          [
           0
          ],
          [
           0
          ],
          [
           0
          ],
          [
           0
          ],
          [
           0
          ],
          [
           0
          ],
          [
           0
          ],
          [
           0
          ],
          [
           0
          ],
          [
           0
          ],
          [
           0
          ],
          [
           0
          ],
          [
           0
          ],
          [
           0
          ],
          [
           0
          ],
          [
           0
          ],
          [
           0
          ],
          [
           0
          ],
          [
           0
          ],
          [
           0
          ],
          [
           0
          ],
          [
           0
          ],
          [
           0
          ],
          [
           0
          ],
          [
           0
          ],
          [
           0
          ],
          [
           0
          ],
          [
           0
          ],
          [
           0
          ],
          [
           0
          ],
          [
           0
          ],
          [
           0
          ],
          [
           0
          ],
          [
           0
          ],
          [
           0
          ],
          [
           0
          ],
          [
           0
          ],
          [
           0
          ],
          [
           0
          ],
          [
           0
          ],
          [
           0
          ],
          [
           0
          ],
          [
           0
          ],
          [
           0
          ],
          [
           0
          ],
          [
           0
          ],
          [
           0
          ],
          [
           0
          ],
          [
           0
          ],
          [
           0
          ],
          [
           0
          ],
          [
           0
          ],
          [
           0
          ],
          [
           0
          ],
          [
           0
          ],
          [
           0
          ],
          [
           0
          ],
          [
           0
          ],
          [
           0
          ],
          [
           1
          ],
          [
           1
          ],
          [
           1
          ],
          [
           1
          ],
          [
           1
          ],
          [
           1
          ],
          [
           1
          ],
          [
           1
          ],
          [
           1
          ],
          [
           1
          ],
          [
           1
          ],
          [
           1
          ],
          [
           1
          ],
          [
           1
          ],
          [
           1
          ],
          [
           1
          ],
          [
           1
          ],
          [
           1
          ],
          [
           1
          ],
          [
           1
          ],
          [
           1
          ],
          [
           1
          ],
          [
           1
          ],
          [
           1
          ],
          [
           1
          ],
          [
           1
          ],
          [
           1
          ],
          [
           1
          ],
          [
           1
          ],
          [
           1
          ],
          [
           1
          ],
          [
           1
          ],
          [
           1
          ],
          [
           1
          ],
          [
           1
          ],
          [
           1
          ],
          [
           1
          ],
          [
           1
          ],
          [
           1
          ],
          [
           1
          ],
          [
           1
          ],
          [
           1
          ],
          [
           1
          ]
         ],
         "hoverlabel": {
          "namelength": 0
         },
         "hovertemplate": "0=%{x}<br>1=%{y}<br>2=%{z}<br>Feature=%{customdata[0]}<br>Label=%{marker.color}",
         "legendgroup": "",
         "marker": {
          "color": [
           0,
           0,
           0,
           0,
           0,
           0,
           0,
           1,
           0,
           0,
           0,
           0,
           0,
           0,
           0,
           0,
           0,
           0,
           0,
           0,
           0,
           0,
           0,
           0,
           0,
           1,
           0,
           0,
           0,
           0,
           0,
           0,
           0,
           0,
           0,
           0,
           0,
           0,
           0,
           0,
           0,
           0,
           0,
           0,
           0,
           0,
           0,
           0,
           0,
           0,
           0,
           0,
           0,
           0,
           0,
           0,
           0,
           0,
           0,
           0,
           0,
           0,
           0,
           0,
           0,
           0,
           0,
           0,
           0,
           0,
           0,
           1,
           0,
           0,
           0,
           0,
           1,
           0,
           0,
           0,
           0,
           0,
           0,
           0,
           0,
           0,
           0,
           0,
           0,
           0,
           0,
           0,
           0,
           0,
           0,
           0,
           0,
           0,
           0,
           0,
           0,
           0,
           0,
           0,
           0,
           0,
           0,
           0,
           0,
           0,
           0,
           0,
           0,
           0,
           0,
           0,
           0,
           1,
           0,
           0,
           0,
           0,
           0,
           0,
           0,
           0,
           0,
           0,
           0,
           0,
           0,
           0,
           0,
           0,
           0,
           0,
           0,
           0,
           0,
           0,
           0,
           0,
           0,
           0,
           0,
           0,
           0,
           1,
           0,
           1,
           0,
           0,
           0,
           0,
           0,
           0,
           0,
           0,
           0,
           0,
           0,
           0,
           0,
           0,
           0,
           0,
           0,
           0,
           0,
           0,
           0,
           1,
           0,
           0,
           1,
           0,
           0,
           0,
           0,
           0,
           0,
           0,
           0,
           0,
           0,
           0,
           0,
           0,
           0,
           0,
           1,
           0,
           0,
           0,
           0,
           0,
           0,
           0,
           0,
           0,
           0,
           0,
           0,
           0,
           0,
           0,
           0,
           0,
           0,
           0,
           0,
           0,
           0,
           0,
           0,
           0,
           0,
           0,
           0,
           0,
           0,
           0,
           0,
           0,
           0,
           0,
           0,
           0,
           1,
           0,
           0,
           0,
           0,
           0
          ],
          "coloraxis": "coloraxis",
          "opacity": 0.7,
          "symbol": "circle"
         },
         "mode": "markers",
         "name": "",
         "scene": "scene",
         "showlegend": false,
         "type": "scatter3d",
         "x": [
          9.806793212890625,
          -41.214900970458984,
          8.328058242797852,
          -74.73785400390625,
          23.48882484436035,
          89.37236785888672,
          -37.86363983154297,
          -12.442811965942383,
          -84.5925521850586,
          131.83775329589844,
          10.282601356506348,
          44.76614761352539,
          24.349994659423828,
          0.9987800121307373,
          -17.599557876586914,
          -2.1006247997283936,
          -44.79075622558594,
          -34.47659683227539,
          29.245420455932617,
          -12.099699974060059,
          -119.78397369384766,
          122.3001480102539,
          -27.91310691833496,
          96.51927947998047,
          -59.678741455078125,
          -25.36985969543457,
          27.475906372070312,
          18.345632553100586,
          106.87637329101562,
          39.53070068359375,
          -19.14991569519043,
          -41.946712493896484,
          -79.06843566894531,
          -30.809814453125,
          58.31071853637695,
          39.16313552856445,
          -84.77621459960938,
          -46.478511810302734,
          3.187985420227051,
          95.68196105957031,
          57.692848205566406,
          -102.1584701538086,
          -106.76878356933594,
          95.91378784179688,
          -5.114720344543457,
          -38.88322448730469,
          -52.99201202392578,
          37.66428756713867,
          66.17789459228516,
          41.479400634765625,
          71.44839477539062,
          -45.96394729614258,
          -76.25086975097656,
          75.26822662353516,
          23.535526275634766,
          -20.228164672851562,
          53.392845153808594,
          -27.445194244384766,
          11.714641571044922,
          -94.96479034423828,
          54.41081619262695,
          54.35556411743164,
          57.99884033203125,
          -23.70378303527832,
          77.4014892578125,
          97.96123504638672,
          -97.99756622314453,
          -75.6119155883789,
          -66.78987121582031,
          34.34701156616211,
          -6.154521465301514,
          -48.60146713256836,
          -75.4366455078125,
          -10.544672966003418,
          17.98113250732422,
          36.810455322265625,
          -107.8514404296875,
          -32.23790740966797,
          58.98084259033203,
          57.31946563720703,
          -143.06594848632812,
          32.42544174194336,
          -36.10786437988281,
          -101.20328521728516,
          48.88396453857422,
          -29.018095016479492,
          74.71435546875,
          -32.978878021240234,
          57.81198501586914,
          -27.28668212890625,
          -68.16715240478516,
          -88.62042999267578,
          -18.034046173095703,
          -58.485504150390625,
          -51.95039367675781,
          -92.654296875,
          -63.79874801635742,
          -64.95297241210938,
          -42.58723449707031,
          10.968267440795898,
          -76.53225708007812,
          101.63356018066406,
          -78.9156723022461,
          -35.06086730957031,
          93.7763900756836,
          -91.31817626953125,
          3.8138484954833984,
          31.44367218017578,
          -117.76671600341797,
          67.66482543945312,
          -24.736183166503906,
          20.12565040588379,
          66.84869384765625,
          29.19064712524414,
          61.22129821777344,
          -145.57369995117188,
          -6.95634126663208,
          -18.470645904541016,
          72.72340393066406,
          34.41450119018555,
          20.65850067138672,
          -40.465755462646484,
          14.318511962890625,
          53.568328857421875,
          44.942222595214844,
          3.7958004474639893,
          90.36812591552734,
          78.33928680419922,
          26.60249137878418,
          116.56343841552734,
          -14.081191062927246,
          95.47030639648438,
          59.10762023925781,
          65.97099304199219,
          3.2036478519439697,
          79.16079711914062,
          -54.77254867553711,
          -42.813621520996094,
          40.363834381103516,
          -24.226804733276367,
          -16.12998390197754,
          81.28974914550781,
          -65.67503356933594,
          8.62105941772461,
          39.62006759643555,
          20.737443923950195,
          107.41799926757812,
          -38.87388229370117,
          -94.7357177734375,
          2.847470998764038,
          -3.2568461894989014,
          1.3899576663970947,
          -53.062435150146484,
          29.503931045532227,
          27.350893020629883,
          -83.70327758789062,
          7.660369396209717,
          135.88259887695312,
          110.57574462890625,
          14.898499488830566,
          -5.622546672821045,
          35.929405212402344,
          7.621924877166748,
          69.85672760009766,
          77.51921081542969,
          126.44140625,
          10.832195281982422,
          -37.6659049987793,
          26.371688842773438,
          8.422500610351562,
          -16.554401397705078,
          -3.95587420463562,
          -4.582313537597656,
          27.76517105102539,
          -92.03453063964844,
          -71.4334716796875,
          -24.11751937866211,
          -21.278806686401367,
          88.8718032836914,
          25.895071029663086,
          -28.215633392333984,
          0.19098809361457825,
          125.93793487548828,
          35.016544342041016,
          11.467923164367676,
          53.01211929321289,
          96.29576873779297,
          -34.20100402832031,
          -46.17095947265625,
          97.49394226074219,
          -129.77401733398438,
          -17.861888885498047,
          2.4673688411712646,
          -104.08997344970703,
          -31.27216148376465,
          -73.59542083740234,
          -83.17080688476562,
          84.15023040771484,
          -49.06013107299805,
          85.50855255126953,
          -56.87457275390625,
          105.97908020019531,
          -115.92657470703125,
          -66.186767578125,
          25.44338035583496,
          -40.335723876953125,
          136.7998504638672,
          -60.47954177856445,
          -69.08866119384766,
          5.402535438537598,
          -29.04528045654297,
          -101.98436737060547,
          48.051963806152344,
          -2.9830989837646484,
          135.1275177001953,
          3.4703056812286377,
          7.0071587562561035,
          -6.864190101623535,
          111.40876770019531,
          -63.32658004760742,
          145.8471221923828,
          -92.52532958984375,
          106.84953308105469,
          -0.5282715559005737,
          -54.757930755615234,
          -98.17235565185547,
          -53.88603973388672,
          7.700570106506348,
          -52.76544189453125,
          -85.51554870605469,
          -6.573402404785156,
          -37.962745666503906,
          -99.40498352050781,
          28.451189041137695
         ],
         "y": [
          28.710411071777344,
          -59.16351318359375,
          42.726951599121094,
          122.44993591308594,
          -18.79302215576172,
          83.13868713378906,
          52.6700439453125,
          112.49108123779297,
          90.13732147216797,
          -80.48150634765625,
          44.536827087402344,
          2.1302688121795654,
          -43.888641357421875,
          -1.3418197631835938,
          -37.252140045166016,
          105.02003479003906,
          -35.91896057128906,
          -59.706825256347656,
          29.897863388061523,
          60.62680435180664,
          111.36080932617188,
          -21.091041564941406,
          -122.87459564208984,
          -47.665870666503906,
          -117.04643249511719,
          67.6365966796875,
          96.13238525390625,
          16.48586082458496,
          34.438899993896484,
          51.757957458496094,
          27.5457820892334,
          -7.6205925941467285,
          10.408020973205566,
          -119.82886505126953,
          -104.70086669921875,
          5.395357608795166,
          6.791272163391113,
          25.227237701416016,
          10.970648765563965,
          -7.791532516479492,
          -65.41617584228516,
          -108.66542053222656,
          -32.00010299682617,
          -4.255386829376221,
          134.60418701171875,
          88.34144592285156,
          -129.1214141845703,
          -119.71145629882812,
          39.88500213623047,
          47.17420959472656,
          65.5777359008789,
          -95.82849884033203,
          -21.162643432617188,
          -1.1553250551223755,
          74.51779174804688,
          32.3759880065918,
          -11.319849967956543,
          -15.863391876220703,
          -68.34432220458984,
          96.93468475341797,
          10.537249565124512,
          85.48706817626953,
          -66.48613739013672,
          3.0311551094055176,
          -90.39710998535156,
          49.356712341308594,
          -17.560916900634766,
          -46.52479934692383,
          -75.62667846679688,
          -78.75907897949219,
          -104.73348236083984,
          72.76447296142578,
          -14.225116729736328,
          60.296634674072266,
          -90.1363754272461,
          -71.34646606445312,
          71.66446685791016,
          -74.7167739868164,
          -22.875221252441406,
          84.3540267944336,
          -55.241798400878906,
          -86.5027847290039,
          -64.02997589111328,
          116.89581298828125,
          13.64348030090332,
          -53.52141189575195,
          100.97477722167969,
          16.21092414855957,
          20.086336135864258,
          52.544189453125,
          -48.97394943237305,
          -66.50306701660156,
          -6.24186897277832,
          -47.927677154541016,
          -107.53829193115234,
          -68.5387191772461,
          -81.3794937133789,
          66.36360931396484,
          53.45293045043945,
          23.079240798950195,
          -97.10909271240234,
          -40.9616813659668,
          69.7900390625,
          -112.78206634521484,
          -28.346712112426758,
          100.97014617919922,
          7.087432861328125,
          -96.34202575683594,
          -52.22787857055664,
          -79.52165222167969,
          92.34784698486328,
          -19.00440788269043,
          31.761045455932617,
          -31.88107681274414,
          -40.4045295715332,
          -2.0375335216522217,
          -105.10537719726562,
          64.581298828125,
          119.9632568359375,
          83.6213150024414,
          80.2803726196289,
          -91.38951110839844,
          76.89865112304688,
          57.82075881958008,
          77.19493103027344,
          29.949459075927734,
          -64.3397445678711,
          -8.621028900146484,
          48.5068244934082,
          -104.41378021240234,
          13.491385459899902,
          17.243221282958984,
          -19.827672958374023,
          0.8581161499023438,
          -9.40576171875,
          -25.417652130126953,
          24.16847038269043,
          60.686546325683594,
          -109.43910217285156,
          16.52210235595703,
          -124.33296203613281,
          131.48391723632812,
          1.4273685216903687,
          7.094618797302246,
          -26.1887149810791,
          -104.86505126953125,
          1.349605917930603,
          95.01817321777344,
          -38.50336837768555,
          83.94625854492188,
          9.026315689086914,
          50.15594482421875,
          84.3070297241211,
          -24.880144119262695,
          20.087568283081055,
          32.06682205200195,
          73.74330139160156,
          21.496809005737305,
          -18.275964736938477,
          -43.59580993652344,
          -129.60850524902344,
          -51.78244400024414,
          55.26433181762695,
          59.92597579956055,
          -88.61466979980469,
          26.83396339416504,
          -128.7572479248047,
          -4.520262718200684,
          -59.318965911865234,
          -117.04212188720703,
          -150.53060913085938,
          89.21265411376953,
          37.469093322753906,
          -2.735024929046631,
          130.78648376464844,
          113.04303741455078,
          -19.414865493774414,
          9.161609649658203,
          33.01493453979492,
          -146.16061401367188,
          83.59293365478516,
          -62.888519287109375,
          47.55098342895508,
          110.33221435546875,
          33.376953125,
          64.78571319580078,
          20.13306999206543,
          36.36506271362305,
          -15.656776428222656,
          60.328983306884766,
          75.53387451171875,
          32.25202178955078,
          28.38991355895996,
          -70.72450256347656,
          -88.89006805419922,
          37.168453216552734,
          -93.46554565429688,
          64.06644439697266,
          18.80693244934082,
          92.11426544189453,
          35.64884567260742,
          1.25697922706604,
          86.01805114746094,
          66.32108306884766,
          48.0308952331543,
          -11.740760803222656,
          -2.5670549869537354,
          -10.875452995300293,
          -9.60693645477295,
          -22.087379455566406,
          76.25688934326172,
          -3.4084787368774414,
          -20.762435913085938,
          -40.36292266845703,
          61.468902587890625,
          -71.61187744140625,
          -18.26579475402832,
          -163.8112030029297,
          82.39025115966797,
          99.75816345214844,
          -26.036964416503906,
          66.57315063476562,
          -28.766433715820312,
          -147.81698608398438,
          97.8145523071289,
          53.83890151977539,
          -141.5069122314453,
          -57.455081939697266,
          136.838623046875,
          -120.92687225341797,
          57.31538391113281,
          14.111052513122559,
          -11.64785099029541,
          -156.51370239257812
         ],
         "z": [
          -77.53347778320312,
          -12.086507797241211,
          124.92959594726562,
          -45.63913345336914,
          -32.2783317565918,
          72.05879974365234,
          12.173677444458008,
          111.62004089355469,
          -66.70777893066406,
          -3.3539021015167236,
          -111.45963287353516,
          130.4481658935547,
          32.15180587768555,
          -64.45384216308594,
          38.0954704284668,
          -34.21692657470703,
          -34.30827331542969,
          -111.3770751953125,
          153.60824584960938,
          52.891056060791016,
          -21.89984893798828,
          29.010774612426758,
          -46.78731155395508,
          -81.2360610961914,
          3.5059056282043457,
          145.49081420898438,
          -80.80329895019531,
          59.647499084472656,
          21.264734268188477,
          21.927936553955078,
          -63.64271926879883,
          38.91572570800781,
          74.76667022705078,
          13.648780822753906,
          -18.11823272705078,
          12.707571983337402,
          -37.730350494384766,
          -63.70582580566406,
          160.4755859375,
          -88.05917358398438,
          -45.554019927978516,
          38.226200103759766,
          -39.927555084228516,
          17.660051345825195,
          8.01343822479248,
          28.541654586791992,
          -68.44329071044922,
          -3.148729085922241,
          33.03535461425781,
          129.14620971679688,
          44.7453727722168,
          -7.922311305999756,
          -45.9767951965332,
          -40.09307098388672,
          133.4191131591797,
          -93.36126708984375,
          40.7093391418457,
          13.315346717834473,
          100.70182800292969,
          -34.93456268310547,
          94.32693481445312,
          9.797232627868652,
          -15.238553047180176,
          -82.22846984863281,
          -35.7694206237793,
          44.94697189331055,
          -15.648651123046875,
          -29.100683212280273,
          -37.494529724121094,
          -26.866239547729492,
          -5.315340518951416,
          99.00051879882812,
          -128.45834350585938,
          -89.43119812011719,
          -50.6632080078125,
          34.28151321411133,
          -2.026498556137085,
          -35.57400894165039,
          109.60909271240234,
          73.93683624267578,
          -53.1218376159668,
          11.391257286071777,
          85.93782043457031,
          -63.91613006591797,
          -35.814327239990234,
          -63.89223861694336,
          -34.822731018066406,
          9.288817405700684,
          -6.454455852508545,
          -120.73149108886719,
          9.533097267150879,
          10.527584075927734,
          137.6452178955078,
          -64.7657699584961,
          -41.389198303222656,
          -65.20781707763672,
          49.05265808105469,
          -67.31883239746094,
          -89.76599884033203,
          -36.53614807128906,
          -62.42582702636719,
          19.885587692260742,
          -38.15911102294922,
          79.41510009765625,
          -32.34807205200195,
          -1.7358381748199463,
          -97.49519348144531,
          -80.48619079589844,
          -3.823141098022461,
          91.67485809326172,
          89.42706298828125,
          143.95321655273438,
          -97.62885284423828,
          97.08755493164062,
          11.11984634399414,
          -41.54242706298828,
          -41.38618850708008,
          114.87052154541016,
          53.66522979736328,
          -25.038135528564453,
          10.346022605895996,
          -67.77656555175781,
          72.4764404296875,
          -3.9232537746429443,
          38.26988220214844,
          35.11021041870117,
          -23.700101852416992,
          -7.44008207321167,
          49.05747604370117,
          -48.187889099121094,
          57.295745849609375,
          39.67585372924805,
          -25.225553512573242,
          19.325706481933594,
          63.182708740234375,
          41.95131301879883,
          -35.14491653442383,
          -44.87352752685547,
          -46.21245574951172,
          -117.40067291259766,
          -76.43730163574219,
          3.6872000694274902,
          17.913944244384766,
          130.18661499023438,
          -91.25088500976562,
          -24.177753448486328,
          -31.500015258789062,
          119.30345916748047,
          -72.04920959472656,
          107.8793716430664,
          93.40554809570312,
          -47.597965240478516,
          -88.65352630615234,
          -0.2855830788612366,
          110.0823745727539,
          39.57441329956055,
          35.62209701538086,
          21.080459594726562,
          -8.257981300354004,
          -109.19812774658203,
          -25.21522331237793,
          4.0058465003967285,
          154.55953979492188,
          88.49264526367188,
          4.001986503601074,
          51.0817985534668,
          -54.90278625488281,
          -56.26723098754883,
          -54.649436950683594,
          22.624452590942383,
          -51.09285354614258,
          140.57806396484375,
          76.41011810302734,
          88.24749755859375,
          -16.048229217529297,
          -82.79940032958984,
          84.98599243164062,
          -30.599864959716797,
          71.72328186035156,
          -32.77582550048828,
          -108.070556640625,
          44.2731819152832,
          -3.012362003326416,
          28.664907455444336,
          -2.4238035678863525,
          -49.707027435302734,
          -6.862823486328125,
          67.7198257446289,
          123.15999603271484,
          -43.13507080078125,
          -25.230266571044922,
          141.81411743164062,
          -153.19854736328125,
          -30.379091262817383,
          25.961023330688477,
          -88.04901885986328,
          -13.338664054870605,
          14.40727424621582,
          -94.66100311279297,
          23.58838653564453,
          -117.9227066040039,
          67.83097839355469,
          -60.629066467285156,
          -110.97766876220703,
          83.28691864013672,
          -103.10684204101562,
          -21.136720657348633,
          -19.39422035217285,
          -77.62606811523438,
          115.2464828491211,
          -70.30825805664062,
          -65.21920776367188,
          -57.58191680908203,
          3.5016536712646484,
          28.205732345581055,
          3.173393964767456,
          23.926006317138672,
          -14.466218948364258,
          47.18513107299805,
          -18.916439056396484,
          -3.5685527324676514,
          -92.85508728027344,
          107.32462310791016,
          7.467639923095703,
          -53.605567932128906,
          -63.656410217285156,
          -26.131614685058594,
          -31.81373405456543,
          -17.954120635986328,
          -24.691978454589844,
          -8.803560256958008,
          96.90780639648438,
          -97.72500610351562,
          2.5114076137542725
         ]
        }
       ],
       "layout": {
        "coloraxis": {
         "colorbar": {
          "title": {
           "text": "Label"
          }
         },
         "colorscale": [
          [
           0,
           "#0d0887"
          ],
          [
           0.1111111111111111,
           "#46039f"
          ],
          [
           0.2222222222222222,
           "#7201a8"
          ],
          [
           0.3333333333333333,
           "#9c179e"
          ],
          [
           0.4444444444444444,
           "#bd3786"
          ],
          [
           0.5555555555555556,
           "#d8576b"
          ],
          [
           0.6666666666666666,
           "#ed7953"
          ],
          [
           0.7777777777777778,
           "#fb9f3a"
          ],
          [
           0.8888888888888888,
           "#fdca26"
          ],
          [
           1,
           "#f0f921"
          ]
         ]
        },
        "height": 800,
        "legend": {
         "tracegroupgap": 0
        },
        "scene": {
         "domain": {
          "x": [
           0,
           1
          ],
          "y": [
           0,
           1
          ]
         },
         "xaxis": {
          "title": {
           "text": "0"
          }
         },
         "yaxis": {
          "title": {
           "text": "1"
          }
         },
         "zaxis": {
          "title": {
           "text": "2"
          }
         }
        },
        "template": {
         "data": {
          "bar": [
           {
            "error_x": {
             "color": "#2a3f5f"
            },
            "error_y": {
             "color": "#2a3f5f"
            },
            "marker": {
             "line": {
              "color": "#E5ECF6",
              "width": 0.5
             }
            },
            "type": "bar"
           }
          ],
          "barpolar": [
           {
            "marker": {
             "line": {
              "color": "#E5ECF6",
              "width": 0.5
             }
            },
            "type": "barpolar"
           }
          ],
          "carpet": [
           {
            "aaxis": {
             "endlinecolor": "#2a3f5f",
             "gridcolor": "white",
             "linecolor": "white",
             "minorgridcolor": "white",
             "startlinecolor": "#2a3f5f"
            },
            "baxis": {
             "endlinecolor": "#2a3f5f",
             "gridcolor": "white",
             "linecolor": "white",
             "minorgridcolor": "white",
             "startlinecolor": "#2a3f5f"
            },
            "type": "carpet"
           }
          ],
          "choropleth": [
           {
            "colorbar": {
             "outlinewidth": 0,
             "ticks": ""
            },
            "type": "choropleth"
           }
          ],
          "contour": [
           {
            "colorbar": {
             "outlinewidth": 0,
             "ticks": ""
            },
            "colorscale": [
             [
              0,
              "#0d0887"
             ],
             [
              0.1111111111111111,
              "#46039f"
             ],
             [
              0.2222222222222222,
              "#7201a8"
             ],
             [
              0.3333333333333333,
              "#9c179e"
             ],
             [
              0.4444444444444444,
              "#bd3786"
             ],
             [
              0.5555555555555556,
              "#d8576b"
             ],
             [
              0.6666666666666666,
              "#ed7953"
             ],
             [
              0.7777777777777778,
              "#fb9f3a"
             ],
             [
              0.8888888888888888,
              "#fdca26"
             ],
             [
              1,
              "#f0f921"
             ]
            ],
            "type": "contour"
           }
          ],
          "contourcarpet": [
           {
            "colorbar": {
             "outlinewidth": 0,
             "ticks": ""
            },
            "type": "contourcarpet"
           }
          ],
          "heatmap": [
           {
            "colorbar": {
             "outlinewidth": 0,
             "ticks": ""
            },
            "colorscale": [
             [
              0,
              "#0d0887"
             ],
             [
              0.1111111111111111,
              "#46039f"
             ],
             [
              0.2222222222222222,
              "#7201a8"
             ],
             [
              0.3333333333333333,
              "#9c179e"
             ],
             [
              0.4444444444444444,
              "#bd3786"
             ],
             [
              0.5555555555555556,
              "#d8576b"
             ],
             [
              0.6666666666666666,
              "#ed7953"
             ],
             [
              0.7777777777777778,
              "#fb9f3a"
             ],
             [
              0.8888888888888888,
              "#fdca26"
             ],
             [
              1,
              "#f0f921"
             ]
            ],
            "type": "heatmap"
           }
          ],
          "heatmapgl": [
           {
            "colorbar": {
             "outlinewidth": 0,
             "ticks": ""
            },
            "colorscale": [
             [
              0,
              "#0d0887"
             ],
             [
              0.1111111111111111,
              "#46039f"
             ],
             [
              0.2222222222222222,
              "#7201a8"
             ],
             [
              0.3333333333333333,
              "#9c179e"
             ],
             [
              0.4444444444444444,
              "#bd3786"
             ],
             [
              0.5555555555555556,
              "#d8576b"
             ],
             [
              0.6666666666666666,
              "#ed7953"
             ],
             [
              0.7777777777777778,
              "#fb9f3a"
             ],
             [
              0.8888888888888888,
              "#fdca26"
             ],
             [
              1,
              "#f0f921"
             ]
            ],
            "type": "heatmapgl"
           }
          ],
          "histogram": [
           {
            "marker": {
             "colorbar": {
              "outlinewidth": 0,
              "ticks": ""
             }
            },
            "type": "histogram"
           }
          ],
          "histogram2d": [
           {
            "colorbar": {
             "outlinewidth": 0,
             "ticks": ""
            },
            "colorscale": [
             [
              0,
              "#0d0887"
             ],
             [
              0.1111111111111111,
              "#46039f"
             ],
             [
              0.2222222222222222,
              "#7201a8"
             ],
             [
              0.3333333333333333,
              "#9c179e"
             ],
             [
              0.4444444444444444,
              "#bd3786"
             ],
             [
              0.5555555555555556,
              "#d8576b"
             ],
             [
              0.6666666666666666,
              "#ed7953"
             ],
             [
              0.7777777777777778,
              "#fb9f3a"
             ],
             [
              0.8888888888888888,
              "#fdca26"
             ],
             [
              1,
              "#f0f921"
             ]
            ],
            "type": "histogram2d"
           }
          ],
          "histogram2dcontour": [
           {
            "colorbar": {
             "outlinewidth": 0,
             "ticks": ""
            },
            "colorscale": [
             [
              0,
              "#0d0887"
             ],
             [
              0.1111111111111111,
              "#46039f"
             ],
             [
              0.2222222222222222,
              "#7201a8"
             ],
             [
              0.3333333333333333,
              "#9c179e"
             ],
             [
              0.4444444444444444,
              "#bd3786"
             ],
             [
              0.5555555555555556,
              "#d8576b"
             ],
             [
              0.6666666666666666,
              "#ed7953"
             ],
             [
              0.7777777777777778,
              "#fb9f3a"
             ],
             [
              0.8888888888888888,
              "#fdca26"
             ],
             [
              1,
              "#f0f921"
             ]
            ],
            "type": "histogram2dcontour"
           }
          ],
          "mesh3d": [
           {
            "colorbar": {
             "outlinewidth": 0,
             "ticks": ""
            },
            "type": "mesh3d"
           }
          ],
          "parcoords": [
           {
            "line": {
             "colorbar": {
              "outlinewidth": 0,
              "ticks": ""
             }
            },
            "type": "parcoords"
           }
          ],
          "pie": [
           {
            "automargin": true,
            "type": "pie"
           }
          ],
          "scatter": [
           {
            "marker": {
             "colorbar": {
              "outlinewidth": 0,
              "ticks": ""
             }
            },
            "type": "scatter"
           }
          ],
          "scatter3d": [
           {
            "line": {
             "colorbar": {
              "outlinewidth": 0,
              "ticks": ""
             }
            },
            "marker": {
             "colorbar": {
              "outlinewidth": 0,
              "ticks": ""
             }
            },
            "type": "scatter3d"
           }
          ],
          "scattercarpet": [
           {
            "marker": {
             "colorbar": {
              "outlinewidth": 0,
              "ticks": ""
             }
            },
            "type": "scattercarpet"
           }
          ],
          "scattergeo": [
           {
            "marker": {
             "colorbar": {
              "outlinewidth": 0,
              "ticks": ""
             }
            },
            "type": "scattergeo"
           }
          ],
          "scattergl": [
           {
            "marker": {
             "colorbar": {
              "outlinewidth": 0,
              "ticks": ""
             }
            },
            "type": "scattergl"
           }
          ],
          "scattermapbox": [
           {
            "marker": {
             "colorbar": {
              "outlinewidth": 0,
              "ticks": ""
             }
            },
            "type": "scattermapbox"
           }
          ],
          "scatterpolar": [
           {
            "marker": {
             "colorbar": {
              "outlinewidth": 0,
              "ticks": ""
             }
            },
            "type": "scatterpolar"
           }
          ],
          "scatterpolargl": [
           {
            "marker": {
             "colorbar": {
              "outlinewidth": 0,
              "ticks": ""
             }
            },
            "type": "scatterpolargl"
           }
          ],
          "scatterternary": [
           {
            "marker": {
             "colorbar": {
              "outlinewidth": 0,
              "ticks": ""
             }
            },
            "type": "scatterternary"
           }
          ],
          "surface": [
           {
            "colorbar": {
             "outlinewidth": 0,
             "ticks": ""
            },
            "colorscale": [
             [
              0,
              "#0d0887"
             ],
             [
              0.1111111111111111,
              "#46039f"
             ],
             [
              0.2222222222222222,
              "#7201a8"
             ],
             [
              0.3333333333333333,
              "#9c179e"
             ],
             [
              0.4444444444444444,
              "#bd3786"
             ],
             [
              0.5555555555555556,
              "#d8576b"
             ],
             [
              0.6666666666666666,
              "#ed7953"
             ],
             [
              0.7777777777777778,
              "#fb9f3a"
             ],
             [
              0.8888888888888888,
              "#fdca26"
             ],
             [
              1,
              "#f0f921"
             ]
            ],
            "type": "surface"
           }
          ],
          "table": [
           {
            "cells": {
             "fill": {
              "color": "#EBF0F8"
             },
             "line": {
              "color": "white"
             }
            },
            "header": {
             "fill": {
              "color": "#C8D4E3"
             },
             "line": {
              "color": "white"
             }
            },
            "type": "table"
           }
          ]
         },
         "layout": {
          "annotationdefaults": {
           "arrowcolor": "#2a3f5f",
           "arrowhead": 0,
           "arrowwidth": 1
          },
          "coloraxis": {
           "colorbar": {
            "outlinewidth": 0,
            "ticks": ""
           }
          },
          "colorscale": {
           "diverging": [
            [
             0,
             "#8e0152"
            ],
            [
             0.1,
             "#c51b7d"
            ],
            [
             0.2,
             "#de77ae"
            ],
            [
             0.3,
             "#f1b6da"
            ],
            [
             0.4,
             "#fde0ef"
            ],
            [
             0.5,
             "#f7f7f7"
            ],
            [
             0.6,
             "#e6f5d0"
            ],
            [
             0.7,
             "#b8e186"
            ],
            [
             0.8,
             "#7fbc41"
            ],
            [
             0.9,
             "#4d9221"
            ],
            [
             1,
             "#276419"
            ]
           ],
           "sequential": [
            [
             0,
             "#0d0887"
            ],
            [
             0.1111111111111111,
             "#46039f"
            ],
            [
             0.2222222222222222,
             "#7201a8"
            ],
            [
             0.3333333333333333,
             "#9c179e"
            ],
            [
             0.4444444444444444,
             "#bd3786"
            ],
            [
             0.5555555555555556,
             "#d8576b"
            ],
            [
             0.6666666666666666,
             "#ed7953"
            ],
            [
             0.7777777777777778,
             "#fb9f3a"
            ],
            [
             0.8888888888888888,
             "#fdca26"
            ],
            [
             1,
             "#f0f921"
            ]
           ],
           "sequentialminus": [
            [
             0,
             "#0d0887"
            ],
            [
             0.1111111111111111,
             "#46039f"
            ],
            [
             0.2222222222222222,
             "#7201a8"
            ],
            [
             0.3333333333333333,
             "#9c179e"
            ],
            [
             0.4444444444444444,
             "#bd3786"
            ],
            [
             0.5555555555555556,
             "#d8576b"
            ],
            [
             0.6666666666666666,
             "#ed7953"
            ],
            [
             0.7777777777777778,
             "#fb9f3a"
            ],
            [
             0.8888888888888888,
             "#fdca26"
            ],
            [
             1,
             "#f0f921"
            ]
           ]
          },
          "colorway": [
           "#636efa",
           "#EF553B",
           "#00cc96",
           "#ab63fa",
           "#FFA15A",
           "#19d3f3",
           "#FF6692",
           "#B6E880",
           "#FF97FF",
           "#FECB52"
          ],
          "font": {
           "color": "#2a3f5f"
          },
          "geo": {
           "bgcolor": "white",
           "lakecolor": "white",
           "landcolor": "#E5ECF6",
           "showlakes": true,
           "showland": true,
           "subunitcolor": "white"
          },
          "hoverlabel": {
           "align": "left"
          },
          "hovermode": "closest",
          "mapbox": {
           "style": "light"
          },
          "paper_bgcolor": "white",
          "plot_bgcolor": "#E5ECF6",
          "polar": {
           "angularaxis": {
            "gridcolor": "white",
            "linecolor": "white",
            "ticks": ""
           },
           "bgcolor": "#E5ECF6",
           "radialaxis": {
            "gridcolor": "white",
            "linecolor": "white",
            "ticks": ""
           }
          },
          "scene": {
           "xaxis": {
            "backgroundcolor": "#E5ECF6",
            "gridcolor": "white",
            "gridwidth": 2,
            "linecolor": "white",
            "showbackground": true,
            "ticks": "",
            "zerolinecolor": "white"
           },
           "yaxis": {
            "backgroundcolor": "#E5ECF6",
            "gridcolor": "white",
            "gridwidth": 2,
            "linecolor": "white",
            "showbackground": true,
            "ticks": "",
            "zerolinecolor": "white"
           },
           "zaxis": {
            "backgroundcolor": "#E5ECF6",
            "gridcolor": "white",
            "gridwidth": 2,
            "linecolor": "white",
            "showbackground": true,
            "ticks": "",
            "zerolinecolor": "white"
           }
          },
          "shapedefaults": {
           "line": {
            "color": "#2a3f5f"
           }
          },
          "ternary": {
           "aaxis": {
            "gridcolor": "white",
            "linecolor": "white",
            "ticks": ""
           },
           "baxis": {
            "gridcolor": "white",
            "linecolor": "white",
            "ticks": ""
           },
           "bgcolor": "#E5ECF6",
           "caxis": {
            "gridcolor": "white",
            "linecolor": "white",
            "ticks": ""
           }
          },
          "title": {
           "x": 0.05
          },
          "xaxis": {
           "automargin": true,
           "gridcolor": "white",
           "linecolor": "white",
           "ticks": "",
           "title": {
            "standoff": 15
           },
           "zerolinecolor": "white",
           "zerolinewidth": 2
          },
          "yaxis": {
           "automargin": true,
           "gridcolor": "white",
           "linecolor": "white",
           "ticks": "",
           "title": {
            "standoff": 15
           },
           "zerolinecolor": "white",
           "zerolinewidth": 2
          }
         }
        },
        "title": {
         "text": "3d TSNE Plot for Outliers"
        },
        "width": 900
       }
      },
      "text/html": [
       "<div>\n",
       "        \n",
       "        \n",
       "            <div id=\"7ab14dd3-8b69-428d-a5fb-53a4ff0b77ca\" class=\"plotly-graph-div\" style=\"height:800px; width:900px;\"></div>\n",
       "            <script type=\"text/javascript\">\n",
       "                require([\"plotly\"], function(Plotly) {\n",
       "                    window.PLOTLYENV=window.PLOTLYENV || {};\n",
       "                    \n",
       "                if (document.getElementById(\"7ab14dd3-8b69-428d-a5fb-53a4ff0b77ca\")) {\n",
       "                    Plotly.newPlot(\n",
       "                        '7ab14dd3-8b69-428d-a5fb-53a4ff0b77ca',\n",
       "                        [{\"customdata\": [[0], [0], [0], [0], [0], [0], [0], [0], [0], [0], [0], [0], [0], [0], [0], [0], [0], [0], [0], [0], [0], [0], [0], [0], [0], [0], [0], [0], [0], [0], [0], [0], [0], [0], [0], [0], [0], [0], [0], [0], [0], [0], [0], [0], [0], [0], [0], [0], [0], [0], [0], [0], [0], [0], [0], [0], [0], [0], [0], [0], [0], [0], [0], [0], [0], [0], [0], [0], [0], [0], [0], [0], [0], [0], [0], [0], [0], [0], [0], [0], [0], [0], [0], [0], [0], [0], [0], [0], [0], [0], [0], [0], [0], [0], [0], [0], [0], [0], [0], [0], [0], [0], [0], [0], [0], [0], [0], [0], [0], [0], [0], [0], [0], [0], [0], [0], [0], [0], [0], [0], [0], [0], [0], [0], [0], [0], [0], [0], [0], [0], [0], [0], [0], [0], [0], [0], [0], [0], [0], [0], [0], [0], [0], [0], [0], [0], [0], [0], [0], [0], [0], [0], [0], [0], [0], [0], [0], [0], [0], [0], [0], [0], [0], [0], [0], [0], [0], [0], [0], [0], [0], [0], [0], [0], [0], [0], [0], [0], [0], [0], [0], [0], [0], [0], [0], [0], [0], [0], [0], [0], [0], [1], [1], [1], [1], [1], [1], [1], [1], [1], [1], [1], [1], [1], [1], [1], [1], [1], [1], [1], [1], [1], [1], [1], [1], [1], [1], [1], [1], [1], [1], [1], [1], [1], [1], [1], [1], [1], [1], [1], [1], [1], [1], [1]], \"hoverlabel\": {\"namelength\": 0}, \"hovertemplate\": \"0=%{x}<br>1=%{y}<br>2=%{z}<br>Feature=%{customdata[0]}<br>Label=%{marker.color}\", \"legendgroup\": \"\", \"marker\": {\"color\": [0, 0, 0, 0, 0, 0, 0, 1, 0, 0, 0, 0, 0, 0, 0, 0, 0, 0, 0, 0, 0, 0, 0, 0, 0, 1, 0, 0, 0, 0, 0, 0, 0, 0, 0, 0, 0, 0, 0, 0, 0, 0, 0, 0, 0, 0, 0, 0, 0, 0, 0, 0, 0, 0, 0, 0, 0, 0, 0, 0, 0, 0, 0, 0, 0, 0, 0, 0, 0, 0, 0, 1, 0, 0, 0, 0, 1, 0, 0, 0, 0, 0, 0, 0, 0, 0, 0, 0, 0, 0, 0, 0, 0, 0, 0, 0, 0, 0, 0, 0, 0, 0, 0, 0, 0, 0, 0, 0, 0, 0, 0, 0, 0, 0, 0, 0, 0, 1, 0, 0, 0, 0, 0, 0, 0, 0, 0, 0, 0, 0, 0, 0, 0, 0, 0, 0, 0, 0, 0, 0, 0, 0, 0, 0, 0, 0, 0, 1, 0, 1, 0, 0, 0, 0, 0, 0, 0, 0, 0, 0, 0, 0, 0, 0, 0, 0, 0, 0, 0, 0, 0, 1, 0, 0, 1, 0, 0, 0, 0, 0, 0, 0, 0, 0, 0, 0, 0, 0, 0, 0, 1, 0, 0, 0, 0, 0, 0, 0, 0, 0, 0, 0, 0, 0, 0, 0, 0, 0, 0, 0, 0, 0, 0, 0, 0, 0, 0, 0, 0, 0, 0, 0, 0, 0, 0, 0, 0, 0, 1, 0, 0, 0, 0, 0], \"coloraxis\": \"coloraxis\", \"opacity\": 0.7, \"symbol\": \"circle\"}, \"mode\": \"markers\", \"name\": \"\", \"scene\": \"scene\", \"showlegend\": false, \"type\": \"scatter3d\", \"x\": [9.806793212890625, -41.214900970458984, 8.328058242797852, -74.73785400390625, 23.48882484436035, 89.37236785888672, -37.86363983154297, -12.442811965942383, -84.5925521850586, 131.83775329589844, 10.282601356506348, 44.76614761352539, 24.349994659423828, 0.9987800121307373, -17.599557876586914, -2.1006247997283936, -44.79075622558594, -34.47659683227539, 29.245420455932617, -12.099699974060059, -119.78397369384766, 122.3001480102539, -27.91310691833496, 96.51927947998047, -59.678741455078125, -25.36985969543457, 27.475906372070312, 18.345632553100586, 106.87637329101562, 39.53070068359375, -19.14991569519043, -41.946712493896484, -79.06843566894531, -30.809814453125, 58.31071853637695, 39.16313552856445, -84.77621459960938, -46.478511810302734, 3.187985420227051, 95.68196105957031, 57.692848205566406, -102.1584701538086, -106.76878356933594, 95.91378784179688, -5.114720344543457, -38.88322448730469, -52.99201202392578, 37.66428756713867, 66.17789459228516, 41.479400634765625, 71.44839477539062, -45.96394729614258, -76.25086975097656, 75.26822662353516, 23.535526275634766, -20.228164672851562, 53.392845153808594, -27.445194244384766, 11.714641571044922, -94.96479034423828, 54.41081619262695, 54.35556411743164, 57.99884033203125, -23.70378303527832, 77.4014892578125, 97.96123504638672, -97.99756622314453, -75.6119155883789, -66.78987121582031, 34.34701156616211, -6.154521465301514, -48.60146713256836, -75.4366455078125, -10.544672966003418, 17.98113250732422, 36.810455322265625, -107.8514404296875, -32.23790740966797, 58.98084259033203, 57.31946563720703, -143.06594848632812, 32.42544174194336, -36.10786437988281, -101.20328521728516, 48.88396453857422, -29.018095016479492, 74.71435546875, -32.978878021240234, 57.81198501586914, -27.28668212890625, -68.16715240478516, -88.62042999267578, -18.034046173095703, -58.485504150390625, -51.95039367675781, -92.654296875, -63.79874801635742, -64.95297241210938, -42.58723449707031, 10.968267440795898, -76.53225708007812, 101.63356018066406, -78.9156723022461, -35.06086730957031, 93.7763900756836, -91.31817626953125, 3.8138484954833984, 31.44367218017578, -117.76671600341797, 67.66482543945312, -24.736183166503906, 20.12565040588379, 66.84869384765625, 29.19064712524414, 61.22129821777344, -145.57369995117188, -6.95634126663208, -18.470645904541016, 72.72340393066406, 34.41450119018555, 20.65850067138672, -40.465755462646484, 14.318511962890625, 53.568328857421875, 44.942222595214844, 3.7958004474639893, 90.36812591552734, 78.33928680419922, 26.60249137878418, 116.56343841552734, -14.081191062927246, 95.47030639648438, 59.10762023925781, 65.97099304199219, 3.2036478519439697, 79.16079711914062, -54.77254867553711, -42.813621520996094, 40.363834381103516, -24.226804733276367, -16.12998390197754, 81.28974914550781, -65.67503356933594, 8.62105941772461, 39.62006759643555, 20.737443923950195, 107.41799926757812, -38.87388229370117, -94.7357177734375, 2.847470998764038, -3.2568461894989014, 1.3899576663970947, -53.062435150146484, 29.503931045532227, 27.350893020629883, -83.70327758789062, 7.660369396209717, 135.88259887695312, 110.57574462890625, 14.898499488830566, -5.622546672821045, 35.929405212402344, 7.621924877166748, 69.85672760009766, 77.51921081542969, 126.44140625, 10.832195281982422, -37.6659049987793, 26.371688842773438, 8.422500610351562, -16.554401397705078, -3.95587420463562, -4.582313537597656, 27.76517105102539, -92.03453063964844, -71.4334716796875, -24.11751937866211, -21.278806686401367, 88.8718032836914, 25.895071029663086, -28.215633392333984, 0.19098809361457825, 125.93793487548828, 35.016544342041016, 11.467923164367676, 53.01211929321289, 96.29576873779297, -34.20100402832031, -46.17095947265625, 97.49394226074219, -129.77401733398438, -17.861888885498047, 2.4673688411712646, -104.08997344970703, -31.27216148376465, -73.59542083740234, -83.17080688476562, 84.15023040771484, -49.06013107299805, 85.50855255126953, -56.87457275390625, 105.97908020019531, -115.92657470703125, -66.186767578125, 25.44338035583496, -40.335723876953125, 136.7998504638672, -60.47954177856445, -69.08866119384766, 5.402535438537598, -29.04528045654297, -101.98436737060547, 48.051963806152344, -2.9830989837646484, 135.1275177001953, 3.4703056812286377, 7.0071587562561035, -6.864190101623535, 111.40876770019531, -63.32658004760742, 145.8471221923828, -92.52532958984375, 106.84953308105469, -0.5282715559005737, -54.757930755615234, -98.17235565185547, -53.88603973388672, 7.700570106506348, -52.76544189453125, -85.51554870605469, -6.573402404785156, -37.962745666503906, -99.40498352050781, 28.451189041137695], \"y\": [28.710411071777344, -59.16351318359375, 42.726951599121094, 122.44993591308594, -18.79302215576172, 83.13868713378906, 52.6700439453125, 112.49108123779297, 90.13732147216797, -80.48150634765625, 44.536827087402344, 2.1302688121795654, -43.888641357421875, -1.3418197631835938, -37.252140045166016, 105.02003479003906, -35.91896057128906, -59.706825256347656, 29.897863388061523, 60.62680435180664, 111.36080932617188, -21.091041564941406, -122.87459564208984, -47.665870666503906, -117.04643249511719, 67.6365966796875, 96.13238525390625, 16.48586082458496, 34.438899993896484, 51.757957458496094, 27.5457820892334, -7.6205925941467285, 10.408020973205566, -119.82886505126953, -104.70086669921875, 5.395357608795166, 6.791272163391113, 25.227237701416016, 10.970648765563965, -7.791532516479492, -65.41617584228516, -108.66542053222656, -32.00010299682617, -4.255386829376221, 134.60418701171875, 88.34144592285156, -129.1214141845703, -119.71145629882812, 39.88500213623047, 47.17420959472656, 65.5777359008789, -95.82849884033203, -21.162643432617188, -1.1553250551223755, 74.51779174804688, 32.3759880065918, -11.319849967956543, -15.863391876220703, -68.34432220458984, 96.93468475341797, 10.537249565124512, 85.48706817626953, -66.48613739013672, 3.0311551094055176, -90.39710998535156, 49.356712341308594, -17.560916900634766, -46.52479934692383, -75.62667846679688, -78.75907897949219, -104.73348236083984, 72.76447296142578, -14.225116729736328, 60.296634674072266, -90.1363754272461, -71.34646606445312, 71.66446685791016, -74.7167739868164, -22.875221252441406, 84.3540267944336, -55.241798400878906, -86.5027847290039, -64.02997589111328, 116.89581298828125, 13.64348030090332, -53.52141189575195, 100.97477722167969, 16.21092414855957, 20.086336135864258, 52.544189453125, -48.97394943237305, -66.50306701660156, -6.24186897277832, -47.927677154541016, -107.53829193115234, -68.5387191772461, -81.3794937133789, 66.36360931396484, 53.45293045043945, 23.079240798950195, -97.10909271240234, -40.9616813659668, 69.7900390625, -112.78206634521484, -28.346712112426758, 100.97014617919922, 7.087432861328125, -96.34202575683594, -52.22787857055664, -79.52165222167969, 92.34784698486328, -19.00440788269043, 31.761045455932617, -31.88107681274414, -40.4045295715332, -2.0375335216522217, -105.10537719726562, 64.581298828125, 119.9632568359375, 83.6213150024414, 80.2803726196289, -91.38951110839844, 76.89865112304688, 57.82075881958008, 77.19493103027344, 29.949459075927734, -64.3397445678711, -8.621028900146484, 48.5068244934082, -104.41378021240234, 13.491385459899902, 17.243221282958984, -19.827672958374023, 0.8581161499023438, -9.40576171875, -25.417652130126953, 24.16847038269043, 60.686546325683594, -109.43910217285156, 16.52210235595703, -124.33296203613281, 131.48391723632812, 1.4273685216903687, 7.094618797302246, -26.1887149810791, -104.86505126953125, 1.349605917930603, 95.01817321777344, -38.50336837768555, 83.94625854492188, 9.026315689086914, 50.15594482421875, 84.3070297241211, -24.880144119262695, 20.087568283081055, 32.06682205200195, 73.74330139160156, 21.496809005737305, -18.275964736938477, -43.59580993652344, -129.60850524902344, -51.78244400024414, 55.26433181762695, 59.92597579956055, -88.61466979980469, 26.83396339416504, -128.7572479248047, -4.520262718200684, -59.318965911865234, -117.04212188720703, -150.53060913085938, 89.21265411376953, 37.469093322753906, -2.735024929046631, 130.78648376464844, 113.04303741455078, -19.414865493774414, 9.161609649658203, 33.01493453979492, -146.16061401367188, 83.59293365478516, -62.888519287109375, 47.55098342895508, 110.33221435546875, 33.376953125, 64.78571319580078, 20.13306999206543, 36.36506271362305, -15.656776428222656, 60.328983306884766, 75.53387451171875, 32.25202178955078, 28.38991355895996, -70.72450256347656, -88.89006805419922, 37.168453216552734, -93.46554565429688, 64.06644439697266, 18.80693244934082, 92.11426544189453, 35.64884567260742, 1.25697922706604, 86.01805114746094, 66.32108306884766, 48.0308952331543, -11.740760803222656, -2.5670549869537354, -10.875452995300293, -9.60693645477295, -22.087379455566406, 76.25688934326172, -3.4084787368774414, -20.762435913085938, -40.36292266845703, 61.468902587890625, -71.61187744140625, -18.26579475402832, -163.8112030029297, 82.39025115966797, 99.75816345214844, -26.036964416503906, 66.57315063476562, -28.766433715820312, -147.81698608398438, 97.8145523071289, 53.83890151977539, -141.5069122314453, -57.455081939697266, 136.838623046875, -120.92687225341797, 57.31538391113281, 14.111052513122559, -11.64785099029541, -156.51370239257812], \"z\": [-77.53347778320312, -12.086507797241211, 124.92959594726562, -45.63913345336914, -32.2783317565918, 72.05879974365234, 12.173677444458008, 111.62004089355469, -66.70777893066406, -3.3539021015167236, -111.45963287353516, 130.4481658935547, 32.15180587768555, -64.45384216308594, 38.0954704284668, -34.21692657470703, -34.30827331542969, -111.3770751953125, 153.60824584960938, 52.891056060791016, -21.89984893798828, 29.010774612426758, -46.78731155395508, -81.2360610961914, 3.5059056282043457, 145.49081420898438, -80.80329895019531, 59.647499084472656, 21.264734268188477, 21.927936553955078, -63.64271926879883, 38.91572570800781, 74.76667022705078, 13.648780822753906, -18.11823272705078, 12.707571983337402, -37.730350494384766, -63.70582580566406, 160.4755859375, -88.05917358398438, -45.554019927978516, 38.226200103759766, -39.927555084228516, 17.660051345825195, 8.01343822479248, 28.541654586791992, -68.44329071044922, -3.148729085922241, 33.03535461425781, 129.14620971679688, 44.7453727722168, -7.922311305999756, -45.9767951965332, -40.09307098388672, 133.4191131591797, -93.36126708984375, 40.7093391418457, 13.315346717834473, 100.70182800292969, -34.93456268310547, 94.32693481445312, 9.797232627868652, -15.238553047180176, -82.22846984863281, -35.7694206237793, 44.94697189331055, -15.648651123046875, -29.100683212280273, -37.494529724121094, -26.866239547729492, -5.315340518951416, 99.00051879882812, -128.45834350585938, -89.43119812011719, -50.6632080078125, 34.28151321411133, -2.026498556137085, -35.57400894165039, 109.60909271240234, 73.93683624267578, -53.1218376159668, 11.391257286071777, 85.93782043457031, -63.91613006591797, -35.814327239990234, -63.89223861694336, -34.822731018066406, 9.288817405700684, -6.454455852508545, -120.73149108886719, 9.533097267150879, 10.527584075927734, 137.6452178955078, -64.7657699584961, -41.389198303222656, -65.20781707763672, 49.05265808105469, -67.31883239746094, -89.76599884033203, -36.53614807128906, -62.42582702636719, 19.885587692260742, -38.15911102294922, 79.41510009765625, -32.34807205200195, -1.7358381748199463, -97.49519348144531, -80.48619079589844, -3.823141098022461, 91.67485809326172, 89.42706298828125, 143.95321655273438, -97.62885284423828, 97.08755493164062, 11.11984634399414, -41.54242706298828, -41.38618850708008, 114.87052154541016, 53.66522979736328, -25.038135528564453, 10.346022605895996, -67.77656555175781, 72.4764404296875, -3.9232537746429443, 38.26988220214844, 35.11021041870117, -23.700101852416992, -7.44008207321167, 49.05747604370117, -48.187889099121094, 57.295745849609375, 39.67585372924805, -25.225553512573242, 19.325706481933594, 63.182708740234375, 41.95131301879883, -35.14491653442383, -44.87352752685547, -46.21245574951172, -117.40067291259766, -76.43730163574219, 3.6872000694274902, 17.913944244384766, 130.18661499023438, -91.25088500976562, -24.177753448486328, -31.500015258789062, 119.30345916748047, -72.04920959472656, 107.8793716430664, 93.40554809570312, -47.597965240478516, -88.65352630615234, -0.2855830788612366, 110.0823745727539, 39.57441329956055, 35.62209701538086, 21.080459594726562, -8.257981300354004, -109.19812774658203, -25.21522331237793, 4.0058465003967285, 154.55953979492188, 88.49264526367188, 4.001986503601074, 51.0817985534668, -54.90278625488281, -56.26723098754883, -54.649436950683594, 22.624452590942383, -51.09285354614258, 140.57806396484375, 76.41011810302734, 88.24749755859375, -16.048229217529297, -82.79940032958984, 84.98599243164062, -30.599864959716797, 71.72328186035156, -32.77582550048828, -108.070556640625, 44.2731819152832, -3.012362003326416, 28.664907455444336, -2.4238035678863525, -49.707027435302734, -6.862823486328125, 67.7198257446289, 123.15999603271484, -43.13507080078125, -25.230266571044922, 141.81411743164062, -153.19854736328125, -30.379091262817383, 25.961023330688477, -88.04901885986328, -13.338664054870605, 14.40727424621582, -94.66100311279297, 23.58838653564453, -117.9227066040039, 67.83097839355469, -60.629066467285156, -110.97766876220703, 83.28691864013672, -103.10684204101562, -21.136720657348633, -19.39422035217285, -77.62606811523438, 115.2464828491211, -70.30825805664062, -65.21920776367188, -57.58191680908203, 3.5016536712646484, 28.205732345581055, 3.173393964767456, 23.926006317138672, -14.466218948364258, 47.18513107299805, -18.916439056396484, -3.5685527324676514, -92.85508728027344, 107.32462310791016, 7.467639923095703, -53.605567932128906, -63.656410217285156, -26.131614685058594, -31.81373405456543, -17.954120635986328, -24.691978454589844, -8.803560256958008, 96.90780639648438, -97.72500610351562, 2.5114076137542725]}],\n",
       "                        {\"coloraxis\": {\"colorbar\": {\"title\": {\"text\": \"Label\"}}, \"colorscale\": [[0.0, \"#0d0887\"], [0.1111111111111111, \"#46039f\"], [0.2222222222222222, \"#7201a8\"], [0.3333333333333333, \"#9c179e\"], [0.4444444444444444, \"#bd3786\"], [0.5555555555555556, \"#d8576b\"], [0.6666666666666666, \"#ed7953\"], [0.7777777777777778, \"#fb9f3a\"], [0.8888888888888888, \"#fdca26\"], [1.0, \"#f0f921\"]]}, \"height\": 800, \"legend\": {\"tracegroupgap\": 0}, \"scene\": {\"domain\": {\"x\": [0.0, 1.0], \"y\": [0.0, 1.0]}, \"xaxis\": {\"title\": {\"text\": \"0\"}}, \"yaxis\": {\"title\": {\"text\": \"1\"}}, \"zaxis\": {\"title\": {\"text\": \"2\"}}}, \"template\": {\"data\": {\"bar\": [{\"error_x\": {\"color\": \"#2a3f5f\"}, \"error_y\": {\"color\": \"#2a3f5f\"}, \"marker\": {\"line\": {\"color\": \"#E5ECF6\", \"width\": 0.5}}, \"type\": \"bar\"}], \"barpolar\": [{\"marker\": {\"line\": {\"color\": \"#E5ECF6\", \"width\": 0.5}}, \"type\": \"barpolar\"}], \"carpet\": [{\"aaxis\": {\"endlinecolor\": \"#2a3f5f\", \"gridcolor\": \"white\", \"linecolor\": \"white\", \"minorgridcolor\": \"white\", \"startlinecolor\": \"#2a3f5f\"}, \"baxis\": {\"endlinecolor\": \"#2a3f5f\", \"gridcolor\": \"white\", \"linecolor\": \"white\", \"minorgridcolor\": \"white\", \"startlinecolor\": \"#2a3f5f\"}, \"type\": \"carpet\"}], \"choropleth\": [{\"colorbar\": {\"outlinewidth\": 0, \"ticks\": \"\"}, \"type\": \"choropleth\"}], \"contour\": [{\"colorbar\": {\"outlinewidth\": 0, \"ticks\": \"\"}, \"colorscale\": [[0.0, \"#0d0887\"], [0.1111111111111111, \"#46039f\"], [0.2222222222222222, \"#7201a8\"], [0.3333333333333333, \"#9c179e\"], [0.4444444444444444, \"#bd3786\"], [0.5555555555555556, \"#d8576b\"], [0.6666666666666666, \"#ed7953\"], [0.7777777777777778, \"#fb9f3a\"], [0.8888888888888888, \"#fdca26\"], [1.0, \"#f0f921\"]], \"type\": \"contour\"}], \"contourcarpet\": [{\"colorbar\": {\"outlinewidth\": 0, \"ticks\": \"\"}, \"type\": \"contourcarpet\"}], \"heatmap\": [{\"colorbar\": {\"outlinewidth\": 0, \"ticks\": \"\"}, \"colorscale\": [[0.0, \"#0d0887\"], [0.1111111111111111, \"#46039f\"], [0.2222222222222222, \"#7201a8\"], [0.3333333333333333, \"#9c179e\"], [0.4444444444444444, \"#bd3786\"], [0.5555555555555556, \"#d8576b\"], [0.6666666666666666, \"#ed7953\"], [0.7777777777777778, \"#fb9f3a\"], [0.8888888888888888, \"#fdca26\"], [1.0, \"#f0f921\"]], \"type\": \"heatmap\"}], \"heatmapgl\": [{\"colorbar\": {\"outlinewidth\": 0, \"ticks\": \"\"}, \"colorscale\": [[0.0, \"#0d0887\"], [0.1111111111111111, \"#46039f\"], [0.2222222222222222, \"#7201a8\"], [0.3333333333333333, \"#9c179e\"], [0.4444444444444444, \"#bd3786\"], [0.5555555555555556, \"#d8576b\"], [0.6666666666666666, \"#ed7953\"], [0.7777777777777778, \"#fb9f3a\"], [0.8888888888888888, \"#fdca26\"], [1.0, \"#f0f921\"]], \"type\": \"heatmapgl\"}], \"histogram\": [{\"marker\": {\"colorbar\": {\"outlinewidth\": 0, \"ticks\": \"\"}}, \"type\": \"histogram\"}], \"histogram2d\": [{\"colorbar\": {\"outlinewidth\": 0, \"ticks\": \"\"}, \"colorscale\": [[0.0, \"#0d0887\"], [0.1111111111111111, \"#46039f\"], [0.2222222222222222, \"#7201a8\"], [0.3333333333333333, \"#9c179e\"], [0.4444444444444444, \"#bd3786\"], [0.5555555555555556, \"#d8576b\"], [0.6666666666666666, \"#ed7953\"], [0.7777777777777778, \"#fb9f3a\"], [0.8888888888888888, \"#fdca26\"], [1.0, \"#f0f921\"]], \"type\": \"histogram2d\"}], \"histogram2dcontour\": [{\"colorbar\": {\"outlinewidth\": 0, \"ticks\": \"\"}, \"colorscale\": [[0.0, \"#0d0887\"], [0.1111111111111111, \"#46039f\"], [0.2222222222222222, \"#7201a8\"], [0.3333333333333333, \"#9c179e\"], [0.4444444444444444, \"#bd3786\"], [0.5555555555555556, \"#d8576b\"], [0.6666666666666666, \"#ed7953\"], [0.7777777777777778, \"#fb9f3a\"], [0.8888888888888888, \"#fdca26\"], [1.0, \"#f0f921\"]], \"type\": \"histogram2dcontour\"}], \"mesh3d\": [{\"colorbar\": {\"outlinewidth\": 0, \"ticks\": \"\"}, \"type\": \"mesh3d\"}], \"parcoords\": [{\"line\": {\"colorbar\": {\"outlinewidth\": 0, \"ticks\": \"\"}}, \"type\": \"parcoords\"}], \"pie\": [{\"automargin\": true, \"type\": \"pie\"}], \"scatter\": [{\"marker\": {\"colorbar\": {\"outlinewidth\": 0, \"ticks\": \"\"}}, \"type\": \"scatter\"}], \"scatter3d\": [{\"line\": {\"colorbar\": {\"outlinewidth\": 0, \"ticks\": \"\"}}, \"marker\": {\"colorbar\": {\"outlinewidth\": 0, \"ticks\": \"\"}}, \"type\": \"scatter3d\"}], \"scattercarpet\": [{\"marker\": {\"colorbar\": {\"outlinewidth\": 0, \"ticks\": \"\"}}, \"type\": \"scattercarpet\"}], \"scattergeo\": [{\"marker\": {\"colorbar\": {\"outlinewidth\": 0, \"ticks\": \"\"}}, \"type\": \"scattergeo\"}], \"scattergl\": [{\"marker\": {\"colorbar\": {\"outlinewidth\": 0, \"ticks\": \"\"}}, \"type\": \"scattergl\"}], \"scattermapbox\": [{\"marker\": {\"colorbar\": {\"outlinewidth\": 0, \"ticks\": \"\"}}, \"type\": \"scattermapbox\"}], \"scatterpolar\": [{\"marker\": {\"colorbar\": {\"outlinewidth\": 0, \"ticks\": \"\"}}, \"type\": \"scatterpolar\"}], \"scatterpolargl\": [{\"marker\": {\"colorbar\": {\"outlinewidth\": 0, \"ticks\": \"\"}}, \"type\": \"scatterpolargl\"}], \"scatterternary\": [{\"marker\": {\"colorbar\": {\"outlinewidth\": 0, \"ticks\": \"\"}}, \"type\": \"scatterternary\"}], \"surface\": [{\"colorbar\": {\"outlinewidth\": 0, \"ticks\": \"\"}, \"colorscale\": [[0.0, \"#0d0887\"], [0.1111111111111111, \"#46039f\"], [0.2222222222222222, \"#7201a8\"], [0.3333333333333333, \"#9c179e\"], [0.4444444444444444, \"#bd3786\"], [0.5555555555555556, \"#d8576b\"], [0.6666666666666666, \"#ed7953\"], [0.7777777777777778, \"#fb9f3a\"], [0.8888888888888888, \"#fdca26\"], [1.0, \"#f0f921\"]], \"type\": \"surface\"}], \"table\": [{\"cells\": {\"fill\": {\"color\": \"#EBF0F8\"}, \"line\": {\"color\": \"white\"}}, \"header\": {\"fill\": {\"color\": \"#C8D4E3\"}, \"line\": {\"color\": \"white\"}}, \"type\": \"table\"}]}, \"layout\": {\"annotationdefaults\": {\"arrowcolor\": \"#2a3f5f\", \"arrowhead\": 0, \"arrowwidth\": 1}, \"coloraxis\": {\"colorbar\": {\"outlinewidth\": 0, \"ticks\": \"\"}}, \"colorscale\": {\"diverging\": [[0, \"#8e0152\"], [0.1, \"#c51b7d\"], [0.2, \"#de77ae\"], [0.3, \"#f1b6da\"], [0.4, \"#fde0ef\"], [0.5, \"#f7f7f7\"], [0.6, \"#e6f5d0\"], [0.7, \"#b8e186\"], [0.8, \"#7fbc41\"], [0.9, \"#4d9221\"], [1, \"#276419\"]], \"sequential\": [[0.0, \"#0d0887\"], [0.1111111111111111, \"#46039f\"], [0.2222222222222222, \"#7201a8\"], [0.3333333333333333, \"#9c179e\"], [0.4444444444444444, \"#bd3786\"], [0.5555555555555556, \"#d8576b\"], [0.6666666666666666, \"#ed7953\"], [0.7777777777777778, \"#fb9f3a\"], [0.8888888888888888, \"#fdca26\"], [1.0, \"#f0f921\"]], \"sequentialminus\": [[0.0, \"#0d0887\"], [0.1111111111111111, \"#46039f\"], [0.2222222222222222, \"#7201a8\"], [0.3333333333333333, \"#9c179e\"], [0.4444444444444444, \"#bd3786\"], [0.5555555555555556, \"#d8576b\"], [0.6666666666666666, \"#ed7953\"], [0.7777777777777778, \"#fb9f3a\"], [0.8888888888888888, \"#fdca26\"], [1.0, \"#f0f921\"]]}, \"colorway\": [\"#636efa\", \"#EF553B\", \"#00cc96\", \"#ab63fa\", \"#FFA15A\", \"#19d3f3\", \"#FF6692\", \"#B6E880\", \"#FF97FF\", \"#FECB52\"], \"font\": {\"color\": \"#2a3f5f\"}, \"geo\": {\"bgcolor\": \"white\", \"lakecolor\": \"white\", \"landcolor\": \"#E5ECF6\", \"showlakes\": true, \"showland\": true, \"subunitcolor\": \"white\"}, \"hoverlabel\": {\"align\": \"left\"}, \"hovermode\": \"closest\", \"mapbox\": {\"style\": \"light\"}, \"paper_bgcolor\": \"white\", \"plot_bgcolor\": \"#E5ECF6\", \"polar\": {\"angularaxis\": {\"gridcolor\": \"white\", \"linecolor\": \"white\", \"ticks\": \"\"}, \"bgcolor\": \"#E5ECF6\", \"radialaxis\": {\"gridcolor\": \"white\", \"linecolor\": \"white\", \"ticks\": \"\"}}, \"scene\": {\"xaxis\": {\"backgroundcolor\": \"#E5ECF6\", \"gridcolor\": \"white\", \"gridwidth\": 2, \"linecolor\": \"white\", \"showbackground\": true, \"ticks\": \"\", \"zerolinecolor\": \"white\"}, \"yaxis\": {\"backgroundcolor\": \"#E5ECF6\", \"gridcolor\": \"white\", \"gridwidth\": 2, \"linecolor\": \"white\", \"showbackground\": true, \"ticks\": \"\", \"zerolinecolor\": \"white\"}, \"zaxis\": {\"backgroundcolor\": \"#E5ECF6\", \"gridcolor\": \"white\", \"gridwidth\": 2, \"linecolor\": \"white\", \"showbackground\": true, \"ticks\": \"\", \"zerolinecolor\": \"white\"}}, \"shapedefaults\": {\"line\": {\"color\": \"#2a3f5f\"}}, \"ternary\": {\"aaxis\": {\"gridcolor\": \"white\", \"linecolor\": \"white\", \"ticks\": \"\"}, \"baxis\": {\"gridcolor\": \"white\", \"linecolor\": \"white\", \"ticks\": \"\"}, \"bgcolor\": \"#E5ECF6\", \"caxis\": {\"gridcolor\": \"white\", \"linecolor\": \"white\", \"ticks\": \"\"}}, \"title\": {\"x\": 0.05}, \"xaxis\": {\"automargin\": true, \"gridcolor\": \"white\", \"linecolor\": \"white\", \"ticks\": \"\", \"title\": {\"standoff\": 15}, \"zerolinecolor\": \"white\", \"zerolinewidth\": 2}, \"yaxis\": {\"automargin\": true, \"gridcolor\": \"white\", \"linecolor\": \"white\", \"ticks\": \"\", \"title\": {\"standoff\": 15}, \"zerolinecolor\": \"white\", \"zerolinewidth\": 2}}}, \"title\": {\"text\": \"3d TSNE Plot for Outliers\"}, \"width\": 900},\n",
       "                        {\"responsive\": true}\n",
       "                    ).then(function(){\n",
       "                            \n",
       "var gd = document.getElementById('7ab14dd3-8b69-428d-a5fb-53a4ff0b77ca');\n",
       "var x = new MutationObserver(function (mutations, observer) {{\n",
       "        var display = window.getComputedStyle(gd).display;\n",
       "        if (!display || display === 'none') {{\n",
       "            console.log([gd, 'removed!']);\n",
       "            Plotly.purge(gd);\n",
       "            observer.disconnect();\n",
       "        }}\n",
       "}});\n",
       "\n",
       "// Listen for the removal of the full notebook cells\n",
       "var notebookContainer = gd.closest('#notebook-container');\n",
       "if (notebookContainer) {{\n",
       "    x.observe(notebookContainer, {childList: true});\n",
       "}}\n",
       "\n",
       "// Listen for the clearing of the current output cell\n",
       "var outputEl = gd.closest('.output');\n",
       "if (outputEl) {{\n",
       "    x.observe(outputEl, {childList: true});\n",
       "}}\n",
       "\n",
       "                        })\n",
       "                };\n",
       "                });\n",
       "            </script>\n",
       "        </div>"
      ]
     },
     "metadata": {},
     "output_type": "display_data"
    }
   ],
   "source": [
    "plot_model(knn)"
   ]
  },
  {
   "cell_type": "code",
   "execution_count": 8,
   "metadata": {},
   "outputs": [
    {
     "data": {
      "text/plain": [
       "<matplotlib.axes._subplots.AxesSubplot at 0x7f083c25ffd0>"
      ]
     },
     "execution_count": 8,
     "metadata": {},
     "output_type": "execute_result"
    },
    {
     "data": {
      "image/png": "[encoded data removed]",
      "text/plain": [
       "<Figure size 432x288 with 1 Axes>"
      ]
     },
     "metadata": {
      "needs_background": "light"
     },
     "output_type": "display_data"
    }
   ],
   "source": [
    "knn_df['Label'].value_counts().plot.bar()"
   ]
  },
  {
   "cell_type": "code",
   "execution_count": 9,
   "metadata": {},
   "outputs": [
    {
     "data": {
      "text/plain": [
       "0    223\n",
       "1     11\n",
       "Name: Label, dtype: int64"
      ]
     },
     "execution_count": 9,
     "metadata": {},
     "output_type": "execute_result"
    }
   ],
   "source": [
    "knn_df['Label'].value_counts()"
   ]
  },
  {
   "cell_type": "markdown",
   "metadata": {},
   "source": [
    "# Separating Anomaly Label 0 and 1"
   ]
  },
  {
   "cell_type": "code",
   "execution_count": 10,
   "metadata": {},
   "outputs": [],
   "source": [
    "df = knn_df.loc[knn_df['Label'] == 0] "
   ]
  },
  {
   "cell_type": "code",
   "execution_count": 11,
   "metadata": {},
   "outputs": [
    {
     "data": {
      "text/html": [
       "<div>\n",
       "<style scoped>\n",
       "    .dataframe tbody tr th:only-of-type {\n",
       "        vertical-align: middle;\n",
       "    }\n",
       "\n",
       "    .dataframe tbody tr th {\n",
       "        vertical-align: top;\n",
       "    }\n",
       "\n",
       "    .dataframe thead th {\n",
       "        text-align: right;\n",
       "    }\n",
       "</style>\n",
       "<table border=\"1\" class=\"dataframe\">\n",
       "  <thead>\n",
       "    <tr style=\"text-align: right;\">\n",
       "      <th></th>\n",
       "      <th>target</th>\n",
       "      <th>tumor size</th>\n",
       "      <th>node status of the tumor</th>\n",
       "      <th>Age of the patient</th>\n",
       "      <th>tumor grade</th>\n",
       "      <th>Label</th>\n",
       "      <th>Score</th>\n",
       "    </tr>\n",
       "  </thead>\n",
       "  <tbody>\n",
       "    <tr>\n",
       "      <th>0</th>\n",
       "      <td>0</td>\n",
       "      <td>2</td>\n",
       "      <td>1</td>\n",
       "      <td>60</td>\n",
       "      <td>3</td>\n",
       "      <td>0</td>\n",
       "      <td>1.414214</td>\n",
       "    </tr>\n",
       "    <tr>\n",
       "      <th>1</th>\n",
       "      <td>0</td>\n",
       "      <td>1</td>\n",
       "      <td>1</td>\n",
       "      <td>55</td>\n",
       "      <td>2</td>\n",
       "      <td>0</td>\n",
       "      <td>2.000000</td>\n",
       "    </tr>\n",
       "    <tr>\n",
       "      <th>2</th>\n",
       "      <td>0</td>\n",
       "      <td>1</td>\n",
       "      <td>1</td>\n",
       "      <td>33</td>\n",
       "      <td>3</td>\n",
       "      <td>0</td>\n",
       "      <td>2.449490</td>\n",
       "    </tr>\n",
       "    <tr>\n",
       "      <th>3</th>\n",
       "      <td>0</td>\n",
       "      <td>1</td>\n",
       "      <td>1</td>\n",
       "      <td>67</td>\n",
       "      <td>2</td>\n",
       "      <td>0</td>\n",
       "      <td>2.236068</td>\n",
       "    </tr>\n",
       "    <tr>\n",
       "      <th>4</th>\n",
       "      <td>0</td>\n",
       "      <td>1</td>\n",
       "      <td>1</td>\n",
       "      <td>47</td>\n",
       "      <td>2</td>\n",
       "      <td>0</td>\n",
       "      <td>1.732051</td>\n",
       "    </tr>\n",
       "    <tr>\n",
       "      <th>...</th>\n",
       "      <td>...</td>\n",
       "      <td>...</td>\n",
       "      <td>...</td>\n",
       "      <td>...</td>\n",
       "      <td>...</td>\n",
       "      <td>...</td>\n",
       "      <td>...</td>\n",
       "    </tr>\n",
       "    <tr>\n",
       "      <th>229</th>\n",
       "      <td>1</td>\n",
       "      <td>2</td>\n",
       "      <td>2</td>\n",
       "      <td>55</td>\n",
       "      <td>2</td>\n",
       "      <td>0</td>\n",
       "      <td>2.236068</td>\n",
       "    </tr>\n",
       "    <tr>\n",
       "      <th>230</th>\n",
       "      <td>1</td>\n",
       "      <td>3</td>\n",
       "      <td>2</td>\n",
       "      <td>45</td>\n",
       "      <td>2</td>\n",
       "      <td>0</td>\n",
       "      <td>2.236068</td>\n",
       "    </tr>\n",
       "    <tr>\n",
       "      <th>231</th>\n",
       "      <td>1</td>\n",
       "      <td>3</td>\n",
       "      <td>2</td>\n",
       "      <td>37</td>\n",
       "      <td>3</td>\n",
       "      <td>0</td>\n",
       "      <td>2.236068</td>\n",
       "    </tr>\n",
       "    <tr>\n",
       "      <th>232</th>\n",
       "      <td>1</td>\n",
       "      <td>3</td>\n",
       "      <td>2</td>\n",
       "      <td>58</td>\n",
       "      <td>2</td>\n",
       "      <td>0</td>\n",
       "      <td>2.449490</td>\n",
       "    </tr>\n",
       "    <tr>\n",
       "      <th>233</th>\n",
       "      <td>1</td>\n",
       "      <td>1</td>\n",
       "      <td>1</td>\n",
       "      <td>52</td>\n",
       "      <td>2</td>\n",
       "      <td>0</td>\n",
       "      <td>2.236068</td>\n",
       "    </tr>\n",
       "  </tbody>\n",
       "</table>\n",
       "<p>223 rows × 7 columns</p>\n",
       "</div>"
      ],
      "text/plain": [
       "     target  tumor size  node status of the tumor  Age of the patient  \\\n",
       "0         0           2                         1                  60   \n",
       "1         0           1                         1                  55   \n",
       "2         0           1                         1                  33   \n",
       "3         0           1                         1                  67   \n",
       "4         0           1                         1                  47   \n",
       "..      ...         ...                       ...                 ...   \n",
       "229       1           2                         2                  55   \n",
       "230       1           3                         2                  45   \n",
       "231       1           3                         2                  37   \n",
       "232       1           3                         2                  58   \n",
       "233       1           1                         1                  52   \n",
       "\n",
       "     tumor grade  Label     Score  \n",
       "0              3      0  1.414214  \n",
       "1              2      0  2.000000  \n",
       "2              3      0  2.449490  \n",
       "3              2      0  2.236068  \n",
       "4              2      0  1.732051  \n",
       "..           ...    ...       ...  \n",
       "229            2      0  2.236068  \n",
       "230            2      0  2.236068  \n",
       "231            3      0  2.236068  \n",
       "232            2      0  2.449490  \n",
       "233            2      0  2.236068  \n",
       "\n",
       "[223 rows x 7 columns]"
      ]
     },
     "execution_count": 11,
     "metadata": {},
     "output_type": "execute_result"
    }
   ],
   "source": [
    "df"
   ]
  },
  {
   "cell_type": "code",
   "execution_count": 12,
   "metadata": {},
   "outputs": [],
   "source": [
    "raw = knn_df.loc[knn_df['Label'] == 1] "
   ]
  },
  {
   "cell_type": "code",
   "execution_count": 13,
   "metadata": {},
   "outputs": [
    {
     "data": {
      "text/html": [
       "<div>\n",
       "<style scoped>\n",
       "    .dataframe tbody tr th:only-of-type {\n",
       "        vertical-align: middle;\n",
       "    }\n",
       "\n",
       "    .dataframe tbody tr th {\n",
       "        vertical-align: top;\n",
       "    }\n",
       "\n",
       "    .dataframe thead th {\n",
       "        text-align: right;\n",
       "    }\n",
       "</style>\n",
       "<table border=\"1\" class=\"dataframe\">\n",
       "  <thead>\n",
       "    <tr style=\"text-align: right;\">\n",
       "      <th></th>\n",
       "      <th>target</th>\n",
       "      <th>tumor size</th>\n",
       "      <th>node status of the tumor</th>\n",
       "      <th>Age of the patient</th>\n",
       "      <th>tumor grade</th>\n",
       "      <th>Label</th>\n",
       "      <th>Score</th>\n",
       "    </tr>\n",
       "  </thead>\n",
       "  <tbody>\n",
       "    <tr>\n",
       "      <th>7</th>\n",
       "      <td>0</td>\n",
       "      <td>1</td>\n",
       "      <td>1</td>\n",
       "      <td>26</td>\n",
       "      <td>2</td>\n",
       "      <td>1</td>\n",
       "      <td>2.828427</td>\n",
       "    </tr>\n",
       "    <tr>\n",
       "      <th>25</th>\n",
       "      <td>0</td>\n",
       "      <td>2</td>\n",
       "      <td>0</td>\n",
       "      <td>30</td>\n",
       "      <td>2</td>\n",
       "      <td>1</td>\n",
       "      <td>2.828427</td>\n",
       "    </tr>\n",
       "    <tr>\n",
       "      <th>71</th>\n",
       "      <td>0</td>\n",
       "      <td>2</td>\n",
       "      <td>0</td>\n",
       "      <td>25</td>\n",
       "      <td>3</td>\n",
       "      <td>1</td>\n",
       "      <td>3.316625</td>\n",
       "    </tr>\n",
       "    <tr>\n",
       "      <th>76</th>\n",
       "      <td>0</td>\n",
       "      <td>1</td>\n",
       "      <td>1</td>\n",
       "      <td>72</td>\n",
       "      <td>2</td>\n",
       "      <td>1</td>\n",
       "      <td>4.242641</td>\n",
       "    </tr>\n",
       "    <tr>\n",
       "      <th>117</th>\n",
       "      <td>0</td>\n",
       "      <td>2</td>\n",
       "      <td>1</td>\n",
       "      <td>29</td>\n",
       "      <td>3</td>\n",
       "      <td>1</td>\n",
       "      <td>3.000000</td>\n",
       "    </tr>\n",
       "    <tr>\n",
       "      <th>147</th>\n",
       "      <td>0</td>\n",
       "      <td>2</td>\n",
       "      <td>1</td>\n",
       "      <td>25</td>\n",
       "      <td>3</td>\n",
       "      <td>1</td>\n",
       "      <td>3.000000</td>\n",
       "    </tr>\n",
       "    <tr>\n",
       "      <th>149</th>\n",
       "      <td>0</td>\n",
       "      <td>2</td>\n",
       "      <td>1</td>\n",
       "      <td>28</td>\n",
       "      <td>3</td>\n",
       "      <td>1</td>\n",
       "      <td>2.828427</td>\n",
       "    </tr>\n",
       "    <tr>\n",
       "      <th>171</th>\n",
       "      <td>0</td>\n",
       "      <td>2</td>\n",
       "      <td>2</td>\n",
       "      <td>30</td>\n",
       "      <td>2</td>\n",
       "      <td>1</td>\n",
       "      <td>2.828427</td>\n",
       "    </tr>\n",
       "    <tr>\n",
       "      <th>174</th>\n",
       "      <td>0</td>\n",
       "      <td>3</td>\n",
       "      <td>1</td>\n",
       "      <td>70</td>\n",
       "      <td>3</td>\n",
       "      <td>1</td>\n",
       "      <td>3.162278</td>\n",
       "    </tr>\n",
       "    <tr>\n",
       "      <th>190</th>\n",
       "      <td>0</td>\n",
       "      <td>2</td>\n",
       "      <td>3</td>\n",
       "      <td>73</td>\n",
       "      <td>3</td>\n",
       "      <td>1</td>\n",
       "      <td>5.196152</td>\n",
       "    </tr>\n",
       "    <tr>\n",
       "      <th>228</th>\n",
       "      <td>1</td>\n",
       "      <td>2</td>\n",
       "      <td>2</td>\n",
       "      <td>75</td>\n",
       "      <td>3</td>\n",
       "      <td>1</td>\n",
       "      <td>7.141428</td>\n",
       "    </tr>\n",
       "  </tbody>\n",
       "</table>\n",
       "</div>"
      ],
      "text/plain": [
       "     target  tumor size  node status of the tumor  Age of the patient  \\\n",
       "7         0           1                         1                  26   \n",
       "25        0           2                         0                  30   \n",
       "71        0           2                         0                  25   \n",
       "76        0           1                         1                  72   \n",
       "117       0           2                         1                  29   \n",
       "147       0           2                         1                  25   \n",
       "149       0           2                         1                  28   \n",
       "171       0           2                         2                  30   \n",
       "174       0           3                         1                  70   \n",
       "190       0           2                         3                  73   \n",
       "228       1           2                         2                  75   \n",
       "\n",
       "     tumor grade  Label     Score  \n",
       "7              2      1  2.828427  \n",
       "25             2      1  2.828427  \n",
       "71             3      1  3.316625  \n",
       "76             2      1  4.242641  \n",
       "117            3      1  3.000000  \n",
       "147            3      1  3.000000  \n",
       "149            3      1  2.828427  \n",
       "171            2      1  2.828427  \n",
       "174            3      1  3.162278  \n",
       "190            3      1  5.196152  \n",
       "228            3      1  7.141428  "
      ]
     },
     "execution_count": 13,
     "metadata": {},
     "output_type": "execute_result"
    }
   ],
   "source": [
    "raw"
   ]
  },
  {
   "cell_type": "code",
   "execution_count": 14,
   "metadata": {},
   "outputs": [],
   "source": [
    "df = df.drop([\"Label\"],axis=1)"
   ]
  },
  {
   "cell_type": "code",
   "execution_count": 15,
   "metadata": {},
   "outputs": [
    {
     "data": {
      "text/html": [
       "<div>\n",
       "<style scoped>\n",
       "    .dataframe tbody tr th:only-of-type {\n",
       "        vertical-align: middle;\n",
       "    }\n",
       "\n",
       "    .dataframe tbody tr th {\n",
       "        vertical-align: top;\n",
       "    }\n",
       "\n",
       "    .dataframe thead th {\n",
       "        text-align: right;\n",
       "    }\n",
       "</style>\n",
       "<table border=\"1\" class=\"dataframe\">\n",
       "  <thead>\n",
       "    <tr style=\"text-align: right;\">\n",
       "      <th></th>\n",
       "      <th>target</th>\n",
       "      <th>tumor size</th>\n",
       "      <th>node status of the tumor</th>\n",
       "      <th>Age of the patient</th>\n",
       "      <th>tumor grade</th>\n",
       "      <th>Score</th>\n",
       "    </tr>\n",
       "  </thead>\n",
       "  <tbody>\n",
       "    <tr>\n",
       "      <th>0</th>\n",
       "      <td>0</td>\n",
       "      <td>2</td>\n",
       "      <td>1</td>\n",
       "      <td>60</td>\n",
       "      <td>3</td>\n",
       "      <td>1.414214</td>\n",
       "    </tr>\n",
       "    <tr>\n",
       "      <th>1</th>\n",
       "      <td>0</td>\n",
       "      <td>1</td>\n",
       "      <td>1</td>\n",
       "      <td>55</td>\n",
       "      <td>2</td>\n",
       "      <td>2.000000</td>\n",
       "    </tr>\n",
       "    <tr>\n",
       "      <th>2</th>\n",
       "      <td>0</td>\n",
       "      <td>1</td>\n",
       "      <td>1</td>\n",
       "      <td>33</td>\n",
       "      <td>3</td>\n",
       "      <td>2.449490</td>\n",
       "    </tr>\n",
       "    <tr>\n",
       "      <th>3</th>\n",
       "      <td>0</td>\n",
       "      <td>1</td>\n",
       "      <td>1</td>\n",
       "      <td>67</td>\n",
       "      <td>2</td>\n",
       "      <td>2.236068</td>\n",
       "    </tr>\n",
       "    <tr>\n",
       "      <th>4</th>\n",
       "      <td>0</td>\n",
       "      <td>1</td>\n",
       "      <td>1</td>\n",
       "      <td>47</td>\n",
       "      <td>2</td>\n",
       "      <td>1.732051</td>\n",
       "    </tr>\n",
       "    <tr>\n",
       "      <th>...</th>\n",
       "      <td>...</td>\n",
       "      <td>...</td>\n",
       "      <td>...</td>\n",
       "      <td>...</td>\n",
       "      <td>...</td>\n",
       "      <td>...</td>\n",
       "    </tr>\n",
       "    <tr>\n",
       "      <th>229</th>\n",
       "      <td>1</td>\n",
       "      <td>2</td>\n",
       "      <td>2</td>\n",
       "      <td>55</td>\n",
       "      <td>2</td>\n",
       "      <td>2.236068</td>\n",
       "    </tr>\n",
       "    <tr>\n",
       "      <th>230</th>\n",
       "      <td>1</td>\n",
       "      <td>3</td>\n",
       "      <td>2</td>\n",
       "      <td>45</td>\n",
       "      <td>2</td>\n",
       "      <td>2.236068</td>\n",
       "    </tr>\n",
       "    <tr>\n",
       "      <th>231</th>\n",
       "      <td>1</td>\n",
       "      <td>3</td>\n",
       "      <td>2</td>\n",
       "      <td>37</td>\n",
       "      <td>3</td>\n",
       "      <td>2.236068</td>\n",
       "    </tr>\n",
       "    <tr>\n",
       "      <th>232</th>\n",
       "      <td>1</td>\n",
       "      <td>3</td>\n",
       "      <td>2</td>\n",
       "      <td>58</td>\n",
       "      <td>2</td>\n",
       "      <td>2.449490</td>\n",
       "    </tr>\n",
       "    <tr>\n",
       "      <th>233</th>\n",
       "      <td>1</td>\n",
       "      <td>1</td>\n",
       "      <td>1</td>\n",
       "      <td>52</td>\n",
       "      <td>2</td>\n",
       "      <td>2.236068</td>\n",
       "    </tr>\n",
       "  </tbody>\n",
       "</table>\n",
       "<p>223 rows × 6 columns</p>\n",
       "</div>"
      ],
      "text/plain": [
       "     target  tumor size  node status of the tumor  Age of the patient  \\\n",
       "0         0           2                         1                  60   \n",
       "1         0           1                         1                  55   \n",
       "2         0           1                         1                  33   \n",
       "3         0           1                         1                  67   \n",
       "4         0           1                         1                  47   \n",
       "..      ...         ...                       ...                 ...   \n",
       "229       1           2                         2                  55   \n",
       "230       1           3                         2                  45   \n",
       "231       1           3                         2                  37   \n",
       "232       1           3                         2                  58   \n",
       "233       1           1                         1                  52   \n",
       "\n",
       "     tumor grade     Score  \n",
       "0              3  1.414214  \n",
       "1              2  2.000000  \n",
       "2              3  2.449490  \n",
       "3              2  2.236068  \n",
       "4              2  1.732051  \n",
       "..           ...       ...  \n",
       "229            2  2.236068  \n",
       "230            2  2.236068  \n",
       "231            3  2.236068  \n",
       "232            2  2.449490  \n",
       "233            2  2.236068  \n",
       "\n",
       "[223 rows x 6 columns]"
      ]
     },
     "execution_count": 15,
     "metadata": {},
     "output_type": "execute_result"
    }
   ],
   "source": [
    "df\n"
   ]
  },
  {
   "cell_type": "code",
   "execution_count": 16,
   "metadata": {},
   "outputs": [],
   "source": [
    "columns = df.columns\n"
   ]
  },
  {
   "cell_type": "code",
   "execution_count": 17,
   "metadata": {},
   "outputs": [
    {
     "data": {
      "text/plain": [
       "0    223\n",
       "1     11\n",
       "Name: Label, dtype: int64"
      ]
     },
     "execution_count": 17,
     "metadata": {},
     "output_type": "execute_result"
    },
    {
     "data": {
      "image/png": "[encoded data removed]",
      "text/plain": [
       "<Figure size 432x288 with 1 Axes>"
      ]
     },
     "metadata": {
      "needs_background": "light"
     },
     "output_type": "display_data"
    }
   ],
   "source": [
    "df['target'].value_counts().plot.bar()\n",
    "knn_df['Label'].value_counts()\n"
   ]
  },
  {
   "cell_type": "markdown",
   "metadata": {},
   "source": [
    "# Splitting Dependent and Independent coloumns"
   ]
  },
  {
   "cell_type": "code",
   "execution_count": 18,
   "metadata": {},
   "outputs": [],
   "source": [
    "from sklearn.model_selection import train_test_split"
   ]
  },
  {
   "cell_type": "code",
   "execution_count": 19,
   "metadata": {},
   "outputs": [],
   "source": [
    "X_res = df.iloc[:,1:].values\n",
    "y_res = df.iloc[:,0].values"
   ]
  },
  {
   "cell_type": "markdown",
   "metadata": {},
   "source": [
    "# Appling Data Balancing Techinque using RandomOversampler"
   ]
  },
  {
   "cell_type": "code",
   "execution_count": 20,
   "metadata": {},
   "outputs": [
    {
     "name": "stderr",
     "output_type": "stream",
     "text": [
      "Using TensorFlow backend.\n"
     ]
    }
   ],
   "source": [
    "from imblearn.over_sampling import RandomOverSampler"
   ]
  },
  {
   "cell_type": "code",
   "execution_count": 21,
   "metadata": {},
   "outputs": [],
   "source": [
    "os = RandomOverSampler()\n",
    "X_res,y_res = os.fit_sample(X_res,y_res)"
   ]
  },
  {
   "cell_type": "code",
   "execution_count": 22,
   "metadata": {},
   "outputs": [
    {
     "data": {
      "text/plain": [
       "(362, 5)"
      ]
     },
     "execution_count": 22,
     "metadata": {},
     "output_type": "execute_result"
    }
   ],
   "source": [
    "X_res.shape"
   ]
  },
  {
   "cell_type": "code",
   "execution_count": 23,
   "metadata": {},
   "outputs": [
    {
     "data": {
      "text/plain": [
       "(362,)"
      ]
     },
     "execution_count": 23,
     "metadata": {},
     "output_type": "execute_result"
    }
   ],
   "source": [
    "y_res.shape"
   ]
  },
  {
   "cell_type": "code",
   "execution_count": 24,
   "metadata": {},
   "outputs": [],
   "source": [
    "x = pd.DataFrame(X_res)\n",
    "y = pd.DataFrame(y_res)"
   ]
  },
  {
   "cell_type": "code",
   "execution_count": 25,
   "metadata": {},
   "outputs": [],
   "source": [
    "df = pd.concat([y,x],axis=1)"
   ]
  },
  {
   "cell_type": "code",
   "execution_count": 26,
   "metadata": {},
   "outputs": [
    {
     "data": {
      "text/html": [
       "<div>\n",
       "<style scoped>\n",
       "    .dataframe tbody tr th:only-of-type {\n",
       "        vertical-align: middle;\n",
       "    }\n",
       "\n",
       "    .dataframe tbody tr th {\n",
       "        vertical-align: top;\n",
       "    }\n",
       "\n",
       "    .dataframe thead th {\n",
       "        text-align: right;\n",
       "    }\n",
       "</style>\n",
       "<table border=\"1\" class=\"dataframe\">\n",
       "  <thead>\n",
       "    <tr style=\"text-align: right;\">\n",
       "      <th></th>\n",
       "      <th>0</th>\n",
       "      <th>0</th>\n",
       "      <th>1</th>\n",
       "      <th>2</th>\n",
       "      <th>3</th>\n",
       "      <th>4</th>\n",
       "    </tr>\n",
       "  </thead>\n",
       "  <tbody>\n",
       "    <tr>\n",
       "      <th>0</th>\n",
       "      <td>0</td>\n",
       "      <td>2.0</td>\n",
       "      <td>1.0</td>\n",
       "      <td>60.0</td>\n",
       "      <td>3.0</td>\n",
       "      <td>1.414214</td>\n",
       "    </tr>\n",
       "    <tr>\n",
       "      <th>1</th>\n",
       "      <td>0</td>\n",
       "      <td>1.0</td>\n",
       "      <td>1.0</td>\n",
       "      <td>55.0</td>\n",
       "      <td>2.0</td>\n",
       "      <td>2.000000</td>\n",
       "    </tr>\n",
       "    <tr>\n",
       "      <th>2</th>\n",
       "      <td>0</td>\n",
       "      <td>1.0</td>\n",
       "      <td>1.0</td>\n",
       "      <td>33.0</td>\n",
       "      <td>3.0</td>\n",
       "      <td>2.449490</td>\n",
       "    </tr>\n",
       "    <tr>\n",
       "      <th>3</th>\n",
       "      <td>0</td>\n",
       "      <td>1.0</td>\n",
       "      <td>1.0</td>\n",
       "      <td>67.0</td>\n",
       "      <td>2.0</td>\n",
       "      <td>2.236068</td>\n",
       "    </tr>\n",
       "    <tr>\n",
       "      <th>4</th>\n",
       "      <td>0</td>\n",
       "      <td>1.0</td>\n",
       "      <td>1.0</td>\n",
       "      <td>47.0</td>\n",
       "      <td>2.0</td>\n",
       "      <td>1.732051</td>\n",
       "    </tr>\n",
       "    <tr>\n",
       "      <th>...</th>\n",
       "      <td>...</td>\n",
       "      <td>...</td>\n",
       "      <td>...</td>\n",
       "      <td>...</td>\n",
       "      <td>...</td>\n",
       "      <td>...</td>\n",
       "    </tr>\n",
       "    <tr>\n",
       "      <th>357</th>\n",
       "      <td>1</td>\n",
       "      <td>1.0</td>\n",
       "      <td>1.0</td>\n",
       "      <td>52.0</td>\n",
       "      <td>3.0</td>\n",
       "      <td>2.000000</td>\n",
       "    </tr>\n",
       "    <tr>\n",
       "      <th>358</th>\n",
       "      <td>1</td>\n",
       "      <td>2.0</td>\n",
       "      <td>2.0</td>\n",
       "      <td>50.0</td>\n",
       "      <td>3.0</td>\n",
       "      <td>2.236068</td>\n",
       "    </tr>\n",
       "    <tr>\n",
       "      <th>359</th>\n",
       "      <td>1</td>\n",
       "      <td>1.0</td>\n",
       "      <td>2.0</td>\n",
       "      <td>64.0</td>\n",
       "      <td>1.0</td>\n",
       "      <td>2.645751</td>\n",
       "    </tr>\n",
       "    <tr>\n",
       "      <th>360</th>\n",
       "      <td>1</td>\n",
       "      <td>2.0</td>\n",
       "      <td>1.0</td>\n",
       "      <td>63.0</td>\n",
       "      <td>3.0</td>\n",
       "      <td>2.000000</td>\n",
       "    </tr>\n",
       "    <tr>\n",
       "      <th>361</th>\n",
       "      <td>1</td>\n",
       "      <td>2.0</td>\n",
       "      <td>1.0</td>\n",
       "      <td>66.0</td>\n",
       "      <td>3.0</td>\n",
       "      <td>2.236068</td>\n",
       "    </tr>\n",
       "  </tbody>\n",
       "</table>\n",
       "<p>362 rows × 6 columns</p>\n",
       "</div>"
      ],
      "text/plain": [
       "     0    0    1     2    3         4\n",
       "0    0  2.0  1.0  60.0  3.0  1.414214\n",
       "1    0  1.0  1.0  55.0  2.0  2.000000\n",
       "2    0  1.0  1.0  33.0  3.0  2.449490\n",
       "3    0  1.0  1.0  67.0  2.0  2.236068\n",
       "4    0  1.0  1.0  47.0  2.0  1.732051\n",
       "..  ..  ...  ...   ...  ...       ...\n",
       "357  1  1.0  1.0  52.0  3.0  2.000000\n",
       "358  1  2.0  2.0  50.0  3.0  2.236068\n",
       "359  1  1.0  2.0  64.0  1.0  2.645751\n",
       "360  1  2.0  1.0  63.0  3.0  2.000000\n",
       "361  1  2.0  1.0  66.0  3.0  2.236068\n",
       "\n",
       "[362 rows x 6 columns]"
      ]
     },
     "execution_count": 26,
     "metadata": {},
     "output_type": "execute_result"
    }
   ],
   "source": [
    "df"
   ]
  },
  {
   "cell_type": "code",
   "execution_count": 27,
   "metadata": {},
   "outputs": [],
   "source": [
    "df.columns = columns"
   ]
  },
  {
   "cell_type": "code",
   "execution_count": 28,
   "metadata": {},
   "outputs": [
    {
     "data": {
      "text/html": [
       "<div>\n",
       "<style scoped>\n",
       "    .dataframe tbody tr th:only-of-type {\n",
       "        vertical-align: middle;\n",
       "    }\n",
       "\n",
       "    .dataframe tbody tr th {\n",
       "        vertical-align: top;\n",
       "    }\n",
       "\n",
       "    .dataframe thead th {\n",
       "        text-align: right;\n",
       "    }\n",
       "</style>\n",
       "<table border=\"1\" class=\"dataframe\">\n",
       "  <thead>\n",
       "    <tr style=\"text-align: right;\">\n",
       "      <th></th>\n",
       "      <th>target</th>\n",
       "      <th>tumor size</th>\n",
       "      <th>node status of the tumor</th>\n",
       "      <th>Age of the patient</th>\n",
       "      <th>tumor grade</th>\n",
       "      <th>Score</th>\n",
       "    </tr>\n",
       "  </thead>\n",
       "  <tbody>\n",
       "    <tr>\n",
       "      <th>0</th>\n",
       "      <td>0</td>\n",
       "      <td>2.0</td>\n",
       "      <td>1.0</td>\n",
       "      <td>60.0</td>\n",
       "      <td>3.0</td>\n",
       "      <td>1.414214</td>\n",
       "    </tr>\n",
       "    <tr>\n",
       "      <th>1</th>\n",
       "      <td>0</td>\n",
       "      <td>1.0</td>\n",
       "      <td>1.0</td>\n",
       "      <td>55.0</td>\n",
       "      <td>2.0</td>\n",
       "      <td>2.000000</td>\n",
       "    </tr>\n",
       "    <tr>\n",
       "      <th>2</th>\n",
       "      <td>0</td>\n",
       "      <td>1.0</td>\n",
       "      <td>1.0</td>\n",
       "      <td>33.0</td>\n",
       "      <td>3.0</td>\n",
       "      <td>2.449490</td>\n",
       "    </tr>\n",
       "    <tr>\n",
       "      <th>3</th>\n",
       "      <td>0</td>\n",
       "      <td>1.0</td>\n",
       "      <td>1.0</td>\n",
       "      <td>67.0</td>\n",
       "      <td>2.0</td>\n",
       "      <td>2.236068</td>\n",
       "    </tr>\n",
       "    <tr>\n",
       "      <th>4</th>\n",
       "      <td>0</td>\n",
       "      <td>1.0</td>\n",
       "      <td>1.0</td>\n",
       "      <td>47.0</td>\n",
       "      <td>2.0</td>\n",
       "      <td>1.732051</td>\n",
       "    </tr>\n",
       "    <tr>\n",
       "      <th>...</th>\n",
       "      <td>...</td>\n",
       "      <td>...</td>\n",
       "      <td>...</td>\n",
       "      <td>...</td>\n",
       "      <td>...</td>\n",
       "      <td>...</td>\n",
       "    </tr>\n",
       "    <tr>\n",
       "      <th>357</th>\n",
       "      <td>1</td>\n",
       "      <td>1.0</td>\n",
       "      <td>1.0</td>\n",
       "      <td>52.0</td>\n",
       "      <td>3.0</td>\n",
       "      <td>2.000000</td>\n",
       "    </tr>\n",
       "    <tr>\n",
       "      <th>358</th>\n",
       "      <td>1</td>\n",
       "      <td>2.0</td>\n",
       "      <td>2.0</td>\n",
       "      <td>50.0</td>\n",
       "      <td>3.0</td>\n",
       "      <td>2.236068</td>\n",
       "    </tr>\n",
       "    <tr>\n",
       "      <th>359</th>\n",
       "      <td>1</td>\n",
       "      <td>1.0</td>\n",
       "      <td>2.0</td>\n",
       "      <td>64.0</td>\n",
       "      <td>1.0</td>\n",
       "      <td>2.645751</td>\n",
       "    </tr>\n",
       "    <tr>\n",
       "      <th>360</th>\n",
       "      <td>1</td>\n",
       "      <td>2.0</td>\n",
       "      <td>1.0</td>\n",
       "      <td>63.0</td>\n",
       "      <td>3.0</td>\n",
       "      <td>2.000000</td>\n",
       "    </tr>\n",
       "    <tr>\n",
       "      <th>361</th>\n",
       "      <td>1</td>\n",
       "      <td>2.0</td>\n",
       "      <td>1.0</td>\n",
       "      <td>66.0</td>\n",
       "      <td>3.0</td>\n",
       "      <td>2.236068</td>\n",
       "    </tr>\n",
       "  </tbody>\n",
       "</table>\n",
       "<p>362 rows × 6 columns</p>\n",
       "</div>"
      ],
      "text/plain": [
       "     target  tumor size  node status of the tumor  Age of the patient  \\\n",
       "0         0         2.0                       1.0                60.0   \n",
       "1         0         1.0                       1.0                55.0   \n",
       "2         0         1.0                       1.0                33.0   \n",
       "3         0         1.0                       1.0                67.0   \n",
       "4         0         1.0                       1.0                47.0   \n",
       "..      ...         ...                       ...                 ...   \n",
       "357       1         1.0                       1.0                52.0   \n",
       "358       1         2.0                       2.0                50.0   \n",
       "359       1         1.0                       2.0                64.0   \n",
       "360       1         2.0                       1.0                63.0   \n",
       "361       1         2.0                       1.0                66.0   \n",
       "\n",
       "     tumor grade     Score  \n",
       "0            3.0  1.414214  \n",
       "1            2.0  2.000000  \n",
       "2            3.0  2.449490  \n",
       "3            2.0  2.236068  \n",
       "4            2.0  1.732051  \n",
       "..           ...       ...  \n",
       "357          3.0  2.000000  \n",
       "358          3.0  2.236068  \n",
       "359          1.0  2.645751  \n",
       "360          3.0  2.000000  \n",
       "361          3.0  2.236068  \n",
       "\n",
       "[362 rows x 6 columns]"
      ]
     },
     "execution_count": 28,
     "metadata": {},
     "output_type": "execute_result"
    }
   ],
   "source": [
    "df"
   ]
  },
  {
   "cell_type": "markdown",
   "metadata": {},
   "source": [
    "# Compare Models Using pycaret"
   ]
  },
  {
   "cell_type": "code",
   "execution_count": 29,
   "metadata": {},
   "outputs": [
    {
     "data": {
      "text/html": [
       "<style  type=\"text/css\" >\n",
       "    #T_391931d0_9444_11ea_9c69_75821ec809df th {\n",
       "          text-align: left;\n",
       "    }    #T_391931d0_9444_11ea_9c69_75821ec809dfrow0_col0 {\n",
       "            text-align:  left;\n",
       "        }    #T_391931d0_9444_11ea_9c69_75821ec809dfrow0_col1 {\n",
       "            background-color:  yellow;\n",
       "            text-align:  left;\n",
       "        }    #T_391931d0_9444_11ea_9c69_75821ec809dfrow0_col2 {\n",
       "            : ;\n",
       "            text-align:  left;\n",
       "        }    #T_391931d0_9444_11ea_9c69_75821ec809dfrow0_col3 {\n",
       "            : ;\n",
       "            text-align:  left;\n",
       "        }    #T_391931d0_9444_11ea_9c69_75821ec809dfrow0_col4 {\n",
       "            : ;\n",
       "            text-align:  left;\n",
       "        }    #T_391931d0_9444_11ea_9c69_75821ec809dfrow0_col5 {\n",
       "            background-color:  yellow;\n",
       "            text-align:  left;\n",
       "        }    #T_391931d0_9444_11ea_9c69_75821ec809dfrow0_col6 {\n",
       "            background-color:  yellow;\n",
       "            text-align:  left;\n",
       "        }    #T_391931d0_9444_11ea_9c69_75821ec809dfrow1_col0 {\n",
       "            text-align:  left;\n",
       "        }    #T_391931d0_9444_11ea_9c69_75821ec809dfrow1_col1 {\n",
       "            : ;\n",
       "            text-align:  left;\n",
       "        }    #T_391931d0_9444_11ea_9c69_75821ec809dfrow1_col2 {\n",
       "            : ;\n",
       "            text-align:  left;\n",
       "        }    #T_391931d0_9444_11ea_9c69_75821ec809dfrow1_col3 {\n",
       "            : ;\n",
       "            text-align:  left;\n",
       "        }    #T_391931d0_9444_11ea_9c69_75821ec809dfrow1_col4 {\n",
       "            : ;\n",
       "            text-align:  left;\n",
       "        }    #T_391931d0_9444_11ea_9c69_75821ec809dfrow1_col5 {\n",
       "            : ;\n",
       "            text-align:  left;\n",
       "        }    #T_391931d0_9444_11ea_9c69_75821ec809dfrow1_col6 {\n",
       "            : ;\n",
       "            text-align:  left;\n",
       "        }    #T_391931d0_9444_11ea_9c69_75821ec809dfrow2_col0 {\n",
       "            text-align:  left;\n",
       "        }    #T_391931d0_9444_11ea_9c69_75821ec809dfrow2_col1 {\n",
       "            : ;\n",
       "            text-align:  left;\n",
       "        }    #T_391931d0_9444_11ea_9c69_75821ec809dfrow2_col2 {\n",
       "            background-color:  yellow;\n",
       "            text-align:  left;\n",
       "        }    #T_391931d0_9444_11ea_9c69_75821ec809dfrow2_col3 {\n",
       "            : ;\n",
       "            text-align:  left;\n",
       "        }    #T_391931d0_9444_11ea_9c69_75821ec809dfrow2_col4 {\n",
       "            : ;\n",
       "            text-align:  left;\n",
       "        }    #T_391931d0_9444_11ea_9c69_75821ec809dfrow2_col5 {\n",
       "            : ;\n",
       "            text-align:  left;\n",
       "        }    #T_391931d0_9444_11ea_9c69_75821ec809dfrow2_col6 {\n",
       "            : ;\n",
       "            text-align:  left;\n",
       "        }    #T_391931d0_9444_11ea_9c69_75821ec809dfrow3_col0 {\n",
       "            text-align:  left;\n",
       "        }    #T_391931d0_9444_11ea_9c69_75821ec809dfrow3_col1 {\n",
       "            : ;\n",
       "            text-align:  left;\n",
       "        }    #T_391931d0_9444_11ea_9c69_75821ec809dfrow3_col2 {\n",
       "            : ;\n",
       "            text-align:  left;\n",
       "        }    #T_391931d0_9444_11ea_9c69_75821ec809dfrow3_col3 {\n",
       "            : ;\n",
       "            text-align:  left;\n",
       "        }    #T_391931d0_9444_11ea_9c69_75821ec809dfrow3_col4 {\n",
       "            background-color:  yellow;\n",
       "            text-align:  left;\n",
       "        }    #T_391931d0_9444_11ea_9c69_75821ec809dfrow3_col5 {\n",
       "            : ;\n",
       "            text-align:  left;\n",
       "        }    #T_391931d0_9444_11ea_9c69_75821ec809dfrow3_col6 {\n",
       "            : ;\n",
       "            text-align:  left;\n",
       "        }    #T_391931d0_9444_11ea_9c69_75821ec809dfrow4_col0 {\n",
       "            text-align:  left;\n",
       "        }    #T_391931d0_9444_11ea_9c69_75821ec809dfrow4_col1 {\n",
       "            : ;\n",
       "            text-align:  left;\n",
       "        }    #T_391931d0_9444_11ea_9c69_75821ec809dfrow4_col2 {\n",
       "            : ;\n",
       "            text-align:  left;\n",
       "        }    #T_391931d0_9444_11ea_9c69_75821ec809dfrow4_col3 {\n",
       "            background-color:  yellow;\n",
       "            text-align:  left;\n",
       "        }    #T_391931d0_9444_11ea_9c69_75821ec809dfrow4_col4 {\n",
       "            : ;\n",
       "            text-align:  left;\n",
       "        }    #T_391931d0_9444_11ea_9c69_75821ec809dfrow4_col5 {\n",
       "            : ;\n",
       "            text-align:  left;\n",
       "        }    #T_391931d0_9444_11ea_9c69_75821ec809dfrow4_col6 {\n",
       "            : ;\n",
       "            text-align:  left;\n",
       "        }    #T_391931d0_9444_11ea_9c69_75821ec809dfrow5_col0 {\n",
       "            text-align:  left;\n",
       "        }    #T_391931d0_9444_11ea_9c69_75821ec809dfrow5_col1 {\n",
       "            : ;\n",
       "            text-align:  left;\n",
       "        }    #T_391931d0_9444_11ea_9c69_75821ec809dfrow5_col2 {\n",
       "            : ;\n",
       "            text-align:  left;\n",
       "        }    #T_391931d0_9444_11ea_9c69_75821ec809dfrow5_col3 {\n",
       "            : ;\n",
       "            text-align:  left;\n",
       "        }    #T_391931d0_9444_11ea_9c69_75821ec809dfrow5_col4 {\n",
       "            : ;\n",
       "            text-align:  left;\n",
       "        }    #T_391931d0_9444_11ea_9c69_75821ec809dfrow5_col5 {\n",
       "            : ;\n",
       "            text-align:  left;\n",
       "        }    #T_391931d0_9444_11ea_9c69_75821ec809dfrow5_col6 {\n",
       "            : ;\n",
       "            text-align:  left;\n",
       "        }    #T_391931d0_9444_11ea_9c69_75821ec809dfrow6_col0 {\n",
       "            text-align:  left;\n",
       "        }    #T_391931d0_9444_11ea_9c69_75821ec809dfrow6_col1 {\n",
       "            : ;\n",
       "            text-align:  left;\n",
       "        }    #T_391931d0_9444_11ea_9c69_75821ec809dfrow6_col2 {\n",
       "            : ;\n",
       "            text-align:  left;\n",
       "        }    #T_391931d0_9444_11ea_9c69_75821ec809dfrow6_col3 {\n",
       "            : ;\n",
       "            text-align:  left;\n",
       "        }    #T_391931d0_9444_11ea_9c69_75821ec809dfrow6_col4 {\n",
       "            : ;\n",
       "            text-align:  left;\n",
       "        }    #T_391931d0_9444_11ea_9c69_75821ec809dfrow6_col5 {\n",
       "            : ;\n",
       "            text-align:  left;\n",
       "        }    #T_391931d0_9444_11ea_9c69_75821ec809dfrow6_col6 {\n",
       "            : ;\n",
       "            text-align:  left;\n",
       "        }    #T_391931d0_9444_11ea_9c69_75821ec809dfrow7_col0 {\n",
       "            text-align:  left;\n",
       "        }    #T_391931d0_9444_11ea_9c69_75821ec809dfrow7_col1 {\n",
       "            : ;\n",
       "            text-align:  left;\n",
       "        }    #T_391931d0_9444_11ea_9c69_75821ec809dfrow7_col2 {\n",
       "            : ;\n",
       "            text-align:  left;\n",
       "        }    #T_391931d0_9444_11ea_9c69_75821ec809dfrow7_col3 {\n",
       "            : ;\n",
       "            text-align:  left;\n",
       "        }    #T_391931d0_9444_11ea_9c69_75821ec809dfrow7_col4 {\n",
       "            : ;\n",
       "            text-align:  left;\n",
       "        }    #T_391931d0_9444_11ea_9c69_75821ec809dfrow7_col5 {\n",
       "            : ;\n",
       "            text-align:  left;\n",
       "        }    #T_391931d0_9444_11ea_9c69_75821ec809dfrow7_col6 {\n",
       "            : ;\n",
       "            text-align:  left;\n",
       "        }    #T_391931d0_9444_11ea_9c69_75821ec809dfrow8_col0 {\n",
       "            text-align:  left;\n",
       "        }    #T_391931d0_9444_11ea_9c69_75821ec809dfrow8_col1 {\n",
       "            : ;\n",
       "            text-align:  left;\n",
       "        }    #T_391931d0_9444_11ea_9c69_75821ec809dfrow8_col2 {\n",
       "            : ;\n",
       "            text-align:  left;\n",
       "        }    #T_391931d0_9444_11ea_9c69_75821ec809dfrow8_col3 {\n",
       "            : ;\n",
       "            text-align:  left;\n",
       "        }    #T_391931d0_9444_11ea_9c69_75821ec809dfrow8_col4 {\n",
       "            : ;\n",
       "            text-align:  left;\n",
       "        }    #T_391931d0_9444_11ea_9c69_75821ec809dfrow8_col5 {\n",
       "            : ;\n",
       "            text-align:  left;\n",
       "        }    #T_391931d0_9444_11ea_9c69_75821ec809dfrow8_col6 {\n",
       "            : ;\n",
       "            text-align:  left;\n",
       "        }    #T_391931d0_9444_11ea_9c69_75821ec809dfrow9_col0 {\n",
       "            text-align:  left;\n",
       "        }    #T_391931d0_9444_11ea_9c69_75821ec809dfrow9_col1 {\n",
       "            : ;\n",
       "            text-align:  left;\n",
       "        }    #T_391931d0_9444_11ea_9c69_75821ec809dfrow9_col2 {\n",
       "            : ;\n",
       "            text-align:  left;\n",
       "        }    #T_391931d0_9444_11ea_9c69_75821ec809dfrow9_col3 {\n",
       "            : ;\n",
       "            text-align:  left;\n",
       "        }    #T_391931d0_9444_11ea_9c69_75821ec809dfrow9_col4 {\n",
       "            : ;\n",
       "            text-align:  left;\n",
       "        }    #T_391931d0_9444_11ea_9c69_75821ec809dfrow9_col5 {\n",
       "            : ;\n",
       "            text-align:  left;\n",
       "        }    #T_391931d0_9444_11ea_9c69_75821ec809dfrow9_col6 {\n",
       "            : ;\n",
       "            text-align:  left;\n",
       "        }    #T_391931d0_9444_11ea_9c69_75821ec809dfrow10_col0 {\n",
       "            text-align:  left;\n",
       "        }    #T_391931d0_9444_11ea_9c69_75821ec809dfrow10_col1 {\n",
       "            : ;\n",
       "            text-align:  left;\n",
       "        }    #T_391931d0_9444_11ea_9c69_75821ec809dfrow10_col2 {\n",
       "            : ;\n",
       "            text-align:  left;\n",
       "        }    #T_391931d0_9444_11ea_9c69_75821ec809dfrow10_col3 {\n",
       "            : ;\n",
       "            text-align:  left;\n",
       "        }    #T_391931d0_9444_11ea_9c69_75821ec809dfrow10_col4 {\n",
       "            : ;\n",
       "            text-align:  left;\n",
       "        }    #T_391931d0_9444_11ea_9c69_75821ec809dfrow10_col5 {\n",
       "            : ;\n",
       "            text-align:  left;\n",
       "        }    #T_391931d0_9444_11ea_9c69_75821ec809dfrow10_col6 {\n",
       "            : ;\n",
       "            text-align:  left;\n",
       "        }    #T_391931d0_9444_11ea_9c69_75821ec809dfrow11_col0 {\n",
       "            text-align:  left;\n",
       "        }    #T_391931d0_9444_11ea_9c69_75821ec809dfrow11_col1 {\n",
       "            : ;\n",
       "            text-align:  left;\n",
       "        }    #T_391931d0_9444_11ea_9c69_75821ec809dfrow11_col2 {\n",
       "            : ;\n",
       "            text-align:  left;\n",
       "        }    #T_391931d0_9444_11ea_9c69_75821ec809dfrow11_col3 {\n",
       "            : ;\n",
       "            text-align:  left;\n",
       "        }    #T_391931d0_9444_11ea_9c69_75821ec809dfrow11_col4 {\n",
       "            : ;\n",
       "            text-align:  left;\n",
       "        }    #T_391931d0_9444_11ea_9c69_75821ec809dfrow11_col5 {\n",
       "            : ;\n",
       "            text-align:  left;\n",
       "        }    #T_391931d0_9444_11ea_9c69_75821ec809dfrow11_col6 {\n",
       "            : ;\n",
       "            text-align:  left;\n",
       "        }    #T_391931d0_9444_11ea_9c69_75821ec809dfrow12_col0 {\n",
       "            text-align:  left;\n",
       "        }    #T_391931d0_9444_11ea_9c69_75821ec809dfrow12_col1 {\n",
       "            : ;\n",
       "            text-align:  left;\n",
       "        }    #T_391931d0_9444_11ea_9c69_75821ec809dfrow12_col2 {\n",
       "            : ;\n",
       "            text-align:  left;\n",
       "        }    #T_391931d0_9444_11ea_9c69_75821ec809dfrow12_col3 {\n",
       "            : ;\n",
       "            text-align:  left;\n",
       "        }    #T_391931d0_9444_11ea_9c69_75821ec809dfrow12_col4 {\n",
       "            : ;\n",
       "            text-align:  left;\n",
       "        }    #T_391931d0_9444_11ea_9c69_75821ec809dfrow12_col5 {\n",
       "            : ;\n",
       "            text-align:  left;\n",
       "        }    #T_391931d0_9444_11ea_9c69_75821ec809dfrow12_col6 {\n",
       "            : ;\n",
       "            text-align:  left;\n",
       "        }    #T_391931d0_9444_11ea_9c69_75821ec809dfrow13_col0 {\n",
       "            text-align:  left;\n",
       "        }    #T_391931d0_9444_11ea_9c69_75821ec809dfrow13_col1 {\n",
       "            : ;\n",
       "            text-align:  left;\n",
       "        }    #T_391931d0_9444_11ea_9c69_75821ec809dfrow13_col2 {\n",
       "            : ;\n",
       "            text-align:  left;\n",
       "        }    #T_391931d0_9444_11ea_9c69_75821ec809dfrow13_col3 {\n",
       "            : ;\n",
       "            text-align:  left;\n",
       "        }    #T_391931d0_9444_11ea_9c69_75821ec809dfrow13_col4 {\n",
       "            : ;\n",
       "            text-align:  left;\n",
       "        }    #T_391931d0_9444_11ea_9c69_75821ec809dfrow13_col5 {\n",
       "            : ;\n",
       "            text-align:  left;\n",
       "        }    #T_391931d0_9444_11ea_9c69_75821ec809dfrow13_col6 {\n",
       "            : ;\n",
       "            text-align:  left;\n",
       "        }    #T_391931d0_9444_11ea_9c69_75821ec809dfrow14_col0 {\n",
       "            text-align:  left;\n",
       "        }    #T_391931d0_9444_11ea_9c69_75821ec809dfrow14_col1 {\n",
       "            : ;\n",
       "            text-align:  left;\n",
       "        }    #T_391931d0_9444_11ea_9c69_75821ec809dfrow14_col2 {\n",
       "            : ;\n",
       "            text-align:  left;\n",
       "        }    #T_391931d0_9444_11ea_9c69_75821ec809dfrow14_col3 {\n",
       "            : ;\n",
       "            text-align:  left;\n",
       "        }    #T_391931d0_9444_11ea_9c69_75821ec809dfrow14_col4 {\n",
       "            : ;\n",
       "            text-align:  left;\n",
       "        }    #T_391931d0_9444_11ea_9c69_75821ec809dfrow14_col5 {\n",
       "            : ;\n",
       "            text-align:  left;\n",
       "        }    #T_391931d0_9444_11ea_9c69_75821ec809dfrow14_col6 {\n",
       "            : ;\n",
       "            text-align:  left;\n",
       "        }</style><table id=\"T_391931d0_9444_11ea_9c69_75821ec809df\" ><thead>    <tr>        <th class=\"blank level0\" ></th>        <th class=\"col_heading level0 col0\" >Model</th>        <th class=\"col_heading level0 col1\" >Accuracy</th>        <th class=\"col_heading level0 col2\" >AUC</th>        <th class=\"col_heading level0 col3\" >Recall</th>        <th class=\"col_heading level0 col4\" >Prec.</th>        <th class=\"col_heading level0 col5\" >F1</th>        <th class=\"col_heading level0 col6\" >Kappa</th>    </tr></thead><tbody>\n",
       "                <tr>\n",
       "                        <th id=\"T_391931d0_9444_11ea_9c69_75821ec809dflevel0_row0\" class=\"row_heading level0 row0\" >0</th>\n",
       "                        <td id=\"T_391931d0_9444_11ea_9c69_75821ec809dfrow0_col0\" class=\"data row0 col0\" >CatBoost Classifier</td>\n",
       "                        <td id=\"T_391931d0_9444_11ea_9c69_75821ec809dfrow0_col1\" class=\"data row0 col1\" >0.91</td>\n",
       "                        <td id=\"T_391931d0_9444_11ea_9c69_75821ec809dfrow0_col2\" class=\"data row0 col2\" >0.9712</td>\n",
       "                        <td id=\"T_391931d0_9444_11ea_9c69_75821ec809dfrow0_col3\" class=\"data row0 col3\" >0.9769</td>\n",
       "                        <td id=\"T_391931d0_9444_11ea_9c69_75821ec809dfrow0_col4\" class=\"data row0 col4\" >0.8768</td>\n",
       "                        <td id=\"T_391931d0_9444_11ea_9c69_75821ec809dfrow0_col5\" class=\"data row0 col5\" >0.9196</td>\n",
       "                        <td id=\"T_391931d0_9444_11ea_9c69_75821ec809dfrow0_col6\" class=\"data row0 col6\" >0.8201</td>\n",
       "            </tr>\n",
       "            <tr>\n",
       "                        <th id=\"T_391931d0_9444_11ea_9c69_75821ec809dflevel0_row1\" class=\"row_heading level0 row1\" >1</th>\n",
       "                        <td id=\"T_391931d0_9444_11ea_9c69_75821ec809dfrow1_col0\" class=\"data row1 col0\" >Random Forest Classifier</td>\n",
       "                        <td id=\"T_391931d0_9444_11ea_9c69_75821ec809dfrow1_col1\" class=\"data row1 col1\" >0.9097</td>\n",
       "                        <td id=\"T_391931d0_9444_11ea_9c69_75821ec809dfrow1_col2\" class=\"data row1 col2\" >0.964</td>\n",
       "                        <td id=\"T_391931d0_9444_11ea_9c69_75821ec809dfrow1_col3\" class=\"data row1 col3\" >0.9769</td>\n",
       "                        <td id=\"T_391931d0_9444_11ea_9c69_75821ec809dfrow1_col4\" class=\"data row1 col4\" >0.8723</td>\n",
       "                        <td id=\"T_391931d0_9444_11ea_9c69_75821ec809dfrow1_col5\" class=\"data row1 col5\" >0.9186</td>\n",
       "                        <td id=\"T_391931d0_9444_11ea_9c69_75821ec809dfrow1_col6\" class=\"data row1 col6\" >0.8191</td>\n",
       "            </tr>\n",
       "            <tr>\n",
       "                        <th id=\"T_391931d0_9444_11ea_9c69_75821ec809dflevel0_row2\" class=\"row_heading level0 row2\" >2</th>\n",
       "                        <td id=\"T_391931d0_9444_11ea_9c69_75821ec809dfrow2_col0\" class=\"data row2 col0\" >Extra Trees Classifier</td>\n",
       "                        <td id=\"T_391931d0_9444_11ea_9c69_75821ec809dfrow2_col1\" class=\"data row2 col1\" >0.9097</td>\n",
       "                        <td id=\"T_391931d0_9444_11ea_9c69_75821ec809dfrow2_col2\" class=\"data row2 col2\" >0.9884</td>\n",
       "                        <td id=\"T_391931d0_9444_11ea_9c69_75821ec809dfrow2_col3\" class=\"data row2 col3\" >0.9769</td>\n",
       "                        <td id=\"T_391931d0_9444_11ea_9c69_75821ec809dfrow2_col4\" class=\"data row2 col4\" >0.8774</td>\n",
       "                        <td id=\"T_391931d0_9444_11ea_9c69_75821ec809dfrow2_col5\" class=\"data row2 col5\" >0.9193</td>\n",
       "                        <td id=\"T_391931d0_9444_11ea_9c69_75821ec809dfrow2_col6\" class=\"data row2 col6\" >0.8192</td>\n",
       "            </tr>\n",
       "            <tr>\n",
       "                        <th id=\"T_391931d0_9444_11ea_9c69_75821ec809dflevel0_row3\" class=\"row_heading level0 row3\" >3</th>\n",
       "                        <td id=\"T_391931d0_9444_11ea_9c69_75821ec809dfrow3_col0\" class=\"data row3 col0\" >Gradient Boosting Classifier</td>\n",
       "                        <td id=\"T_391931d0_9444_11ea_9c69_75821ec809dfrow3_col1\" class=\"data row3 col1\" >0.9055</td>\n",
       "                        <td id=\"T_391931d0_9444_11ea_9c69_75821ec809dfrow3_col2\" class=\"data row3 col2\" >0.9523</td>\n",
       "                        <td id=\"T_391931d0_9444_11ea_9c69_75821ec809dfrow3_col3\" class=\"data row3 col3\" >0.9449</td>\n",
       "                        <td id=\"T_391931d0_9444_11ea_9c69_75821ec809dfrow3_col4\" class=\"data row3 col4\" >0.8892</td>\n",
       "                        <td id=\"T_391931d0_9444_11ea_9c69_75821ec809dfrow3_col5\" class=\"data row3 col5\" >0.9111</td>\n",
       "                        <td id=\"T_391931d0_9444_11ea_9c69_75821ec809dfrow3_col6\" class=\"data row3 col6\" >0.8111</td>\n",
       "            </tr>\n",
       "            <tr>\n",
       "                        <th id=\"T_391931d0_9444_11ea_9c69_75821ec809dflevel0_row4\" class=\"row_heading level0 row4\" >4</th>\n",
       "                        <td id=\"T_391931d0_9444_11ea_9c69_75821ec809dfrow4_col0\" class=\"data row4 col0\" >Decision Tree Classifier</td>\n",
       "                        <td id=\"T_391931d0_9444_11ea_9c69_75821ec809dfrow4_col1\" class=\"data row4 col1\" >0.8977</td>\n",
       "                        <td id=\"T_391931d0_9444_11ea_9c69_75821ec809dfrow4_col2\" class=\"data row4 col2\" >0.8974</td>\n",
       "                        <td id=\"T_391931d0_9444_11ea_9c69_75821ec809dfrow4_col3\" class=\"data row4 col3\" >0.9846</td>\n",
       "                        <td id=\"T_391931d0_9444_11ea_9c69_75821ec809dfrow4_col4\" class=\"data row4 col4\" >0.8476</td>\n",
       "                        <td id=\"T_391931d0_9444_11ea_9c69_75821ec809dfrow4_col5\" class=\"data row4 col5\" >0.9086</td>\n",
       "                        <td id=\"T_391931d0_9444_11ea_9c69_75821ec809dfrow4_col6\" class=\"data row4 col6\" >0.7952</td>\n",
       "            </tr>\n",
       "            <tr>\n",
       "                        <th id=\"T_391931d0_9444_11ea_9c69_75821ec809dflevel0_row5\" class=\"row_heading level0 row5\" >5</th>\n",
       "                        <td id=\"T_391931d0_9444_11ea_9c69_75821ec809dfrow5_col0\" class=\"data row5 col0\" >Light Gradient Boosting Machine</td>\n",
       "                        <td id=\"T_391931d0_9444_11ea_9c69_75821ec809dfrow5_col1\" class=\"data row5 col1\" >0.8858</td>\n",
       "                        <td id=\"T_391931d0_9444_11ea_9c69_75821ec809dfrow5_col2\" class=\"data row5 col2\" >0.9298</td>\n",
       "                        <td id=\"T_391931d0_9444_11ea_9c69_75821ec809dfrow5_col3\" class=\"data row5 col3\" >0.9769</td>\n",
       "                        <td id=\"T_391931d0_9444_11ea_9c69_75821ec809dfrow5_col4\" class=\"data row5 col4\" >0.8378</td>\n",
       "                        <td id=\"T_391931d0_9444_11ea_9c69_75821ec809dfrow5_col5\" class=\"data row5 col5\" >0.8984</td>\n",
       "                        <td id=\"T_391931d0_9444_11ea_9c69_75821ec809dfrow5_col6\" class=\"data row5 col6\" >0.7719</td>\n",
       "            </tr>\n",
       "            <tr>\n",
       "                        <th id=\"T_391931d0_9444_11ea_9c69_75821ec809dflevel0_row6\" class=\"row_heading level0 row6\" >6</th>\n",
       "                        <td id=\"T_391931d0_9444_11ea_9c69_75821ec809dfrow6_col0\" class=\"data row6 col0\" >Ada Boost Classifier</td>\n",
       "                        <td id=\"T_391931d0_9444_11ea_9c69_75821ec809dfrow6_col1\" class=\"data row6 col1\" >0.8854</td>\n",
       "                        <td id=\"T_391931d0_9444_11ea_9c69_75821ec809dfrow6_col2\" class=\"data row6 col2\" >0.948</td>\n",
       "                        <td id=\"T_391931d0_9444_11ea_9c69_75821ec809dfrow6_col3\" class=\"data row6 col3\" >0.9224</td>\n",
       "                        <td id=\"T_391931d0_9444_11ea_9c69_75821ec809dfrow6_col4\" class=\"data row6 col4\" >0.8644</td>\n",
       "                        <td id=\"T_391931d0_9444_11ea_9c69_75821ec809dfrow6_col5\" class=\"data row6 col5\" >0.8914</td>\n",
       "                        <td id=\"T_391931d0_9444_11ea_9c69_75821ec809dfrow6_col6\" class=\"data row6 col6\" >0.7704</td>\n",
       "            </tr>\n",
       "            <tr>\n",
       "                        <th id=\"T_391931d0_9444_11ea_9c69_75821ec809dflevel0_row7\" class=\"row_heading level0 row7\" >7</th>\n",
       "                        <td id=\"T_391931d0_9444_11ea_9c69_75821ec809dfrow7_col0\" class=\"data row7 col0\" >Extreme Gradient Boosting</td>\n",
       "                        <td id=\"T_391931d0_9444_11ea_9c69_75821ec809dfrow7_col1\" class=\"data row7 col1\" >0.8623</td>\n",
       "                        <td id=\"T_391931d0_9444_11ea_9c69_75821ec809dfrow7_col2\" class=\"data row7 col2\" >0.958</td>\n",
       "                        <td id=\"T_391931d0_9444_11ea_9c69_75821ec809dfrow7_col3\" class=\"data row7 col3\" >0.9058</td>\n",
       "                        <td id=\"T_391931d0_9444_11ea_9c69_75821ec809dfrow7_col4\" class=\"data row7 col4\" >0.8508</td>\n",
       "                        <td id=\"T_391931d0_9444_11ea_9c69_75821ec809dfrow7_col5\" class=\"data row7 col5\" >0.8708</td>\n",
       "                        <td id=\"T_391931d0_9444_11ea_9c69_75821ec809dfrow7_col6\" class=\"data row7 col6\" >0.725</td>\n",
       "            </tr>\n",
       "            <tr>\n",
       "                        <th id=\"T_391931d0_9444_11ea_9c69_75821ec809dflevel0_row8\" class=\"row_heading level0 row8\" >8</th>\n",
       "                        <td id=\"T_391931d0_9444_11ea_9c69_75821ec809dfrow8_col0\" class=\"data row8 col0\" >Logistic Regression</td>\n",
       "                        <td id=\"T_391931d0_9444_11ea_9c69_75821ec809dfrow8_col1\" class=\"data row8 col1\" >0.8225</td>\n",
       "                        <td id=\"T_391931d0_9444_11ea_9c69_75821ec809dfrow8_col2\" class=\"data row8 col2\" >0.8831</td>\n",
       "                        <td id=\"T_391931d0_9444_11ea_9c69_75821ec809dfrow8_col3\" class=\"data row8 col3\" >0.825</td>\n",
       "                        <td id=\"T_391931d0_9444_11ea_9c69_75821ec809dfrow8_col4\" class=\"data row8 col4\" >0.8321</td>\n",
       "                        <td id=\"T_391931d0_9444_11ea_9c69_75821ec809dfrow8_col5\" class=\"data row8 col5\" >0.8241</td>\n",
       "                        <td id=\"T_391931d0_9444_11ea_9c69_75821ec809dfrow8_col6\" class=\"data row8 col6\" >0.6445</td>\n",
       "            </tr>\n",
       "            <tr>\n",
       "                        <th id=\"T_391931d0_9444_11ea_9c69_75821ec809dflevel0_row9\" class=\"row_heading level0 row9\" >9</th>\n",
       "                        <td id=\"T_391931d0_9444_11ea_9c69_75821ec809dfrow9_col0\" class=\"data row9 col0\" >Linear Discriminant Analysis</td>\n",
       "                        <td id=\"T_391931d0_9444_11ea_9c69_75821ec809dfrow9_col1\" class=\"data row9 col1\" >0.8186</td>\n",
       "                        <td id=\"T_391931d0_9444_11ea_9c69_75821ec809dfrow9_col2\" class=\"data row9 col2\" >0.8847</td>\n",
       "                        <td id=\"T_391931d0_9444_11ea_9c69_75821ec809dfrow9_col3\" class=\"data row9 col3\" >0.8269</td>\n",
       "                        <td id=\"T_391931d0_9444_11ea_9c69_75821ec809dfrow9_col4\" class=\"data row9 col4\" >0.8249</td>\n",
       "                        <td id=\"T_391931d0_9444_11ea_9c69_75821ec809dfrow9_col5\" class=\"data row9 col5\" >0.8192</td>\n",
       "                        <td id=\"T_391931d0_9444_11ea_9c69_75821ec809dfrow9_col6\" class=\"data row9 col6\" >0.6376</td>\n",
       "            </tr>\n",
       "            <tr>\n",
       "                        <th id=\"T_391931d0_9444_11ea_9c69_75821ec809dflevel0_row10\" class=\"row_heading level0 row10\" >10</th>\n",
       "                        <td id=\"T_391931d0_9444_11ea_9c69_75821ec809dfrow10_col0\" class=\"data row10 col0\" >Ridge Classifier</td>\n",
       "                        <td id=\"T_391931d0_9444_11ea_9c69_75821ec809dfrow10_col1\" class=\"data row10 col1\" >0.8145</td>\n",
       "                        <td id=\"T_391931d0_9444_11ea_9c69_75821ec809dfrow10_col2\" class=\"data row10 col2\" >0</td>\n",
       "                        <td id=\"T_391931d0_9444_11ea_9c69_75821ec809dfrow10_col3\" class=\"data row10 col3\" >0.8179</td>\n",
       "                        <td id=\"T_391931d0_9444_11ea_9c69_75821ec809dfrow10_col4\" class=\"data row10 col4\" >0.8238</td>\n",
       "                        <td id=\"T_391931d0_9444_11ea_9c69_75821ec809dfrow10_col5\" class=\"data row10 col5\" >0.8145</td>\n",
       "                        <td id=\"T_391931d0_9444_11ea_9c69_75821ec809dfrow10_col6\" class=\"data row10 col6\" >0.6291</td>\n",
       "            </tr>\n",
       "            <tr>\n",
       "                        <th id=\"T_391931d0_9444_11ea_9c69_75821ec809dflevel0_row11\" class=\"row_heading level0 row11\" >11</th>\n",
       "                        <td id=\"T_391931d0_9444_11ea_9c69_75821ec809dfrow11_col0\" class=\"data row11 col0\" >Quadratic Discriminant Analysis</td>\n",
       "                        <td id=\"T_391931d0_9444_11ea_9c69_75821ec809dfrow11_col1\" class=\"data row11 col1\" >0.8108</td>\n",
       "                        <td id=\"T_391931d0_9444_11ea_9c69_75821ec809dfrow11_col2\" class=\"data row11 col2\" >0.8753</td>\n",
       "                        <td id=\"T_391931d0_9444_11ea_9c69_75821ec809dfrow11_col3\" class=\"data row11 col3\" >0.834</td>\n",
       "                        <td id=\"T_391931d0_9444_11ea_9c69_75821ec809dfrow11_col4\" class=\"data row11 col4\" >0.8073</td>\n",
       "                        <td id=\"T_391931d0_9444_11ea_9c69_75821ec809dfrow11_col5\" class=\"data row11 col5\" >0.8165</td>\n",
       "                        <td id=\"T_391931d0_9444_11ea_9c69_75821ec809dfrow11_col6\" class=\"data row11 col6\" >0.6217</td>\n",
       "            </tr>\n",
       "            <tr>\n",
       "                        <th id=\"T_391931d0_9444_11ea_9c69_75821ec809dflevel0_row12\" class=\"row_heading level0 row12\" >12</th>\n",
       "                        <td id=\"T_391931d0_9444_11ea_9c69_75821ec809dfrow12_col0\" class=\"data row12 col0\" >Naive Bayes</td>\n",
       "                        <td id=\"T_391931d0_9444_11ea_9c69_75821ec809dfrow12_col1\" class=\"data row12 col1\" >0.7794</td>\n",
       "                        <td id=\"T_391931d0_9444_11ea_9c69_75821ec809dfrow12_col2\" class=\"data row12 col2\" >0.8652</td>\n",
       "                        <td id=\"T_391931d0_9444_11ea_9c69_75821ec809dfrow12_col3\" class=\"data row12 col3\" >0.7865</td>\n",
       "                        <td id=\"T_391931d0_9444_11ea_9c69_75821ec809dfrow12_col4\" class=\"data row12 col4\" >0.7887</td>\n",
       "                        <td id=\"T_391931d0_9444_11ea_9c69_75821ec809dfrow12_col5\" class=\"data row12 col5\" >0.7844</td>\n",
       "                        <td id=\"T_391931d0_9444_11ea_9c69_75821ec809dfrow12_col6\" class=\"data row12 col6\" >0.5584</td>\n",
       "            </tr>\n",
       "            <tr>\n",
       "                        <th id=\"T_391931d0_9444_11ea_9c69_75821ec809dflevel0_row13\" class=\"row_heading level0 row13\" >13</th>\n",
       "                        <td id=\"T_391931d0_9444_11ea_9c69_75821ec809dfrow13_col0\" class=\"data row13 col0\" >K Neighbors Classifier</td>\n",
       "                        <td id=\"T_391931d0_9444_11ea_9c69_75821ec809dfrow13_col1\" class=\"data row13 col1\" >0.6758</td>\n",
       "                        <td id=\"T_391931d0_9444_11ea_9c69_75821ec809dfrow13_col2\" class=\"data row13 col2\" >0.7686</td>\n",
       "                        <td id=\"T_391931d0_9444_11ea_9c69_75821ec809dfrow13_col3\" class=\"data row13 col3\" >0.7558</td>\n",
       "                        <td id=\"T_391931d0_9444_11ea_9c69_75821ec809dfrow13_col4\" class=\"data row13 col4\" >0.6582</td>\n",
       "                        <td id=\"T_391931d0_9444_11ea_9c69_75821ec809dfrow13_col5\" class=\"data row13 col5\" >0.7002</td>\n",
       "                        <td id=\"T_391931d0_9444_11ea_9c69_75821ec809dfrow13_col6\" class=\"data row13 col6\" >0.3521</td>\n",
       "            </tr>\n",
       "            <tr>\n",
       "                        <th id=\"T_391931d0_9444_11ea_9c69_75821ec809dflevel0_row14\" class=\"row_heading level0 row14\" >14</th>\n",
       "                        <td id=\"T_391931d0_9444_11ea_9c69_75821ec809dfrow14_col0\" class=\"data row14 col0\" >SVM - Linear Kernel</td>\n",
       "                        <td id=\"T_391931d0_9444_11ea_9c69_75821ec809dfrow14_col1\" class=\"data row14 col1\" >0.6123</td>\n",
       "                        <td id=\"T_391931d0_9444_11ea_9c69_75821ec809dfrow14_col2\" class=\"data row14 col2\" >0</td>\n",
       "                        <td id=\"T_391931d0_9444_11ea_9c69_75821ec809dfrow14_col3\" class=\"data row14 col3\" >0.7224</td>\n",
       "                        <td id=\"T_391931d0_9444_11ea_9c69_75821ec809dfrow14_col4\" class=\"data row14 col4\" >0.6825</td>\n",
       "                        <td id=\"T_391931d0_9444_11ea_9c69_75821ec809dfrow14_col5\" class=\"data row14 col5\" >0.6121</td>\n",
       "                        <td id=\"T_391931d0_9444_11ea_9c69_75821ec809dfrow14_col6\" class=\"data row14 col6\" >0.2365</td>\n",
       "            </tr>\n",
       "    </tbody></table>"
      ],
      "text/plain": [
       "<pandas.io.formats.style.Styler at 0x7f0824073450>"
      ]
     },
     "execution_count": 29,
     "metadata": {},
     "output_type": "execute_result"
    }
   ],
   "source": [
    "from pycaret.classification import *\n",
    "clf1 = setup(data = df, target = 'target')\n",
    "# comparing all models\n",
    "compare_models()"
   ]
  },
  {
   "cell_type": "markdown",
   "metadata": {},
   "source": [
    "# Tunening Xg_Boost  Model"
   ]
  },
  {
   "cell_type": "code",
   "execution_count": 49,
   "metadata": {},
   "outputs": [
    {
     "data": {
      "text/html": [
       "<div>\n",
       "<style scoped>\n",
       "    .dataframe tbody tr th:only-of-type {\n",
       "        vertical-align: middle;\n",
       "    }\n",
       "\n",
       "    .dataframe tbody tr th {\n",
       "        vertical-align: top;\n",
       "    }\n",
       "\n",
       "    .dataframe thead th {\n",
       "        text-align: right;\n",
       "    }\n",
       "</style>\n",
       "<table border=\"1\" class=\"dataframe\">\n",
       "  <thead>\n",
       "    <tr style=\"text-align: right;\">\n",
       "      <th></th>\n",
       "      <th>Accuracy</th>\n",
       "      <th>AUC</th>\n",
       "      <th>Recall</th>\n",
       "      <th>Prec.</th>\n",
       "      <th>F1</th>\n",
       "      <th>Kappa</th>\n",
       "    </tr>\n",
       "  </thead>\n",
       "  <tbody>\n",
       "    <tr>\n",
       "      <th>0</th>\n",
       "      <td>0.8462</td>\n",
       "      <td>0.9586</td>\n",
       "      <td>1.0000</td>\n",
       "      <td>0.7647</td>\n",
       "      <td>0.8667</td>\n",
       "      <td>0.6923</td>\n",
       "    </tr>\n",
       "    <tr>\n",
       "      <th>1</th>\n",
       "      <td>0.8462</td>\n",
       "      <td>0.8994</td>\n",
       "      <td>0.9231</td>\n",
       "      <td>0.8000</td>\n",
       "      <td>0.8571</td>\n",
       "      <td>0.6923</td>\n",
       "    </tr>\n",
       "    <tr>\n",
       "      <th>2</th>\n",
       "      <td>0.9231</td>\n",
       "      <td>0.9527</td>\n",
       "      <td>1.0000</td>\n",
       "      <td>0.8667</td>\n",
       "      <td>0.9286</td>\n",
       "      <td>0.8462</td>\n",
       "    </tr>\n",
       "    <tr>\n",
       "      <th>3</th>\n",
       "      <td>0.8400</td>\n",
       "      <td>0.8782</td>\n",
       "      <td>0.9231</td>\n",
       "      <td>0.8000</td>\n",
       "      <td>0.8571</td>\n",
       "      <td>0.6774</td>\n",
       "    </tr>\n",
       "    <tr>\n",
       "      <th>4</th>\n",
       "      <td>0.8400</td>\n",
       "      <td>0.8942</td>\n",
       "      <td>0.9231</td>\n",
       "      <td>0.8000</td>\n",
       "      <td>0.8571</td>\n",
       "      <td>0.6774</td>\n",
       "    </tr>\n",
       "    <tr>\n",
       "      <th>5</th>\n",
       "      <td>0.8000</td>\n",
       "      <td>0.9487</td>\n",
       "      <td>0.7692</td>\n",
       "      <td>0.8333</td>\n",
       "      <td>0.8000</td>\n",
       "      <td>0.6006</td>\n",
       "    </tr>\n",
       "    <tr>\n",
       "      <th>6</th>\n",
       "      <td>1.0000</td>\n",
       "      <td>1.0000</td>\n",
       "      <td>1.0000</td>\n",
       "      <td>1.0000</td>\n",
       "      <td>1.0000</td>\n",
       "      <td>1.0000</td>\n",
       "    </tr>\n",
       "    <tr>\n",
       "      <th>7</th>\n",
       "      <td>0.9600</td>\n",
       "      <td>0.9872</td>\n",
       "      <td>1.0000</td>\n",
       "      <td>0.9231</td>\n",
       "      <td>0.9600</td>\n",
       "      <td>0.9201</td>\n",
       "    </tr>\n",
       "    <tr>\n",
       "      <th>8</th>\n",
       "      <td>1.0000</td>\n",
       "      <td>1.0000</td>\n",
       "      <td>1.0000</td>\n",
       "      <td>1.0000</td>\n",
       "      <td>1.0000</td>\n",
       "      <td>1.0000</td>\n",
       "    </tr>\n",
       "    <tr>\n",
       "      <th>9</th>\n",
       "      <td>0.8800</td>\n",
       "      <td>0.9679</td>\n",
       "      <td>0.9167</td>\n",
       "      <td>0.8462</td>\n",
       "      <td>0.8800</td>\n",
       "      <td>0.7604</td>\n",
       "    </tr>\n",
       "    <tr>\n",
       "      <th>Mean</th>\n",
       "      <td>0.8935</td>\n",
       "      <td>0.9487</td>\n",
       "      <td>0.9455</td>\n",
       "      <td>0.8634</td>\n",
       "      <td>0.9007</td>\n",
       "      <td>0.7867</td>\n",
       "    </tr>\n",
       "    <tr>\n",
       "      <th>SD</th>\n",
       "      <td>0.0686</td>\n",
       "      <td>0.0419</td>\n",
       "      <td>0.0695</td>\n",
       "      <td>0.0799</td>\n",
       "      <td>0.0644</td>\n",
       "      <td>0.1376</td>\n",
       "    </tr>\n",
       "  </tbody>\n",
       "</table>\n",
       "</div>"
      ],
      "text/plain": [
       "      Accuracy     AUC  Recall   Prec.      F1   Kappa\n",
       "0       0.8462  0.9586  1.0000  0.7647  0.8667  0.6923\n",
       "1       0.8462  0.8994  0.9231  0.8000  0.8571  0.6923\n",
       "2       0.9231  0.9527  1.0000  0.8667  0.9286  0.8462\n",
       "3       0.8400  0.8782  0.9231  0.8000  0.8571  0.6774\n",
       "4       0.8400  0.8942  0.9231  0.8000  0.8571  0.6774\n",
       "5       0.8000  0.9487  0.7692  0.8333  0.8000  0.6006\n",
       "6       1.0000  1.0000  1.0000  1.0000  1.0000  1.0000\n",
       "7       0.9600  0.9872  1.0000  0.9231  0.9600  0.9201\n",
       "8       1.0000  1.0000  1.0000  1.0000  1.0000  1.0000\n",
       "9       0.8800  0.9679  0.9167  0.8462  0.8800  0.7604\n",
       "Mean    0.8935  0.9487  0.9455  0.8634  0.9007  0.7867\n",
       "SD      0.0686  0.0419  0.0695  0.0799  0.0644  0.1376"
      ]
     },
     "metadata": {},
     "output_type": "display_data"
    }
   ],
   "source": [
    "from pycaret.classification import *\n",
    "clf1 = setup(data = df, target = 'target')\n",
    "# tuning LightGBM Model\n",
    "tuned_xgboost = tune_model('xgboost')"
   ]
  },
  {
   "cell_type": "markdown",
   "metadata": {},
   "source": [
    "# Getting Best Xg_Boost Model Hyperparameter"
   ]
  },
  {
   "cell_type": "code",
   "execution_count": 50,
   "metadata": {},
   "outputs": [
    {
     "data": {
      "text/plain": [
       "XGBClassifier(base_score=0.5, booster='gbtree', colsample_bylevel=1,\n",
       "              colsample_bynode=1, colsample_bytree=0.7, gamma=0,\n",
       "              learning_rate=0.68, max_delta_step=0, max_depth=50,\n",
       "              min_child_weight=1, missing=None, n_estimators=30, n_jobs=-1,\n",
       "              nthread=None, objective='binary:logistic', random_state=3824,\n",
       "              reg_alpha=0, reg_lambda=1, scale_pos_weight=1, seed=None,\n",
       "              silent=None, subsample=0.9, verbosity=0)"
      ]
     },
     "execution_count": 50,
     "metadata": {},
     "output_type": "execute_result"
    }
   ],
   "source": [
    "tuned_xgboost"
   ]
  },
  {
   "cell_type": "markdown",
   "metadata": {},
   "source": [
    "# Getting Best Random Forest Model Hyperparameter"
   ]
  },
  {
   "cell_type": "code",
   "execution_count": 39,
   "metadata": {},
   "outputs": [
    {
     "data": {
      "text/html": [
       "<div>\n",
       "<style scoped>\n",
       "    .dataframe tbody tr th:only-of-type {\n",
       "        vertical-align: middle;\n",
       "    }\n",
       "\n",
       "    .dataframe tbody tr th {\n",
       "        vertical-align: top;\n",
       "    }\n",
       "\n",
       "    .dataframe thead th {\n",
       "        text-align: right;\n",
       "    }\n",
       "</style>\n",
       "<table border=\"1\" class=\"dataframe\">\n",
       "  <thead>\n",
       "    <tr style=\"text-align: right;\">\n",
       "      <th></th>\n",
       "      <th>Accuracy</th>\n",
       "      <th>AUC</th>\n",
       "      <th>Recall</th>\n",
       "      <th>Prec.</th>\n",
       "      <th>F1</th>\n",
       "      <th>Kappa</th>\n",
       "    </tr>\n",
       "  </thead>\n",
       "  <tbody>\n",
       "    <tr>\n",
       "      <th>0</th>\n",
       "      <td>0.9615</td>\n",
       "      <td>1.0000</td>\n",
       "      <td>1.0000</td>\n",
       "      <td>0.9286</td>\n",
       "      <td>0.9630</td>\n",
       "      <td>0.9231</td>\n",
       "    </tr>\n",
       "    <tr>\n",
       "      <th>1</th>\n",
       "      <td>0.9231</td>\n",
       "      <td>1.0000</td>\n",
       "      <td>1.0000</td>\n",
       "      <td>0.8667</td>\n",
       "      <td>0.9286</td>\n",
       "      <td>0.8462</td>\n",
       "    </tr>\n",
       "    <tr>\n",
       "      <th>2</th>\n",
       "      <td>0.9615</td>\n",
       "      <td>0.9941</td>\n",
       "      <td>0.9231</td>\n",
       "      <td>1.0000</td>\n",
       "      <td>0.9600</td>\n",
       "      <td>0.9231</td>\n",
       "    </tr>\n",
       "    <tr>\n",
       "      <th>3</th>\n",
       "      <td>0.9200</td>\n",
       "      <td>0.9487</td>\n",
       "      <td>0.9167</td>\n",
       "      <td>0.9167</td>\n",
       "      <td>0.9167</td>\n",
       "      <td>0.8397</td>\n",
       "    </tr>\n",
       "    <tr>\n",
       "      <th>4</th>\n",
       "      <td>0.9200</td>\n",
       "      <td>0.9167</td>\n",
       "      <td>1.0000</td>\n",
       "      <td>0.8571</td>\n",
       "      <td>0.9231</td>\n",
       "      <td>0.8408</td>\n",
       "    </tr>\n",
       "    <tr>\n",
       "      <th>5</th>\n",
       "      <td>0.8800</td>\n",
       "      <td>0.9423</td>\n",
       "      <td>0.9167</td>\n",
       "      <td>0.8462</td>\n",
       "      <td>0.8800</td>\n",
       "      <td>0.7604</td>\n",
       "    </tr>\n",
       "    <tr>\n",
       "      <th>6</th>\n",
       "      <td>0.9200</td>\n",
       "      <td>0.9808</td>\n",
       "      <td>1.0000</td>\n",
       "      <td>0.8571</td>\n",
       "      <td>0.9231</td>\n",
       "      <td>0.8408</td>\n",
       "    </tr>\n",
       "    <tr>\n",
       "      <th>7</th>\n",
       "      <td>0.9200</td>\n",
       "      <td>1.0000</td>\n",
       "      <td>0.8462</td>\n",
       "      <td>1.0000</td>\n",
       "      <td>0.9167</td>\n",
       "      <td>0.8408</td>\n",
       "    </tr>\n",
       "    <tr>\n",
       "      <th>8</th>\n",
       "      <td>0.9600</td>\n",
       "      <td>0.9936</td>\n",
       "      <td>1.0000</td>\n",
       "      <td>0.9286</td>\n",
       "      <td>0.9630</td>\n",
       "      <td>0.9196</td>\n",
       "    </tr>\n",
       "    <tr>\n",
       "      <th>9</th>\n",
       "      <td>0.8800</td>\n",
       "      <td>0.9487</td>\n",
       "      <td>1.0000</td>\n",
       "      <td>0.8125</td>\n",
       "      <td>0.8966</td>\n",
       "      <td>0.7573</td>\n",
       "    </tr>\n",
       "    <tr>\n",
       "      <th>Mean</th>\n",
       "      <td>0.9246</td>\n",
       "      <td>0.9725</td>\n",
       "      <td>0.9603</td>\n",
       "      <td>0.9013</td>\n",
       "      <td>0.9271</td>\n",
       "      <td>0.8492</td>\n",
       "    </tr>\n",
       "    <tr>\n",
       "      <th>SD</th>\n",
       "      <td>0.0284</td>\n",
       "      <td>0.0290</td>\n",
       "      <td>0.0526</td>\n",
       "      <td>0.0610</td>\n",
       "      <td>0.0266</td>\n",
       "      <td>0.0570</td>\n",
       "    </tr>\n",
       "  </tbody>\n",
       "</table>\n",
       "</div>"
      ],
      "text/plain": [
       "      Accuracy     AUC  Recall   Prec.      F1   Kappa\n",
       "0       0.9615  1.0000  1.0000  0.9286  0.9630  0.9231\n",
       "1       0.9231  1.0000  1.0000  0.8667  0.9286  0.8462\n",
       "2       0.9615  0.9941  0.9231  1.0000  0.9600  0.9231\n",
       "3       0.9200  0.9487  0.9167  0.9167  0.9167  0.8397\n",
       "4       0.9200  0.9167  1.0000  0.8571  0.9231  0.8408\n",
       "5       0.8800  0.9423  0.9167  0.8462  0.8800  0.7604\n",
       "6       0.9200  0.9808  1.0000  0.8571  0.9231  0.8408\n",
       "7       0.9200  1.0000  0.8462  1.0000  0.9167  0.8408\n",
       "8       0.9600  0.9936  1.0000  0.9286  0.9630  0.9196\n",
       "9       0.8800  0.9487  1.0000  0.8125  0.8966  0.7573\n",
       "Mean    0.9246  0.9725  0.9603  0.9013  0.9271  0.8492\n",
       "SD      0.0284  0.0290  0.0526  0.0610  0.0266  0.0570"
      ]
     },
     "metadata": {},
     "output_type": "display_data"
    }
   ],
   "source": [
    "from pycaret.classification import *\n",
    "clf1 = setup(data = df, target = 'target')\n",
    "# tuning LightGBM Model\n",
    "tuned_rf = tune_model('rf')"
   ]
  },
  {
   "cell_type": "code",
   "execution_count": 40,
   "metadata": {},
   "outputs": [],
   "source": [
    "X_res = df.iloc[:,1:].values\n",
    "y_res = df.iloc[:,0].values"
   ]
  },
  {
   "cell_type": "markdown",
   "metadata": {},
   "source": [
    "# Spliting Training and Test Data"
   ]
  },
  {
   "cell_type": "code",
   "execution_count": 41,
   "metadata": {},
   "outputs": [],
   "source": [
    "X_train, X_test, y_train, y_test = train_test_split(X_res,y_res, test_size=0.2, random_state=42)"
   ]
  },
  {
   "cell_type": "markdown",
   "metadata": {},
   "source": [
    "# RandomForestClassifier"
   ]
  },
  {
   "cell_type": "code",
   "execution_count": 42,
   "metadata": {},
   "outputs": [],
   "source": [
    "from sklearn.ensemble import RandomForestClassifier\n",
    "from sklearn.metrics import accuracy_score,confusion_matrix,classification_report"
   ]
  },
  {
   "cell_type": "code",
   "execution_count": 43,
   "metadata": {},
   "outputs": [],
   "source": [
    "model = RandomForestClassifier(bootstrap=True, ccp_alpha=0.0, class_weight=None,\n",
    "                       criterion='gini', max_depth=30, max_features='log2',\n",
    "                       max_leaf_nodes=None, max_samples=None,\n",
    "                       min_impurity_decrease=0.0, min_impurity_split=None,\n",
    "                       min_samples_leaf=1, min_samples_split=2,\n",
    "                       min_weight_fraction_leaf=0.0, n_estimators=60,\n",
    "                       n_jobs=None, oob_score=False, random_state=1575,\n",
    "                       verbose=0, warm_start=False)"
   ]
  },
  {
   "cell_type": "code",
   "execution_count": 44,
   "metadata": {},
   "outputs": [
    {
     "name": "stdout",
     "output_type": "stream",
     "text": [
      "0.8493150684931506\n",
      "[[29 11]\n",
      " [ 0 33]]\n",
      "              precision    recall  f1-score   support\n",
      "\n",
      "           0       1.00      0.72      0.84        40\n",
      "           1       0.75      1.00      0.86        33\n",
      "\n",
      "    accuracy                           0.85        73\n",
      "   macro avg       0.88      0.86      0.85        73\n",
      "weighted avg       0.89      0.85      0.85        73\n",
      "\n"
     ]
    }
   ],
   "source": [
    "model.fit(X_train,y_train)\n",
    "y_pred = model.predict(X_test)\n",
    "print(accuracy_score(y_test,y_pred))\n",
    "print(confusion_matrix(y_test,y_pred))\n",
    "print(classification_report(y_test,y_pred))"
   ]
  },
  {
   "cell_type": "markdown",
   "metadata": {},
   "source": [
    "# XGBClassifier"
   ]
  },
  {
   "cell_type": "code",
   "execution_count": 51,
   "metadata": {},
   "outputs": [],
   "source": [
    "import xgboost as xgb\n",
    "xgb_model = xgb.XGBClassifier(base_score=0.5, booster='gbtree', colsample_bylevel=1,\n",
    "              colsample_bynode=1, colsample_bytree=0.7, gamma=0,\n",
    "              learning_rate=0.68, max_delta_step=0, max_depth=50,\n",
    "              min_child_weight=1, missing=None, n_estimators=30, n_jobs=-1,\n",
    "              nthread=None, objective='binary:logistic', random_state=3824,\n",
    "              reg_alpha=0, reg_lambda=1, scale_pos_weight=1, seed=None,\n",
    "              silent=None, subsample=0.9, verbosity=0)"
   ]
  },
  {
   "cell_type": "code",
   "execution_count": 52,
   "metadata": {},
   "outputs": [
    {
     "name": "stdout",
     "output_type": "stream",
     "text": [
      "0.9541284403669725\n",
      "[[49  5]\n",
      " [ 0 55]]\n",
      "              precision    recall  f1-score   support\n",
      "\n",
      "           0       1.00      0.91      0.95        54\n",
      "           1       0.92      1.00      0.96        55\n",
      "\n",
      "    accuracy                           0.95       109\n",
      "   macro avg       0.96      0.95      0.95       109\n",
      "weighted avg       0.96      0.95      0.95       109\n",
      "\n"
     ]
    }
   ],
   "source": [
    "xgb_model.fit(X_train,y_train)\n",
    "\n",
    "\n",
    "y_pred = model.predict(X_test)\n",
    "print(accuracy_score(y_test,y_pred))\n",
    "print(confusion_matrix(y_test,y_pred))\n",
    "print(classification_report(y_test,y_pred))"
   ]
  },
  {
   "cell_type": "markdown",
   "metadata": {},
   "source": [
    "# Plot Model Area Under the Curve"
   ]
  },
  {
   "cell_type": "code",
   "execution_count": 53,
   "metadata": {},
   "outputs": [],
   "source": [
    "from pycaret.classification import *"
   ]
  },
  {
   "cell_type": "code",
   "execution_count": 55,
   "metadata": {},
   "outputs": [
    {
     "data": {
      "image/png": "[encoded data removed]",
      "text/plain": [
       "<Figure size 576x396 with 1 Axes>"
      ]
     },
     "metadata": {},
     "output_type": "display_data"
    }
   ],
   "source": [
    "xgboost = create_model('xgboost')\n",
    "# plotting a model\n",
    "plot_model(xgboost)"
   ]
  },
  {
   "cell_type": "markdown",
   "metadata": {},
   "source": [
    "# Cross Validation "
   ]
  },
  {
   "cell_type": "markdown",
   "metadata": {},
   "source": [
    "# cross_val_score"
   ]
  },
  {
   "cell_type": "code",
   "execution_count": 56,
   "metadata": {},
   "outputs": [],
   "source": [
    "from sklearn.model_selection import cross_val_score\n",
    "score=cross_val_score(xgb_model,X_res,y_res,cv=10)"
   ]
  },
  {
   "cell_type": "code",
   "execution_count": 57,
   "metadata": {},
   "outputs": [
    {
     "data": {
      "text/plain": [
       "array([0.67567568, 0.94594595, 0.97222222, 0.91666667, 0.88888889,\n",
       "       0.88888889, 1.        , 0.91666667, 0.97222222, 0.83333333])"
      ]
     },
     "execution_count": 57,
     "metadata": {},
     "output_type": "execute_result"
    }
   ],
   "source": [
    "\n",
    "score"
   ]
  },
  {
   "cell_type": "code",
   "execution_count": 58,
   "metadata": {},
   "outputs": [
    {
     "data": {
      "text/plain": [
       "0.901051051051051"
      ]
     },
     "execution_count": 58,
     "metadata": {},
     "output_type": "execute_result"
    }
   ],
   "source": [
    "score.mean()"
   ]
  },
  {
   "cell_type": "code",
   "execution_count": 59,
   "metadata": {},
   "outputs": [],
   "source": [
    "X_res = pd.DataFrame(X_res)\n",
    "y_res = pd.DataFrame(y_res)"
   ]
  },
  {
   "cell_type": "markdown",
   "metadata": {},
   "source": [
    "# StratifiedKFold Cross Validation"
   ]
  },
  {
   "cell_type": "code",
   "execution_count": 60,
   "metadata": {},
   "outputs": [
    {
     "name": "stdout",
     "output_type": "stream",
     "text": [
      "Train: [ 19  20  21  22  23  24  25  26  27  28  29  30  31  32  33  34  35  36\n",
      "  37  38  39  40  41  42  43  44  45  46  47  48  49  50  51  52  53  54\n",
      "  55  56  57  58  59  60  61  62  63  64  65  66  67  68  69  70  71  72\n",
      "  73  74  75  76  77  78  79  80  81  82  83  84  85  86  87  88  89  90\n",
      "  91  92  93  94  95  96  97  98  99 100 101 102 103 104 105 106 107 108\n",
      " 109 110 111 112 113 114 115 116 117 118 119 120 121 122 123 124 125 126\n",
      " 127 128 129 130 131 132 133 134 135 136 137 138 139 140 141 142 143 144\n",
      " 145 146 147 148 149 150 151 152 153 154 155 156 157 158 159 160 161 162\n",
      " 163 164 165 166 167 168 169 170 171 172 173 174 175 176 177 178 179 180\n",
      " 199 200 201 202 203 204 205 206 207 208 209 210 211 212 213 214 215 216\n",
      " 217 218 219 220 221 222 223 224 225 226 227 228 229 230 231 232 233 234\n",
      " 235 236 237 238 239 240 241 242 243 244 245 246 247 248 249 250 251 252\n",
      " 253 254 255 256 257 258 259 260 261 262 263 264 265 266 267 268 269 270\n",
      " 271 272 273 274 275 276 277 278 279 280 281 282 283 284 285 286 287 288\n",
      " 289 290 291 292 293 294 295 296 297 298 299 300 301 302 303 304 305 306\n",
      " 307 308 309 310 311 312 313 314 315 316 317 318 319 320 321 322 323 324\n",
      " 325 326 327 328 329 330 331 332 333 334 335 336 337 338 339 340 341 342\n",
      " 343 344 345 346 347 348 349 350 351 352 353 354 355 356 357 358 359 360\n",
      " 361] Val [  0   1   2   3   4   5   6   7   8   9  10  11  12  13  14  15  16  17\n",
      "  18 181 182 183 184 185 186 187 188 189 190 191 192 193 194 195 196 197\n",
      " 198]\n",
      "Train: [  0   1   2   3   4   5   6   7   8   9  10  11  12  13  14  15  16  17\n",
      "  18  37  38  39  40  41  42  43  44  45  46  47  48  49  50  51  52  53\n",
      "  54  55  56  57  58  59  60  61  62  63  64  65  66  67  68  69  70  71\n",
      "  72  73  74  75  76  77  78  79  80  81  82  83  84  85  86  87  88  89\n",
      "  90  91  92  93  94  95  96  97  98  99 100 101 102 103 104 105 106 107\n",
      " 108 109 110 111 112 113 114 115 116 117 118 119 120 121 122 123 124 125\n",
      " 126 127 128 129 130 131 132 133 134 135 136 137 138 139 140 141 142 143\n",
      " 144 145 146 147 148 149 150 151 152 153 154 155 156 157 158 159 160 161\n",
      " 162 163 164 165 166 167 168 169 170 171 172 173 174 175 176 177 178 179\n",
      " 180 181 182 183 184 185 186 187 188 189 190 191 192 193 194 195 196 197\n",
      " 198 218 219 220 221 222 223 224 225 226 227 228 229 230 231 232 233 234\n",
      " 235 236 237 238 239 240 241 242 243 244 245 246 247 248 249 250 251 252\n",
      " 253 254 255 256 257 258 259 260 261 262 263 264 265 266 267 268 269 270\n",
      " 271 272 273 274 275 276 277 278 279 280 281 282 283 284 285 286 287 288\n",
      " 289 290 291 292 293 294 295 296 297 298 299 300 301 302 303 304 305 306\n",
      " 307 308 309 310 311 312 313 314 315 316 317 318 319 320 321 322 323 324\n",
      " 325 326 327 328 329 330 331 332 333 334 335 336 337 338 339 340 341 342\n",
      " 343 344 345 346 347 348 349 350 351 352 353 354 355 356 357 358 359 360\n",
      " 361] Val [ 19  20  21  22  23  24  25  26  27  28  29  30  31  32  33  34  35  36\n",
      " 199 200 201 202 203 204 205 206 207 208 209 210 211 212 213 214 215 216\n",
      " 217]\n",
      "Train: [  0   1   2   3   4   5   6   7   8   9  10  11  12  13  14  15  16  17\n",
      "  18  19  20  21  22  23  24  25  26  27  28  29  30  31  32  33  34  35\n",
      "  36  55  56  57  58  59  60  61  62  63  64  65  66  67  68  69  70  71\n",
      "  72  73  74  75  76  77  78  79  80  81  82  83  84  85  86  87  88  89\n",
      "  90  91  92  93  94  95  96  97  98  99 100 101 102 103 104 105 106 107\n",
      " 108 109 110 111 112 113 114 115 116 117 118 119 120 121 122 123 124 125\n",
      " 126 127 128 129 130 131 132 133 134 135 136 137 138 139 140 141 142 143\n",
      " 144 145 146 147 148 149 150 151 152 153 154 155 156 157 158 159 160 161\n",
      " 162 163 164 165 166 167 168 169 170 171 172 173 174 175 176 177 178 179\n",
      " 180 181 182 183 184 185 186 187 188 189 190 191 192 193 194 195 196 197\n",
      " 198 199 200 201 202 203 204 205 206 207 208 209 210 211 212 213 214 215\n",
      " 216 217 236 237 238 239 240 241 242 243 244 245 246 247 248 249 250 251\n",
      " 252 253 254 255 256 257 258 259 260 261 262 263 264 265 266 267 268 269\n",
      " 270 271 272 273 274 275 276 277 278 279 280 281 282 283 284 285 286 287\n",
      " 288 289 290 291 292 293 294 295 296 297 298 299 300 301 302 303 304 305\n",
      " 306 307 308 309 310 311 312 313 314 315 316 317 318 319 320 321 322 323\n",
      " 324 325 326 327 328 329 330 331 332 333 334 335 336 337 338 339 340 341\n",
      " 342 343 344 345 346 347 348 349 350 351 352 353 354 355 356 357 358 359\n",
      " 360 361] Val [ 37  38  39  40  41  42  43  44  45  46  47  48  49  50  51  52  53  54\n",
      " 218 219 220 221 222 223 224 225 226 227 228 229 230 231 232 233 234 235]\n",
      "Train: [  0   1   2   3   4   5   6   7   8   9  10  11  12  13  14  15  16  17\n",
      "  18  19  20  21  22  23  24  25  26  27  28  29  30  31  32  33  34  35\n",
      "  36  37  38  39  40  41  42  43  44  45  46  47  48  49  50  51  52  53\n",
      "  54  73  74  75  76  77  78  79  80  81  82  83  84  85  86  87  88  89\n",
      "  90  91  92  93  94  95  96  97  98  99 100 101 102 103 104 105 106 107\n",
      " 108 109 110 111 112 113 114 115 116 117 118 119 120 121 122 123 124 125\n",
      " 126 127 128 129 130 131 132 133 134 135 136 137 138 139 140 141 142 143\n",
      " 144 145 146 147 148 149 150 151 152 153 154 155 156 157 158 159 160 161\n",
      " 162 163 164 165 166 167 168 169 170 171 172 173 174 175 176 177 178 179\n",
      " 180 181 182 183 184 185 186 187 188 189 190 191 192 193 194 195 196 197\n",
      " 198 199 200 201 202 203 204 205 206 207 208 209 210 211 212 213 214 215\n",
      " 216 217 218 219 220 221 222 223 224 225 226 227 228 229 230 231 232 233\n",
      " 234 235 254 255 256 257 258 259 260 261 262 263 264 265 266 267 268 269\n",
      " 270 271 272 273 274 275 276 277 278 279 280 281 282 283 284 285 286 287\n",
      " 288 289 290 291 292 293 294 295 296 297 298 299 300 301 302 303 304 305\n",
      " 306 307 308 309 310 311 312 313 314 315 316 317 318 319 320 321 322 323\n",
      " 324 325 326 327 328 329 330 331 332 333 334 335 336 337 338 339 340 341\n",
      " 342 343 344 345 346 347 348 349 350 351 352 353 354 355 356 357 358 359\n",
      " 360 361] Val [ 55  56  57  58  59  60  61  62  63  64  65  66  67  68  69  70  71  72\n",
      " 236 237 238 239 240 241 242 243 244 245 246 247 248 249 250 251 252 253]\n",
      "Train: [  0   1   2   3   4   5   6   7   8   9  10  11  12  13  14  15  16  17\n",
      "  18  19  20  21  22  23  24  25  26  27  28  29  30  31  32  33  34  35\n",
      "  36  37  38  39  40  41  42  43  44  45  46  47  48  49  50  51  52  53\n",
      "  54  55  56  57  58  59  60  61  62  63  64  65  66  67  68  69  70  71\n",
      "  72  91  92  93  94  95  96  97  98  99 100 101 102 103 104 105 106 107\n",
      " 108 109 110 111 112 113 114 115 116 117 118 119 120 121 122 123 124 125\n",
      " 126 127 128 129 130 131 132 133 134 135 136 137 138 139 140 141 142 143\n",
      " 144 145 146 147 148 149 150 151 152 153 154 155 156 157 158 159 160 161\n",
      " 162 163 164 165 166 167 168 169 170 171 172 173 174 175 176 177 178 179\n",
      " 180 181 182 183 184 185 186 187 188 189 190 191 192 193 194 195 196 197\n",
      " 198 199 200 201 202 203 204 205 206 207 208 209 210 211 212 213 214 215\n",
      " 216 217 218 219 220 221 222 223 224 225 226 227 228 229 230 231 232 233\n",
      " 234 235 236 237 238 239 240 241 242 243 244 245 246 247 248 249 250 251\n",
      " 252 253 272 273 274 275 276 277 278 279 280 281 282 283 284 285 286 287\n",
      " 288 289 290 291 292 293 294 295 296 297 298 299 300 301 302 303 304 305\n",
      " 306 307 308 309 310 311 312 313 314 315 316 317 318 319 320 321 322 323\n",
      " 324 325 326 327 328 329 330 331 332 333 334 335 336 337 338 339 340 341\n",
      " 342 343 344 345 346 347 348 349 350 351 352 353 354 355 356 357 358 359\n",
      " 360 361] Val [ 73  74  75  76  77  78  79  80  81  82  83  84  85  86  87  88  89  90\n",
      " 254 255 256 257 258 259 260 261 262 263 264 265 266 267 268 269 270 271]\n",
      "Train: [  0   1   2   3   4   5   6   7   8   9  10  11  12  13  14  15  16  17\n",
      "  18  19  20  21  22  23  24  25  26  27  28  29  30  31  32  33  34  35\n",
      "  36  37  38  39  40  41  42  43  44  45  46  47  48  49  50  51  52  53\n",
      "  54  55  56  57  58  59  60  61  62  63  64  65  66  67  68  69  70  71\n",
      "  72  73  74  75  76  77  78  79  80  81  82  83  84  85  86  87  88  89\n",
      "  90 109 110 111 112 113 114 115 116 117 118 119 120 121 122 123 124 125\n",
      " 126 127 128 129 130 131 132 133 134 135 136 137 138 139 140 141 142 143\n",
      " 144 145 146 147 148 149 150 151 152 153 154 155 156 157 158 159 160 161\n",
      " 162 163 164 165 166 167 168 169 170 171 172 173 174 175 176 177 178 179\n",
      " 180 181 182 183 184 185 186 187 188 189 190 191 192 193 194 195 196 197\n",
      " 198 199 200 201 202 203 204 205 206 207 208 209 210 211 212 213 214 215\n",
      " 216 217 218 219 220 221 222 223 224 225 226 227 228 229 230 231 232 233\n",
      " 234 235 236 237 238 239 240 241 242 243 244 245 246 247 248 249 250 251\n",
      " 252 253 254 255 256 257 258 259 260 261 262 263 264 265 266 267 268 269\n",
      " 270 271 290 291 292 293 294 295 296 297 298 299 300 301 302 303 304 305\n",
      " 306 307 308 309 310 311 312 313 314 315 316 317 318 319 320 321 322 323\n",
      " 324 325 326 327 328 329 330 331 332 333 334 335 336 337 338 339 340 341\n",
      " 342 343 344 345 346 347 348 349 350 351 352 353 354 355 356 357 358 359\n",
      " 360 361] Val [ 91  92  93  94  95  96  97  98  99 100 101 102 103 104 105 106 107 108\n",
      " 272 273 274 275 276 277 278 279 280 281 282 283 284 285 286 287 288 289]\n",
      "Train: [  0   1   2   3   4   5   6   7   8   9  10  11  12  13  14  15  16  17\n",
      "  18  19  20  21  22  23  24  25  26  27  28  29  30  31  32  33  34  35\n",
      "  36  37  38  39  40  41  42  43  44  45  46  47  48  49  50  51  52  53\n",
      "  54  55  56  57  58  59  60  61  62  63  64  65  66  67  68  69  70  71\n",
      "  72  73  74  75  76  77  78  79  80  81  82  83  84  85  86  87  88  89\n",
      "  90  91  92  93  94  95  96  97  98  99 100 101 102 103 104 105 106 107\n",
      " 108 127 128 129 130 131 132 133 134 135 136 137 138 139 140 141 142 143\n",
      " 144 145 146 147 148 149 150 151 152 153 154 155 156 157 158 159 160 161\n",
      " 162 163 164 165 166 167 168 169 170 171 172 173 174 175 176 177 178 179\n",
      " 180 181 182 183 184 185 186 187 188 189 190 191 192 193 194 195 196 197\n",
      " 198 199 200 201 202 203 204 205 206 207 208 209 210 211 212 213 214 215\n",
      " 216 217 218 219 220 221 222 223 224 225 226 227 228 229 230 231 232 233\n",
      " 234 235 236 237 238 239 240 241 242 243 244 245 246 247 248 249 250 251\n",
      " 252 253 254 255 256 257 258 259 260 261 262 263 264 265 266 267 268 269\n",
      " 270 271 272 273 274 275 276 277 278 279 280 281 282 283 284 285 286 287\n",
      " 288 289 308 309 310 311 312 313 314 315 316 317 318 319 320 321 322 323\n",
      " 324 325 326 327 328 329 330 331 332 333 334 335 336 337 338 339 340 341\n",
      " 342 343 344 345 346 347 348 349 350 351 352 353 354 355 356 357 358 359\n",
      " 360 361] Val [109 110 111 112 113 114 115 116 117 118 119 120 121 122 123 124 125 126\n",
      " 290 291 292 293 294 295 296 297 298 299 300 301 302 303 304 305 306 307]\n",
      "Train: [  0   1   2   3   4   5   6   7   8   9  10  11  12  13  14  15  16  17\n",
      "  18  19  20  21  22  23  24  25  26  27  28  29  30  31  32  33  34  35\n",
      "  36  37  38  39  40  41  42  43  44  45  46  47  48  49  50  51  52  53\n",
      "  54  55  56  57  58  59  60  61  62  63  64  65  66  67  68  69  70  71\n",
      "  72  73  74  75  76  77  78  79  80  81  82  83  84  85  86  87  88  89\n",
      "  90  91  92  93  94  95  96  97  98  99 100 101 102 103 104 105 106 107\n",
      " 108 109 110 111 112 113 114 115 116 117 118 119 120 121 122 123 124 125\n",
      " 126 145 146 147 148 149 150 151 152 153 154 155 156 157 158 159 160 161\n",
      " 162 163 164 165 166 167 168 169 170 171 172 173 174 175 176 177 178 179\n",
      " 180 181 182 183 184 185 186 187 188 189 190 191 192 193 194 195 196 197\n",
      " 198 199 200 201 202 203 204 205 206 207 208 209 210 211 212 213 214 215\n",
      " 216 217 218 219 220 221 222 223 224 225 226 227 228 229 230 231 232 233\n",
      " 234 235 236 237 238 239 240 241 242 243 244 245 246 247 248 249 250 251\n",
      " 252 253 254 255 256 257 258 259 260 261 262 263 264 265 266 267 268 269\n",
      " 270 271 272 273 274 275 276 277 278 279 280 281 282 283 284 285 286 287\n",
      " 288 289 290 291 292 293 294 295 296 297 298 299 300 301 302 303 304 305\n",
      " 306 307 326 327 328 329 330 331 332 333 334 335 336 337 338 339 340 341\n",
      " 342 343 344 345 346 347 348 349 350 351 352 353 354 355 356 357 358 359\n",
      " 360 361] Val [127 128 129 130 131 132 133 134 135 136 137 138 139 140 141 142 143 144\n",
      " 308 309 310 311 312 313 314 315 316 317 318 319 320 321 322 323 324 325]\n"
     ]
    },
    {
     "name": "stdout",
     "output_type": "stream",
     "text": [
      "Train: [  0   1   2   3   4   5   6   7   8   9  10  11  12  13  14  15  16  17\n",
      "  18  19  20  21  22  23  24  25  26  27  28  29  30  31  32  33  34  35\n",
      "  36  37  38  39  40  41  42  43  44  45  46  47  48  49  50  51  52  53\n",
      "  54  55  56  57  58  59  60  61  62  63  64  65  66  67  68  69  70  71\n",
      "  72  73  74  75  76  77  78  79  80  81  82  83  84  85  86  87  88  89\n",
      "  90  91  92  93  94  95  96  97  98  99 100 101 102 103 104 105 106 107\n",
      " 108 109 110 111 112 113 114 115 116 117 118 119 120 121 122 123 124 125\n",
      " 126 127 128 129 130 131 132 133 134 135 136 137 138 139 140 141 142 143\n",
      " 144 163 164 165 166 167 168 169 170 171 172 173 174 175 176 177 178 179\n",
      " 180 181 182 183 184 185 186 187 188 189 190 191 192 193 194 195 196 197\n",
      " 198 199 200 201 202 203 204 205 206 207 208 209 210 211 212 213 214 215\n",
      " 216 217 218 219 220 221 222 223 224 225 226 227 228 229 230 231 232 233\n",
      " 234 235 236 237 238 239 240 241 242 243 244 245 246 247 248 249 250 251\n",
      " 252 253 254 255 256 257 258 259 260 261 262 263 264 265 266 267 268 269\n",
      " 270 271 272 273 274 275 276 277 278 279 280 281 282 283 284 285 286 287\n",
      " 288 289 290 291 292 293 294 295 296 297 298 299 300 301 302 303 304 305\n",
      " 306 307 308 309 310 311 312 313 314 315 316 317 318 319 320 321 322 323\n",
      " 324 325 344 345 346 347 348 349 350 351 352 353 354 355 356 357 358 359\n",
      " 360 361] Val [145 146 147 148 149 150 151 152 153 154 155 156 157 158 159 160 161 162\n",
      " 326 327 328 329 330 331 332 333 334 335 336 337 338 339 340 341 342 343]\n",
      "Train: [  0   1   2   3   4   5   6   7   8   9  10  11  12  13  14  15  16  17\n",
      "  18  19  20  21  22  23  24  25  26  27  28  29  30  31  32  33  34  35\n",
      "  36  37  38  39  40  41  42  43  44  45  46  47  48  49  50  51  52  53\n",
      "  54  55  56  57  58  59  60  61  62  63  64  65  66  67  68  69  70  71\n",
      "  72  73  74  75  76  77  78  79  80  81  82  83  84  85  86  87  88  89\n",
      "  90  91  92  93  94  95  96  97  98  99 100 101 102 103 104 105 106 107\n",
      " 108 109 110 111 112 113 114 115 116 117 118 119 120 121 122 123 124 125\n",
      " 126 127 128 129 130 131 132 133 134 135 136 137 138 139 140 141 142 143\n",
      " 144 145 146 147 148 149 150 151 152 153 154 155 156 157 158 159 160 161\n",
      " 162 181 182 183 184 185 186 187 188 189 190 191 192 193 194 195 196 197\n",
      " 198 199 200 201 202 203 204 205 206 207 208 209 210 211 212 213 214 215\n",
      " 216 217 218 219 220 221 222 223 224 225 226 227 228 229 230 231 232 233\n",
      " 234 235 236 237 238 239 240 241 242 243 244 245 246 247 248 249 250 251\n",
      " 252 253 254 255 256 257 258 259 260 261 262 263 264 265 266 267 268 269\n",
      " 270 271 272 273 274 275 276 277 278 279 280 281 282 283 284 285 286 287\n",
      " 288 289 290 291 292 293 294 295 296 297 298 299 300 301 302 303 304 305\n",
      " 306 307 308 309 310 311 312 313 314 315 316 317 318 319 320 321 322 323\n",
      " 324 325 326 327 328 329 330 331 332 333 334 335 336 337 338 339 340 341\n",
      " 342 343] Val [163 164 165 166 167 168 169 170 171 172 173 174 175 176 177 178 179 180\n",
      " 344 345 346 347 348 349 350 351 352 353 354 355 356 357 358 359 360 361]\n",
      "[0.7567567567567568, 0.9459459459459459, 0.9444444444444444, 0.9444444444444444, 0.8055555555555556, 0.8611111111111112, 1.0, 0.9166666666666666, 0.9444444444444444, 0.7222222222222222]\n"
     ]
    }
   ],
   "source": [
    "from sklearn.model_selection import StratifiedKFold\n",
    "\n",
    "\n",
    "accuracy = []\n",
    "\n",
    "skf = StratifiedKFold(n_splits=10,random_state=None)\n",
    "skf.get_n_splits(X_res,y_res)\n",
    "\n",
    "for train_index, test_index in skf.split(X_res,y_res):\n",
    "    print(\"Train:\", train_index,\"Val\",test_index)\n",
    "    X1_train , X1_test = X_res.iloc[train_index],X_res.iloc[test_index]\n",
    "    y1_train , y1_test = y_res.iloc[train_index],y_res.iloc[test_index]\n",
    "    \n",
    "    model.fit(X1_train,y1_train)\n",
    "    prediction = model.predict(X1_test)\n",
    "    score = accuracy_score(prediction,y1_test)\n",
    "    accuracy.append(score)\n",
    "    \n",
    "print(accuracy)"
   ]
  },
  {
   "cell_type": "code",
   "execution_count": 61,
   "metadata": {},
   "outputs": [
    {
     "data": {
      "text/plain": [
       "0.8841591591591591"
      ]
     },
     "execution_count": 61,
     "metadata": {},
     "output_type": "execute_result"
    }
   ],
   "source": [
    "np.array(accuracy).mean()"
   ]
  },
  {
   "cell_type": "markdown",
   "metadata": {},
   "source": [
    "# NestedCV Cross Validation"
   ]
  },
  {
   "cell_type": "code",
   "execution_count": 62,
   "metadata": {},
   "outputs": [],
   "source": [
    "from nested_cv import NestedCV"
   ]
  },
  {
   "cell_type": "code",
   "execution_count": 63,
   "metadata": {},
   "outputs": [],
   "source": [
    "from sklearn.metrics import roc_auc_score"
   ]
  },
  {
   "cell_type": "code",
   "execution_count": 68,
   "metadata": {},
   "outputs": [
    {
     "data": {
      "text/plain": [
       "[0.9649122807017544,\n",
       " 0.9803030303030303,\n",
       " 0.9024767801857585,\n",
       " 0.8862876254180602,\n",
       " 1.0,\n",
       " 0.834375,\n",
       " 0.99375,\n",
       " 0.998263888888889,\n",
       " 1.0,\n",
       " 0.973015873015873]"
      ]
     },
     "execution_count": 68,
     "metadata": {},
     "output_type": "execute_result"
    }
   ],
   "source": [
    "param_grid = {\n",
    "     'max_depth': [3, None],\n",
    "     'n_estimators': [10, 20]\n",
    "}\n",
    "\n",
    "NCV = NestedCV(model=RandomForestClassifier(), params_grid=param_grid,\n",
    "               outer_kfolds=10, inner_kfolds=10,\n",
    "               cv_options={'metric':roc_auc_score, \n",
    "                           'metric_score_indicator_lower':False,\n",
    "                           'randomized_search_iter':30, \n",
    "                           'predict_proba':True})\n",
    "NCV.fit(X=X_res,y=y_res)\n",
    "\n",
    "accuracy = NCV.outer_scores\n",
    "accuracy"
   ]
  },
  {
   "cell_type": "code",
   "execution_count": 66,
   "metadata": {},
   "outputs": [
    {
     "data": {
      "text/plain": [
       "0.9862757955277628"
      ]
     },
     "execution_count": 66,
     "metadata": {},
     "output_type": "execute_result"
    }
   ],
   "source": [
    "np.array(accuracy).mean()"
   ]
  },
  {
   "cell_type": "code",
   "execution_count": null,
   "metadata": {},
   "outputs": [],
   "source": []
  }
 ],
 "metadata": {
  "kernelspec": {
   "display_name": "Python 3",
   "language": "python",
   "name": "python3"
  },
  "language_info": {
   "codemirror_mode": {
    "name": "ipython",
    "version": 3
   },
   "file_extension": ".py",
   "mimetype": "text/x-python",
   "name": "python",
   "nbconvert_exporter": "python",
   "pygments_lexer": "ipython3",
   "version": "3.7.5"
  }
 },
 "nbformat": 4,
 "nbformat_minor": 2
}
