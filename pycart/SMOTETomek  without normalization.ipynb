{
 "cells": [
  {
   "cell_type": "code",
   "execution_count": 1,
   "metadata": {},
   "outputs": [],
   "source": [
    "import pandas as pd\n",
    "import numpy as np"
   ]
  },
  {
   "cell_type": "code",
   "execution_count": 2,
   "metadata": {},
   "outputs": [],
   "source": [
    "df = pd.read_excel(\"preprocessed data.xlsx\")"
   ]
  },
  {
   "cell_type": "code",
   "execution_count": 3,
   "metadata": {},
   "outputs": [
    {
     "data": {
      "text/html": [
       "<div>\n",
       "<style scoped>\n",
       "    .dataframe tbody tr th:only-of-type {\n",
       "        vertical-align: middle;\n",
       "    }\n",
       "\n",
       "    .dataframe tbody tr th {\n",
       "        vertical-align: top;\n",
       "    }\n",
       "\n",
       "    .dataframe thead th {\n",
       "        text-align: right;\n",
       "    }\n",
       "</style>\n",
       "<table border=\"1\" class=\"dataframe\">\n",
       "  <thead>\n",
       "    <tr style=\"text-align: right;\">\n",
       "      <th></th>\n",
       "      <th>target</th>\n",
       "      <th>tumor size</th>\n",
       "      <th>node status of the tumor</th>\n",
       "      <th>Age of the patient</th>\n",
       "      <th>tumor grade</th>\n",
       "    </tr>\n",
       "  </thead>\n",
       "  <tbody>\n",
       "    <tr>\n",
       "      <th>0</th>\n",
       "      <td>0</td>\n",
       "      <td>2</td>\n",
       "      <td>1</td>\n",
       "      <td>60</td>\n",
       "      <td>3</td>\n",
       "    </tr>\n",
       "    <tr>\n",
       "      <th>1</th>\n",
       "      <td>0</td>\n",
       "      <td>1</td>\n",
       "      <td>1</td>\n",
       "      <td>55</td>\n",
       "      <td>2</td>\n",
       "    </tr>\n",
       "    <tr>\n",
       "      <th>2</th>\n",
       "      <td>0</td>\n",
       "      <td>1</td>\n",
       "      <td>1</td>\n",
       "      <td>33</td>\n",
       "      <td>3</td>\n",
       "    </tr>\n",
       "    <tr>\n",
       "      <th>3</th>\n",
       "      <td>0</td>\n",
       "      <td>1</td>\n",
       "      <td>1</td>\n",
       "      <td>67</td>\n",
       "      <td>2</td>\n",
       "    </tr>\n",
       "    <tr>\n",
       "      <th>4</th>\n",
       "      <td>0</td>\n",
       "      <td>1</td>\n",
       "      <td>1</td>\n",
       "      <td>47</td>\n",
       "      <td>2</td>\n",
       "    </tr>\n",
       "    <tr>\n",
       "      <th>...</th>\n",
       "      <td>...</td>\n",
       "      <td>...</td>\n",
       "      <td>...</td>\n",
       "      <td>...</td>\n",
       "      <td>...</td>\n",
       "    </tr>\n",
       "    <tr>\n",
       "      <th>229</th>\n",
       "      <td>1</td>\n",
       "      <td>2</td>\n",
       "      <td>2</td>\n",
       "      <td>55</td>\n",
       "      <td>2</td>\n",
       "    </tr>\n",
       "    <tr>\n",
       "      <th>230</th>\n",
       "      <td>1</td>\n",
       "      <td>3</td>\n",
       "      <td>2</td>\n",
       "      <td>45</td>\n",
       "      <td>2</td>\n",
       "    </tr>\n",
       "    <tr>\n",
       "      <th>231</th>\n",
       "      <td>1</td>\n",
       "      <td>3</td>\n",
       "      <td>2</td>\n",
       "      <td>37</td>\n",
       "      <td>3</td>\n",
       "    </tr>\n",
       "    <tr>\n",
       "      <th>232</th>\n",
       "      <td>1</td>\n",
       "      <td>3</td>\n",
       "      <td>2</td>\n",
       "      <td>58</td>\n",
       "      <td>2</td>\n",
       "    </tr>\n",
       "    <tr>\n",
       "      <th>233</th>\n",
       "      <td>1</td>\n",
       "      <td>1</td>\n",
       "      <td>1</td>\n",
       "      <td>52</td>\n",
       "      <td>2</td>\n",
       "    </tr>\n",
       "  </tbody>\n",
       "</table>\n",
       "<p>234 rows × 5 columns</p>\n",
       "</div>"
      ],
      "text/plain": [
       "     target  tumor size  node status of the tumor  Age of the patient  \\\n",
       "0         0           2                         1                  60   \n",
       "1         0           1                         1                  55   \n",
       "2         0           1                         1                  33   \n",
       "3         0           1                         1                  67   \n",
       "4         0           1                         1                  47   \n",
       "..      ...         ...                       ...                 ...   \n",
       "229       1           2                         2                  55   \n",
       "230       1           3                         2                  45   \n",
       "231       1           3                         2                  37   \n",
       "232       1           3                         2                  58   \n",
       "233       1           1                         1                  52   \n",
       "\n",
       "     tumor grade  \n",
       "0              3  \n",
       "1              2  \n",
       "2              3  \n",
       "3              2  \n",
       "4              2  \n",
       "..           ...  \n",
       "229            2  \n",
       "230            2  \n",
       "231            3  \n",
       "232            2  \n",
       "233            2  \n",
       "\n",
       "[234 rows x 5 columns]"
      ]
     },
     "execution_count": 3,
     "metadata": {},
     "output_type": "execute_result"
    }
   ],
   "source": [
    "df"
   ]
  },
  {
   "cell_type": "code",
   "execution_count": 4,
   "metadata": {},
   "outputs": [
    {
     "name": "stdout",
     "output_type": "stream",
     "text": [
      "\n",
      "Setup Succesfully Completed!\n"
     ]
    },
    {
     "data": {
      "text/html": [
       "<style  type=\"text/css\" >\n",
       "</style><table id=\"T_4f9b3ee8_944a_11ea_be00_f9b28e0aabc8\" ><thead>    <tr>        <th class=\"blank level0\" ></th>        <th class=\"col_heading level0 col0\" >Description</th>        <th class=\"col_heading level0 col1\" >Value</th>    </tr></thead><tbody>\n",
       "                <tr>\n",
       "                        <th id=\"T_4f9b3ee8_944a_11ea_be00_f9b28e0aabc8level0_row0\" class=\"row_heading level0 row0\" >0</th>\n",
       "                        <td id=\"T_4f9b3ee8_944a_11ea_be00_f9b28e0aabc8row0_col0\" class=\"data row0 col0\" >session_id </td>\n",
       "                        <td id=\"T_4f9b3ee8_944a_11ea_be00_f9b28e0aabc8row0_col1\" class=\"data row0 col1\" >364</td>\n",
       "            </tr>\n",
       "            <tr>\n",
       "                        <th id=\"T_4f9b3ee8_944a_11ea_be00_f9b28e0aabc8level0_row1\" class=\"row_heading level0 row1\" >1</th>\n",
       "                        <td id=\"T_4f9b3ee8_944a_11ea_be00_f9b28e0aabc8row1_col0\" class=\"data row1 col0\" >Original Data </td>\n",
       "                        <td id=\"T_4f9b3ee8_944a_11ea_be00_f9b28e0aabc8row1_col1\" class=\"data row1 col1\" >(234, 5)</td>\n",
       "            </tr>\n",
       "            <tr>\n",
       "                        <th id=\"T_4f9b3ee8_944a_11ea_be00_f9b28e0aabc8level0_row2\" class=\"row_heading level0 row2\" >2</th>\n",
       "                        <td id=\"T_4f9b3ee8_944a_11ea_be00_f9b28e0aabc8row2_col0\" class=\"data row2 col0\" >Missing Values </td>\n",
       "                        <td id=\"T_4f9b3ee8_944a_11ea_be00_f9b28e0aabc8row2_col1\" class=\"data row2 col1\" >False</td>\n",
       "            </tr>\n",
       "            <tr>\n",
       "                        <th id=\"T_4f9b3ee8_944a_11ea_be00_f9b28e0aabc8level0_row3\" class=\"row_heading level0 row3\" >3</th>\n",
       "                        <td id=\"T_4f9b3ee8_944a_11ea_be00_f9b28e0aabc8row3_col0\" class=\"data row3 col0\" >Numeric Features </td>\n",
       "                        <td id=\"T_4f9b3ee8_944a_11ea_be00_f9b28e0aabc8row3_col1\" class=\"data row3 col1\" >1</td>\n",
       "            </tr>\n",
       "            <tr>\n",
       "                        <th id=\"T_4f9b3ee8_944a_11ea_be00_f9b28e0aabc8level0_row4\" class=\"row_heading level0 row4\" >4</th>\n",
       "                        <td id=\"T_4f9b3ee8_944a_11ea_be00_f9b28e0aabc8row4_col0\" class=\"data row4 col0\" >Categorical Features </td>\n",
       "                        <td id=\"T_4f9b3ee8_944a_11ea_be00_f9b28e0aabc8row4_col1\" class=\"data row4 col1\" >4</td>\n",
       "            </tr>\n",
       "            <tr>\n",
       "                        <th id=\"T_4f9b3ee8_944a_11ea_be00_f9b28e0aabc8level0_row5\" class=\"row_heading level0 row5\" >5</th>\n",
       "                        <td id=\"T_4f9b3ee8_944a_11ea_be00_f9b28e0aabc8row5_col0\" class=\"data row5 col0\" >Ordinal Features </td>\n",
       "                        <td id=\"T_4f9b3ee8_944a_11ea_be00_f9b28e0aabc8row5_col1\" class=\"data row5 col1\" >False</td>\n",
       "            </tr>\n",
       "            <tr>\n",
       "                        <th id=\"T_4f9b3ee8_944a_11ea_be00_f9b28e0aabc8level0_row6\" class=\"row_heading level0 row6\" >6</th>\n",
       "                        <td id=\"T_4f9b3ee8_944a_11ea_be00_f9b28e0aabc8row6_col0\" class=\"data row6 col0\" >High Cardinality Features </td>\n",
       "                        <td id=\"T_4f9b3ee8_944a_11ea_be00_f9b28e0aabc8row6_col1\" class=\"data row6 col1\" >False</td>\n",
       "            </tr>\n",
       "            <tr>\n",
       "                        <th id=\"T_4f9b3ee8_944a_11ea_be00_f9b28e0aabc8level0_row7\" class=\"row_heading level0 row7\" >7</th>\n",
       "                        <td id=\"T_4f9b3ee8_944a_11ea_be00_f9b28e0aabc8row7_col0\" class=\"data row7 col0\" >Transformed Data </td>\n",
       "                        <td id=\"T_4f9b3ee8_944a_11ea_be00_f9b28e0aabc8row7_col1\" class=\"data row7 col1\" >(234, 13)</td>\n",
       "            </tr>\n",
       "            <tr>\n",
       "                        <th id=\"T_4f9b3ee8_944a_11ea_be00_f9b28e0aabc8level0_row8\" class=\"row_heading level0 row8\" >8</th>\n",
       "                        <td id=\"T_4f9b3ee8_944a_11ea_be00_f9b28e0aabc8row8_col0\" class=\"data row8 col0\" >Numeric Imputer </td>\n",
       "                        <td id=\"T_4f9b3ee8_944a_11ea_be00_f9b28e0aabc8row8_col1\" class=\"data row8 col1\" >mean</td>\n",
       "            </tr>\n",
       "            <tr>\n",
       "                        <th id=\"T_4f9b3ee8_944a_11ea_be00_f9b28e0aabc8level0_row9\" class=\"row_heading level0 row9\" >9</th>\n",
       "                        <td id=\"T_4f9b3ee8_944a_11ea_be00_f9b28e0aabc8row9_col0\" class=\"data row9 col0\" >Categorical Imputer </td>\n",
       "                        <td id=\"T_4f9b3ee8_944a_11ea_be00_f9b28e0aabc8row9_col1\" class=\"data row9 col1\" >constant</td>\n",
       "            </tr>\n",
       "            <tr>\n",
       "                        <th id=\"T_4f9b3ee8_944a_11ea_be00_f9b28e0aabc8level0_row10\" class=\"row_heading level0 row10\" >10</th>\n",
       "                        <td id=\"T_4f9b3ee8_944a_11ea_be00_f9b28e0aabc8row10_col0\" class=\"data row10 col0\" >Normalize </td>\n",
       "                        <td id=\"T_4f9b3ee8_944a_11ea_be00_f9b28e0aabc8row10_col1\" class=\"data row10 col1\" >False</td>\n",
       "            </tr>\n",
       "            <tr>\n",
       "                        <th id=\"T_4f9b3ee8_944a_11ea_be00_f9b28e0aabc8level0_row11\" class=\"row_heading level0 row11\" >11</th>\n",
       "                        <td id=\"T_4f9b3ee8_944a_11ea_be00_f9b28e0aabc8row11_col0\" class=\"data row11 col0\" >Normalize Method </td>\n",
       "                        <td id=\"T_4f9b3ee8_944a_11ea_be00_f9b28e0aabc8row11_col1\" class=\"data row11 col1\" >None</td>\n",
       "            </tr>\n",
       "            <tr>\n",
       "                        <th id=\"T_4f9b3ee8_944a_11ea_be00_f9b28e0aabc8level0_row12\" class=\"row_heading level0 row12\" >12</th>\n",
       "                        <td id=\"T_4f9b3ee8_944a_11ea_be00_f9b28e0aabc8row12_col0\" class=\"data row12 col0\" >Transformation </td>\n",
       "                        <td id=\"T_4f9b3ee8_944a_11ea_be00_f9b28e0aabc8row12_col1\" class=\"data row12 col1\" >False</td>\n",
       "            </tr>\n",
       "            <tr>\n",
       "                        <th id=\"T_4f9b3ee8_944a_11ea_be00_f9b28e0aabc8level0_row13\" class=\"row_heading level0 row13\" >13</th>\n",
       "                        <td id=\"T_4f9b3ee8_944a_11ea_be00_f9b28e0aabc8row13_col0\" class=\"data row13 col0\" >Transformation Method </td>\n",
       "                        <td id=\"T_4f9b3ee8_944a_11ea_be00_f9b28e0aabc8row13_col1\" class=\"data row13 col1\" >None</td>\n",
       "            </tr>\n",
       "            <tr>\n",
       "                        <th id=\"T_4f9b3ee8_944a_11ea_be00_f9b28e0aabc8level0_row14\" class=\"row_heading level0 row14\" >14</th>\n",
       "                        <td id=\"T_4f9b3ee8_944a_11ea_be00_f9b28e0aabc8row14_col0\" class=\"data row14 col0\" >PCA </td>\n",
       "                        <td id=\"T_4f9b3ee8_944a_11ea_be00_f9b28e0aabc8row14_col1\" class=\"data row14 col1\" >False</td>\n",
       "            </tr>\n",
       "            <tr>\n",
       "                        <th id=\"T_4f9b3ee8_944a_11ea_be00_f9b28e0aabc8level0_row15\" class=\"row_heading level0 row15\" >15</th>\n",
       "                        <td id=\"T_4f9b3ee8_944a_11ea_be00_f9b28e0aabc8row15_col0\" class=\"data row15 col0\" >PCA Method </td>\n",
       "                        <td id=\"T_4f9b3ee8_944a_11ea_be00_f9b28e0aabc8row15_col1\" class=\"data row15 col1\" >None</td>\n",
       "            </tr>\n",
       "            <tr>\n",
       "                        <th id=\"T_4f9b3ee8_944a_11ea_be00_f9b28e0aabc8level0_row16\" class=\"row_heading level0 row16\" >16</th>\n",
       "                        <td id=\"T_4f9b3ee8_944a_11ea_be00_f9b28e0aabc8row16_col0\" class=\"data row16 col0\" >PCA components </td>\n",
       "                        <td id=\"T_4f9b3ee8_944a_11ea_be00_f9b28e0aabc8row16_col1\" class=\"data row16 col1\" >None</td>\n",
       "            </tr>\n",
       "            <tr>\n",
       "                        <th id=\"T_4f9b3ee8_944a_11ea_be00_f9b28e0aabc8level0_row17\" class=\"row_heading level0 row17\" >17</th>\n",
       "                        <td id=\"T_4f9b3ee8_944a_11ea_be00_f9b28e0aabc8row17_col0\" class=\"data row17 col0\" >Ignore Low Variance </td>\n",
       "                        <td id=\"T_4f9b3ee8_944a_11ea_be00_f9b28e0aabc8row17_col1\" class=\"data row17 col1\" >False</td>\n",
       "            </tr>\n",
       "            <tr>\n",
       "                        <th id=\"T_4f9b3ee8_944a_11ea_be00_f9b28e0aabc8level0_row18\" class=\"row_heading level0 row18\" >18</th>\n",
       "                        <td id=\"T_4f9b3ee8_944a_11ea_be00_f9b28e0aabc8row18_col0\" class=\"data row18 col0\" >Combine Rare Levels </td>\n",
       "                        <td id=\"T_4f9b3ee8_944a_11ea_be00_f9b28e0aabc8row18_col1\" class=\"data row18 col1\" >False</td>\n",
       "            </tr>\n",
       "            <tr>\n",
       "                        <th id=\"T_4f9b3ee8_944a_11ea_be00_f9b28e0aabc8level0_row19\" class=\"row_heading level0 row19\" >19</th>\n",
       "                        <td id=\"T_4f9b3ee8_944a_11ea_be00_f9b28e0aabc8row19_col0\" class=\"data row19 col0\" >Rare Level Threshold </td>\n",
       "                        <td id=\"T_4f9b3ee8_944a_11ea_be00_f9b28e0aabc8row19_col1\" class=\"data row19 col1\" >None</td>\n",
       "            </tr>\n",
       "            <tr>\n",
       "                        <th id=\"T_4f9b3ee8_944a_11ea_be00_f9b28e0aabc8level0_row20\" class=\"row_heading level0 row20\" >20</th>\n",
       "                        <td id=\"T_4f9b3ee8_944a_11ea_be00_f9b28e0aabc8row20_col0\" class=\"data row20 col0\" >Numeric Binning </td>\n",
       "                        <td id=\"T_4f9b3ee8_944a_11ea_be00_f9b28e0aabc8row20_col1\" class=\"data row20 col1\" >False</td>\n",
       "            </tr>\n",
       "            <tr>\n",
       "                        <th id=\"T_4f9b3ee8_944a_11ea_be00_f9b28e0aabc8level0_row21\" class=\"row_heading level0 row21\" >21</th>\n",
       "                        <td id=\"T_4f9b3ee8_944a_11ea_be00_f9b28e0aabc8row21_col0\" class=\"data row21 col0\" >Remove Multicollinearity </td>\n",
       "                        <td id=\"T_4f9b3ee8_944a_11ea_be00_f9b28e0aabc8row21_col1\" class=\"data row21 col1\" >False</td>\n",
       "            </tr>\n",
       "            <tr>\n",
       "                        <th id=\"T_4f9b3ee8_944a_11ea_be00_f9b28e0aabc8level0_row22\" class=\"row_heading level0 row22\" >22</th>\n",
       "                        <td id=\"T_4f9b3ee8_944a_11ea_be00_f9b28e0aabc8row22_col0\" class=\"data row22 col0\" >Multicollinearity Threshold </td>\n",
       "                        <td id=\"T_4f9b3ee8_944a_11ea_be00_f9b28e0aabc8row22_col1\" class=\"data row22 col1\" >None</td>\n",
       "            </tr>\n",
       "            <tr>\n",
       "                        <th id=\"T_4f9b3ee8_944a_11ea_be00_f9b28e0aabc8level0_row23\" class=\"row_heading level0 row23\" >23</th>\n",
       "                        <td id=\"T_4f9b3ee8_944a_11ea_be00_f9b28e0aabc8row23_col0\" class=\"data row23 col0\" >Group Features </td>\n",
       "                        <td id=\"T_4f9b3ee8_944a_11ea_be00_f9b28e0aabc8row23_col1\" class=\"data row23 col1\" >False</td>\n",
       "            </tr>\n",
       "    </tbody></table>"
      ],
      "text/plain": [
       "<pandas.io.formats.style.Styler at 0x7f8b65fb4d10>"
      ]
     },
     "metadata": {},
     "output_type": "display_data"
    }
   ],
   "source": [
    "from pycaret.anomaly import *\n",
    "#intialize the setup\n",
    "exp_ano = setup(df)"
   ]
  },
  {
   "cell_type": "code",
   "execution_count": 5,
   "metadata": {},
   "outputs": [],
   "source": [
    "knn = create_model('knn')"
   ]
  },
  {
   "cell_type": "code",
   "execution_count": 6,
   "metadata": {},
   "outputs": [
    {
     "data": {
      "text/html": [
       "<div>\n",
       "<style scoped>\n",
       "    .dataframe tbody tr th:only-of-type {\n",
       "        vertical-align: middle;\n",
       "    }\n",
       "\n",
       "    .dataframe tbody tr th {\n",
       "        vertical-align: top;\n",
       "    }\n",
       "\n",
       "    .dataframe thead th {\n",
       "        text-align: right;\n",
       "    }\n",
       "</style>\n",
       "<table border=\"1\" class=\"dataframe\">\n",
       "  <thead>\n",
       "    <tr style=\"text-align: right;\">\n",
       "      <th></th>\n",
       "      <th>target</th>\n",
       "      <th>tumor size</th>\n",
       "      <th>node status of the tumor</th>\n",
       "      <th>Age of the patient</th>\n",
       "      <th>tumor grade</th>\n",
       "      <th>Label</th>\n",
       "      <th>Score</th>\n",
       "    </tr>\n",
       "  </thead>\n",
       "  <tbody>\n",
       "    <tr>\n",
       "      <th>0</th>\n",
       "      <td>0</td>\n",
       "      <td>2</td>\n",
       "      <td>1</td>\n",
       "      <td>60</td>\n",
       "      <td>3</td>\n",
       "      <td>0</td>\n",
       "      <td>1.414214</td>\n",
       "    </tr>\n",
       "    <tr>\n",
       "      <th>1</th>\n",
       "      <td>0</td>\n",
       "      <td>1</td>\n",
       "      <td>1</td>\n",
       "      <td>55</td>\n",
       "      <td>2</td>\n",
       "      <td>0</td>\n",
       "      <td>2.000000</td>\n",
       "    </tr>\n",
       "    <tr>\n",
       "      <th>2</th>\n",
       "      <td>0</td>\n",
       "      <td>1</td>\n",
       "      <td>1</td>\n",
       "      <td>33</td>\n",
       "      <td>3</td>\n",
       "      <td>0</td>\n",
       "      <td>2.449490</td>\n",
       "    </tr>\n",
       "    <tr>\n",
       "      <th>3</th>\n",
       "      <td>0</td>\n",
       "      <td>1</td>\n",
       "      <td>1</td>\n",
       "      <td>67</td>\n",
       "      <td>2</td>\n",
       "      <td>0</td>\n",
       "      <td>2.236068</td>\n",
       "    </tr>\n",
       "    <tr>\n",
       "      <th>4</th>\n",
       "      <td>0</td>\n",
       "      <td>1</td>\n",
       "      <td>1</td>\n",
       "      <td>47</td>\n",
       "      <td>2</td>\n",
       "      <td>0</td>\n",
       "      <td>1.732051</td>\n",
       "    </tr>\n",
       "    <tr>\n",
       "      <th>...</th>\n",
       "      <td>...</td>\n",
       "      <td>...</td>\n",
       "      <td>...</td>\n",
       "      <td>...</td>\n",
       "      <td>...</td>\n",
       "      <td>...</td>\n",
       "      <td>...</td>\n",
       "    </tr>\n",
       "    <tr>\n",
       "      <th>229</th>\n",
       "      <td>1</td>\n",
       "      <td>2</td>\n",
       "      <td>2</td>\n",
       "      <td>55</td>\n",
       "      <td>2</td>\n",
       "      <td>0</td>\n",
       "      <td>2.236068</td>\n",
       "    </tr>\n",
       "    <tr>\n",
       "      <th>230</th>\n",
       "      <td>1</td>\n",
       "      <td>3</td>\n",
       "      <td>2</td>\n",
       "      <td>45</td>\n",
       "      <td>2</td>\n",
       "      <td>0</td>\n",
       "      <td>2.236068</td>\n",
       "    </tr>\n",
       "    <tr>\n",
       "      <th>231</th>\n",
       "      <td>1</td>\n",
       "      <td>3</td>\n",
       "      <td>2</td>\n",
       "      <td>37</td>\n",
       "      <td>3</td>\n",
       "      <td>0</td>\n",
       "      <td>2.236068</td>\n",
       "    </tr>\n",
       "    <tr>\n",
       "      <th>232</th>\n",
       "      <td>1</td>\n",
       "      <td>3</td>\n",
       "      <td>2</td>\n",
       "      <td>58</td>\n",
       "      <td>2</td>\n",
       "      <td>0</td>\n",
       "      <td>2.449490</td>\n",
       "    </tr>\n",
       "    <tr>\n",
       "      <th>233</th>\n",
       "      <td>1</td>\n",
       "      <td>1</td>\n",
       "      <td>1</td>\n",
       "      <td>52</td>\n",
       "      <td>2</td>\n",
       "      <td>0</td>\n",
       "      <td>2.236068</td>\n",
       "    </tr>\n",
       "  </tbody>\n",
       "</table>\n",
       "<p>234 rows × 7 columns</p>\n",
       "</div>"
      ],
      "text/plain": [
       "     target  tumor size  node status of the tumor  Age of the patient  \\\n",
       "0         0           2                         1                  60   \n",
       "1         0           1                         1                  55   \n",
       "2         0           1                         1                  33   \n",
       "3         0           1                         1                  67   \n",
       "4         0           1                         1                  47   \n",
       "..      ...         ...                       ...                 ...   \n",
       "229       1           2                         2                  55   \n",
       "230       1           3                         2                  45   \n",
       "231       1           3                         2                  37   \n",
       "232       1           3                         2                  58   \n",
       "233       1           1                         1                  52   \n",
       "\n",
       "     tumor grade  Label     Score  \n",
       "0              3      0  1.414214  \n",
       "1              2      0  2.000000  \n",
       "2              3      0  2.449490  \n",
       "3              2      0  2.236068  \n",
       "4              2      0  1.732051  \n",
       "..           ...    ...       ...  \n",
       "229            2      0  2.236068  \n",
       "230            2      0  2.236068  \n",
       "231            3      0  2.236068  \n",
       "232            2      0  2.449490  \n",
       "233            2      0  2.236068  \n",
       "\n",
       "[234 rows x 7 columns]"
      ]
     },
     "execution_count": 6,
     "metadata": {},
     "output_type": "execute_result"
    }
   ],
   "source": [
    "knn_df = assign_model(knn)\n",
    "knn_df"
   ]
  },
  {
   "cell_type": "code",
   "execution_count": 7,
   "metadata": {},
   "outputs": [
    {
     "data": {
      "text/html": [
       "        <script type=\"text/javascript\">\n",
       "        window.PlotlyConfig = {MathJaxConfig: 'local'};\n",
       "        if (window.MathJax) {MathJax.Hub.Config({SVG: {font: \"STIX-Web\"}});}\n",
       "        if (typeof require !== 'undefined') {\n",
       "        require.undef(\"plotly\");\n",
       "        requirejs.config({\n",
       "            paths: {\n",
       "                'plotly': ['https://cdn.plot.ly/plotly-latest.min']\n",
       "            }\n",
       "        });\n",
       "        require(['plotly'], function(Plotly) {\n",
       "            window._Plotly = Plotly;\n",
       "        });\n",
       "        }\n",
       "        </script>\n",
       "        "
      ]
     },
     "metadata": {},
     "output_type": "display_data"
    },
    {
     "data": {
      "application/vnd.plotly.v1+json": {
       "config": {
        "plotlyServerURL": "https://plot.ly"
       },
       "data": [
        {
         "customdata": [
          [
           0
          ],
          [
           0
          ],
          [
           0
          ],
          [
           0
          ],
          [
           0
          ],
          [
           0
          ],
          [
           0
          ],
          [
           0
          ],
          [
           0
          ],
          [
           0
          ],
          [
           0
          ],
          [
           0
          ],
          [
           0
          ],
          [
           0
          ],
          [
           0
          ],
          [
           0
          ],
          [
           0
          ],
          [
           0
          ],
          [
           0
          ],
          [
           0
          ],
          [
           0
          ],
          [
           0
          ],
          [
           0
          ],
          [
           0
          ],
          [
           0
          ],
          [
           0
          ],
          [
           0
          ],
          [
           0
          ],
          [
           0
          ],
          [
           0
          ],
          [
           0
          ],
          [
           0
          ],
          [
           0
          ],
          [
           0
          ],
          [
           0
          ],
          [
           0
          ],
          [
           0
          ],
          [
           0
          ],
          [
           0
          ],
          [
           0
          ],
          [
           0
          ],
          [
           0
          ],
          [
           0
          ],
          [
           0
          ],
          [
           0
          ],
          [
           0
          ],
          [
           0
          ],
          [
           0
          ],
          [
           0
          ],
          [
           0
          ],
          [
           0
          ],
          [
           0
          ],
          [
           0
          ],
          [
           0
          ],
          [
           0
          ],
          [
           0
          ],
          [
           0
          ],
          [
           0
          ],
          [
           0
          ],
          [
           0
          ],
          [
           0
          ],
          [
           0
          ],
          [
           0
          ],
          [
           0
          ],
          [
           0
          ],
          [
           0
          ],
          [
           0
          ],
          [
           0
          ],
          [
           0
          ],
          [
           0
          ],
          [
           0
          ],
          [
           0
          ],
          [
           0
          ],
          [
           0
          ],
          [
           0
          ],
          [
           0
          ],
          [
           0
          ],
          [
           0
          ],
          [
           0
          ],
          [
           0
          ],
          [
           0
          ],
          [
           0
          ],
          [
           0
          ],
          [
           0
          ],
          [
           0
          ],
          [
           0
          ],
          [
           0
          ],
          [
           0
          ],
          [
           0
          ],
          [
           0
          ],
          [
           0
          ],
          [
           0
          ],
          [
           0
          ],
          [
           0
          ],
          [
           0
          ],
          [
           0
          ],
          [
           0
          ],
          [
           0
          ],
          [
           0
          ],
          [
           0
          ],
          [
           0
          ],
          [
           0
          ],
          [
           0
          ],
          [
           0
          ],
          [
           0
          ],
          [
           0
          ],
          [
           0
          ],
          [
           0
          ],
          [
           0
          ],
          [
           0
          ],
          [
           0
          ],
          [
           0
          ],
          [
           0
          ],
          [
           0
          ],
          [
           0
          ],
          [
           0
          ],
          [
           0
          ],
          [
           0
          ],
          [
           0
          ],
          [
           0
          ],
          [
           0
          ],
          [
           0
          ],
          [
           0
          ],
          [
           0
          ],
          [
           0
          ],
          [
           0
          ],
          [
           0
          ],
          [
           0
          ],
          [
           0
          ],
          [
           0
          ],
          [
           0
          ],
          [
           0
          ],
          [
           0
          ],
          [
           0
          ],
          [
           0
          ],
          [
           0
          ],
          [
           0
          ],
          [
           0
          ],
          [
           0
          ],
          [
           0
          ],
          [
           0
          ],
          [
           0
          ],
          [
           0
          ],
          [
           0
          ],
          [
           0
          ],
          [
           0
          ],
          [
           0
          ],
          [
           0
          ],
          [
           0
          ],
          [
           0
          ],
          [
           0
          ],
          [
           0
          ],
          [
           0
          ],
          [
           0
          ],
          [
           0
          ],
          [
           0
          ],
          [
           0
          ],
          [
           0
          ],
          [
           0
          ],
          [
           0
          ],
          [
           0
          ],
          [
           0
          ],
          [
           0
          ],
          [
           0
          ],
          [
           0
          ],
          [
           0
          ],
          [
           0
          ],
          [
           0
          ],
          [
           0
          ],
          [
           0
          ],
          [
           0
          ],
          [
           0
          ],
          [
           0
          ],
          [
           0
          ],
          [
           0
          ],
          [
           0
          ],
          [
           0
          ],
          [
           0
          ],
          [
           0
          ],
          [
           0
          ],
          [
           0
          ],
          [
           0
          ],
          [
           0
          ],
          [
           0
          ],
          [
           0
          ],
          [
           0
          ],
          [
           0
          ],
          [
           0
          ],
          [
           0
          ],
          [
           0
          ],
          [
           0
          ],
          [
           1
          ],
          [
           1
          ],
          [
           1
          ],
          [
           1
          ],
          [
           1
          ],
          [
           1
          ],
          [
           1
          ],
          [
           1
          ],
          [
           1
          ],
          [
           1
          ],
          [
           1
          ],
          [
           1
          ],
          [
           1
          ],
          [
           1
          ],
          [
           1
          ],
          [
           1
          ],
          [
           1
          ],
          [
           1
          ],
          [
           1
          ],
          [
           1
          ],
          [
           1
          ],
          [
           1
          ],
          [
           1
          ],
          [
           1
          ],
          [
           1
          ],
          [
           1
          ],
          [
           1
          ],
          [
           1
          ],
          [
           1
          ],
          [
           1
          ],
          [
           1
          ],
          [
           1
          ],
          [
           1
          ],
          [
           1
          ],
          [
           1
          ],
          [
           1
          ],
          [
           1
          ],
          [
           1
          ],
          [
           1
          ],
          [
           1
          ],
          [
           1
          ],
          [
           1
          ],
          [
           1
          ]
         ],
         "hoverlabel": {
          "namelength": 0
         },
         "hovertemplate": "0=%{x}<br>1=%{y}<br>2=%{z}<br>Feature=%{customdata[0]}<br>Label=%{marker.color}",
         "legendgroup": "",
         "marker": {
          "color": [
           0,
           0,
           0,
           0,
           0,
           0,
           0,
           1,
           0,
           0,
           0,
           0,
           0,
           0,
           0,
           0,
           0,
           0,
           0,
           0,
           0,
           0,
           0,
           0,
           0,
           1,
           0,
           0,
           0,
           0,
           0,
           0,
           0,
           0,
           0,
           0,
           0,
           0,
           0,
           0,
           0,
           0,
           0,
           0,
           0,
           0,
           0,
           0,
           0,
           0,
           0,
           0,
           0,
           0,
           0,
           0,
           0,
           0,
           0,
           0,
           0,
           0,
           0,
           0,
           0,
           0,
           0,
           0,
           0,
           0,
           0,
           1,
           0,
           0,
           0,
           0,
           1,
           0,
           0,
           0,
           0,
           0,
           0,
           0,
           0,
           0,
           0,
           0,
           0,
           0,
           0,
           0,
           0,
           0,
           0,
           0,
           0,
           0,
           0,
           0,
           0,
           0,
           0,
           0,
           0,
           0,
           0,
           0,
           0,
           0,
           0,
           0,
           0,
           0,
           0,
           0,
           0,
           1,
           0,
           0,
           0,
           0,
           0,
           0,
           0,
           0,
           0,
           0,
           0,
           0,
           0,
           0,
           0,
           0,
           0,
           0,
           0,
           0,
           0,
           0,
           0,
           0,
           0,
           0,
           0,
           0,
           0,
           1,
           0,
           1,
           0,
           0,
           0,
           0,
           0,
           0,
           0,
           0,
           0,
           0,
           0,
           0,
           0,
           0,
           0,
           0,
           0,
           0,
           0,
           0,
           0,
           1,
           0,
           0,
           1,
           0,
           0,
           0,
           0,
           0,
           0,
           0,
           0,
           0,
           0,
           0,
           0,
           0,
           0,
           0,
           1,
           0,
           0,
           0,
           0,
           0,
           0,
           0,
           0,
           0,
           0,
           0,
           0,
           0,
           0,
           0,
           0,
           0,
           0,
           0,
           0,
           0,
           0,
           0,
           0,
           0,
           0,
           0,
           0,
           0,
           0,
           0,
           0,
           0,
           0,
           0,
           0,
           0,
           1,
           0,
           0,
           0,
           0,
           0
          ],
          "coloraxis": "coloraxis",
          "opacity": 0.7,
          "symbol": "circle"
         },
         "mode": "markers",
         "name": "",
         "scene": "scene",
         "showlegend": false,
         "type": "scatter3d",
         "x": [
          136.75282287597656,
          -7.310069561004639,
          -79.89630126953125,
          -121.68228149414062,
          -38.42284393310547,
          -116.18147277832031,
          25.79705238342285,
          -93.6858139038086,
          33.278289794921875,
          103.14485168457031,
          77.52824401855469,
          94.9817123413086,
          -41.3193244934082,
          12.421513557434082,
          -60.82548141479492,
          18.566444396972656,
          118.46259307861328,
          -21.363962173461914,
          -84.76555633544922,
          -36.30830764770508,
          5.0086588859558105,
          7.450193405151367,
          34.74931335449219,
          74.68403625488281,
          76.48992919921875,
          -114.25243377685547,
          -91.83808898925781,
          -11.01180362701416,
          -31.569421768188477,
          -99.43970489501953,
          139.510498046875,
          -39.51482391357422,
          -78.15021514892578,
          59.0006103515625,
          25.346712112426758,
          31.463329315185547,
          132.85951232910156,
          110.6503677368164,
          65.91506958007812,
          68.26663208007812,
          -27.52107810974121,
          -68.39866638183594,
          104.99217987060547,
          -74.42852783203125,
          90.22309875488281,
          -71.54936981201172,
          -0.20331250131130219,
          26.75249481201172,
          46.777923583984375,
          -109.74411010742188,
          -95.9211196899414,
          61.95736312866211,
          124.64887237548828,
          28.719573974609375,
          -114.93595123291016,
          108.04846954345703,
          31.594619750976562,
          40.15621566772461,
          -73.21501922607422,
          9.183391571044922,
          -52.38376235961914,
          -56.47024154663086,
          -24.026037216186523,
          120.37257385253906,
          -49.29095458984375,
          -88.46027374267578,
          128.38165283203125,
          -107.29492950439453,
          74.8919677734375,
          -7.620436191558838,
          32.11222839355469,
          -120.66300964355469,
          66.11526489257812,
          115.82720184326172,
          21.89859962463379,
          -36.366310119628906,
          -8.234292984008789,
          -107.54898834228516,
          -24.35041618347168,
          -129.9473419189453,
          84.87806701660156,
          -9.03445816040039,
          11.471429824829102,
          2.7704484462738037,
          -15.114418029785156,
          56.066650390625,
          -19.325042724609375,
          -55.44070816040039,
          -49.84572982788086,
          90.94599151611328,
          94.80622100830078,
          13.121264457702637,
          -58.16244125366211,
          40.31700897216797,
          41.9737663269043,
          119.03446960449219,
          20.479347229003906,
          54.576210021972656,
          91.43470764160156,
          -7.22280216217041,
          97.0758285522461,
          -12.507604598999023,
          53.41017150878906,
          48.5091438293457,
          -29.403789520263672,
          22.083518981933594,
          108.4308853149414,
          0.9791663289070129,
          45.28909683227539,
          40.12281799316406,
          -127.4385986328125,
          -28.993236541748047,
          79.03396606445312,
          -48.274566650390625,
          -55.305423736572266,
          -23.203567504882812,
          -5.142756462097168,
          -99.09622192382812,
          -75.00709533691406,
          7.927043437957764,
          47.36455154418945,
          66.6761703491211,
          -20.7926025390625,
          -54.83573913574219,
          -81.53845977783203,
          -70.98482513427734,
          -55.42979049682617,
          -0.7029720544815063,
          -47.83448028564453,
          85.69013977050781,
          -25.438182830810547,
          -65.75785064697266,
          15.475797653198242,
          12.512526512145996,
          -53.68058395385742,
          -42.001731872558594,
          140.7993927001953,
          62.0814323425293,
          -0.0362505167722702,
          76.70238494873047,
          32.48490524291992,
          -76.21212005615234,
          -76.6398696899414,
          -61.59426498413086,
          -38.797855377197266,
          1.770570993423462,
          -0.2009170651435852,
          -101.22767639160156,
          -8.278371810913086,
          -119.80892944335938,
          2.466388702392578,
          119.85465240478516,
          59.675209045410156,
          -59.69327926635742,
          -57.919227600097656,
          -16.538728713989258,
          -62.64408493041992,
          -3.1945390701293945,
          56.0810661315918,
          -5.178826808929443,
          -0.21199046075344086,
          -67.49205780029297,
          -98.14199829101562,
          -109.47005462646484,
          -39.339962005615234,
          -74.01787567138672,
          10.526571273803711,
          152.70098876953125,
          -22.39913558959961,
          39.098976135253906,
          16.133665084838867,
          -122.2752456665039,
          9.045838356018066,
          -13.925077438354492,
          -18.117862701416016,
          7.366652011871338,
          7.9109883308410645,
          151.11776733398438,
          -108.64278411865234,
          20.99211311340332,
          72.42027282714844,
          -39.86972427368164,
          -75.25323486328125,
          -92.11441040039062,
          -110.04450225830078,
          82.47036743164062,
          23.88648223876953,
          -12.920965194702148,
          -44.32120132446289,
          -41.033912658691406,
          23.19635581970215,
          -95.13113403320312,
          -44.46298599243164,
          100.42819213867188,
          2.8025896549224854,
          89.98648071289062,
          74.72499084472656,
          51.00910949707031,
          120.47323608398438,
          -117.78484344482422,
          74.24000549316406,
          -44.47205352783203,
          47.860633850097656,
          81.8976821899414,
          -42.565311431884766,
          118.92039489746094,
          -29.273090362548828,
          118.12886810302734,
          129.600341796875,
          -20.931865692138672,
          88.4168930053711,
          106.8814468383789,
          -62.36225128173828,
          -69.42418670654297,
          -21.265241622924805,
          8.191143989562988,
          6.506247043609619,
          37.333091735839844,
          -133.55259704589844,
          15.495439529418945,
          -41.422542572021484,
          40.840301513671875,
          14.19262409210205,
          18.719114303588867,
          24.929813385009766,
          33.00516128540039,
          2.693922996520996,
          -0.10025021433830261,
          -11.028958320617676,
          -37.785404205322266,
          -99.19172668457031,
          9.874543190002441,
          142.14044189453125,
          50.60315704345703
         ],
         "y": [
          42.75336456298828,
          18.974098205566406,
          93.5538558959961,
          80.92859649658203,
          -100.0014419555664,
          -19.76374626159668,
          -111.11842346191406,
          -20.410511016845703,
          67.57767486572266,
          -9.945869445800781,
          51.34440231323242,
          -121.49359130859375,
          -69.30709838867188,
          -133.91949462890625,
          -89.8914794921875,
          -2.694186210632324,
          -4.892630100250244,
          -75.1499252319336,
          50.950679779052734,
          -3.198033571243286,
          112.32247924804688,
          -75.9923324584961,
          -47.928375244140625,
          -21.75359344482422,
          -29.157470703125,
          80.36782836914062,
          -51.10041809082031,
          -8.243809700012207,
          -65.91930389404297,
          5.978297710418701,
          47.87391662597656,
          -32.487728118896484,
          26.556324005126953,
          9.022318840026855,
          -8.58120346069336,
          -87.66873168945312,
          -13.374431610107422,
          48.46067810058594,
          -129.14712524414062,
          -51.98305130004883,
          -7.941750526428223,
          34.03736114501953,
          -26.08072853088379,
          57.84325408935547,
          -51.81461715698242,
          -24.200992584228516,
          59.801002502441406,
          -2.5214555263519287,
          18.856887817382812,
          72.35494995117188,
          -18.556270599365234,
          -19.054424285888672,
          -5.088680267333984,
          -136.2661590576172,
          49.52931594848633,
          32.942508697509766,
          -101.2738265991211,
          -24.083776473999023,
          3.9348928928375244,
          69.39985656738281,
          59.51906967163086,
          4.480345726013184,
          -30.959150314331055,
          21.85312271118164,
          -7.2499518394470215,
          46.92728805541992,
          -44.07698440551758,
          -80.96294403076172,
          -79.43143463134766,
          -20.83904266357422,
          32.73141098022461,
          -35.12933349609375,
          -10.920327186584473,
          59.25984191894531,
          15.638815879821777,
          23.56879234313965,
          126.66646575927734,
          -20.22931671142578,
          42.562870025634766,
          -19.62175941467285,
          22.866281509399414,
          25.390100479125977,
          -54.457237243652344,
          63.48698806762695,
          -138.00643920898438,
          -51.54300308227539,
          14.602617263793945,
          -51.681114196777344,
          -84.737548828125,
          39.60319519042969,
          -79.02747344970703,
          -3.345266342163086,
          68.27658081054688,
          -27.834821701049805,
          -39.348960876464844,
          -37.4940071105957,
          113.49458312988281,
          92.22138977050781,
          63.02982711791992,
          -27.744373321533203,
          -48.1317024230957,
          -86.66302490234375,
          49.6519660949707,
          93.11356353759766,
          -109.0240707397461,
          -129.6691436767578,
          36.776851654052734,
          -19.96727752685547,
          -10.518316268920898,
          67.98503875732422,
          -3.494615316390991,
          98.46622467041016,
          -122.73521423339844,
          109.7959976196289,
          10.598555564880371,
          50.39851760864258,
          -47.3777961730957,
          13.631789207458496,
          94.24073028564453,
          50.97795104980469,
          -51.29606246948242,
          -57.23397445678711,
          60.52347946166992,
          -26.37636947631836,
          -16.05897331237793,
          -41.64815139770508,
          -39.381256103515625,
          -132.9026641845703,
          -16.454566955566406,
          -12.665642738342285,
          2.656851053237915,
          62.02374267578125,
          -126.89488220214844,
          -110.76631927490234,
          -32.08143997192383,
          69.15806579589844,
          19.04503631591797,
          58.44048309326172,
          10.72192668914795,
          79.88282012939453,
          -78.90511322021484,
          79.9347152709961,
          -17.374374389648438,
          96.60344696044922,
          85.24003601074219,
          34.25875473022461,
          -102.11918640136719,
          -14.840285301208496,
          -56.573974609375,
          -3.936694860458374,
          55.42743682861328,
          -8.151896476745605,
          86.5884017944336,
          -16.587200164794922,
          48.79499816894531,
          22.091724395751953,
          2.479334592819214,
          -49.703060150146484,
          -93.07591247558594,
          -93.31767272949219,
          -86.89154815673828,
          -49.432308197021484,
          46.44557571411133,
          -45.432796478271484,
          -21.719104766845703,
          80.52182006835938,
          -73.17908477783203,
          17.393356323242188,
          8.231112480163574,
          -8.607963562011719,
          -65.798095703125,
          29.639955520629883,
          19.92941665649414,
          83.85309600830078,
          96.3941650390625,
          -12.052420616149902,
          37.24245834350586,
          -13.269537925720215,
          25.333221435546875,
          -40.66230392456055,
          57.14860916137695,
          -67.72295379638672,
          -42.68904113769531,
          2.6513285636901855,
          51.48183059692383,
          35.147335052490234,
          -77.60796356201172,
          29.23896598815918,
          76.94039916992188,
          89.8340072631836,
          130.72569274902344,
          78.29234313964844,
          1.9911823272705078,
          -61.25517272949219,
          -53.5442008972168,
          86.46943664550781,
          -42.11502456665039,
          40.57140350341797,
          77.67945861816406,
          31.443836212158203,
          29.78008460998535,
          47.9410285949707,
          92.36775970458984,
          77.45658874511719,
          25.69396209716797,
          69.65673828125,
          -121.82172393798828,
          -66.52894592285156,
          -37.665828704833984,
          72.11491394042969,
          95.39569854736328,
          -42.35628890991211,
          -111.04975891113281,
          -84.1180191040039,
          -48.24619674682617,
          3.3442437648773193,
          96.99951171875,
          -50.706504821777344,
          6.180675029754639,
          96.58386993408203,
          -112.09488677978516,
          58.733760833740234,
          117.04430389404297,
          -31.70488739013672,
          81.02511596679688,
          43.9140625,
          -36.029598236083984,
          -1.615095853805542,
          104.64653015136719,
          -1.3344584703445435,
          27.00824546813965,
          6.8825907707214355,
          -43.93528747558594,
          -79.42347717285156
         ],
         "z": [
          1.4468445777893066,
          104.41146087646484,
          -60.22929763793945,
          19.25971031188965,
          30.87964630126953,
          -5.389231204986572,
          92.10933685302734,
          -101.54063415527344,
          83.29837036132812,
          30.11687660217285,
          0.8436270952224731,
          -5.964629650115967,
          62.016780853271484,
          58.90134048461914,
          52.4229850769043,
          100.72055053710938,
          -48.37954330444336,
          -9.453902244567871,
          -77.7403335571289,
          -96.06063079833984,
          59.22822189331055,
          -23.88469886779785,
          58.78721237182617,
          -23.781442642211914,
          69.97459411621094,
          -57.84508514404297,
          23.268531799316406,
          -74.51905059814453,
          -79.24774932861328,
          -35.4979133605957,
          36.03679275512695,
          61.466773986816406,
          -25.633573532104492,
          -12.337830543518066,
          -40.542884826660156,
          -49.00572967529297,
          11.188568115234375,
          26.9530086517334,
          22.26910400390625,
          -40.45000457763672,
          49.52184295654297,
          18.32955551147461,
          -3.0429439544677734,
          50.15094757080078,
          -22.36187744140625,
          19.79501724243164,
          28.057783126831055,
          -12.024959564208984,
          -82.81217956542969,
          -90.53632354736328,
          -52.70822525024414,
          3.282534599304199,
          -15.973464012145996,
          -15.477198600769043,
          -65.09085845947266,
          53.53846740722656,
          -22.98096466064453,
          -84.07318115234375,
          -49.56306457519531,
          111.64137268066406,
          -62.24908447265625,
          -25.06092643737793,
          32.024070739746094,
          24.431964874267578,
          26.877843856811523,
          -3.8030152320861816,
          -7.385928153991699,
          59.23790740966797,
          -12.770927429199219,
          7.363333225250244,
          -15.176959037780762,
          -106.9987564086914,
          106.03260040283203,
          71.1274185180664,
          13.164315223693848,
          44.91304016113281,
          91.78501892089844,
          88.0710220336914,
          -106.80268096923828,
          -32.712703704833984,
          17.738094329833984,
          44.656394958496094,
          -47.6022834777832,
          78.3625259399414,
          11.004096984863281,
          -8.460972785949707,
          -121.0201644897461,
          6.191666126251221,
          -35.326744079589844,
          82.24198150634766,
          -42.05183792114258,
          139.9845428466797,
          -126.28318786621094,
          127.10292053222656,
          85.09209442138672,
          -41.12574768066406,
          -87.13563537597656,
          65.57457733154297,
          52.45022964477539,
          113.71927642822266,
          -62.25635528564453,
          -41.09295654296875,
          96.52449035644531,
          -7.330801486968994,
          -6.325514316558838,
          -94.65351867675781,
          -4.481949806213379,
          -23.178611755371094,
          69.99073028564453,
          121.63272857666016,
          -116.41675567626953,
          -107.6728515625,
          64.85401916503906,
          -82.04841613769531,
          75.46216583251953,
          -76.867431640625,
          -116.36367797851562,
          -105.79493713378906,
          30.7724666595459,
          -59.03981018066406,
          -115.44295501708984,
          60.68535232543945,
          -49.2846794128418,
          -33.480712890625,
          -23.927467346191406,
          -56.60231018066406,
          35.38148498535156,
          -23.558101654052734,
          -60.382598876953125,
          -56.182151794433594,
          -51.499847412109375,
          15.577963829040527,
          8.528097152709961,
          -46.059898376464844,
          -87.3272933959961,
          51.822998046875,
          48.02013397216797,
          61.87721252441406,
          -10.743305206298828,
          -68.35256958007812,
          56.265655517578125,
          -89.5388412475586,
          49.27558517456055,
          -111.52083587646484,
          17.151508331298828,
          3.898587703704834,
          -6.8653340339660645,
          -131.18006896972656,
          121.46760559082031,
          -85.43627166748047,
          -89.12533569335938,
          58.47206115722656,
          36.53620147705078,
          81.58960723876953,
          -98.64763641357422,
          -83.68357849121094,
          -83.00041198730469,
          -75.40776062011719,
          94.30221557617188,
          -75.30438995361328,
          56.12616729736328,
          65.84674835205078,
          -107.81098937988281,
          -27.48163414001465,
          2.484445571899414,
          -8.544086456298828,
          26.317209243774414,
          16.27312660217285,
          11.921021461486816,
          27.685823440551758,
          81.39752960205078,
          -87.67845916748047,
          -66.99134826660156,
          -75.5600357055664,
          80.49458312988281,
          -151.73260498046875,
          -114.88008117675781,
          39.56715393066406,
          23.84029769897461,
          1.104935646057129,
          29.356678009033203,
          26.199710845947266,
          110.2652816772461,
          0.4367223381996155,
          66.9776611328125,
          -80.58503723144531,
          -83.84677124023438,
          -47.859859466552734,
          -91.76703643798828,
          -59.900733947753906,
          86.53197479248047,
          -117.24427795410156,
          -156.68577575683594,
          8.430497169494629,
          51.679691314697266,
          20.96424102783203,
          22.944795608520508,
          -54.12449645996094,
          39.52616500854492,
          -21.998233795166016,
          54.593284606933594,
          -6.989200115203857,
          100.55342864990234,
          81.23905944824219,
          -67.6025161743164,
          3.0376012325286865,
          -39.97201156616211,
          42.78850173950195,
          65.93809509277344,
          -122.7911605834961,
          51.6061897277832,
          42.51585388183594,
          13.119438171386719,
          15.56326675415039,
          -44.386627197265625,
          60.62678527832031,
          0.508182942867279,
          27.46513557434082,
          -0.6712978482246399,
          89.43494415283203,
          -65.97480773925781,
          33.986083984375,
          -45.360294342041016,
          34.99378204345703,
          54.983367919921875,
          60.562950134277344,
          77.57659912109375,
          28.715286254882812,
          116.36210632324219,
          123.8954849243164,
          78.3202133178711,
          -103.83973693847656,
          30.903886795043945,
          24.68536949157715
         ]
        }
       ],
       "layout": {
        "coloraxis": {
         "colorbar": {
          "title": {
           "text": "Label"
          }
         },
         "colorscale": [
          [
           0,
           "#0d0887"
          ],
          [
           0.1111111111111111,
           "#46039f"
          ],
          [
           0.2222222222222222,
           "#7201a8"
          ],
          [
           0.3333333333333333,
           "#9c179e"
          ],
          [
           0.4444444444444444,
           "#bd3786"
          ],
          [
           0.5555555555555556,
           "#d8576b"
          ],
          [
           0.6666666666666666,
           "#ed7953"
          ],
          [
           0.7777777777777778,
           "#fb9f3a"
          ],
          [
           0.8888888888888888,
           "#fdca26"
          ],
          [
           1,
           "#f0f921"
          ]
         ]
        },
        "height": 800,
        "legend": {
         "tracegroupgap": 0
        },
        "scene": {
         "domain": {
          "x": [
           0,
           1
          ],
          "y": [
           0,
           1
          ]
         },
         "xaxis": {
          "title": {
           "text": "0"
          }
         },
         "yaxis": {
          "title": {
           "text": "1"
          }
         },
         "zaxis": {
          "title": {
           "text": "2"
          }
         }
        },
        "template": {
         "data": {
          "bar": [
           {
            "error_x": {
             "color": "#2a3f5f"
            },
            "error_y": {
             "color": "#2a3f5f"
            },
            "marker": {
             "line": {
              "color": "#E5ECF6",
              "width": 0.5
             }
            },
            "type": "bar"
           }
          ],
          "barpolar": [
           {
            "marker": {
             "line": {
              "color": "#E5ECF6",
              "width": 0.5
             }
            },
            "type": "barpolar"
           }
          ],
          "carpet": [
           {
            "aaxis": {
             "endlinecolor": "#2a3f5f",
             "gridcolor": "white",
             "linecolor": "white",
             "minorgridcolor": "white",
             "startlinecolor": "#2a3f5f"
            },
            "baxis": {
             "endlinecolor": "#2a3f5f",
             "gridcolor": "white",
             "linecolor": "white",
             "minorgridcolor": "white",
             "startlinecolor": "#2a3f5f"
            },
            "type": "carpet"
           }
          ],
          "choropleth": [
           {
            "colorbar": {
             "outlinewidth": 0,
             "ticks": ""
            },
            "type": "choropleth"
           }
          ],
          "contour": [
           {
            "colorbar": {
             "outlinewidth": 0,
             "ticks": ""
            },
            "colorscale": [
             [
              0,
              "#0d0887"
             ],
             [
              0.1111111111111111,
              "#46039f"
             ],
             [
              0.2222222222222222,
              "#7201a8"
             ],
             [
              0.3333333333333333,
              "#9c179e"
             ],
             [
              0.4444444444444444,
              "#bd3786"
             ],
             [
              0.5555555555555556,
              "#d8576b"
             ],
             [
              0.6666666666666666,
              "#ed7953"
             ],
             [
              0.7777777777777778,
              "#fb9f3a"
             ],
             [
              0.8888888888888888,
              "#fdca26"
             ],
             [
              1,
              "#f0f921"
             ]
            ],
            "type": "contour"
           }
          ],
          "contourcarpet": [
           {
            "colorbar": {
             "outlinewidth": 0,
             "ticks": ""
            },
            "type": "contourcarpet"
           }
          ],
          "heatmap": [
           {
            "colorbar": {
             "outlinewidth": 0,
             "ticks": ""
            },
            "colorscale": [
             [
              0,
              "#0d0887"
             ],
             [
              0.1111111111111111,
              "#46039f"
             ],
             [
              0.2222222222222222,
              "#7201a8"
             ],
             [
              0.3333333333333333,
              "#9c179e"
             ],
             [
              0.4444444444444444,
              "#bd3786"
             ],
             [
              0.5555555555555556,
              "#d8576b"
             ],
             [
              0.6666666666666666,
              "#ed7953"
             ],
             [
              0.7777777777777778,
              "#fb9f3a"
             ],
             [
              0.8888888888888888,
              "#fdca26"
             ],
             [
              1,
              "#f0f921"
             ]
            ],
            "type": "heatmap"
           }
          ],
          "heatmapgl": [
           {
            "colorbar": {
             "outlinewidth": 0,
             "ticks": ""
            },
            "colorscale": [
             [
              0,
              "#0d0887"
             ],
             [
              0.1111111111111111,
              "#46039f"
             ],
             [
              0.2222222222222222,
              "#7201a8"
             ],
             [
              0.3333333333333333,
              "#9c179e"
             ],
             [
              0.4444444444444444,
              "#bd3786"
             ],
             [
              0.5555555555555556,
              "#d8576b"
             ],
             [
              0.6666666666666666,
              "#ed7953"
             ],
             [
              0.7777777777777778,
              "#fb9f3a"
             ],
             [
              0.8888888888888888,
              "#fdca26"
             ],
             [
              1,
              "#f0f921"
             ]
            ],
            "type": "heatmapgl"
           }
          ],
          "histogram": [
           {
            "marker": {
             "colorbar": {
              "outlinewidth": 0,
              "ticks": ""
             }
            },
            "type": "histogram"
           }
          ],
          "histogram2d": [
           {
            "colorbar": {
             "outlinewidth": 0,
             "ticks": ""
            },
            "colorscale": [
             [
              0,
              "#0d0887"
             ],
             [
              0.1111111111111111,
              "#46039f"
             ],
             [
              0.2222222222222222,
              "#7201a8"
             ],
             [
              0.3333333333333333,
              "#9c179e"
             ],
             [
              0.4444444444444444,
              "#bd3786"
             ],
             [
              0.5555555555555556,
              "#d8576b"
             ],
             [
              0.6666666666666666,
              "#ed7953"
             ],
             [
              0.7777777777777778,
              "#fb9f3a"
             ],
             [
              0.8888888888888888,
              "#fdca26"
             ],
             [
              1,
              "#f0f921"
             ]
            ],
            "type": "histogram2d"
           }
          ],
          "histogram2dcontour": [
           {
            "colorbar": {
             "outlinewidth": 0,
             "ticks": ""
            },
            "colorscale": [
             [
              0,
              "#0d0887"
             ],
             [
              0.1111111111111111,
              "#46039f"
             ],
             [
              0.2222222222222222,
              "#7201a8"
             ],
             [
              0.3333333333333333,
              "#9c179e"
             ],
             [
              0.4444444444444444,
              "#bd3786"
             ],
             [
              0.5555555555555556,
              "#d8576b"
             ],
             [
              0.6666666666666666,
              "#ed7953"
             ],
             [
              0.7777777777777778,
              "#fb9f3a"
             ],
             [
              0.8888888888888888,
              "#fdca26"
             ],
             [
              1,
              "#f0f921"
             ]
            ],
            "type": "histogram2dcontour"
           }
          ],
          "mesh3d": [
           {
            "colorbar": {
             "outlinewidth": 0,
             "ticks": ""
            },
            "type": "mesh3d"
           }
          ],
          "parcoords": [
           {
            "line": {
             "colorbar": {
              "outlinewidth": 0,
              "ticks": ""
             }
            },
            "type": "parcoords"
           }
          ],
          "pie": [
           {
            "automargin": true,
            "type": "pie"
           }
          ],
          "scatter": [
           {
            "marker": {
             "colorbar": {
              "outlinewidth": 0,
              "ticks": ""
             }
            },
            "type": "scatter"
           }
          ],
          "scatter3d": [
           {
            "line": {
             "colorbar": {
              "outlinewidth": 0,
              "ticks": ""
             }
            },
            "marker": {
             "colorbar": {
              "outlinewidth": 0,
              "ticks": ""
             }
            },
            "type": "scatter3d"
           }
          ],
          "scattercarpet": [
           {
            "marker": {
             "colorbar": {
              "outlinewidth": 0,
              "ticks": ""
             }
            },
            "type": "scattercarpet"
           }
          ],
          "scattergeo": [
           {
            "marker": {
             "colorbar": {
              "outlinewidth": 0,
              "ticks": ""
             }
            },
            "type": "scattergeo"
           }
          ],
          "scattergl": [
           {
            "marker": {
             "colorbar": {
              "outlinewidth": 0,
              "ticks": ""
             }
            },
            "type": "scattergl"
           }
          ],
          "scattermapbox": [
           {
            "marker": {
             "colorbar": {
              "outlinewidth": 0,
              "ticks": ""
             }
            },
            "type": "scattermapbox"
           }
          ],
          "scatterpolar": [
           {
            "marker": {
             "colorbar": {
              "outlinewidth": 0,
              "ticks": ""
             }
            },
            "type": "scatterpolar"
           }
          ],
          "scatterpolargl": [
           {
            "marker": {
             "colorbar": {
              "outlinewidth": 0,
              "ticks": ""
             }
            },
            "type": "scatterpolargl"
           }
          ],
          "scatterternary": [
           {
            "marker": {
             "colorbar": {
              "outlinewidth": 0,
              "ticks": ""
             }
            },
            "type": "scatterternary"
           }
          ],
          "surface": [
           {
            "colorbar": {
             "outlinewidth": 0,
             "ticks": ""
            },
            "colorscale": [
             [
              0,
              "#0d0887"
             ],
             [
              0.1111111111111111,
              "#46039f"
             ],
             [
              0.2222222222222222,
              "#7201a8"
             ],
             [
              0.3333333333333333,
              "#9c179e"
             ],
             [
              0.4444444444444444,
              "#bd3786"
             ],
             [
              0.5555555555555556,
              "#d8576b"
             ],
             [
              0.6666666666666666,
              "#ed7953"
             ],
             [
              0.7777777777777778,
              "#fb9f3a"
             ],
             [
              0.8888888888888888,
              "#fdca26"
             ],
             [
              1,
              "#f0f921"
             ]
            ],
            "type": "surface"
           }
          ],
          "table": [
           {
            "cells": {
             "fill": {
              "color": "#EBF0F8"
             },
             "line": {
              "color": "white"
             }
            },
            "header": {
             "fill": {
              "color": "#C8D4E3"
             },
             "line": {
              "color": "white"
             }
            },
            "type": "table"
           }
          ]
         },
         "layout": {
          "annotationdefaults": {
           "arrowcolor": "#2a3f5f",
           "arrowhead": 0,
           "arrowwidth": 1
          },
          "coloraxis": {
           "colorbar": {
            "outlinewidth": 0,
            "ticks": ""
           }
          },
          "colorscale": {
           "diverging": [
            [
             0,
             "#8e0152"
            ],
            [
             0.1,
             "#c51b7d"
            ],
            [
             0.2,
             "#de77ae"
            ],
            [
             0.3,
             "#f1b6da"
            ],
            [
             0.4,
             "#fde0ef"
            ],
            [
             0.5,
             "#f7f7f7"
            ],
            [
             0.6,
             "#e6f5d0"
            ],
            [
             0.7,
             "#b8e186"
            ],
            [
             0.8,
             "#7fbc41"
            ],
            [
             0.9,
             "#4d9221"
            ],
            [
             1,
             "#276419"
            ]
           ],
           "sequential": [
            [
             0,
             "#0d0887"
            ],
            [
             0.1111111111111111,
             "#46039f"
            ],
            [
             0.2222222222222222,
             "#7201a8"
            ],
            [
             0.3333333333333333,
             "#9c179e"
            ],
            [
             0.4444444444444444,
             "#bd3786"
            ],
            [
             0.5555555555555556,
             "#d8576b"
            ],
            [
             0.6666666666666666,
             "#ed7953"
            ],
            [
             0.7777777777777778,
             "#fb9f3a"
            ],
            [
             0.8888888888888888,
             "#fdca26"
            ],
            [
             1,
             "#f0f921"
            ]
           ],
           "sequentialminus": [
            [
             0,
             "#0d0887"
            ],
            [
             0.1111111111111111,
             "#46039f"
            ],
            [
             0.2222222222222222,
             "#7201a8"
            ],
            [
             0.3333333333333333,
             "#9c179e"
            ],
            [
             0.4444444444444444,
             "#bd3786"
            ],
            [
             0.5555555555555556,
             "#d8576b"
            ],
            [
             0.6666666666666666,
             "#ed7953"
            ],
            [
             0.7777777777777778,
             "#fb9f3a"
            ],
            [
             0.8888888888888888,
             "#fdca26"
            ],
            [
             1,
             "#f0f921"
            ]
           ]
          },
          "colorway": [
           "#636efa",
           "#EF553B",
           "#00cc96",
           "#ab63fa",
           "#FFA15A",
           "#19d3f3",
           "#FF6692",
           "#B6E880",
           "#FF97FF",
           "#FECB52"
          ],
          "font": {
           "color": "#2a3f5f"
          },
          "geo": {
           "bgcolor": "white",
           "lakecolor": "white",
           "landcolor": "#E5ECF6",
           "showlakes": true,
           "showland": true,
           "subunitcolor": "white"
          },
          "hoverlabel": {
           "align": "left"
          },
          "hovermode": "closest",
          "mapbox": {
           "style": "light"
          },
          "paper_bgcolor": "white",
          "plot_bgcolor": "#E5ECF6",
          "polar": {
           "angularaxis": {
            "gridcolor": "white",
            "linecolor": "white",
            "ticks": ""
           },
           "bgcolor": "#E5ECF6",
           "radialaxis": {
            "gridcolor": "white",
            "linecolor": "white",
            "ticks": ""
           }
          },
          "scene": {
           "xaxis": {
            "backgroundcolor": "#E5ECF6",
            "gridcolor": "white",
            "gridwidth": 2,
            "linecolor": "white",
            "showbackground": true,
            "ticks": "",
            "zerolinecolor": "white"
           },
           "yaxis": {
            "backgroundcolor": "#E5ECF6",
            "gridcolor": "white",
            "gridwidth": 2,
            "linecolor": "white",
            "showbackground": true,
            "ticks": "",
            "zerolinecolor": "white"
           },
           "zaxis": {
            "backgroundcolor": "#E5ECF6",
            "gridcolor": "white",
            "gridwidth": 2,
            "linecolor": "white",
            "showbackground": true,
            "ticks": "",
            "zerolinecolor": "white"
           }
          },
          "shapedefaults": {
           "line": {
            "color": "#2a3f5f"
           }
          },
          "ternary": {
           "aaxis": {
            "gridcolor": "white",
            "linecolor": "white",
            "ticks": ""
           },
           "baxis": {
            "gridcolor": "white",
            "linecolor": "white",
            "ticks": ""
           },
           "bgcolor": "#E5ECF6",
           "caxis": {
            "gridcolor": "white",
            "linecolor": "white",
            "ticks": ""
           }
          },
          "title": {
           "x": 0.05
          },
          "xaxis": {
           "automargin": true,
           "gridcolor": "white",
           "linecolor": "white",
           "ticks": "",
           "title": {
            "standoff": 15
           },
           "zerolinecolor": "white",
           "zerolinewidth": 2
          },
          "yaxis": {
           "automargin": true,
           "gridcolor": "white",
           "linecolor": "white",
           "ticks": "",
           "title": {
            "standoff": 15
           },
           "zerolinecolor": "white",
           "zerolinewidth": 2
          }
         }
        },
        "title": {
         "text": "3d TSNE Plot for Outliers"
        },
        "width": 900
       }
      },
      "text/html": [
       "<div>\n",
       "        \n",
       "        \n",
       "            <div id=\"1f7e889c-d2ec-49e2-ab9e-de30bb8987e2\" class=\"plotly-graph-div\" style=\"height:800px; width:900px;\"></div>\n",
       "            <script type=\"text/javascript\">\n",
       "                require([\"plotly\"], function(Plotly) {\n",
       "                    window.PLOTLYENV=window.PLOTLYENV || {};\n",
       "                    \n",
       "                if (document.getElementById(\"1f7e889c-d2ec-49e2-ab9e-de30bb8987e2\")) {\n",
       "                    Plotly.newPlot(\n",
       "                        '1f7e889c-d2ec-49e2-ab9e-de30bb8987e2',\n",
       "                        [{\"customdata\": [[0], [0], [0], [0], [0], [0], [0], [0], [0], [0], [0], [0], [0], [0], [0], [0], [0], [0], [0], [0], [0], [0], [0], [0], [0], [0], [0], [0], [0], [0], [0], [0], [0], [0], [0], [0], [0], [0], [0], [0], [0], [0], [0], [0], [0], [0], [0], [0], [0], [0], [0], [0], [0], [0], [0], [0], [0], [0], [0], [0], [0], [0], [0], [0], [0], [0], [0], [0], [0], [0], [0], [0], [0], [0], [0], [0], [0], [0], [0], [0], [0], [0], [0], [0], [0], [0], [0], [0], [0], [0], [0], [0], [0], [0], [0], [0], [0], [0], [0], [0], [0], [0], [0], [0], [0], [0], [0], [0], [0], [0], [0], [0], [0], [0], [0], [0], [0], [0], [0], [0], [0], [0], [0], [0], [0], [0], [0], [0], [0], [0], [0], [0], [0], [0], [0], [0], [0], [0], [0], [0], [0], [0], [0], [0], [0], [0], [0], [0], [0], [0], [0], [0], [0], [0], [0], [0], [0], [0], [0], [0], [0], [0], [0], [0], [0], [0], [0], [0], [0], [0], [0], [0], [0], [0], [0], [0], [0], [0], [0], [0], [0], [0], [0], [0], [0], [0], [0], [0], [0], [0], [0], [1], [1], [1], [1], [1], [1], [1], [1], [1], [1], [1], [1], [1], [1], [1], [1], [1], [1], [1], [1], [1], [1], [1], [1], [1], [1], [1], [1], [1], [1], [1], [1], [1], [1], [1], [1], [1], [1], [1], [1], [1], [1], [1]], \"hoverlabel\": {\"namelength\": 0}, \"hovertemplate\": \"0=%{x}<br>1=%{y}<br>2=%{z}<br>Feature=%{customdata[0]}<br>Label=%{marker.color}\", \"legendgroup\": \"\", \"marker\": {\"color\": [0, 0, 0, 0, 0, 0, 0, 1, 0, 0, 0, 0, 0, 0, 0, 0, 0, 0, 0, 0, 0, 0, 0, 0, 0, 1, 0, 0, 0, 0, 0, 0, 0, 0, 0, 0, 0, 0, 0, 0, 0, 0, 0, 0, 0, 0, 0, 0, 0, 0, 0, 0, 0, 0, 0, 0, 0, 0, 0, 0, 0, 0, 0, 0, 0, 0, 0, 0, 0, 0, 0, 1, 0, 0, 0, 0, 1, 0, 0, 0, 0, 0, 0, 0, 0, 0, 0, 0, 0, 0, 0, 0, 0, 0, 0, 0, 0, 0, 0, 0, 0, 0, 0, 0, 0, 0, 0, 0, 0, 0, 0, 0, 0, 0, 0, 0, 0, 1, 0, 0, 0, 0, 0, 0, 0, 0, 0, 0, 0, 0, 0, 0, 0, 0, 0, 0, 0, 0, 0, 0, 0, 0, 0, 0, 0, 0, 0, 1, 0, 1, 0, 0, 0, 0, 0, 0, 0, 0, 0, 0, 0, 0, 0, 0, 0, 0, 0, 0, 0, 0, 0, 1, 0, 0, 1, 0, 0, 0, 0, 0, 0, 0, 0, 0, 0, 0, 0, 0, 0, 0, 1, 0, 0, 0, 0, 0, 0, 0, 0, 0, 0, 0, 0, 0, 0, 0, 0, 0, 0, 0, 0, 0, 0, 0, 0, 0, 0, 0, 0, 0, 0, 0, 0, 0, 0, 0, 0, 0, 1, 0, 0, 0, 0, 0], \"coloraxis\": \"coloraxis\", \"opacity\": 0.7, \"symbol\": \"circle\"}, \"mode\": \"markers\", \"name\": \"\", \"scene\": \"scene\", \"showlegend\": false, \"type\": \"scatter3d\", \"x\": [136.75282287597656, -7.310069561004639, -79.89630126953125, -121.68228149414062, -38.42284393310547, -116.18147277832031, 25.79705238342285, -93.6858139038086, 33.278289794921875, 103.14485168457031, 77.52824401855469, 94.9817123413086, -41.3193244934082, 12.421513557434082, -60.82548141479492, 18.566444396972656, 118.46259307861328, -21.363962173461914, -84.76555633544922, -36.30830764770508, 5.0086588859558105, 7.450193405151367, 34.74931335449219, 74.68403625488281, 76.48992919921875, -114.25243377685547, -91.83808898925781, -11.01180362701416, -31.569421768188477, -99.43970489501953, 139.510498046875, -39.51482391357422, -78.15021514892578, 59.0006103515625, 25.346712112426758, 31.463329315185547, 132.85951232910156, 110.6503677368164, 65.91506958007812, 68.26663208007812, -27.52107810974121, -68.39866638183594, 104.99217987060547, -74.42852783203125, 90.22309875488281, -71.54936981201172, -0.20331250131130219, 26.75249481201172, 46.777923583984375, -109.74411010742188, -95.9211196899414, 61.95736312866211, 124.64887237548828, 28.719573974609375, -114.93595123291016, 108.04846954345703, 31.594619750976562, 40.15621566772461, -73.21501922607422, 9.183391571044922, -52.38376235961914, -56.47024154663086, -24.026037216186523, 120.37257385253906, -49.29095458984375, -88.46027374267578, 128.38165283203125, -107.29492950439453, 74.8919677734375, -7.620436191558838, 32.11222839355469, -120.66300964355469, 66.11526489257812, 115.82720184326172, 21.89859962463379, -36.366310119628906, -8.234292984008789, -107.54898834228516, -24.35041618347168, -129.9473419189453, 84.87806701660156, -9.03445816040039, 11.471429824829102, 2.7704484462738037, -15.114418029785156, 56.066650390625, -19.325042724609375, -55.44070816040039, -49.84572982788086, 90.94599151611328, 94.80622100830078, 13.121264457702637, -58.16244125366211, 40.31700897216797, 41.9737663269043, 119.03446960449219, 20.479347229003906, 54.576210021972656, 91.43470764160156, -7.22280216217041, 97.0758285522461, -12.507604598999023, 53.41017150878906, 48.5091438293457, -29.403789520263672, 22.083518981933594, 108.4308853149414, 0.9791663289070129, 45.28909683227539, 40.12281799316406, -127.4385986328125, -28.993236541748047, 79.03396606445312, -48.274566650390625, -55.305423736572266, -23.203567504882812, -5.142756462097168, -99.09622192382812, -75.00709533691406, 7.927043437957764, 47.36455154418945, 66.6761703491211, -20.7926025390625, -54.83573913574219, -81.53845977783203, -70.98482513427734, -55.42979049682617, -0.7029720544815063, -47.83448028564453, 85.69013977050781, -25.438182830810547, -65.75785064697266, 15.475797653198242, 12.512526512145996, -53.68058395385742, -42.001731872558594, 140.7993927001953, 62.0814323425293, -0.0362505167722702, 76.70238494873047, 32.48490524291992, -76.21212005615234, -76.6398696899414, -61.59426498413086, -38.797855377197266, 1.770570993423462, -0.2009170651435852, -101.22767639160156, -8.278371810913086, -119.80892944335938, 2.466388702392578, 119.85465240478516, 59.675209045410156, -59.69327926635742, -57.919227600097656, -16.538728713989258, -62.64408493041992, -3.1945390701293945, 56.0810661315918, -5.178826808929443, -0.21199046075344086, -67.49205780029297, -98.14199829101562, -109.47005462646484, -39.339962005615234, -74.01787567138672, 10.526571273803711, 152.70098876953125, -22.39913558959961, 39.098976135253906, 16.133665084838867, -122.2752456665039, 9.045838356018066, -13.925077438354492, -18.117862701416016, 7.366652011871338, 7.9109883308410645, 151.11776733398438, -108.64278411865234, 20.99211311340332, 72.42027282714844, -39.86972427368164, -75.25323486328125, -92.11441040039062, -110.04450225830078, 82.47036743164062, 23.88648223876953, -12.920965194702148, -44.32120132446289, -41.033912658691406, 23.19635581970215, -95.13113403320312, -44.46298599243164, 100.42819213867188, 2.8025896549224854, 89.98648071289062, 74.72499084472656, 51.00910949707031, 120.47323608398438, -117.78484344482422, 74.24000549316406, -44.47205352783203, 47.860633850097656, 81.8976821899414, -42.565311431884766, 118.92039489746094, -29.273090362548828, 118.12886810302734, 129.600341796875, -20.931865692138672, 88.4168930053711, 106.8814468383789, -62.36225128173828, -69.42418670654297, -21.265241622924805, 8.191143989562988, 6.506247043609619, 37.333091735839844, -133.55259704589844, 15.495439529418945, -41.422542572021484, 40.840301513671875, 14.19262409210205, 18.719114303588867, 24.929813385009766, 33.00516128540039, 2.693922996520996, -0.10025021433830261, -11.028958320617676, -37.785404205322266, -99.19172668457031, 9.874543190002441, 142.14044189453125, 50.60315704345703], \"y\": [42.75336456298828, 18.974098205566406, 93.5538558959961, 80.92859649658203, -100.0014419555664, -19.76374626159668, -111.11842346191406, -20.410511016845703, 67.57767486572266, -9.945869445800781, 51.34440231323242, -121.49359130859375, -69.30709838867188, -133.91949462890625, -89.8914794921875, -2.694186210632324, -4.892630100250244, -75.1499252319336, 50.950679779052734, -3.198033571243286, 112.32247924804688, -75.9923324584961, -47.928375244140625, -21.75359344482422, -29.157470703125, 80.36782836914062, -51.10041809082031, -8.243809700012207, -65.91930389404297, 5.978297710418701, 47.87391662597656, -32.487728118896484, 26.556324005126953, 9.022318840026855, -8.58120346069336, -87.66873168945312, -13.374431610107422, 48.46067810058594, -129.14712524414062, -51.98305130004883, -7.941750526428223, 34.03736114501953, -26.08072853088379, 57.84325408935547, -51.81461715698242, -24.200992584228516, 59.801002502441406, -2.5214555263519287, 18.856887817382812, 72.35494995117188, -18.556270599365234, -19.054424285888672, -5.088680267333984, -136.2661590576172, 49.52931594848633, 32.942508697509766, -101.2738265991211, -24.083776473999023, 3.9348928928375244, 69.39985656738281, 59.51906967163086, 4.480345726013184, -30.959150314331055, 21.85312271118164, -7.2499518394470215, 46.92728805541992, -44.07698440551758, -80.96294403076172, -79.43143463134766, -20.83904266357422, 32.73141098022461, -35.12933349609375, -10.920327186584473, 59.25984191894531, 15.638815879821777, 23.56879234313965, 126.66646575927734, -20.22931671142578, 42.562870025634766, -19.62175941467285, 22.866281509399414, 25.390100479125977, -54.457237243652344, 63.48698806762695, -138.00643920898438, -51.54300308227539, 14.602617263793945, -51.681114196777344, -84.737548828125, 39.60319519042969, -79.02747344970703, -3.345266342163086, 68.27658081054688, -27.834821701049805, -39.348960876464844, -37.4940071105957, 113.49458312988281, 92.22138977050781, 63.02982711791992, -27.744373321533203, -48.1317024230957, -86.66302490234375, 49.6519660949707, 93.11356353759766, -109.0240707397461, -129.6691436767578, 36.776851654052734, -19.96727752685547, -10.518316268920898, 67.98503875732422, -3.494615316390991, 98.46622467041016, -122.73521423339844, 109.7959976196289, 10.598555564880371, 50.39851760864258, -47.3777961730957, 13.631789207458496, 94.24073028564453, 50.97795104980469, -51.29606246948242, -57.23397445678711, 60.52347946166992, -26.37636947631836, -16.05897331237793, -41.64815139770508, -39.381256103515625, -132.9026641845703, -16.454566955566406, -12.665642738342285, 2.656851053237915, 62.02374267578125, -126.89488220214844, -110.76631927490234, -32.08143997192383, 69.15806579589844, 19.04503631591797, 58.44048309326172, 10.72192668914795, 79.88282012939453, -78.90511322021484, 79.9347152709961, -17.374374389648438, 96.60344696044922, 85.24003601074219, 34.25875473022461, -102.11918640136719, -14.840285301208496, -56.573974609375, -3.936694860458374, 55.42743682861328, -8.151896476745605, 86.5884017944336, -16.587200164794922, 48.79499816894531, 22.091724395751953, 2.479334592819214, -49.703060150146484, -93.07591247558594, -93.31767272949219, -86.89154815673828, -49.432308197021484, 46.44557571411133, -45.432796478271484, -21.719104766845703, 80.52182006835938, -73.17908477783203, 17.393356323242188, 8.231112480163574, -8.607963562011719, -65.798095703125, 29.639955520629883, 19.92941665649414, 83.85309600830078, 96.3941650390625, -12.052420616149902, 37.24245834350586, -13.269537925720215, 25.333221435546875, -40.66230392456055, 57.14860916137695, -67.72295379638672, -42.68904113769531, 2.6513285636901855, 51.48183059692383, 35.147335052490234, -77.60796356201172, 29.23896598815918, 76.94039916992188, 89.8340072631836, 130.72569274902344, 78.29234313964844, 1.9911823272705078, -61.25517272949219, -53.5442008972168, 86.46943664550781, -42.11502456665039, 40.57140350341797, 77.67945861816406, 31.443836212158203, 29.78008460998535, 47.9410285949707, 92.36775970458984, 77.45658874511719, 25.69396209716797, 69.65673828125, -121.82172393798828, -66.52894592285156, -37.665828704833984, 72.11491394042969, 95.39569854736328, -42.35628890991211, -111.04975891113281, -84.1180191040039, -48.24619674682617, 3.3442437648773193, 96.99951171875, -50.706504821777344, 6.180675029754639, 96.58386993408203, -112.09488677978516, 58.733760833740234, 117.04430389404297, -31.70488739013672, 81.02511596679688, 43.9140625, -36.029598236083984, -1.615095853805542, 104.64653015136719, -1.3344584703445435, 27.00824546813965, 6.8825907707214355, -43.93528747558594, -79.42347717285156], \"z\": [1.4468445777893066, 104.41146087646484, -60.22929763793945, 19.25971031188965, 30.87964630126953, -5.389231204986572, 92.10933685302734, -101.54063415527344, 83.29837036132812, 30.11687660217285, 0.8436270952224731, -5.964629650115967, 62.016780853271484, 58.90134048461914, 52.4229850769043, 100.72055053710938, -48.37954330444336, -9.453902244567871, -77.7403335571289, -96.06063079833984, 59.22822189331055, -23.88469886779785, 58.78721237182617, -23.781442642211914, 69.97459411621094, -57.84508514404297, 23.268531799316406, -74.51905059814453, -79.24774932861328, -35.4979133605957, 36.03679275512695, 61.466773986816406, -25.633573532104492, -12.337830543518066, -40.542884826660156, -49.00572967529297, 11.188568115234375, 26.9530086517334, 22.26910400390625, -40.45000457763672, 49.52184295654297, 18.32955551147461, -3.0429439544677734, 50.15094757080078, -22.36187744140625, 19.79501724243164, 28.057783126831055, -12.024959564208984, -82.81217956542969, -90.53632354736328, -52.70822525024414, 3.282534599304199, -15.973464012145996, -15.477198600769043, -65.09085845947266, 53.53846740722656, -22.98096466064453, -84.07318115234375, -49.56306457519531, 111.64137268066406, -62.24908447265625, -25.06092643737793, 32.024070739746094, 24.431964874267578, 26.877843856811523, -3.8030152320861816, -7.385928153991699, 59.23790740966797, -12.770927429199219, 7.363333225250244, -15.176959037780762, -106.9987564086914, 106.03260040283203, 71.1274185180664, 13.164315223693848, 44.91304016113281, 91.78501892089844, 88.0710220336914, -106.80268096923828, -32.712703704833984, 17.738094329833984, 44.656394958496094, -47.6022834777832, 78.3625259399414, 11.004096984863281, -8.460972785949707, -121.0201644897461, 6.191666126251221, -35.326744079589844, 82.24198150634766, -42.05183792114258, 139.9845428466797, -126.28318786621094, 127.10292053222656, 85.09209442138672, -41.12574768066406, -87.13563537597656, 65.57457733154297, 52.45022964477539, 113.71927642822266, -62.25635528564453, -41.09295654296875, 96.52449035644531, -7.330801486968994, -6.325514316558838, -94.65351867675781, -4.481949806213379, -23.178611755371094, 69.99073028564453, 121.63272857666016, -116.41675567626953, -107.6728515625, 64.85401916503906, -82.04841613769531, 75.46216583251953, -76.867431640625, -116.36367797851562, -105.79493713378906, 30.7724666595459, -59.03981018066406, -115.44295501708984, 60.68535232543945, -49.2846794128418, -33.480712890625, -23.927467346191406, -56.60231018066406, 35.38148498535156, -23.558101654052734, -60.382598876953125, -56.182151794433594, -51.499847412109375, 15.577963829040527, 8.528097152709961, -46.059898376464844, -87.3272933959961, 51.822998046875, 48.02013397216797, 61.87721252441406, -10.743305206298828, -68.35256958007812, 56.265655517578125, -89.5388412475586, 49.27558517456055, -111.52083587646484, 17.151508331298828, 3.898587703704834, -6.8653340339660645, -131.18006896972656, 121.46760559082031, -85.43627166748047, -89.12533569335938, 58.47206115722656, 36.53620147705078, 81.58960723876953, -98.64763641357422, -83.68357849121094, -83.00041198730469, -75.40776062011719, 94.30221557617188, -75.30438995361328, 56.12616729736328, 65.84674835205078, -107.81098937988281, -27.48163414001465, 2.484445571899414, -8.544086456298828, 26.317209243774414, 16.27312660217285, 11.921021461486816, 27.685823440551758, 81.39752960205078, -87.67845916748047, -66.99134826660156, -75.5600357055664, 80.49458312988281, -151.73260498046875, -114.88008117675781, 39.56715393066406, 23.84029769897461, 1.104935646057129, 29.356678009033203, 26.199710845947266, 110.2652816772461, 0.4367223381996155, 66.9776611328125, -80.58503723144531, -83.84677124023438, -47.859859466552734, -91.76703643798828, -59.900733947753906, 86.53197479248047, -117.24427795410156, -156.68577575683594, 8.430497169494629, 51.679691314697266, 20.96424102783203, 22.944795608520508, -54.12449645996094, 39.52616500854492, -21.998233795166016, 54.593284606933594, -6.989200115203857, 100.55342864990234, 81.23905944824219, -67.6025161743164, 3.0376012325286865, -39.97201156616211, 42.78850173950195, 65.93809509277344, -122.7911605834961, 51.6061897277832, 42.51585388183594, 13.119438171386719, 15.56326675415039, -44.386627197265625, 60.62678527832031, 0.508182942867279, 27.46513557434082, -0.6712978482246399, 89.43494415283203, -65.97480773925781, 33.986083984375, -45.360294342041016, 34.99378204345703, 54.983367919921875, 60.562950134277344, 77.57659912109375, 28.715286254882812, 116.36210632324219, 123.8954849243164, 78.3202133178711, -103.83973693847656, 30.903886795043945, 24.68536949157715]}],\n",
       "                        {\"coloraxis\": {\"colorbar\": {\"title\": {\"text\": \"Label\"}}, \"colorscale\": [[0.0, \"#0d0887\"], [0.1111111111111111, \"#46039f\"], [0.2222222222222222, \"#7201a8\"], [0.3333333333333333, \"#9c179e\"], [0.4444444444444444, \"#bd3786\"], [0.5555555555555556, \"#d8576b\"], [0.6666666666666666, \"#ed7953\"], [0.7777777777777778, \"#fb9f3a\"], [0.8888888888888888, \"#fdca26\"], [1.0, \"#f0f921\"]]}, \"height\": 800, \"legend\": {\"tracegroupgap\": 0}, \"scene\": {\"domain\": {\"x\": [0.0, 1.0], \"y\": [0.0, 1.0]}, \"xaxis\": {\"title\": {\"text\": \"0\"}}, \"yaxis\": {\"title\": {\"text\": \"1\"}}, \"zaxis\": {\"title\": {\"text\": \"2\"}}}, \"template\": {\"data\": {\"bar\": [{\"error_x\": {\"color\": \"#2a3f5f\"}, \"error_y\": {\"color\": \"#2a3f5f\"}, \"marker\": {\"line\": {\"color\": \"#E5ECF6\", \"width\": 0.5}}, \"type\": \"bar\"}], \"barpolar\": [{\"marker\": {\"line\": {\"color\": \"#E5ECF6\", \"width\": 0.5}}, \"type\": \"barpolar\"}], \"carpet\": [{\"aaxis\": {\"endlinecolor\": \"#2a3f5f\", \"gridcolor\": \"white\", \"linecolor\": \"white\", \"minorgridcolor\": \"white\", \"startlinecolor\": \"#2a3f5f\"}, \"baxis\": {\"endlinecolor\": \"#2a3f5f\", \"gridcolor\": \"white\", \"linecolor\": \"white\", \"minorgridcolor\": \"white\", \"startlinecolor\": \"#2a3f5f\"}, \"type\": \"carpet\"}], \"choropleth\": [{\"colorbar\": {\"outlinewidth\": 0, \"ticks\": \"\"}, \"type\": \"choropleth\"}], \"contour\": [{\"colorbar\": {\"outlinewidth\": 0, \"ticks\": \"\"}, \"colorscale\": [[0.0, \"#0d0887\"], [0.1111111111111111, \"#46039f\"], [0.2222222222222222, \"#7201a8\"], [0.3333333333333333, \"#9c179e\"], [0.4444444444444444, \"#bd3786\"], [0.5555555555555556, \"#d8576b\"], [0.6666666666666666, \"#ed7953\"], [0.7777777777777778, \"#fb9f3a\"], [0.8888888888888888, \"#fdca26\"], [1.0, \"#f0f921\"]], \"type\": \"contour\"}], \"contourcarpet\": [{\"colorbar\": {\"outlinewidth\": 0, \"ticks\": \"\"}, \"type\": \"contourcarpet\"}], \"heatmap\": [{\"colorbar\": {\"outlinewidth\": 0, \"ticks\": \"\"}, \"colorscale\": [[0.0, \"#0d0887\"], [0.1111111111111111, \"#46039f\"], [0.2222222222222222, \"#7201a8\"], [0.3333333333333333, \"#9c179e\"], [0.4444444444444444, \"#bd3786\"], [0.5555555555555556, \"#d8576b\"], [0.6666666666666666, \"#ed7953\"], [0.7777777777777778, \"#fb9f3a\"], [0.8888888888888888, \"#fdca26\"], [1.0, \"#f0f921\"]], \"type\": \"heatmap\"}], \"heatmapgl\": [{\"colorbar\": {\"outlinewidth\": 0, \"ticks\": \"\"}, \"colorscale\": [[0.0, \"#0d0887\"], [0.1111111111111111, \"#46039f\"], [0.2222222222222222, \"#7201a8\"], [0.3333333333333333, \"#9c179e\"], [0.4444444444444444, \"#bd3786\"], [0.5555555555555556, \"#d8576b\"], [0.6666666666666666, \"#ed7953\"], [0.7777777777777778, \"#fb9f3a\"], [0.8888888888888888, \"#fdca26\"], [1.0, \"#f0f921\"]], \"type\": \"heatmapgl\"}], \"histogram\": [{\"marker\": {\"colorbar\": {\"outlinewidth\": 0, \"ticks\": \"\"}}, \"type\": \"histogram\"}], \"histogram2d\": [{\"colorbar\": {\"outlinewidth\": 0, \"ticks\": \"\"}, \"colorscale\": [[0.0, \"#0d0887\"], [0.1111111111111111, \"#46039f\"], [0.2222222222222222, \"#7201a8\"], [0.3333333333333333, \"#9c179e\"], [0.4444444444444444, \"#bd3786\"], [0.5555555555555556, \"#d8576b\"], [0.6666666666666666, \"#ed7953\"], [0.7777777777777778, \"#fb9f3a\"], [0.8888888888888888, \"#fdca26\"], [1.0, \"#f0f921\"]], \"type\": \"histogram2d\"}], \"histogram2dcontour\": [{\"colorbar\": {\"outlinewidth\": 0, \"ticks\": \"\"}, \"colorscale\": [[0.0, \"#0d0887\"], [0.1111111111111111, \"#46039f\"], [0.2222222222222222, \"#7201a8\"], [0.3333333333333333, \"#9c179e\"], [0.4444444444444444, \"#bd3786\"], [0.5555555555555556, \"#d8576b\"], [0.6666666666666666, \"#ed7953\"], [0.7777777777777778, \"#fb9f3a\"], [0.8888888888888888, \"#fdca26\"], [1.0, \"#f0f921\"]], \"type\": \"histogram2dcontour\"}], \"mesh3d\": [{\"colorbar\": {\"outlinewidth\": 0, \"ticks\": \"\"}, \"type\": \"mesh3d\"}], \"parcoords\": [{\"line\": {\"colorbar\": {\"outlinewidth\": 0, \"ticks\": \"\"}}, \"type\": \"parcoords\"}], \"pie\": [{\"automargin\": true, \"type\": \"pie\"}], \"scatter\": [{\"marker\": {\"colorbar\": {\"outlinewidth\": 0, \"ticks\": \"\"}}, \"type\": \"scatter\"}], \"scatter3d\": [{\"line\": {\"colorbar\": {\"outlinewidth\": 0, \"ticks\": \"\"}}, \"marker\": {\"colorbar\": {\"outlinewidth\": 0, \"ticks\": \"\"}}, \"type\": \"scatter3d\"}], \"scattercarpet\": [{\"marker\": {\"colorbar\": {\"outlinewidth\": 0, \"ticks\": \"\"}}, \"type\": \"scattercarpet\"}], \"scattergeo\": [{\"marker\": {\"colorbar\": {\"outlinewidth\": 0, \"ticks\": \"\"}}, \"type\": \"scattergeo\"}], \"scattergl\": [{\"marker\": {\"colorbar\": {\"outlinewidth\": 0, \"ticks\": \"\"}}, \"type\": \"scattergl\"}], \"scattermapbox\": [{\"marker\": {\"colorbar\": {\"outlinewidth\": 0, \"ticks\": \"\"}}, \"type\": \"scattermapbox\"}], \"scatterpolar\": [{\"marker\": {\"colorbar\": {\"outlinewidth\": 0, \"ticks\": \"\"}}, \"type\": \"scatterpolar\"}], \"scatterpolargl\": [{\"marker\": {\"colorbar\": {\"outlinewidth\": 0, \"ticks\": \"\"}}, \"type\": \"scatterpolargl\"}], \"scatterternary\": [{\"marker\": {\"colorbar\": {\"outlinewidth\": 0, \"ticks\": \"\"}}, \"type\": \"scatterternary\"}], \"surface\": [{\"colorbar\": {\"outlinewidth\": 0, \"ticks\": \"\"}, \"colorscale\": [[0.0, \"#0d0887\"], [0.1111111111111111, \"#46039f\"], [0.2222222222222222, \"#7201a8\"], [0.3333333333333333, \"#9c179e\"], [0.4444444444444444, \"#bd3786\"], [0.5555555555555556, \"#d8576b\"], [0.6666666666666666, \"#ed7953\"], [0.7777777777777778, \"#fb9f3a\"], [0.8888888888888888, \"#fdca26\"], [1.0, \"#f0f921\"]], \"type\": \"surface\"}], \"table\": [{\"cells\": {\"fill\": {\"color\": \"#EBF0F8\"}, \"line\": {\"color\": \"white\"}}, \"header\": {\"fill\": {\"color\": \"#C8D4E3\"}, \"line\": {\"color\": \"white\"}}, \"type\": \"table\"}]}, \"layout\": {\"annotationdefaults\": {\"arrowcolor\": \"#2a3f5f\", \"arrowhead\": 0, \"arrowwidth\": 1}, \"coloraxis\": {\"colorbar\": {\"outlinewidth\": 0, \"ticks\": \"\"}}, \"colorscale\": {\"diverging\": [[0, \"#8e0152\"], [0.1, \"#c51b7d\"], [0.2, \"#de77ae\"], [0.3, \"#f1b6da\"], [0.4, \"#fde0ef\"], [0.5, \"#f7f7f7\"], [0.6, \"#e6f5d0\"], [0.7, \"#b8e186\"], [0.8, \"#7fbc41\"], [0.9, \"#4d9221\"], [1, \"#276419\"]], \"sequential\": [[0.0, \"#0d0887\"], [0.1111111111111111, \"#46039f\"], [0.2222222222222222, \"#7201a8\"], [0.3333333333333333, \"#9c179e\"], [0.4444444444444444, \"#bd3786\"], [0.5555555555555556, \"#d8576b\"], [0.6666666666666666, \"#ed7953\"], [0.7777777777777778, \"#fb9f3a\"], [0.8888888888888888, \"#fdca26\"], [1.0, \"#f0f921\"]], \"sequentialminus\": [[0.0, \"#0d0887\"], [0.1111111111111111, \"#46039f\"], [0.2222222222222222, \"#7201a8\"], [0.3333333333333333, \"#9c179e\"], [0.4444444444444444, \"#bd3786\"], [0.5555555555555556, \"#d8576b\"], [0.6666666666666666, \"#ed7953\"], [0.7777777777777778, \"#fb9f3a\"], [0.8888888888888888, \"#fdca26\"], [1.0, \"#f0f921\"]]}, \"colorway\": [\"#636efa\", \"#EF553B\", \"#00cc96\", \"#ab63fa\", \"#FFA15A\", \"#19d3f3\", \"#FF6692\", \"#B6E880\", \"#FF97FF\", \"#FECB52\"], \"font\": {\"color\": \"#2a3f5f\"}, \"geo\": {\"bgcolor\": \"white\", \"lakecolor\": \"white\", \"landcolor\": \"#E5ECF6\", \"showlakes\": true, \"showland\": true, \"subunitcolor\": \"white\"}, \"hoverlabel\": {\"align\": \"left\"}, \"hovermode\": \"closest\", \"mapbox\": {\"style\": \"light\"}, \"paper_bgcolor\": \"white\", \"plot_bgcolor\": \"#E5ECF6\", \"polar\": {\"angularaxis\": {\"gridcolor\": \"white\", \"linecolor\": \"white\", \"ticks\": \"\"}, \"bgcolor\": \"#E5ECF6\", \"radialaxis\": {\"gridcolor\": \"white\", \"linecolor\": \"white\", \"ticks\": \"\"}}, \"scene\": {\"xaxis\": {\"backgroundcolor\": \"#E5ECF6\", \"gridcolor\": \"white\", \"gridwidth\": 2, \"linecolor\": \"white\", \"showbackground\": true, \"ticks\": \"\", \"zerolinecolor\": \"white\"}, \"yaxis\": {\"backgroundcolor\": \"#E5ECF6\", \"gridcolor\": \"white\", \"gridwidth\": 2, \"linecolor\": \"white\", \"showbackground\": true, \"ticks\": \"\", \"zerolinecolor\": \"white\"}, \"zaxis\": {\"backgroundcolor\": \"#E5ECF6\", \"gridcolor\": \"white\", \"gridwidth\": 2, \"linecolor\": \"white\", \"showbackground\": true, \"ticks\": \"\", \"zerolinecolor\": \"white\"}}, \"shapedefaults\": {\"line\": {\"color\": \"#2a3f5f\"}}, \"ternary\": {\"aaxis\": {\"gridcolor\": \"white\", \"linecolor\": \"white\", \"ticks\": \"\"}, \"baxis\": {\"gridcolor\": \"white\", \"linecolor\": \"white\", \"ticks\": \"\"}, \"bgcolor\": \"#E5ECF6\", \"caxis\": {\"gridcolor\": \"white\", \"linecolor\": \"white\", \"ticks\": \"\"}}, \"title\": {\"x\": 0.05}, \"xaxis\": {\"automargin\": true, \"gridcolor\": \"white\", \"linecolor\": \"white\", \"ticks\": \"\", \"title\": {\"standoff\": 15}, \"zerolinecolor\": \"white\", \"zerolinewidth\": 2}, \"yaxis\": {\"automargin\": true, \"gridcolor\": \"white\", \"linecolor\": \"white\", \"ticks\": \"\", \"title\": {\"standoff\": 15}, \"zerolinecolor\": \"white\", \"zerolinewidth\": 2}}}, \"title\": {\"text\": \"3d TSNE Plot for Outliers\"}, \"width\": 900},\n",
       "                        {\"responsive\": true}\n",
       "                    ).then(function(){\n",
       "                            \n",
       "var gd = document.getElementById('1f7e889c-d2ec-49e2-ab9e-de30bb8987e2');\n",
       "var x = new MutationObserver(function (mutations, observer) {{\n",
       "        var display = window.getComputedStyle(gd).display;\n",
       "        if (!display || display === 'none') {{\n",
       "            console.log([gd, 'removed!']);\n",
       "            Plotly.purge(gd);\n",
       "            observer.disconnect();\n",
       "        }}\n",
       "}});\n",
       "\n",
       "// Listen for the removal of the full notebook cells\n",
       "var notebookContainer = gd.closest('#notebook-container');\n",
       "if (notebookContainer) {{\n",
       "    x.observe(notebookContainer, {childList: true});\n",
       "}}\n",
       "\n",
       "// Listen for the clearing of the current output cell\n",
       "var outputEl = gd.closest('.output');\n",
       "if (outputEl) {{\n",
       "    x.observe(outputEl, {childList: true});\n",
       "}}\n",
       "\n",
       "                        })\n",
       "                };\n",
       "                });\n",
       "            </script>\n",
       "        </div>"
      ]
     },
     "metadata": {},
     "output_type": "display_data"
    }
   ],
   "source": [
    "plot_model(knn)"
   ]
  },
  {
   "cell_type": "code",
   "execution_count": 8,
   "metadata": {},
   "outputs": [
    {
     "data": {
      "text/plain": [
       "<matplotlib.axes._subplots.AxesSubplot at 0x7f8b616c1110>"
      ]
     },
     "execution_count": 8,
     "metadata": {},
     "output_type": "execute_result"
    },
    {
     "data": {
      "image/png": "[encoded data removed]",
      "text/plain": [
       "<Figure size 432x288 with 1 Axes>"
      ]
     },
     "metadata": {
      "needs_background": "light"
     },
     "output_type": "display_data"
    }
   ],
   "source": [
    "knn_df['Label'].value_counts().plot.bar()"
   ]
  },
  {
   "cell_type": "code",
   "execution_count": 9,
   "metadata": {},
   "outputs": [
    {
     "data": {
      "text/plain": [
       "0    223\n",
       "1     11\n",
       "Name: Label, dtype: int64"
      ]
     },
     "execution_count": 9,
     "metadata": {},
     "output_type": "execute_result"
    }
   ],
   "source": [
    "knn_df['Label'].value_counts()"
   ]
  },
  {
   "cell_type": "code",
   "execution_count": 10,
   "metadata": {},
   "outputs": [],
   "source": [
    "df = knn_df.loc[knn_df['Label'] == 0] "
   ]
  },
  {
   "cell_type": "code",
   "execution_count": 11,
   "metadata": {},
   "outputs": [
    {
     "data": {
      "text/html": [
       "<div>\n",
       "<style scoped>\n",
       "    .dataframe tbody tr th:only-of-type {\n",
       "        vertical-align: middle;\n",
       "    }\n",
       "\n",
       "    .dataframe tbody tr th {\n",
       "        vertical-align: top;\n",
       "    }\n",
       "\n",
       "    .dataframe thead th {\n",
       "        text-align: right;\n",
       "    }\n",
       "</style>\n",
       "<table border=\"1\" class=\"dataframe\">\n",
       "  <thead>\n",
       "    <tr style=\"text-align: right;\">\n",
       "      <th></th>\n",
       "      <th>target</th>\n",
       "      <th>tumor size</th>\n",
       "      <th>node status of the tumor</th>\n",
       "      <th>Age of the patient</th>\n",
       "      <th>tumor grade</th>\n",
       "      <th>Label</th>\n",
       "      <th>Score</th>\n",
       "    </tr>\n",
       "  </thead>\n",
       "  <tbody>\n",
       "    <tr>\n",
       "      <th>0</th>\n",
       "      <td>0</td>\n",
       "      <td>2</td>\n",
       "      <td>1</td>\n",
       "      <td>60</td>\n",
       "      <td>3</td>\n",
       "      <td>0</td>\n",
       "      <td>1.414214</td>\n",
       "    </tr>\n",
       "    <tr>\n",
       "      <th>1</th>\n",
       "      <td>0</td>\n",
       "      <td>1</td>\n",
       "      <td>1</td>\n",
       "      <td>55</td>\n",
       "      <td>2</td>\n",
       "      <td>0</td>\n",
       "      <td>2.000000</td>\n",
       "    </tr>\n",
       "    <tr>\n",
       "      <th>2</th>\n",
       "      <td>0</td>\n",
       "      <td>1</td>\n",
       "      <td>1</td>\n",
       "      <td>33</td>\n",
       "      <td>3</td>\n",
       "      <td>0</td>\n",
       "      <td>2.449490</td>\n",
       "    </tr>\n",
       "    <tr>\n",
       "      <th>3</th>\n",
       "      <td>0</td>\n",
       "      <td>1</td>\n",
       "      <td>1</td>\n",
       "      <td>67</td>\n",
       "      <td>2</td>\n",
       "      <td>0</td>\n",
       "      <td>2.236068</td>\n",
       "    </tr>\n",
       "    <tr>\n",
       "      <th>4</th>\n",
       "      <td>0</td>\n",
       "      <td>1</td>\n",
       "      <td>1</td>\n",
       "      <td>47</td>\n",
       "      <td>2</td>\n",
       "      <td>0</td>\n",
       "      <td>1.732051</td>\n",
       "    </tr>\n",
       "    <tr>\n",
       "      <th>...</th>\n",
       "      <td>...</td>\n",
       "      <td>...</td>\n",
       "      <td>...</td>\n",
       "      <td>...</td>\n",
       "      <td>...</td>\n",
       "      <td>...</td>\n",
       "      <td>...</td>\n",
       "    </tr>\n",
       "    <tr>\n",
       "      <th>229</th>\n",
       "      <td>1</td>\n",
       "      <td>2</td>\n",
       "      <td>2</td>\n",
       "      <td>55</td>\n",
       "      <td>2</td>\n",
       "      <td>0</td>\n",
       "      <td>2.236068</td>\n",
       "    </tr>\n",
       "    <tr>\n",
       "      <th>230</th>\n",
       "      <td>1</td>\n",
       "      <td>3</td>\n",
       "      <td>2</td>\n",
       "      <td>45</td>\n",
       "      <td>2</td>\n",
       "      <td>0</td>\n",
       "      <td>2.236068</td>\n",
       "    </tr>\n",
       "    <tr>\n",
       "      <th>231</th>\n",
       "      <td>1</td>\n",
       "      <td>3</td>\n",
       "      <td>2</td>\n",
       "      <td>37</td>\n",
       "      <td>3</td>\n",
       "      <td>0</td>\n",
       "      <td>2.236068</td>\n",
       "    </tr>\n",
       "    <tr>\n",
       "      <th>232</th>\n",
       "      <td>1</td>\n",
       "      <td>3</td>\n",
       "      <td>2</td>\n",
       "      <td>58</td>\n",
       "      <td>2</td>\n",
       "      <td>0</td>\n",
       "      <td>2.449490</td>\n",
       "    </tr>\n",
       "    <tr>\n",
       "      <th>233</th>\n",
       "      <td>1</td>\n",
       "      <td>1</td>\n",
       "      <td>1</td>\n",
       "      <td>52</td>\n",
       "      <td>2</td>\n",
       "      <td>0</td>\n",
       "      <td>2.236068</td>\n",
       "    </tr>\n",
       "  </tbody>\n",
       "</table>\n",
       "<p>223 rows × 7 columns</p>\n",
       "</div>"
      ],
      "text/plain": [
       "     target  tumor size  node status of the tumor  Age of the patient  \\\n",
       "0         0           2                         1                  60   \n",
       "1         0           1                         1                  55   \n",
       "2         0           1                         1                  33   \n",
       "3         0           1                         1                  67   \n",
       "4         0           1                         1                  47   \n",
       "..      ...         ...                       ...                 ...   \n",
       "229       1           2                         2                  55   \n",
       "230       1           3                         2                  45   \n",
       "231       1           3                         2                  37   \n",
       "232       1           3                         2                  58   \n",
       "233       1           1                         1                  52   \n",
       "\n",
       "     tumor grade  Label     Score  \n",
       "0              3      0  1.414214  \n",
       "1              2      0  2.000000  \n",
       "2              3      0  2.449490  \n",
       "3              2      0  2.236068  \n",
       "4              2      0  1.732051  \n",
       "..           ...    ...       ...  \n",
       "229            2      0  2.236068  \n",
       "230            2      0  2.236068  \n",
       "231            3      0  2.236068  \n",
       "232            2      0  2.449490  \n",
       "233            2      0  2.236068  \n",
       "\n",
       "[223 rows x 7 columns]"
      ]
     },
     "execution_count": 11,
     "metadata": {},
     "output_type": "execute_result"
    }
   ],
   "source": [
    "df"
   ]
  },
  {
   "cell_type": "code",
   "execution_count": 12,
   "metadata": {},
   "outputs": [],
   "source": [
    "raw = knn_df.loc[knn_df['Label'] == 1] "
   ]
  },
  {
   "cell_type": "code",
   "execution_count": 13,
   "metadata": {},
   "outputs": [
    {
     "data": {
      "text/html": [
       "<div>\n",
       "<style scoped>\n",
       "    .dataframe tbody tr th:only-of-type {\n",
       "        vertical-align: middle;\n",
       "    }\n",
       "\n",
       "    .dataframe tbody tr th {\n",
       "        vertical-align: top;\n",
       "    }\n",
       "\n",
       "    .dataframe thead th {\n",
       "        text-align: right;\n",
       "    }\n",
       "</style>\n",
       "<table border=\"1\" class=\"dataframe\">\n",
       "  <thead>\n",
       "    <tr style=\"text-align: right;\">\n",
       "      <th></th>\n",
       "      <th>target</th>\n",
       "      <th>tumor size</th>\n",
       "      <th>node status of the tumor</th>\n",
       "      <th>Age of the patient</th>\n",
       "      <th>tumor grade</th>\n",
       "      <th>Label</th>\n",
       "      <th>Score</th>\n",
       "    </tr>\n",
       "  </thead>\n",
       "  <tbody>\n",
       "    <tr>\n",
       "      <th>7</th>\n",
       "      <td>0</td>\n",
       "      <td>1</td>\n",
       "      <td>1</td>\n",
       "      <td>26</td>\n",
       "      <td>2</td>\n",
       "      <td>1</td>\n",
       "      <td>2.828427</td>\n",
       "    </tr>\n",
       "    <tr>\n",
       "      <th>25</th>\n",
       "      <td>0</td>\n",
       "      <td>2</td>\n",
       "      <td>0</td>\n",
       "      <td>30</td>\n",
       "      <td>2</td>\n",
       "      <td>1</td>\n",
       "      <td>2.828427</td>\n",
       "    </tr>\n",
       "    <tr>\n",
       "      <th>71</th>\n",
       "      <td>0</td>\n",
       "      <td>2</td>\n",
       "      <td>0</td>\n",
       "      <td>25</td>\n",
       "      <td>3</td>\n",
       "      <td>1</td>\n",
       "      <td>3.316625</td>\n",
       "    </tr>\n",
       "    <tr>\n",
       "      <th>76</th>\n",
       "      <td>0</td>\n",
       "      <td>1</td>\n",
       "      <td>1</td>\n",
       "      <td>72</td>\n",
       "      <td>2</td>\n",
       "      <td>1</td>\n",
       "      <td>4.242641</td>\n",
       "    </tr>\n",
       "    <tr>\n",
       "      <th>117</th>\n",
       "      <td>0</td>\n",
       "      <td>2</td>\n",
       "      <td>1</td>\n",
       "      <td>29</td>\n",
       "      <td>3</td>\n",
       "      <td>1</td>\n",
       "      <td>3.000000</td>\n",
       "    </tr>\n",
       "    <tr>\n",
       "      <th>147</th>\n",
       "      <td>0</td>\n",
       "      <td>2</td>\n",
       "      <td>1</td>\n",
       "      <td>25</td>\n",
       "      <td>3</td>\n",
       "      <td>1</td>\n",
       "      <td>3.000000</td>\n",
       "    </tr>\n",
       "    <tr>\n",
       "      <th>149</th>\n",
       "      <td>0</td>\n",
       "      <td>2</td>\n",
       "      <td>1</td>\n",
       "      <td>28</td>\n",
       "      <td>3</td>\n",
       "      <td>1</td>\n",
       "      <td>2.828427</td>\n",
       "    </tr>\n",
       "    <tr>\n",
       "      <th>171</th>\n",
       "      <td>0</td>\n",
       "      <td>2</td>\n",
       "      <td>2</td>\n",
       "      <td>30</td>\n",
       "      <td>2</td>\n",
       "      <td>1</td>\n",
       "      <td>2.828427</td>\n",
       "    </tr>\n",
       "    <tr>\n",
       "      <th>174</th>\n",
       "      <td>0</td>\n",
       "      <td>3</td>\n",
       "      <td>1</td>\n",
       "      <td>70</td>\n",
       "      <td>3</td>\n",
       "      <td>1</td>\n",
       "      <td>3.162278</td>\n",
       "    </tr>\n",
       "    <tr>\n",
       "      <th>190</th>\n",
       "      <td>0</td>\n",
       "      <td>2</td>\n",
       "      <td>3</td>\n",
       "      <td>73</td>\n",
       "      <td>3</td>\n",
       "      <td>1</td>\n",
       "      <td>5.196152</td>\n",
       "    </tr>\n",
       "    <tr>\n",
       "      <th>228</th>\n",
       "      <td>1</td>\n",
       "      <td>2</td>\n",
       "      <td>2</td>\n",
       "      <td>75</td>\n",
       "      <td>3</td>\n",
       "      <td>1</td>\n",
       "      <td>7.141428</td>\n",
       "    </tr>\n",
       "  </tbody>\n",
       "</table>\n",
       "</div>"
      ],
      "text/plain": [
       "     target  tumor size  node status of the tumor  Age of the patient  \\\n",
       "7         0           1                         1                  26   \n",
       "25        0           2                         0                  30   \n",
       "71        0           2                         0                  25   \n",
       "76        0           1                         1                  72   \n",
       "117       0           2                         1                  29   \n",
       "147       0           2                         1                  25   \n",
       "149       0           2                         1                  28   \n",
       "171       0           2                         2                  30   \n",
       "174       0           3                         1                  70   \n",
       "190       0           2                         3                  73   \n",
       "228       1           2                         2                  75   \n",
       "\n",
       "     tumor grade  Label     Score  \n",
       "7              2      1  2.828427  \n",
       "25             2      1  2.828427  \n",
       "71             3      1  3.316625  \n",
       "76             2      1  4.242641  \n",
       "117            3      1  3.000000  \n",
       "147            3      1  3.000000  \n",
       "149            3      1  2.828427  \n",
       "171            2      1  2.828427  \n",
       "174            3      1  3.162278  \n",
       "190            3      1  5.196152  \n",
       "228            3      1  7.141428  "
      ]
     },
     "execution_count": 13,
     "metadata": {},
     "output_type": "execute_result"
    }
   ],
   "source": [
    "raw"
   ]
  },
  {
   "cell_type": "code",
   "execution_count": 14,
   "metadata": {},
   "outputs": [],
   "source": [
    "df = df.drop([\"Label\"],axis=1)"
   ]
  },
  {
   "cell_type": "code",
   "execution_count": 15,
   "metadata": {},
   "outputs": [
    {
     "data": {
      "text/html": [
       "<div>\n",
       "<style scoped>\n",
       "    .dataframe tbody tr th:only-of-type {\n",
       "        vertical-align: middle;\n",
       "    }\n",
       "\n",
       "    .dataframe tbody tr th {\n",
       "        vertical-align: top;\n",
       "    }\n",
       "\n",
       "    .dataframe thead th {\n",
       "        text-align: right;\n",
       "    }\n",
       "</style>\n",
       "<table border=\"1\" class=\"dataframe\">\n",
       "  <thead>\n",
       "    <tr style=\"text-align: right;\">\n",
       "      <th></th>\n",
       "      <th>target</th>\n",
       "      <th>tumor size</th>\n",
       "      <th>node status of the tumor</th>\n",
       "      <th>Age of the patient</th>\n",
       "      <th>tumor grade</th>\n",
       "      <th>Score</th>\n",
       "    </tr>\n",
       "  </thead>\n",
       "  <tbody>\n",
       "    <tr>\n",
       "      <th>0</th>\n",
       "      <td>0</td>\n",
       "      <td>2</td>\n",
       "      <td>1</td>\n",
       "      <td>60</td>\n",
       "      <td>3</td>\n",
       "      <td>1.414214</td>\n",
       "    </tr>\n",
       "    <tr>\n",
       "      <th>1</th>\n",
       "      <td>0</td>\n",
       "      <td>1</td>\n",
       "      <td>1</td>\n",
       "      <td>55</td>\n",
       "      <td>2</td>\n",
       "      <td>2.000000</td>\n",
       "    </tr>\n",
       "    <tr>\n",
       "      <th>2</th>\n",
       "      <td>0</td>\n",
       "      <td>1</td>\n",
       "      <td>1</td>\n",
       "      <td>33</td>\n",
       "      <td>3</td>\n",
       "      <td>2.449490</td>\n",
       "    </tr>\n",
       "    <tr>\n",
       "      <th>3</th>\n",
       "      <td>0</td>\n",
       "      <td>1</td>\n",
       "      <td>1</td>\n",
       "      <td>67</td>\n",
       "      <td>2</td>\n",
       "      <td>2.236068</td>\n",
       "    </tr>\n",
       "    <tr>\n",
       "      <th>4</th>\n",
       "      <td>0</td>\n",
       "      <td>1</td>\n",
       "      <td>1</td>\n",
       "      <td>47</td>\n",
       "      <td>2</td>\n",
       "      <td>1.732051</td>\n",
       "    </tr>\n",
       "    <tr>\n",
       "      <th>...</th>\n",
       "      <td>...</td>\n",
       "      <td>...</td>\n",
       "      <td>...</td>\n",
       "      <td>...</td>\n",
       "      <td>...</td>\n",
       "      <td>...</td>\n",
       "    </tr>\n",
       "    <tr>\n",
       "      <th>229</th>\n",
       "      <td>1</td>\n",
       "      <td>2</td>\n",
       "      <td>2</td>\n",
       "      <td>55</td>\n",
       "      <td>2</td>\n",
       "      <td>2.236068</td>\n",
       "    </tr>\n",
       "    <tr>\n",
       "      <th>230</th>\n",
       "      <td>1</td>\n",
       "      <td>3</td>\n",
       "      <td>2</td>\n",
       "      <td>45</td>\n",
       "      <td>2</td>\n",
       "      <td>2.236068</td>\n",
       "    </tr>\n",
       "    <tr>\n",
       "      <th>231</th>\n",
       "      <td>1</td>\n",
       "      <td>3</td>\n",
       "      <td>2</td>\n",
       "      <td>37</td>\n",
       "      <td>3</td>\n",
       "      <td>2.236068</td>\n",
       "    </tr>\n",
       "    <tr>\n",
       "      <th>232</th>\n",
       "      <td>1</td>\n",
       "      <td>3</td>\n",
       "      <td>2</td>\n",
       "      <td>58</td>\n",
       "      <td>2</td>\n",
       "      <td>2.449490</td>\n",
       "    </tr>\n",
       "    <tr>\n",
       "      <th>233</th>\n",
       "      <td>1</td>\n",
       "      <td>1</td>\n",
       "      <td>1</td>\n",
       "      <td>52</td>\n",
       "      <td>2</td>\n",
       "      <td>2.236068</td>\n",
       "    </tr>\n",
       "  </tbody>\n",
       "</table>\n",
       "<p>223 rows × 6 columns</p>\n",
       "</div>"
      ],
      "text/plain": [
       "     target  tumor size  node status of the tumor  Age of the patient  \\\n",
       "0         0           2                         1                  60   \n",
       "1         0           1                         1                  55   \n",
       "2         0           1                         1                  33   \n",
       "3         0           1                         1                  67   \n",
       "4         0           1                         1                  47   \n",
       "..      ...         ...                       ...                 ...   \n",
       "229       1           2                         2                  55   \n",
       "230       1           3                         2                  45   \n",
       "231       1           3                         2                  37   \n",
       "232       1           3                         2                  58   \n",
       "233       1           1                         1                  52   \n",
       "\n",
       "     tumor grade     Score  \n",
       "0              3  1.414214  \n",
       "1              2  2.000000  \n",
       "2              3  2.449490  \n",
       "3              2  2.236068  \n",
       "4              2  1.732051  \n",
       "..           ...       ...  \n",
       "229            2  2.236068  \n",
       "230            2  2.236068  \n",
       "231            3  2.236068  \n",
       "232            2  2.449490  \n",
       "233            2  2.236068  \n",
       "\n",
       "[223 rows x 6 columns]"
      ]
     },
     "execution_count": 15,
     "metadata": {},
     "output_type": "execute_result"
    }
   ],
   "source": [
    "df\n"
   ]
  },
  {
   "cell_type": "code",
   "execution_count": 16,
   "metadata": {},
   "outputs": [],
   "source": [
    "columns = df.columns\n"
   ]
  },
  {
   "cell_type": "code",
   "execution_count": 17,
   "metadata": {},
   "outputs": [
    {
     "data": {
      "text/plain": [
       "0    223\n",
       "1     11\n",
       "Name: Label, dtype: int64"
      ]
     },
     "execution_count": 17,
     "metadata": {},
     "output_type": "execute_result"
    },
    {
     "data": {
      "image/png": "[encoded data removed]",
      "text/plain": [
       "<Figure size 432x288 with 1 Axes>"
      ]
     },
     "metadata": {
      "needs_background": "light"
     },
     "output_type": "display_data"
    }
   ],
   "source": [
    "df['target'].value_counts().plot.bar()\n",
    "knn_df['Label'].value_counts()\n"
   ]
  },
  {
   "cell_type": "code",
   "execution_count": 18,
   "metadata": {},
   "outputs": [],
   "source": [
    "from sklearn.model_selection import train_test_split"
   ]
  },
  {
   "cell_type": "code",
   "execution_count": 19,
   "metadata": {},
   "outputs": [],
   "source": [
    "X_res = df.iloc[:,1:].values\n",
    "y_res = df.iloc[:,0].values"
   ]
  },
  {
   "cell_type": "code",
   "execution_count": 20,
   "metadata": {},
   "outputs": [
    {
     "name": "stderr",
     "output_type": "stream",
     "text": [
      "Using TensorFlow backend.\n"
     ]
    }
   ],
   "source": [
    "from imblearn.under_sampling import NearMiss\n",
    "from imblearn.combine import SMOTETomek"
   ]
  },
  {
   "cell_type": "code",
   "execution_count": 21,
   "metadata": {},
   "outputs": [],
   "source": [
    "os = SMOTETomek()\n",
    "X_res,y_res = os.fit_sample(X_res,y_res)"
   ]
  },
  {
   "cell_type": "code",
   "execution_count": 22,
   "metadata": {},
   "outputs": [
    {
     "data": {
      "text/plain": [
       "(348, 5)"
      ]
     },
     "execution_count": 22,
     "metadata": {},
     "output_type": "execute_result"
    }
   ],
   "source": [
    "X_res.shape"
   ]
  },
  {
   "cell_type": "code",
   "execution_count": 23,
   "metadata": {},
   "outputs": [
    {
     "data": {
      "text/plain": [
       "(348,)"
      ]
     },
     "execution_count": 23,
     "metadata": {},
     "output_type": "execute_result"
    }
   ],
   "source": [
    "y_res.shape"
   ]
  },
  {
   "cell_type": "code",
   "execution_count": 24,
   "metadata": {},
   "outputs": [],
   "source": [
    "x = pd.DataFrame(X_res)\n",
    "y = pd.DataFrame(y_res)"
   ]
  },
  {
   "cell_type": "code",
   "execution_count": 25,
   "metadata": {},
   "outputs": [],
   "source": [
    "df = pd.concat([y,x],axis=1)"
   ]
  },
  {
   "cell_type": "code",
   "execution_count": 26,
   "metadata": {},
   "outputs": [
    {
     "data": {
      "text/html": [
       "<div>\n",
       "<style scoped>\n",
       "    .dataframe tbody tr th:only-of-type {\n",
       "        vertical-align: middle;\n",
       "    }\n",
       "\n",
       "    .dataframe tbody tr th {\n",
       "        vertical-align: top;\n",
       "    }\n",
       "\n",
       "    .dataframe thead th {\n",
       "        text-align: right;\n",
       "    }\n",
       "</style>\n",
       "<table border=\"1\" class=\"dataframe\">\n",
       "  <thead>\n",
       "    <tr style=\"text-align: right;\">\n",
       "      <th></th>\n",
       "      <th>0</th>\n",
       "      <th>0</th>\n",
       "      <th>1</th>\n",
       "      <th>2</th>\n",
       "      <th>3</th>\n",
       "      <th>4</th>\n",
       "    </tr>\n",
       "  </thead>\n",
       "  <tbody>\n",
       "    <tr>\n",
       "      <th>0</th>\n",
       "      <td>0</td>\n",
       "      <td>2.000000</td>\n",
       "      <td>1.000000</td>\n",
       "      <td>60.000000</td>\n",
       "      <td>3.000000</td>\n",
       "      <td>1.414214</td>\n",
       "    </tr>\n",
       "    <tr>\n",
       "      <th>1</th>\n",
       "      <td>0</td>\n",
       "      <td>1.000000</td>\n",
       "      <td>1.000000</td>\n",
       "      <td>55.000000</td>\n",
       "      <td>2.000000</td>\n",
       "      <td>2.000000</td>\n",
       "    </tr>\n",
       "    <tr>\n",
       "      <th>2</th>\n",
       "      <td>0</td>\n",
       "      <td>1.000000</td>\n",
       "      <td>1.000000</td>\n",
       "      <td>33.000000</td>\n",
       "      <td>3.000000</td>\n",
       "      <td>2.449490</td>\n",
       "    </tr>\n",
       "    <tr>\n",
       "      <th>3</th>\n",
       "      <td>0</td>\n",
       "      <td>1.000000</td>\n",
       "      <td>1.000000</td>\n",
       "      <td>47.000000</td>\n",
       "      <td>2.000000</td>\n",
       "      <td>1.732051</td>\n",
       "    </tr>\n",
       "    <tr>\n",
       "      <th>4</th>\n",
       "      <td>0</td>\n",
       "      <td>1.000000</td>\n",
       "      <td>1.000000</td>\n",
       "      <td>40.000000</td>\n",
       "      <td>3.000000</td>\n",
       "      <td>2.000000</td>\n",
       "    </tr>\n",
       "    <tr>\n",
       "      <th>...</th>\n",
       "      <td>...</td>\n",
       "      <td>...</td>\n",
       "      <td>...</td>\n",
       "      <td>...</td>\n",
       "      <td>...</td>\n",
       "      <td>...</td>\n",
       "    </tr>\n",
       "    <tr>\n",
       "      <th>343</th>\n",
       "      <td>1</td>\n",
       "      <td>2.000000</td>\n",
       "      <td>0.587834</td>\n",
       "      <td>66.824331</td>\n",
       "      <td>3.000000</td>\n",
       "      <td>2.324033</td>\n",
       "    </tr>\n",
       "    <tr>\n",
       "      <th>344</th>\n",
       "      <td>1</td>\n",
       "      <td>1.342889</td>\n",
       "      <td>0.828556</td>\n",
       "      <td>41.342889</td>\n",
       "      <td>3.000000</td>\n",
       "      <td>2.195595</td>\n",
       "    </tr>\n",
       "    <tr>\n",
       "      <th>345</th>\n",
       "      <td>1</td>\n",
       "      <td>2.000000</td>\n",
       "      <td>0.000000</td>\n",
       "      <td>62.000000</td>\n",
       "      <td>2.136486</td>\n",
       "      <td>2.167277</td>\n",
       "    </tr>\n",
       "    <tr>\n",
       "      <th>346</th>\n",
       "      <td>1</td>\n",
       "      <td>1.000000</td>\n",
       "      <td>1.000000</td>\n",
       "      <td>52.000000</td>\n",
       "      <td>2.000000</td>\n",
       "      <td>2.236068</td>\n",
       "    </tr>\n",
       "    <tr>\n",
       "      <th>347</th>\n",
       "      <td>1</td>\n",
       "      <td>2.000000</td>\n",
       "      <td>0.403366</td>\n",
       "      <td>62.000000</td>\n",
       "      <td>2.000000</td>\n",
       "      <td>2.140846</td>\n",
       "    </tr>\n",
       "  </tbody>\n",
       "</table>\n",
       "<p>348 rows × 6 columns</p>\n",
       "</div>"
      ],
      "text/plain": [
       "     0         0         1          2         3         4\n",
       "0    0  2.000000  1.000000  60.000000  3.000000  1.414214\n",
       "1    0  1.000000  1.000000  55.000000  2.000000  2.000000\n",
       "2    0  1.000000  1.000000  33.000000  3.000000  2.449490\n",
       "3    0  1.000000  1.000000  47.000000  2.000000  1.732051\n",
       "4    0  1.000000  1.000000  40.000000  3.000000  2.000000\n",
       "..  ..       ...       ...        ...       ...       ...\n",
       "343  1  2.000000  0.587834  66.824331  3.000000  2.324033\n",
       "344  1  1.342889  0.828556  41.342889  3.000000  2.195595\n",
       "345  1  2.000000  0.000000  62.000000  2.136486  2.167277\n",
       "346  1  1.000000  1.000000  52.000000  2.000000  2.236068\n",
       "347  1  2.000000  0.403366  62.000000  2.000000  2.140846\n",
       "\n",
       "[348 rows x 6 columns]"
      ]
     },
     "execution_count": 26,
     "metadata": {},
     "output_type": "execute_result"
    }
   ],
   "source": [
    "df"
   ]
  },
  {
   "cell_type": "code",
   "execution_count": 27,
   "metadata": {},
   "outputs": [],
   "source": [
    "df.columns = columns"
   ]
  },
  {
   "cell_type": "code",
   "execution_count": 28,
   "metadata": {},
   "outputs": [
    {
     "data": {
      "text/html": [
       "<div>\n",
       "<style scoped>\n",
       "    .dataframe tbody tr th:only-of-type {\n",
       "        vertical-align: middle;\n",
       "    }\n",
       "\n",
       "    .dataframe tbody tr th {\n",
       "        vertical-align: top;\n",
       "    }\n",
       "\n",
       "    .dataframe thead th {\n",
       "        text-align: right;\n",
       "    }\n",
       "</style>\n",
       "<table border=\"1\" class=\"dataframe\">\n",
       "  <thead>\n",
       "    <tr style=\"text-align: right;\">\n",
       "      <th></th>\n",
       "      <th>target</th>\n",
       "      <th>tumor size</th>\n",
       "      <th>node status of the tumor</th>\n",
       "      <th>Age of the patient</th>\n",
       "      <th>tumor grade</th>\n",
       "      <th>Score</th>\n",
       "    </tr>\n",
       "  </thead>\n",
       "  <tbody>\n",
       "    <tr>\n",
       "      <th>0</th>\n",
       "      <td>0</td>\n",
       "      <td>2.000000</td>\n",
       "      <td>1.000000</td>\n",
       "      <td>60.000000</td>\n",
       "      <td>3.000000</td>\n",
       "      <td>1.414214</td>\n",
       "    </tr>\n",
       "    <tr>\n",
       "      <th>1</th>\n",
       "      <td>0</td>\n",
       "      <td>1.000000</td>\n",
       "      <td>1.000000</td>\n",
       "      <td>55.000000</td>\n",
       "      <td>2.000000</td>\n",
       "      <td>2.000000</td>\n",
       "    </tr>\n",
       "    <tr>\n",
       "      <th>2</th>\n",
       "      <td>0</td>\n",
       "      <td>1.000000</td>\n",
       "      <td>1.000000</td>\n",
       "      <td>33.000000</td>\n",
       "      <td>3.000000</td>\n",
       "      <td>2.449490</td>\n",
       "    </tr>\n",
       "    <tr>\n",
       "      <th>3</th>\n",
       "      <td>0</td>\n",
       "      <td>1.000000</td>\n",
       "      <td>1.000000</td>\n",
       "      <td>47.000000</td>\n",
       "      <td>2.000000</td>\n",
       "      <td>1.732051</td>\n",
       "    </tr>\n",
       "    <tr>\n",
       "      <th>4</th>\n",
       "      <td>0</td>\n",
       "      <td>1.000000</td>\n",
       "      <td>1.000000</td>\n",
       "      <td>40.000000</td>\n",
       "      <td>3.000000</td>\n",
       "      <td>2.000000</td>\n",
       "    </tr>\n",
       "    <tr>\n",
       "      <th>...</th>\n",
       "      <td>...</td>\n",
       "      <td>...</td>\n",
       "      <td>...</td>\n",
       "      <td>...</td>\n",
       "      <td>...</td>\n",
       "      <td>...</td>\n",
       "    </tr>\n",
       "    <tr>\n",
       "      <th>343</th>\n",
       "      <td>1</td>\n",
       "      <td>2.000000</td>\n",
       "      <td>0.587834</td>\n",
       "      <td>66.824331</td>\n",
       "      <td>3.000000</td>\n",
       "      <td>2.324033</td>\n",
       "    </tr>\n",
       "    <tr>\n",
       "      <th>344</th>\n",
       "      <td>1</td>\n",
       "      <td>1.342889</td>\n",
       "      <td>0.828556</td>\n",
       "      <td>41.342889</td>\n",
       "      <td>3.000000</td>\n",
       "      <td>2.195595</td>\n",
       "    </tr>\n",
       "    <tr>\n",
       "      <th>345</th>\n",
       "      <td>1</td>\n",
       "      <td>2.000000</td>\n",
       "      <td>0.000000</td>\n",
       "      <td>62.000000</td>\n",
       "      <td>2.136486</td>\n",
       "      <td>2.167277</td>\n",
       "    </tr>\n",
       "    <tr>\n",
       "      <th>346</th>\n",
       "      <td>1</td>\n",
       "      <td>1.000000</td>\n",
       "      <td>1.000000</td>\n",
       "      <td>52.000000</td>\n",
       "      <td>2.000000</td>\n",
       "      <td>2.236068</td>\n",
       "    </tr>\n",
       "    <tr>\n",
       "      <th>347</th>\n",
       "      <td>1</td>\n",
       "      <td>2.000000</td>\n",
       "      <td>0.403366</td>\n",
       "      <td>62.000000</td>\n",
       "      <td>2.000000</td>\n",
       "      <td>2.140846</td>\n",
       "    </tr>\n",
       "  </tbody>\n",
       "</table>\n",
       "<p>348 rows × 6 columns</p>\n",
       "</div>"
      ],
      "text/plain": [
       "     target  tumor size  node status of the tumor  Age of the patient  \\\n",
       "0         0    2.000000                  1.000000           60.000000   \n",
       "1         0    1.000000                  1.000000           55.000000   \n",
       "2         0    1.000000                  1.000000           33.000000   \n",
       "3         0    1.000000                  1.000000           47.000000   \n",
       "4         0    1.000000                  1.000000           40.000000   \n",
       "..      ...         ...                       ...                 ...   \n",
       "343       1    2.000000                  0.587834           66.824331   \n",
       "344       1    1.342889                  0.828556           41.342889   \n",
       "345       1    2.000000                  0.000000           62.000000   \n",
       "346       1    1.000000                  1.000000           52.000000   \n",
       "347       1    2.000000                  0.403366           62.000000   \n",
       "\n",
       "     tumor grade     Score  \n",
       "0       3.000000  1.414214  \n",
       "1       2.000000  2.000000  \n",
       "2       3.000000  2.449490  \n",
       "3       2.000000  1.732051  \n",
       "4       3.000000  2.000000  \n",
       "..           ...       ...  \n",
       "343     3.000000  2.324033  \n",
       "344     3.000000  2.195595  \n",
       "345     2.136486  2.167277  \n",
       "346     2.000000  2.236068  \n",
       "347     2.000000  2.140846  \n",
       "\n",
       "[348 rows x 6 columns]"
      ]
     },
     "execution_count": 28,
     "metadata": {},
     "output_type": "execute_result"
    }
   ],
   "source": [
    "df"
   ]
  },
  {
   "cell_type": "code",
   "execution_count": 29,
   "metadata": {},
   "outputs": [
    {
     "data": {
      "text/html": [
       "<style  type=\"text/css\" >\n",
       "    #T_5c1d9b02_944a_11ea_be00_f9b28e0aabc8 th {\n",
       "          text-align: left;\n",
       "    }    #T_5c1d9b02_944a_11ea_be00_f9b28e0aabc8row0_col0 {\n",
       "            text-align:  left;\n",
       "        }    #T_5c1d9b02_944a_11ea_be00_f9b28e0aabc8row0_col1 {\n",
       "            background-color:  yellow;\n",
       "            text-align:  left;\n",
       "        }    #T_5c1d9b02_944a_11ea_be00_f9b28e0aabc8row0_col2 {\n",
       "            : ;\n",
       "            text-align:  left;\n",
       "        }    #T_5c1d9b02_944a_11ea_be00_f9b28e0aabc8row0_col3 {\n",
       "            : ;\n",
       "            text-align:  left;\n",
       "        }    #T_5c1d9b02_944a_11ea_be00_f9b28e0aabc8row0_col4 {\n",
       "            background-color:  yellow;\n",
       "            text-align:  left;\n",
       "        }    #T_5c1d9b02_944a_11ea_be00_f9b28e0aabc8row0_col5 {\n",
       "            : ;\n",
       "            text-align:  left;\n",
       "        }    #T_5c1d9b02_944a_11ea_be00_f9b28e0aabc8row0_col6 {\n",
       "            background-color:  yellow;\n",
       "            text-align:  left;\n",
       "        }    #T_5c1d9b02_944a_11ea_be00_f9b28e0aabc8row1_col0 {\n",
       "            text-align:  left;\n",
       "        }    #T_5c1d9b02_944a_11ea_be00_f9b28e0aabc8row1_col1 {\n",
       "            background-color:  yellow;\n",
       "            text-align:  left;\n",
       "        }    #T_5c1d9b02_944a_11ea_be00_f9b28e0aabc8row1_col2 {\n",
       "            background-color:  yellow;\n",
       "            text-align:  left;\n",
       "        }    #T_5c1d9b02_944a_11ea_be00_f9b28e0aabc8row1_col3 {\n",
       "            background-color:  yellow;\n",
       "            text-align:  left;\n",
       "        }    #T_5c1d9b02_944a_11ea_be00_f9b28e0aabc8row1_col4 {\n",
       "            : ;\n",
       "            text-align:  left;\n",
       "        }    #T_5c1d9b02_944a_11ea_be00_f9b28e0aabc8row1_col5 {\n",
       "            background-color:  yellow;\n",
       "            text-align:  left;\n",
       "        }    #T_5c1d9b02_944a_11ea_be00_f9b28e0aabc8row1_col6 {\n",
       "            : ;\n",
       "            text-align:  left;\n",
       "        }    #T_5c1d9b02_944a_11ea_be00_f9b28e0aabc8row2_col0 {\n",
       "            text-align:  left;\n",
       "        }    #T_5c1d9b02_944a_11ea_be00_f9b28e0aabc8row2_col1 {\n",
       "            : ;\n",
       "            text-align:  left;\n",
       "        }    #T_5c1d9b02_944a_11ea_be00_f9b28e0aabc8row2_col2 {\n",
       "            : ;\n",
       "            text-align:  left;\n",
       "        }    #T_5c1d9b02_944a_11ea_be00_f9b28e0aabc8row2_col3 {\n",
       "            : ;\n",
       "            text-align:  left;\n",
       "        }    #T_5c1d9b02_944a_11ea_be00_f9b28e0aabc8row2_col4 {\n",
       "            : ;\n",
       "            text-align:  left;\n",
       "        }    #T_5c1d9b02_944a_11ea_be00_f9b28e0aabc8row2_col5 {\n",
       "            : ;\n",
       "            text-align:  left;\n",
       "        }    #T_5c1d9b02_944a_11ea_be00_f9b28e0aabc8row2_col6 {\n",
       "            : ;\n",
       "            text-align:  left;\n",
       "        }    #T_5c1d9b02_944a_11ea_be00_f9b28e0aabc8row3_col0 {\n",
       "            text-align:  left;\n",
       "        }    #T_5c1d9b02_944a_11ea_be00_f9b28e0aabc8row3_col1 {\n",
       "            : ;\n",
       "            text-align:  left;\n",
       "        }    #T_5c1d9b02_944a_11ea_be00_f9b28e0aabc8row3_col2 {\n",
       "            : ;\n",
       "            text-align:  left;\n",
       "        }    #T_5c1d9b02_944a_11ea_be00_f9b28e0aabc8row3_col3 {\n",
       "            : ;\n",
       "            text-align:  left;\n",
       "        }    #T_5c1d9b02_944a_11ea_be00_f9b28e0aabc8row3_col4 {\n",
       "            : ;\n",
       "            text-align:  left;\n",
       "        }    #T_5c1d9b02_944a_11ea_be00_f9b28e0aabc8row3_col5 {\n",
       "            : ;\n",
       "            text-align:  left;\n",
       "        }    #T_5c1d9b02_944a_11ea_be00_f9b28e0aabc8row3_col6 {\n",
       "            : ;\n",
       "            text-align:  left;\n",
       "        }    #T_5c1d9b02_944a_11ea_be00_f9b28e0aabc8row4_col0 {\n",
       "            text-align:  left;\n",
       "        }    #T_5c1d9b02_944a_11ea_be00_f9b28e0aabc8row4_col1 {\n",
       "            : ;\n",
       "            text-align:  left;\n",
       "        }    #T_5c1d9b02_944a_11ea_be00_f9b28e0aabc8row4_col2 {\n",
       "            : ;\n",
       "            text-align:  left;\n",
       "        }    #T_5c1d9b02_944a_11ea_be00_f9b28e0aabc8row4_col3 {\n",
       "            : ;\n",
       "            text-align:  left;\n",
       "        }    #T_5c1d9b02_944a_11ea_be00_f9b28e0aabc8row4_col4 {\n",
       "            : ;\n",
       "            text-align:  left;\n",
       "        }    #T_5c1d9b02_944a_11ea_be00_f9b28e0aabc8row4_col5 {\n",
       "            : ;\n",
       "            text-align:  left;\n",
       "        }    #T_5c1d9b02_944a_11ea_be00_f9b28e0aabc8row4_col6 {\n",
       "            : ;\n",
       "            text-align:  left;\n",
       "        }    #T_5c1d9b02_944a_11ea_be00_f9b28e0aabc8row5_col0 {\n",
       "            text-align:  left;\n",
       "        }    #T_5c1d9b02_944a_11ea_be00_f9b28e0aabc8row5_col1 {\n",
       "            : ;\n",
       "            text-align:  left;\n",
       "        }    #T_5c1d9b02_944a_11ea_be00_f9b28e0aabc8row5_col2 {\n",
       "            : ;\n",
       "            text-align:  left;\n",
       "        }    #T_5c1d9b02_944a_11ea_be00_f9b28e0aabc8row5_col3 {\n",
       "            : ;\n",
       "            text-align:  left;\n",
       "        }    #T_5c1d9b02_944a_11ea_be00_f9b28e0aabc8row5_col4 {\n",
       "            : ;\n",
       "            text-align:  left;\n",
       "        }    #T_5c1d9b02_944a_11ea_be00_f9b28e0aabc8row5_col5 {\n",
       "            : ;\n",
       "            text-align:  left;\n",
       "        }    #T_5c1d9b02_944a_11ea_be00_f9b28e0aabc8row5_col6 {\n",
       "            : ;\n",
       "            text-align:  left;\n",
       "        }    #T_5c1d9b02_944a_11ea_be00_f9b28e0aabc8row6_col0 {\n",
       "            text-align:  left;\n",
       "        }    #T_5c1d9b02_944a_11ea_be00_f9b28e0aabc8row6_col1 {\n",
       "            : ;\n",
       "            text-align:  left;\n",
       "        }    #T_5c1d9b02_944a_11ea_be00_f9b28e0aabc8row6_col2 {\n",
       "            : ;\n",
       "            text-align:  left;\n",
       "        }    #T_5c1d9b02_944a_11ea_be00_f9b28e0aabc8row6_col3 {\n",
       "            : ;\n",
       "            text-align:  left;\n",
       "        }    #T_5c1d9b02_944a_11ea_be00_f9b28e0aabc8row6_col4 {\n",
       "            : ;\n",
       "            text-align:  left;\n",
       "        }    #T_5c1d9b02_944a_11ea_be00_f9b28e0aabc8row6_col5 {\n",
       "            : ;\n",
       "            text-align:  left;\n",
       "        }    #T_5c1d9b02_944a_11ea_be00_f9b28e0aabc8row6_col6 {\n",
       "            : ;\n",
       "            text-align:  left;\n",
       "        }    #T_5c1d9b02_944a_11ea_be00_f9b28e0aabc8row7_col0 {\n",
       "            text-align:  left;\n",
       "        }    #T_5c1d9b02_944a_11ea_be00_f9b28e0aabc8row7_col1 {\n",
       "            : ;\n",
       "            text-align:  left;\n",
       "        }    #T_5c1d9b02_944a_11ea_be00_f9b28e0aabc8row7_col2 {\n",
       "            : ;\n",
       "            text-align:  left;\n",
       "        }    #T_5c1d9b02_944a_11ea_be00_f9b28e0aabc8row7_col3 {\n",
       "            : ;\n",
       "            text-align:  left;\n",
       "        }    #T_5c1d9b02_944a_11ea_be00_f9b28e0aabc8row7_col4 {\n",
       "            : ;\n",
       "            text-align:  left;\n",
       "        }    #T_5c1d9b02_944a_11ea_be00_f9b28e0aabc8row7_col5 {\n",
       "            : ;\n",
       "            text-align:  left;\n",
       "        }    #T_5c1d9b02_944a_11ea_be00_f9b28e0aabc8row7_col6 {\n",
       "            : ;\n",
       "            text-align:  left;\n",
       "        }    #T_5c1d9b02_944a_11ea_be00_f9b28e0aabc8row8_col0 {\n",
       "            text-align:  left;\n",
       "        }    #T_5c1d9b02_944a_11ea_be00_f9b28e0aabc8row8_col1 {\n",
       "            : ;\n",
       "            text-align:  left;\n",
       "        }    #T_5c1d9b02_944a_11ea_be00_f9b28e0aabc8row8_col2 {\n",
       "            : ;\n",
       "            text-align:  left;\n",
       "        }    #T_5c1d9b02_944a_11ea_be00_f9b28e0aabc8row8_col3 {\n",
       "            : ;\n",
       "            text-align:  left;\n",
       "        }    #T_5c1d9b02_944a_11ea_be00_f9b28e0aabc8row8_col4 {\n",
       "            : ;\n",
       "            text-align:  left;\n",
       "        }    #T_5c1d9b02_944a_11ea_be00_f9b28e0aabc8row8_col5 {\n",
       "            : ;\n",
       "            text-align:  left;\n",
       "        }    #T_5c1d9b02_944a_11ea_be00_f9b28e0aabc8row8_col6 {\n",
       "            : ;\n",
       "            text-align:  left;\n",
       "        }    #T_5c1d9b02_944a_11ea_be00_f9b28e0aabc8row9_col0 {\n",
       "            text-align:  left;\n",
       "        }    #T_5c1d9b02_944a_11ea_be00_f9b28e0aabc8row9_col1 {\n",
       "            : ;\n",
       "            text-align:  left;\n",
       "        }    #T_5c1d9b02_944a_11ea_be00_f9b28e0aabc8row9_col2 {\n",
       "            : ;\n",
       "            text-align:  left;\n",
       "        }    #T_5c1d9b02_944a_11ea_be00_f9b28e0aabc8row9_col3 {\n",
       "            : ;\n",
       "            text-align:  left;\n",
       "        }    #T_5c1d9b02_944a_11ea_be00_f9b28e0aabc8row9_col4 {\n",
       "            : ;\n",
       "            text-align:  left;\n",
       "        }    #T_5c1d9b02_944a_11ea_be00_f9b28e0aabc8row9_col5 {\n",
       "            : ;\n",
       "            text-align:  left;\n",
       "        }    #T_5c1d9b02_944a_11ea_be00_f9b28e0aabc8row9_col6 {\n",
       "            : ;\n",
       "            text-align:  left;\n",
       "        }    #T_5c1d9b02_944a_11ea_be00_f9b28e0aabc8row10_col0 {\n",
       "            text-align:  left;\n",
       "        }    #T_5c1d9b02_944a_11ea_be00_f9b28e0aabc8row10_col1 {\n",
       "            : ;\n",
       "            text-align:  left;\n",
       "        }    #T_5c1d9b02_944a_11ea_be00_f9b28e0aabc8row10_col2 {\n",
       "            : ;\n",
       "            text-align:  left;\n",
       "        }    #T_5c1d9b02_944a_11ea_be00_f9b28e0aabc8row10_col3 {\n",
       "            : ;\n",
       "            text-align:  left;\n",
       "        }    #T_5c1d9b02_944a_11ea_be00_f9b28e0aabc8row10_col4 {\n",
       "            : ;\n",
       "            text-align:  left;\n",
       "        }    #T_5c1d9b02_944a_11ea_be00_f9b28e0aabc8row10_col5 {\n",
       "            : ;\n",
       "            text-align:  left;\n",
       "        }    #T_5c1d9b02_944a_11ea_be00_f9b28e0aabc8row10_col6 {\n",
       "            : ;\n",
       "            text-align:  left;\n",
       "        }    #T_5c1d9b02_944a_11ea_be00_f9b28e0aabc8row11_col0 {\n",
       "            text-align:  left;\n",
       "        }    #T_5c1d9b02_944a_11ea_be00_f9b28e0aabc8row11_col1 {\n",
       "            : ;\n",
       "            text-align:  left;\n",
       "        }    #T_5c1d9b02_944a_11ea_be00_f9b28e0aabc8row11_col2 {\n",
       "            : ;\n",
       "            text-align:  left;\n",
       "        }    #T_5c1d9b02_944a_11ea_be00_f9b28e0aabc8row11_col3 {\n",
       "            : ;\n",
       "            text-align:  left;\n",
       "        }    #T_5c1d9b02_944a_11ea_be00_f9b28e0aabc8row11_col4 {\n",
       "            : ;\n",
       "            text-align:  left;\n",
       "        }    #T_5c1d9b02_944a_11ea_be00_f9b28e0aabc8row11_col5 {\n",
       "            : ;\n",
       "            text-align:  left;\n",
       "        }    #T_5c1d9b02_944a_11ea_be00_f9b28e0aabc8row11_col6 {\n",
       "            : ;\n",
       "            text-align:  left;\n",
       "        }    #T_5c1d9b02_944a_11ea_be00_f9b28e0aabc8row12_col0 {\n",
       "            text-align:  left;\n",
       "        }    #T_5c1d9b02_944a_11ea_be00_f9b28e0aabc8row12_col1 {\n",
       "            : ;\n",
       "            text-align:  left;\n",
       "        }    #T_5c1d9b02_944a_11ea_be00_f9b28e0aabc8row12_col2 {\n",
       "            : ;\n",
       "            text-align:  left;\n",
       "        }    #T_5c1d9b02_944a_11ea_be00_f9b28e0aabc8row12_col3 {\n",
       "            : ;\n",
       "            text-align:  left;\n",
       "        }    #T_5c1d9b02_944a_11ea_be00_f9b28e0aabc8row12_col4 {\n",
       "            : ;\n",
       "            text-align:  left;\n",
       "        }    #T_5c1d9b02_944a_11ea_be00_f9b28e0aabc8row12_col5 {\n",
       "            : ;\n",
       "            text-align:  left;\n",
       "        }    #T_5c1d9b02_944a_11ea_be00_f9b28e0aabc8row12_col6 {\n",
       "            : ;\n",
       "            text-align:  left;\n",
       "        }    #T_5c1d9b02_944a_11ea_be00_f9b28e0aabc8row13_col0 {\n",
       "            text-align:  left;\n",
       "        }    #T_5c1d9b02_944a_11ea_be00_f9b28e0aabc8row13_col1 {\n",
       "            : ;\n",
       "            text-align:  left;\n",
       "        }    #T_5c1d9b02_944a_11ea_be00_f9b28e0aabc8row13_col2 {\n",
       "            : ;\n",
       "            text-align:  left;\n",
       "        }    #T_5c1d9b02_944a_11ea_be00_f9b28e0aabc8row13_col3 {\n",
       "            : ;\n",
       "            text-align:  left;\n",
       "        }    #T_5c1d9b02_944a_11ea_be00_f9b28e0aabc8row13_col4 {\n",
       "            : ;\n",
       "            text-align:  left;\n",
       "        }    #T_5c1d9b02_944a_11ea_be00_f9b28e0aabc8row13_col5 {\n",
       "            : ;\n",
       "            text-align:  left;\n",
       "        }    #T_5c1d9b02_944a_11ea_be00_f9b28e0aabc8row13_col6 {\n",
       "            : ;\n",
       "            text-align:  left;\n",
       "        }    #T_5c1d9b02_944a_11ea_be00_f9b28e0aabc8row14_col0 {\n",
       "            text-align:  left;\n",
       "        }    #T_5c1d9b02_944a_11ea_be00_f9b28e0aabc8row14_col1 {\n",
       "            : ;\n",
       "            text-align:  left;\n",
       "        }    #T_5c1d9b02_944a_11ea_be00_f9b28e0aabc8row14_col2 {\n",
       "            : ;\n",
       "            text-align:  left;\n",
       "        }    #T_5c1d9b02_944a_11ea_be00_f9b28e0aabc8row14_col3 {\n",
       "            : ;\n",
       "            text-align:  left;\n",
       "        }    #T_5c1d9b02_944a_11ea_be00_f9b28e0aabc8row14_col4 {\n",
       "            : ;\n",
       "            text-align:  left;\n",
       "        }    #T_5c1d9b02_944a_11ea_be00_f9b28e0aabc8row14_col5 {\n",
       "            : ;\n",
       "            text-align:  left;\n",
       "        }    #T_5c1d9b02_944a_11ea_be00_f9b28e0aabc8row14_col6 {\n",
       "            : ;\n",
       "            text-align:  left;\n",
       "        }</style><table id=\"T_5c1d9b02_944a_11ea_be00_f9b28e0aabc8\" ><thead>    <tr>        <th class=\"blank level0\" ></th>        <th class=\"col_heading level0 col0\" >Model</th>        <th class=\"col_heading level0 col1\" >Accuracy</th>        <th class=\"col_heading level0 col2\" >AUC</th>        <th class=\"col_heading level0 col3\" >Recall</th>        <th class=\"col_heading level0 col4\" >Prec.</th>        <th class=\"col_heading level0 col5\" >F1</th>        <th class=\"col_heading level0 col6\" >Kappa</th>    </tr></thead><tbody>\n",
       "                <tr>\n",
       "                        <th id=\"T_5c1d9b02_944a_11ea_be00_f9b28e0aabc8level0_row0\" class=\"row_heading level0 row0\" >0</th>\n",
       "                        <td id=\"T_5c1d9b02_944a_11ea_be00_f9b28e0aabc8row0_col0\" class=\"data row0 col0\" >Random Forest Classifier</td>\n",
       "                        <td id=\"T_5c1d9b02_944a_11ea_be00_f9b28e0aabc8row0_col1\" class=\"data row0 col1\" >0.8927</td>\n",
       "                        <td id=\"T_5c1d9b02_944a_11ea_be00_f9b28e0aabc8row0_col2\" class=\"data row0 col2\" >0.9528</td>\n",
       "                        <td id=\"T_5c1d9b02_944a_11ea_be00_f9b28e0aabc8row0_col3\" class=\"data row0 col3\" >0.85</td>\n",
       "                        <td id=\"T_5c1d9b02_944a_11ea_be00_f9b28e0aabc8row0_col4\" class=\"data row0 col4\" >0.9338</td>\n",
       "                        <td id=\"T_5c1d9b02_944a_11ea_be00_f9b28e0aabc8row0_col5\" class=\"data row0 col5\" >0.8856</td>\n",
       "                        <td id=\"T_5c1d9b02_944a_11ea_be00_f9b28e0aabc8row0_col6\" class=\"data row0 col6\" >0.7854</td>\n",
       "            </tr>\n",
       "            <tr>\n",
       "                        <th id=\"T_5c1d9b02_944a_11ea_be00_f9b28e0aabc8level0_row1\" class=\"row_heading level0 row1\" >1</th>\n",
       "                        <td id=\"T_5c1d9b02_944a_11ea_be00_f9b28e0aabc8row1_col0\" class=\"data row1 col0\" >CatBoost Classifier</td>\n",
       "                        <td id=\"T_5c1d9b02_944a_11ea_be00_f9b28e0aabc8row1_col1\" class=\"data row1 col1\" >0.8927</td>\n",
       "                        <td id=\"T_5c1d9b02_944a_11ea_be00_f9b28e0aabc8row1_col2\" class=\"data row1 col2\" >0.9649</td>\n",
       "                        <td id=\"T_5c1d9b02_944a_11ea_be00_f9b28e0aabc8row1_col3\" class=\"data row1 col3\" >0.9167</td>\n",
       "                        <td id=\"T_5c1d9b02_944a_11ea_be00_f9b28e0aabc8row1_col4\" class=\"data row1 col4\" >0.8758</td>\n",
       "                        <td id=\"T_5c1d9b02_944a_11ea_be00_f9b28e0aabc8row1_col5\" class=\"data row1 col5\" >0.8949</td>\n",
       "                        <td id=\"T_5c1d9b02_944a_11ea_be00_f9b28e0aabc8row1_col6\" class=\"data row1 col6\" >0.7853</td>\n",
       "            </tr>\n",
       "            <tr>\n",
       "                        <th id=\"T_5c1d9b02_944a_11ea_be00_f9b28e0aabc8level0_row2\" class=\"row_heading level0 row2\" >2</th>\n",
       "                        <td id=\"T_5c1d9b02_944a_11ea_be00_f9b28e0aabc8row2_col0\" class=\"data row2 col0\" >Ada Boost Classifier</td>\n",
       "                        <td id=\"T_5c1d9b02_944a_11ea_be00_f9b28e0aabc8row2_col1\" class=\"data row2 col1\" >0.8887</td>\n",
       "                        <td id=\"T_5c1d9b02_944a_11ea_be00_f9b28e0aabc8row2_col2\" class=\"data row2 col2\" >0.9573</td>\n",
       "                        <td id=\"T_5c1d9b02_944a_11ea_be00_f9b28e0aabc8row2_col3\" class=\"data row2 col3\" >0.9006</td>\n",
       "                        <td id=\"T_5c1d9b02_944a_11ea_be00_f9b28e0aabc8row2_col4\" class=\"data row2 col4\" >0.8843</td>\n",
       "                        <td id=\"T_5c1d9b02_944a_11ea_be00_f9b28e0aabc8row2_col5\" class=\"data row2 col5\" >0.8896</td>\n",
       "                        <td id=\"T_5c1d9b02_944a_11ea_be00_f9b28e0aabc8row2_col6\" class=\"data row2 col6\" >0.7773</td>\n",
       "            </tr>\n",
       "            <tr>\n",
       "                        <th id=\"T_5c1d9b02_944a_11ea_be00_f9b28e0aabc8level0_row3\" class=\"row_heading level0 row3\" >3</th>\n",
       "                        <td id=\"T_5c1d9b02_944a_11ea_be00_f9b28e0aabc8row3_col0\" class=\"data row3 col0\" >Extreme Gradient Boosting</td>\n",
       "                        <td id=\"T_5c1d9b02_944a_11ea_be00_f9b28e0aabc8row3_col1\" class=\"data row3 col1\" >0.8847</td>\n",
       "                        <td id=\"T_5c1d9b02_944a_11ea_be00_f9b28e0aabc8row3_col2\" class=\"data row3 col2\" >0.9632</td>\n",
       "                        <td id=\"T_5c1d9b02_944a_11ea_be00_f9b28e0aabc8row3_col3\" class=\"data row3 col3\" >0.909</td>\n",
       "                        <td id=\"T_5c1d9b02_944a_11ea_be00_f9b28e0aabc8row3_col4\" class=\"data row3 col4\" >0.8686</td>\n",
       "                        <td id=\"T_5c1d9b02_944a_11ea_be00_f9b28e0aabc8row3_col5\" class=\"data row3 col5\" >0.8876</td>\n",
       "                        <td id=\"T_5c1d9b02_944a_11ea_be00_f9b28e0aabc8row3_col6\" class=\"data row3 col6\" >0.7694</td>\n",
       "            </tr>\n",
       "            <tr>\n",
       "                        <th id=\"T_5c1d9b02_944a_11ea_be00_f9b28e0aabc8level0_row4\" class=\"row_heading level0 row4\" >4</th>\n",
       "                        <td id=\"T_5c1d9b02_944a_11ea_be00_f9b28e0aabc8row4_col0\" class=\"data row4 col0\" >Decision Tree Classifier</td>\n",
       "                        <td id=\"T_5c1d9b02_944a_11ea_be00_f9b28e0aabc8row4_col1\" class=\"data row4 col1\" >0.8845</td>\n",
       "                        <td id=\"T_5c1d9b02_944a_11ea_be00_f9b28e0aabc8row4_col2\" class=\"data row4 col2\" >0.8839</td>\n",
       "                        <td id=\"T_5c1d9b02_944a_11ea_be00_f9b28e0aabc8row4_col3\" class=\"data row4 col3\" >0.9083</td>\n",
       "                        <td id=\"T_5c1d9b02_944a_11ea_be00_f9b28e0aabc8row4_col4\" class=\"data row4 col4\" >0.8685</td>\n",
       "                        <td id=\"T_5c1d9b02_944a_11ea_be00_f9b28e0aabc8row4_col5\" class=\"data row4 col5\" >0.8868</td>\n",
       "                        <td id=\"T_5c1d9b02_944a_11ea_be00_f9b28e0aabc8row4_col6\" class=\"data row4 col6\" >0.7691</td>\n",
       "            </tr>\n",
       "            <tr>\n",
       "                        <th id=\"T_5c1d9b02_944a_11ea_be00_f9b28e0aabc8level0_row5\" class=\"row_heading level0 row5\" >5</th>\n",
       "                        <td id=\"T_5c1d9b02_944a_11ea_be00_f9b28e0aabc8row5_col0\" class=\"data row5 col0\" >Extra Trees Classifier</td>\n",
       "                        <td id=\"T_5c1d9b02_944a_11ea_be00_f9b28e0aabc8row5_col1\" class=\"data row5 col1\" >0.8803</td>\n",
       "                        <td id=\"T_5c1d9b02_944a_11ea_be00_f9b28e0aabc8row5_col2\" class=\"data row5 col2\" >0.9551</td>\n",
       "                        <td id=\"T_5c1d9b02_944a_11ea_be00_f9b28e0aabc8row5_col3\" class=\"data row5 col3\" >0.9</td>\n",
       "                        <td id=\"T_5c1d9b02_944a_11ea_be00_f9b28e0aabc8row5_col4\" class=\"data row5 col4\" >0.8682</td>\n",
       "                        <td id=\"T_5c1d9b02_944a_11ea_be00_f9b28e0aabc8row5_col5\" class=\"data row5 col5\" >0.8821</td>\n",
       "                        <td id=\"T_5c1d9b02_944a_11ea_be00_f9b28e0aabc8row5_col6\" class=\"data row5 col6\" >0.7607</td>\n",
       "            </tr>\n",
       "            <tr>\n",
       "                        <th id=\"T_5c1d9b02_944a_11ea_be00_f9b28e0aabc8level0_row6\" class=\"row_heading level0 row6\" >6</th>\n",
       "                        <td id=\"T_5c1d9b02_944a_11ea_be00_f9b28e0aabc8row6_col0\" class=\"data row6 col0\" >Light Gradient Boosting Machine</td>\n",
       "                        <td id=\"T_5c1d9b02_944a_11ea_be00_f9b28e0aabc8row6_col1\" class=\"data row6 col1\" >0.8763</td>\n",
       "                        <td id=\"T_5c1d9b02_944a_11ea_be00_f9b28e0aabc8row6_col2\" class=\"data row6 col2\" >0.9512</td>\n",
       "                        <td id=\"T_5c1d9b02_944a_11ea_be00_f9b28e0aabc8row6_col3\" class=\"data row6 col3\" >0.8756</td>\n",
       "                        <td id=\"T_5c1d9b02_944a_11ea_be00_f9b28e0aabc8row6_col4\" class=\"data row6 col4\" >0.8832</td>\n",
       "                        <td id=\"T_5c1d9b02_944a_11ea_be00_f9b28e0aabc8row6_col5\" class=\"data row6 col5\" >0.8753</td>\n",
       "                        <td id=\"T_5c1d9b02_944a_11ea_be00_f9b28e0aabc8row6_col6\" class=\"data row6 col6\" >0.7525</td>\n",
       "            </tr>\n",
       "            <tr>\n",
       "                        <th id=\"T_5c1d9b02_944a_11ea_be00_f9b28e0aabc8level0_row7\" class=\"row_heading level0 row7\" >7</th>\n",
       "                        <td id=\"T_5c1d9b02_944a_11ea_be00_f9b28e0aabc8row7_col0\" class=\"data row7 col0\" >Gradient Boosting Classifier</td>\n",
       "                        <td id=\"T_5c1d9b02_944a_11ea_be00_f9b28e0aabc8row7_col1\" class=\"data row7 col1\" >0.872</td>\n",
       "                        <td id=\"T_5c1d9b02_944a_11ea_be00_f9b28e0aabc8row7_col2\" class=\"data row7 col2\" >0.9481</td>\n",
       "                        <td id=\"T_5c1d9b02_944a_11ea_be00_f9b28e0aabc8row7_col3\" class=\"data row7 col3\" >0.8917</td>\n",
       "                        <td id=\"T_5c1d9b02_944a_11ea_be00_f9b28e0aabc8row7_col4\" class=\"data row7 col4\" >0.8628</td>\n",
       "                        <td id=\"T_5c1d9b02_944a_11ea_be00_f9b28e0aabc8row7_col5\" class=\"data row7 col5\" >0.8743</td>\n",
       "                        <td id=\"T_5c1d9b02_944a_11ea_be00_f9b28e0aabc8row7_col6\" class=\"data row7 col6\" >0.7439</td>\n",
       "            </tr>\n",
       "            <tr>\n",
       "                        <th id=\"T_5c1d9b02_944a_11ea_be00_f9b28e0aabc8level0_row8\" class=\"row_heading level0 row8\" >8</th>\n",
       "                        <td id=\"T_5c1d9b02_944a_11ea_be00_f9b28e0aabc8row8_col0\" class=\"data row8 col0\" >Linear Discriminant Analysis</td>\n",
       "                        <td id=\"T_5c1d9b02_944a_11ea_be00_f9b28e0aabc8row8_col1\" class=\"data row8 col1\" >0.8313</td>\n",
       "                        <td id=\"T_5c1d9b02_944a_11ea_be00_f9b28e0aabc8row8_col2\" class=\"data row8 col2\" >0.8739</td>\n",
       "                        <td id=\"T_5c1d9b02_944a_11ea_be00_f9b28e0aabc8row8_col3\" class=\"data row8 col3\" >0.8513</td>\n",
       "                        <td id=\"T_5c1d9b02_944a_11ea_be00_f9b28e0aabc8row8_col4\" class=\"data row8 col4\" >0.8246</td>\n",
       "                        <td id=\"T_5c1d9b02_944a_11ea_be00_f9b28e0aabc8row8_col5\" class=\"data row8 col5\" >0.8346</td>\n",
       "                        <td id=\"T_5c1d9b02_944a_11ea_be00_f9b28e0aabc8row8_col6\" class=\"data row8 col6\" >0.6631</td>\n",
       "            </tr>\n",
       "            <tr>\n",
       "                        <th id=\"T_5c1d9b02_944a_11ea_be00_f9b28e0aabc8level0_row9\" class=\"row_heading level0 row9\" >9</th>\n",
       "                        <td id=\"T_5c1d9b02_944a_11ea_be00_f9b28e0aabc8row9_col0\" class=\"data row9 col0\" >Ridge Classifier</td>\n",
       "                        <td id=\"T_5c1d9b02_944a_11ea_be00_f9b28e0aabc8row9_col1\" class=\"data row9 col1\" >0.823</td>\n",
       "                        <td id=\"T_5c1d9b02_944a_11ea_be00_f9b28e0aabc8row9_col2\" class=\"data row9 col2\" >0</td>\n",
       "                        <td id=\"T_5c1d9b02_944a_11ea_be00_f9b28e0aabc8row9_col3\" class=\"data row9 col3\" >0.8346</td>\n",
       "                        <td id=\"T_5c1d9b02_944a_11ea_be00_f9b28e0aabc8row9_col4\" class=\"data row9 col4\" >0.8229</td>\n",
       "                        <td id=\"T_5c1d9b02_944a_11ea_be00_f9b28e0aabc8row9_col5\" class=\"data row9 col5\" >0.8248</td>\n",
       "                        <td id=\"T_5c1d9b02_944a_11ea_be00_f9b28e0aabc8row9_col6\" class=\"data row9 col6\" >0.6464</td>\n",
       "            </tr>\n",
       "            <tr>\n",
       "                        <th id=\"T_5c1d9b02_944a_11ea_be00_f9b28e0aabc8level0_row10\" class=\"row_heading level0 row10\" >10</th>\n",
       "                        <td id=\"T_5c1d9b02_944a_11ea_be00_f9b28e0aabc8row10_col0\" class=\"data row10 col0\" >Quadratic Discriminant Analysis</td>\n",
       "                        <td id=\"T_5c1d9b02_944a_11ea_be00_f9b28e0aabc8row10_col1\" class=\"data row10 col1\" >0.8148</td>\n",
       "                        <td id=\"T_5c1d9b02_944a_11ea_be00_f9b28e0aabc8row10_col2\" class=\"data row10 col2\" >0.8642</td>\n",
       "                        <td id=\"T_5c1d9b02_944a_11ea_be00_f9b28e0aabc8row10_col3\" class=\"data row10 col3\" >0.8436</td>\n",
       "                        <td id=\"T_5c1d9b02_944a_11ea_be00_f9b28e0aabc8row10_col4\" class=\"data row10 col4\" >0.8044</td>\n",
       "                        <td id=\"T_5c1d9b02_944a_11ea_be00_f9b28e0aabc8row10_col5\" class=\"data row10 col5\" >0.8184</td>\n",
       "                        <td id=\"T_5c1d9b02_944a_11ea_be00_f9b28e0aabc8row10_col6\" class=\"data row10 col6\" >0.6302</td>\n",
       "            </tr>\n",
       "            <tr>\n",
       "                        <th id=\"T_5c1d9b02_944a_11ea_be00_f9b28e0aabc8level0_row11\" class=\"row_heading level0 row11\" >11</th>\n",
       "                        <td id=\"T_5c1d9b02_944a_11ea_be00_f9b28e0aabc8row11_col0\" class=\"data row11 col0\" >Logistic Regression</td>\n",
       "                        <td id=\"T_5c1d9b02_944a_11ea_be00_f9b28e0aabc8row11_col1\" class=\"data row11 col1\" >0.8107</td>\n",
       "                        <td id=\"T_5c1d9b02_944a_11ea_be00_f9b28e0aabc8row11_col2\" class=\"data row11 col2\" >0.8682</td>\n",
       "                        <td id=\"T_5c1d9b02_944a_11ea_be00_f9b28e0aabc8row11_col3\" class=\"data row11 col3\" >0.8179</td>\n",
       "                        <td id=\"T_5c1d9b02_944a_11ea_be00_f9b28e0aabc8row11_col4\" class=\"data row11 col4\" >0.8123</td>\n",
       "                        <td id=\"T_5c1d9b02_944a_11ea_be00_f9b28e0aabc8row11_col5\" class=\"data row11 col5\" >0.8117</td>\n",
       "                        <td id=\"T_5c1d9b02_944a_11ea_be00_f9b28e0aabc8row11_col6\" class=\"data row11 col6\" >0.6217</td>\n",
       "            </tr>\n",
       "            <tr>\n",
       "                        <th id=\"T_5c1d9b02_944a_11ea_be00_f9b28e0aabc8level0_row12\" class=\"row_heading level0 row12\" >12</th>\n",
       "                        <td id=\"T_5c1d9b02_944a_11ea_be00_f9b28e0aabc8row12_col0\" class=\"data row12 col0\" >Naive Bayes</td>\n",
       "                        <td id=\"T_5c1d9b02_944a_11ea_be00_f9b28e0aabc8row12_col1\" class=\"data row12 col1\" >0.7815</td>\n",
       "                        <td id=\"T_5c1d9b02_944a_11ea_be00_f9b28e0aabc8row12_col2\" class=\"data row12 col2\" >0.8381</td>\n",
       "                        <td id=\"T_5c1d9b02_944a_11ea_be00_f9b28e0aabc8row12_col3\" class=\"data row12 col3\" >0.775</td>\n",
       "                        <td id=\"T_5c1d9b02_944a_11ea_be00_f9b28e0aabc8row12_col4\" class=\"data row12 col4\" >0.785</td>\n",
       "                        <td id=\"T_5c1d9b02_944a_11ea_be00_f9b28e0aabc8row12_col5\" class=\"data row12 col5\" >0.7784</td>\n",
       "                        <td id=\"T_5c1d9b02_944a_11ea_be00_f9b28e0aabc8row12_col6\" class=\"data row12 col6\" >0.5624</td>\n",
       "            </tr>\n",
       "            <tr>\n",
       "                        <th id=\"T_5c1d9b02_944a_11ea_be00_f9b28e0aabc8level0_row13\" class=\"row_heading level0 row13\" >13</th>\n",
       "                        <td id=\"T_5c1d9b02_944a_11ea_be00_f9b28e0aabc8row13_col0\" class=\"data row13 col0\" >K Neighbors Classifier</td>\n",
       "                        <td id=\"T_5c1d9b02_944a_11ea_be00_f9b28e0aabc8row13_col1\" class=\"data row13 col1\" >0.6335</td>\n",
       "                        <td id=\"T_5c1d9b02_944a_11ea_be00_f9b28e0aabc8row13_col2\" class=\"data row13 col2\" >0.7289</td>\n",
       "                        <td id=\"T_5c1d9b02_944a_11ea_be00_f9b28e0aabc8row13_col3\" class=\"data row13 col3\" >0.7763</td>\n",
       "                        <td id=\"T_5c1d9b02_944a_11ea_be00_f9b28e0aabc8row13_col4\" class=\"data row13 col4\" >0.6052</td>\n",
       "                        <td id=\"T_5c1d9b02_944a_11ea_be00_f9b28e0aabc8row13_col5\" class=\"data row13 col5\" >0.6751</td>\n",
       "                        <td id=\"T_5c1d9b02_944a_11ea_be00_f9b28e0aabc8row13_col6\" class=\"data row13 col6\" >0.2663</td>\n",
       "            </tr>\n",
       "            <tr>\n",
       "                        <th id=\"T_5c1d9b02_944a_11ea_be00_f9b28e0aabc8level0_row14\" class=\"row_heading level0 row14\" >14</th>\n",
       "                        <td id=\"T_5c1d9b02_944a_11ea_be00_f9b28e0aabc8row14_col0\" class=\"data row14 col0\" >SVM - Linear Kernel</td>\n",
       "                        <td id=\"T_5c1d9b02_944a_11ea_be00_f9b28e0aabc8row14_col1\" class=\"data row14 col1\" >0.5883</td>\n",
       "                        <td id=\"T_5c1d9b02_944a_11ea_be00_f9b28e0aabc8row14_col2\" class=\"data row14 col2\" >0</td>\n",
       "                        <td id=\"T_5c1d9b02_944a_11ea_be00_f9b28e0aabc8row14_col3\" class=\"data row14 col3\" >0.525</td>\n",
       "                        <td id=\"T_5c1d9b02_944a_11ea_be00_f9b28e0aabc8row14_col4\" class=\"data row14 col4\" >0.3812</td>\n",
       "                        <td id=\"T_5c1d9b02_944a_11ea_be00_f9b28e0aabc8row14_col5\" class=\"data row14 col5\" >0.4279</td>\n",
       "                        <td id=\"T_5c1d9b02_944a_11ea_be00_f9b28e0aabc8row14_col6\" class=\"data row14 col6\" >0.168</td>\n",
       "            </tr>\n",
       "    </tbody></table>"
      ],
      "text/plain": [
       "<pandas.io.formats.style.Styler at 0x7f8b48557090>"
      ]
     },
     "execution_count": 29,
     "metadata": {},
     "output_type": "execute_result"
    }
   ],
   "source": [
    "from pycaret.classification import *\n",
    "clf1 = setup(data = df, target = 'target')\n",
    "# comparing all models\n",
    "compare_models()"
   ]
  },
  {
   "cell_type": "code",
   "execution_count": 30,
   "metadata": {},
   "outputs": [
    {
     "data": {
      "text/html": [
       "<div>\n",
       "<style scoped>\n",
       "    .dataframe tbody tr th:only-of-type {\n",
       "        vertical-align: middle;\n",
       "    }\n",
       "\n",
       "    .dataframe tbody tr th {\n",
       "        vertical-align: top;\n",
       "    }\n",
       "\n",
       "    .dataframe thead th {\n",
       "        text-align: right;\n",
       "    }\n",
       "</style>\n",
       "<table border=\"1\" class=\"dataframe\">\n",
       "  <thead>\n",
       "    <tr style=\"text-align: right;\">\n",
       "      <th></th>\n",
       "      <th>Accuracy</th>\n",
       "      <th>AUC</th>\n",
       "      <th>Recall</th>\n",
       "      <th>Prec.</th>\n",
       "      <th>F1</th>\n",
       "      <th>Kappa</th>\n",
       "    </tr>\n",
       "  </thead>\n",
       "  <tbody>\n",
       "    <tr>\n",
       "      <th>0</th>\n",
       "      <td>0.9200</td>\n",
       "      <td>0.9551</td>\n",
       "      <td>1.0000</td>\n",
       "      <td>0.8667</td>\n",
       "      <td>0.9286</td>\n",
       "      <td>0.8387</td>\n",
       "    </tr>\n",
       "    <tr>\n",
       "      <th>1</th>\n",
       "      <td>0.9200</td>\n",
       "      <td>0.9679</td>\n",
       "      <td>1.0000</td>\n",
       "      <td>0.8667</td>\n",
       "      <td>0.9286</td>\n",
       "      <td>0.8387</td>\n",
       "    </tr>\n",
       "    <tr>\n",
       "      <th>2</th>\n",
       "      <td>0.8400</td>\n",
       "      <td>0.8782</td>\n",
       "      <td>0.8333</td>\n",
       "      <td>0.8333</td>\n",
       "      <td>0.8333</td>\n",
       "      <td>0.6795</td>\n",
       "    </tr>\n",
       "    <tr>\n",
       "      <th>3</th>\n",
       "      <td>0.8750</td>\n",
       "      <td>0.9375</td>\n",
       "      <td>0.8333</td>\n",
       "      <td>0.9091</td>\n",
       "      <td>0.8696</td>\n",
       "      <td>0.7500</td>\n",
       "    </tr>\n",
       "    <tr>\n",
       "      <th>4</th>\n",
       "      <td>0.9167</td>\n",
       "      <td>0.9931</td>\n",
       "      <td>0.9167</td>\n",
       "      <td>0.9167</td>\n",
       "      <td>0.9167</td>\n",
       "      <td>0.8333</td>\n",
       "    </tr>\n",
       "    <tr>\n",
       "      <th>5</th>\n",
       "      <td>0.9167</td>\n",
       "      <td>0.9236</td>\n",
       "      <td>0.8333</td>\n",
       "      <td>1.0000</td>\n",
       "      <td>0.9091</td>\n",
       "      <td>0.8333</td>\n",
       "    </tr>\n",
       "    <tr>\n",
       "      <th>6</th>\n",
       "      <td>0.8333</td>\n",
       "      <td>0.8819</td>\n",
       "      <td>0.6667</td>\n",
       "      <td>1.0000</td>\n",
       "      <td>0.8000</td>\n",
       "      <td>0.6667</td>\n",
       "    </tr>\n",
       "    <tr>\n",
       "      <th>7</th>\n",
       "      <td>0.8333</td>\n",
       "      <td>0.9583</td>\n",
       "      <td>0.9167</td>\n",
       "      <td>0.7857</td>\n",
       "      <td>0.8462</td>\n",
       "      <td>0.6667</td>\n",
       "    </tr>\n",
       "    <tr>\n",
       "      <th>8</th>\n",
       "      <td>0.8333</td>\n",
       "      <td>0.8889</td>\n",
       "      <td>0.7500</td>\n",
       "      <td>0.9000</td>\n",
       "      <td>0.8182</td>\n",
       "      <td>0.6667</td>\n",
       "    </tr>\n",
       "    <tr>\n",
       "      <th>9</th>\n",
       "      <td>0.8750</td>\n",
       "      <td>0.9375</td>\n",
       "      <td>0.9167</td>\n",
       "      <td>0.8462</td>\n",
       "      <td>0.8800</td>\n",
       "      <td>0.7500</td>\n",
       "    </tr>\n",
       "    <tr>\n",
       "      <th>Mean</th>\n",
       "      <td>0.8763</td>\n",
       "      <td>0.9322</td>\n",
       "      <td>0.8667</td>\n",
       "      <td>0.8924</td>\n",
       "      <td>0.8730</td>\n",
       "      <td>0.7524</td>\n",
       "    </tr>\n",
       "    <tr>\n",
       "      <th>SD</th>\n",
       "      <td>0.0373</td>\n",
       "      <td>0.0369</td>\n",
       "      <td>0.1000</td>\n",
       "      <td>0.0651</td>\n",
       "      <td>0.0448</td>\n",
       "      <td>0.0744</td>\n",
       "    </tr>\n",
       "  </tbody>\n",
       "</table>\n",
       "</div>"
      ],
      "text/plain": [
       "      Accuracy     AUC  Recall   Prec.      F1   Kappa\n",
       "0       0.9200  0.9551  1.0000  0.8667  0.9286  0.8387\n",
       "1       0.9200  0.9679  1.0000  0.8667  0.9286  0.8387\n",
       "2       0.8400  0.8782  0.8333  0.8333  0.8333  0.6795\n",
       "3       0.8750  0.9375  0.8333  0.9091  0.8696  0.7500\n",
       "4       0.9167  0.9931  0.9167  0.9167  0.9167  0.8333\n",
       "5       0.9167  0.9236  0.8333  1.0000  0.9091  0.8333\n",
       "6       0.8333  0.8819  0.6667  1.0000  0.8000  0.6667\n",
       "7       0.8333  0.9583  0.9167  0.7857  0.8462  0.6667\n",
       "8       0.8333  0.8889  0.7500  0.9000  0.8182  0.6667\n",
       "9       0.8750  0.9375  0.9167  0.8462  0.8800  0.7500\n",
       "Mean    0.8763  0.9322  0.8667  0.8924  0.8730  0.7524\n",
       "SD      0.0373  0.0369  0.1000  0.0651  0.0448  0.0744"
      ]
     },
     "metadata": {},
     "output_type": "display_data"
    }
   ],
   "source": [
    "from pycaret.classification import *\n",
    "clf1 = setup(data = df, target = 'target')\n",
    "# tuning LightGBM Model\n",
    "tuned_xgboost = tune_model('xgboost')"
   ]
  },
  {
   "cell_type": "code",
   "execution_count": 31,
   "metadata": {},
   "outputs": [
    {
     "data": {
      "text/plain": [
       "XGBClassifier(base_score=0.5, booster='gbtree', colsample_bylevel=1,\n",
       "              colsample_bynode=1, colsample_bytree=0.5, gamma=0,\n",
       "              learning_rate=0.44, max_delta_step=0, max_depth=60,\n",
       "              min_child_weight=3, missing=None, n_estimators=600, n_jobs=-1,\n",
       "              nthread=None, objective='binary:logistic', random_state=976,\n",
       "              reg_alpha=0, reg_lambda=1, scale_pos_weight=1, seed=None,\n",
       "              silent=None, subsample=1, verbosity=0)"
      ]
     },
     "execution_count": 31,
     "metadata": {},
     "output_type": "execute_result"
    }
   ],
   "source": [
    "tuned_xgboost"
   ]
  },
  {
   "cell_type": "code",
   "execution_count": 32,
   "metadata": {},
   "outputs": [
    {
     "data": {
      "text/html": [
       "<div>\n",
       "<style scoped>\n",
       "    .dataframe tbody tr th:only-of-type {\n",
       "        vertical-align: middle;\n",
       "    }\n",
       "\n",
       "    .dataframe tbody tr th {\n",
       "        vertical-align: top;\n",
       "    }\n",
       "\n",
       "    .dataframe thead th {\n",
       "        text-align: right;\n",
       "    }\n",
       "</style>\n",
       "<table border=\"1\" class=\"dataframe\">\n",
       "  <thead>\n",
       "    <tr style=\"text-align: right;\">\n",
       "      <th></th>\n",
       "      <th>Accuracy</th>\n",
       "      <th>AUC</th>\n",
       "      <th>Recall</th>\n",
       "      <th>Prec.</th>\n",
       "      <th>F1</th>\n",
       "      <th>Kappa</th>\n",
       "    </tr>\n",
       "  </thead>\n",
       "  <tbody>\n",
       "    <tr>\n",
       "      <th>0</th>\n",
       "      <td>0.8400</td>\n",
       "      <td>0.9808</td>\n",
       "      <td>0.7692</td>\n",
       "      <td>0.9091</td>\n",
       "      <td>0.8333</td>\n",
       "      <td>0.6815</td>\n",
       "    </tr>\n",
       "    <tr>\n",
       "      <th>1</th>\n",
       "      <td>0.8800</td>\n",
       "      <td>0.9551</td>\n",
       "      <td>0.9231</td>\n",
       "      <td>0.8571</td>\n",
       "      <td>0.8889</td>\n",
       "      <td>0.7588</td>\n",
       "    </tr>\n",
       "    <tr>\n",
       "      <th>2</th>\n",
       "      <td>0.8800</td>\n",
       "      <td>0.9551</td>\n",
       "      <td>0.9167</td>\n",
       "      <td>0.8462</td>\n",
       "      <td>0.8800</td>\n",
       "      <td>0.7604</td>\n",
       "    </tr>\n",
       "    <tr>\n",
       "      <th>3</th>\n",
       "      <td>0.9583</td>\n",
       "      <td>0.9861</td>\n",
       "      <td>1.0000</td>\n",
       "      <td>0.9231</td>\n",
       "      <td>0.9600</td>\n",
       "      <td>0.9167</td>\n",
       "    </tr>\n",
       "    <tr>\n",
       "      <th>4</th>\n",
       "      <td>1.0000</td>\n",
       "      <td>1.0000</td>\n",
       "      <td>1.0000</td>\n",
       "      <td>1.0000</td>\n",
       "      <td>1.0000</td>\n",
       "      <td>1.0000</td>\n",
       "    </tr>\n",
       "    <tr>\n",
       "      <th>5</th>\n",
       "      <td>0.9167</td>\n",
       "      <td>0.9514</td>\n",
       "      <td>0.8333</td>\n",
       "      <td>1.0000</td>\n",
       "      <td>0.9091</td>\n",
       "      <td>0.8333</td>\n",
       "    </tr>\n",
       "    <tr>\n",
       "      <th>6</th>\n",
       "      <td>0.9167</td>\n",
       "      <td>0.9722</td>\n",
       "      <td>0.9167</td>\n",
       "      <td>0.9167</td>\n",
       "      <td>0.9167</td>\n",
       "      <td>0.8333</td>\n",
       "    </tr>\n",
       "    <tr>\n",
       "      <th>7</th>\n",
       "      <td>0.8750</td>\n",
       "      <td>0.8958</td>\n",
       "      <td>0.9167</td>\n",
       "      <td>0.8462</td>\n",
       "      <td>0.8800</td>\n",
       "      <td>0.7500</td>\n",
       "    </tr>\n",
       "    <tr>\n",
       "      <th>8</th>\n",
       "      <td>1.0000</td>\n",
       "      <td>1.0000</td>\n",
       "      <td>1.0000</td>\n",
       "      <td>1.0000</td>\n",
       "      <td>1.0000</td>\n",
       "      <td>1.0000</td>\n",
       "    </tr>\n",
       "    <tr>\n",
       "      <th>9</th>\n",
       "      <td>0.8750</td>\n",
       "      <td>0.9375</td>\n",
       "      <td>0.8333</td>\n",
       "      <td>0.9091</td>\n",
       "      <td>0.8696</td>\n",
       "      <td>0.7500</td>\n",
       "    </tr>\n",
       "    <tr>\n",
       "      <th>Mean</th>\n",
       "      <td>0.9142</td>\n",
       "      <td>0.9634</td>\n",
       "      <td>0.9109</td>\n",
       "      <td>0.9207</td>\n",
       "      <td>0.9138</td>\n",
       "      <td>0.8284</td>\n",
       "    </tr>\n",
       "    <tr>\n",
       "      <th>SD</th>\n",
       "      <td>0.0525</td>\n",
       "      <td>0.0302</td>\n",
       "      <td>0.0749</td>\n",
       "      <td>0.0586</td>\n",
       "      <td>0.0533</td>\n",
       "      <td>0.1049</td>\n",
       "    </tr>\n",
       "  </tbody>\n",
       "</table>\n",
       "</div>"
      ],
      "text/plain": [
       "      Accuracy     AUC  Recall   Prec.      F1   Kappa\n",
       "0       0.8400  0.9808  0.7692  0.9091  0.8333  0.6815\n",
       "1       0.8800  0.9551  0.9231  0.8571  0.8889  0.7588\n",
       "2       0.8800  0.9551  0.9167  0.8462  0.8800  0.7604\n",
       "3       0.9583  0.9861  1.0000  0.9231  0.9600  0.9167\n",
       "4       1.0000  1.0000  1.0000  1.0000  1.0000  1.0000\n",
       "5       0.9167  0.9514  0.8333  1.0000  0.9091  0.8333\n",
       "6       0.9167  0.9722  0.9167  0.9167  0.9167  0.8333\n",
       "7       0.8750  0.8958  0.9167  0.8462  0.8800  0.7500\n",
       "8       1.0000  1.0000  1.0000  1.0000  1.0000  1.0000\n",
       "9       0.8750  0.9375  0.8333  0.9091  0.8696  0.7500\n",
       "Mean    0.9142  0.9634  0.9109  0.9207  0.9138  0.8284\n",
       "SD      0.0525  0.0302  0.0749  0.0586  0.0533  0.1049"
      ]
     },
     "metadata": {},
     "output_type": "display_data"
    }
   ],
   "source": [
    "from pycaret.classification import *\n",
    "clf1 = setup(data = df, target = 'target')\n",
    "# tuning LightGBM Model\n",
    "tuned_rf = tune_model('rf')"
   ]
  },
  {
   "cell_type": "code",
   "execution_count": 33,
   "metadata": {},
   "outputs": [],
   "source": [
    "X_res = df.iloc[:,1:].values\n",
    "y_res = df.iloc[:,0].values"
   ]
  },
  {
   "cell_type": "code",
   "execution_count": 34,
   "metadata": {},
   "outputs": [],
   "source": [
    "X_train, X_test, y_train, y_test = train_test_split(X_res,y_res, test_size=0.2, random_state=42)"
   ]
  },
  {
   "cell_type": "code",
   "execution_count": 35,
   "metadata": {},
   "outputs": [],
   "source": [
    "from sklearn.ensemble import RandomForestClassifier\n",
    "from sklearn.metrics import accuracy_score,confusion_matrix,classification_report"
   ]
  },
  {
   "cell_type": "code",
   "execution_count": 36,
   "metadata": {},
   "outputs": [],
   "source": [
    "model = RandomForestClassifier(bootstrap=True, ccp_alpha=0.0, class_weight=None,\n",
    "                       criterion='gini', max_depth=30, max_features='log2',\n",
    "                       max_leaf_nodes=None, max_samples=None,\n",
    "                       min_impurity_decrease=0.0, min_impurity_split=None,\n",
    "                       min_samples_leaf=1, min_samples_split=2,\n",
    "                       min_weight_fraction_leaf=0.0, n_estimators=60,\n",
    "                       n_jobs=None, oob_score=False, random_state=1575,\n",
    "                       verbose=0, warm_start=False)"
   ]
  },
  {
   "cell_type": "code",
   "execution_count": 37,
   "metadata": {},
   "outputs": [
    {
     "name": "stdout",
     "output_type": "stream",
     "text": [
      "0.9142857142857143\n",
      "[[39  2]\n",
      " [ 4 25]]\n",
      "              precision    recall  f1-score   support\n",
      "\n",
      "           0       0.91      0.95      0.93        41\n",
      "           1       0.93      0.86      0.89        29\n",
      "\n",
      "    accuracy                           0.91        70\n",
      "   macro avg       0.92      0.91      0.91        70\n",
      "weighted avg       0.91      0.91      0.91        70\n",
      "\n"
     ]
    }
   ],
   "source": [
    "model.fit(X_train,y_train)\n",
    "y_pred = model.predict(X_test)\n",
    "print(accuracy_score(y_test,y_pred))\n",
    "print(confusion_matrix(y_test,y_pred))\n",
    "print(classification_report(y_test,y_pred))"
   ]
  },
  {
   "cell_type": "code",
   "execution_count": 38,
   "metadata": {},
   "outputs": [],
   "source": [
    "import xgboost as xgb\n",
    "xgb_model = xgb.XGBClassifier(base_score=0.5, booster='gbtree', colsample_bylevel=1,\n",
    "              colsample_bynode=1, colsample_bytree=0.7, gamma=0,\n",
    "              learning_rate=0.68, max_delta_step=0, max_depth=50,\n",
    "              min_child_weight=1, missing=None, n_estimators=30, n_jobs=-1,\n",
    "              nthread=None, objective='binary:logistic', random_state=3824,\n",
    "              reg_alpha=0, reg_lambda=1, scale_pos_weight=1, seed=None,\n",
    "              silent=None, subsample=0.9, verbosity=0)"
   ]
  },
  {
   "cell_type": "code",
   "execution_count": 39,
   "metadata": {},
   "outputs": [
    {
     "name": "stdout",
     "output_type": "stream",
     "text": [
      "0.9142857142857143\n",
      "[[39  2]\n",
      " [ 4 25]]\n",
      "              precision    recall  f1-score   support\n",
      "\n",
      "           0       0.91      0.95      0.93        41\n",
      "           1       0.93      0.86      0.89        29\n",
      "\n",
      "    accuracy                           0.91        70\n",
      "   macro avg       0.92      0.91      0.91        70\n",
      "weighted avg       0.91      0.91      0.91        70\n",
      "\n"
     ]
    }
   ],
   "source": [
    "xgb_model.fit(X_train,y_train)\n",
    "\n",
    "\n",
    "y_pred = model.predict(X_test)\n",
    "print(accuracy_score(y_test,y_pred))\n",
    "print(confusion_matrix(y_test,y_pred))\n",
    "print(classification_report(y_test,y_pred))"
   ]
  },
  {
   "cell_type": "code",
   "execution_count": null,
   "metadata": {},
   "outputs": [],
   "source": []
  }
 ],
 "metadata": {
  "kernelspec": {
   "display_name": "Python 3",
   "language": "python",
   "name": "python3"
  },
  "language_info": {
   "codemirror_mode": {
    "name": "ipython",
    "version": 3
   },
   "file_extension": ".py",
   "mimetype": "text/x-python",
   "name": "python",
   "nbconvert_exporter": "python",
   "pygments_lexer": "ipython3",
   "version": "3.7.5"
  }
 },
 "nbformat": 4,
 "nbformat_minor": 2
}
